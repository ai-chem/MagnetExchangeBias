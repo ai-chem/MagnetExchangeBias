{
 "cells": [
  {
   "cell_type": "code",
   "execution_count": 75,
   "metadata": {},
   "outputs": [],
   "source": [
    "import pandas as pd\n",
    "import numpy as np\n",
    "import plotly.express as px\n",
    "from scipy import stats\n",
    "from plotly.subplots import make_subplots\n",
    "from matplotlib import pyplot as plt\n",
    "import seaborn as sns\n",
    "from sklearn.impute import SimpleImputer\n",
    "import plotly.graph_objects as go\n",
    "colors = ['#082040', '#175073', '#3285A6', '#B8D0D9', '#6CC5D9']"
   ]
  },
  {
   "cell_type": "code",
   "execution_count": 76,
   "metadata": {},
   "outputs": [],
   "source": [
    "from sklearn.preprocessing import MinMaxScaler\n",
    "from sklearn.preprocessing import StandardScaler"
   ]
  },
  {
   "cell_type": "code",
   "execution_count": 77,
   "metadata": {},
   "outputs": [],
   "source": [
    "import pickle"
   ]
  },
  {
   "cell_type": "code",
   "execution_count": 78,
   "metadata": {},
   "outputs": [],
   "source": [
    "df = pd.read_csv(r'C:\\Users\\Ксения\\Project\\Magnet_Exchange_bias\\data\\Bias_data_2.csv')"
   ]
  },
  {
   "cell_type": "code",
   "execution_count": 79,
   "metadata": {},
   "outputs": [
    {
     "name": "stdout",
     "output_type": "stream",
     "text": [
      "<class 'pandas.core.frame.DataFrame'>\n",
      "RangeIndex: 533 entries, 0 to 532\n",
      "Data columns (total 32 columns):\n",
      " #   Column             Non-Null Count  Dtype  \n",
      "---  ------             --------------  -----  \n",
      " 0   Unnamed: 0.1       533 non-null    int64  \n",
      " 1   volume             533 non-null    float64\n",
      " 2   area               533 non-null    float64\n",
      " 3   Unnamed: 0         533 non-null    int64  \n",
      " 4   c1                 533 non-null    object \n",
      " 5   c2                 322 non-null    object \n",
      " 6   c3                 9 non-null      object \n",
      " 7   chemical_formula   533 non-null    object \n",
      " 8   crystal_structure  533 non-null    int64  \n",
      " 9   z                  509 non-null    float64\n",
      " 10  id                 533 non-null    int64  \n",
      " 11  space_group_shell  533 non-null    int64  \n",
      " 12  structure          533 non-null    object \n",
      " 13  structure_         533 non-null    object \n",
      " 14  formula_combined   533 non-null    object \n",
      " 15  coer_oe            533 non-null    float64\n",
      " 16  exc_bias_oe        533 non-null    float64\n",
      " 17  fc_field_t         533 non-null    float64\n",
      " 18  h_range_max_koe    533 non-null    float64\n",
      " 19  y                  533 non-null    float64\n",
      " 20  mr (emu/g)         533 non-null    float64\n",
      " 21  sat_em_g           533 non-null    float64\n",
      " 22  shape              533 non-null    float64\n",
      " 23  space_group_core   533 non-null    float64\n",
      " 24  temperature_k      533 non-null    float64\n",
      " 25  ver_shift_emu_g    533 non-null    float64\n",
      " 26  x                  533 non-null    float64\n",
      " 27  mass_ratio         533 non-null    int64  \n",
      " 28  sphericity         533 non-null    float64\n",
      " 29  exc_dir            533 non-null    int64  \n",
      " 30  ver_s_dir          533 non-null    int64  \n",
      " 31  mass_ratio_str     533 non-null    object \n",
      "dtypes: float64(16), int64(8), object(8)\n",
      "memory usage: 133.4+ KB\n",
      "None\n"
     ]
    }
   ],
   "source": [
    "print(df.info())"
   ]
  },
  {
   "cell_type": "markdown",
   "metadata": {},
   "source": [
    "Пропуски в ожидемых местах среди целевых пременных пропусков нет"
   ]
  },
  {
   "cell_type": "code",
   "execution_count": 80,
   "metadata": {},
   "outputs": [
    {
     "name": "stdout",
     "output_type": "stream",
     "text": [
      "<class 'pandas.core.frame.DataFrame'>\n",
      "RangeIndex: 533 entries, 0 to 532\n",
      "Data columns (total 32 columns):\n",
      " #   Column             Non-Null Count  Dtype  \n",
      "---  ------             --------------  -----  \n",
      " 0   Unnamed: 0.1       533 non-null    int64  \n",
      " 1   volume             533 non-null    float64\n",
      " 2   area               533 non-null    float64\n",
      " 3   Unnamed: 0         533 non-null    int64  \n",
      " 4   c1                 533 non-null    object \n",
      " 5   c2                 322 non-null    object \n",
      " 6   c3                 9 non-null      object \n",
      " 7   chemical_formula   533 non-null    object \n",
      " 8   crystal_structure  533 non-null    int64  \n",
      " 9   z                  509 non-null    float64\n",
      " 10  id                 533 non-null    int64  \n",
      " 11  space_group_shell  533 non-null    int64  \n",
      " 12  structure          533 non-null    object \n",
      " 13  structure_         533 non-null    object \n",
      " 14  formula_combined   533 non-null    object \n",
      " 15  coer_oe            533 non-null    float64\n",
      " 16  exc_bias_oe        533 non-null    float64\n",
      " 17  fc_field_t         533 non-null    float64\n",
      " 18  h_range_max_koe    533 non-null    float64\n",
      " 19  y                  533 non-null    float64\n",
      " 20  mr (emu/g)         533 non-null    float64\n",
      " 21  sat_em_g           533 non-null    float64\n",
      " 22  shape              533 non-null    float64\n",
      " 23  space_group_core   533 non-null    float64\n",
      " 24  temperature_k      533 non-null    float64\n",
      " 25  ver_shift_emu_g    533 non-null    float64\n",
      " 26  x                  533 non-null    float64\n",
      " 27  mass_ratio         533 non-null    int64  \n",
      " 28  sphericity         533 non-null    float64\n",
      " 29  exc_dir            533 non-null    int64  \n",
      " 30  ver_s_dir          533 non-null    int64  \n",
      " 31  mass_ratio_str     533 non-null    object \n",
      "dtypes: float64(16), int64(8), object(8)\n",
      "memory usage: 133.4+ KB\n",
      "Unnamed: 0.1           0\n",
      "volume                 0\n",
      "area                   0\n",
      "Unnamed: 0             0\n",
      "c1                     0\n",
      "c2                   211\n",
      "c3                   524\n",
      "chemical_formula       0\n",
      "crystal_structure      0\n",
      "z                     24\n",
      "id                     0\n",
      "space_group_shell      0\n",
      "structure              0\n",
      "structure_             0\n",
      "formula_combined       0\n",
      "coer_oe                0\n",
      "exc_bias_oe            0\n",
      "fc_field_t             0\n",
      "h_range_max_koe        0\n",
      "y                      0\n",
      "mr (emu/g)             0\n",
      "sat_em_g               0\n",
      "shape                  0\n",
      "space_group_core       0\n",
      "temperature_k          0\n",
      "ver_shift_emu_g        0\n",
      "x                      0\n",
      "mass_ratio             0\n",
      "sphericity             0\n",
      "exc_dir                0\n",
      "ver_s_dir              0\n",
      "mass_ratio_str         0\n",
      "dtype: int64, (533, 32), None\n"
     ]
    }
   ],
   "source": [
    "print(df.isna().sum(), df.shape, df.info(), sep=', ', end='\\n')"
   ]
  },
  {
   "cell_type": "code",
   "execution_count": 44,
   "metadata": {},
   "outputs": [
    {
     "name": "stdout",
     "output_type": "stream",
     "text": [
      "<class 'pandas.core.frame.DataFrame'>\n",
      "RangeIndex: 533 entries, 0 to 532\n",
      "Data columns (total 23 columns):\n",
      " #   Column             Non-Null Count  Dtype  \n",
      "---  ------             --------------  -----  \n",
      " 0   volume             533 non-null    float64\n",
      " 1   area               533 non-null    float64\n",
      " 2   chemical_formula   533 non-null    object \n",
      " 3   crystal_structure  533 non-null    object \n",
      " 4   z                  509 non-null    float64\n",
      " 5   id                 533 non-null    int64  \n",
      " 6   space_group_shell  533 non-null    int64  \n",
      " 7   structure          533 non-null    object \n",
      " 8   formula_combined   533 non-null    object \n",
      " 9   coer_oe            533 non-null    float64\n",
      " 10  exc_bias_oe        533 non-null    float64\n",
      " 11  fc_field_t         533 non-null    float64\n",
      " 12  h_range_max_koe    533 non-null    float64\n",
      " 13  y                  533 non-null    float64\n",
      " 14  mr (emu/g)         533 non-null    float64\n",
      " 15  sat_em_g           533 non-null    float64\n",
      " 16  shape              533 non-null    float64\n",
      " 17  space_group_core   533 non-null    float64\n",
      " 18  temperature_k      533 non-null    float64\n",
      " 19  ver_shift_emu_g    533 non-null    float64\n",
      " 20  x                  533 non-null    float64\n",
      " 21  mass_ratio         533 non-null    object \n",
      " 22  sphericity         533 non-null    float64\n",
      "dtypes: float64(16), int64(2), object(5)\n",
      "memory usage: 95.9+ KB\n",
      "None\n"
     ]
    }
   ],
   "source": [
    "df = df.drop(columns=['Unnamed: 0.1', 'Unnamed: 0', 'c1', 'c2', 'c3', 'structure_', 'chemical_formula']) # Колонку structure - нужно будет как-то закодировать \n",
    "print(df.info())"
   ]
  },
  {
   "cell_type": "markdown",
   "metadata": {},
   "source": [
    "Столбец structure имеет в себе формулы с структурой формулы ядро/оболочка, поэтому она для модели не будет иметьсмысла, но для интерпритации важна, поэтому совместим её знчаения с колонкой id, которая тоже не несёт никакого знания о наносатицах напрямую. Создадим словарь, где каждый id - structure"
   ]
  },
  {
   "cell_type": "code",
   "execution_count": 45,
   "metadata": {},
   "outputs": [
    {
     "name": "stdout",
     "output_type": "stream",
     "text": [
      "533\n"
     ]
    }
   ],
   "source": [
    "print(len(df['id'].unique())) # Эта колнка состоит только из уникальных значений"
   ]
  },
  {
   "cell_type": "code",
   "execution_count": 46,
   "metadata": {},
   "outputs": [],
   "source": [
    "dict_structure = {} # Словарь для кодирования\n",
    "# Проходимся по каждой строке DataFrame и добавляем в словарь пару id-structure\n",
    "for idx, row in df.iterrows():\n",
    "    dict_structure[row['id']] = row['chemical_formula']\n",
    "\n",
    "# Пример значения id, для которого мы хотим декодировать structure\n",
    "id_value = 123"
   ]
  },
  {
   "cell_type": "code",
   "execution_count": 47,
   "metadata": {},
   "outputs": [],
   "source": [
    "# Сохраняем словарь в файл с помощью pickle(пакет помогает сохранять данные и загружать обратно)\n",
    "with open('dict_structure.pkl', 'wb') as f:\n",
    "    pickle.dump(dict_structure, f)"
   ]
  },
  {
   "cell_type": "code",
   "execution_count": 48,
   "metadata": {},
   "outputs": [
    {
     "name": "stdout",
     "output_type": "stream",
     "text": [
      "['FeO', 'Fe3O4']\n"
     ]
    }
   ],
   "source": [
    "# Проверка\n",
    "decoded_structure = dict_structure[id_value]\n",
    "print(decoded_structure)"
   ]
  },
  {
   "cell_type": "code",
   "execution_count": 49,
   "metadata": {},
   "outputs": [],
   "source": [
    "del df['structure']\n",
    "del df['chemical_formula']"
   ]
  },
  {
   "cell_type": "code",
   "execution_count": 50,
   "metadata": {},
   "outputs": [
    {
     "name": "stdout",
     "output_type": "stream",
     "text": [
      "0        hexagonal, cubic \n",
      "1             cubcic, cube\n",
      "2                    cubic\n",
      "3                    cubic\n",
      "4                    cubic\n",
      "              ...         \n",
      "528    orthorhombic, cubic\n",
      "529    orthorhombic, cubic\n",
      "530    orthorhombic, cubic\n",
      "531    orthorhombic, cubic\n",
      "532    orthorhombic, cubic\n",
      "Name: crystal_structure, Length: 533, dtype: object\n"
     ]
    }
   ],
   "source": [
    "print(df['crystal_structure'])"
   ]
  },
  {
   "cell_type": "code",
   "execution_count": 51,
   "metadata": {},
   "outputs": [
    {
     "name": "stdout",
     "output_type": "stream",
     "text": [
      "['hexagonal, cubic ' 'cubcic, cube' 'cubic' 'orthorhombic' 'cubic, cubic'\n",
      " 'trigonal' 'cubic, trigonal' 'tetragonal' 'cubic, monoclinic'\n",
      " 'cube, cube' 'trigonal, orthorhombic' 'tetragonal, cubic' 'cube'\n",
      " 'cubic, orthorhombic' 'cubic,  cubic' 'triclinic,cubic ' 'hexagonal'\n",
      " 'hexagonal, cubic' 'cubic, tetrahedral' 'cubic ' 'cubic, tetragonal'\n",
      " 'orthorhombic, cubic' 'cubic,  trigonal' 'monoclinic, cubic' 'monoclinic'\n",
      " 'cubic, hexagonal']\n"
     ]
    }
   ],
   "source": [
    "print(df['crystal_structure'].unique()) # Разделиим и стандартизируемм значения, а потом перведём их в цифры и снова склеим"
   ]
  },
  {
   "cell_type": "code",
   "execution_count": 52,
   "metadata": {},
   "outputs": [],
   "source": [
    "dict_crystal_str = {\n",
    "    'triclinic': 1, 'monoclinic': 2, 'orthorhombic': 3,\n",
    "    'tetragonal': 4, 'trigonal': 5, 'hexagonal': 6,\n",
    "    'cubic': 7, 'cube': 7\n",
    "}"
   ]
  },
  {
   "cell_type": "code",
   "execution_count": 53,
   "metadata": {},
   "outputs": [],
   "source": [
    "# Функция для кодирования списка значений в соответствии с словарем\n",
    "def encode_crystal_list(crystal_list):\n",
    "    return [dict_crystal_str[crystal] for crystal in crystal_list]"
   ]
  },
  {
   "cell_type": "code",
   "execution_count": 54,
   "metadata": {},
   "outputs": [],
   "source": [
    "df = df.drop(columns=['crystal_structure', 'formula_combined', 'mass_ratio']) # object"
   ]
  },
  {
   "cell_type": "code",
   "execution_count": 55,
   "metadata": {},
   "outputs": [
    {
     "name": "stdout",
     "output_type": "stream",
     "text": [
      "<class 'pandas.core.frame.DataFrame'>\n",
      "RangeIndex: 533 entries, 0 to 532\n",
      "Data columns (total 18 columns):\n",
      " #   Column             Non-Null Count  Dtype  \n",
      "---  ------             --------------  -----  \n",
      " 0   volume             533 non-null    float64\n",
      " 1   area               533 non-null    float64\n",
      " 2   z                  509 non-null    float64\n",
      " 3   id                 533 non-null    int64  \n",
      " 4   space_group_shell  533 non-null    int64  \n",
      " 5   coer_oe            533 non-null    float64\n",
      " 6   exc_bias_oe        533 non-null    float64\n",
      " 7   fc_field_t         533 non-null    float64\n",
      " 8   h_range_max_koe    533 non-null    float64\n",
      " 9   y                  533 non-null    float64\n",
      " 10  mr (emu/g)         533 non-null    float64\n",
      " 11  sat_em_g           533 non-null    float64\n",
      " 12  shape              533 non-null    float64\n",
      " 13  space_group_core   533 non-null    float64\n",
      " 14  temperature_k      533 non-null    float64\n",
      " 15  ver_shift_emu_g    533 non-null    float64\n",
      " 16  x                  533 non-null    float64\n",
      " 17  sphericity         533 non-null    float64\n",
      "dtypes: float64(16), int64(2)\n",
      "memory usage: 75.1 KB\n",
      "None\n"
     ]
    }
   ],
   "source": [
    "print(df.info())"
   ]
  },
  {
   "cell_type": "code",
   "execution_count": 56,
   "metadata": {},
   "outputs": [
    {
     "data": {
      "image/png": "[encoded data removed]",
      "text/plain": [
       "<Figure size 1000x800 with 2 Axes>"
      ]
     },
     "metadata": {},
     "output_type": "display_data"
    }
   ],
   "source": [
    "correlation_matrix = df.corr()\n",
    "plt.figure(figsize=(10, 8))\n",
    "sns.heatmap(correlation_matrix, annot=True, cmap='coolwarm', fmt=\".2f\", linewidths=0.7)\n",
    "plt.title('Корреляционная матрица признаков')\n",
    "plt.xlabel('Признаки')\n",
    "plt.ylabel('Признаки')\n",
    "plt.show()"
   ]
  },
  {
   "cell_type": "code",
   "execution_count": 57,
   "metadata": {},
   "outputs": [],
   "source": [
    "df['area/volume'] = df['area'] / df['volume']"
   ]
  },
  {
   "cell_type": "code",
   "execution_count": 58,
   "metadata": {},
   "outputs": [],
   "source": [
    "df = df.drop(columns=['x', 'y', 'z', 'area', 'volume']) # Корреляции"
   ]
  },
  {
   "cell_type": "code",
   "execution_count": 59,
   "metadata": {},
   "outputs": [
    {
     "data": {
      "image/png": "[encoded data removed]",
      "text/plain": [
       "<Figure size 1000x800 with 2 Axes>"
      ]
     },
     "metadata": {},
     "output_type": "display_data"
    }
   ],
   "source": [
    "correlation_matrix = df.corr()\n",
    "plt.figure(figsize=(10, 8))\n",
    "sns.heatmap(correlation_matrix, annot=True, cmap='coolwarm', fmt=\".2f\", linewidths=0.7)\n",
    "plt.title('Корреляционная матрица признаков')\n",
    "plt.xlabel('Признаки')\n",
    "plt.ylabel('Признаки')\n",
    "plt.show()"
   ]
  },
  {
   "cell_type": "code",
   "execution_count": 60,
   "metadata": {},
   "outputs": [],
   "source": [
    "import matplotlib.pyplot as plt\n",
    "import plotly.graph_objects as go\n",
    "from plotly.subplots import make_subplots\n",
    "from IPython.display import display"
   ]
  },
  {
   "cell_type": "code",
   "execution_count": 61,
   "metadata": {},
   "outputs": [
    {
     "data": {
      "application/vnd.plotly.v1+json": {
       "config": {
        "plotlyServerURL": "https://plot.ly"
       },
       "data": [
        {
         "alignmentgroup": "True",
         "bingroup": "x",
         "hovertemplate": "exc_bias_oe=%{x}<br>count=%{y}<extra></extra>",
         "legendgroup": "",
         "marker": {
          "color": "#082040",
          "opacity": 0.7,
          "pattern": {
           "shape": ""
          }
         },
         "name": "",
         "nbinsx": 60,
         "offsetgroup": "",
         "orientation": "v",
         "showlegend": false,
         "type": "histogram",
         "x": [
          -1132,
          -406,
          51.34000000000003,
          108.17999999999996,
          8.919999999999959,
          14.379999999999995,
          2.830000000000041,
          0,
          -255,
          -296,
          -344,
          -635,
          0,
          -229,
          -350,
          -502,
          -2157,
          -130,
          -137.00000000000006,
          -38,
          -73,
          -81,
          -109,
          0,
          0,
          0,
          0,
          0,
          0,
          112.78100000000006,
          226.736,
          170,
          169.13099999999997,
          112.77999999999996,
          56.17999999999995,
          90,
          50,
          -142.77999999999997,
          -137.21000000000004,
          -71,
          -346.379,
          -952.57,
          -629.898,
          -519.698,
          -472.1585,
          -278.3,
          -185.144,
          -108.06499999999994,
          -76.83000000000004,
          -440,
          -551.72,
          -551.72,
          -96.76699999999994,
          -1812,
          -7238,
          -93.23059999999998,
          -82.03059999999994,
          -82.03059999999994,
          0,
          -2.5,
          0,
          -719,
          0,
          -2878.5,
          0,
          -329,
          0,
          0,
          0,
          0,
          -329.43,
          145.17999999999995,
          -1600,
          1825,
          -1500,
          1650,
          9.409999999999968,
          -84.70000000000005,
          -71.36000000000001,
          -64.76400000000001,
          5,
          -49.72500000000002,
          -41.96000000000004,
          2.419999999999959,
          2.419999999999959,
          2.419999999999959,
          1.3550000000000182,
          -0.6585000000000036,
          -0.6589999999999918,
          -15,
          -52,
          -70,
          -20,
          -1219.58,
          -1182,
          342.15,
          0,
          0,
          0,
          -0.1000000000000227,
          399.9500000000001,
          49.89999999999998,
          0,
          0,
          0.0499999999999545,
          0.0499999999999545,
          99.95000000000005,
          -0.0499999999999545,
          -1804,
          -781.28,
          -1022,
          -471,
          -2762,
          -2250,
          -583,
          -1190,
          -133,
          -20,
          -1071.526,
          -2188,
          -1600,
          -3500,
          -1000,
          -22459,
          -18003,
          -140.00000000000006,
          -964.9,
          -932,
          -865.6,
          -122.37400000000002,
          -510.4,
          -13,
          -78,
          -650,
          -254,
          -250,
          -2275,
          -2120,
          -800,
          -511.81,
          -1972,
          -1814.6,
          -1350,
          -502,
          -181,
          -79,
          -149.24,
          -30.66999999999996,
          -402.9,
          -1877.782,
          -1877.782,
          -1711.4,
          -2800,
          -2600,
          0,
          0,
          0,
          -3650,
          0,
          0,
          -530.6,
          -906.4,
          -249,
          -94,
          -1335,
          -1318,
          -131.00000000000006,
          -165.23000000000002,
          -1025,
          -113.5,
          -900,
          -2750,
          250,
          984.37,
          -677,
          -812.5,
          -124.13999999999992,
          -123.24,
          -148.59500000000003,
          -183.82,
          -210.53,
          -147.35999999999996,
          -36.60000000000002,
          -26.442000000000007,
          -21.5,
          -1086,
          -575,
          -273,
          -1290,
          -3430,
          -4020,
          -5100,
          -3773.58,
          -5283,
          -5283,
          -147.76,
          -14.700000000000044,
          177.29700000000005,
          -54,
          -7.740000000000009,
          65.56000000000006,
          0.0074999999999363,
          0.0074999999999363,
          1.1073000000000093,
          -4.870000000000118,
          -1.4600000000000364,
          -12.299999999999956,
          -25,
          2560,
          2120,
          180,
          390,
          190,
          110,
          -490,
          -3600,
          5,
          5,
          -20,
          6,
          0,
          -34.375,
          40,
          -100,
          0,
          -284.89200000000005,
          454.5400000000001,
          0,
          -1879,
          -631.7,
          -456.2,
          47.60000000000002,
          0,
          0,
          -2173.9,
          0,
          0,
          0,
          0,
          0,
          0,
          -280,
          -300,
          -300,
          -280,
          45,
          -48,
          24,
          -21,
          10,
          -14,
          -1.5,
          -12,
          -3,
          3,
          -168,
          -520,
          -632,
          0,
          0,
          0,
          0,
          0,
          -827.586,
          0,
          -1355.93,
          0,
          2068.9,
          0,
          0,
          0,
          0,
          2847.4576,
          0,
          0,
          0,
          0,
          0,
          0,
          -22.200000000000045,
          -24.049999999999955,
          -40.779,
          -57.39999999999998,
          -40.75999999999999,
          0.169999999999959,
          -5.2999999999999545,
          1.0220000000000482,
          -22,
          -45,
          -43,
          -62,
          -250,
          -310,
          -570,
          173.89999999999998,
          902,
          -173.89999999999998,
          -902,
          -10.860000000000014,
          -254.052,
          21.840000000000032,
          0.8500000000000227,
          0,
          -86,
          -10.799999999999956,
          -10.700000000000044,
          -32.33000000000004,
          -6.091599999999971,
          1.5744000000000824,
          -70.34199999999998,
          -85.63,
          -77.74000000000001,
          -112.875,
          -22.575000000000045,
          0,
          -30,
          -130,
          -848,
          -800,
          -784,
          -720,
          -640,
          -640,
          -480,
          -473,
          -601.796,
          -433.7,
          -683.824,
          -234.671,
          -91.66499999999996,
          -56,
          -60.14599999999996,
          -180.44600000000003,
          -533.957,
          -578.9,
          81.11000000000001,
          79.29200000000003,
          113.716,
          -871.02,
          -1480.01,
          -159.24,
          -473.62,
          50,
          50,
          50,
          50,
          50,
          50,
          0,
          0,
          0,
          0,
          0,
          0,
          0,
          0,
          -204,
          -254,
          -329.43,
          145.17999999999995,
          -135,
          -161,
          -143.00000000000006,
          0,
          0,
          0,
          -182,
          -126,
          -374,
          -685,
          -182,
          -94,
          -314,
          -685,
          -1304.348,
          1195.65,
          -763,
          -506,
          -379,
          -340.5,
          -178.86900000000003,
          -124.743,
          -179.2,
          -18,
          -108.70600000000002,
          -35.36850000000004,
          0,
          0,
          14,
          -1217,
          -4408,
          -6350,
          0,
          0,
          0,
          0,
          -909,
          726.9999999999999,
          -2083,
          -5121.9692,
          -10414,
          -8514.585999999998,
          -6372.383,
          -5325.26,
          0,
          0,
          0,
          0,
          0,
          0,
          0,
          0,
          0,
          0,
          0,
          0,
          0,
          0,
          -104,
          -183,
          -612,
          -758,
          -584,
          -50,
          -101.54999999999995,
          -127.29500000000009,
          -101.64999999999998,
          -76.25,
          -101,
          -76.89999999999998,
          -50.84500000000003,
          -25.559000000000083,
          -0.1990000000000691,
          -2755.17,
          -918.639,
          -407.967,
          -178.57100000000003,
          -25.200000000000045,
          -76.54999999999995,
          -25.46000000000004,
          -76.5,
          -25.55899999999997,
          -1253.696,
          -1478.24,
          -223.87,
          -13.28200000000004,
          -90,
          -50,
          -2000,
          -833,
          -961.2,
          -280.8268,
          -830,
          -1020,
          -1030,
          -1110,
          -1110,
          0,
          0,
          0,
          0,
          -769,
          -280,
          -147,
          0,
          0,
          0,
          -1115.5800000000002,
          -188.886,
          -300.678,
          -110.77999999999996,
          -305.046,
          -101.80899999999995,
          -1756.75,
          -803.95,
          -211.80650000000003,
          -126.63000000000004,
          -128.52800000000002,
          -43.5,
          0,
          0,
          0,
          -50.68500000000006,
          -253.3855,
          -141.7719999999999,
          -175.635,
          -148.635,
          -162.11950000000002,
          -5753.62,
          -8310.58,
          -9418.761,
          -9573.644,
          -8410.919999999998,
          -1369.513,
          -57.07000000000005,
          0,
          -1375,
          -1125,
          -1125,
          -1175,
          -1000,
          -1050,
          -393.25,
          -213,
          -5653,
          -518,
          -2920,
          -1580,
          -990,
          -153.48000000000002,
          75.87300000000005,
          0,
          76.88999999999999,
          -487.043,
          1662.94,
          1220.4,
          1116.5300000000002,
          1029.63,
          1002.68,
          960.57,
          949.12,
          -1895,
          -1907.9,
          -730,
          -75,
          -820,
          -900,
          -656.76,
          -842.644,
          -1030,
          -1144.5,
          -1452.6,
          -1976.41
         ],
         "xaxis": "x",
         "yaxis": "y"
        },
        {
         "alignmentgroup": "True",
         "box": {
          "visible": true
         },
         "hovertemplate": "exc_bias_oe=%{y}<extra></extra>",
         "legendgroup": "",
         "marker": {
          "color": "#082040"
         },
         "name": "",
         "offsetgroup": "",
         "orientation": "v",
         "scalegroup": "True",
         "showlegend": false,
         "type": "violin",
         "x0": " ",
         "xaxis": "x2",
         "y": [
          -1132,
          -406,
          51.34000000000003,
          108.17999999999996,
          8.919999999999959,
          14.379999999999995,
          2.830000000000041,
          0,
          -255,
          -296,
          -344,
          -635,
          0,
          -229,
          -350,
          -502,
          -2157,
          -130,
          -137.00000000000006,
          -38,
          -73,
          -81,
          -109,
          0,
          0,
          0,
          0,
          0,
          0,
          112.78100000000006,
          226.736,
          170,
          169.13099999999997,
          112.77999999999996,
          56.17999999999995,
          90,
          50,
          -142.77999999999997,
          -137.21000000000004,
          -71,
          -346.379,
          -952.57,
          -629.898,
          -519.698,
          -472.1585,
          -278.3,
          -185.144,
          -108.06499999999994,
          -76.83000000000004,
          -440,
          -551.72,
          -551.72,
          -96.76699999999994,
          -1812,
          -7238,
          -93.23059999999998,
          -82.03059999999994,
          -82.03059999999994,
          0,
          -2.5,
          0,
          -719,
          0,
          -2878.5,
          0,
          -329,
          0,
          0,
          0,
          0,
          -329.43,
          145.17999999999995,
          -1600,
          1825,
          -1500,
          1650,
          9.409999999999968,
          -84.70000000000005,
          -71.36000000000001,
          -64.76400000000001,
          5,
          -49.72500000000002,
          -41.96000000000004,
          2.419999999999959,
          2.419999999999959,
          2.419999999999959,
          1.3550000000000182,
          -0.6585000000000036,
          -0.6589999999999918,
          -15,
          -52,
          -70,
          -20,
          -1219.58,
          -1182,
          342.15,
          0,
          0,
          0,
          -0.1000000000000227,
          399.9500000000001,
          49.89999999999998,
          0,
          0,
          0.0499999999999545,
          0.0499999999999545,
          99.95000000000005,
          -0.0499999999999545,
          -1804,
          -781.28,
          -1022,
          -471,
          -2762,
          -2250,
          -583,
          -1190,
          -133,
          -20,
          -1071.526,
          -2188,
          -1600,
          -3500,
          -1000,
          -22459,
          -18003,
          -140.00000000000006,
          -964.9,
          -932,
          -865.6,
          -122.37400000000002,
          -510.4,
          -13,
          -78,
          -650,
          -254,
          -250,
          -2275,
          -2120,
          -800,
          -511.81,
          -1972,
          -1814.6,
          -1350,
          -502,
          -181,
          -79,
          -149.24,
          -30.66999999999996,
          -402.9,
          -1877.782,
          -1877.782,
          -1711.4,
          -2800,
          -2600,
          0,
          0,
          0,
          -3650,
          0,
          0,
          -530.6,
          -906.4,
          -249,
          -94,
          -1335,
          -1318,
          -131.00000000000006,
          -165.23000000000002,
          -1025,
          -113.5,
          -900,
          -2750,
          250,
          984.37,
          -677,
          -812.5,
          -124.13999999999992,
          -123.24,
          -148.59500000000003,
          -183.82,
          -210.53,
          -147.35999999999996,
          -36.60000000000002,
          -26.442000000000007,
          -21.5,
          -1086,
          -575,
          -273,
          -1290,
          -3430,
          -4020,
          -5100,
          -3773.58,
          -5283,
          -5283,
          -147.76,
          -14.700000000000044,
          177.29700000000005,
          -54,
          -7.740000000000009,
          65.56000000000006,
          0.0074999999999363,
          0.0074999999999363,
          1.1073000000000093,
          -4.870000000000118,
          -1.4600000000000364,
          -12.299999999999956,
          -25,
          2560,
          2120,
          180,
          390,
          190,
          110,
          -490,
          -3600,
          5,
          5,
          -20,
          6,
          0,
          -34.375,
          40,
          -100,
          0,
          -284.89200000000005,
          454.5400000000001,
          0,
          -1879,
          -631.7,
          -456.2,
          47.60000000000002,
          0,
          0,
          -2173.9,
          0,
          0,
          0,
          0,
          0,
          0,
          -280,
          -300,
          -300,
          -280,
          45,
          -48,
          24,
          -21,
          10,
          -14,
          -1.5,
          -12,
          -3,
          3,
          -168,
          -520,
          -632,
          0,
          0,
          0,
          0,
          0,
          -827.586,
          0,
          -1355.93,
          0,
          2068.9,
          0,
          0,
          0,
          0,
          2847.4576,
          0,
          0,
          0,
          0,
          0,
          0,
          -22.200000000000045,
          -24.049999999999955,
          -40.779,
          -57.39999999999998,
          -40.75999999999999,
          0.169999999999959,
          -5.2999999999999545,
          1.0220000000000482,
          -22,
          -45,
          -43,
          -62,
          -250,
          -310,
          -570,
          173.89999999999998,
          902,
          -173.89999999999998,
          -902,
          -10.860000000000014,
          -254.052,
          21.840000000000032,
          0.8500000000000227,
          0,
          -86,
          -10.799999999999956,
          -10.700000000000044,
          -32.33000000000004,
          -6.091599999999971,
          1.5744000000000824,
          -70.34199999999998,
          -85.63,
          -77.74000000000001,
          -112.875,
          -22.575000000000045,
          0,
          -30,
          -130,
          -848,
          -800,
          -784,
          -720,
          -640,
          -640,
          -480,
          -473,
          -601.796,
          -433.7,
          -683.824,
          -234.671,
          -91.66499999999996,
          -56,
          -60.14599999999996,
          -180.44600000000003,
          -533.957,
          -578.9,
          81.11000000000001,
          79.29200000000003,
          113.716,
          -871.02,
          -1480.01,
          -159.24,
          -473.62,
          50,
          50,
          50,
          50,
          50,
          50,
          0,
          0,
          0,
          0,
          0,
          0,
          0,
          0,
          -204,
          -254,
          -329.43,
          145.17999999999995,
          -135,
          -161,
          -143.00000000000006,
          0,
          0,
          0,
          -182,
          -126,
          -374,
          -685,
          -182,
          -94,
          -314,
          -685,
          -1304.348,
          1195.65,
          -763,
          -506,
          -379,
          -340.5,
          -178.86900000000003,
          -124.743,
          -179.2,
          -18,
          -108.70600000000002,
          -35.36850000000004,
          0,
          0,
          14,
          -1217,
          -4408,
          -6350,
          0,
          0,
          0,
          0,
          -909,
          726.9999999999999,
          -2083,
          -5121.9692,
          -10414,
          -8514.585999999998,
          -6372.383,
          -5325.26,
          0,
          0,
          0,
          0,
          0,
          0,
          0,
          0,
          0,
          0,
          0,
          0,
          0,
          0,
          -104,
          -183,
          -612,
          -758,
          -584,
          -50,
          -101.54999999999995,
          -127.29500000000009,
          -101.64999999999998,
          -76.25,
          -101,
          -76.89999999999998,
          -50.84500000000003,
          -25.559000000000083,
          -0.1990000000000691,
          -2755.17,
          -918.639,
          -407.967,
          -178.57100000000003,
          -25.200000000000045,
          -76.54999999999995,
          -25.46000000000004,
          -76.5,
          -25.55899999999997,
          -1253.696,
          -1478.24,
          -223.87,
          -13.28200000000004,
          -90,
          -50,
          -2000,
          -833,
          -961.2,
          -280.8268,
          -830,
          -1020,
          -1030,
          -1110,
          -1110,
          0,
          0,
          0,
          0,
          -769,
          -280,
          -147,
          0,
          0,
          0,
          -1115.5800000000002,
          -188.886,
          -300.678,
          -110.77999999999996,
          -305.046,
          -101.80899999999995,
          -1756.75,
          -803.95,
          -211.80650000000003,
          -126.63000000000004,
          -128.52800000000002,
          -43.5,
          0,
          0,
          0,
          -50.68500000000006,
          -253.3855,
          -141.7719999999999,
          -175.635,
          -148.635,
          -162.11950000000002,
          -5753.62,
          -8310.58,
          -9418.761,
          -9573.644,
          -8410.919999999998,
          -1369.513,
          -57.07000000000005,
          0,
          -1375,
          -1125,
          -1125,
          -1175,
          -1000,
          -1050,
          -393.25,
          -213,
          -5653,
          -518,
          -2920,
          -1580,
          -990,
          -153.48000000000002,
          75.87300000000005,
          0,
          76.88999999999999,
          -487.043,
          1662.94,
          1220.4,
          1116.5300000000002,
          1029.63,
          1002.68,
          960.57,
          949.12,
          -1895,
          -1907.9,
          -730,
          -75,
          -820,
          -900,
          -656.76,
          -842.644,
          -1030,
          -1144.5,
          -1452.6,
          -1976.41
         ],
         "y0": " ",
         "yaxis": "y2"
        }
       ],
       "layout": {
        "annotations": [
         {
          "font": {
           "size": 16
          },
          "showarrow": false,
          "text": "Histogram for exchange bias",
          "x": 0.225,
          "xanchor": "center",
          "xref": "paper",
          "y": 1,
          "yanchor": "bottom",
          "yref": "paper"
         },
         {
          "font": {
           "size": 16
          },
          "showarrow": false,
          "text": "Violin Plot for solubility",
          "x": 0.775,
          "xanchor": "center",
          "xref": "paper",
          "y": 1,
          "yanchor": "bottom",
          "yref": "paper"
         }
        ],
        "showlegend": false,
        "template": {
         "data": {
          "bar": [
           {
            "error_x": {
             "color": "#2a3f5f"
            },
            "error_y": {
             "color": "#2a3f5f"
            },
            "marker": {
             "line": {
              "color": "#E5ECF6",
              "width": 0.5
             },
             "pattern": {
              "fillmode": "overlay",
              "size": 10,
              "solidity": 0.2
             }
            },
            "type": "bar"
           }
          ],
          "barpolar": [
           {
            "marker": {
             "line": {
              "color": "#E5ECF6",
              "width": 0.5
             },
             "pattern": {
              "fillmode": "overlay",
              "size": 10,
              "solidity": 0.2
             }
            },
            "type": "barpolar"
           }
          ],
          "carpet": [
           {
            "aaxis": {
             "endlinecolor": "#2a3f5f",
             "gridcolor": "white",
             "linecolor": "white",
             "minorgridcolor": "white",
             "startlinecolor": "#2a3f5f"
            },
            "baxis": {
             "endlinecolor": "#2a3f5f",
             "gridcolor": "white",
             "linecolor": "white",
             "minorgridcolor": "white",
             "startlinecolor": "#2a3f5f"
            },
            "type": "carpet"
           }
          ],
          "choropleth": [
           {
            "colorbar": {
             "outlinewidth": 0,
             "ticks": ""
            },
            "type": "choropleth"
           }
          ],
          "contour": [
           {
            "colorbar": {
             "outlinewidth": 0,
             "ticks": ""
            },
            "colorscale": [
             [
              0,
              "#0d0887"
             ],
             [
              0.1111111111111111,
              "#46039f"
             ],
             [
              0.2222222222222222,
              "#7201a8"
             ],
             [
              0.3333333333333333,
              "#9c179e"
             ],
             [
              0.4444444444444444,
              "#bd3786"
             ],
             [
              0.5555555555555556,
              "#d8576b"
             ],
             [
              0.6666666666666666,
              "#ed7953"
             ],
             [
              0.7777777777777778,
              "#fb9f3a"
             ],
             [
              0.8888888888888888,
              "#fdca26"
             ],
             [
              1,
              "#f0f921"
             ]
            ],
            "type": "contour"
           }
          ],
          "contourcarpet": [
           {
            "colorbar": {
             "outlinewidth": 0,
             "ticks": ""
            },
            "type": "contourcarpet"
           }
          ],
          "heatmap": [
           {
            "colorbar": {
             "outlinewidth": 0,
             "ticks": ""
            },
            "colorscale": [
             [
              0,
              "#0d0887"
             ],
             [
              0.1111111111111111,
              "#46039f"
             ],
             [
              0.2222222222222222,
              "#7201a8"
             ],
             [
              0.3333333333333333,
              "#9c179e"
             ],
             [
              0.4444444444444444,
              "#bd3786"
             ],
             [
              0.5555555555555556,
              "#d8576b"
             ],
             [
              0.6666666666666666,
              "#ed7953"
             ],
             [
              0.7777777777777778,
              "#fb9f3a"
             ],
             [
              0.8888888888888888,
              "#fdca26"
             ],
             [
              1,
              "#f0f921"
             ]
            ],
            "type": "heatmap"
           }
          ],
          "heatmapgl": [
           {
            "colorbar": {
             "outlinewidth": 0,
             "ticks": ""
            },
            "colorscale": [
             [
              0,
              "#0d0887"
             ],
             [
              0.1111111111111111,
              "#46039f"
             ],
             [
              0.2222222222222222,
              "#7201a8"
             ],
             [
              0.3333333333333333,
              "#9c179e"
             ],
             [
              0.4444444444444444,
              "#bd3786"
             ],
             [
              0.5555555555555556,
              "#d8576b"
             ],
             [
              0.6666666666666666,
              "#ed7953"
             ],
             [
              0.7777777777777778,
              "#fb9f3a"
             ],
             [
              0.8888888888888888,
              "#fdca26"
             ],
             [
              1,
              "#f0f921"
             ]
            ],
            "type": "heatmapgl"
           }
          ],
          "histogram": [
           {
            "marker": {
             "pattern": {
              "fillmode": "overlay",
              "size": 10,
              "solidity": 0.2
             }
            },
            "type": "histogram"
           }
          ],
          "histogram2d": [
           {
            "colorbar": {
             "outlinewidth": 0,
             "ticks": ""
            },
            "colorscale": [
             [
              0,
              "#0d0887"
             ],
             [
              0.1111111111111111,
              "#46039f"
             ],
             [
              0.2222222222222222,
              "#7201a8"
             ],
             [
              0.3333333333333333,
              "#9c179e"
             ],
             [
              0.4444444444444444,
              "#bd3786"
             ],
             [
              0.5555555555555556,
              "#d8576b"
             ],
             [
              0.6666666666666666,
              "#ed7953"
             ],
             [
              0.7777777777777778,
              "#fb9f3a"
             ],
             [
              0.8888888888888888,
              "#fdca26"
             ],
             [
              1,
              "#f0f921"
             ]
            ],
            "type": "histogram2d"
           }
          ],
          "histogram2dcontour": [
           {
            "colorbar": {
             "outlinewidth": 0,
             "ticks": ""
            },
            "colorscale": [
             [
              0,
              "#0d0887"
             ],
             [
              0.1111111111111111,
              "#46039f"
             ],
             [
              0.2222222222222222,
              "#7201a8"
             ],
             [
              0.3333333333333333,
              "#9c179e"
             ],
             [
              0.4444444444444444,
              "#bd3786"
             ],
             [
              0.5555555555555556,
              "#d8576b"
             ],
             [
              0.6666666666666666,
              "#ed7953"
             ],
             [
              0.7777777777777778,
              "#fb9f3a"
             ],
             [
              0.8888888888888888,
              "#fdca26"
             ],
             [
              1,
              "#f0f921"
             ]
            ],
            "type": "histogram2dcontour"
           }
          ],
          "mesh3d": [
           {
            "colorbar": {
             "outlinewidth": 0,
             "ticks": ""
            },
            "type": "mesh3d"
           }
          ],
          "parcoords": [
           {
            "line": {
             "colorbar": {
              "outlinewidth": 0,
              "ticks": ""
             }
            },
            "type": "parcoords"
           }
          ],
          "pie": [
           {
            "automargin": true,
            "type": "pie"
           }
          ],
          "scatter": [
           {
            "fillpattern": {
             "fillmode": "overlay",
             "size": 10,
             "solidity": 0.2
            },
            "type": "scatter"
           }
          ],
          "scatter3d": [
           {
            "line": {
             "colorbar": {
              "outlinewidth": 0,
              "ticks": ""
             }
            },
            "marker": {
             "colorbar": {
              "outlinewidth": 0,
              "ticks": ""
             }
            },
            "type": "scatter3d"
           }
          ],
          "scattercarpet": [
           {
            "marker": {
             "colorbar": {
              "outlinewidth": 0,
              "ticks": ""
             }
            },
            "type": "scattercarpet"
           }
          ],
          "scattergeo": [
           {
            "marker": {
             "colorbar": {
              "outlinewidth": 0,
              "ticks": ""
             }
            },
            "type": "scattergeo"
           }
          ],
          "scattergl": [
           {
            "marker": {
             "colorbar": {
              "outlinewidth": 0,
              "ticks": ""
             }
            },
            "type": "scattergl"
           }
          ],
          "scattermapbox": [
           {
            "marker": {
             "colorbar": {
              "outlinewidth": 0,
              "ticks": ""
             }
            },
            "type": "scattermapbox"
           }
          ],
          "scatterpolar": [
           {
            "marker": {
             "colorbar": {
              "outlinewidth": 0,
              "ticks": ""
             }
            },
            "type": "scatterpolar"
           }
          ],
          "scatterpolargl": [
           {
            "marker": {
             "colorbar": {
              "outlinewidth": 0,
              "ticks": ""
             }
            },
            "type": "scatterpolargl"
           }
          ],
          "scatterternary": [
           {
            "marker": {
             "colorbar": {
              "outlinewidth": 0,
              "ticks": ""
             }
            },
            "type": "scatterternary"
           }
          ],
          "surface": [
           {
            "colorbar": {
             "outlinewidth": 0,
             "ticks": ""
            },
            "colorscale": [
             [
              0,
              "#0d0887"
             ],
             [
              0.1111111111111111,
              "#46039f"
             ],
             [
              0.2222222222222222,
              "#7201a8"
             ],
             [
              0.3333333333333333,
              "#9c179e"
             ],
             [
              0.4444444444444444,
              "#bd3786"
             ],
             [
              0.5555555555555556,
              "#d8576b"
             ],
             [
              0.6666666666666666,
              "#ed7953"
             ],
             [
              0.7777777777777778,
              "#fb9f3a"
             ],
             [
              0.8888888888888888,
              "#fdca26"
             ],
             [
              1,
              "#f0f921"
             ]
            ],
            "type": "surface"
           }
          ],
          "table": [
           {
            "cells": {
             "fill": {
              "color": "#EBF0F8"
             },
             "line": {
              "color": "white"
             }
            },
            "header": {
             "fill": {
              "color": "#C8D4E3"
             },
             "line": {
              "color": "white"
             }
            },
            "type": "table"
           }
          ]
         },
         "layout": {
          "annotationdefaults": {
           "arrowcolor": "#2a3f5f",
           "arrowhead": 0,
           "arrowwidth": 1
          },
          "autotypenumbers": "strict",
          "coloraxis": {
           "colorbar": {
            "outlinewidth": 0,
            "ticks": ""
           }
          },
          "colorscale": {
           "diverging": [
            [
             0,
             "#8e0152"
            ],
            [
             0.1,
             "#c51b7d"
            ],
            [
             0.2,
             "#de77ae"
            ],
            [
             0.3,
             "#f1b6da"
            ],
            [
             0.4,
             "#fde0ef"
            ],
            [
             0.5,
             "#f7f7f7"
            ],
            [
             0.6,
             "#e6f5d0"
            ],
            [
             0.7,
             "#b8e186"
            ],
            [
             0.8,
             "#7fbc41"
            ],
            [
             0.9,
             "#4d9221"
            ],
            [
             1,
             "#276419"
            ]
           ],
           "sequential": [
            [
             0,
             "#0d0887"
            ],
            [
             0.1111111111111111,
             "#46039f"
            ],
            [
             0.2222222222222222,
             "#7201a8"
            ],
            [
             0.3333333333333333,
             "#9c179e"
            ],
            [
             0.4444444444444444,
             "#bd3786"
            ],
            [
             0.5555555555555556,
             "#d8576b"
            ],
            [
             0.6666666666666666,
             "#ed7953"
            ],
            [
             0.7777777777777778,
             "#fb9f3a"
            ],
            [
             0.8888888888888888,
             "#fdca26"
            ],
            [
             1,
             "#f0f921"
            ]
           ],
           "sequentialminus": [
            [
             0,
             "#0d0887"
            ],
            [
             0.1111111111111111,
             "#46039f"
            ],
            [
             0.2222222222222222,
             "#7201a8"
            ],
            [
             0.3333333333333333,
             "#9c179e"
            ],
            [
             0.4444444444444444,
             "#bd3786"
            ],
            [
             0.5555555555555556,
             "#d8576b"
            ],
            [
             0.6666666666666666,
             "#ed7953"
            ],
            [
             0.7777777777777778,
             "#fb9f3a"
            ],
            [
             0.8888888888888888,
             "#fdca26"
            ],
            [
             1,
             "#f0f921"
            ]
           ]
          },
          "colorway": [
           "#636efa",
           "#EF553B",
           "#00cc96",
           "#ab63fa",
           "#FFA15A",
           "#19d3f3",
           "#FF6692",
           "#B6E880",
           "#FF97FF",
           "#FECB52"
          ],
          "font": {
           "color": "#2a3f5f"
          },
          "geo": {
           "bgcolor": "white",
           "lakecolor": "white",
           "landcolor": "#E5ECF6",
           "showlakes": true,
           "showland": true,
           "subunitcolor": "white"
          },
          "hoverlabel": {
           "align": "left"
          },
          "hovermode": "closest",
          "mapbox": {
           "style": "light"
          },
          "paper_bgcolor": "white",
          "plot_bgcolor": "#E5ECF6",
          "polar": {
           "angularaxis": {
            "gridcolor": "white",
            "linecolor": "white",
            "ticks": ""
           },
           "bgcolor": "#E5ECF6",
           "radialaxis": {
            "gridcolor": "white",
            "linecolor": "white",
            "ticks": ""
           }
          },
          "scene": {
           "xaxis": {
            "backgroundcolor": "#E5ECF6",
            "gridcolor": "white",
            "gridwidth": 2,
            "linecolor": "white",
            "showbackground": true,
            "ticks": "",
            "zerolinecolor": "white"
           },
           "yaxis": {
            "backgroundcolor": "#E5ECF6",
            "gridcolor": "white",
            "gridwidth": 2,
            "linecolor": "white",
            "showbackground": true,
            "ticks": "",
            "zerolinecolor": "white"
           },
           "zaxis": {
            "backgroundcolor": "#E5ECF6",
            "gridcolor": "white",
            "gridwidth": 2,
            "linecolor": "white",
            "showbackground": true,
            "ticks": "",
            "zerolinecolor": "white"
           }
          },
          "shapedefaults": {
           "line": {
            "color": "#2a3f5f"
           }
          },
          "ternary": {
           "aaxis": {
            "gridcolor": "white",
            "linecolor": "white",
            "ticks": ""
           },
           "baxis": {
            "gridcolor": "white",
            "linecolor": "white",
            "ticks": ""
           },
           "bgcolor": "#E5ECF6",
           "caxis": {
            "gridcolor": "white",
            "linecolor": "white",
            "ticks": ""
           }
          },
          "title": {
           "x": 0.05
          },
          "xaxis": {
           "automargin": true,
           "gridcolor": "white",
           "linecolor": "white",
           "ticks": "",
           "title": {
            "standoff": 15
           },
           "zerolinecolor": "white",
           "zerolinewidth": 2
          },
          "yaxis": {
           "automargin": true,
           "gridcolor": "white",
           "linecolor": "white",
           "ticks": "",
           "title": {
            "standoff": 15
           },
           "zerolinecolor": "white",
           "zerolinewidth": 2
          }
         }
        },
        "title": {
         "text": "Pic for exchange bias"
        },
        "xaxis": {
         "anchor": "y",
         "domain": [
          0,
          0.45
         ]
        },
        "xaxis2": {
         "anchor": "y2",
         "domain": [
          0.55,
          1
         ]
        },
        "yaxis": {
         "anchor": "x",
         "domain": [
          0,
          1
         ]
        },
        "yaxis2": {
         "anchor": "x2",
         "domain": [
          0,
          1
         ]
        }
       }
      }
     },
     "metadata": {},
     "output_type": "display_data"
    }
   ],
   "source": [
    "#Построим график распределения целевой переменной\n",
    "fig = make_subplots(rows=1, cols=2, subplot_titles=['Histogram for exchange bias', 'Violin Plot for solubility'])\n",
    "\n",
    "# Histogram\n",
    "hist_fig = px.histogram(df, x=\"exc_bias_oe\", nbins = 60,\n",
    "                 color_discrete_sequence = colors,\n",
    "                 opacity = 0.7)\n",
    "\n",
    "fig.add_trace(hist_fig['data'][0], row=1, col=1) # Adding a graph indicating the location\n",
    "\n",
    "# Violin plot\n",
    "violin_fig = px.violin(df, y=\"exc_bias_oe\", color_discrete_sequence = colors, box = True)\n",
    "fig.add_trace(violin_fig['data'][0], row=1, col=2) # Adding a graph indicating the location\n",
    "\n",
    "# Setting up the layout\n",
    "fig.update_layout(showlegend=False, title_text=\"Pic for exchange bias\")\n",
    "\n",
    "# Graph display\n",
    "display(fig)"
   ]
  },
  {
   "cell_type": "code",
   "execution_count": 62,
   "metadata": {},
   "outputs": [
    {
     "data": {
      "image/png": "[encoded data removed]",
      "text/plain": [
       "<Figure size 800x600 with 1 Axes>"
      ]
     },
     "metadata": {},
     "output_type": "display_data"
    }
   ],
   "source": [
    "plt.figure(figsize=(8, 6)) # Создание ящика с усами для столбца 'exc_bias_oe'\n",
    "sns.boxplot(x=df['exc_bias_oe'])\n",
    "plt.xlabel('gap', fontsize=14) # Добавление названия оси x\n",
    "plt.show()"
   ]
  },
  {
   "cell_type": "code",
   "execution_count": 63,
   "metadata": {},
   "outputs": [
    {
     "name": "stdout",
     "output_type": "stream",
     "text": [
      "Индексы выбросов: [ 16  53  54  63  72  73  75 108 112 113 119 120 121 123 124 136 137 140\n",
      " 141 149 150 151 152 153 157 171 173 189 190 191 192 193 194 208 209 215\n",
      " 228 234 267 272 375 390 391 398 399 400 401 402 403 433 448 473 488 489\n",
      " 490 491 492 504 506 507 514 515 516 517 518 519 520 521 522 532]\n",
      "Значения выбросов: [-2157.0, -1812.0, -7238.0, -2878.5, -1600.0, 1825.0, 1650.0, -1804.0, -2762.0, -2250.0, -2188.0, -1600.0, -3500.0, -22459.0, -18003.0, -2275.0, -2120.0, -1972.0, -1814.6, -1877.782, -1877.782, -1711.4, -2800.0, -2600.0, -3650.0, -2750.0, 984.37, -3430.0, -4020.0, -5100.0, -3773.58, -5283.0, -5283.0, 2560.0, 2120.0, -3600.0, -1879.0, -2173.9, 2068.9, 2847.4576, 1195.65, -4408.0, -6350.0, -2083.0, -5121.9692, -10414.0, -8514.585999999998, -6372.383, -5325.26, -2755.17, -2000.0, -1756.75, -5753.62, -8310.58, -9418.761, -9573.644, -8410.919999999998, -5653.0, -2920.0, -1580.0, 1662.94, 1220.4, 1116.5300000000002, 1029.63, 1002.68, 960.57, 949.12, -1895.0, -1907.9, -1976.41]\n"
     ]
    }
   ],
   "source": [
    "#Ещё посмотрим с помощью интерквартального расстояния, так будет понятней, значения за первым и 3 квартилям будут выбросами\n",
    "def detect_outliers_iqr(data, threshold=1.5):\n",
    "    \"\"\"\n",
    "    Detect outliers using the Interquartile Range (IQR) method.\n",
    "\n",
    "    Parameters:\n",
    "        data (array-like): Input data.\n",
    "        threshold (float): Multiplier for the IQR to determine the outlier cutoff.\n",
    "\n",
    "    Returns:\n",
    "        outliers (array-like): Array containing the indices of outlier data points.\n",
    "    \"\"\"\n",
    "    quartile_1, quartile_3 = np.percentile(data, [25, 75])\n",
    "    iqr = quartile_3 - quartile_1\n",
    "    lower_bound = quartile_1 - (threshold * iqr)\n",
    "    upper_bound = quartile_3 + (threshold * iqr)\n",
    "    outliers = np.where((data < lower_bound) | (data > upper_bound))[0]\n",
    "    return outliers\n",
    "\n",
    "# Example usage:\n",
    "outliers = detect_outliers_iqr(df['exc_bias_oe'])\n",
    "print(\"Индексы выбросов:\", outliers)\n",
    "print(\"Значения выбросов:\", [df['exc_bias_oe'][i] for i in outliers])"
   ]
  },
  {
   "cell_type": "code",
   "execution_count": 64,
   "metadata": {},
   "outputs": [
    {
     "data": {
      "application/vnd.plotly.v1+json": {
       "config": {
        "plotlyServerURL": "https://plot.ly"
       },
       "data": [
        {
         "marker": {
          "color": "#3285A6"
         },
         "mode": "markers",
         "name": "Data Points",
         "type": "scatter",
         "x": [
          0,
          1,
          2,
          3,
          4,
          5,
          6,
          7,
          8,
          9,
          10,
          11,
          12,
          13,
          14,
          15,
          16,
          17,
          18,
          19,
          20,
          21,
          22,
          23,
          24,
          25,
          26,
          27,
          28,
          29,
          30,
          31,
          32,
          33,
          34,
          35,
          36,
          37,
          38,
          39,
          40,
          41,
          42,
          43,
          44,
          45,
          46,
          47,
          48,
          49,
          50,
          51,
          52,
          53,
          54,
          55,
          56,
          57,
          58,
          59,
          60,
          61,
          62,
          63,
          64,
          65,
          66,
          67,
          68,
          69,
          70,
          71,
          72,
          73,
          74,
          75,
          76,
          77,
          78,
          79,
          80,
          81,
          82,
          83,
          84,
          85,
          86,
          87,
          88,
          89,
          90,
          91,
          92,
          93,
          94,
          95,
          96,
          97,
          98,
          99,
          100,
          101,
          102,
          103,
          104,
          105,
          106,
          107,
          108,
          109,
          110,
          111,
          112,
          113,
          114,
          115,
          116,
          117,
          118,
          119,
          120,
          121,
          122,
          123,
          124,
          125,
          126,
          127,
          128,
          129,
          130,
          131,
          132,
          133,
          134,
          135,
          136,
          137,
          138,
          139,
          140,
          141,
          142,
          143,
          144,
          145,
          146,
          147,
          148,
          149,
          150,
          151,
          152,
          153,
          154,
          155,
          156,
          157,
          158,
          159,
          160,
          161,
          162,
          163,
          164,
          165,
          166,
          167,
          168,
          169,
          170,
          171,
          172,
          173,
          174,
          175,
          176,
          177,
          178,
          179,
          180,
          181,
          182,
          183,
          184,
          185,
          186,
          187,
          188,
          189,
          190,
          191,
          192,
          193,
          194,
          195,
          196,
          197,
          198,
          199,
          200,
          201,
          202,
          203,
          204,
          205,
          206,
          207,
          208,
          209,
          210,
          211,
          212,
          213,
          214,
          215,
          216,
          217,
          218,
          219,
          220,
          221,
          222,
          223,
          224,
          225,
          226,
          227,
          228,
          229,
          230,
          231,
          232,
          233,
          234,
          235,
          236,
          237,
          238,
          239,
          240,
          241,
          242,
          243,
          244,
          245,
          246,
          247,
          248,
          249,
          250,
          251,
          252,
          253,
          254,
          255,
          256,
          257,
          258,
          259,
          260,
          261,
          262,
          263,
          264,
          265,
          266,
          267,
          268,
          269,
          270,
          271,
          272,
          273,
          274,
          275,
          276,
          277,
          278,
          279,
          280,
          281,
          282,
          283,
          284,
          285,
          286,
          287,
          288,
          289,
          290,
          291,
          292,
          293,
          294,
          295,
          296,
          297,
          298,
          299,
          300,
          301,
          302,
          303,
          304,
          305,
          306,
          307,
          308,
          309,
          310,
          311,
          312,
          313,
          314,
          315,
          316,
          317,
          318,
          319,
          320,
          321,
          322,
          323,
          324,
          325,
          326,
          327,
          328,
          329,
          330,
          331,
          332,
          333,
          334,
          335,
          336,
          337,
          338,
          339,
          340,
          341,
          342,
          343,
          344,
          345,
          346,
          347,
          348,
          349,
          350,
          351,
          352,
          353,
          354,
          355,
          356,
          357,
          358,
          359,
          360,
          361,
          362,
          363,
          364,
          365,
          366,
          367,
          368,
          369,
          370,
          371,
          372,
          373,
          374,
          375,
          376,
          377,
          378,
          379,
          380,
          381,
          382,
          383,
          384,
          385,
          386,
          387,
          388,
          389,
          390,
          391,
          392,
          393,
          394,
          395,
          396,
          397,
          398,
          399,
          400,
          401,
          402,
          403,
          404,
          405,
          406,
          407,
          408,
          409,
          410,
          411,
          412,
          413,
          414,
          415,
          416,
          417,
          418,
          419,
          420,
          421,
          422,
          423,
          424,
          425,
          426,
          427,
          428,
          429,
          430,
          431,
          432,
          433,
          434,
          435,
          436,
          437,
          438,
          439,
          440,
          441,
          442,
          443,
          444,
          445,
          446,
          447,
          448,
          449,
          450,
          451,
          452,
          453,
          454,
          455,
          456,
          457,
          458,
          459,
          460,
          461,
          462,
          463,
          464,
          465,
          466,
          467,
          468,
          469,
          470,
          471,
          472,
          473,
          474,
          475,
          476,
          477,
          478,
          479,
          480,
          481,
          482,
          483,
          484,
          485,
          486,
          487,
          488,
          489,
          490,
          491,
          492,
          493,
          494,
          495,
          496,
          497,
          498,
          499,
          500,
          501,
          502,
          503,
          504,
          505,
          506,
          507,
          508,
          509,
          510,
          511,
          512,
          513,
          514,
          515,
          516,
          517,
          518,
          519,
          520,
          521,
          522,
          523,
          524,
          525,
          526,
          527,
          528,
          529,
          530,
          531,
          532
         ],
         "y": [
          -1132,
          -406,
          51.34000000000003,
          108.17999999999996,
          8.919999999999959,
          14.379999999999995,
          2.830000000000041,
          0,
          -255,
          -296,
          -344,
          -635,
          0,
          -229,
          -350,
          -502,
          -2157,
          -130,
          -137.00000000000006,
          -38,
          -73,
          -81,
          -109,
          0,
          0,
          0,
          0,
          0,
          0,
          112.78100000000006,
          226.736,
          170,
          169.13099999999997,
          112.77999999999996,
          56.17999999999995,
          90,
          50,
          -142.77999999999997,
          -137.21000000000004,
          -71,
          -346.379,
          -952.57,
          -629.898,
          -519.698,
          -472.1585,
          -278.3,
          -185.144,
          -108.06499999999994,
          -76.83000000000004,
          -440,
          -551.72,
          -551.72,
          -96.76699999999994,
          -1812,
          -7238,
          -93.23059999999998,
          -82.03059999999994,
          -82.03059999999994,
          0,
          -2.5,
          0,
          -719,
          0,
          -2878.5,
          0,
          -329,
          0,
          0,
          0,
          0,
          -329.43,
          145.17999999999995,
          -1600,
          1825,
          -1500,
          1650,
          9.409999999999968,
          -84.70000000000005,
          -71.36000000000001,
          -64.76400000000001,
          5,
          -49.72500000000002,
          -41.96000000000004,
          2.419999999999959,
          2.419999999999959,
          2.419999999999959,
          1.3550000000000182,
          -0.6585000000000036,
          -0.6589999999999918,
          -15,
          -52,
          -70,
          -20,
          -1219.58,
          -1182,
          342.15,
          0,
          0,
          0,
          -0.1000000000000227,
          399.9500000000001,
          49.89999999999998,
          0,
          0,
          0.0499999999999545,
          0.0499999999999545,
          99.95000000000005,
          -0.0499999999999545,
          -1804,
          -781.28,
          -1022,
          -471,
          -2762,
          -2250,
          -583,
          -1190,
          -133,
          -20,
          -1071.526,
          -2188,
          -1600,
          -3500,
          -1000,
          -22459,
          -18003,
          -140.00000000000006,
          -964.9,
          -932,
          -865.6,
          -122.37400000000002,
          -510.4,
          -13,
          -78,
          -650,
          -254,
          -250,
          -2275,
          -2120,
          -800,
          -511.81,
          -1972,
          -1814.6,
          -1350,
          -502,
          -181,
          -79,
          -149.24,
          -30.66999999999996,
          -402.9,
          -1877.782,
          -1877.782,
          -1711.4,
          -2800,
          -2600,
          0,
          0,
          0,
          -3650,
          0,
          0,
          -530.6,
          -906.4,
          -249,
          -94,
          -1335,
          -1318,
          -131.00000000000006,
          -165.23000000000002,
          -1025,
          -113.5,
          -900,
          -2750,
          250,
          984.37,
          -677,
          -812.5,
          -124.13999999999992,
          -123.24,
          -148.59500000000003,
          -183.82,
          -210.53,
          -147.35999999999996,
          -36.60000000000002,
          -26.442000000000007,
          -21.5,
          -1086,
          -575,
          -273,
          -1290,
          -3430,
          -4020,
          -5100,
          -3773.58,
          -5283,
          -5283,
          -147.76,
          -14.700000000000044,
          177.29700000000005,
          -54,
          -7.740000000000009,
          65.56000000000006,
          0.0074999999999363,
          0.0074999999999363,
          1.1073000000000093,
          -4.870000000000118,
          -1.4600000000000364,
          -12.299999999999956,
          -25,
          2560,
          2120,
          180,
          390,
          190,
          110,
          -490,
          -3600,
          5,
          5,
          -20,
          6,
          0,
          -34.375,
          40,
          -100,
          0,
          -284.89200000000005,
          454.5400000000001,
          0,
          -1879,
          -631.7,
          -456.2,
          47.60000000000002,
          0,
          0,
          -2173.9,
          0,
          0,
          0,
          0,
          0,
          0,
          -280,
          -300,
          -300,
          -280,
          45,
          -48,
          24,
          -21,
          10,
          -14,
          -1.5,
          -12,
          -3,
          3,
          -168,
          -520,
          -632,
          0,
          0,
          0,
          0,
          0,
          -827.586,
          0,
          -1355.93,
          0,
          2068.9,
          0,
          0,
          0,
          0,
          2847.4576,
          0,
          0,
          0,
          0,
          0,
          0,
          -22.200000000000045,
          -24.049999999999955,
          -40.779,
          -57.39999999999998,
          -40.75999999999999,
          0.169999999999959,
          -5.2999999999999545,
          1.0220000000000482,
          -22,
          -45,
          -43,
          -62,
          -250,
          -310,
          -570,
          173.89999999999998,
          902,
          -173.89999999999998,
          -902,
          -10.860000000000014,
          -254.052,
          21.840000000000032,
          0.8500000000000227,
          0,
          -86,
          -10.799999999999956,
          -10.700000000000044,
          -32.33000000000004,
          -6.091599999999971,
          1.5744000000000824,
          -70.34199999999998,
          -85.63,
          -77.74000000000001,
          -112.875,
          -22.575000000000045,
          0,
          -30,
          -130,
          -848,
          -800,
          -784,
          -720,
          -640,
          -640,
          -480,
          -473,
          -601.796,
          -433.7,
          -683.824,
          -234.671,
          -91.66499999999996,
          -56,
          -60.14599999999996,
          -180.44600000000003,
          -533.957,
          -578.9,
          81.11000000000001,
          79.29200000000003,
          113.716,
          -871.02,
          -1480.01,
          -159.24,
          -473.62,
          50,
          50,
          50,
          50,
          50,
          50,
          0,
          0,
          0,
          0,
          0,
          0,
          0,
          0,
          -204,
          -254,
          -329.43,
          145.17999999999995,
          -135,
          -161,
          -143.00000000000006,
          0,
          0,
          0,
          -182,
          -126,
          -374,
          -685,
          -182,
          -94,
          -314,
          -685,
          -1304.348,
          1195.65,
          -763,
          -506,
          -379,
          -340.5,
          -178.86900000000003,
          -124.743,
          -179.2,
          -18,
          -108.70600000000002,
          -35.36850000000004,
          0,
          0,
          14,
          -1217,
          -4408,
          -6350,
          0,
          0,
          0,
          0,
          -909,
          726.9999999999999,
          -2083,
          -5121.9692,
          -10414,
          -8514.585999999998,
          -6372.383,
          -5325.26,
          0,
          0,
          0,
          0,
          0,
          0,
          0,
          0,
          0,
          0,
          0,
          0,
          0,
          0,
          -104,
          -183,
          -612,
          -758,
          -584,
          -50,
          -101.54999999999995,
          -127.29500000000009,
          -101.64999999999998,
          -76.25,
          -101,
          -76.89999999999998,
          -50.84500000000003,
          -25.559000000000083,
          -0.1990000000000691,
          -2755.17,
          -918.639,
          -407.967,
          -178.57100000000003,
          -25.200000000000045,
          -76.54999999999995,
          -25.46000000000004,
          -76.5,
          -25.55899999999997,
          -1253.696,
          -1478.24,
          -223.87,
          -13.28200000000004,
          -90,
          -50,
          -2000,
          -833,
          -961.2,
          -280.8268,
          -830,
          -1020,
          -1030,
          -1110,
          -1110,
          0,
          0,
          0,
          0,
          -769,
          -280,
          -147,
          0,
          0,
          0,
          -1115.5800000000002,
          -188.886,
          -300.678,
          -110.77999999999996,
          -305.046,
          -101.80899999999995,
          -1756.75,
          -803.95,
          -211.80650000000003,
          -126.63000000000004,
          -128.52800000000002,
          -43.5,
          0,
          0,
          0,
          -50.68500000000006,
          -253.3855,
          -141.7719999999999,
          -175.635,
          -148.635,
          -162.11950000000002,
          -5753.62,
          -8310.58,
          -9418.761,
          -9573.644,
          -8410.919999999998,
          -1369.513,
          -57.07000000000005,
          0,
          -1375,
          -1125,
          -1125,
          -1175,
          -1000,
          -1050,
          -393.25,
          -213,
          -5653,
          -518,
          -2920,
          -1580,
          -990,
          -153.48000000000002,
          75.87300000000005,
          0,
          76.88999999999999,
          -487.043,
          1662.94,
          1220.4,
          1116.5300000000002,
          1029.63,
          1002.68,
          960.57,
          949.12,
          -1895,
          -1907.9,
          -730,
          -75,
          -820,
          -900,
          -656.76,
          -842.644,
          -1030,
          -1144.5,
          -1452.6,
          -1976.41
         ]
        },
        {
         "marker": {
          "color": "#082040"
         },
         "mode": "markers",
         "name": "Outliers",
         "type": "scatter",
         "x": [
          16,
          53,
          54,
          63,
          72,
          73,
          75,
          108,
          112,
          113,
          119,
          120,
          121,
          123,
          124,
          136,
          137,
          140,
          141,
          149,
          150,
          151,
          152,
          153,
          157,
          171,
          173,
          189,
          190,
          191,
          192,
          193,
          194,
          208,
          209,
          215,
          228,
          234,
          267,
          272,
          375,
          390,
          391,
          398,
          399,
          400,
          401,
          402,
          403,
          433,
          448,
          473,
          488,
          489,
          490,
          491,
          492,
          504,
          506,
          507,
          514,
          515,
          516,
          517,
          518,
          519,
          520,
          521,
          522,
          532
         ],
         "y": [
          -2157,
          -1812,
          -7238,
          -2878.5,
          -1600,
          1825,
          1650,
          -1804,
          -2762,
          -2250,
          -2188,
          -1600,
          -3500,
          -22459,
          -18003,
          -2275,
          -2120,
          -1972,
          -1814.6,
          -1877.782,
          -1877.782,
          -1711.4,
          -2800,
          -2600,
          -3650,
          -2750,
          984.37,
          -3430,
          -4020,
          -5100,
          -3773.58,
          -5283,
          -5283,
          2560,
          2120,
          -3600,
          -1879,
          -2173.9,
          2068.9,
          2847.4576,
          1195.65,
          -4408,
          -6350,
          -2083,
          -5121.9692,
          -10414,
          -8514.585999999998,
          -6372.383,
          -5325.26,
          -2755.17,
          -2000,
          -1756.75,
          -5753.62,
          -8310.58,
          -9418.761,
          -9573.644,
          -8410.919999999998,
          -5653,
          -2920,
          -1580,
          1662.94,
          1220.4,
          1116.5300000000002,
          1029.63,
          1002.68,
          960.57,
          949.12,
          -1895,
          -1907.9,
          -1976.41
         ]
        }
       ],
       "layout": {
        "template": {
         "data": {
          "bar": [
           {
            "error_x": {
             "color": "#2a3f5f"
            },
            "error_y": {
             "color": "#2a3f5f"
            },
            "marker": {
             "line": {
              "color": "#E5ECF6",
              "width": 0.5
             },
             "pattern": {
              "fillmode": "overlay",
              "size": 10,
              "solidity": 0.2
             }
            },
            "type": "bar"
           }
          ],
          "barpolar": [
           {
            "marker": {
             "line": {
              "color": "#E5ECF6",
              "width": 0.5
             },
             "pattern": {
              "fillmode": "overlay",
              "size": 10,
              "solidity": 0.2
             }
            },
            "type": "barpolar"
           }
          ],
          "carpet": [
           {
            "aaxis": {
             "endlinecolor": "#2a3f5f",
             "gridcolor": "white",
             "linecolor": "white",
             "minorgridcolor": "white",
             "startlinecolor": "#2a3f5f"
            },
            "baxis": {
             "endlinecolor": "#2a3f5f",
             "gridcolor": "white",
             "linecolor": "white",
             "minorgridcolor": "white",
             "startlinecolor": "#2a3f5f"
            },
            "type": "carpet"
           }
          ],
          "choropleth": [
           {
            "colorbar": {
             "outlinewidth": 0,
             "ticks": ""
            },
            "type": "choropleth"
           }
          ],
          "contour": [
           {
            "colorbar": {
             "outlinewidth": 0,
             "ticks": ""
            },
            "colorscale": [
             [
              0,
              "#0d0887"
             ],
             [
              0.1111111111111111,
              "#46039f"
             ],
             [
              0.2222222222222222,
              "#7201a8"
             ],
             [
              0.3333333333333333,
              "#9c179e"
             ],
             [
              0.4444444444444444,
              "#bd3786"
             ],
             [
              0.5555555555555556,
              "#d8576b"
             ],
             [
              0.6666666666666666,
              "#ed7953"
             ],
             [
              0.7777777777777778,
              "#fb9f3a"
             ],
             [
              0.8888888888888888,
              "#fdca26"
             ],
             [
              1,
              "#f0f921"
             ]
            ],
            "type": "contour"
           }
          ],
          "contourcarpet": [
           {
            "colorbar": {
             "outlinewidth": 0,
             "ticks": ""
            },
            "type": "contourcarpet"
           }
          ],
          "heatmap": [
           {
            "colorbar": {
             "outlinewidth": 0,
             "ticks": ""
            },
            "colorscale": [
             [
              0,
              "#0d0887"
             ],
             [
              0.1111111111111111,
              "#46039f"
             ],
             [
              0.2222222222222222,
              "#7201a8"
             ],
             [
              0.3333333333333333,
              "#9c179e"
             ],
             [
              0.4444444444444444,
              "#bd3786"
             ],
             [
              0.5555555555555556,
              "#d8576b"
             ],
             [
              0.6666666666666666,
              "#ed7953"
             ],
             [
              0.7777777777777778,
              "#fb9f3a"
             ],
             [
              0.8888888888888888,
              "#fdca26"
             ],
             [
              1,
              "#f0f921"
             ]
            ],
            "type": "heatmap"
           }
          ],
          "heatmapgl": [
           {
            "colorbar": {
             "outlinewidth": 0,
             "ticks": ""
            },
            "colorscale": [
             [
              0,
              "#0d0887"
             ],
             [
              0.1111111111111111,
              "#46039f"
             ],
             [
              0.2222222222222222,
              "#7201a8"
             ],
             [
              0.3333333333333333,
              "#9c179e"
             ],
             [
              0.4444444444444444,
              "#bd3786"
             ],
             [
              0.5555555555555556,
              "#d8576b"
             ],
             [
              0.6666666666666666,
              "#ed7953"
             ],
             [
              0.7777777777777778,
              "#fb9f3a"
             ],
             [
              0.8888888888888888,
              "#fdca26"
             ],
             [
              1,
              "#f0f921"
             ]
            ],
            "type": "heatmapgl"
           }
          ],
          "histogram": [
           {
            "marker": {
             "pattern": {
              "fillmode": "overlay",
              "size": 10,
              "solidity": 0.2
             }
            },
            "type": "histogram"
           }
          ],
          "histogram2d": [
           {
            "colorbar": {
             "outlinewidth": 0,
             "ticks": ""
            },
            "colorscale": [
             [
              0,
              "#0d0887"
             ],
             [
              0.1111111111111111,
              "#46039f"
             ],
             [
              0.2222222222222222,
              "#7201a8"
             ],
             [
              0.3333333333333333,
              "#9c179e"
             ],
             [
              0.4444444444444444,
              "#bd3786"
             ],
             [
              0.5555555555555556,
              "#d8576b"
             ],
             [
              0.6666666666666666,
              "#ed7953"
             ],
             [
              0.7777777777777778,
              "#fb9f3a"
             ],
             [
              0.8888888888888888,
              "#fdca26"
             ],
             [
              1,
              "#f0f921"
             ]
            ],
            "type": "histogram2d"
           }
          ],
          "histogram2dcontour": [
           {
            "colorbar": {
             "outlinewidth": 0,
             "ticks": ""
            },
            "colorscale": [
             [
              0,
              "#0d0887"
             ],
             [
              0.1111111111111111,
              "#46039f"
             ],
             [
              0.2222222222222222,
              "#7201a8"
             ],
             [
              0.3333333333333333,
              "#9c179e"
             ],
             [
              0.4444444444444444,
              "#bd3786"
             ],
             [
              0.5555555555555556,
              "#d8576b"
             ],
             [
              0.6666666666666666,
              "#ed7953"
             ],
             [
              0.7777777777777778,
              "#fb9f3a"
             ],
             [
              0.8888888888888888,
              "#fdca26"
             ],
             [
              1,
              "#f0f921"
             ]
            ],
            "type": "histogram2dcontour"
           }
          ],
          "mesh3d": [
           {
            "colorbar": {
             "outlinewidth": 0,
             "ticks": ""
            },
            "type": "mesh3d"
           }
          ],
          "parcoords": [
           {
            "line": {
             "colorbar": {
              "outlinewidth": 0,
              "ticks": ""
             }
            },
            "type": "parcoords"
           }
          ],
          "pie": [
           {
            "automargin": true,
            "type": "pie"
           }
          ],
          "scatter": [
           {
            "fillpattern": {
             "fillmode": "overlay",
             "size": 10,
             "solidity": 0.2
            },
            "type": "scatter"
           }
          ],
          "scatter3d": [
           {
            "line": {
             "colorbar": {
              "outlinewidth": 0,
              "ticks": ""
             }
            },
            "marker": {
             "colorbar": {
              "outlinewidth": 0,
              "ticks": ""
             }
            },
            "type": "scatter3d"
           }
          ],
          "scattercarpet": [
           {
            "marker": {
             "colorbar": {
              "outlinewidth": 0,
              "ticks": ""
             }
            },
            "type": "scattercarpet"
           }
          ],
          "scattergeo": [
           {
            "marker": {
             "colorbar": {
              "outlinewidth": 0,
              "ticks": ""
             }
            },
            "type": "scattergeo"
           }
          ],
          "scattergl": [
           {
            "marker": {
             "colorbar": {
              "outlinewidth": 0,
              "ticks": ""
             }
            },
            "type": "scattergl"
           }
          ],
          "scattermapbox": [
           {
            "marker": {
             "colorbar": {
              "outlinewidth": 0,
              "ticks": ""
             }
            },
            "type": "scattermapbox"
           }
          ],
          "scatterpolar": [
           {
            "marker": {
             "colorbar": {
              "outlinewidth": 0,
              "ticks": ""
             }
            },
            "type": "scatterpolar"
           }
          ],
          "scatterpolargl": [
           {
            "marker": {
             "colorbar": {
              "outlinewidth": 0,
              "ticks": ""
             }
            },
            "type": "scatterpolargl"
           }
          ],
          "scatterternary": [
           {
            "marker": {
             "colorbar": {
              "outlinewidth": 0,
              "ticks": ""
             }
            },
            "type": "scatterternary"
           }
          ],
          "surface": [
           {
            "colorbar": {
             "outlinewidth": 0,
             "ticks": ""
            },
            "colorscale": [
             [
              0,
              "#0d0887"
             ],
             [
              0.1111111111111111,
              "#46039f"
             ],
             [
              0.2222222222222222,
              "#7201a8"
             ],
             [
              0.3333333333333333,
              "#9c179e"
             ],
             [
              0.4444444444444444,
              "#bd3786"
             ],
             [
              0.5555555555555556,
              "#d8576b"
             ],
             [
              0.6666666666666666,
              "#ed7953"
             ],
             [
              0.7777777777777778,
              "#fb9f3a"
             ],
             [
              0.8888888888888888,
              "#fdca26"
             ],
             [
              1,
              "#f0f921"
             ]
            ],
            "type": "surface"
           }
          ],
          "table": [
           {
            "cells": {
             "fill": {
              "color": "#EBF0F8"
             },
             "line": {
              "color": "white"
             }
            },
            "header": {
             "fill": {
              "color": "#C8D4E3"
             },
             "line": {
              "color": "white"
             }
            },
            "type": "table"
           }
          ]
         },
         "layout": {
          "annotationdefaults": {
           "arrowcolor": "#2a3f5f",
           "arrowhead": 0,
           "arrowwidth": 1
          },
          "autotypenumbers": "strict",
          "coloraxis": {
           "colorbar": {
            "outlinewidth": 0,
            "ticks": ""
           }
          },
          "colorscale": {
           "diverging": [
            [
             0,
             "#8e0152"
            ],
            [
             0.1,
             "#c51b7d"
            ],
            [
             0.2,
             "#de77ae"
            ],
            [
             0.3,
             "#f1b6da"
            ],
            [
             0.4,
             "#fde0ef"
            ],
            [
             0.5,
             "#f7f7f7"
            ],
            [
             0.6,
             "#e6f5d0"
            ],
            [
             0.7,
             "#b8e186"
            ],
            [
             0.8,
             "#7fbc41"
            ],
            [
             0.9,
             "#4d9221"
            ],
            [
             1,
             "#276419"
            ]
           ],
           "sequential": [
            [
             0,
             "#0d0887"
            ],
            [
             0.1111111111111111,
             "#46039f"
            ],
            [
             0.2222222222222222,
             "#7201a8"
            ],
            [
             0.3333333333333333,
             "#9c179e"
            ],
            [
             0.4444444444444444,
             "#bd3786"
            ],
            [
             0.5555555555555556,
             "#d8576b"
            ],
            [
             0.6666666666666666,
             "#ed7953"
            ],
            [
             0.7777777777777778,
             "#fb9f3a"
            ],
            [
             0.8888888888888888,
             "#fdca26"
            ],
            [
             1,
             "#f0f921"
            ]
           ],
           "sequentialminus": [
            [
             0,
             "#0d0887"
            ],
            [
             0.1111111111111111,
             "#46039f"
            ],
            [
             0.2222222222222222,
             "#7201a8"
            ],
            [
             0.3333333333333333,
             "#9c179e"
            ],
            [
             0.4444444444444444,
             "#bd3786"
            ],
            [
             0.5555555555555556,
             "#d8576b"
            ],
            [
             0.6666666666666666,
             "#ed7953"
            ],
            [
             0.7777777777777778,
             "#fb9f3a"
            ],
            [
             0.8888888888888888,
             "#fdca26"
            ],
            [
             1,
             "#f0f921"
            ]
           ]
          },
          "colorway": [
           "#636efa",
           "#EF553B",
           "#00cc96",
           "#ab63fa",
           "#FFA15A",
           "#19d3f3",
           "#FF6692",
           "#B6E880",
           "#FF97FF",
           "#FECB52"
          ],
          "font": {
           "color": "#2a3f5f"
          },
          "geo": {
           "bgcolor": "white",
           "lakecolor": "white",
           "landcolor": "#E5ECF6",
           "showlakes": true,
           "showland": true,
           "subunitcolor": "white"
          },
          "hoverlabel": {
           "align": "left"
          },
          "hovermode": "closest",
          "mapbox": {
           "style": "light"
          },
          "paper_bgcolor": "white",
          "plot_bgcolor": "#E5ECF6",
          "polar": {
           "angularaxis": {
            "gridcolor": "white",
            "linecolor": "white",
            "ticks": ""
           },
           "bgcolor": "#E5ECF6",
           "radialaxis": {
            "gridcolor": "white",
            "linecolor": "white",
            "ticks": ""
           }
          },
          "scene": {
           "xaxis": {
            "backgroundcolor": "#E5ECF6",
            "gridcolor": "white",
            "gridwidth": 2,
            "linecolor": "white",
            "showbackground": true,
            "ticks": "",
            "zerolinecolor": "white"
           },
           "yaxis": {
            "backgroundcolor": "#E5ECF6",
            "gridcolor": "white",
            "gridwidth": 2,
            "linecolor": "white",
            "showbackground": true,
            "ticks": "",
            "zerolinecolor": "white"
           },
           "zaxis": {
            "backgroundcolor": "#E5ECF6",
            "gridcolor": "white",
            "gridwidth": 2,
            "linecolor": "white",
            "showbackground": true,
            "ticks": "",
            "zerolinecolor": "white"
           }
          },
          "shapedefaults": {
           "line": {
            "color": "#2a3f5f"
           }
          },
          "ternary": {
           "aaxis": {
            "gridcolor": "white",
            "linecolor": "white",
            "ticks": ""
           },
           "baxis": {
            "gridcolor": "white",
            "linecolor": "white",
            "ticks": ""
           },
           "bgcolor": "#E5ECF6",
           "caxis": {
            "gridcolor": "white",
            "linecolor": "white",
            "ticks": ""
           }
          },
          "title": {
           "x": 0.05
          },
          "xaxis": {
           "automargin": true,
           "gridcolor": "white",
           "linecolor": "white",
           "ticks": "",
           "title": {
            "standoff": 15
           },
           "zerolinecolor": "white",
           "zerolinewidth": 2
          },
          "yaxis": {
           "automargin": true,
           "gridcolor": "white",
           "linecolor": "white",
           "ticks": "",
           "title": {
            "standoff": 15
           },
           "zerolinecolor": "white",
           "zerolinewidth": 2
          }
         }
        },
        "title": {
         "text": "Outlier Detection Using IQR Method"
        },
        "xaxis": {
         "title": {
          "text": "Index"
         }
        },
        "yaxis": {
         "title": {
          "text": "Value"
         }
        }
       }
      }
     },
     "metadata": {},
     "output_type": "display_data"
    }
   ],
   "source": [
    "# Detect outliers\n",
    "outliers = detect_outliers_iqr(df['exc_bias_oe'])\n",
    "\n",
    "# Получение значений выбросов\n",
    "outlier_values = df.loc[outliers, 'exc_bias_oe']\n",
    "\n",
    "# Scatter plot\n",
    "fig = go.Figure()\n",
    "\n",
    "# Plot all data points\n",
    "fig.add_trace(go.Scatter(x=np.arange(len(df['exc_bias_oe'])), y=df['exc_bias_oe'], mode='markers', name='Data Points', marker=dict(color=colors[2])))\n",
    "\n",
    "# Highlight outliers\n",
    "fig.add_trace(go.Scatter(x=outliers, y=outlier_values, mode='markers', marker=dict(color=colors[0]), name='Outliers'))\n",
    "\n",
    "# Add layout\n",
    "fig.update_layout(title='Outlier Detection Using IQR Method',\n",
    "                  xaxis_title='Index',\n",
    "                  yaxis_title='Value')\n",
    "\n",
    "# Show plot\n",
    "display(fig)"
   ]
  },
  {
   "cell_type": "code",
   "execution_count": 65,
   "metadata": {},
   "outputs": [
    {
     "name": "stdout",
     "output_type": "stream",
     "text": [
      "   id  space_group_shell   coer_oe  exc_bias_oe  fc_field_t  h_range_max_koe  \\\n",
      "0   1                227  27800.00     -1132.00         5.0             50.0   \n",
      "1   2                227   7800.00      -406.00         5.0             50.0   \n",
      "2   3                  0     24.80        51.34         0.0             10.0   \n",
      "3   4                  0     90.20       108.18         0.0             10.0   \n",
      "4   5                  0     40.07         8.92         0.0             10.0   \n",
      "\n",
      "   mr (emu/g)  sat_em_g  shape  space_group_core  temperature_k  \\\n",
      "0    13.76705   52.1524    1.0             186.0            5.0   \n",
      "1    43.26420   83.1400    1.0             225.0            5.0   \n",
      "2     0.00780    2.2900    1.0             227.0          300.0   \n",
      "3     0.02180    2.4300    1.0             227.0          300.0   \n",
      "4     0.34980   16.1500    1.0             227.0          300.0   \n",
      "\n",
      "   ver_shift_emu_g  sphericity  area/volume  \n",
      "0              0.0         1.0     0.405405  \n",
      "1              0.0         1.0     0.428571  \n",
      "2              0.0         1.0     0.176471  \n",
      "3              0.0         1.0     0.272727  \n",
      "4              0.0         1.0     0.250000  \n"
     ]
    }
   ],
   "source": [
    "out_data = df.drop(outliers)\n",
    "print(out_data.head())"
   ]
  },
  {
   "cell_type": "code",
   "execution_count": 66,
   "metadata": {},
   "outputs": [
    {
     "name": "stdout",
     "output_type": "stream",
     "text": [
      "<class 'pandas.core.frame.DataFrame'>\n",
      "Int64Index: 463 entries, 0 to 531\n",
      "Data columns (total 14 columns):\n",
      " #   Column             Non-Null Count  Dtype  \n",
      "---  ------             --------------  -----  \n",
      " 0   id                 463 non-null    int64  \n",
      " 1   space_group_shell  463 non-null    int64  \n",
      " 2   coer_oe            463 non-null    float64\n",
      " 3   exc_bias_oe        463 non-null    float64\n",
      " 4   fc_field_t         463 non-null    float64\n",
      " 5   h_range_max_koe    463 non-null    float64\n",
      " 6   mr (emu/g)         463 non-null    float64\n",
      " 7   sat_em_g           463 non-null    float64\n",
      " 8   shape              463 non-null    float64\n",
      " 9   space_group_core   463 non-null    float64\n",
      " 10  temperature_k      463 non-null    float64\n",
      " 11  ver_shift_emu_g    463 non-null    float64\n",
      " 12  sphericity         463 non-null    float64\n",
      " 13  area/volume        463 non-null    float64\n",
      "dtypes: float64(12), int64(2)\n",
      "memory usage: 54.3 KB\n",
      "None\n"
     ]
    }
   ],
   "source": [
    "df = out_data\n",
    "print(df.info())"
   ]
  },
  {
   "cell_type": "code",
   "execution_count": 67,
   "metadata": {},
   "outputs": [
    {
     "data": {
      "application/vnd.plotly.v1+json": {
       "config": {
        "plotlyServerURL": "https://plot.ly"
       },
       "data": [
        {
         "alignmentgroup": "True",
         "bingroup": "x",
         "hovertemplate": "exc_bias_oe=%{x}<br>count=%{y}<extra></extra>",
         "legendgroup": "",
         "marker": {
          "color": "#082040",
          "opacity": 0.7,
          "pattern": {
           "shape": ""
          }
         },
         "name": "",
         "nbinsx": 60,
         "offsetgroup": "",
         "orientation": "v",
         "showlegend": false,
         "type": "histogram",
         "x": [
          -1132,
          -406,
          51.34000000000003,
          108.17999999999996,
          8.919999999999959,
          14.379999999999995,
          2.830000000000041,
          0,
          -255,
          -296,
          -344,
          -635,
          0,
          -229,
          -350,
          -502,
          -130,
          -137.00000000000006,
          -38,
          -73,
          -81,
          -109,
          0,
          0,
          0,
          0,
          0,
          0,
          112.78100000000006,
          226.736,
          170,
          169.13099999999997,
          112.77999999999996,
          56.17999999999995,
          90,
          50,
          -142.77999999999997,
          -137.21000000000004,
          -71,
          -346.379,
          -952.57,
          -629.898,
          -519.698,
          -472.1585,
          -278.3,
          -185.144,
          -108.06499999999994,
          -76.83000000000004,
          -440,
          -551.72,
          -551.72,
          -96.76699999999994,
          -93.23059999999998,
          -82.03059999999994,
          -82.03059999999994,
          0,
          -2.5,
          0,
          -719,
          0,
          0,
          -329,
          0,
          0,
          0,
          0,
          -329.43,
          145.17999999999995,
          -1500,
          9.409999999999968,
          -84.70000000000005,
          -71.36000000000001,
          -64.76400000000001,
          5,
          -49.72500000000002,
          -41.96000000000004,
          2.419999999999959,
          2.419999999999959,
          2.419999999999959,
          1.3550000000000182,
          -0.6585000000000036,
          -0.6589999999999918,
          -15,
          -52,
          -70,
          -20,
          -1219.58,
          -1182,
          342.15,
          0,
          0,
          0,
          -0.1000000000000227,
          399.9500000000001,
          49.89999999999998,
          0,
          0,
          0.0499999999999545,
          0.0499999999999545,
          99.95000000000005,
          -0.0499999999999545,
          -781.28,
          -1022,
          -471,
          -583,
          -1190,
          -133,
          -20,
          -1071.526,
          -1000,
          -140.00000000000006,
          -964.9,
          -932,
          -865.6,
          -122.37400000000002,
          -510.4,
          -13,
          -78,
          -650,
          -254,
          -250,
          -800,
          -511.81,
          -1350,
          -502,
          -181,
          -79,
          -149.24,
          -30.66999999999996,
          -402.9,
          0,
          0,
          0,
          0,
          0,
          -530.6,
          -906.4,
          -249,
          -94,
          -1335,
          -1318,
          -131.00000000000006,
          -165.23000000000002,
          -1025,
          -113.5,
          -900,
          250,
          -677,
          -812.5,
          -124.13999999999992,
          -123.24,
          -148.59500000000003,
          -183.82,
          -210.53,
          -147.35999999999996,
          -36.60000000000002,
          -26.442000000000007,
          -21.5,
          -1086,
          -575,
          -273,
          -1290,
          -147.76,
          -14.700000000000044,
          177.29700000000005,
          -54,
          -7.740000000000009,
          65.56000000000006,
          0.0074999999999363,
          0.0074999999999363,
          1.1073000000000093,
          -4.870000000000118,
          -1.4600000000000364,
          -12.299999999999956,
          -25,
          180,
          390,
          190,
          110,
          -490,
          5,
          5,
          -20,
          6,
          0,
          -34.375,
          40,
          -100,
          0,
          -284.89200000000005,
          454.5400000000001,
          0,
          -631.7,
          -456.2,
          47.60000000000002,
          0,
          0,
          0,
          0,
          0,
          0,
          0,
          0,
          -280,
          -300,
          -300,
          -280,
          45,
          -48,
          24,
          -21,
          10,
          -14,
          -1.5,
          -12,
          -3,
          3,
          -168,
          -520,
          -632,
          0,
          0,
          0,
          0,
          0,
          -827.586,
          0,
          -1355.93,
          0,
          0,
          0,
          0,
          0,
          0,
          0,
          0,
          0,
          0,
          0,
          -22.200000000000045,
          -24.049999999999955,
          -40.779,
          -57.39999999999998,
          -40.75999999999999,
          0.169999999999959,
          -5.2999999999999545,
          1.0220000000000482,
          -22,
          -45,
          -43,
          -62,
          -250,
          -310,
          -570,
          173.89999999999998,
          902,
          -173.89999999999998,
          -902,
          -10.860000000000014,
          -254.052,
          21.840000000000032,
          0.8500000000000227,
          0,
          -86,
          -10.799999999999956,
          -10.700000000000044,
          -32.33000000000004,
          -6.091599999999971,
          1.5744000000000824,
          -70.34199999999998,
          -85.63,
          -77.74000000000001,
          -112.875,
          -22.575000000000045,
          0,
          -30,
          -130,
          -848,
          -800,
          -784,
          -720,
          -640,
          -640,
          -480,
          -473,
          -601.796,
          -433.7,
          -683.824,
          -234.671,
          -91.66499999999996,
          -56,
          -60.14599999999996,
          -180.44600000000003,
          -533.957,
          -578.9,
          81.11000000000001,
          79.29200000000003,
          113.716,
          -871.02,
          -1480.01,
          -159.24,
          -473.62,
          50,
          50,
          50,
          50,
          50,
          50,
          0,
          0,
          0,
          0,
          0,
          0,
          0,
          0,
          -204,
          -254,
          -329.43,
          145.17999999999995,
          -135,
          -161,
          -143.00000000000006,
          0,
          0,
          0,
          -182,
          -126,
          -374,
          -685,
          -182,
          -94,
          -314,
          -685,
          -1304.348,
          -763,
          -506,
          -379,
          -340.5,
          -178.86900000000003,
          -124.743,
          -179.2,
          -18,
          -108.70600000000002,
          -35.36850000000004,
          0,
          0,
          14,
          -1217,
          0,
          0,
          0,
          0,
          -909,
          726.9999999999999,
          0,
          0,
          0,
          0,
          0,
          0,
          0,
          0,
          0,
          0,
          0,
          0,
          0,
          0,
          -104,
          -183,
          -612,
          -758,
          -584,
          -50,
          -101.54999999999995,
          -127.29500000000009,
          -101.64999999999998,
          -76.25,
          -101,
          -76.89999999999998,
          -50.84500000000003,
          -25.559000000000083,
          -0.1990000000000691,
          -918.639,
          -407.967,
          -178.57100000000003,
          -25.200000000000045,
          -76.54999999999995,
          -25.46000000000004,
          -76.5,
          -25.55899999999997,
          -1253.696,
          -1478.24,
          -223.87,
          -13.28200000000004,
          -90,
          -50,
          -833,
          -961.2,
          -280.8268,
          -830,
          -1020,
          -1030,
          -1110,
          -1110,
          0,
          0,
          0,
          0,
          -769,
          -280,
          -147,
          0,
          0,
          0,
          -1115.5800000000002,
          -188.886,
          -300.678,
          -110.77999999999996,
          -305.046,
          -101.80899999999995,
          -803.95,
          -211.80650000000003,
          -126.63000000000004,
          -128.52800000000002,
          -43.5,
          0,
          0,
          0,
          -50.68500000000006,
          -253.3855,
          -141.7719999999999,
          -175.635,
          -148.635,
          -162.11950000000002,
          -1369.513,
          -57.07000000000005,
          0,
          -1375,
          -1125,
          -1125,
          -1175,
          -1000,
          -1050,
          -393.25,
          -213,
          -518,
          -990,
          -153.48000000000002,
          75.87300000000005,
          0,
          76.88999999999999,
          -487.043,
          -730,
          -75,
          -820,
          -900,
          -656.76,
          -842.644,
          -1030,
          -1144.5,
          -1452.6
         ],
         "xaxis": "x",
         "yaxis": "y"
        },
        {
         "alignmentgroup": "True",
         "box": {
          "visible": true
         },
         "hovertemplate": "exc_bias_oe=%{y}<extra></extra>",
         "legendgroup": "",
         "marker": {
          "color": "#082040"
         },
         "name": "",
         "offsetgroup": "",
         "orientation": "v",
         "scalegroup": "True",
         "showlegend": false,
         "type": "violin",
         "x0": " ",
         "xaxis": "x2",
         "y": [
          -1132,
          -406,
          51.34000000000003,
          108.17999999999996,
          8.919999999999959,
          14.379999999999995,
          2.830000000000041,
          0,
          -255,
          -296,
          -344,
          -635,
          0,
          -229,
          -350,
          -502,
          -130,
          -137.00000000000006,
          -38,
          -73,
          -81,
          -109,
          0,
          0,
          0,
          0,
          0,
          0,
          112.78100000000006,
          226.736,
          170,
          169.13099999999997,
          112.77999999999996,
          56.17999999999995,
          90,
          50,
          -142.77999999999997,
          -137.21000000000004,
          -71,
          -346.379,
          -952.57,
          -629.898,
          -519.698,
          -472.1585,
          -278.3,
          -185.144,
          -108.06499999999994,
          -76.83000000000004,
          -440,
          -551.72,
          -551.72,
          -96.76699999999994,
          -93.23059999999998,
          -82.03059999999994,
          -82.03059999999994,
          0,
          -2.5,
          0,
          -719,
          0,
          0,
          -329,
          0,
          0,
          0,
          0,
          -329.43,
          145.17999999999995,
          -1500,
          9.409999999999968,
          -84.70000000000005,
          -71.36000000000001,
          -64.76400000000001,
          5,
          -49.72500000000002,
          -41.96000000000004,
          2.419999999999959,
          2.419999999999959,
          2.419999999999959,
          1.3550000000000182,
          -0.6585000000000036,
          -0.6589999999999918,
          -15,
          -52,
          -70,
          -20,
          -1219.58,
          -1182,
          342.15,
          0,
          0,
          0,
          -0.1000000000000227,
          399.9500000000001,
          49.89999999999998,
          0,
          0,
          0.0499999999999545,
          0.0499999999999545,
          99.95000000000005,
          -0.0499999999999545,
          -781.28,
          -1022,
          -471,
          -583,
          -1190,
          -133,
          -20,
          -1071.526,
          -1000,
          -140.00000000000006,
          -964.9,
          -932,
          -865.6,
          -122.37400000000002,
          -510.4,
          -13,
          -78,
          -650,
          -254,
          -250,
          -800,
          -511.81,
          -1350,
          -502,
          -181,
          -79,
          -149.24,
          -30.66999999999996,
          -402.9,
          0,
          0,
          0,
          0,
          0,
          -530.6,
          -906.4,
          -249,
          -94,
          -1335,
          -1318,
          -131.00000000000006,
          -165.23000000000002,
          -1025,
          -113.5,
          -900,
          250,
          -677,
          -812.5,
          -124.13999999999992,
          -123.24,
          -148.59500000000003,
          -183.82,
          -210.53,
          -147.35999999999996,
          -36.60000000000002,
          -26.442000000000007,
          -21.5,
          -1086,
          -575,
          -273,
          -1290,
          -147.76,
          -14.700000000000044,
          177.29700000000005,
          -54,
          -7.740000000000009,
          65.56000000000006,
          0.0074999999999363,
          0.0074999999999363,
          1.1073000000000093,
          -4.870000000000118,
          -1.4600000000000364,
          -12.299999999999956,
          -25,
          180,
          390,
          190,
          110,
          -490,
          5,
          5,
          -20,
          6,
          0,
          -34.375,
          40,
          -100,
          0,
          -284.89200000000005,
          454.5400000000001,
          0,
          -631.7,
          -456.2,
          47.60000000000002,
          0,
          0,
          0,
          0,
          0,
          0,
          0,
          0,
          -280,
          -300,
          -300,
          -280,
          45,
          -48,
          24,
          -21,
          10,
          -14,
          -1.5,
          -12,
          -3,
          3,
          -168,
          -520,
          -632,
          0,
          0,
          0,
          0,
          0,
          -827.586,
          0,
          -1355.93,
          0,
          0,
          0,
          0,
          0,
          0,
          0,
          0,
          0,
          0,
          0,
          -22.200000000000045,
          -24.049999999999955,
          -40.779,
          -57.39999999999998,
          -40.75999999999999,
          0.169999999999959,
          -5.2999999999999545,
          1.0220000000000482,
          -22,
          -45,
          -43,
          -62,
          -250,
          -310,
          -570,
          173.89999999999998,
          902,
          -173.89999999999998,
          -902,
          -10.860000000000014,
          -254.052,
          21.840000000000032,
          0.8500000000000227,
          0,
          -86,
          -10.799999999999956,
          -10.700000000000044,
          -32.33000000000004,
          -6.091599999999971,
          1.5744000000000824,
          -70.34199999999998,
          -85.63,
          -77.74000000000001,
          -112.875,
          -22.575000000000045,
          0,
          -30,
          -130,
          -848,
          -800,
          -784,
          -720,
          -640,
          -640,
          -480,
          -473,
          -601.796,
          -433.7,
          -683.824,
          -234.671,
          -91.66499999999996,
          -56,
          -60.14599999999996,
          -180.44600000000003,
          -533.957,
          -578.9,
          81.11000000000001,
          79.29200000000003,
          113.716,
          -871.02,
          -1480.01,
          -159.24,
          -473.62,
          50,
          50,
          50,
          50,
          50,
          50,
          0,
          0,
          0,
          0,
          0,
          0,
          0,
          0,
          -204,
          -254,
          -329.43,
          145.17999999999995,
          -135,
          -161,
          -143.00000000000006,
          0,
          0,
          0,
          -182,
          -126,
          -374,
          -685,
          -182,
          -94,
          -314,
          -685,
          -1304.348,
          -763,
          -506,
          -379,
          -340.5,
          -178.86900000000003,
          -124.743,
          -179.2,
          -18,
          -108.70600000000002,
          -35.36850000000004,
          0,
          0,
          14,
          -1217,
          0,
          0,
          0,
          0,
          -909,
          726.9999999999999,
          0,
          0,
          0,
          0,
          0,
          0,
          0,
          0,
          0,
          0,
          0,
          0,
          0,
          0,
          -104,
          -183,
          -612,
          -758,
          -584,
          -50,
          -101.54999999999995,
          -127.29500000000009,
          -101.64999999999998,
          -76.25,
          -101,
          -76.89999999999998,
          -50.84500000000003,
          -25.559000000000083,
          -0.1990000000000691,
          -918.639,
          -407.967,
          -178.57100000000003,
          -25.200000000000045,
          -76.54999999999995,
          -25.46000000000004,
          -76.5,
          -25.55899999999997,
          -1253.696,
          -1478.24,
          -223.87,
          -13.28200000000004,
          -90,
          -50,
          -833,
          -961.2,
          -280.8268,
          -830,
          -1020,
          -1030,
          -1110,
          -1110,
          0,
          0,
          0,
          0,
          -769,
          -280,
          -147,
          0,
          0,
          0,
          -1115.5800000000002,
          -188.886,
          -300.678,
          -110.77999999999996,
          -305.046,
          -101.80899999999995,
          -803.95,
          -211.80650000000003,
          -126.63000000000004,
          -128.52800000000002,
          -43.5,
          0,
          0,
          0,
          -50.68500000000006,
          -253.3855,
          -141.7719999999999,
          -175.635,
          -148.635,
          -162.11950000000002,
          -1369.513,
          -57.07000000000005,
          0,
          -1375,
          -1125,
          -1125,
          -1175,
          -1000,
          -1050,
          -393.25,
          -213,
          -518,
          -990,
          -153.48000000000002,
          75.87300000000005,
          0,
          76.88999999999999,
          -487.043,
          -730,
          -75,
          -820,
          -900,
          -656.76,
          -842.644,
          -1030,
          -1144.5,
          -1452.6
         ],
         "y0": " ",
         "yaxis": "y2"
        }
       ],
       "layout": {
        "annotations": [
         {
          "font": {
           "size": 16
          },
          "showarrow": false,
          "text": "Histogram for exchange bias",
          "x": 0.225,
          "xanchor": "center",
          "xref": "paper",
          "y": 1,
          "yanchor": "bottom",
          "yref": "paper"
         },
         {
          "font": {
           "size": 16
          },
          "showarrow": false,
          "text": "Violin Plot for solubility",
          "x": 0.775,
          "xanchor": "center",
          "xref": "paper",
          "y": 1,
          "yanchor": "bottom",
          "yref": "paper"
         }
        ],
        "showlegend": false,
        "template": {
         "data": {
          "bar": [
           {
            "error_x": {
             "color": "#2a3f5f"
            },
            "error_y": {
             "color": "#2a3f5f"
            },
            "marker": {
             "line": {
              "color": "#E5ECF6",
              "width": 0.5
             },
             "pattern": {
              "fillmode": "overlay",
              "size": 10,
              "solidity": 0.2
             }
            },
            "type": "bar"
           }
          ],
          "barpolar": [
           {
            "marker": {
             "line": {
              "color": "#E5ECF6",
              "width": 0.5
             },
             "pattern": {
              "fillmode": "overlay",
              "size": 10,
              "solidity": 0.2
             }
            },
            "type": "barpolar"
           }
          ],
          "carpet": [
           {
            "aaxis": {
             "endlinecolor": "#2a3f5f",
             "gridcolor": "white",
             "linecolor": "white",
             "minorgridcolor": "white",
             "startlinecolor": "#2a3f5f"
            },
            "baxis": {
             "endlinecolor": "#2a3f5f",
             "gridcolor": "white",
             "linecolor": "white",
             "minorgridcolor": "white",
             "startlinecolor": "#2a3f5f"
            },
            "type": "carpet"
           }
          ],
          "choropleth": [
           {
            "colorbar": {
             "outlinewidth": 0,
             "ticks": ""
            },
            "type": "choropleth"
           }
          ],
          "contour": [
           {
            "colorbar": {
             "outlinewidth": 0,
             "ticks": ""
            },
            "colorscale": [
             [
              0,
              "#0d0887"
             ],
             [
              0.1111111111111111,
              "#46039f"
             ],
             [
              0.2222222222222222,
              "#7201a8"
             ],
             [
              0.3333333333333333,
              "#9c179e"
             ],
             [
              0.4444444444444444,
              "#bd3786"
             ],
             [
              0.5555555555555556,
              "#d8576b"
             ],
             [
              0.6666666666666666,
              "#ed7953"
             ],
             [
              0.7777777777777778,
              "#fb9f3a"
             ],
             [
              0.8888888888888888,
              "#fdca26"
             ],
             [
              1,
              "#f0f921"
             ]
            ],
            "type": "contour"
           }
          ],
          "contourcarpet": [
           {
            "colorbar": {
             "outlinewidth": 0,
             "ticks": ""
            },
            "type": "contourcarpet"
           }
          ],
          "heatmap": [
           {
            "colorbar": {
             "outlinewidth": 0,
             "ticks": ""
            },
            "colorscale": [
             [
              0,
              "#0d0887"
             ],
             [
              0.1111111111111111,
              "#46039f"
             ],
             [
              0.2222222222222222,
              "#7201a8"
             ],
             [
              0.3333333333333333,
              "#9c179e"
             ],
             [
              0.4444444444444444,
              "#bd3786"
             ],
             [
              0.5555555555555556,
              "#d8576b"
             ],
             [
              0.6666666666666666,
              "#ed7953"
             ],
             [
              0.7777777777777778,
              "#fb9f3a"
             ],
             [
              0.8888888888888888,
              "#fdca26"
             ],
             [
              1,
              "#f0f921"
             ]
            ],
            "type": "heatmap"
           }
          ],
          "heatmapgl": [
           {
            "colorbar": {
             "outlinewidth": 0,
             "ticks": ""
            },
            "colorscale": [
             [
              0,
              "#0d0887"
             ],
             [
              0.1111111111111111,
              "#46039f"
             ],
             [
              0.2222222222222222,
              "#7201a8"
             ],
             [
              0.3333333333333333,
              "#9c179e"
             ],
             [
              0.4444444444444444,
              "#bd3786"
             ],
             [
              0.5555555555555556,
              "#d8576b"
             ],
             [
              0.6666666666666666,
              "#ed7953"
             ],
             [
              0.7777777777777778,
              "#fb9f3a"
             ],
             [
              0.8888888888888888,
              "#fdca26"
             ],
             [
              1,
              "#f0f921"
             ]
            ],
            "type": "heatmapgl"
           }
          ],
          "histogram": [
           {
            "marker": {
             "pattern": {
              "fillmode": "overlay",
              "size": 10,
              "solidity": 0.2
             }
            },
            "type": "histogram"
           }
          ],
          "histogram2d": [
           {
            "colorbar": {
             "outlinewidth": 0,
             "ticks": ""
            },
            "colorscale": [
             [
              0,
              "#0d0887"
             ],
             [
              0.1111111111111111,
              "#46039f"
             ],
             [
              0.2222222222222222,
              "#7201a8"
             ],
             [
              0.3333333333333333,
              "#9c179e"
             ],
             [
              0.4444444444444444,
              "#bd3786"
             ],
             [
              0.5555555555555556,
              "#d8576b"
             ],
             [
              0.6666666666666666,
              "#ed7953"
             ],
             [
              0.7777777777777778,
              "#fb9f3a"
             ],
             [
              0.8888888888888888,
              "#fdca26"
             ],
             [
              1,
              "#f0f921"
             ]
            ],
            "type": "histogram2d"
           }
          ],
          "histogram2dcontour": [
           {
            "colorbar": {
             "outlinewidth": 0,
             "ticks": ""
            },
            "colorscale": [
             [
              0,
              "#0d0887"
             ],
             [
              0.1111111111111111,
              "#46039f"
             ],
             [
              0.2222222222222222,
              "#7201a8"
             ],
             [
              0.3333333333333333,
              "#9c179e"
             ],
             [
              0.4444444444444444,
              "#bd3786"
             ],
             [
              0.5555555555555556,
              "#d8576b"
             ],
             [
              0.6666666666666666,
              "#ed7953"
             ],
             [
              0.7777777777777778,
              "#fb9f3a"
             ],
             [
              0.8888888888888888,
              "#fdca26"
             ],
             [
              1,
              "#f0f921"
             ]
            ],
            "type": "histogram2dcontour"
           }
          ],
          "mesh3d": [
           {
            "colorbar": {
             "outlinewidth": 0,
             "ticks": ""
            },
            "type": "mesh3d"
           }
          ],
          "parcoords": [
           {
            "line": {
             "colorbar": {
              "outlinewidth": 0,
              "ticks": ""
             }
            },
            "type": "parcoords"
           }
          ],
          "pie": [
           {
            "automargin": true,
            "type": "pie"
           }
          ],
          "scatter": [
           {
            "fillpattern": {
             "fillmode": "overlay",
             "size": 10,
             "solidity": 0.2
            },
            "type": "scatter"
           }
          ],
          "scatter3d": [
           {
            "line": {
             "colorbar": {
              "outlinewidth": 0,
              "ticks": ""
             }
            },
            "marker": {
             "colorbar": {
              "outlinewidth": 0,
              "ticks": ""
             }
            },
            "type": "scatter3d"
           }
          ],
          "scattercarpet": [
           {
            "marker": {
             "colorbar": {
              "outlinewidth": 0,
              "ticks": ""
             }
            },
            "type": "scattercarpet"
           }
          ],
          "scattergeo": [
           {
            "marker": {
             "colorbar": {
              "outlinewidth": 0,
              "ticks": ""
             }
            },
            "type": "scattergeo"
           }
          ],
          "scattergl": [
           {
            "marker": {
             "colorbar": {
              "outlinewidth": 0,
              "ticks": ""
             }
            },
            "type": "scattergl"
           }
          ],
          "scattermapbox": [
           {
            "marker": {
             "colorbar": {
              "outlinewidth": 0,
              "ticks": ""
             }
            },
            "type": "scattermapbox"
           }
          ],
          "scatterpolar": [
           {
            "marker": {
             "colorbar": {
              "outlinewidth": 0,
              "ticks": ""
             }
            },
            "type": "scatterpolar"
           }
          ],
          "scatterpolargl": [
           {
            "marker": {
             "colorbar": {
              "outlinewidth": 0,
              "ticks": ""
             }
            },
            "type": "scatterpolargl"
           }
          ],
          "scatterternary": [
           {
            "marker": {
             "colorbar": {
              "outlinewidth": 0,
              "ticks": ""
             }
            },
            "type": "scatterternary"
           }
          ],
          "surface": [
           {
            "colorbar": {
             "outlinewidth": 0,
             "ticks": ""
            },
            "colorscale": [
             [
              0,
              "#0d0887"
             ],
             [
              0.1111111111111111,
              "#46039f"
             ],
             [
              0.2222222222222222,
              "#7201a8"
             ],
             [
              0.3333333333333333,
              "#9c179e"
             ],
             [
              0.4444444444444444,
              "#bd3786"
             ],
             [
              0.5555555555555556,
              "#d8576b"
             ],
             [
              0.6666666666666666,
              "#ed7953"
             ],
             [
              0.7777777777777778,
              "#fb9f3a"
             ],
             [
              0.8888888888888888,
              "#fdca26"
             ],
             [
              1,
              "#f0f921"
             ]
            ],
            "type": "surface"
           }
          ],
          "table": [
           {
            "cells": {
             "fill": {
              "color": "#EBF0F8"
             },
             "line": {
              "color": "white"
             }
            },
            "header": {
             "fill": {
              "color": "#C8D4E3"
             },
             "line": {
              "color": "white"
             }
            },
            "type": "table"
           }
          ]
         },
         "layout": {
          "annotationdefaults": {
           "arrowcolor": "#2a3f5f",
           "arrowhead": 0,
           "arrowwidth": 1
          },
          "autotypenumbers": "strict",
          "coloraxis": {
           "colorbar": {
            "outlinewidth": 0,
            "ticks": ""
           }
          },
          "colorscale": {
           "diverging": [
            [
             0,
             "#8e0152"
            ],
            [
             0.1,
             "#c51b7d"
            ],
            [
             0.2,
             "#de77ae"
            ],
            [
             0.3,
             "#f1b6da"
            ],
            [
             0.4,
             "#fde0ef"
            ],
            [
             0.5,
             "#f7f7f7"
            ],
            [
             0.6,
             "#e6f5d0"
            ],
            [
             0.7,
             "#b8e186"
            ],
            [
             0.8,
             "#7fbc41"
            ],
            [
             0.9,
             "#4d9221"
            ],
            [
             1,
             "#276419"
            ]
           ],
           "sequential": [
            [
             0,
             "#0d0887"
            ],
            [
             0.1111111111111111,
             "#46039f"
            ],
            [
             0.2222222222222222,
             "#7201a8"
            ],
            [
             0.3333333333333333,
             "#9c179e"
            ],
            [
             0.4444444444444444,
             "#bd3786"
            ],
            [
             0.5555555555555556,
             "#d8576b"
            ],
            [
             0.6666666666666666,
             "#ed7953"
            ],
            [
             0.7777777777777778,
             "#fb9f3a"
            ],
            [
             0.8888888888888888,
             "#fdca26"
            ],
            [
             1,
             "#f0f921"
            ]
           ],
           "sequentialminus": [
            [
             0,
             "#0d0887"
            ],
            [
             0.1111111111111111,
             "#46039f"
            ],
            [
             0.2222222222222222,
             "#7201a8"
            ],
            [
             0.3333333333333333,
             "#9c179e"
            ],
            [
             0.4444444444444444,
             "#bd3786"
            ],
            [
             0.5555555555555556,
             "#d8576b"
            ],
            [
             0.6666666666666666,
             "#ed7953"
            ],
            [
             0.7777777777777778,
             "#fb9f3a"
            ],
            [
             0.8888888888888888,
             "#fdca26"
            ],
            [
             1,
             "#f0f921"
            ]
           ]
          },
          "colorway": [
           "#636efa",
           "#EF553B",
           "#00cc96",
           "#ab63fa",
           "#FFA15A",
           "#19d3f3",
           "#FF6692",
           "#B6E880",
           "#FF97FF",
           "#FECB52"
          ],
          "font": {
           "color": "#2a3f5f"
          },
          "geo": {
           "bgcolor": "white",
           "lakecolor": "white",
           "landcolor": "#E5ECF6",
           "showlakes": true,
           "showland": true,
           "subunitcolor": "white"
          },
          "hoverlabel": {
           "align": "left"
          },
          "hovermode": "closest",
          "mapbox": {
           "style": "light"
          },
          "paper_bgcolor": "white",
          "plot_bgcolor": "#E5ECF6",
          "polar": {
           "angularaxis": {
            "gridcolor": "white",
            "linecolor": "white",
            "ticks": ""
           },
           "bgcolor": "#E5ECF6",
           "radialaxis": {
            "gridcolor": "white",
            "linecolor": "white",
            "ticks": ""
           }
          },
          "scene": {
           "xaxis": {
            "backgroundcolor": "#E5ECF6",
            "gridcolor": "white",
            "gridwidth": 2,
            "linecolor": "white",
            "showbackground": true,
            "ticks": "",
            "zerolinecolor": "white"
           },
           "yaxis": {
            "backgroundcolor": "#E5ECF6",
            "gridcolor": "white",
            "gridwidth": 2,
            "linecolor": "white",
            "showbackground": true,
            "ticks": "",
            "zerolinecolor": "white"
           },
           "zaxis": {
            "backgroundcolor": "#E5ECF6",
            "gridcolor": "white",
            "gridwidth": 2,
            "linecolor": "white",
            "showbackground": true,
            "ticks": "",
            "zerolinecolor": "white"
           }
          },
          "shapedefaults": {
           "line": {
            "color": "#2a3f5f"
           }
          },
          "ternary": {
           "aaxis": {
            "gridcolor": "white",
            "linecolor": "white",
            "ticks": ""
           },
           "baxis": {
            "gridcolor": "white",
            "linecolor": "white",
            "ticks": ""
           },
           "bgcolor": "#E5ECF6",
           "caxis": {
            "gridcolor": "white",
            "linecolor": "white",
            "ticks": ""
           }
          },
          "title": {
           "x": 0.05
          },
          "xaxis": {
           "automargin": true,
           "gridcolor": "white",
           "linecolor": "white",
           "ticks": "",
           "title": {
            "standoff": 15
           },
           "zerolinecolor": "white",
           "zerolinewidth": 2
          },
          "yaxis": {
           "automargin": true,
           "gridcolor": "white",
           "linecolor": "white",
           "ticks": "",
           "title": {
            "standoff": 15
           },
           "zerolinecolor": "white",
           "zerolinewidth": 2
          }
         }
        },
        "title": {
         "text": "Pic for exchange bias after outliers"
        },
        "xaxis": {
         "anchor": "y",
         "domain": [
          0,
          0.45
         ]
        },
        "xaxis2": {
         "anchor": "y2",
         "domain": [
          0.55,
          1
         ]
        },
        "yaxis": {
         "anchor": "x",
         "domain": [
          0,
          1
         ]
        },
        "yaxis2": {
         "anchor": "x2",
         "domain": [
          0,
          1
         ]
        }
       }
      }
     },
     "metadata": {},
     "output_type": "display_data"
    },
    {
     "name": "stdout",
     "output_type": "stream",
     "text": [
      "None\n"
     ]
    }
   ],
   "source": [
    "#Построим график распределения целевой переменной\n",
    "fig = make_subplots(rows=1, cols=2, subplot_titles=['Histogram for exchange bias', 'Violin Plot for solubility'])\n",
    "\n",
    "# Histogram\n",
    "hist_fig = px.histogram(df, x=\"exc_bias_oe\", nbins = 60,\n",
    "                 color_discrete_sequence = colors,\n",
    "                 opacity = 0.7)\n",
    "\n",
    "fig.add_trace(hist_fig['data'][0], row=1, col=1) # Adding a graph indicating the location\n",
    "\n",
    "# Violin plot\n",
    "violin_fig = px.violin(df, y=\"exc_bias_oe\", color_discrete_sequence = colors, box = True)\n",
    "fig.add_trace(violin_fig['data'][0], row=1, col=2) # Adding a graph indicating the location\n",
    "\n",
    "# Setting up the layout\n",
    "fig.update_layout(showlegend=False, title_text=\"Pic for exchange bias after outliers\")\n",
    "\n",
    "# Graph display\n",
    "print(display(fig))"
   ]
  },
  {
   "cell_type": "code",
   "execution_count": 68,
   "metadata": {},
   "outputs": [],
   "source": [
    "exc_bias_oe = df['exc_bias_oe']\n",
    "id = df['id']"
   ]
  },
  {
   "cell_type": "code",
   "execution_count": 69,
   "metadata": {},
   "outputs": [
    {
     "name": "stdout",
     "output_type": "stream",
     "text": [
      "        id  space_group_shell   coer_oe  exc_bias_oe  fc_field_t  \\\n",
      "0      1.0           0.975948  7.110630     -1132.00    0.675149   \n",
      "1      2.0           0.975948  1.560885      -406.00    0.675149   \n",
      "2      3.0          -1.135001 -0.596634        51.34   -0.584811   \n",
      "3      4.0          -1.135001 -0.578487       108.18   -0.584811   \n",
      "4      5.0          -1.135001 -0.592397         8.92   -0.584811   \n",
      "..     ...                ...       ...          ...         ...   \n",
      "458  459.0           0.957350 -0.303064         0.00   -0.332819   \n",
      "459  460.0           0.957350 -0.285815         0.00   -0.080827   \n",
      "460  461.0           0.957350 -0.253882         0.00    0.171165   \n",
      "461  462.0           0.957350 -0.236539      -769.00    0.423157   \n",
      "462  463.0           0.957350 -0.200438      -280.00    0.675149   \n",
      "\n",
      "     h_range_max_koe  mr (emu/g)  sat_em_g     shape  space_group_core  \\\n",
      "0           0.486009    0.032612  0.449019 -0.432472         -0.110535   \n",
      "1           0.486009    1.480796  1.332185 -0.432472          0.553005   \n",
      "2          -1.023938   -0.642909 -0.972090 -0.432472          0.587033   \n",
      "3          -1.023938   -0.642221 -0.968100 -0.432472          0.587033   \n",
      "4          -1.023938   -0.626118 -0.577072 -0.432472          0.587033   \n",
      "..               ...         ...       ...       ...               ...   \n",
      "458         0.863496   -0.636197 -0.994193 -0.432472         -2.220252   \n",
      "459         0.863496   -0.635657 -0.991043 -0.432472         -2.220252   \n",
      "460         0.863496   -0.635682 -0.990331 -0.432472         -2.220252   \n",
      "461         0.863496   -0.635142 -0.990131 -0.432472         -2.220252   \n",
      "462         0.863496   -0.635166 -0.989575 -0.432472         -2.220252   \n",
      "\n",
      "     temperature_k  ver_shift_emu_g  sphericity  area/volume  \n",
      "0        -0.720092        -0.124047    0.302431     0.830753  \n",
      "1        -0.720092        -0.124047    0.302431     0.939968  \n",
      "2         1.701592        -0.124047    0.302431    -0.248541  \n",
      "3         1.701592        -0.124047    0.302431     0.205253  \n",
      "4         1.701592        -0.124047    0.302431     0.098107  \n",
      "..             ...              ...         ...          ...  \n",
      "458      -0.720092        -0.113950    0.302431    -0.726916  \n",
      "459      -0.720092        -0.103013    0.302431    -0.726916  \n",
      "460      -0.720092        -0.100863    0.302431    -0.726916  \n",
      "461      -0.720092        -0.095628    0.302431    -0.676404  \n",
      "462      -0.720092        -0.096002    0.302431    -0.676404  \n",
      "\n",
      "[463 rows x 14 columns]\n"
     ]
    }
   ],
   "source": [
    "# Standardization\n",
    "scaler = StandardScaler()\n",
    "df_enc_standardized = scaler.fit_transform(df)\n",
    "\n",
    "# Convert the scaled array into a DataFrame\n",
    "df_enc_standardized = pd.DataFrame(df_enc_standardized, columns=df.columns)\n",
    "df_enc_standardized['id'] = id\n",
    "df_enc_standardized['exc_bias_oe'] = exc_bias_oe\n",
    "\n",
    "df = df_enc_standardized\n",
    "print(df)"
   ]
  },
  {
   "cell_type": "code",
   "execution_count": 70,
   "metadata": {},
   "outputs": [],
   "source": [
    "from sklearn.impute import KNNImputer\n",
    "\n",
    "# Создание экземпляра KNNImputer\n",
    "imputer = KNNImputer()\n",
    "\n",
    "# Применение импутации к столбцу 'exc_bias_oe'\n",
    "df['exc_bias_oe'] = imputer.fit_transform(df[['exc_bias_oe']])"
   ]
  },
  {
   "cell_type": "code",
   "execution_count": 71,
   "metadata": {},
   "outputs": [
    {
     "name": "stdout",
     "output_type": "stream",
     "text": [
      "id                   51\n",
      "space_group_shell     0\n",
      "coer_oe               0\n",
      "exc_bias_oe           0\n",
      "fc_field_t            0\n",
      "h_range_max_koe       0\n",
      "mr (emu/g)            0\n",
      "sat_em_g              0\n",
      "shape                 0\n",
      "space_group_core      0\n",
      "temperature_k         0\n",
      "ver_shift_emu_g       0\n",
      "sphericity            0\n",
      "area/volume           0\n",
      "dtype: int64\n"
     ]
    }
   ],
   "source": [
    "missing_values = df.isnull().sum()\n",
    "print(missing_values)"
   ]
  },
  {
   "cell_type": "code",
   "execution_count": 72,
   "metadata": {},
   "outputs": [],
   "source": [
    "df = df.drop(columns=['id']) # Просто порядковый номер моих наночастиц, чтобы отличать их друг от друга"
   ]
  },
  {
   "cell_type": "code",
   "execution_count": 73,
   "metadata": {},
   "outputs": [],
   "source": [
    "df.to_csv(r'C:\\Users\\Ксения\\Project\\Magnet_Exchange_bias\\data\\Bias_data_3.csv')"
   ]
  }
 ],
 "metadata": {
  "kernelspec": {
   "display_name": "Python 3",
   "language": "python",
   "name": "python3"
  },
  "language_info": {
   "codemirror_mode": {
    "name": "ipython",
    "version": 3
   },
   "file_extension": ".py",
   "mimetype": "text/x-python",
   "name": "python",
   "nbconvert_exporter": "python",
   "pygments_lexer": "ipython3",
   "version": "3.11.4"
  }
 },
 "nbformat": 4,
 "nbformat_minor": 2
}
