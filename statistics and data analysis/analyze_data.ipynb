{
 "cells": [
  {
   "cell_type": "code",
   "execution_count": 179,
   "metadata": {},
   "outputs": [],
   "source": [
    "import pandas as pd\n",
    "import numpy as np\n",
    "import plotly.express as px\n",
    "from scipy import stats\n",
    "from plotly.subplots import make_subplots\n",
    "from matplotlib import pyplot as plt\n",
    "import seaborn as sns\n",
    "from sklearn.impute import SimpleImputer\n",
    "import plotly.graph_objects as go\n",
    "colors = ['#082040', '#175073', '#3285A6', '#B8D0D9', '#6CC5D9']"
   ]
  },
  {
   "cell_type": "code",
   "execution_count": 180,
   "metadata": {},
   "outputs": [],
   "source": [
    "from sklearn.preprocessing import MinMaxScaler\n",
    "from sklearn.preprocessing import StandardScaler"
   ]
  },
  {
   "cell_type": "code",
   "execution_count": 181,
   "metadata": {},
   "outputs": [],
   "source": [
    "import pickle"
   ]
  },
  {
   "cell_type": "code",
   "execution_count": 182,
   "metadata": {},
   "outputs": [],
   "source": [
    "df = pd.read_csv(r'C:\\Users\\Ксения\\Project\\Magnet_Exchange_bias\\data\\Bias_data_2.csv')"
   ]
  },
  {
   "cell_type": "code",
   "execution_count": 183,
   "metadata": {},
   "outputs": [
    {
     "name": "stdout",
     "output_type": "stream",
     "text": [
      "<class 'pandas.core.frame.DataFrame'>\n",
      "RangeIndex: 533 entries, 0 to 532\n",
      "Data columns (total 32 columns):\n",
      " #   Column             Non-Null Count  Dtype  \n",
      "---  ------             --------------  -----  \n",
      " 0   Unnamed: 0.1       533 non-null    int64  \n",
      " 1   volume             533 non-null    float64\n",
      " 2   area               533 non-null    float64\n",
      " 3   Unnamed: 0         533 non-null    int64  \n",
      " 4   c1                 533 non-null    object \n",
      " 5   c2                 322 non-null    object \n",
      " 6   c3                 9 non-null      object \n",
      " 7   chemical_formula   533 non-null    object \n",
      " 8   crystal_structure  533 non-null    int64  \n",
      " 9   z                  509 non-null    float64\n",
      " 10  id                 533 non-null    int64  \n",
      " 11  space_group_shell  533 non-null    int64  \n",
      " 12  structure          533 non-null    object \n",
      " 13  structure_         533 non-null    object \n",
      " 14  formula_combined   533 non-null    object \n",
      " 15  coer_oe            533 non-null    float64\n",
      " 16  exc_bias_oe        533 non-null    float64\n",
      " 17  fc_field_t         533 non-null    float64\n",
      " 18  h_range_max_koe    533 non-null    float64\n",
      " 19  y                  533 non-null    float64\n",
      " 20  mr (emu/g)         533 non-null    float64\n",
      " 21  sat_em_g           533 non-null    float64\n",
      " 22  shape              533 non-null    float64\n",
      " 23  space_group_core   533 non-null    float64\n",
      " 24  temperature_k      533 non-null    float64\n",
      " 25  ver_shift_emu_g    533 non-null    float64\n",
      " 26  x                  533 non-null    float64\n",
      " 27  mass_ratio         533 non-null    int64  \n",
      " 28  sphericity         533 non-null    float64\n",
      " 29  exc_dir            533 non-null    int64  \n",
      " 30  ver_s_dir          533 non-null    int64  \n",
      " 31  mass_ratio_str     533 non-null    object \n",
      "dtypes: float64(16), int64(8), object(8)\n",
      "memory usage: 133.4+ KB\n",
      "None\n"
     ]
    }
   ],
   "source": [
    "print(df.info())"
   ]
  },
  {
   "cell_type": "markdown",
   "metadata": {},
   "source": [
    "Пропуски в ожидемых местах среди целевых пременных пропусков нет"
   ]
  },
  {
   "cell_type": "code",
   "execution_count": 184,
   "metadata": {},
   "outputs": [
    {
     "name": "stdout",
     "output_type": "stream",
     "text": [
      "<class 'pandas.core.frame.DataFrame'>\n",
      "RangeIndex: 533 entries, 0 to 532\n",
      "Data columns (total 32 columns):\n",
      " #   Column             Non-Null Count  Dtype  \n",
      "---  ------             --------------  -----  \n",
      " 0   Unnamed: 0.1       533 non-null    int64  \n",
      " 1   volume             533 non-null    float64\n",
      " 2   area               533 non-null    float64\n",
      " 3   Unnamed: 0         533 non-null    int64  \n",
      " 4   c1                 533 non-null    object \n",
      " 5   c2                 322 non-null    object \n",
      " 6   c3                 9 non-null      object \n",
      " 7   chemical_formula   533 non-null    object \n",
      " 8   crystal_structure  533 non-null    int64  \n",
      " 9   z                  509 non-null    float64\n",
      " 10  id                 533 non-null    int64  \n",
      " 11  space_group_shell  533 non-null    int64  \n",
      " 12  structure          533 non-null    object \n",
      " 13  structure_         533 non-null    object \n",
      " 14  formula_combined   533 non-null    object \n",
      " 15  coer_oe            533 non-null    float64\n",
      " 16  exc_bias_oe        533 non-null    float64\n",
      " 17  fc_field_t         533 non-null    float64\n",
      " 18  h_range_max_koe    533 non-null    float64\n",
      " 19  y                  533 non-null    float64\n",
      " 20  mr (emu/g)         533 non-null    float64\n",
      " 21  sat_em_g           533 non-null    float64\n",
      " 22  shape              533 non-null    float64\n",
      " 23  space_group_core   533 non-null    float64\n",
      " 24  temperature_k      533 non-null    float64\n",
      " 25  ver_shift_emu_g    533 non-null    float64\n",
      " 26  x                  533 non-null    float64\n",
      " 27  mass_ratio         533 non-null    int64  \n",
      " 28  sphericity         533 non-null    float64\n",
      " 29  exc_dir            533 non-null    int64  \n",
      " 30  ver_s_dir          533 non-null    int64  \n",
      " 31  mass_ratio_str     533 non-null    object \n",
      "dtypes: float64(16), int64(8), object(8)\n",
      "memory usage: 133.4+ KB\n",
      "Unnamed: 0.1           0\n",
      "volume                 0\n",
      "area                   0\n",
      "Unnamed: 0             0\n",
      "c1                     0\n",
      "c2                   211\n",
      "c3                   524\n",
      "chemical_formula       0\n",
      "crystal_structure      0\n",
      "z                     24\n",
      "id                     0\n",
      "space_group_shell      0\n",
      "structure              0\n",
      "structure_             0\n",
      "formula_combined       0\n",
      "coer_oe                0\n",
      "exc_bias_oe            0\n",
      "fc_field_t             0\n",
      "h_range_max_koe        0\n",
      "y                      0\n",
      "mr (emu/g)             0\n",
      "sat_em_g               0\n",
      "shape                  0\n",
      "space_group_core       0\n",
      "temperature_k          0\n",
      "ver_shift_emu_g        0\n",
      "x                      0\n",
      "mass_ratio             0\n",
      "sphericity             0\n",
      "exc_dir                0\n",
      "ver_s_dir              0\n",
      "mass_ratio_str         0\n",
      "dtype: int64, (533, 32), None\n"
     ]
    }
   ],
   "source": [
    "print(df.isna().sum(), df.shape, df.info(), sep=', ', end='\\n')"
   ]
  },
  {
   "cell_type": "code",
   "execution_count": 185,
   "metadata": {},
   "outputs": [
    {
     "name": "stdout",
     "output_type": "stream",
     "text": [
      "<class 'pandas.core.frame.DataFrame'>\n",
      "RangeIndex: 533 entries, 0 to 532\n",
      "Data columns (total 26 columns):\n",
      " #   Column             Non-Null Count  Dtype  \n",
      "---  ------             --------------  -----  \n",
      " 0   volume             533 non-null    float64\n",
      " 1   area               533 non-null    float64\n",
      " 2   chemical_formula   533 non-null    object \n",
      " 3   crystal_structure  533 non-null    int64  \n",
      " 4   z                  509 non-null    float64\n",
      " 5   id                 533 non-null    int64  \n",
      " 6   space_group_shell  533 non-null    int64  \n",
      " 7   structure          533 non-null    object \n",
      " 8   formula_combined   533 non-null    object \n",
      " 9   coer_oe            533 non-null    float64\n",
      " 10  exc_bias_oe        533 non-null    float64\n",
      " 11  fc_field_t         533 non-null    float64\n",
      " 12  h_range_max_koe    533 non-null    float64\n",
      " 13  y                  533 non-null    float64\n",
      " 14  mr (emu/g)         533 non-null    float64\n",
      " 15  sat_em_g           533 non-null    float64\n",
      " 16  shape              533 non-null    float64\n",
      " 17  space_group_core   533 non-null    float64\n",
      " 18  temperature_k      533 non-null    float64\n",
      " 19  ver_shift_emu_g    533 non-null    float64\n",
      " 20  x                  533 non-null    float64\n",
      " 21  mass_ratio         533 non-null    int64  \n",
      " 22  sphericity         533 non-null    float64\n",
      " 23  exc_dir            533 non-null    int64  \n",
      " 24  ver_s_dir          533 non-null    int64  \n",
      " 25  mass_ratio_str     533 non-null    object \n",
      "dtypes: float64(16), int64(6), object(4)\n",
      "memory usage: 108.4+ KB\n",
      "None\n"
     ]
    }
   ],
   "source": [
    "df = df.drop(columns=['Unnamed: 0.1', 'Unnamed: 0', 'c1', 'c2', 'c3', 'structure_']) # Колонку structure - нужно будет как-то закодировать \n",
    "print(df.info())"
   ]
  },
  {
   "cell_type": "markdown",
   "metadata": {},
   "source": [
    "Столбец structure имеет в себе формулы с структурой формулы ядро/оболочка, поэтому она для модели не будет иметьсмысла, но для интерпритации важна, поэтому совместим её знчаения с колонкой id, которая тоже не несёт никакого знания о наносатицах напрямую. Создадим словарь, где каждый id - structure"
   ]
  },
  {
   "cell_type": "code",
   "execution_count": 186,
   "metadata": {},
   "outputs": [
    {
     "name": "stdout",
     "output_type": "stream",
     "text": [
      "533\n"
     ]
    }
   ],
   "source": [
    "print(len(df['id'].unique())) # Эта колнка состоит только из уникальных значений"
   ]
  },
  {
   "cell_type": "code",
   "execution_count": 187,
   "metadata": {},
   "outputs": [],
   "source": [
    "dict_structure = {} # Словарь для кодирования\n",
    "# Проходимся по каждой строке DataFrame и добавляем в словарь пару id-structure\n",
    "for idx, row in df.iterrows():\n",
    "    dict_structure[row['id']] = row['chemical_formula']\n",
    "# Пример значения id, для которого мы хотим декодировать structure\n",
    "id_value = 123"
   ]
  },
  {
   "cell_type": "code",
   "execution_count": 188,
   "metadata": {},
   "outputs": [],
   "source": [
    "# Сохраняем словарь в файл с помощью pickle(пакет помогает сохранять данные и загружать обратно)\n",
    "with open('dict_structure.pkl', 'wb') as f:\n",
    "    pickle.dump(dict_structure, f)"
   ]
  },
  {
   "cell_type": "code",
   "execution_count": 189,
   "metadata": {},
   "outputs": [
    {
     "name": "stdout",
     "output_type": "stream",
     "text": [
      "['FeO', 'Fe3O4']\n"
     ]
    }
   ],
   "source": [
    "# Проверка\n",
    "decoded_structure = dict_structure[id_value]\n",
    "print(decoded_structure)"
   ]
  },
  {
   "cell_type": "code",
   "execution_count": 190,
   "metadata": {},
   "outputs": [],
   "source": [
    "del df['structure']\n",
    "del df['chemical_formula']"
   ]
  },
  {
   "cell_type": "code",
   "execution_count": 191,
   "metadata": {},
   "outputs": [
    {
     "name": "stdout",
     "output_type": "stream",
     "text": [
      "0      16\n",
      "1       0\n",
      "2       3\n",
      "3       3\n",
      "4       3\n",
      "       ..\n",
      "528    20\n",
      "529    20\n",
      "530    20\n",
      "531    20\n",
      "532    20\n",
      "Name: crystal_structure, Length: 533, dtype: int64\n"
     ]
    }
   ],
   "source": [
    "print(df['crystal_structure'])"
   ]
  },
  {
   "cell_type": "code",
   "execution_count": 192,
   "metadata": {},
   "outputs": [
    {
     "name": "stdout",
     "output_type": "stream",
     "text": [
      "[16  0  3 19  7 24 13 21  9  2 25 22  1 10  5 23 14 15 12  4 11 20  6 18\n",
      " 17  8]\n"
     ]
    }
   ],
   "source": [
    "print(df['crystal_structure'].unique()) # Разделиим и стандартизируемм значения, а потом перведём их в цифры и снова склеим"
   ]
  },
  {
   "cell_type": "code",
   "execution_count": 193,
   "metadata": {},
   "outputs": [],
   "source": [
    "dict_crystal_str = {\n",
    "    'triclinic': 1, 'monoclinic': 2, 'orthorhombic': 3,\n",
    "    'tetragonal': 4, 'trigonal': 5, 'hexagonal': 6,\n",
    "    'cubic': 7, 'cube': 7\n",
    "}"
   ]
  },
  {
   "cell_type": "code",
   "execution_count": 194,
   "metadata": {},
   "outputs": [],
   "source": [
    "# Функция для кодирования списка значений в соответствии с словарем\n",
    "def encode_crystal_list(crystal_list):\n",
    "    return [dict_crystal_str[crystal] for crystal in crystal_list]"
   ]
  },
  {
   "cell_type": "code",
   "execution_count": 195,
   "metadata": {},
   "outputs": [],
   "source": [
    "df = df.drop(columns=['crystal_structure', 'formula_combined', 'mass_ratio']) # object"
   ]
  },
  {
   "cell_type": "code",
   "execution_count": 196,
   "metadata": {},
   "outputs": [
    {
     "name": "stdout",
     "output_type": "stream",
     "text": [
      "<class 'pandas.core.frame.DataFrame'>\n",
      "RangeIndex: 533 entries, 0 to 532\n",
      "Data columns (total 21 columns):\n",
      " #   Column             Non-Null Count  Dtype  \n",
      "---  ------             --------------  -----  \n",
      " 0   volume             533 non-null    float64\n",
      " 1   area               533 non-null    float64\n",
      " 2   z                  509 non-null    float64\n",
      " 3   id                 533 non-null    int64  \n",
      " 4   space_group_shell  533 non-null    int64  \n",
      " 5   coer_oe            533 non-null    float64\n",
      " 6   exc_bias_oe        533 non-null    float64\n",
      " 7   fc_field_t         533 non-null    float64\n",
      " 8   h_range_max_koe    533 non-null    float64\n",
      " 9   y                  533 non-null    float64\n",
      " 10  mr (emu/g)         533 non-null    float64\n",
      " 11  sat_em_g           533 non-null    float64\n",
      " 12  shape              533 non-null    float64\n",
      " 13  space_group_core   533 non-null    float64\n",
      " 14  temperature_k      533 non-null    float64\n",
      " 15  ver_shift_emu_g    533 non-null    float64\n",
      " 16  x                  533 non-null    float64\n",
      " 17  sphericity         533 non-null    float64\n",
      " 18  exc_dir            533 non-null    int64  \n",
      " 19  ver_s_dir          533 non-null    int64  \n",
      " 20  mass_ratio_str     533 non-null    object \n",
      "dtypes: float64(16), int64(4), object(1)\n",
      "memory usage: 87.6+ KB\n",
      "None\n"
     ]
    }
   ],
   "source": [
    "print(df.info())"
   ]
  },
  {
   "cell_type": "code",
   "execution_count": 197,
   "metadata": {},
   "outputs": [
    {
     "name": "stderr",
     "output_type": "stream",
     "text": [
      "C:\\Users\\Ксения\\AppData\\Local\\Temp\\ipykernel_27452\\1834969519.py:1: FutureWarning:\n",
      "\n",
      "The default value of numeric_only in DataFrame.corr is deprecated. In a future version, it will default to False. Select only valid columns or specify the value of numeric_only to silence this warning.\n",
      "\n"
     ]
    },
    {
     "data": {
      "image/png": "[encoded data removed]",
      "text/plain": [
       "<Figure size 1000x800 with 2 Axes>"
      ]
     },
     "metadata": {},
     "output_type": "display_data"
    }
   ],
   "source": [
    "correlation_matrix = df.corr()\n",
    "plt.figure(figsize=(10, 8))\n",
    "sns.heatmap(correlation_matrix, annot=True, cmap='coolwarm', fmt=\".2f\", linewidths=0.7)\n",
    "plt.title('Корреляционная матрица признаков')\n",
    "plt.xlabel('Признаки')\n",
    "plt.ylabel('Признаки')\n",
    "plt.show()"
   ]
  },
  {
   "cell_type": "code",
   "execution_count": 198,
   "metadata": {},
   "outputs": [],
   "source": [
    "df['area/volume'] = df['area'] / df['volume']"
   ]
  },
  {
   "cell_type": "code",
   "execution_count": 199,
   "metadata": {},
   "outputs": [],
   "source": [
    "df = df.drop(columns=['x', 'y', 'z', 'area', 'volume']) # Корреляции"
   ]
  },
  {
   "cell_type": "code",
   "execution_count": 200,
   "metadata": {},
   "outputs": [
    {
     "name": "stderr",
     "output_type": "stream",
     "text": [
      "C:\\Users\\Ксения\\AppData\\Local\\Temp\\ipykernel_27452\\1834969519.py:1: FutureWarning:\n",
      "\n",
      "The default value of numeric_only in DataFrame.corr is deprecated. In a future version, it will default to False. Select only valid columns or specify the value of numeric_only to silence this warning.\n",
      "\n"
     ]
    },
    {
     "data": {
      "image/png": "[encoded data removed]",
      "text/plain": [
       "<Figure size 1000x800 with 2 Axes>"
      ]
     },
     "metadata": {},
     "output_type": "display_data"
    }
   ],
   "source": [
    "correlation_matrix = df.corr()\n",
    "plt.figure(figsize=(10, 8))\n",
    "sns.heatmap(correlation_matrix, annot=True, cmap='coolwarm', fmt=\".2f\", linewidths=0.7)\n",
    "plt.title('Корреляционная матрица признаков')\n",
    "plt.xlabel('Признаки')\n",
    "plt.ylabel('Признаки')\n",
    "plt.show()"
   ]
  },
  {
   "cell_type": "code",
   "execution_count": 201,
   "metadata": {},
   "outputs": [],
   "source": [
    "import matplotlib.pyplot as plt\n",
    "import plotly.graph_objects as go\n",
    "from plotly.subplots import make_subplots\n",
    "from IPython.display import display"
   ]
  },
  {
   "cell_type": "code",
   "execution_count": 202,
   "metadata": {},
   "outputs": [
    {
     "data": {
      "application/vnd.plotly.v1+json": {
       "config": {
        "plotlyServerURL": "https://plot.ly"
       },
       "data": [
        {
         "alignmentgroup": "True",
         "bingroup": "x",
         "hovertemplate": "exc_bias_oe=%{x}<br>count=%{y}<extra></extra>",
         "legendgroup": "",
         "marker": {
          "color": "#082040",
          "opacity": 0.7,
          "pattern": {
           "shape": ""
          }
         },
         "name": "",
         "nbinsx": 60,
         "offsetgroup": "",
         "orientation": "v",
         "showlegend": false,
         "type": "histogram",
         "x": [
          1132,
          406,
          51.34000000000003,
          108.17999999999996,
          8.919999999999959,
          14.379999999999995,
          2.830000000000041,
          0,
          255,
          296,
          344,
          635,
          0,
          229,
          350,
          502,
          2157,
          130,
          137.00000000000006,
          38,
          73,
          81,
          109,
          0,
          0,
          0,
          0,
          0,
          0,
          112.78100000000006,
          226.736,
          170,
          169.13099999999997,
          112.77999999999996,
          56.17999999999995,
          90,
          50,
          142.77999999999997,
          137.21000000000004,
          71,
          346.379,
          952.57,
          629.898,
          519.698,
          472.1585,
          278.3,
          185.144,
          108.06499999999994,
          76.83000000000004,
          440,
          551.72,
          551.72,
          96.76699999999994,
          1812,
          7238,
          93.23059999999998,
          82.03059999999994,
          82.03059999999994,
          0,
          2.5,
          0,
          719,
          0,
          2878.5,
          0,
          329,
          0,
          0,
          0,
          0,
          329.43,
          145.17999999999995,
          1600,
          1825,
          1500,
          1650,
          9.409999999999968,
          84.70000000000005,
          71.36000000000001,
          64.76400000000001,
          5,
          49.72500000000002,
          41.96000000000004,
          2.419999999999959,
          2.419999999999959,
          2.419999999999959,
          1.3550000000000182,
          0.6585000000000036,
          0.6589999999999918,
          15,
          52,
          70,
          20,
          1219.58,
          1182,
          342.15,
          0,
          0,
          0,
          0.1000000000000227,
          399.9500000000001,
          49.89999999999998,
          0,
          0,
          0.0499999999999545,
          0.0499999999999545,
          99.95000000000005,
          0.0499999999999545,
          1804,
          781.28,
          1022,
          471,
          2762,
          2250,
          583,
          1190,
          133,
          20,
          1071.526,
          2188,
          1600,
          3500,
          1000,
          22459,
          18003,
          140.00000000000006,
          964.9,
          932,
          865.6,
          122.37400000000002,
          510.4,
          13,
          78,
          650,
          254,
          250,
          2275,
          2120,
          800,
          511.81,
          1972,
          1814.6,
          1350,
          502,
          181,
          79,
          149.24,
          30.66999999999996,
          402.9,
          1877.782,
          1877.782,
          1711.4,
          2800,
          2600,
          0,
          0,
          0,
          3650,
          0,
          0,
          530.6,
          906.4,
          249,
          94,
          1335,
          1318,
          131.00000000000006,
          165.23000000000002,
          1025,
          113.5,
          900,
          2750,
          250,
          984.37,
          677,
          812.5,
          124.13999999999992,
          123.24,
          148.59500000000003,
          183.82,
          210.53,
          147.35999999999996,
          36.60000000000002,
          26.442000000000007,
          21.5,
          1086,
          575,
          273,
          1290,
          3430,
          4020,
          5100,
          3773.58,
          5283,
          5283,
          147.76,
          14.700000000000044,
          177.29700000000005,
          54,
          7.740000000000009,
          65.56000000000006,
          0.0074999999999363,
          0.0074999999999363,
          1.1073000000000093,
          4.870000000000118,
          1.4600000000000364,
          12.299999999999956,
          25,
          2560,
          2120,
          180,
          390,
          190,
          110,
          490,
          3600,
          5,
          5,
          20,
          6,
          0,
          34.375,
          40,
          100,
          0,
          284.89200000000005,
          454.5400000000001,
          0,
          1879,
          631.7,
          456.2,
          47.60000000000002,
          0,
          0,
          2173.9,
          0,
          0,
          0,
          0,
          0,
          0,
          280,
          300,
          300,
          280,
          45,
          48,
          24,
          21,
          10,
          14,
          1.5,
          12,
          3,
          3,
          168,
          520,
          632,
          0,
          0,
          0,
          0,
          0,
          827.586,
          0,
          1355.93,
          0,
          2068.9,
          0,
          0,
          0,
          0,
          2847.4576,
          0,
          0,
          0,
          0,
          0,
          0,
          22.200000000000045,
          24.049999999999955,
          40.779,
          57.39999999999998,
          40.75999999999999,
          0.169999999999959,
          5.2999999999999545,
          1.0220000000000482,
          22,
          45,
          43,
          62,
          250,
          310,
          570,
          173.89999999999998,
          902,
          173.89999999999998,
          902,
          10.860000000000014,
          254.052,
          21.840000000000032,
          0.8500000000000227,
          0,
          86,
          10.799999999999956,
          10.700000000000044,
          32.33000000000004,
          6.091599999999971,
          1.5744000000000824,
          70.34199999999998,
          85.63,
          77.74000000000001,
          112.875,
          22.575000000000045,
          0,
          30,
          130,
          848,
          800,
          784,
          720,
          640,
          640,
          480,
          473,
          601.796,
          433.7,
          683.824,
          234.671,
          91.66499999999996,
          56,
          60.14599999999996,
          180.44600000000003,
          533.957,
          578.9,
          81.11000000000001,
          79.29200000000003,
          113.716,
          871.02,
          1480.01,
          159.24,
          473.62,
          50,
          50,
          50,
          50,
          50,
          50,
          0,
          0,
          0,
          0,
          0,
          0,
          0,
          0,
          204,
          254,
          329.43,
          145.17999999999995,
          135,
          161,
          143.00000000000006,
          0,
          0,
          0,
          182,
          126,
          374,
          685,
          182,
          94,
          314,
          685,
          1304.348,
          1195.65,
          763,
          506,
          379,
          340.5,
          178.86900000000003,
          124.743,
          179.2,
          18,
          108.70600000000002,
          35.36850000000004,
          0,
          0,
          14,
          1217,
          4408,
          6350,
          0,
          0,
          0,
          0,
          909,
          726.9999999999999,
          2083,
          5121.9692,
          10414,
          8514.585999999998,
          6372.383,
          5325.26,
          0,
          0,
          0,
          0,
          0,
          0,
          0,
          0,
          0,
          0,
          0,
          0,
          0,
          0,
          104,
          183,
          612,
          758,
          584,
          50,
          101.54999999999995,
          127.29500000000009,
          101.64999999999998,
          76.25,
          101,
          76.89999999999998,
          50.84500000000003,
          25.559000000000083,
          0.1990000000000691,
          2755.17,
          918.639,
          407.967,
          178.57100000000003,
          25.200000000000045,
          76.54999999999995,
          25.46000000000004,
          76.5,
          25.55899999999997,
          1253.696,
          1478.24,
          223.87,
          13.28200000000004,
          90,
          50,
          2000,
          833,
          961.2,
          280.8268,
          830,
          1020,
          1030,
          1110,
          1110,
          0,
          0,
          0,
          0,
          769,
          280,
          147,
          0,
          0,
          0,
          1115.5800000000002,
          188.886,
          300.678,
          110.77999999999996,
          305.046,
          101.80899999999995,
          1756.75,
          803.95,
          211.80650000000003,
          126.63000000000004,
          128.52800000000002,
          43.5,
          0,
          0,
          0,
          50.68500000000006,
          253.3855,
          141.7719999999999,
          175.635,
          148.635,
          162.11950000000002,
          5753.62,
          8310.58,
          9418.761,
          9573.644,
          8410.919999999998,
          1369.513,
          57.07000000000005,
          0,
          1375,
          1125,
          1125,
          1175,
          1000,
          1050,
          393.25,
          213,
          5653,
          518,
          2920,
          1580,
          990,
          153.48000000000002,
          75.87300000000005,
          0,
          76.88999999999999,
          487.043,
          1662.94,
          1220.4,
          1116.5300000000002,
          1029.63,
          1002.68,
          960.57,
          949.12,
          1895,
          1907.9,
          730,
          75,
          820,
          900,
          656.76,
          842.644,
          1030,
          1144.5,
          1452.6,
          1976.41
         ],
         "xaxis": "x",
         "yaxis": "y"
        },
        {
         "alignmentgroup": "True",
         "box": {
          "visible": true
         },
         "hovertemplate": "exc_bias_oe=%{y}<extra></extra>",
         "legendgroup": "",
         "marker": {
          "color": "#082040"
         },
         "name": "",
         "offsetgroup": "",
         "orientation": "v",
         "scalegroup": "True",
         "showlegend": false,
         "type": "violin",
         "x0": " ",
         "xaxis": "x2",
         "y": [
          1132,
          406,
          51.34000000000003,
          108.17999999999996,
          8.919999999999959,
          14.379999999999995,
          2.830000000000041,
          0,
          255,
          296,
          344,
          635,
          0,
          229,
          350,
          502,
          2157,
          130,
          137.00000000000006,
          38,
          73,
          81,
          109,
          0,
          0,
          0,
          0,
          0,
          0,
          112.78100000000006,
          226.736,
          170,
          169.13099999999997,
          112.77999999999996,
          56.17999999999995,
          90,
          50,
          142.77999999999997,
          137.21000000000004,
          71,
          346.379,
          952.57,
          629.898,
          519.698,
          472.1585,
          278.3,
          185.144,
          108.06499999999994,
          76.83000000000004,
          440,
          551.72,
          551.72,
          96.76699999999994,
          1812,
          7238,
          93.23059999999998,
          82.03059999999994,
          82.03059999999994,
          0,
          2.5,
          0,
          719,
          0,
          2878.5,
          0,
          329,
          0,
          0,
          0,
          0,
          329.43,
          145.17999999999995,
          1600,
          1825,
          1500,
          1650,
          9.409999999999968,
          84.70000000000005,
          71.36000000000001,
          64.76400000000001,
          5,
          49.72500000000002,
          41.96000000000004,
          2.419999999999959,
          2.419999999999959,
          2.419999999999959,
          1.3550000000000182,
          0.6585000000000036,
          0.6589999999999918,
          15,
          52,
          70,
          20,
          1219.58,
          1182,
          342.15,
          0,
          0,
          0,
          0.1000000000000227,
          399.9500000000001,
          49.89999999999998,
          0,
          0,
          0.0499999999999545,
          0.0499999999999545,
          99.95000000000005,
          0.0499999999999545,
          1804,
          781.28,
          1022,
          471,
          2762,
          2250,
          583,
          1190,
          133,
          20,
          1071.526,
          2188,
          1600,
          3500,
          1000,
          22459,
          18003,
          140.00000000000006,
          964.9,
          932,
          865.6,
          122.37400000000002,
          510.4,
          13,
          78,
          650,
          254,
          250,
          2275,
          2120,
          800,
          511.81,
          1972,
          1814.6,
          1350,
          502,
          181,
          79,
          149.24,
          30.66999999999996,
          402.9,
          1877.782,
          1877.782,
          1711.4,
          2800,
          2600,
          0,
          0,
          0,
          3650,
          0,
          0,
          530.6,
          906.4,
          249,
          94,
          1335,
          1318,
          131.00000000000006,
          165.23000000000002,
          1025,
          113.5,
          900,
          2750,
          250,
          984.37,
          677,
          812.5,
          124.13999999999992,
          123.24,
          148.59500000000003,
          183.82,
          210.53,
          147.35999999999996,
          36.60000000000002,
          26.442000000000007,
          21.5,
          1086,
          575,
          273,
          1290,
          3430,
          4020,
          5100,
          3773.58,
          5283,
          5283,
          147.76,
          14.700000000000044,
          177.29700000000005,
          54,
          7.740000000000009,
          65.56000000000006,
          0.0074999999999363,
          0.0074999999999363,
          1.1073000000000093,
          4.870000000000118,
          1.4600000000000364,
          12.299999999999956,
          25,
          2560,
          2120,
          180,
          390,
          190,
          110,
          490,
          3600,
          5,
          5,
          20,
          6,
          0,
          34.375,
          40,
          100,
          0,
          284.89200000000005,
          454.5400000000001,
          0,
          1879,
          631.7,
          456.2,
          47.60000000000002,
          0,
          0,
          2173.9,
          0,
          0,
          0,
          0,
          0,
          0,
          280,
          300,
          300,
          280,
          45,
          48,
          24,
          21,
          10,
          14,
          1.5,
          12,
          3,
          3,
          168,
          520,
          632,
          0,
          0,
          0,
          0,
          0,
          827.586,
          0,
          1355.93,
          0,
          2068.9,
          0,
          0,
          0,
          0,
          2847.4576,
          0,
          0,
          0,
          0,
          0,
          0,
          22.200000000000045,
          24.049999999999955,
          40.779,
          57.39999999999998,
          40.75999999999999,
          0.169999999999959,
          5.2999999999999545,
          1.0220000000000482,
          22,
          45,
          43,
          62,
          250,
          310,
          570,
          173.89999999999998,
          902,
          173.89999999999998,
          902,
          10.860000000000014,
          254.052,
          21.840000000000032,
          0.8500000000000227,
          0,
          86,
          10.799999999999956,
          10.700000000000044,
          32.33000000000004,
          6.091599999999971,
          1.5744000000000824,
          70.34199999999998,
          85.63,
          77.74000000000001,
          112.875,
          22.575000000000045,
          0,
          30,
          130,
          848,
          800,
          784,
          720,
          640,
          640,
          480,
          473,
          601.796,
          433.7,
          683.824,
          234.671,
          91.66499999999996,
          56,
          60.14599999999996,
          180.44600000000003,
          533.957,
          578.9,
          81.11000000000001,
          79.29200000000003,
          113.716,
          871.02,
          1480.01,
          159.24,
          473.62,
          50,
          50,
          50,
          50,
          50,
          50,
          0,
          0,
          0,
          0,
          0,
          0,
          0,
          0,
          204,
          254,
          329.43,
          145.17999999999995,
          135,
          161,
          143.00000000000006,
          0,
          0,
          0,
          182,
          126,
          374,
          685,
          182,
          94,
          314,
          685,
          1304.348,
          1195.65,
          763,
          506,
          379,
          340.5,
          178.86900000000003,
          124.743,
          179.2,
          18,
          108.70600000000002,
          35.36850000000004,
          0,
          0,
          14,
          1217,
          4408,
          6350,
          0,
          0,
          0,
          0,
          909,
          726.9999999999999,
          2083,
          5121.9692,
          10414,
          8514.585999999998,
          6372.383,
          5325.26,
          0,
          0,
          0,
          0,
          0,
          0,
          0,
          0,
          0,
          0,
          0,
          0,
          0,
          0,
          104,
          183,
          612,
          758,
          584,
          50,
          101.54999999999995,
          127.29500000000009,
          101.64999999999998,
          76.25,
          101,
          76.89999999999998,
          50.84500000000003,
          25.559000000000083,
          0.1990000000000691,
          2755.17,
          918.639,
          407.967,
          178.57100000000003,
          25.200000000000045,
          76.54999999999995,
          25.46000000000004,
          76.5,
          25.55899999999997,
          1253.696,
          1478.24,
          223.87,
          13.28200000000004,
          90,
          50,
          2000,
          833,
          961.2,
          280.8268,
          830,
          1020,
          1030,
          1110,
          1110,
          0,
          0,
          0,
          0,
          769,
          280,
          147,
          0,
          0,
          0,
          1115.5800000000002,
          188.886,
          300.678,
          110.77999999999996,
          305.046,
          101.80899999999995,
          1756.75,
          803.95,
          211.80650000000003,
          126.63000000000004,
          128.52800000000002,
          43.5,
          0,
          0,
          0,
          50.68500000000006,
          253.3855,
          141.7719999999999,
          175.635,
          148.635,
          162.11950000000002,
          5753.62,
          8310.58,
          9418.761,
          9573.644,
          8410.919999999998,
          1369.513,
          57.07000000000005,
          0,
          1375,
          1125,
          1125,
          1175,
          1000,
          1050,
          393.25,
          213,
          5653,
          518,
          2920,
          1580,
          990,
          153.48000000000002,
          75.87300000000005,
          0,
          76.88999999999999,
          487.043,
          1662.94,
          1220.4,
          1116.5300000000002,
          1029.63,
          1002.68,
          960.57,
          949.12,
          1895,
          1907.9,
          730,
          75,
          820,
          900,
          656.76,
          842.644,
          1030,
          1144.5,
          1452.6,
          1976.41
         ],
         "y0": " ",
         "yaxis": "y2"
        }
       ],
       "layout": {
        "annotations": [
         {
          "font": {
           "size": 16
          },
          "showarrow": false,
          "text": "Histogram for exchange bias",
          "x": 0.225,
          "xanchor": "center",
          "xref": "paper",
          "y": 1,
          "yanchor": "bottom",
          "yref": "paper"
         },
         {
          "font": {
           "size": 16
          },
          "showarrow": false,
          "text": "Violin Plot for solubility",
          "x": 0.775,
          "xanchor": "center",
          "xref": "paper",
          "y": 1,
          "yanchor": "bottom",
          "yref": "paper"
         }
        ],
        "showlegend": false,
        "template": {
         "data": {
          "bar": [
           {
            "error_x": {
             "color": "#2a3f5f"
            },
            "error_y": {
             "color": "#2a3f5f"
            },
            "marker": {
             "line": {
              "color": "#E5ECF6",
              "width": 0.5
             },
             "pattern": {
              "fillmode": "overlay",
              "size": 10,
              "solidity": 0.2
             }
            },
            "type": "bar"
           }
          ],
          "barpolar": [
           {
            "marker": {
             "line": {
              "color": "#E5ECF6",
              "width": 0.5
             },
             "pattern": {
              "fillmode": "overlay",
              "size": 10,
              "solidity": 0.2
             }
            },
            "type": "barpolar"
           }
          ],
          "carpet": [
           {
            "aaxis": {
             "endlinecolor": "#2a3f5f",
             "gridcolor": "white",
             "linecolor": "white",
             "minorgridcolor": "white",
             "startlinecolor": "#2a3f5f"
            },
            "baxis": {
             "endlinecolor": "#2a3f5f",
             "gridcolor": "white",
             "linecolor": "white",
             "minorgridcolor": "white",
             "startlinecolor": "#2a3f5f"
            },
            "type": "carpet"
           }
          ],
          "choropleth": [
           {
            "colorbar": {
             "outlinewidth": 0,
             "ticks": ""
            },
            "type": "choropleth"
           }
          ],
          "contour": [
           {
            "colorbar": {
             "outlinewidth": 0,
             "ticks": ""
            },
            "colorscale": [
             [
              0,
              "#0d0887"
             ],
             [
              0.1111111111111111,
              "#46039f"
             ],
             [
              0.2222222222222222,
              "#7201a8"
             ],
             [
              0.3333333333333333,
              "#9c179e"
             ],
             [
              0.4444444444444444,
              "#bd3786"
             ],
             [
              0.5555555555555556,
              "#d8576b"
             ],
             [
              0.6666666666666666,
              "#ed7953"
             ],
             [
              0.7777777777777778,
              "#fb9f3a"
             ],
             [
              0.8888888888888888,
              "#fdca26"
             ],
             [
              1,
              "#f0f921"
             ]
            ],
            "type": "contour"
           }
          ],
          "contourcarpet": [
           {
            "colorbar": {
             "outlinewidth": 0,
             "ticks": ""
            },
            "type": "contourcarpet"
           }
          ],
          "heatmap": [
           {
            "colorbar": {
             "outlinewidth": 0,
             "ticks": ""
            },
            "colorscale": [
             [
              0,
              "#0d0887"
             ],
             [
              0.1111111111111111,
              "#46039f"
             ],
             [
              0.2222222222222222,
              "#7201a8"
             ],
             [
              0.3333333333333333,
              "#9c179e"
             ],
             [
              0.4444444444444444,
              "#bd3786"
             ],
             [
              0.5555555555555556,
              "#d8576b"
             ],
             [
              0.6666666666666666,
              "#ed7953"
             ],
             [
              0.7777777777777778,
              "#fb9f3a"
             ],
             [
              0.8888888888888888,
              "#fdca26"
             ],
             [
              1,
              "#f0f921"
             ]
            ],
            "type": "heatmap"
           }
          ],
          "heatmapgl": [
           {
            "colorbar": {
             "outlinewidth": 0,
             "ticks": ""
            },
            "colorscale": [
             [
              0,
              "#0d0887"
             ],
             [
              0.1111111111111111,
              "#46039f"
             ],
             [
              0.2222222222222222,
              "#7201a8"
             ],
             [
              0.3333333333333333,
              "#9c179e"
             ],
             [
              0.4444444444444444,
              "#bd3786"
             ],
             [
              0.5555555555555556,
              "#d8576b"
             ],
             [
              0.6666666666666666,
              "#ed7953"
             ],
             [
              0.7777777777777778,
              "#fb9f3a"
             ],
             [
              0.8888888888888888,
              "#fdca26"
             ],
             [
              1,
              "#f0f921"
             ]
            ],
            "type": "heatmapgl"
           }
          ],
          "histogram": [
           {
            "marker": {
             "pattern": {
              "fillmode": "overlay",
              "size": 10,
              "solidity": 0.2
             }
            },
            "type": "histogram"
           }
          ],
          "histogram2d": [
           {
            "colorbar": {
             "outlinewidth": 0,
             "ticks": ""
            },
            "colorscale": [
             [
              0,
              "#0d0887"
             ],
             [
              0.1111111111111111,
              "#46039f"
             ],
             [
              0.2222222222222222,
              "#7201a8"
             ],
             [
              0.3333333333333333,
              "#9c179e"
             ],
             [
              0.4444444444444444,
              "#bd3786"
             ],
             [
              0.5555555555555556,
              "#d8576b"
             ],
             [
              0.6666666666666666,
              "#ed7953"
             ],
             [
              0.7777777777777778,
              "#fb9f3a"
             ],
             [
              0.8888888888888888,
              "#fdca26"
             ],
             [
              1,
              "#f0f921"
             ]
            ],
            "type": "histogram2d"
           }
          ],
          "histogram2dcontour": [
           {
            "colorbar": {
             "outlinewidth": 0,
             "ticks": ""
            },
            "colorscale": [
             [
              0,
              "#0d0887"
             ],
             [
              0.1111111111111111,
              "#46039f"
             ],
             [
              0.2222222222222222,
              "#7201a8"
             ],
             [
              0.3333333333333333,
              "#9c179e"
             ],
             [
              0.4444444444444444,
              "#bd3786"
             ],
             [
              0.5555555555555556,
              "#d8576b"
             ],
             [
              0.6666666666666666,
              "#ed7953"
             ],
             [
              0.7777777777777778,
              "#fb9f3a"
             ],
             [
              0.8888888888888888,
              "#fdca26"
             ],
             [
              1,
              "#f0f921"
             ]
            ],
            "type": "histogram2dcontour"
           }
          ],
          "mesh3d": [
           {
            "colorbar": {
             "outlinewidth": 0,
             "ticks": ""
            },
            "type": "mesh3d"
           }
          ],
          "parcoords": [
           {
            "line": {
             "colorbar": {
              "outlinewidth": 0,
              "ticks": ""
             }
            },
            "type": "parcoords"
           }
          ],
          "pie": [
           {
            "automargin": true,
            "type": "pie"
           }
          ],
          "scatter": [
           {
            "fillpattern": {
             "fillmode": "overlay",
             "size": 10,
             "solidity": 0.2
            },
            "type": "scatter"
           }
          ],
          "scatter3d": [
           {
            "line": {
             "colorbar": {
              "outlinewidth": 0,
              "ticks": ""
             }
            },
            "marker": {
             "colorbar": {
              "outlinewidth": 0,
              "ticks": ""
             }
            },
            "type": "scatter3d"
           }
          ],
          "scattercarpet": [
           {
            "marker": {
             "colorbar": {
              "outlinewidth": 0,
              "ticks": ""
             }
            },
            "type": "scattercarpet"
           }
          ],
          "scattergeo": [
           {
            "marker": {
             "colorbar": {
              "outlinewidth": 0,
              "ticks": ""
             }
            },
            "type": "scattergeo"
           }
          ],
          "scattergl": [
           {
            "marker": {
             "colorbar": {
              "outlinewidth": 0,
              "ticks": ""
             }
            },
            "type": "scattergl"
           }
          ],
          "scattermapbox": [
           {
            "marker": {
             "colorbar": {
              "outlinewidth": 0,
              "ticks": ""
             }
            },
            "type": "scattermapbox"
           }
          ],
          "scatterpolar": [
           {
            "marker": {
             "colorbar": {
              "outlinewidth": 0,
              "ticks": ""
             }
            },
            "type": "scatterpolar"
           }
          ],
          "scatterpolargl": [
           {
            "marker": {
             "colorbar": {
              "outlinewidth": 0,
              "ticks": ""
             }
            },
            "type": "scatterpolargl"
           }
          ],
          "scatterternary": [
           {
            "marker": {
             "colorbar": {
              "outlinewidth": 0,
              "ticks": ""
             }
            },
            "type": "scatterternary"
           }
          ],
          "surface": [
           {
            "colorbar": {
             "outlinewidth": 0,
             "ticks": ""
            },
            "colorscale": [
             [
              0,
              "#0d0887"
             ],
             [
              0.1111111111111111,
              "#46039f"
             ],
             [
              0.2222222222222222,
              "#7201a8"
             ],
             [
              0.3333333333333333,
              "#9c179e"
             ],
             [
              0.4444444444444444,
              "#bd3786"
             ],
             [
              0.5555555555555556,
              "#d8576b"
             ],
             [
              0.6666666666666666,
              "#ed7953"
             ],
             [
              0.7777777777777778,
              "#fb9f3a"
             ],
             [
              0.8888888888888888,
              "#fdca26"
             ],
             [
              1,
              "#f0f921"
             ]
            ],
            "type": "surface"
           }
          ],
          "table": [
           {
            "cells": {
             "fill": {
              "color": "#EBF0F8"
             },
             "line": {
              "color": "white"
             }
            },
            "header": {
             "fill": {
              "color": "#C8D4E3"
             },
             "line": {
              "color": "white"
             }
            },
            "type": "table"
           }
          ]
         },
         "layout": {
          "annotationdefaults": {
           "arrowcolor": "#2a3f5f",
           "arrowhead": 0,
           "arrowwidth": 1
          },
          "autotypenumbers": "strict",
          "coloraxis": {
           "colorbar": {
            "outlinewidth": 0,
            "ticks": ""
           }
          },
          "colorscale": {
           "diverging": [
            [
             0,
             "#8e0152"
            ],
            [
             0.1,
             "#c51b7d"
            ],
            [
             0.2,
             "#de77ae"
            ],
            [
             0.3,
             "#f1b6da"
            ],
            [
             0.4,
             "#fde0ef"
            ],
            [
             0.5,
             "#f7f7f7"
            ],
            [
             0.6,
             "#e6f5d0"
            ],
            [
             0.7,
             "#b8e186"
            ],
            [
             0.8,
             "#7fbc41"
            ],
            [
             0.9,
             "#4d9221"
            ],
            [
             1,
             "#276419"
            ]
           ],
           "sequential": [
            [
             0,
             "#0d0887"
            ],
            [
             0.1111111111111111,
             "#46039f"
            ],
            [
             0.2222222222222222,
             "#7201a8"
            ],
            [
             0.3333333333333333,
             "#9c179e"
            ],
            [
             0.4444444444444444,
             "#bd3786"
            ],
            [
             0.5555555555555556,
             "#d8576b"
            ],
            [
             0.6666666666666666,
             "#ed7953"
            ],
            [
             0.7777777777777778,
             "#fb9f3a"
            ],
            [
             0.8888888888888888,
             "#fdca26"
            ],
            [
             1,
             "#f0f921"
            ]
           ],
           "sequentialminus": [
            [
             0,
             "#0d0887"
            ],
            [
             0.1111111111111111,
             "#46039f"
            ],
            [
             0.2222222222222222,
             "#7201a8"
            ],
            [
             0.3333333333333333,
             "#9c179e"
            ],
            [
             0.4444444444444444,
             "#bd3786"
            ],
            [
             0.5555555555555556,
             "#d8576b"
            ],
            [
             0.6666666666666666,
             "#ed7953"
            ],
            [
             0.7777777777777778,
             "#fb9f3a"
            ],
            [
             0.8888888888888888,
             "#fdca26"
            ],
            [
             1,
             "#f0f921"
            ]
           ]
          },
          "colorway": [
           "#636efa",
           "#EF553B",
           "#00cc96",
           "#ab63fa",
           "#FFA15A",
           "#19d3f3",
           "#FF6692",
           "#B6E880",
           "#FF97FF",
           "#FECB52"
          ],
          "font": {
           "color": "#2a3f5f"
          },
          "geo": {
           "bgcolor": "white",
           "lakecolor": "white",
           "landcolor": "#E5ECF6",
           "showlakes": true,
           "showland": true,
           "subunitcolor": "white"
          },
          "hoverlabel": {
           "align": "left"
          },
          "hovermode": "closest",
          "mapbox": {
           "style": "light"
          },
          "paper_bgcolor": "white",
          "plot_bgcolor": "#E5ECF6",
          "polar": {
           "angularaxis": {
            "gridcolor": "white",
            "linecolor": "white",
            "ticks": ""
           },
           "bgcolor": "#E5ECF6",
           "radialaxis": {
            "gridcolor": "white",
            "linecolor": "white",
            "ticks": ""
           }
          },
          "scene": {
           "xaxis": {
            "backgroundcolor": "#E5ECF6",
            "gridcolor": "white",
            "gridwidth": 2,
            "linecolor": "white",
            "showbackground": true,
            "ticks": "",
            "zerolinecolor": "white"
           },
           "yaxis": {
            "backgroundcolor": "#E5ECF6",
            "gridcolor": "white",
            "gridwidth": 2,
            "linecolor": "white",
            "showbackground": true,
            "ticks": "",
            "zerolinecolor": "white"
           },
           "zaxis": {
            "backgroundcolor": "#E5ECF6",
            "gridcolor": "white",
            "gridwidth": 2,
            "linecolor": "white",
            "showbackground": true,
            "ticks": "",
            "zerolinecolor": "white"
           }
          },
          "shapedefaults": {
           "line": {
            "color": "#2a3f5f"
           }
          },
          "ternary": {
           "aaxis": {
            "gridcolor": "white",
            "linecolor": "white",
            "ticks": ""
           },
           "baxis": {
            "gridcolor": "white",
            "linecolor": "white",
            "ticks": ""
           },
           "bgcolor": "#E5ECF6",
           "caxis": {
            "gridcolor": "white",
            "linecolor": "white",
            "ticks": ""
           }
          },
          "title": {
           "x": 0.05
          },
          "xaxis": {
           "automargin": true,
           "gridcolor": "white",
           "linecolor": "white",
           "ticks": "",
           "title": {
            "standoff": 15
           },
           "zerolinecolor": "white",
           "zerolinewidth": 2
          },
          "yaxis": {
           "automargin": true,
           "gridcolor": "white",
           "linecolor": "white",
           "ticks": "",
           "title": {
            "standoff": 15
           },
           "zerolinecolor": "white",
           "zerolinewidth": 2
          }
         }
        },
        "title": {
         "text": "Pic for exchange bias"
        },
        "xaxis": {
         "anchor": "y",
         "domain": [
          0,
          0.45
         ]
        },
        "xaxis2": {
         "anchor": "y2",
         "domain": [
          0.55,
          1
         ]
        },
        "yaxis": {
         "anchor": "x",
         "domain": [
          0,
          1
         ]
        },
        "yaxis2": {
         "anchor": "x2",
         "domain": [
          0,
          1
         ]
        }
       }
      }
     },
     "metadata": {},
     "output_type": "display_data"
    }
   ],
   "source": [
    "#Построим график распределения целевой переменной\n",
    "fig = make_subplots(rows=1, cols=2, subplot_titles=['Histogram for exchange bias', 'Violin Plot for solubility'])\n",
    "\n",
    "# Histogram\n",
    "hist_fig = px.histogram(df, x=\"exc_bias_oe\", nbins = 60,\n",
    "                 color_discrete_sequence = colors,\n",
    "                 opacity = 0.7)\n",
    "\n",
    "fig.add_trace(hist_fig['data'][0], row=1, col=1) # Adding a graph indicating the location\n",
    "\n",
    "# Violin plot\n",
    "violin_fig = px.violin(df, y=\"exc_bias_oe\", color_discrete_sequence = colors, box = True)\n",
    "fig.add_trace(violin_fig['data'][0], row=1, col=2) # Adding a graph indicating the location\n",
    "\n",
    "# Setting up the layout\n",
    "fig.update_layout(showlegend=False, title_text=\"Pic for exchange bias\")\n",
    "\n",
    "# Graph display\n",
    "display(fig)"
   ]
  },
  {
   "cell_type": "code",
   "execution_count": 203,
   "metadata": {},
   "outputs": [
    {
     "data": {
      "image/png": "[encoded data removed]",
      "text/plain": [
       "<Figure size 800x600 with 1 Axes>"
      ]
     },
     "metadata": {},
     "output_type": "display_data"
    }
   ],
   "source": [
    "plt.figure(figsize=(8, 6)) # Создание ящика с усами для столбца 'exc_bias_oe'\n",
    "sns.boxplot(x=df['exc_bias_oe'])\n",
    "plt.xlabel('gap', fontsize=14) # Добавление названия оси x\n",
    "plt.show()"
   ]
  },
  {
   "cell_type": "code",
   "execution_count": 204,
   "metadata": {},
   "outputs": [
    {
     "name": "stdout",
     "output_type": "stream",
     "text": [
      "Индексы выбросов: [ 16  54  63 112 113 119 121 123 124 136 137 140 152 153 157 171 189 190\n",
      " 191 192 193 194 208 209 215 234 267 272 390 391 398 399 400 401 402 403\n",
      " 433 448 488 489 490 491 492 504 506 521 522 532]\n",
      "Значения выбросов: [2157.0, 7238.0, 2878.5, 2762.0, 2250.0, 2188.0, 3500.0, 22459.0, 18003.0, 2275.0, 2120.0, 1972.0, 2800.0, 2600.0, 3650.0, 2750.0, 3430.0, 4020.0, 5100.0, 3773.58, 5283.0, 5283.0, 2560.0, 2120.0, 3600.0, 2173.9, 2068.9, 2847.4576, 4408.0, 6350.0, 2083.0, 5121.9692, 10414.0, 8514.585999999998, 6372.383, 5325.26, 2755.17, 2000.0, 5753.62, 8310.58, 9418.761, 9573.644, 8410.919999999998, 5653.0, 2920.0, 1895.0, 1907.9, 1976.41]\n"
     ]
    }
   ],
   "source": [
    "#Ещё посмотрим с помощью интерквартального расстояния, так будет понятней, значения за первым и 3 квартилям будут выбросами\n",
    "def detect_outliers_iqr(data, threshold=1.5):\n",
    "    \"\"\"\n",
    "    Detect outliers using the Interquartile Range (IQR) method.\n",
    "\n",
    "    Parameters:\n",
    "        data (array-like): Input data.\n",
    "        threshold (float): Multiplier for the IQR to determine the outlier cutoff.\n",
    "\n",
    "    Returns:\n",
    "        outliers (array-like): Array containing the indices of outlier data points.\n",
    "    \"\"\"\n",
    "    quartile_1, quartile_3 = np.percentile(data, [25, 75])\n",
    "    iqr = quartile_3 - quartile_1\n",
    "    lower_bound = quartile_1 - (threshold * iqr)\n",
    "    upper_bound = quartile_3 + (threshold * iqr)\n",
    "    outliers = np.where((data < lower_bound) | (data > upper_bound))[0]\n",
    "    return outliers\n",
    "\n",
    "# Example usage:\n",
    "outliers = detect_outliers_iqr(df['exc_bias_oe'])\n",
    "print(\"Индексы выбросов:\", outliers)\n",
    "print(\"Значения выбросов:\", [df['exc_bias_oe'][i] for i in outliers])"
   ]
  },
  {
   "cell_type": "code",
   "execution_count": 205,
   "metadata": {},
   "outputs": [
    {
     "data": {
      "application/vnd.plotly.v1+json": {
       "config": {
        "plotlyServerURL": "https://plot.ly"
       },
       "data": [
        {
         "marker": {
          "color": "#3285A6"
         },
         "mode": "markers",
         "name": "Data Points",
         "type": "scatter",
         "x": [
          0,
          1,
          2,
          3,
          4,
          5,
          6,
          7,
          8,
          9,
          10,
          11,
          12,
          13,
          14,
          15,
          16,
          17,
          18,
          19,
          20,
          21,
          22,
          23,
          24,
          25,
          26,
          27,
          28,
          29,
          30,
          31,
          32,
          33,
          34,
          35,
          36,
          37,
          38,
          39,
          40,
          41,
          42,
          43,
          44,
          45,
          46,
          47,
          48,
          49,
          50,
          51,
          52,
          53,
          54,
          55,
          56,
          57,
          58,
          59,
          60,
          61,
          62,
          63,
          64,
          65,
          66,
          67,
          68,
          69,
          70,
          71,
          72,
          73,
          74,
          75,
          76,
          77,
          78,
          79,
          80,
          81,
          82,
          83,
          84,
          85,
          86,
          87,
          88,
          89,
          90,
          91,
          92,
          93,
          94,
          95,
          96,
          97,
          98,
          99,
          100,
          101,
          102,
          103,
          104,
          105,
          106,
          107,
          108,
          109,
          110,
          111,
          112,
          113,
          114,
          115,
          116,
          117,
          118,
          119,
          120,
          121,
          122,
          123,
          124,
          125,
          126,
          127,
          128,
          129,
          130,
          131,
          132,
          133,
          134,
          135,
          136,
          137,
          138,
          139,
          140,
          141,
          142,
          143,
          144,
          145,
          146,
          147,
          148,
          149,
          150,
          151,
          152,
          153,
          154,
          155,
          156,
          157,
          158,
          159,
          160,
          161,
          162,
          163,
          164,
          165,
          166,
          167,
          168,
          169,
          170,
          171,
          172,
          173,
          174,
          175,
          176,
          177,
          178,
          179,
          180,
          181,
          182,
          183,
          184,
          185,
          186,
          187,
          188,
          189,
          190,
          191,
          192,
          193,
          194,
          195,
          196,
          197,
          198,
          199,
          200,
          201,
          202,
          203,
          204,
          205,
          206,
          207,
          208,
          209,
          210,
          211,
          212,
          213,
          214,
          215,
          216,
          217,
          218,
          219,
          220,
          221,
          222,
          223,
          224,
          225,
          226,
          227,
          228,
          229,
          230,
          231,
          232,
          233,
          234,
          235,
          236,
          237,
          238,
          239,
          240,
          241,
          242,
          243,
          244,
          245,
          246,
          247,
          248,
          249,
          250,
          251,
          252,
          253,
          254,
          255,
          256,
          257,
          258,
          259,
          260,
          261,
          262,
          263,
          264,
          265,
          266,
          267,
          268,
          269,
          270,
          271,
          272,
          273,
          274,
          275,
          276,
          277,
          278,
          279,
          280,
          281,
          282,
          283,
          284,
          285,
          286,
          287,
          288,
          289,
          290,
          291,
          292,
          293,
          294,
          295,
          296,
          297,
          298,
          299,
          300,
          301,
          302,
          303,
          304,
          305,
          306,
          307,
          308,
          309,
          310,
          311,
          312,
          313,
          314,
          315,
          316,
          317,
          318,
          319,
          320,
          321,
          322,
          323,
          324,
          325,
          326,
          327,
          328,
          329,
          330,
          331,
          332,
          333,
          334,
          335,
          336,
          337,
          338,
          339,
          340,
          341,
          342,
          343,
          344,
          345,
          346,
          347,
          348,
          349,
          350,
          351,
          352,
          353,
          354,
          355,
          356,
          357,
          358,
          359,
          360,
          361,
          362,
          363,
          364,
          365,
          366,
          367,
          368,
          369,
          370,
          371,
          372,
          373,
          374,
          375,
          376,
          377,
          378,
          379,
          380,
          381,
          382,
          383,
          384,
          385,
          386,
          387,
          388,
          389,
          390,
          391,
          392,
          393,
          394,
          395,
          396,
          397,
          398,
          399,
          400,
          401,
          402,
          403,
          404,
          405,
          406,
          407,
          408,
          409,
          410,
          411,
          412,
          413,
          414,
          415,
          416,
          417,
          418,
          419,
          420,
          421,
          422,
          423,
          424,
          425,
          426,
          427,
          428,
          429,
          430,
          431,
          432,
          433,
          434,
          435,
          436,
          437,
          438,
          439,
          440,
          441,
          442,
          443,
          444,
          445,
          446,
          447,
          448,
          449,
          450,
          451,
          452,
          453,
          454,
          455,
          456,
          457,
          458,
          459,
          460,
          461,
          462,
          463,
          464,
          465,
          466,
          467,
          468,
          469,
          470,
          471,
          472,
          473,
          474,
          475,
          476,
          477,
          478,
          479,
          480,
          481,
          482,
          483,
          484,
          485,
          486,
          487,
          488,
          489,
          490,
          491,
          492,
          493,
          494,
          495,
          496,
          497,
          498,
          499,
          500,
          501,
          502,
          503,
          504,
          505,
          506,
          507,
          508,
          509,
          510,
          511,
          512,
          513,
          514,
          515,
          516,
          517,
          518,
          519,
          520,
          521,
          522,
          523,
          524,
          525,
          526,
          527,
          528,
          529,
          530,
          531,
          532
         ],
         "y": [
          1132,
          406,
          51.34000000000003,
          108.17999999999996,
          8.919999999999959,
          14.379999999999995,
          2.830000000000041,
          0,
          255,
          296,
          344,
          635,
          0,
          229,
          350,
          502,
          2157,
          130,
          137.00000000000006,
          38,
          73,
          81,
          109,
          0,
          0,
          0,
          0,
          0,
          0,
          112.78100000000006,
          226.736,
          170,
          169.13099999999997,
          112.77999999999996,
          56.17999999999995,
          90,
          50,
          142.77999999999997,
          137.21000000000004,
          71,
          346.379,
          952.57,
          629.898,
          519.698,
          472.1585,
          278.3,
          185.144,
          108.06499999999994,
          76.83000000000004,
          440,
          551.72,
          551.72,
          96.76699999999994,
          1812,
          7238,
          93.23059999999998,
          82.03059999999994,
          82.03059999999994,
          0,
          2.5,
          0,
          719,
          0,
          2878.5,
          0,
          329,
          0,
          0,
          0,
          0,
          329.43,
          145.17999999999995,
          1600,
          1825,
          1500,
          1650,
          9.409999999999968,
          84.70000000000005,
          71.36000000000001,
          64.76400000000001,
          5,
          49.72500000000002,
          41.96000000000004,
          2.419999999999959,
          2.419999999999959,
          2.419999999999959,
          1.3550000000000182,
          0.6585000000000036,
          0.6589999999999918,
          15,
          52,
          70,
          20,
          1219.58,
          1182,
          342.15,
          0,
          0,
          0,
          0.1000000000000227,
          399.9500000000001,
          49.89999999999998,
          0,
          0,
          0.0499999999999545,
          0.0499999999999545,
          99.95000000000005,
          0.0499999999999545,
          1804,
          781.28,
          1022,
          471,
          2762,
          2250,
          583,
          1190,
          133,
          20,
          1071.526,
          2188,
          1600,
          3500,
          1000,
          22459,
          18003,
          140.00000000000006,
          964.9,
          932,
          865.6,
          122.37400000000002,
          510.4,
          13,
          78,
          650,
          254,
          250,
          2275,
          2120,
          800,
          511.81,
          1972,
          1814.6,
          1350,
          502,
          181,
          79,
          149.24,
          30.66999999999996,
          402.9,
          1877.782,
          1877.782,
          1711.4,
          2800,
          2600,
          0,
          0,
          0,
          3650,
          0,
          0,
          530.6,
          906.4,
          249,
          94,
          1335,
          1318,
          131.00000000000006,
          165.23000000000002,
          1025,
          113.5,
          900,
          2750,
          250,
          984.37,
          677,
          812.5,
          124.13999999999992,
          123.24,
          148.59500000000003,
          183.82,
          210.53,
          147.35999999999996,
          36.60000000000002,
          26.442000000000007,
          21.5,
          1086,
          575,
          273,
          1290,
          3430,
          4020,
          5100,
          3773.58,
          5283,
          5283,
          147.76,
          14.700000000000044,
          177.29700000000005,
          54,
          7.740000000000009,
          65.56000000000006,
          0.0074999999999363,
          0.0074999999999363,
          1.1073000000000093,
          4.870000000000118,
          1.4600000000000364,
          12.299999999999956,
          25,
          2560,
          2120,
          180,
          390,
          190,
          110,
          490,
          3600,
          5,
          5,
          20,
          6,
          0,
          34.375,
          40,
          100,
          0,
          284.89200000000005,
          454.5400000000001,
          0,
          1879,
          631.7,
          456.2,
          47.60000000000002,
          0,
          0,
          2173.9,
          0,
          0,
          0,
          0,
          0,
          0,
          280,
          300,
          300,
          280,
          45,
          48,
          24,
          21,
          10,
          14,
          1.5,
          12,
          3,
          3,
          168,
          520,
          632,
          0,
          0,
          0,
          0,
          0,
          827.586,
          0,
          1355.93,
          0,
          2068.9,
          0,
          0,
          0,
          0,
          2847.4576,
          0,
          0,
          0,
          0,
          0,
          0,
          22.200000000000045,
          24.049999999999955,
          40.779,
          57.39999999999998,
          40.75999999999999,
          0.169999999999959,
          5.2999999999999545,
          1.0220000000000482,
          22,
          45,
          43,
          62,
          250,
          310,
          570,
          173.89999999999998,
          902,
          173.89999999999998,
          902,
          10.860000000000014,
          254.052,
          21.840000000000032,
          0.8500000000000227,
          0,
          86,
          10.799999999999956,
          10.700000000000044,
          32.33000000000004,
          6.091599999999971,
          1.5744000000000824,
          70.34199999999998,
          85.63,
          77.74000000000001,
          112.875,
          22.575000000000045,
          0,
          30,
          130,
          848,
          800,
          784,
          720,
          640,
          640,
          480,
          473,
          601.796,
          433.7,
          683.824,
          234.671,
          91.66499999999996,
          56,
          60.14599999999996,
          180.44600000000003,
          533.957,
          578.9,
          81.11000000000001,
          79.29200000000003,
          113.716,
          871.02,
          1480.01,
          159.24,
          473.62,
          50,
          50,
          50,
          50,
          50,
          50,
          0,
          0,
          0,
          0,
          0,
          0,
          0,
          0,
          204,
          254,
          329.43,
          145.17999999999995,
          135,
          161,
          143.00000000000006,
          0,
          0,
          0,
          182,
          126,
          374,
          685,
          182,
          94,
          314,
          685,
          1304.348,
          1195.65,
          763,
          506,
          379,
          340.5,
          178.86900000000003,
          124.743,
          179.2,
          18,
          108.70600000000002,
          35.36850000000004,
          0,
          0,
          14,
          1217,
          4408,
          6350,
          0,
          0,
          0,
          0,
          909,
          726.9999999999999,
          2083,
          5121.9692,
          10414,
          8514.585999999998,
          6372.383,
          5325.26,
          0,
          0,
          0,
          0,
          0,
          0,
          0,
          0,
          0,
          0,
          0,
          0,
          0,
          0,
          104,
          183,
          612,
          758,
          584,
          50,
          101.54999999999995,
          127.29500000000009,
          101.64999999999998,
          76.25,
          101,
          76.89999999999998,
          50.84500000000003,
          25.559000000000083,
          0.1990000000000691,
          2755.17,
          918.639,
          407.967,
          178.57100000000003,
          25.200000000000045,
          76.54999999999995,
          25.46000000000004,
          76.5,
          25.55899999999997,
          1253.696,
          1478.24,
          223.87,
          13.28200000000004,
          90,
          50,
          2000,
          833,
          961.2,
          280.8268,
          830,
          1020,
          1030,
          1110,
          1110,
          0,
          0,
          0,
          0,
          769,
          280,
          147,
          0,
          0,
          0,
          1115.5800000000002,
          188.886,
          300.678,
          110.77999999999996,
          305.046,
          101.80899999999995,
          1756.75,
          803.95,
          211.80650000000003,
          126.63000000000004,
          128.52800000000002,
          43.5,
          0,
          0,
          0,
          50.68500000000006,
          253.3855,
          141.7719999999999,
          175.635,
          148.635,
          162.11950000000002,
          5753.62,
          8310.58,
          9418.761,
          9573.644,
          8410.919999999998,
          1369.513,
          57.07000000000005,
          0,
          1375,
          1125,
          1125,
          1175,
          1000,
          1050,
          393.25,
          213,
          5653,
          518,
          2920,
          1580,
          990,
          153.48000000000002,
          75.87300000000005,
          0,
          76.88999999999999,
          487.043,
          1662.94,
          1220.4,
          1116.5300000000002,
          1029.63,
          1002.68,
          960.57,
          949.12,
          1895,
          1907.9,
          730,
          75,
          820,
          900,
          656.76,
          842.644,
          1030,
          1144.5,
          1452.6,
          1976.41
         ]
        },
        {
         "marker": {
          "color": "#082040"
         },
         "mode": "markers",
         "name": "Outliers",
         "type": "scatter",
         "x": [
          16,
          54,
          63,
          112,
          113,
          119,
          121,
          123,
          124,
          136,
          137,
          140,
          152,
          153,
          157,
          171,
          189,
          190,
          191,
          192,
          193,
          194,
          208,
          209,
          215,
          234,
          267,
          272,
          390,
          391,
          398,
          399,
          400,
          401,
          402,
          403,
          433,
          448,
          488,
          489,
          490,
          491,
          492,
          504,
          506,
          521,
          522,
          532
         ],
         "y": [
          2157,
          7238,
          2878.5,
          2762,
          2250,
          2188,
          3500,
          22459,
          18003,
          2275,
          2120,
          1972,
          2800,
          2600,
          3650,
          2750,
          3430,
          4020,
          5100,
          3773.58,
          5283,
          5283,
          2560,
          2120,
          3600,
          2173.9,
          2068.9,
          2847.4576,
          4408,
          6350,
          2083,
          5121.9692,
          10414,
          8514.585999999998,
          6372.383,
          5325.26,
          2755.17,
          2000,
          5753.62,
          8310.58,
          9418.761,
          9573.644,
          8410.919999999998,
          5653,
          2920,
          1895,
          1907.9,
          1976.41
         ]
        }
       ],
       "layout": {
        "template": {
         "data": {
          "bar": [
           {
            "error_x": {
             "color": "#2a3f5f"
            },
            "error_y": {
             "color": "#2a3f5f"
            },
            "marker": {
             "line": {
              "color": "#E5ECF6",
              "width": 0.5
             },
             "pattern": {
              "fillmode": "overlay",
              "size": 10,
              "solidity": 0.2
             }
            },
            "type": "bar"
           }
          ],
          "barpolar": [
           {
            "marker": {
             "line": {
              "color": "#E5ECF6",
              "width": 0.5
             },
             "pattern": {
              "fillmode": "overlay",
              "size": 10,
              "solidity": 0.2
             }
            },
            "type": "barpolar"
           }
          ],
          "carpet": [
           {
            "aaxis": {
             "endlinecolor": "#2a3f5f",
             "gridcolor": "white",
             "linecolor": "white",
             "minorgridcolor": "white",
             "startlinecolor": "#2a3f5f"
            },
            "baxis": {
             "endlinecolor": "#2a3f5f",
             "gridcolor": "white",
             "linecolor": "white",
             "minorgridcolor": "white",
             "startlinecolor": "#2a3f5f"
            },
            "type": "carpet"
           }
          ],
          "choropleth": [
           {
            "colorbar": {
             "outlinewidth": 0,
             "ticks": ""
            },
            "type": "choropleth"
           }
          ],
          "contour": [
           {
            "colorbar": {
             "outlinewidth": 0,
             "ticks": ""
            },
            "colorscale": [
             [
              0,
              "#0d0887"
             ],
             [
              0.1111111111111111,
              "#46039f"
             ],
             [
              0.2222222222222222,
              "#7201a8"
             ],
             [
              0.3333333333333333,
              "#9c179e"
             ],
             [
              0.4444444444444444,
              "#bd3786"
             ],
             [
              0.5555555555555556,
              "#d8576b"
             ],
             [
              0.6666666666666666,
              "#ed7953"
             ],
             [
              0.7777777777777778,
              "#fb9f3a"
             ],
             [
              0.8888888888888888,
              "#fdca26"
             ],
             [
              1,
              "#f0f921"
             ]
            ],
            "type": "contour"
           }
          ],
          "contourcarpet": [
           {
            "colorbar": {
             "outlinewidth": 0,
             "ticks": ""
            },
            "type": "contourcarpet"
           }
          ],
          "heatmap": [
           {
            "colorbar": {
             "outlinewidth": 0,
             "ticks": ""
            },
            "colorscale": [
             [
              0,
              "#0d0887"
             ],
             [
              0.1111111111111111,
              "#46039f"
             ],
             [
              0.2222222222222222,
              "#7201a8"
             ],
             [
              0.3333333333333333,
              "#9c179e"
             ],
             [
              0.4444444444444444,
              "#bd3786"
             ],
             [
              0.5555555555555556,
              "#d8576b"
             ],
             [
              0.6666666666666666,
              "#ed7953"
             ],
             [
              0.7777777777777778,
              "#fb9f3a"
             ],
             [
              0.8888888888888888,
              "#fdca26"
             ],
             [
              1,
              "#f0f921"
             ]
            ],
            "type": "heatmap"
           }
          ],
          "heatmapgl": [
           {
            "colorbar": {
             "outlinewidth": 0,
             "ticks": ""
            },
            "colorscale": [
             [
              0,
              "#0d0887"
             ],
             [
              0.1111111111111111,
              "#46039f"
             ],
             [
              0.2222222222222222,
              "#7201a8"
             ],
             [
              0.3333333333333333,
              "#9c179e"
             ],
             [
              0.4444444444444444,
              "#bd3786"
             ],
             [
              0.5555555555555556,
              "#d8576b"
             ],
             [
              0.6666666666666666,
              "#ed7953"
             ],
             [
              0.7777777777777778,
              "#fb9f3a"
             ],
             [
              0.8888888888888888,
              "#fdca26"
             ],
             [
              1,
              "#f0f921"
             ]
            ],
            "type": "heatmapgl"
           }
          ],
          "histogram": [
           {
            "marker": {
             "pattern": {
              "fillmode": "overlay",
              "size": 10,
              "solidity": 0.2
             }
            },
            "type": "histogram"
           }
          ],
          "histogram2d": [
           {
            "colorbar": {
             "outlinewidth": 0,
             "ticks": ""
            },
            "colorscale": [
             [
              0,
              "#0d0887"
             ],
             [
              0.1111111111111111,
              "#46039f"
             ],
             [
              0.2222222222222222,
              "#7201a8"
             ],
             [
              0.3333333333333333,
              "#9c179e"
             ],
             [
              0.4444444444444444,
              "#bd3786"
             ],
             [
              0.5555555555555556,
              "#d8576b"
             ],
             [
              0.6666666666666666,
              "#ed7953"
             ],
             [
              0.7777777777777778,
              "#fb9f3a"
             ],
             [
              0.8888888888888888,
              "#fdca26"
             ],
             [
              1,
              "#f0f921"
             ]
            ],
            "type": "histogram2d"
           }
          ],
          "histogram2dcontour": [
           {
            "colorbar": {
             "outlinewidth": 0,
             "ticks": ""
            },
            "colorscale": [
             [
              0,
              "#0d0887"
             ],
             [
              0.1111111111111111,
              "#46039f"
             ],
             [
              0.2222222222222222,
              "#7201a8"
             ],
             [
              0.3333333333333333,
              "#9c179e"
             ],
             [
              0.4444444444444444,
              "#bd3786"
             ],
             [
              0.5555555555555556,
              "#d8576b"
             ],
             [
              0.6666666666666666,
              "#ed7953"
             ],
             [
              0.7777777777777778,
              "#fb9f3a"
             ],
             [
              0.8888888888888888,
              "#fdca26"
             ],
             [
              1,
              "#f0f921"
             ]
            ],
            "type": "histogram2dcontour"
           }
          ],
          "mesh3d": [
           {
            "colorbar": {
             "outlinewidth": 0,
             "ticks": ""
            },
            "type": "mesh3d"
           }
          ],
          "parcoords": [
           {
            "line": {
             "colorbar": {
              "outlinewidth": 0,
              "ticks": ""
             }
            },
            "type": "parcoords"
           }
          ],
          "pie": [
           {
            "automargin": true,
            "type": "pie"
           }
          ],
          "scatter": [
           {
            "fillpattern": {
             "fillmode": "overlay",
             "size": 10,
             "solidity": 0.2
            },
            "type": "scatter"
           }
          ],
          "scatter3d": [
           {
            "line": {
             "colorbar": {
              "outlinewidth": 0,
              "ticks": ""
             }
            },
            "marker": {
             "colorbar": {
              "outlinewidth": 0,
              "ticks": ""
             }
            },
            "type": "scatter3d"
           }
          ],
          "scattercarpet": [
           {
            "marker": {
             "colorbar": {
              "outlinewidth": 0,
              "ticks": ""
             }
            },
            "type": "scattercarpet"
           }
          ],
          "scattergeo": [
           {
            "marker": {
             "colorbar": {
              "outlinewidth": 0,
              "ticks": ""
             }
            },
            "type": "scattergeo"
           }
          ],
          "scattergl": [
           {
            "marker": {
             "colorbar": {
              "outlinewidth": 0,
              "ticks": ""
             }
            },
            "type": "scattergl"
           }
          ],
          "scattermapbox": [
           {
            "marker": {
             "colorbar": {
              "outlinewidth": 0,
              "ticks": ""
             }
            },
            "type": "scattermapbox"
           }
          ],
          "scatterpolar": [
           {
            "marker": {
             "colorbar": {
              "outlinewidth": 0,
              "ticks": ""
             }
            },
            "type": "scatterpolar"
           }
          ],
          "scatterpolargl": [
           {
            "marker": {
             "colorbar": {
              "outlinewidth": 0,
              "ticks": ""
             }
            },
            "type": "scatterpolargl"
           }
          ],
          "scatterternary": [
           {
            "marker": {
             "colorbar": {
              "outlinewidth": 0,
              "ticks": ""
             }
            },
            "type": "scatterternary"
           }
          ],
          "surface": [
           {
            "colorbar": {
             "outlinewidth": 0,
             "ticks": ""
            },
            "colorscale": [
             [
              0,
              "#0d0887"
             ],
             [
              0.1111111111111111,
              "#46039f"
             ],
             [
              0.2222222222222222,
              "#7201a8"
             ],
             [
              0.3333333333333333,
              "#9c179e"
             ],
             [
              0.4444444444444444,
              "#bd3786"
             ],
             [
              0.5555555555555556,
              "#d8576b"
             ],
             [
              0.6666666666666666,
              "#ed7953"
             ],
             [
              0.7777777777777778,
              "#fb9f3a"
             ],
             [
              0.8888888888888888,
              "#fdca26"
             ],
             [
              1,
              "#f0f921"
             ]
            ],
            "type": "surface"
           }
          ],
          "table": [
           {
            "cells": {
             "fill": {
              "color": "#EBF0F8"
             },
             "line": {
              "color": "white"
             }
            },
            "header": {
             "fill": {
              "color": "#C8D4E3"
             },
             "line": {
              "color": "white"
             }
            },
            "type": "table"
           }
          ]
         },
         "layout": {
          "annotationdefaults": {
           "arrowcolor": "#2a3f5f",
           "arrowhead": 0,
           "arrowwidth": 1
          },
          "autotypenumbers": "strict",
          "coloraxis": {
           "colorbar": {
            "outlinewidth": 0,
            "ticks": ""
           }
          },
          "colorscale": {
           "diverging": [
            [
             0,
             "#8e0152"
            ],
            [
             0.1,
             "#c51b7d"
            ],
            [
             0.2,
             "#de77ae"
            ],
            [
             0.3,
             "#f1b6da"
            ],
            [
             0.4,
             "#fde0ef"
            ],
            [
             0.5,
             "#f7f7f7"
            ],
            [
             0.6,
             "#e6f5d0"
            ],
            [
             0.7,
             "#b8e186"
            ],
            [
             0.8,
             "#7fbc41"
            ],
            [
             0.9,
             "#4d9221"
            ],
            [
             1,
             "#276419"
            ]
           ],
           "sequential": [
            [
             0,
             "#0d0887"
            ],
            [
             0.1111111111111111,
             "#46039f"
            ],
            [
             0.2222222222222222,
             "#7201a8"
            ],
            [
             0.3333333333333333,
             "#9c179e"
            ],
            [
             0.4444444444444444,
             "#bd3786"
            ],
            [
             0.5555555555555556,
             "#d8576b"
            ],
            [
             0.6666666666666666,
             "#ed7953"
            ],
            [
             0.7777777777777778,
             "#fb9f3a"
            ],
            [
             0.8888888888888888,
             "#fdca26"
            ],
            [
             1,
             "#f0f921"
            ]
           ],
           "sequentialminus": [
            [
             0,
             "#0d0887"
            ],
            [
             0.1111111111111111,
             "#46039f"
            ],
            [
             0.2222222222222222,
             "#7201a8"
            ],
            [
             0.3333333333333333,
             "#9c179e"
            ],
            [
             0.4444444444444444,
             "#bd3786"
            ],
            [
             0.5555555555555556,
             "#d8576b"
            ],
            [
             0.6666666666666666,
             "#ed7953"
            ],
            [
             0.7777777777777778,
             "#fb9f3a"
            ],
            [
             0.8888888888888888,
             "#fdca26"
            ],
            [
             1,
             "#f0f921"
            ]
           ]
          },
          "colorway": [
           "#636efa",
           "#EF553B",
           "#00cc96",
           "#ab63fa",
           "#FFA15A",
           "#19d3f3",
           "#FF6692",
           "#B6E880",
           "#FF97FF",
           "#FECB52"
          ],
          "font": {
           "color": "#2a3f5f"
          },
          "geo": {
           "bgcolor": "white",
           "lakecolor": "white",
           "landcolor": "#E5ECF6",
           "showlakes": true,
           "showland": true,
           "subunitcolor": "white"
          },
          "hoverlabel": {
           "align": "left"
          },
          "hovermode": "closest",
          "mapbox": {
           "style": "light"
          },
          "paper_bgcolor": "white",
          "plot_bgcolor": "#E5ECF6",
          "polar": {
           "angularaxis": {
            "gridcolor": "white",
            "linecolor": "white",
            "ticks": ""
           },
           "bgcolor": "#E5ECF6",
           "radialaxis": {
            "gridcolor": "white",
            "linecolor": "white",
            "ticks": ""
           }
          },
          "scene": {
           "xaxis": {
            "backgroundcolor": "#E5ECF6",
            "gridcolor": "white",
            "gridwidth": 2,
            "linecolor": "white",
            "showbackground": true,
            "ticks": "",
            "zerolinecolor": "white"
           },
           "yaxis": {
            "backgroundcolor": "#E5ECF6",
            "gridcolor": "white",
            "gridwidth": 2,
            "linecolor": "white",
            "showbackground": true,
            "ticks": "",
            "zerolinecolor": "white"
           },
           "zaxis": {
            "backgroundcolor": "#E5ECF6",
            "gridcolor": "white",
            "gridwidth": 2,
            "linecolor": "white",
            "showbackground": true,
            "ticks": "",
            "zerolinecolor": "white"
           }
          },
          "shapedefaults": {
           "line": {
            "color": "#2a3f5f"
           }
          },
          "ternary": {
           "aaxis": {
            "gridcolor": "white",
            "linecolor": "white",
            "ticks": ""
           },
           "baxis": {
            "gridcolor": "white",
            "linecolor": "white",
            "ticks": ""
           },
           "bgcolor": "#E5ECF6",
           "caxis": {
            "gridcolor": "white",
            "linecolor": "white",
            "ticks": ""
           }
          },
          "title": {
           "x": 0.05
          },
          "xaxis": {
           "automargin": true,
           "gridcolor": "white",
           "linecolor": "white",
           "ticks": "",
           "title": {
            "standoff": 15
           },
           "zerolinecolor": "white",
           "zerolinewidth": 2
          },
          "yaxis": {
           "automargin": true,
           "gridcolor": "white",
           "linecolor": "white",
           "ticks": "",
           "title": {
            "standoff": 15
           },
           "zerolinecolor": "white",
           "zerolinewidth": 2
          }
         }
        },
        "title": {
         "text": "Outlier Detection Using IQR Method"
        },
        "xaxis": {
         "title": {
          "text": "Index"
         }
        },
        "yaxis": {
         "title": {
          "text": "Value"
         }
        }
       }
      }
     },
     "metadata": {},
     "output_type": "display_data"
    }
   ],
   "source": [
    "# Detect outliers\n",
    "outliers = detect_outliers_iqr(df['exc_bias_oe'])\n",
    "\n",
    "# Получение значений выбросов\n",
    "outlier_values = df.loc[outliers, 'exc_bias_oe']\n",
    "\n",
    "# Scatter plot\n",
    "fig = go.Figure()\n",
    "\n",
    "# Plot all data points\n",
    "fig.add_trace(go.Scatter(x=np.arange(len(df['exc_bias_oe'])), y=df['exc_bias_oe'], mode='markers', name='Data Points', marker=dict(color=colors[2])))\n",
    "\n",
    "# Highlight outliers\n",
    "fig.add_trace(go.Scatter(x=outliers, y=outlier_values, mode='markers', marker=dict(color=colors[0]), name='Outliers'))\n",
    "\n",
    "# Add layout\n",
    "fig.update_layout(title='Outlier Detection Using IQR Method',\n",
    "                  xaxis_title='Index',\n",
    "                  yaxis_title='Value')\n",
    "\n",
    "# Show plot\n",
    "display(fig)"
   ]
  },
  {
   "cell_type": "code",
   "execution_count": 206,
   "metadata": {},
   "outputs": [
    {
     "name": "stdout",
     "output_type": "stream",
     "text": [
      "   id  space_group_shell   coer_oe  exc_bias_oe  fc_field_t  h_range_max_koe  \\\n",
      "0   1                227  27800.00      1132.00         5.0             50.0   \n",
      "1   2                227   7800.00       406.00         5.0             50.0   \n",
      "2   3                  0     24.80        51.34         0.0             10.0   \n",
      "3   4                  0     90.20       108.18         0.0             10.0   \n",
      "4   5                  0     40.07         8.92         0.0             10.0   \n",
      "\n",
      "   mr (emu/g)  sat_em_g  shape  space_group_core  temperature_k  \\\n",
      "0    13.76705   52.1524    1.0             186.0            5.0   \n",
      "1    43.26420   83.1400    1.0             225.0            5.0   \n",
      "2     0.00780    2.2900    1.0             227.0          300.0   \n",
      "3     0.02180    2.4300    1.0             227.0          300.0   \n",
      "4     0.34980   16.1500    1.0             227.0          300.0   \n",
      "\n",
      "   ver_shift_emu_g  sphericity  exc_dir  ver_s_dir  \\\n",
      "0              0.0         1.0        0          1   \n",
      "1              0.0         1.0        0          1   \n",
      "2              0.0         1.0        1          1   \n",
      "3              0.0         1.0        1          1   \n",
      "4              0.0         1.0        1          1   \n",
      "\n",
      "                                      mass_ratio_str  area/volume  \n",
      "0  [0.20313874751542227, 0.355473349245203, 0.187...     0.405405  \n",
      "1  [0.3612074917593743, 0.3805691487063179, 0.258...     0.428571  \n",
      "2  [0.11674879913946458, 0.13585577295807472, 0.4...     0.176471  \n",
      "3  [0.11674879913946458, 0.13585577295807472, 0.4...     0.272727  \n",
      "4  [0.11674879913946458, 0.13585577295807472, 0.4...     0.250000  \n"
     ]
    }
   ],
   "source": [
    "out_data = df.drop(outliers)\n",
    "print(out_data.head())"
   ]
  },
  {
   "cell_type": "code",
   "execution_count": 207,
   "metadata": {},
   "outputs": [
    {
     "name": "stdout",
     "output_type": "stream",
     "text": [
      "<class 'pandas.core.frame.DataFrame'>\n",
      "Int64Index: 485 entries, 0 to 531\n",
      "Data columns (total 17 columns):\n",
      " #   Column             Non-Null Count  Dtype  \n",
      "---  ------             --------------  -----  \n",
      " 0   id                 485 non-null    int64  \n",
      " 1   space_group_shell  485 non-null    int64  \n",
      " 2   coer_oe            485 non-null    float64\n",
      " 3   exc_bias_oe        485 non-null    float64\n",
      " 4   fc_field_t         485 non-null    float64\n",
      " 5   h_range_max_koe    485 non-null    float64\n",
      " 6   mr (emu/g)         485 non-null    float64\n",
      " 7   sat_em_g           485 non-null    float64\n",
      " 8   shape              485 non-null    float64\n",
      " 9   space_group_core   485 non-null    float64\n",
      " 10  temperature_k      485 non-null    float64\n",
      " 11  ver_shift_emu_g    485 non-null    float64\n",
      " 12  sphericity         485 non-null    float64\n",
      " 13  exc_dir            485 non-null    int64  \n",
      " 14  ver_s_dir          485 non-null    int64  \n",
      " 15  mass_ratio_str     485 non-null    object \n",
      " 16  area/volume        485 non-null    float64\n",
      "dtypes: float64(12), int64(4), object(1)\n",
      "memory usage: 68.2+ KB\n",
      "None\n"
     ]
    }
   ],
   "source": [
    "df = out_data\n",
    "print(df.info())"
   ]
  },
  {
   "cell_type": "code",
   "execution_count": 208,
   "metadata": {},
   "outputs": [
    {
     "data": {
      "application/vnd.plotly.v1+json": {
       "config": {
        "plotlyServerURL": "https://plot.ly"
       },
       "data": [
        {
         "alignmentgroup": "True",
         "bingroup": "x",
         "hovertemplate": "exc_bias_oe=%{x}<br>count=%{y}<extra></extra>",
         "legendgroup": "",
         "marker": {
          "color": "#082040",
          "opacity": 0.7,
          "pattern": {
           "shape": ""
          }
         },
         "name": "",
         "nbinsx": 60,
         "offsetgroup": "",
         "orientation": "v",
         "showlegend": false,
         "type": "histogram",
         "x": [
          1132,
          406,
          51.34000000000003,
          108.17999999999996,
          8.919999999999959,
          14.379999999999995,
          2.830000000000041,
          0,
          255,
          296,
          344,
          635,
          0,
          229,
          350,
          502,
          130,
          137.00000000000006,
          38,
          73,
          81,
          109,
          0,
          0,
          0,
          0,
          0,
          0,
          112.78100000000006,
          226.736,
          170,
          169.13099999999997,
          112.77999999999996,
          56.17999999999995,
          90,
          50,
          142.77999999999997,
          137.21000000000004,
          71,
          346.379,
          952.57,
          629.898,
          519.698,
          472.1585,
          278.3,
          185.144,
          108.06499999999994,
          76.83000000000004,
          440,
          551.72,
          551.72,
          96.76699999999994,
          1812,
          93.23059999999998,
          82.03059999999994,
          82.03059999999994,
          0,
          2.5,
          0,
          719,
          0,
          0,
          329,
          0,
          0,
          0,
          0,
          329.43,
          145.17999999999995,
          1600,
          1825,
          1500,
          1650,
          9.409999999999968,
          84.70000000000005,
          71.36000000000001,
          64.76400000000001,
          5,
          49.72500000000002,
          41.96000000000004,
          2.419999999999959,
          2.419999999999959,
          2.419999999999959,
          1.3550000000000182,
          0.6585000000000036,
          0.6589999999999918,
          15,
          52,
          70,
          20,
          1219.58,
          1182,
          342.15,
          0,
          0,
          0,
          0.1000000000000227,
          399.9500000000001,
          49.89999999999998,
          0,
          0,
          0.0499999999999545,
          0.0499999999999545,
          99.95000000000005,
          0.0499999999999545,
          1804,
          781.28,
          1022,
          471,
          583,
          1190,
          133,
          20,
          1071.526,
          1600,
          1000,
          140.00000000000006,
          964.9,
          932,
          865.6,
          122.37400000000002,
          510.4,
          13,
          78,
          650,
          254,
          250,
          800,
          511.81,
          1814.6,
          1350,
          502,
          181,
          79,
          149.24,
          30.66999999999996,
          402.9,
          1877.782,
          1877.782,
          1711.4,
          0,
          0,
          0,
          0,
          0,
          530.6,
          906.4,
          249,
          94,
          1335,
          1318,
          131.00000000000006,
          165.23000000000002,
          1025,
          113.5,
          900,
          250,
          984.37,
          677,
          812.5,
          124.13999999999992,
          123.24,
          148.59500000000003,
          183.82,
          210.53,
          147.35999999999996,
          36.60000000000002,
          26.442000000000007,
          21.5,
          1086,
          575,
          273,
          1290,
          147.76,
          14.700000000000044,
          177.29700000000005,
          54,
          7.740000000000009,
          65.56000000000006,
          0.0074999999999363,
          0.0074999999999363,
          1.1073000000000093,
          4.870000000000118,
          1.4600000000000364,
          12.299999999999956,
          25,
          180,
          390,
          190,
          110,
          490,
          5,
          5,
          20,
          6,
          0,
          34.375,
          40,
          100,
          0,
          284.89200000000005,
          454.5400000000001,
          0,
          1879,
          631.7,
          456.2,
          47.60000000000002,
          0,
          0,
          0,
          0,
          0,
          0,
          0,
          0,
          280,
          300,
          300,
          280,
          45,
          48,
          24,
          21,
          10,
          14,
          1.5,
          12,
          3,
          3,
          168,
          520,
          632,
          0,
          0,
          0,
          0,
          0,
          827.586,
          0,
          1355.93,
          0,
          0,
          0,
          0,
          0,
          0,
          0,
          0,
          0,
          0,
          0,
          22.200000000000045,
          24.049999999999955,
          40.779,
          57.39999999999998,
          40.75999999999999,
          0.169999999999959,
          5.2999999999999545,
          1.0220000000000482,
          22,
          45,
          43,
          62,
          250,
          310,
          570,
          173.89999999999998,
          902,
          173.89999999999998,
          902,
          10.860000000000014,
          254.052,
          21.840000000000032,
          0.8500000000000227,
          0,
          86,
          10.799999999999956,
          10.700000000000044,
          32.33000000000004,
          6.091599999999971,
          1.5744000000000824,
          70.34199999999998,
          85.63,
          77.74000000000001,
          112.875,
          22.575000000000045,
          0,
          30,
          130,
          848,
          800,
          784,
          720,
          640,
          640,
          480,
          473,
          601.796,
          433.7,
          683.824,
          234.671,
          91.66499999999996,
          56,
          60.14599999999996,
          180.44600000000003,
          533.957,
          578.9,
          81.11000000000001,
          79.29200000000003,
          113.716,
          871.02,
          1480.01,
          159.24,
          473.62,
          50,
          50,
          50,
          50,
          50,
          50,
          0,
          0,
          0,
          0,
          0,
          0,
          0,
          0,
          204,
          254,
          329.43,
          145.17999999999995,
          135,
          161,
          143.00000000000006,
          0,
          0,
          0,
          182,
          126,
          374,
          685,
          182,
          94,
          314,
          685,
          1304.348,
          1195.65,
          763,
          506,
          379,
          340.5,
          178.86900000000003,
          124.743,
          179.2,
          18,
          108.70600000000002,
          35.36850000000004,
          0,
          0,
          14,
          1217,
          0,
          0,
          0,
          0,
          909,
          726.9999999999999,
          0,
          0,
          0,
          0,
          0,
          0,
          0,
          0,
          0,
          0,
          0,
          0,
          0,
          0,
          104,
          183,
          612,
          758,
          584,
          50,
          101.54999999999995,
          127.29500000000009,
          101.64999999999998,
          76.25,
          101,
          76.89999999999998,
          50.84500000000003,
          25.559000000000083,
          0.1990000000000691,
          918.639,
          407.967,
          178.57100000000003,
          25.200000000000045,
          76.54999999999995,
          25.46000000000004,
          76.5,
          25.55899999999997,
          1253.696,
          1478.24,
          223.87,
          13.28200000000004,
          90,
          50,
          833,
          961.2,
          280.8268,
          830,
          1020,
          1030,
          1110,
          1110,
          0,
          0,
          0,
          0,
          769,
          280,
          147,
          0,
          0,
          0,
          1115.5800000000002,
          188.886,
          300.678,
          110.77999999999996,
          305.046,
          101.80899999999995,
          1756.75,
          803.95,
          211.80650000000003,
          126.63000000000004,
          128.52800000000002,
          43.5,
          0,
          0,
          0,
          50.68500000000006,
          253.3855,
          141.7719999999999,
          175.635,
          148.635,
          162.11950000000002,
          1369.513,
          57.07000000000005,
          0,
          1375,
          1125,
          1125,
          1175,
          1000,
          1050,
          393.25,
          213,
          518,
          1580,
          990,
          153.48000000000002,
          75.87300000000005,
          0,
          76.88999999999999,
          487.043,
          1662.94,
          1220.4,
          1116.5300000000002,
          1029.63,
          1002.68,
          960.57,
          949.12,
          730,
          75,
          820,
          900,
          656.76,
          842.644,
          1030,
          1144.5,
          1452.6
         ],
         "xaxis": "x",
         "yaxis": "y"
        },
        {
         "alignmentgroup": "True",
         "box": {
          "visible": true
         },
         "hovertemplate": "exc_bias_oe=%{y}<extra></extra>",
         "legendgroup": "",
         "marker": {
          "color": "#082040"
         },
         "name": "",
         "offsetgroup": "",
         "orientation": "v",
         "scalegroup": "True",
         "showlegend": false,
         "type": "violin",
         "x0": " ",
         "xaxis": "x2",
         "y": [
          1132,
          406,
          51.34000000000003,
          108.17999999999996,
          8.919999999999959,
          14.379999999999995,
          2.830000000000041,
          0,
          255,
          296,
          344,
          635,
          0,
          229,
          350,
          502,
          130,
          137.00000000000006,
          38,
          73,
          81,
          109,
          0,
          0,
          0,
          0,
          0,
          0,
          112.78100000000006,
          226.736,
          170,
          169.13099999999997,
          112.77999999999996,
          56.17999999999995,
          90,
          50,
          142.77999999999997,
          137.21000000000004,
          71,
          346.379,
          952.57,
          629.898,
          519.698,
          472.1585,
          278.3,
          185.144,
          108.06499999999994,
          76.83000000000004,
          440,
          551.72,
          551.72,
          96.76699999999994,
          1812,
          93.23059999999998,
          82.03059999999994,
          82.03059999999994,
          0,
          2.5,
          0,
          719,
          0,
          0,
          329,
          0,
          0,
          0,
          0,
          329.43,
          145.17999999999995,
          1600,
          1825,
          1500,
          1650,
          9.409999999999968,
          84.70000000000005,
          71.36000000000001,
          64.76400000000001,
          5,
          49.72500000000002,
          41.96000000000004,
          2.419999999999959,
          2.419999999999959,
          2.419999999999959,
          1.3550000000000182,
          0.6585000000000036,
          0.6589999999999918,
          15,
          52,
          70,
          20,
          1219.58,
          1182,
          342.15,
          0,
          0,
          0,
          0.1000000000000227,
          399.9500000000001,
          49.89999999999998,
          0,
          0,
          0.0499999999999545,
          0.0499999999999545,
          99.95000000000005,
          0.0499999999999545,
          1804,
          781.28,
          1022,
          471,
          583,
          1190,
          133,
          20,
          1071.526,
          1600,
          1000,
          140.00000000000006,
          964.9,
          932,
          865.6,
          122.37400000000002,
          510.4,
          13,
          78,
          650,
          254,
          250,
          800,
          511.81,
          1814.6,
          1350,
          502,
          181,
          79,
          149.24,
          30.66999999999996,
          402.9,
          1877.782,
          1877.782,
          1711.4,
          0,
          0,
          0,
          0,
          0,
          530.6,
          906.4,
          249,
          94,
          1335,
          1318,
          131.00000000000006,
          165.23000000000002,
          1025,
          113.5,
          900,
          250,
          984.37,
          677,
          812.5,
          124.13999999999992,
          123.24,
          148.59500000000003,
          183.82,
          210.53,
          147.35999999999996,
          36.60000000000002,
          26.442000000000007,
          21.5,
          1086,
          575,
          273,
          1290,
          147.76,
          14.700000000000044,
          177.29700000000005,
          54,
          7.740000000000009,
          65.56000000000006,
          0.0074999999999363,
          0.0074999999999363,
          1.1073000000000093,
          4.870000000000118,
          1.4600000000000364,
          12.299999999999956,
          25,
          180,
          390,
          190,
          110,
          490,
          5,
          5,
          20,
          6,
          0,
          34.375,
          40,
          100,
          0,
          284.89200000000005,
          454.5400000000001,
          0,
          1879,
          631.7,
          456.2,
          47.60000000000002,
          0,
          0,
          0,
          0,
          0,
          0,
          0,
          0,
          280,
          300,
          300,
          280,
          45,
          48,
          24,
          21,
          10,
          14,
          1.5,
          12,
          3,
          3,
          168,
          520,
          632,
          0,
          0,
          0,
          0,
          0,
          827.586,
          0,
          1355.93,
          0,
          0,
          0,
          0,
          0,
          0,
          0,
          0,
          0,
          0,
          0,
          22.200000000000045,
          24.049999999999955,
          40.779,
          57.39999999999998,
          40.75999999999999,
          0.169999999999959,
          5.2999999999999545,
          1.0220000000000482,
          22,
          45,
          43,
          62,
          250,
          310,
          570,
          173.89999999999998,
          902,
          173.89999999999998,
          902,
          10.860000000000014,
          254.052,
          21.840000000000032,
          0.8500000000000227,
          0,
          86,
          10.799999999999956,
          10.700000000000044,
          32.33000000000004,
          6.091599999999971,
          1.5744000000000824,
          70.34199999999998,
          85.63,
          77.74000000000001,
          112.875,
          22.575000000000045,
          0,
          30,
          130,
          848,
          800,
          784,
          720,
          640,
          640,
          480,
          473,
          601.796,
          433.7,
          683.824,
          234.671,
          91.66499999999996,
          56,
          60.14599999999996,
          180.44600000000003,
          533.957,
          578.9,
          81.11000000000001,
          79.29200000000003,
          113.716,
          871.02,
          1480.01,
          159.24,
          473.62,
          50,
          50,
          50,
          50,
          50,
          50,
          0,
          0,
          0,
          0,
          0,
          0,
          0,
          0,
          204,
          254,
          329.43,
          145.17999999999995,
          135,
          161,
          143.00000000000006,
          0,
          0,
          0,
          182,
          126,
          374,
          685,
          182,
          94,
          314,
          685,
          1304.348,
          1195.65,
          763,
          506,
          379,
          340.5,
          178.86900000000003,
          124.743,
          179.2,
          18,
          108.70600000000002,
          35.36850000000004,
          0,
          0,
          14,
          1217,
          0,
          0,
          0,
          0,
          909,
          726.9999999999999,
          0,
          0,
          0,
          0,
          0,
          0,
          0,
          0,
          0,
          0,
          0,
          0,
          0,
          0,
          104,
          183,
          612,
          758,
          584,
          50,
          101.54999999999995,
          127.29500000000009,
          101.64999999999998,
          76.25,
          101,
          76.89999999999998,
          50.84500000000003,
          25.559000000000083,
          0.1990000000000691,
          918.639,
          407.967,
          178.57100000000003,
          25.200000000000045,
          76.54999999999995,
          25.46000000000004,
          76.5,
          25.55899999999997,
          1253.696,
          1478.24,
          223.87,
          13.28200000000004,
          90,
          50,
          833,
          961.2,
          280.8268,
          830,
          1020,
          1030,
          1110,
          1110,
          0,
          0,
          0,
          0,
          769,
          280,
          147,
          0,
          0,
          0,
          1115.5800000000002,
          188.886,
          300.678,
          110.77999999999996,
          305.046,
          101.80899999999995,
          1756.75,
          803.95,
          211.80650000000003,
          126.63000000000004,
          128.52800000000002,
          43.5,
          0,
          0,
          0,
          50.68500000000006,
          253.3855,
          141.7719999999999,
          175.635,
          148.635,
          162.11950000000002,
          1369.513,
          57.07000000000005,
          0,
          1375,
          1125,
          1125,
          1175,
          1000,
          1050,
          393.25,
          213,
          518,
          1580,
          990,
          153.48000000000002,
          75.87300000000005,
          0,
          76.88999999999999,
          487.043,
          1662.94,
          1220.4,
          1116.5300000000002,
          1029.63,
          1002.68,
          960.57,
          949.12,
          730,
          75,
          820,
          900,
          656.76,
          842.644,
          1030,
          1144.5,
          1452.6
         ],
         "y0": " ",
         "yaxis": "y2"
        }
       ],
       "layout": {
        "annotations": [
         {
          "font": {
           "size": 16
          },
          "showarrow": false,
          "text": "Histogram for exchange bias",
          "x": 0.225,
          "xanchor": "center",
          "xref": "paper",
          "y": 1,
          "yanchor": "bottom",
          "yref": "paper"
         },
         {
          "font": {
           "size": 16
          },
          "showarrow": false,
          "text": "Violin Plot for solubility",
          "x": 0.775,
          "xanchor": "center",
          "xref": "paper",
          "y": 1,
          "yanchor": "bottom",
          "yref": "paper"
         }
        ],
        "showlegend": false,
        "template": {
         "data": {
          "bar": [
           {
            "error_x": {
             "color": "#2a3f5f"
            },
            "error_y": {
             "color": "#2a3f5f"
            },
            "marker": {
             "line": {
              "color": "#E5ECF6",
              "width": 0.5
             },
             "pattern": {
              "fillmode": "overlay",
              "size": 10,
              "solidity": 0.2
             }
            },
            "type": "bar"
           }
          ],
          "barpolar": [
           {
            "marker": {
             "line": {
              "color": "#E5ECF6",
              "width": 0.5
             },
             "pattern": {
              "fillmode": "overlay",
              "size": 10,
              "solidity": 0.2
             }
            },
            "type": "barpolar"
           }
          ],
          "carpet": [
           {
            "aaxis": {
             "endlinecolor": "#2a3f5f",
             "gridcolor": "white",
             "linecolor": "white",
             "minorgridcolor": "white",
             "startlinecolor": "#2a3f5f"
            },
            "baxis": {
             "endlinecolor": "#2a3f5f",
             "gridcolor": "white",
             "linecolor": "white",
             "minorgridcolor": "white",
             "startlinecolor": "#2a3f5f"
            },
            "type": "carpet"
           }
          ],
          "choropleth": [
           {
            "colorbar": {
             "outlinewidth": 0,
             "ticks": ""
            },
            "type": "choropleth"
           }
          ],
          "contour": [
           {
            "colorbar": {
             "outlinewidth": 0,
             "ticks": ""
            },
            "colorscale": [
             [
              0,
              "#0d0887"
             ],
             [
              0.1111111111111111,
              "#46039f"
             ],
             [
              0.2222222222222222,
              "#7201a8"
             ],
             [
              0.3333333333333333,
              "#9c179e"
             ],
             [
              0.4444444444444444,
              "#bd3786"
             ],
             [
              0.5555555555555556,
              "#d8576b"
             ],
             [
              0.6666666666666666,
              "#ed7953"
             ],
             [
              0.7777777777777778,
              "#fb9f3a"
             ],
             [
              0.8888888888888888,
              "#fdca26"
             ],
             [
              1,
              "#f0f921"
             ]
            ],
            "type": "contour"
           }
          ],
          "contourcarpet": [
           {
            "colorbar": {
             "outlinewidth": 0,
             "ticks": ""
            },
            "type": "contourcarpet"
           }
          ],
          "heatmap": [
           {
            "colorbar": {
             "outlinewidth": 0,
             "ticks": ""
            },
            "colorscale": [
             [
              0,
              "#0d0887"
             ],
             [
              0.1111111111111111,
              "#46039f"
             ],
             [
              0.2222222222222222,
              "#7201a8"
             ],
             [
              0.3333333333333333,
              "#9c179e"
             ],
             [
              0.4444444444444444,
              "#bd3786"
             ],
             [
              0.5555555555555556,
              "#d8576b"
             ],
             [
              0.6666666666666666,
              "#ed7953"
             ],
             [
              0.7777777777777778,
              "#fb9f3a"
             ],
             [
              0.8888888888888888,
              "#fdca26"
             ],
             [
              1,
              "#f0f921"
             ]
            ],
            "type": "heatmap"
           }
          ],
          "heatmapgl": [
           {
            "colorbar": {
             "outlinewidth": 0,
             "ticks": ""
            },
            "colorscale": [
             [
              0,
              "#0d0887"
             ],
             [
              0.1111111111111111,
              "#46039f"
             ],
             [
              0.2222222222222222,
              "#7201a8"
             ],
             [
              0.3333333333333333,
              "#9c179e"
             ],
             [
              0.4444444444444444,
              "#bd3786"
             ],
             [
              0.5555555555555556,
              "#d8576b"
             ],
             [
              0.6666666666666666,
              "#ed7953"
             ],
             [
              0.7777777777777778,
              "#fb9f3a"
             ],
             [
              0.8888888888888888,
              "#fdca26"
             ],
             [
              1,
              "#f0f921"
             ]
            ],
            "type": "heatmapgl"
           }
          ],
          "histogram": [
           {
            "marker": {
             "pattern": {
              "fillmode": "overlay",
              "size": 10,
              "solidity": 0.2
             }
            },
            "type": "histogram"
           }
          ],
          "histogram2d": [
           {
            "colorbar": {
             "outlinewidth": 0,
             "ticks": ""
            },
            "colorscale": [
             [
              0,
              "#0d0887"
             ],
             [
              0.1111111111111111,
              "#46039f"
             ],
             [
              0.2222222222222222,
              "#7201a8"
             ],
             [
              0.3333333333333333,
              "#9c179e"
             ],
             [
              0.4444444444444444,
              "#bd3786"
             ],
             [
              0.5555555555555556,
              "#d8576b"
             ],
             [
              0.6666666666666666,
              "#ed7953"
             ],
             [
              0.7777777777777778,
              "#fb9f3a"
             ],
             [
              0.8888888888888888,
              "#fdca26"
             ],
             [
              1,
              "#f0f921"
             ]
            ],
            "type": "histogram2d"
           }
          ],
          "histogram2dcontour": [
           {
            "colorbar": {
             "outlinewidth": 0,
             "ticks": ""
            },
            "colorscale": [
             [
              0,
              "#0d0887"
             ],
             [
              0.1111111111111111,
              "#46039f"
             ],
             [
              0.2222222222222222,
              "#7201a8"
             ],
             [
              0.3333333333333333,
              "#9c179e"
             ],
             [
              0.4444444444444444,
              "#bd3786"
             ],
             [
              0.5555555555555556,
              "#d8576b"
             ],
             [
              0.6666666666666666,
              "#ed7953"
             ],
             [
              0.7777777777777778,
              "#fb9f3a"
             ],
             [
              0.8888888888888888,
              "#fdca26"
             ],
             [
              1,
              "#f0f921"
             ]
            ],
            "type": "histogram2dcontour"
           }
          ],
          "mesh3d": [
           {
            "colorbar": {
             "outlinewidth": 0,
             "ticks": ""
            },
            "type": "mesh3d"
           }
          ],
          "parcoords": [
           {
            "line": {
             "colorbar": {
              "outlinewidth": 0,
              "ticks": ""
             }
            },
            "type": "parcoords"
           }
          ],
          "pie": [
           {
            "automargin": true,
            "type": "pie"
           }
          ],
          "scatter": [
           {
            "fillpattern": {
             "fillmode": "overlay",
             "size": 10,
             "solidity": 0.2
            },
            "type": "scatter"
           }
          ],
          "scatter3d": [
           {
            "line": {
             "colorbar": {
              "outlinewidth": 0,
              "ticks": ""
             }
            },
            "marker": {
             "colorbar": {
              "outlinewidth": 0,
              "ticks": ""
             }
            },
            "type": "scatter3d"
           }
          ],
          "scattercarpet": [
           {
            "marker": {
             "colorbar": {
              "outlinewidth": 0,
              "ticks": ""
             }
            },
            "type": "scattercarpet"
           }
          ],
          "scattergeo": [
           {
            "marker": {
             "colorbar": {
              "outlinewidth": 0,
              "ticks": ""
             }
            },
            "type": "scattergeo"
           }
          ],
          "scattergl": [
           {
            "marker": {
             "colorbar": {
              "outlinewidth": 0,
              "ticks": ""
             }
            },
            "type": "scattergl"
           }
          ],
          "scattermapbox": [
           {
            "marker": {
             "colorbar": {
              "outlinewidth": 0,
              "ticks": ""
             }
            },
            "type": "scattermapbox"
           }
          ],
          "scatterpolar": [
           {
            "marker": {
             "colorbar": {
              "outlinewidth": 0,
              "ticks": ""
             }
            },
            "type": "scatterpolar"
           }
          ],
          "scatterpolargl": [
           {
            "marker": {
             "colorbar": {
              "outlinewidth": 0,
              "ticks": ""
             }
            },
            "type": "scatterpolargl"
           }
          ],
          "scatterternary": [
           {
            "marker": {
             "colorbar": {
              "outlinewidth": 0,
              "ticks": ""
             }
            },
            "type": "scatterternary"
           }
          ],
          "surface": [
           {
            "colorbar": {
             "outlinewidth": 0,
             "ticks": ""
            },
            "colorscale": [
             [
              0,
              "#0d0887"
             ],
             [
              0.1111111111111111,
              "#46039f"
             ],
             [
              0.2222222222222222,
              "#7201a8"
             ],
             [
              0.3333333333333333,
              "#9c179e"
             ],
             [
              0.4444444444444444,
              "#bd3786"
             ],
             [
              0.5555555555555556,
              "#d8576b"
             ],
             [
              0.6666666666666666,
              "#ed7953"
             ],
             [
              0.7777777777777778,
              "#fb9f3a"
             ],
             [
              0.8888888888888888,
              "#fdca26"
             ],
             [
              1,
              "#f0f921"
             ]
            ],
            "type": "surface"
           }
          ],
          "table": [
           {
            "cells": {
             "fill": {
              "color": "#EBF0F8"
             },
             "line": {
              "color": "white"
             }
            },
            "header": {
             "fill": {
              "color": "#C8D4E3"
             },
             "line": {
              "color": "white"
             }
            },
            "type": "table"
           }
          ]
         },
         "layout": {
          "annotationdefaults": {
           "arrowcolor": "#2a3f5f",
           "arrowhead": 0,
           "arrowwidth": 1
          },
          "autotypenumbers": "strict",
          "coloraxis": {
           "colorbar": {
            "outlinewidth": 0,
            "ticks": ""
           }
          },
          "colorscale": {
           "diverging": [
            [
             0,
             "#8e0152"
            ],
            [
             0.1,
             "#c51b7d"
            ],
            [
             0.2,
             "#de77ae"
            ],
            [
             0.3,
             "#f1b6da"
            ],
            [
             0.4,
             "#fde0ef"
            ],
            [
             0.5,
             "#f7f7f7"
            ],
            [
             0.6,
             "#e6f5d0"
            ],
            [
             0.7,
             "#b8e186"
            ],
            [
             0.8,
             "#7fbc41"
            ],
            [
             0.9,
             "#4d9221"
            ],
            [
             1,
             "#276419"
            ]
           ],
           "sequential": [
            [
             0,
             "#0d0887"
            ],
            [
             0.1111111111111111,
             "#46039f"
            ],
            [
             0.2222222222222222,
             "#7201a8"
            ],
            [
             0.3333333333333333,
             "#9c179e"
            ],
            [
             0.4444444444444444,
             "#bd3786"
            ],
            [
             0.5555555555555556,
             "#d8576b"
            ],
            [
             0.6666666666666666,
             "#ed7953"
            ],
            [
             0.7777777777777778,
             "#fb9f3a"
            ],
            [
             0.8888888888888888,
             "#fdca26"
            ],
            [
             1,
             "#f0f921"
            ]
           ],
           "sequentialminus": [
            [
             0,
             "#0d0887"
            ],
            [
             0.1111111111111111,
             "#46039f"
            ],
            [
             0.2222222222222222,
             "#7201a8"
            ],
            [
             0.3333333333333333,
             "#9c179e"
            ],
            [
             0.4444444444444444,
             "#bd3786"
            ],
            [
             0.5555555555555556,
             "#d8576b"
            ],
            [
             0.6666666666666666,
             "#ed7953"
            ],
            [
             0.7777777777777778,
             "#fb9f3a"
            ],
            [
             0.8888888888888888,
             "#fdca26"
            ],
            [
             1,
             "#f0f921"
            ]
           ]
          },
          "colorway": [
           "#636efa",
           "#EF553B",
           "#00cc96",
           "#ab63fa",
           "#FFA15A",
           "#19d3f3",
           "#FF6692",
           "#B6E880",
           "#FF97FF",
           "#FECB52"
          ],
          "font": {
           "color": "#2a3f5f"
          },
          "geo": {
           "bgcolor": "white",
           "lakecolor": "white",
           "landcolor": "#E5ECF6",
           "showlakes": true,
           "showland": true,
           "subunitcolor": "white"
          },
          "hoverlabel": {
           "align": "left"
          },
          "hovermode": "closest",
          "mapbox": {
           "style": "light"
          },
          "paper_bgcolor": "white",
          "plot_bgcolor": "#E5ECF6",
          "polar": {
           "angularaxis": {
            "gridcolor": "white",
            "linecolor": "white",
            "ticks": ""
           },
           "bgcolor": "#E5ECF6",
           "radialaxis": {
            "gridcolor": "white",
            "linecolor": "white",
            "ticks": ""
           }
          },
          "scene": {
           "xaxis": {
            "backgroundcolor": "#E5ECF6",
            "gridcolor": "white",
            "gridwidth": 2,
            "linecolor": "white",
            "showbackground": true,
            "ticks": "",
            "zerolinecolor": "white"
           },
           "yaxis": {
            "backgroundcolor": "#E5ECF6",
            "gridcolor": "white",
            "gridwidth": 2,
            "linecolor": "white",
            "showbackground": true,
            "ticks": "",
            "zerolinecolor": "white"
           },
           "zaxis": {
            "backgroundcolor": "#E5ECF6",
            "gridcolor": "white",
            "gridwidth": 2,
            "linecolor": "white",
            "showbackground": true,
            "ticks": "",
            "zerolinecolor": "white"
           }
          },
          "shapedefaults": {
           "line": {
            "color": "#2a3f5f"
           }
          },
          "ternary": {
           "aaxis": {
            "gridcolor": "white",
            "linecolor": "white",
            "ticks": ""
           },
           "baxis": {
            "gridcolor": "white",
            "linecolor": "white",
            "ticks": ""
           },
           "bgcolor": "#E5ECF6",
           "caxis": {
            "gridcolor": "white",
            "linecolor": "white",
            "ticks": ""
           }
          },
          "title": {
           "x": 0.05
          },
          "xaxis": {
           "automargin": true,
           "gridcolor": "white",
           "linecolor": "white",
           "ticks": "",
           "title": {
            "standoff": 15
           },
           "zerolinecolor": "white",
           "zerolinewidth": 2
          },
          "yaxis": {
           "automargin": true,
           "gridcolor": "white",
           "linecolor": "white",
           "ticks": "",
           "title": {
            "standoff": 15
           },
           "zerolinecolor": "white",
           "zerolinewidth": 2
          }
         }
        },
        "title": {
         "text": "Pic for exchange bias after outliers"
        },
        "xaxis": {
         "anchor": "y",
         "domain": [
          0,
          0.45
         ]
        },
        "xaxis2": {
         "anchor": "y2",
         "domain": [
          0.55,
          1
         ]
        },
        "yaxis": {
         "anchor": "x",
         "domain": [
          0,
          1
         ]
        },
        "yaxis2": {
         "anchor": "x2",
         "domain": [
          0,
          1
         ]
        }
       }
      }
     },
     "metadata": {},
     "output_type": "display_data"
    },
    {
     "name": "stdout",
     "output_type": "stream",
     "text": [
      "None\n"
     ]
    }
   ],
   "source": [
    "#Построим график распределения целевой переменной\n",
    "fig = make_subplots(rows=1, cols=2, subplot_titles=['Histogram for exchange bias', 'Violin Plot for solubility'])\n",
    "\n",
    "# Histogram\n",
    "hist_fig = px.histogram(df, x=\"exc_bias_oe\", nbins = 60,\n",
    "                 color_discrete_sequence = colors,\n",
    "                 opacity = 0.7)\n",
    "\n",
    "fig.add_trace(hist_fig['data'][0], row=1, col=1) # Adding a graph indicating the location\n",
    "\n",
    "# Violin plot\n",
    "violin_fig = px.violin(df, y=\"exc_bias_oe\", color_discrete_sequence = colors, box = True)\n",
    "fig.add_trace(violin_fig['data'][0], row=1, col=2) # Adding a graph indicating the location\n",
    "\n",
    "# Setting up the layout\n",
    "fig.update_layout(showlegend=False, title_text=\"Pic for exchange bias after outliers\")\n",
    "\n",
    "# Graph display\n",
    "print(display(fig))"
   ]
  },
  {
   "cell_type": "code",
   "execution_count": 209,
   "metadata": {},
   "outputs": [],
   "source": [
    "df['exc_bias_oe'] = np.log1p(df['exc_bias_oe'])"
   ]
  },
  {
   "cell_type": "code",
   "execution_count": 210,
   "metadata": {},
   "outputs": [
    {
     "name": "stdout",
     "output_type": "stream",
     "text": [
      "Индексы выбросов: []\n",
      "Значения выбросов: []\n",
      "<class 'pandas.core.frame.DataFrame'>\n",
      "Int64Index: 485 entries, 0 to 531\n",
      "Data columns (total 17 columns):\n",
      " #   Column             Non-Null Count  Dtype  \n",
      "---  ------             --------------  -----  \n",
      " 0   id                 485 non-null    int64  \n",
      " 1   space_group_shell  485 non-null    int64  \n",
      " 2   coer_oe            485 non-null    float64\n",
      " 3   exc_bias_oe        485 non-null    float64\n",
      " 4   fc_field_t         485 non-null    float64\n",
      " 5   h_range_max_koe    485 non-null    float64\n",
      " 6   mr (emu/g)         485 non-null    float64\n",
      " 7   sat_em_g           485 non-null    float64\n",
      " 8   shape              485 non-null    float64\n",
      " 9   space_group_core   485 non-null    float64\n",
      " 10  temperature_k      485 non-null    float64\n",
      " 11  ver_shift_emu_g    485 non-null    float64\n",
      " 12  sphericity         485 non-null    float64\n",
      " 13  exc_dir            485 non-null    int64  \n",
      " 14  ver_s_dir          485 non-null    int64  \n",
      " 15  mass_ratio_str     485 non-null    object \n",
      " 16  area/volume        485 non-null    float64\n",
      "dtypes: float64(12), int64(4), object(1)\n",
      "memory usage: 68.2+ KB\n",
      "None\n"
     ]
    }
   ],
   "source": [
    "#Ещё посмотрим с помощью интерквартального расстояния, так будет понятней, значения за первым и 3 квартилям будут выбросами\n",
    "def detect_outliers_iqr(data, threshold=1.5):\n",
    "    \"\"\"\n",
    "    Detect outliers using the Interquartile Range (IQR) method.\n",
    "\n",
    "    Parameters:\n",
    "        data (array-like): Input data.\n",
    "        threshold (float): Multiplier for the IQR to determine the outlier cutoff.\n",
    "\n",
    "    Returns:\n",
    "        outliers (array-like): Array containing the indices of outlier data points.\n",
    "    \"\"\"\n",
    "    quartile_1, quartile_3 = np.percentile(data, [25, 75])\n",
    "    iqr = quartile_3 - quartile_1\n",
    "    lower_bound = quartile_1 - (threshold * iqr)\n",
    "    upper_bound = quartile_3 + (threshold * iqr)\n",
    "    outliers = np.where((data < lower_bound) | (data > upper_bound))[0]\n",
    "    return outliers\n",
    "\n",
    "# Example usage:\n",
    "outliers = detect_outliers_iqr(df['exc_bias_oe'])\n",
    "print(\"Индексы выбросов:\", outliers)\n",
    "print(\"Значения выбросов:\", [df['exc_bias_oe'][i] for i in outliers])\n",
    "out_data = df.drop(outliers)\n",
    "df = out_data\n",
    "print(df.info())"
   ]
  },
  {
   "cell_type": "code",
   "execution_count": 223,
   "metadata": {},
   "outputs": [
    {
     "data": {
      "application/vnd.plotly.v1+json": {
       "config": {
        "plotlyServerURL": "https://plot.ly"
       },
       "data": [
        {
         "alignmentgroup": "True",
         "bingroup": "x",
         "hovertemplate": "exc_bias_oe=%{x}<br>count=%{y}<extra></extra>",
         "legendgroup": "",
         "marker": {
          "color": "#082040",
          "opacity": 0.7,
          "pattern": {
           "shape": ""
          }
         },
         "name": "",
         "nbinsx": 60,
         "offsetgroup": "",
         "orientation": "v",
         "showlegend": false,
         "type": "histogram",
         "x": [
          7.0326242610280065,
          6.008813185442595,
          3.957760897102,
          4.692997896353611,
          2.2945529212967775,
          2.7330679640774975,
          1.3428648031925654,
          0,
          5.545177444479562,
          5.6937321388027,
          5.84354441703136,
          6.455198563340122,
          0,
          5.438079308923196,
          5.860786223465865,
          6.220590170099739,
          3.808487641305324,
          4.875197323201151,
          4.927253685157205,
          3.6635616461296463,
          4.30406509320417,
          4.406719247264253,
          4.700480365792417,
          0,
          0,
          0,
          0,
          0,
          0,
          4.734275548174722,
          5.428187063339567,
          5.14166355650266,
          5.13656872853488,
          4.734266759322501,
          4.0462041868941645,
          4.51085950651685,
          3.9318256327243257,
          4.968284353555726,
          4.928774267615935,
          4.276666119016055,
          5.850416402929801,
          6.860212836084674,
          6.447144201297243,
          6.255170219178185,
          6.159430427497518,
          5.632286472951131,
          5.226520567728351,
          4.691944034770129,
          4.354526960971297,
          6.089044875446846,
          6.31485154418054,
          6.31485154418054,
          4.582587096787832,
          7.502738210754851,
          3.808487641305324,
          4.54574496959731,
          4.419209214551574,
          4.419209214551574,
          0,
          1.252762968495368,
          0,
          6.579251212010101,
          0,
          3.808487641305324,
          0,
          5.799092654460526,
          0,
          0,
          0,
          0,
          5.800394836556317,
          4.984838739052245,
          7.3783837129967145,
          7.509883061154913,
          7.313886831633462,
          7.409136443920128,
          2.3427668826268744,
          4.450852825603735,
          4.281653660527095,
          4.18607257614863,
          1.791759469228055,
          3.926418885711879,
          3.76026945020061,
          1.2296405510745019,
          1.2296405510745019,
          1.2296405510745019,
          0.8565407274683888,
          0.5059135794049723,
          0.5062150112083025,
          2.772588722239781,
          3.970291913552122,
          4.2626798770413155,
          3.044522437723423,
          7.107081434591915,
          7.075808863978387,
          5.838167669354644,
          0,
          0,
          0,
          0.09531017980434549,
          5.993836731253038,
          3.9298629235564766,
          0,
          0,
          0.04879016416938867,
          0.04879016416938867,
          4.614625344758847,
          0.04879016416938867,
          7.498315870766981,
          6.6622127327244485,
          6.930494765951626,
          6.156978985585555,
          3.808487641305324,
          3.808487641305324,
          6.369900982828227,
          7.0825485693553,
          4.897839799950911,
          3.044522437723423,
          6.977771892932572,
          3.808487641305324,
          7.3783837129967145,
          3.808487641305324,
          6.90875477931522,
          3.808487641305324,
          3.808487641305324,
          4.948759890378168,
          6.8730603091852505,
          6.838405200847344,
          6.764577509305809,
          4.81522039235099,
          6.237152062857086,
          2.6390573296152584,
          4.3694478524670215,
          6.478509642208569,
          5.541263545158426,
          5.5254529391317835,
          3.808487641305324,
          3.808487641305324,
          6.68586094706836,
          6.239905406196353,
          3.808487641305324,
          7.504171270582311,
          7.208600337960199,
          6.220590170099739,
          5.204006687076795,
          4.382026634673881,
          5.012234015459953,
          3.455369860550547,
          6.001167322569367,
          7.538378973523595,
          7.538378973523595,
          7.445651174270791,
          3.808487641305324,
          3.808487641305324,
          0,
          0,
          0,
          3.808487641305324,
          0,
          0,
          6.275891326839091,
          6.810583367229864,
          5.521460917862246,
          4.553876891600541,
          7.197435354096591,
          7.1846291527173145,
          4.8828019225863715,
          5.113372371547368,
          6.933423025730715,
          4.740574822994295,
          6.803505257608338,
          3.808487641305324,
          5.5254529391317835,
          6.893017205156872,
          6.519147287940395,
          6.7013459266590925,
          4.829433110570217,
          4.822215178840431,
          5.007931642521942,
          5.219382378459894,
          5.354366832399059,
          4.99964175262139,
          3.6270040503958496,
          3.312074686498984,
          3.1135153092103742,
          6.99117688712121,
          6.3561076606958915,
          5.6131281063880705,
          7.1631723908466425,
          3.808487641305324,
          3.808487641305324,
          3.808487641305324,
          3.808487641305324,
          3.808487641305324,
          3.808487641305324,
          5.0023342690568695,
          2.7536607123542653,
          5.18345069915267,
          4.007333185232471,
          2.1679101896674453,
          4.198103796512954,
          0.0074720148386377685,
          0.0074720148386377685,
          0.7454075072210345,
          1.7698546338400252,
          0.9001613499442862,
          2.5877640352277047,
          3.258096538021482,
          3.808487641305324,
          3.808487641305324,
          5.198497031265826,
          5.968707559985366,
          5.25227342804663,
          4.709530201312334,
          6.19644412779452,
          3.808487641305324,
          1.791759469228055,
          1.791759469228055,
          3.044522437723423,
          1.9459101490553132,
          0,
          3.5660053559634015,
          3.713572066704308,
          4.61512051684126,
          0,
          5.655614117124946,
          6.121483528431717,
          0,
          7.539027055823995,
          6.449996376152838,
          6.125120931920655,
          3.8836235309064486,
          0,
          0,
          3.808487641305324,
          0,
          0,
          0,
          0,
          0,
          0,
          5.638354669333745,
          5.707110264748875,
          5.707110264748875,
          5.638354669333745,
          3.828641396489095,
          3.8918202981106265,
          3.2188758248682006,
          3.091042453358316,
          2.3978952727983707,
          2.70805020110221,
          0.9162907318741551,
          2.5649493574615367,
          1.3862943611198906,
          1.3862943611198906,
          5.1298987149230735,
          6.255750041753367,
          6.450470422144176,
          0,
          0,
          0,
          0,
          0,
          6.719720633531458,
          0,
          7.212980074127047,
          0,
          3.808487641305324,
          0,
          0,
          0,
          0,
          3.808487641305324,
          0,
          0,
          0,
          0,
          0,
          0,
          3.144152278672266,
          3.220873827530872,
          3.7323938209448957,
          4.067315889834181,
          3.731938943574383,
          0.1570037488096297,
          1.8405496333974798,
          0.7040871205983035,
          3.1354942159291497,
          3.828641396489095,
          3.784189633918261,
          4.143134726391533,
          5.5254529391317835,
          5.739792912179234,
          6.3473892096560105,
          5.164214382024556,
          6.805722553416985,
          5.164214382024556,
          6.805722553416985,
          2.4731713935695807,
          5.541467445937877,
          3.128513384787811,
          0.6151856390902457,
          0,
          4.465908118654584,
          2.468099531471615,
          2.459588841803714,
          3.5064578923196494,
          1.9589109850420843,
          0.9456164972560137,
          4.267485214300885,
          4.4616461759020485,
          4.366151285515592,
          4.735101355580122,
          3.160186828519523,
          0,
          3.4339872044851463,
          4.875197323201151,
          6.744059186311348,
          6.68586094706836,
          6.665683717782408,
          6.580639137284949,
          6.46302945692067,
          6.46302945692067,
          6.175867270105761,
          6.161207321695077,
          6.401578831030258,
          6.074656137994746,
          6.529161870942382,
          5.462436764612455,
          4.528990839249273,
          4.04305126783455,
          4.113264447074611,
          5.200958088775696,
          6.282186369834081,
          6.362855674882395,
          4.4080598117206975,
          4.38566998958868,
          4.7424595087399375,
          6.770812359425775,
          7.300479566439466,
          5.076672691357563,
          6.162514483863872,
          3.9318256327243257,
          3.9318256327243257,
          3.9318256327243257,
          3.9318256327243257,
          3.9318256327243257,
          3.9318256327243257,
          0,
          0,
          0,
          0,
          0,
          0,
          0,
          0,
          5.3230099791384085,
          5.541263545158426,
          5.800394836556317,
          4.984838739052245,
          4.912654885736052,
          5.087596335232384,
          4.969813299576001,
          0,
          0,
          0,
          5.209486152841421,
          4.844187086458591,
          5.926926025970411,
          6.530877627725885,
          5.209486152841421,
          4.553876891600541,
          5.752572638825633,
          6.530877627725885,
          7.174224950874224,
          7.087281265140624,
          6.638567789166521,
          6.2285110035911835,
          5.940171252720432,
          5.833347679010845,
          5.192228808153624,
          4.834240141426463,
          5.194067345174237,
          2.9444389791664403,
          4.697804060407184,
          3.593703015365879,
          0,
          0,
          2.70805020110221,
          7.1049654482698426,
          3.808487641305324,
          3.808487641305324,
          0,
          0,
          0,
          0,
          6.813444599510896,
          6.590301048196686,
          3.808487641305324,
          3.808487641305324,
          3.808487641305324,
          3.808487641305324,
          3.808487641305324,
          3.808487641305324,
          0,
          0,
          0,
          0,
          0,
          0,
          0,
          0,
          0,
          0,
          0,
          0,
          0,
          0,
          4.653960350157523,
          5.214935757608986,
          6.418364935936212,
          6.63200177739563,
          6.371611847231857,
          3.9318256327243257,
          4.630350484518389,
          4.854332299700856,
          4.6313251434649425,
          4.347046915777855,
          4.624972813284271,
          4.355425952876702,
          3.948258498010242,
          3.2793686732970246,
          0.18148787604543481,
          3.808487641305324,
          6.823981201733125,
          6.013634468191047,
          5.190570672897241,
          3.265759410767053,
          4.350922889622547,
          3.275634158686811,
          4.350277936359301,
          3.2793686732970206,
          7.134648591147501,
          7.299283721351428,
          5.415522457448741,
          2.659000003126921,
          4.51085950651685,
          3.9318256327243257,
          3.808487641305324,
          6.726233402358747,
          6.869222329265353,
          5.64129269785245,
          6.7226297948554485,
          6.928537818164665,
          6.93828448401696,
          7.01301578963963,
          7.01301578963963,
          0,
          0,
          0,
          0,
          6.646390514847729,
          5.638354669333745,
          4.997212273764115,
          0,
          0,
          0,
          7.018025721198741,
          5.246423892088454,
          5.7093602233868905,
          4.7165326538415515,
          5.723735417451826,
          4.632872897827038,
          7.47178986107927,
          6.690780163688303,
          5.360383302113779,
          4.8491354529946,
          4.863897073984451,
          3.7954891891721947,
          0,
          0,
          0,
          3.9451676040204493,
          5.538850832986239,
          4.961248952248222
         ],
         "xaxis": "x",
         "yaxis": "y"
        },
        {
         "alignmentgroup": "True",
         "box": {
          "visible": true
         },
         "hovertemplate": "exc_bias_oe=%{y}<extra></extra>",
         "legendgroup": "",
         "marker": {
          "color": "#082040"
         },
         "name": "",
         "offsetgroup": "",
         "orientation": "v",
         "scalegroup": "True",
         "showlegend": false,
         "type": "violin",
         "x0": " ",
         "xaxis": "x2",
         "y": [
          7.0326242610280065,
          6.008813185442595,
          3.957760897102,
          4.692997896353611,
          2.2945529212967775,
          2.7330679640774975,
          1.3428648031925654,
          0,
          5.545177444479562,
          5.6937321388027,
          5.84354441703136,
          6.455198563340122,
          0,
          5.438079308923196,
          5.860786223465865,
          6.220590170099739,
          3.808487641305324,
          4.875197323201151,
          4.927253685157205,
          3.6635616461296463,
          4.30406509320417,
          4.406719247264253,
          4.700480365792417,
          0,
          0,
          0,
          0,
          0,
          0,
          4.734275548174722,
          5.428187063339567,
          5.14166355650266,
          5.13656872853488,
          4.734266759322501,
          4.0462041868941645,
          4.51085950651685,
          3.9318256327243257,
          4.968284353555726,
          4.928774267615935,
          4.276666119016055,
          5.850416402929801,
          6.860212836084674,
          6.447144201297243,
          6.255170219178185,
          6.159430427497518,
          5.632286472951131,
          5.226520567728351,
          4.691944034770129,
          4.354526960971297,
          6.089044875446846,
          6.31485154418054,
          6.31485154418054,
          4.582587096787832,
          7.502738210754851,
          3.808487641305324,
          4.54574496959731,
          4.419209214551574,
          4.419209214551574,
          0,
          1.252762968495368,
          0,
          6.579251212010101,
          0,
          3.808487641305324,
          0,
          5.799092654460526,
          0,
          0,
          0,
          0,
          5.800394836556317,
          4.984838739052245,
          7.3783837129967145,
          7.509883061154913,
          7.313886831633462,
          7.409136443920128,
          2.3427668826268744,
          4.450852825603735,
          4.281653660527095,
          4.18607257614863,
          1.791759469228055,
          3.926418885711879,
          3.76026945020061,
          1.2296405510745019,
          1.2296405510745019,
          1.2296405510745019,
          0.8565407274683888,
          0.5059135794049723,
          0.5062150112083025,
          2.772588722239781,
          3.970291913552122,
          4.2626798770413155,
          3.044522437723423,
          7.107081434591915,
          7.075808863978387,
          5.838167669354644,
          0,
          0,
          0,
          0.09531017980434549,
          5.993836731253038,
          3.9298629235564766,
          0,
          0,
          0.04879016416938867,
          0.04879016416938867,
          4.614625344758847,
          0.04879016416938867,
          7.498315870766981,
          6.6622127327244485,
          6.930494765951626,
          6.156978985585555,
          3.808487641305324,
          3.808487641305324,
          6.369900982828227,
          7.0825485693553,
          4.897839799950911,
          3.044522437723423,
          6.977771892932572,
          3.808487641305324,
          7.3783837129967145,
          3.808487641305324,
          6.90875477931522,
          3.808487641305324,
          3.808487641305324,
          4.948759890378168,
          6.8730603091852505,
          6.838405200847344,
          6.764577509305809,
          4.81522039235099,
          6.237152062857086,
          2.6390573296152584,
          4.3694478524670215,
          6.478509642208569,
          5.541263545158426,
          5.5254529391317835,
          3.808487641305324,
          3.808487641305324,
          6.68586094706836,
          6.239905406196353,
          3.808487641305324,
          7.504171270582311,
          7.208600337960199,
          6.220590170099739,
          5.204006687076795,
          4.382026634673881,
          5.012234015459953,
          3.455369860550547,
          6.001167322569367,
          7.538378973523595,
          7.538378973523595,
          7.445651174270791,
          3.808487641305324,
          3.808487641305324,
          0,
          0,
          0,
          3.808487641305324,
          0,
          0,
          6.275891326839091,
          6.810583367229864,
          5.521460917862246,
          4.553876891600541,
          7.197435354096591,
          7.1846291527173145,
          4.8828019225863715,
          5.113372371547368,
          6.933423025730715,
          4.740574822994295,
          6.803505257608338,
          3.808487641305324,
          5.5254529391317835,
          6.893017205156872,
          6.519147287940395,
          6.7013459266590925,
          4.829433110570217,
          4.822215178840431,
          5.007931642521942,
          5.219382378459894,
          5.354366832399059,
          4.99964175262139,
          3.6270040503958496,
          3.312074686498984,
          3.1135153092103742,
          6.99117688712121,
          6.3561076606958915,
          5.6131281063880705,
          7.1631723908466425,
          3.808487641305324,
          3.808487641305324,
          3.808487641305324,
          3.808487641305324,
          3.808487641305324,
          3.808487641305324,
          5.0023342690568695,
          2.7536607123542653,
          5.18345069915267,
          4.007333185232471,
          2.1679101896674453,
          4.198103796512954,
          0.0074720148386377685,
          0.0074720148386377685,
          0.7454075072210345,
          1.7698546338400252,
          0.9001613499442862,
          2.5877640352277047,
          3.258096538021482,
          3.808487641305324,
          3.808487641305324,
          5.198497031265826,
          5.968707559985366,
          5.25227342804663,
          4.709530201312334,
          6.19644412779452,
          3.808487641305324,
          1.791759469228055,
          1.791759469228055,
          3.044522437723423,
          1.9459101490553132,
          0,
          3.5660053559634015,
          3.713572066704308,
          4.61512051684126,
          0,
          5.655614117124946,
          6.121483528431717,
          0,
          7.539027055823995,
          6.449996376152838,
          6.125120931920655,
          3.8836235309064486,
          0,
          0,
          3.808487641305324,
          0,
          0,
          0,
          0,
          0,
          0,
          5.638354669333745,
          5.707110264748875,
          5.707110264748875,
          5.638354669333745,
          3.828641396489095,
          3.8918202981106265,
          3.2188758248682006,
          3.091042453358316,
          2.3978952727983707,
          2.70805020110221,
          0.9162907318741551,
          2.5649493574615367,
          1.3862943611198906,
          1.3862943611198906,
          5.1298987149230735,
          6.255750041753367,
          6.450470422144176,
          0,
          0,
          0,
          0,
          0,
          6.719720633531458,
          0,
          7.212980074127047,
          0,
          3.808487641305324,
          0,
          0,
          0,
          0,
          3.808487641305324,
          0,
          0,
          0,
          0,
          0,
          0,
          3.144152278672266,
          3.220873827530872,
          3.7323938209448957,
          4.067315889834181,
          3.731938943574383,
          0.1570037488096297,
          1.8405496333974798,
          0.7040871205983035,
          3.1354942159291497,
          3.828641396489095,
          3.784189633918261,
          4.143134726391533,
          5.5254529391317835,
          5.739792912179234,
          6.3473892096560105,
          5.164214382024556,
          6.805722553416985,
          5.164214382024556,
          6.805722553416985,
          2.4731713935695807,
          5.541467445937877,
          3.128513384787811,
          0.6151856390902457,
          0,
          4.465908118654584,
          2.468099531471615,
          2.459588841803714,
          3.5064578923196494,
          1.9589109850420843,
          0.9456164972560137,
          4.267485214300885,
          4.4616461759020485,
          4.366151285515592,
          4.735101355580122,
          3.160186828519523,
          0,
          3.4339872044851463,
          4.875197323201151,
          6.744059186311348,
          6.68586094706836,
          6.665683717782408,
          6.580639137284949,
          6.46302945692067,
          6.46302945692067,
          6.175867270105761,
          6.161207321695077,
          6.401578831030258,
          6.074656137994746,
          6.529161870942382,
          5.462436764612455,
          4.528990839249273,
          4.04305126783455,
          4.113264447074611,
          5.200958088775696,
          6.282186369834081,
          6.362855674882395,
          4.4080598117206975,
          4.38566998958868,
          4.7424595087399375,
          6.770812359425775,
          7.300479566439466,
          5.076672691357563,
          6.162514483863872,
          3.9318256327243257,
          3.9318256327243257,
          3.9318256327243257,
          3.9318256327243257,
          3.9318256327243257,
          3.9318256327243257,
          0,
          0,
          0,
          0,
          0,
          0,
          0,
          0,
          5.3230099791384085,
          5.541263545158426,
          5.800394836556317,
          4.984838739052245,
          4.912654885736052,
          5.087596335232384,
          4.969813299576001,
          0,
          0,
          0,
          5.209486152841421,
          4.844187086458591,
          5.926926025970411,
          6.530877627725885,
          5.209486152841421,
          4.553876891600541,
          5.752572638825633,
          6.530877627725885,
          7.174224950874224,
          7.087281265140624,
          6.638567789166521,
          6.2285110035911835,
          5.940171252720432,
          5.833347679010845,
          5.192228808153624,
          4.834240141426463,
          5.194067345174237,
          2.9444389791664403,
          4.697804060407184,
          3.593703015365879,
          0,
          0,
          2.70805020110221,
          7.1049654482698426,
          3.808487641305324,
          3.808487641305324,
          0,
          0,
          0,
          0,
          6.813444599510896,
          6.590301048196686,
          3.808487641305324,
          3.808487641305324,
          3.808487641305324,
          3.808487641305324,
          3.808487641305324,
          3.808487641305324,
          0,
          0,
          0,
          0,
          0,
          0,
          0,
          0,
          0,
          0,
          0,
          0,
          0,
          0,
          4.653960350157523,
          5.214935757608986,
          6.418364935936212,
          6.63200177739563,
          6.371611847231857,
          3.9318256327243257,
          4.630350484518389,
          4.854332299700856,
          4.6313251434649425,
          4.347046915777855,
          4.624972813284271,
          4.355425952876702,
          3.948258498010242,
          3.2793686732970246,
          0.18148787604543481,
          3.808487641305324,
          6.823981201733125,
          6.013634468191047,
          5.190570672897241,
          3.265759410767053,
          4.350922889622547,
          3.275634158686811,
          4.350277936359301,
          3.2793686732970206,
          7.134648591147501,
          7.299283721351428,
          5.415522457448741,
          2.659000003126921,
          4.51085950651685,
          3.9318256327243257,
          3.808487641305324,
          6.726233402358747,
          6.869222329265353,
          5.64129269785245,
          6.7226297948554485,
          6.928537818164665,
          6.93828448401696,
          7.01301578963963,
          7.01301578963963,
          0,
          0,
          0,
          0,
          6.646390514847729,
          5.638354669333745,
          4.997212273764115,
          0,
          0,
          0,
          7.018025721198741,
          5.246423892088454,
          5.7093602233868905,
          4.7165326538415515,
          5.723735417451826,
          4.632872897827038,
          7.47178986107927,
          6.690780163688303,
          5.360383302113779,
          4.8491354529946,
          4.863897073984451,
          3.7954891891721947,
          0,
          0,
          0,
          3.9451676040204493,
          5.538850832986239,
          4.961248952248222
         ],
         "y0": " ",
         "yaxis": "y2"
        }
       ],
       "layout": {
        "annotations": [
         {
          "font": {
           "size": 16
          },
          "showarrow": false,
          "text": "Histogram for exchange bias",
          "x": 0.225,
          "xanchor": "center",
          "xref": "paper",
          "y": 1,
          "yanchor": "bottom",
          "yref": "paper"
         },
         {
          "font": {
           "size": 16
          },
          "showarrow": false,
          "text": "Violin Plot for solubility",
          "x": 0.775,
          "xanchor": "center",
          "xref": "paper",
          "y": 1,
          "yanchor": "bottom",
          "yref": "paper"
         }
        ],
        "showlegend": false,
        "template": {
         "data": {
          "bar": [
           {
            "error_x": {
             "color": "#2a3f5f"
            },
            "error_y": {
             "color": "#2a3f5f"
            },
            "marker": {
             "line": {
              "color": "#E5ECF6",
              "width": 0.5
             },
             "pattern": {
              "fillmode": "overlay",
              "size": 10,
              "solidity": 0.2
             }
            },
            "type": "bar"
           }
          ],
          "barpolar": [
           {
            "marker": {
             "line": {
              "color": "#E5ECF6",
              "width": 0.5
             },
             "pattern": {
              "fillmode": "overlay",
              "size": 10,
              "solidity": 0.2
             }
            },
            "type": "barpolar"
           }
          ],
          "carpet": [
           {
            "aaxis": {
             "endlinecolor": "#2a3f5f",
             "gridcolor": "white",
             "linecolor": "white",
             "minorgridcolor": "white",
             "startlinecolor": "#2a3f5f"
            },
            "baxis": {
             "endlinecolor": "#2a3f5f",
             "gridcolor": "white",
             "linecolor": "white",
             "minorgridcolor": "white",
             "startlinecolor": "#2a3f5f"
            },
            "type": "carpet"
           }
          ],
          "choropleth": [
           {
            "colorbar": {
             "outlinewidth": 0,
             "ticks": ""
            },
            "type": "choropleth"
           }
          ],
          "contour": [
           {
            "colorbar": {
             "outlinewidth": 0,
             "ticks": ""
            },
            "colorscale": [
             [
              0,
              "#0d0887"
             ],
             [
              0.1111111111111111,
              "#46039f"
             ],
             [
              0.2222222222222222,
              "#7201a8"
             ],
             [
              0.3333333333333333,
              "#9c179e"
             ],
             [
              0.4444444444444444,
              "#bd3786"
             ],
             [
              0.5555555555555556,
              "#d8576b"
             ],
             [
              0.6666666666666666,
              "#ed7953"
             ],
             [
              0.7777777777777778,
              "#fb9f3a"
             ],
             [
              0.8888888888888888,
              "#fdca26"
             ],
             [
              1,
              "#f0f921"
             ]
            ],
            "type": "contour"
           }
          ],
          "contourcarpet": [
           {
            "colorbar": {
             "outlinewidth": 0,
             "ticks": ""
            },
            "type": "contourcarpet"
           }
          ],
          "heatmap": [
           {
            "colorbar": {
             "outlinewidth": 0,
             "ticks": ""
            },
            "colorscale": [
             [
              0,
              "#0d0887"
             ],
             [
              0.1111111111111111,
              "#46039f"
             ],
             [
              0.2222222222222222,
              "#7201a8"
             ],
             [
              0.3333333333333333,
              "#9c179e"
             ],
             [
              0.4444444444444444,
              "#bd3786"
             ],
             [
              0.5555555555555556,
              "#d8576b"
             ],
             [
              0.6666666666666666,
              "#ed7953"
             ],
             [
              0.7777777777777778,
              "#fb9f3a"
             ],
             [
              0.8888888888888888,
              "#fdca26"
             ],
             [
              1,
              "#f0f921"
             ]
            ],
            "type": "heatmap"
           }
          ],
          "heatmapgl": [
           {
            "colorbar": {
             "outlinewidth": 0,
             "ticks": ""
            },
            "colorscale": [
             [
              0,
              "#0d0887"
             ],
             [
              0.1111111111111111,
              "#46039f"
             ],
             [
              0.2222222222222222,
              "#7201a8"
             ],
             [
              0.3333333333333333,
              "#9c179e"
             ],
             [
              0.4444444444444444,
              "#bd3786"
             ],
             [
              0.5555555555555556,
              "#d8576b"
             ],
             [
              0.6666666666666666,
              "#ed7953"
             ],
             [
              0.7777777777777778,
              "#fb9f3a"
             ],
             [
              0.8888888888888888,
              "#fdca26"
             ],
             [
              1,
              "#f0f921"
             ]
            ],
            "type": "heatmapgl"
           }
          ],
          "histogram": [
           {
            "marker": {
             "pattern": {
              "fillmode": "overlay",
              "size": 10,
              "solidity": 0.2
             }
            },
            "type": "histogram"
           }
          ],
          "histogram2d": [
           {
            "colorbar": {
             "outlinewidth": 0,
             "ticks": ""
            },
            "colorscale": [
             [
              0,
              "#0d0887"
             ],
             [
              0.1111111111111111,
              "#46039f"
             ],
             [
              0.2222222222222222,
              "#7201a8"
             ],
             [
              0.3333333333333333,
              "#9c179e"
             ],
             [
              0.4444444444444444,
              "#bd3786"
             ],
             [
              0.5555555555555556,
              "#d8576b"
             ],
             [
              0.6666666666666666,
              "#ed7953"
             ],
             [
              0.7777777777777778,
              "#fb9f3a"
             ],
             [
              0.8888888888888888,
              "#fdca26"
             ],
             [
              1,
              "#f0f921"
             ]
            ],
            "type": "histogram2d"
           }
          ],
          "histogram2dcontour": [
           {
            "colorbar": {
             "outlinewidth": 0,
             "ticks": ""
            },
            "colorscale": [
             [
              0,
              "#0d0887"
             ],
             [
              0.1111111111111111,
              "#46039f"
             ],
             [
              0.2222222222222222,
              "#7201a8"
             ],
             [
              0.3333333333333333,
              "#9c179e"
             ],
             [
              0.4444444444444444,
              "#bd3786"
             ],
             [
              0.5555555555555556,
              "#d8576b"
             ],
             [
              0.6666666666666666,
              "#ed7953"
             ],
             [
              0.7777777777777778,
              "#fb9f3a"
             ],
             [
              0.8888888888888888,
              "#fdca26"
             ],
             [
              1,
              "#f0f921"
             ]
            ],
            "type": "histogram2dcontour"
           }
          ],
          "mesh3d": [
           {
            "colorbar": {
             "outlinewidth": 0,
             "ticks": ""
            },
            "type": "mesh3d"
           }
          ],
          "parcoords": [
           {
            "line": {
             "colorbar": {
              "outlinewidth": 0,
              "ticks": ""
             }
            },
            "type": "parcoords"
           }
          ],
          "pie": [
           {
            "automargin": true,
            "type": "pie"
           }
          ],
          "scatter": [
           {
            "fillpattern": {
             "fillmode": "overlay",
             "size": 10,
             "solidity": 0.2
            },
            "type": "scatter"
           }
          ],
          "scatter3d": [
           {
            "line": {
             "colorbar": {
              "outlinewidth": 0,
              "ticks": ""
             }
            },
            "marker": {
             "colorbar": {
              "outlinewidth": 0,
              "ticks": ""
             }
            },
            "type": "scatter3d"
           }
          ],
          "scattercarpet": [
           {
            "marker": {
             "colorbar": {
              "outlinewidth": 0,
              "ticks": ""
             }
            },
            "type": "scattercarpet"
           }
          ],
          "scattergeo": [
           {
            "marker": {
             "colorbar": {
              "outlinewidth": 0,
              "ticks": ""
             }
            },
            "type": "scattergeo"
           }
          ],
          "scattergl": [
           {
            "marker": {
             "colorbar": {
              "outlinewidth": 0,
              "ticks": ""
             }
            },
            "type": "scattergl"
           }
          ],
          "scattermapbox": [
           {
            "marker": {
             "colorbar": {
              "outlinewidth": 0,
              "ticks": ""
             }
            },
            "type": "scattermapbox"
           }
          ],
          "scatterpolar": [
           {
            "marker": {
             "colorbar": {
              "outlinewidth": 0,
              "ticks": ""
             }
            },
            "type": "scatterpolar"
           }
          ],
          "scatterpolargl": [
           {
            "marker": {
             "colorbar": {
              "outlinewidth": 0,
              "ticks": ""
             }
            },
            "type": "scatterpolargl"
           }
          ],
          "scatterternary": [
           {
            "marker": {
             "colorbar": {
              "outlinewidth": 0,
              "ticks": ""
             }
            },
            "type": "scatterternary"
           }
          ],
          "surface": [
           {
            "colorbar": {
             "outlinewidth": 0,
             "ticks": ""
            },
            "colorscale": [
             [
              0,
              "#0d0887"
             ],
             [
              0.1111111111111111,
              "#46039f"
             ],
             [
              0.2222222222222222,
              "#7201a8"
             ],
             [
              0.3333333333333333,
              "#9c179e"
             ],
             [
              0.4444444444444444,
              "#bd3786"
             ],
             [
              0.5555555555555556,
              "#d8576b"
             ],
             [
              0.6666666666666666,
              "#ed7953"
             ],
             [
              0.7777777777777778,
              "#fb9f3a"
             ],
             [
              0.8888888888888888,
              "#fdca26"
             ],
             [
              1,
              "#f0f921"
             ]
            ],
            "type": "surface"
           }
          ],
          "table": [
           {
            "cells": {
             "fill": {
              "color": "#EBF0F8"
             },
             "line": {
              "color": "white"
             }
            },
            "header": {
             "fill": {
              "color": "#C8D4E3"
             },
             "line": {
              "color": "white"
             }
            },
            "type": "table"
           }
          ]
         },
         "layout": {
          "annotationdefaults": {
           "arrowcolor": "#2a3f5f",
           "arrowhead": 0,
           "arrowwidth": 1
          },
          "autotypenumbers": "strict",
          "coloraxis": {
           "colorbar": {
            "outlinewidth": 0,
            "ticks": ""
           }
          },
          "colorscale": {
           "diverging": [
            [
             0,
             "#8e0152"
            ],
            [
             0.1,
             "#c51b7d"
            ],
            [
             0.2,
             "#de77ae"
            ],
            [
             0.3,
             "#f1b6da"
            ],
            [
             0.4,
             "#fde0ef"
            ],
            [
             0.5,
             "#f7f7f7"
            ],
            [
             0.6,
             "#e6f5d0"
            ],
            [
             0.7,
             "#b8e186"
            ],
            [
             0.8,
             "#7fbc41"
            ],
            [
             0.9,
             "#4d9221"
            ],
            [
             1,
             "#276419"
            ]
           ],
           "sequential": [
            [
             0,
             "#0d0887"
            ],
            [
             0.1111111111111111,
             "#46039f"
            ],
            [
             0.2222222222222222,
             "#7201a8"
            ],
            [
             0.3333333333333333,
             "#9c179e"
            ],
            [
             0.4444444444444444,
             "#bd3786"
            ],
            [
             0.5555555555555556,
             "#d8576b"
            ],
            [
             0.6666666666666666,
             "#ed7953"
            ],
            [
             0.7777777777777778,
             "#fb9f3a"
            ],
            [
             0.8888888888888888,
             "#fdca26"
            ],
            [
             1,
             "#f0f921"
            ]
           ],
           "sequentialminus": [
            [
             0,
             "#0d0887"
            ],
            [
             0.1111111111111111,
             "#46039f"
            ],
            [
             0.2222222222222222,
             "#7201a8"
            ],
            [
             0.3333333333333333,
             "#9c179e"
            ],
            [
             0.4444444444444444,
             "#bd3786"
            ],
            [
             0.5555555555555556,
             "#d8576b"
            ],
            [
             0.6666666666666666,
             "#ed7953"
            ],
            [
             0.7777777777777778,
             "#fb9f3a"
            ],
            [
             0.8888888888888888,
             "#fdca26"
            ],
            [
             1,
             "#f0f921"
            ]
           ]
          },
          "colorway": [
           "#636efa",
           "#EF553B",
           "#00cc96",
           "#ab63fa",
           "#FFA15A",
           "#19d3f3",
           "#FF6692",
           "#B6E880",
           "#FF97FF",
           "#FECB52"
          ],
          "font": {
           "color": "#2a3f5f"
          },
          "geo": {
           "bgcolor": "white",
           "lakecolor": "white",
           "landcolor": "#E5ECF6",
           "showlakes": true,
           "showland": true,
           "subunitcolor": "white"
          },
          "hoverlabel": {
           "align": "left"
          },
          "hovermode": "closest",
          "mapbox": {
           "style": "light"
          },
          "paper_bgcolor": "white",
          "plot_bgcolor": "#E5ECF6",
          "polar": {
           "angularaxis": {
            "gridcolor": "white",
            "linecolor": "white",
            "ticks": ""
           },
           "bgcolor": "#E5ECF6",
           "radialaxis": {
            "gridcolor": "white",
            "linecolor": "white",
            "ticks": ""
           }
          },
          "scene": {
           "xaxis": {
            "backgroundcolor": "#E5ECF6",
            "gridcolor": "white",
            "gridwidth": 2,
            "linecolor": "white",
            "showbackground": true,
            "ticks": "",
            "zerolinecolor": "white"
           },
           "yaxis": {
            "backgroundcolor": "#E5ECF6",
            "gridcolor": "white",
            "gridwidth": 2,
            "linecolor": "white",
            "showbackground": true,
            "ticks": "",
            "zerolinecolor": "white"
           },
           "zaxis": {
            "backgroundcolor": "#E5ECF6",
            "gridcolor": "white",
            "gridwidth": 2,
            "linecolor": "white",
            "showbackground": true,
            "ticks": "",
            "zerolinecolor": "white"
           }
          },
          "shapedefaults": {
           "line": {
            "color": "#2a3f5f"
           }
          },
          "ternary": {
           "aaxis": {
            "gridcolor": "white",
            "linecolor": "white",
            "ticks": ""
           },
           "baxis": {
            "gridcolor": "white",
            "linecolor": "white",
            "ticks": ""
           },
           "bgcolor": "#E5ECF6",
           "caxis": {
            "gridcolor": "white",
            "linecolor": "white",
            "ticks": ""
           }
          },
          "title": {
           "x": 0.05
          },
          "xaxis": {
           "automargin": true,
           "gridcolor": "white",
           "linecolor": "white",
           "ticks": "",
           "title": {
            "standoff": 15
           },
           "zerolinecolor": "white",
           "zerolinewidth": 2
          },
          "yaxis": {
           "automargin": true,
           "gridcolor": "white",
           "linecolor": "white",
           "ticks": "",
           "title": {
            "standoff": 15
           },
           "zerolinecolor": "white",
           "zerolinewidth": 2
          }
         }
        },
        "title": {
         "text": "Pic for exchange bias after outliers"
        },
        "xaxis": {
         "anchor": "y",
         "domain": [
          0,
          0.45
         ]
        },
        "xaxis2": {
         "anchor": "y2",
         "domain": [
          0.55,
          1
         ]
        },
        "yaxis": {
         "anchor": "x",
         "domain": [
          0,
          1
         ]
        },
        "yaxis2": {
         "anchor": "x2",
         "domain": [
          0,
          1
         ]
        }
       }
      }
     },
     "metadata": {},
     "output_type": "display_data"
    },
    {
     "name": "stdout",
     "output_type": "stream",
     "text": [
      "None\n"
     ]
    }
   ],
   "source": [
    "#Построим график распределения целевой переменной\n",
    "fig = make_subplots(rows=1, cols=2, subplot_titles=['Histogram for exchange bias', 'Violin Plot for solubility'])\n",
    "\n",
    "# Histogram\n",
    "hist_fig = px.histogram(df, x=\"exc_bias_oe\", nbins = 60,\n",
    "                 color_discrete_sequence = colors,\n",
    "                 opacity = 0.7)\n",
    "\n",
    "fig.add_trace(hist_fig['data'][0], row=1, col=1) # Adding a graph indicating the location\n",
    "\n",
    "# Violin plot\n",
    "violin_fig = px.violin(df, y=\"exc_bias_oe\", color_discrete_sequence = colors, box = True)\n",
    "fig.add_trace(violin_fig['data'][0], row=1, col=2) # Adding a graph indicating the location\n",
    "\n",
    "# Setting up the layout\n",
    "fig.update_layout(showlegend=False, title_text=\"Pic for exchange bias after outliers\")\n",
    "\n",
    "# Graph display\n",
    "print(display(fig))"
   ]
  },
  {
   "cell_type": "code",
   "execution_count": 212,
   "metadata": {},
   "outputs": [],
   "source": [
    "exc_bias_oe = df['exc_bias_oe']\n",
    "id = df['id']"
   ]
  },
  {
   "cell_type": "code",
   "execution_count": 214,
   "metadata": {},
   "outputs": [],
   "source": [
    "df = df.drop(columns=['mass_ratio_str'])"
   ]
  },
  {
   "cell_type": "code",
   "execution_count": 215,
   "metadata": {},
   "outputs": [
    {
     "name": "stdout",
     "output_type": "stream",
     "text": [
      "           id  space_group_shell   coer_oe  exc_bias_oe  fc_field_t  \\\n",
      "0    0.000000           0.991266  1.000000     7.032624    0.071429   \n",
      "1    0.001883           0.991266  0.280576     6.008813    0.071429   \n",
      "2    0.003766           0.000000  0.000892     3.957761    0.000000   \n",
      "3    0.005650           0.000000  0.003245     4.692998    0.000000   \n",
      "4    0.007533           0.000000  0.001441     2.294553    0.000000   \n",
      "..        ...                ...       ...          ...         ...   \n",
      "480  0.992467           0.982533  0.038948     0.000000    0.014286   \n",
      "481  0.994350           0.982533  0.041184     0.000000    0.028571   \n",
      "482  0.996234           0.982533  0.045324     3.945168    0.042857   \n",
      "483  0.998117           0.982533  0.047572     5.538851    0.057143   \n",
      "484  1.000000           0.982533  0.052252     4.961249    0.071429   \n",
      "\n",
      "     h_range_max_koe  mr (emu/g)  sat_em_g  shape  space_group_core  \\\n",
      "0           0.555061    0.055521  0.135607    0.0          0.811404   \n",
      "1           0.555061    0.174481  0.216184    0.0          0.982456   \n",
      "2           0.110122    0.000031  0.005948    0.0          0.991228   \n",
      "3           0.110122    0.000088  0.006312    0.0          0.991228   \n",
      "4           0.110122    0.001411  0.041989    0.0          0.991228   \n",
      "..               ...         ...       ...    ...               ...   \n",
      "480         0.666296    0.000583  0.003932    0.0          0.267544   \n",
      "481         0.666296    0.000627  0.004219    0.0          0.267544   \n",
      "482         0.666296    0.000625  0.004284    0.0          0.267544   \n",
      "483         0.666296    0.000669  0.004302    0.0          0.267544   \n",
      "484         0.666296    0.000667  0.004353    0.0          0.267544   \n",
      "\n",
      "     temperature_k  ver_shift_emu_g  sphericity  exc_dir  ver_s_dir  \\\n",
      "0         0.008621         0.000000    0.594388      0.0        1.0   \n",
      "1         0.008621         0.000000    0.594388      0.0        1.0   \n",
      "2         0.856322         0.000000    0.594388      1.0        1.0   \n",
      "3         0.856322         0.000000    0.594388      1.0        1.0   \n",
      "4         0.856322         0.000000    0.594388      1.0        1.0   \n",
      "..             ...              ...         ...      ...        ...   \n",
      "480       0.008621         0.000343    0.594388      0.0        1.0   \n",
      "481       0.008621         0.000715    0.594388      0.0        1.0   \n",
      "482       0.008621         0.000788    0.594388      0.0        1.0   \n",
      "483       0.008621         0.000966    0.594388      0.0        1.0   \n",
      "484       0.008621         0.000953    0.594388      0.0        1.0   \n",
      "\n",
      "     area/volume  \n",
      "0       0.268441  \n",
      "1       0.283924  \n",
      "2       0.115436  \n",
      "3       0.179768  \n",
      "4       0.164578  \n",
      "..           ...  \n",
      "480     0.047619  \n",
      "481     0.047619  \n",
      "482     0.047619  \n",
      "483     0.054780  \n",
      "484     0.054780  \n",
      "\n",
      "[485 rows x 16 columns]\n"
     ]
    }
   ],
   "source": [
    "scaler = MinMaxScaler()\n",
    "df_enc_scaled = scaler.fit_transform(df)\n",
    "df_enc_scaled = pd.DataFrame(df_enc_scaled, columns=df.columns)\n",
    "df_enc_scaled['exc_bias_oe'] = exc_bias_oe\n",
    "df = df_enc_scaled\n",
    "print(df)"
   ]
  },
  {
   "cell_type": "code",
   "execution_count": 216,
   "metadata": {},
   "outputs": [
    {
     "name": "stdout",
     "output_type": "stream",
     "text": [
      "Столбцы с пропущенными значениями:\n",
      "exc_bias_oe    38\n",
      "dtype: int64\n"
     ]
    }
   ],
   "source": [
    "missing_values = df.isnull().sum()\n",
    "\n",
    "if missing_values.sum() == 0:\n",
    "    print(\"В датасете нет пропущенных значений.\")\n",
    "else:\n",
    "    print(\"Столбцы с пропущенными значениями:\")\n",
    "    print(missing_values[missing_values > 0])"
   ]
  },
  {
   "cell_type": "code",
   "execution_count": 217,
   "metadata": {},
   "outputs": [],
   "source": [
    "from sklearn.impute import KNNImputer\n",
    "\n",
    "# Создание экземпляра KNNImputer\n",
    "imputer = KNNImputer()\n",
    "\n",
    "# Применение импутации к столбцу 'exc_bias_oe'\n",
    "df['exc_bias_oe'] = imputer.fit_transform(df[['exc_bias_oe']])"
   ]
  },
  {
   "cell_type": "code",
   "execution_count": 218,
   "metadata": {},
   "outputs": [
    {
     "name": "stdout",
     "output_type": "stream",
     "text": [
      "id                   0\n",
      "space_group_shell    0\n",
      "coer_oe              0\n",
      "exc_bias_oe          0\n",
      "fc_field_t           0\n",
      "h_range_max_koe      0\n",
      "mr (emu/g)           0\n",
      "sat_em_g             0\n",
      "shape                0\n",
      "space_group_core     0\n",
      "temperature_k        0\n",
      "ver_shift_emu_g      0\n",
      "sphericity           0\n",
      "exc_dir              0\n",
      "ver_s_dir            0\n",
      "area/volume          0\n",
      "dtype: int64\n"
     ]
    }
   ],
   "source": [
    "missing_values = df.isnull().sum()\n",
    "print(missing_values)"
   ]
  },
  {
   "cell_type": "code",
   "execution_count": 219,
   "metadata": {},
   "outputs": [],
   "source": [
    "df = df.drop(columns=['id']) # Просто порядковый номер моих наночастиц, чтобы отличать их друг от друга"
   ]
  },
  {
   "cell_type": "code",
   "execution_count": 221,
   "metadata": {},
   "outputs": [
    {
     "name": "stdout",
     "output_type": "stream",
     "text": [
      "<class 'pandas.core.frame.DataFrame'>\n",
      "RangeIndex: 485 entries, 0 to 484\n",
      "Data columns (total 15 columns):\n",
      " #   Column             Non-Null Count  Dtype  \n",
      "---  ------             --------------  -----  \n",
      " 0   space_group_shell  485 non-null    float64\n",
      " 1   coer_oe            485 non-null    float64\n",
      " 2   exc_bias_oe        485 non-null    float64\n",
      " 3   fc_field_t         485 non-null    float64\n",
      " 4   h_range_max_koe    485 non-null    float64\n",
      " 5   mr (emu/g)         485 non-null    float64\n",
      " 6   sat_em_g           485 non-null    float64\n",
      " 7   shape              485 non-null    float64\n",
      " 8   space_group_core   485 non-null    float64\n",
      " 9   temperature_k      485 non-null    float64\n",
      " 10  ver_shift_emu_g    485 non-null    float64\n",
      " 11  sphericity         485 non-null    float64\n",
      " 12  exc_dir            485 non-null    float64\n",
      " 13  ver_s_dir          485 non-null    float64\n",
      " 14  area/volume        485 non-null    float64\n",
      "dtypes: float64(15)\n",
      "memory usage: 57.0 KB\n",
      "None\n"
     ]
    }
   ],
   "source": [
    "print(df.info())"
   ]
  },
  {
   "cell_type": "code",
   "execution_count": 220,
   "metadata": {},
   "outputs": [],
   "source": [
    "df.to_csv(r'C:\\Users\\Ксения\\Project\\Magnet_Exchange_bias\\data\\Bias_data_3.csv')"
   ]
  }
 ],
 "metadata": {
  "kernelspec": {
   "display_name": "Python 3",
   "language": "python",
   "name": "python3"
  },
  "language_info": {
   "codemirror_mode": {
    "name": "ipython",
    "version": 3
   },
   "file_extension": ".py",
   "mimetype": "text/x-python",
   "name": "python",
   "nbconvert_exporter": "python",
   "pygments_lexer": "ipython3",
   "version": "3.11.4"
  }
 },
 "nbformat": 4,
 "nbformat_minor": 2
}
