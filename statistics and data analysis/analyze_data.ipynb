{
 "cells": [
  {
   "cell_type": "code",
   "execution_count": 20,
   "metadata": {},
   "outputs": [],
   "source": [
    "import pandas as pd\n",
    "import numpy as np\n",
    "import matplotlib.pyplot as plt\n",
    "import seaborn as sns"
   ]
  },
  {
   "cell_type": "code",
   "execution_count": 21,
   "metadata": {},
   "outputs": [],
   "source": [
    "import pickle"
   ]
  },
  {
   "cell_type": "code",
   "execution_count": 22,
   "metadata": {},
   "outputs": [],
   "source": [
    "df = pd.read_csv(r'C:\\Users\\Ксения\\Project\\Magnet_Exchange_bias\\data\\Bias_data_2.csv')"
   ]
  },
  {
   "cell_type": "code",
   "execution_count": 23,
   "metadata": {},
   "outputs": [
    {
     "name": "stdout",
     "output_type": "stream",
     "text": [
      "<class 'pandas.core.frame.DataFrame'>\n",
      "RangeIndex: 533 entries, 0 to 532\n",
      "Data columns (total 32 columns):\n",
      " #   Column                    Non-Null Count  Dtype  \n",
      "---  ------                    --------------  -----  \n",
      " 0   Unnamed: 0.1              533 non-null    int64  \n",
      " 1   volume                    533 non-null    float64\n",
      " 2   area                      533 non-null    float64\n",
      " 3   Unnamed: 0                533 non-null    int64  \n",
      " 4   c1                        533 non-null    object \n",
      " 5   c2                        322 non-null    object \n",
      " 6   c3                        9 non-null      object \n",
      " 7   chemical_formula          533 non-null    object \n",
      " 8   crystal_structure         533 non-null    object \n",
      " 9   z                         509 non-null    float64\n",
      " 10  id                        533 non-null    int64  \n",
      " 11  space_group_shell         533 non-null    int64  \n",
      " 12  structure                 533 non-null    object \n",
      " 13  structure_                533 non-null    object \n",
      " 14  formula_combined          533 non-null    object \n",
      " 15  coer_oe                   533 non-null    float64\n",
      " 16  exc_bias_oe               533 non-null    float64\n",
      " 17  fc_field_t                533 non-null    float64\n",
      " 18  h_range_max_koe           533 non-null    float64\n",
      " 19  y                         533 non-null    float64\n",
      " 20  mr (emu/g)                533 non-null    float64\n",
      " 21  sat_em_g                  533 non-null    float64\n",
      " 22  shape                     533 non-null    float64\n",
      " 23  space_group_core          533 non-null    float64\n",
      " 24  temperature_k             533 non-null    float64\n",
      " 25  ver_shift_emu_g           533 non-null    float64\n",
      " 26  x                         533 non-null    float64\n",
      " 27  mass_ratio                533 non-null    float64\n",
      " 28  magn_ions_combined        533 non-null    float64\n",
      " 29  num_of_unique_magn_sites  533 non-null    int64  \n",
      " 30  sphericity                533 non-null    float64\n",
      " 31  total_magn                533 non-null    float64\n",
      "dtypes: float64(19), int64(5), object(8)\n",
      "memory usage: 133.4+ KB\n",
      "(533, 32), None\n"
     ]
    }
   ],
   "source": [
    "print(df.shape, df.info(), sep=', ', end='\\n')"
   ]
  },
  {
   "cell_type": "code",
   "execution_count": 24,
   "metadata": {},
   "outputs": [
    {
     "name": "stdout",
     "output_type": "stream",
     "text": [
      "<class 'pandas.core.frame.DataFrame'>\n",
      "RangeIndex: 533 entries, 0 to 532\n",
      "Data columns (total 26 columns):\n",
      " #   Column                    Non-Null Count  Dtype  \n",
      "---  ------                    --------------  -----  \n",
      " 0   volume                    533 non-null    float64\n",
      " 1   area                      533 non-null    float64\n",
      " 2   chemical_formula          533 non-null    object \n",
      " 3   crystal_structure         533 non-null    object \n",
      " 4   z                         509 non-null    float64\n",
      " 5   id                        533 non-null    int64  \n",
      " 6   space_group_shell         533 non-null    int64  \n",
      " 7   structure                 533 non-null    object \n",
      " 8   formula_combined          533 non-null    object \n",
      " 9   coer_oe                   533 non-null    float64\n",
      " 10  exc_bias_oe               533 non-null    float64\n",
      " 11  fc_field_t                533 non-null    float64\n",
      " 12  h_range_max_koe           533 non-null    float64\n",
      " 13  y                         533 non-null    float64\n",
      " 14  mr (emu/g)                533 non-null    float64\n",
      " 15  sat_em_g                  533 non-null    float64\n",
      " 16  shape                     533 non-null    float64\n",
      " 17  space_group_core          533 non-null    float64\n",
      " 18  temperature_k             533 non-null    float64\n",
      " 19  ver_shift_emu_g           533 non-null    float64\n",
      " 20  x                         533 non-null    float64\n",
      " 21  mass_ratio                533 non-null    float64\n",
      " 22  magn_ions_combined        533 non-null    float64\n",
      " 23  num_of_unique_magn_sites  533 non-null    int64  \n",
      " 24  sphericity                533 non-null    float64\n",
      " 25  total_magn                533 non-null    float64\n",
      "dtypes: float64(19), int64(3), object(4)\n",
      "memory usage: 108.4+ KB\n",
      "None\n"
     ]
    }
   ],
   "source": [
    "df = df.drop(columns=['Unnamed: 0.1', 'Unnamed: 0', 'c1', 'c2', 'c3', 'structure_']) # Колонку structure - нужно будет как-то закодировать \n",
    "print(df.info())"
   ]
  },
  {
   "cell_type": "markdown",
   "metadata": {},
   "source": [
    "Столбец structure имеет в себе формулы с структурой формулы ядро/оболочка, поэтому она для модели не будет иметьсмысла, но для интерпритации важна, поэтому совместим её знчаения с колонкой id, которая тоже не несёт никакого знания о наносатицах напрямую. Создадим словарь, где каждый id - structure"
   ]
  },
  {
   "cell_type": "code",
   "execution_count": 25,
   "metadata": {},
   "outputs": [
    {
     "name": "stdout",
     "output_type": "stream",
     "text": [
      "533\n"
     ]
    }
   ],
   "source": [
    "print(len(df['id'].unique())) # Эта колнка состоит только из уникальных значений"
   ]
  },
  {
   "cell_type": "code",
   "execution_count": 26,
   "metadata": {},
   "outputs": [],
   "source": [
    "dict_structure = {} # Словарь для кодирования\n",
    "# Проходимся по каждой строке DataFrame и добавляем в словарь пару id-structure\n",
    "for idx, row in df.iterrows():\n",
    "    dict_structure[row['id']] = row['chemical_formula']\n",
    "\n",
    "# Пример значения id, для которого мы хотим декодировать structure\n",
    "id_value = 123"
   ]
  },
  {
   "cell_type": "code",
   "execution_count": 27,
   "metadata": {},
   "outputs": [],
   "source": [
    "# Сохраняем словарь в файл с помощью pickle(пакет помогает сохранять данные и загружать обратно)\n",
    "with open('dict_structure.pkl', 'wb') as f:\n",
    "    pickle.dump(dict_structure, f)"
   ]
  },
  {
   "cell_type": "code",
   "execution_count": 28,
   "metadata": {},
   "outputs": [
    {
     "name": "stdout",
     "output_type": "stream",
     "text": [
      "['FeO', 'Fe3O4']\n"
     ]
    }
   ],
   "source": [
    "# Проверка\n",
    "decoded_structure = dict_structure[id_value]\n",
    "print(decoded_structure)"
   ]
  },
  {
   "cell_type": "code",
   "execution_count": null,
   "metadata": {},
   "outputs": [],
   "source": [
    "del df['structure']\n",
    "del df['chemical_formula']"
   ]
  },
  {
   "cell_type": "code",
   "execution_count": null,
   "metadata": {},
   "outputs": [],
   "source": [
    "# Преобразуем crystal_structure в цифры\n"
   ]
  },
  {
   "cell_type": "code",
   "execution_count": 29,
   "metadata": {},
   "outputs": [
    {
     "name": "stdout",
     "output_type": "stream",
     "text": [
      "<class 'pandas.core.frame.DataFrame'>\n",
      "RangeIndex: 533 entries, 0 to 532\n",
      "Data columns (total 24 columns):\n",
      " #   Column                    Non-Null Count  Dtype  \n",
      "---  ------                    --------------  -----  \n",
      " 0   volume                    533 non-null    float64\n",
      " 1   area                      533 non-null    float64\n",
      " 2   crystal_structure         533 non-null    object \n",
      " 3   z                         509 non-null    float64\n",
      " 4   id                        533 non-null    int64  \n",
      " 5   space_group_shell         533 non-null    int64  \n",
      " 6   formula_combined          533 non-null    object \n",
      " 7   coer_oe                   533 non-null    float64\n",
      " 8   exc_bias_oe               533 non-null    float64\n",
      " 9   fc_field_t                533 non-null    float64\n",
      " 10  h_range_max_koe           533 non-null    float64\n",
      " 11  y                         533 non-null    float64\n",
      " 12  mr (emu/g)                533 non-null    float64\n",
      " 13  sat_em_g                  533 non-null    float64\n",
      " 14  shape                     533 non-null    float64\n",
      " 15  space_group_core          533 non-null    float64\n",
      " 16  temperature_k             533 non-null    float64\n",
      " 17  ver_shift_emu_g           533 non-null    float64\n",
      " 18  x                         533 non-null    float64\n",
      " 19  mass_ratio                533 non-null    float64\n",
      " 20  magn_ions_combined        533 non-null    float64\n",
      " 21  num_of_unique_magn_sites  533 non-null    int64  \n",
      " 22  sphericity                533 non-null    float64\n",
      " 23  total_magn                533 non-null    float64\n",
      "dtypes: float64(19), int64(3), object(2)\n",
      "memory usage: 100.1+ KB\n"
     ]
    }
   ],
   "source": [
    "df.info()"
   ]
  }
 ],
 "metadata": {
  "kernelspec": {
   "display_name": "Python 3",
   "language": "python",
   "name": "python3"
  },
  "language_info": {
   "codemirror_mode": {
    "name": "ipython",
    "version": 3
   },
   "file_extension": ".py",
   "mimetype": "text/x-python",
   "name": "python",
   "nbconvert_exporter": "python",
   "pygments_lexer": "ipython3",
   "version": "3.11.4"
  }
 },
 "nbformat": 4,
 "nbformat_minor": 2
}
