{
 "cells": [
  {
   "cell_type": "code",
   "execution_count": 577,
   "metadata": {},
   "outputs": [],
   "source": [
    "import pandas as pd\n",
    "import numpy as np\n",
    "import plotly.express as px\n",
    "from scipy import stats\n",
    "from plotly.subplots import make_subplots\n",
    "from matplotlib import pyplot as plt\n",
    "import seaborn as sns\n",
    "from sklearn.impute import SimpleImputer\n",
    "import plotly.graph_objects as go\n",
    "colors = ['#082040', '#175073', '#3285A6', '#B8D0D9', '#6CC5D9']"
   ]
  },
  {
   "cell_type": "code",
   "execution_count": 578,
   "metadata": {},
   "outputs": [],
   "source": [
    "from sklearn.preprocessing import MinMaxScaler\n",
    "from sklearn.preprocessing import StandardScaler"
   ]
  },
  {
   "cell_type": "code",
   "execution_count": 579,
   "metadata": {},
   "outputs": [],
   "source": [
    "import pickle"
   ]
  },
  {
   "cell_type": "code",
   "execution_count": 580,
   "metadata": {},
   "outputs": [],
   "source": [
    "df = pd.read_csv(r'C:\\Users\\Ксения\\Project\\Magnet_Exchange_bias\\data\\Bias_data_2.csv')"
   ]
  },
  {
   "cell_type": "code",
   "execution_count": 581,
   "metadata": {},
   "outputs": [
    {
     "name": "stdout",
     "output_type": "stream",
     "text": [
      "<class 'pandas.core.frame.DataFrame'>\n",
      "RangeIndex: 533 entries, 0 to 532\n",
      "Data columns (total 29 columns):\n",
      " #   Column             Non-Null Count  Dtype  \n",
      "---  ------             --------------  -----  \n",
      " 0   Unnamed: 0         533 non-null    int64  \n",
      " 1   volume             533 non-null    float64\n",
      " 2   area               533 non-null    float64\n",
      " 3   c1                 533 non-null    object \n",
      " 4   c2                 322 non-null    object \n",
      " 5   c3                 9 non-null      object \n",
      " 6   chemical_formula   533 non-null    object \n",
      " 7   crystal_structure  533 non-null    int64  \n",
      " 8   z                  509 non-null    float64\n",
      " 9   id                 533 non-null    int64  \n",
      " 10  space_group_shell  533 non-null    int64  \n",
      " 11  formula_combined   533 non-null    object \n",
      " 12  coer_oe            533 non-null    float64\n",
      " 13  exc_bias_oe        533 non-null    float64\n",
      " 14  fc_field_t         533 non-null    float64\n",
      " 15  h_range_max_koe    533 non-null    float64\n",
      " 16  y                  533 non-null    float64\n",
      " 17  mr (emu/g)         533 non-null    float64\n",
      " 18  sat_em_g           533 non-null    float64\n",
      " 19  shape              533 non-null    float64\n",
      " 20  space_group_core   533 non-null    float64\n",
      " 21  temperature_k      533 non-null    float64\n",
      " 22  ver_shift_emu_g    533 non-null    float64\n",
      " 23  x                  533 non-null    float64\n",
      " 24  mass_ratio         533 non-null    int64  \n",
      " 25  sphericity         533 non-null    float64\n",
      " 26  max/min            533 non-null    int64  \n",
      " 27  exc_dir            533 non-null    int64  \n",
      " 28  ver_s_dir          533 non-null    int64  \n",
      "dtypes: float64(16), int64(8), object(5)\n",
      "memory usage: 120.9+ KB\n",
      "None\n"
     ]
    }
   ],
   "source": [
    "print(df.info())"
   ]
  },
  {
   "cell_type": "markdown",
   "metadata": {},
   "source": [
    "Пропуски в ожидемых местах среди целевых пременных пропусков нет"
   ]
  },
  {
   "cell_type": "code",
   "execution_count": 582,
   "metadata": {},
   "outputs": [
    {
     "name": "stdout",
     "output_type": "stream",
     "text": [
      "<class 'pandas.core.frame.DataFrame'>\n",
      "RangeIndex: 533 entries, 0 to 532\n",
      "Data columns (total 29 columns):\n",
      " #   Column             Non-Null Count  Dtype  \n",
      "---  ------             --------------  -----  \n",
      " 0   Unnamed: 0         533 non-null    int64  \n",
      " 1   volume             533 non-null    float64\n",
      " 2   area               533 non-null    float64\n",
      " 3   c1                 533 non-null    object \n",
      " 4   c2                 322 non-null    object \n",
      " 5   c3                 9 non-null      object \n",
      " 6   chemical_formula   533 non-null    object \n",
      " 7   crystal_structure  533 non-null    int64  \n",
      " 8   z                  509 non-null    float64\n",
      " 9   id                 533 non-null    int64  \n",
      " 10  space_group_shell  533 non-null    int64  \n",
      " 11  formula_combined   533 non-null    object \n",
      " 12  coer_oe            533 non-null    float64\n",
      " 13  exc_bias_oe        533 non-null    float64\n",
      " 14  fc_field_t         533 non-null    float64\n",
      " 15  h_range_max_koe    533 non-null    float64\n",
      " 16  y                  533 non-null    float64\n",
      " 17  mr (emu/g)         533 non-null    float64\n",
      " 18  sat_em_g           533 non-null    float64\n",
      " 19  shape              533 non-null    float64\n",
      " 20  space_group_core   533 non-null    float64\n",
      " 21  temperature_k      533 non-null    float64\n",
      " 22  ver_shift_emu_g    533 non-null    float64\n",
      " 23  x                  533 non-null    float64\n",
      " 24  mass_ratio         533 non-null    int64  \n",
      " 25  sphericity         533 non-null    float64\n",
      " 26  max/min            533 non-null    int64  \n",
      " 27  exc_dir            533 non-null    int64  \n",
      " 28  ver_s_dir          533 non-null    int64  \n",
      "dtypes: float64(16), int64(8), object(5)\n",
      "memory usage: 120.9+ KB\n",
      "Unnamed: 0             0\n",
      "volume                 0\n",
      "area                   0\n",
      "c1                     0\n",
      "c2                   211\n",
      "c3                   524\n",
      "chemical_formula       0\n",
      "crystal_structure      0\n",
      "z                     24\n",
      "id                     0\n",
      "space_group_shell      0\n",
      "formula_combined       0\n",
      "coer_oe                0\n",
      "exc_bias_oe            0\n",
      "fc_field_t             0\n",
      "h_range_max_koe        0\n",
      "y                      0\n",
      "mr (emu/g)             0\n",
      "sat_em_g               0\n",
      "shape                  0\n",
      "space_group_core       0\n",
      "temperature_k          0\n",
      "ver_shift_emu_g        0\n",
      "x                      0\n",
      "mass_ratio             0\n",
      "sphericity             0\n",
      "max/min                0\n",
      "exc_dir                0\n",
      "ver_s_dir              0\n",
      "dtype: int64, (533, 29), None\n"
     ]
    }
   ],
   "source": [
    "print(df.isna().sum(), df.shape, df.info(), sep=', ', end='\\n')"
   ]
  },
  {
   "cell_type": "code",
   "execution_count": 583,
   "metadata": {},
   "outputs": [
    {
     "name": "stdout",
     "output_type": "stream",
     "text": [
      "<class 'pandas.core.frame.DataFrame'>\n",
      "RangeIndex: 533 entries, 0 to 532\n",
      "Data columns (total 25 columns):\n",
      " #   Column             Non-Null Count  Dtype  \n",
      "---  ------             --------------  -----  \n",
      " 0   volume             533 non-null    float64\n",
      " 1   area               533 non-null    float64\n",
      " 2   chemical_formula   533 non-null    object \n",
      " 3   crystal_structure  533 non-null    int64  \n",
      " 4   z                  509 non-null    float64\n",
      " 5   id                 533 non-null    int64  \n",
      " 6   space_group_shell  533 non-null    int64  \n",
      " 7   formula_combined   533 non-null    object \n",
      " 8   coer_oe            533 non-null    float64\n",
      " 9   exc_bias_oe        533 non-null    float64\n",
      " 10  fc_field_t         533 non-null    float64\n",
      " 11  h_range_max_koe    533 non-null    float64\n",
      " 12  y                  533 non-null    float64\n",
      " 13  mr (emu/g)         533 non-null    float64\n",
      " 14  sat_em_g           533 non-null    float64\n",
      " 15  shape              533 non-null    float64\n",
      " 16  space_group_core   533 non-null    float64\n",
      " 17  temperature_k      533 non-null    float64\n",
      " 18  ver_shift_emu_g    533 non-null    float64\n",
      " 19  x                  533 non-null    float64\n",
      " 20  mass_ratio         533 non-null    int64  \n",
      " 21  sphericity         533 non-null    float64\n",
      " 22  max/min            533 non-null    int64  \n",
      " 23  exc_dir            533 non-null    int64  \n",
      " 24  ver_s_dir          533 non-null    int64  \n",
      "dtypes: float64(16), int64(7), object(2)\n",
      "memory usage: 104.2+ KB\n",
      "None\n"
     ]
    }
   ],
   "source": [
    "df = df.drop(columns=['Unnamed: 0', 'c1', 'c2', 'c3']) # Колонку structure - нужно будет как-то закодировать \n",
    "print(df.info())"
   ]
  },
  {
   "cell_type": "markdown",
   "metadata": {},
   "source": [
    "Столбец structure имеет в себе формулы с структурой формулы ядро/оболочка, поэтому она для модели не будет иметьсмысла, но для интерпритации важна, поэтому совместим её знчаения с колонкой id, которая тоже не несёт никакого знания о наносатицах напрямую. Создадим словарь, где каждый id - structure"
   ]
  },
  {
   "cell_type": "code",
   "execution_count": 584,
   "metadata": {},
   "outputs": [
    {
     "name": "stdout",
     "output_type": "stream",
     "text": [
      "533\n"
     ]
    }
   ],
   "source": [
    "print(len(df['id'].unique())) # Эта колнка состоит только из уникальных значений"
   ]
  },
  {
   "cell_type": "code",
   "execution_count": 585,
   "metadata": {},
   "outputs": [],
   "source": [
    "dict_structure = {} # Словарь для кодирования\n",
    "# Проходимся по каждой строке DataFrame и добавляем в словарь пару id-structure\n",
    "for idx, row in df.iterrows():\n",
    "    dict_structure[row['id']] = row['chemical_formula']\n",
    "# Пример значения id, для которого мы хотим декодировать structure\n",
    "id_value = 123"
   ]
  },
  {
   "cell_type": "code",
   "execution_count": 586,
   "metadata": {},
   "outputs": [],
   "source": [
    "# Сохраняем словарь в файл с помощью pickle(пакет помогает сохранять данные и загружать обратно)\n",
    "with open('dict_structure.pkl', 'wb') as f:\n",
    "    pickle.dump(dict_structure, f)"
   ]
  },
  {
   "cell_type": "code",
   "execution_count": 587,
   "metadata": {},
   "outputs": [
    {
     "name": "stdout",
     "output_type": "stream",
     "text": [
      "['FeO', 'Fe3O4']\n"
     ]
    }
   ],
   "source": [
    "# Проверка\n",
    "decoded_structure = dict_structure[id_value]\n",
    "print(decoded_structure)"
   ]
  },
  {
   "cell_type": "code",
   "execution_count": 588,
   "metadata": {},
   "outputs": [],
   "source": [
    "#del df['structure']\n",
    "del df['chemical_formula']"
   ]
  },
  {
   "cell_type": "code",
   "execution_count": 589,
   "metadata": {},
   "outputs": [
    {
     "name": "stdout",
     "output_type": "stream",
     "text": [
      "0      16\n",
      "1       0\n",
      "2       3\n",
      "3       3\n",
      "4       3\n",
      "       ..\n",
      "528    20\n",
      "529    20\n",
      "530    20\n",
      "531    20\n",
      "532    20\n",
      "Name: crystal_structure, Length: 533, dtype: int64\n"
     ]
    }
   ],
   "source": [
    "print(df['crystal_structure'])"
   ]
  },
  {
   "cell_type": "code",
   "execution_count": 590,
   "metadata": {},
   "outputs": [
    {
     "name": "stdout",
     "output_type": "stream",
     "text": [
      "[16  0  3 19  7 24 13 21  9  2 25 22  1 10  5 23 14 15 12  4 11 20  6 18\n",
      " 17  8]\n"
     ]
    }
   ],
   "source": [
    "print(df['crystal_structure'].unique()) # Разделиим и стандартизируемм значения, а потом перведём их в цифры и снова склеим"
   ]
  },
  {
   "cell_type": "code",
   "execution_count": 591,
   "metadata": {},
   "outputs": [],
   "source": [
    "dict_crystal_str = {\n",
    "    'triclinic': 1, 'monoclinic': 2, 'orthorhombic': 3,\n",
    "    'tetragonal': 4, 'trigonal': 5, 'hexagonal': 6,\n",
    "    'cubic': 7, 'cube': 7\n",
    "}"
   ]
  },
  {
   "cell_type": "code",
   "execution_count": 592,
   "metadata": {},
   "outputs": [],
   "source": [
    "# Функция для кодирования списка значений в соответствии с словарем\n",
    "def encode_crystal_list(crystal_list):\n",
    "    return [dict_crystal_str[crystal] for crystal in crystal_list]"
   ]
  },
  {
   "cell_type": "code",
   "execution_count": 593,
   "metadata": {},
   "outputs": [],
   "source": [
    "df = df.drop(columns=['crystal_structure', 'formula_combined', 'mass_ratio']) # object"
   ]
  },
  {
   "cell_type": "code",
   "execution_count": 594,
   "metadata": {},
   "outputs": [
    {
     "name": "stdout",
     "output_type": "stream",
     "text": [
      "<class 'pandas.core.frame.DataFrame'>\n",
      "RangeIndex: 533 entries, 0 to 532\n",
      "Data columns (total 21 columns):\n",
      " #   Column             Non-Null Count  Dtype  \n",
      "---  ------             --------------  -----  \n",
      " 0   volume             533 non-null    float64\n",
      " 1   area               533 non-null    float64\n",
      " 2   z                  509 non-null    float64\n",
      " 3   id                 533 non-null    int64  \n",
      " 4   space_group_shell  533 non-null    int64  \n",
      " 5   coer_oe            533 non-null    float64\n",
      " 6   exc_bias_oe        533 non-null    float64\n",
      " 7   fc_field_t         533 non-null    float64\n",
      " 8   h_range_max_koe    533 non-null    float64\n",
      " 9   y                  533 non-null    float64\n",
      " 10  mr (emu/g)         533 non-null    float64\n",
      " 11  sat_em_g           533 non-null    float64\n",
      " 12  shape              533 non-null    float64\n",
      " 13  space_group_core   533 non-null    float64\n",
      " 14  temperature_k      533 non-null    float64\n",
      " 15  ver_shift_emu_g    533 non-null    float64\n",
      " 16  x                  533 non-null    float64\n",
      " 17  sphericity         533 non-null    float64\n",
      " 18  max/min            533 non-null    int64  \n",
      " 19  exc_dir            533 non-null    int64  \n",
      " 20  ver_s_dir          533 non-null    int64  \n",
      "dtypes: float64(16), int64(5)\n",
      "memory usage: 87.6 KB\n",
      "None\n"
     ]
    }
   ],
   "source": [
    "print(df.info())"
   ]
  },
  {
   "cell_type": "code",
   "execution_count": 595,
   "metadata": {},
   "outputs": [
    {
     "data": {
      "image/png": "[encoded data removed]",
      "text/plain": [
       "<Figure size 1000x800 with 2 Axes>"
      ]
     },
     "metadata": {},
     "output_type": "display_data"
    }
   ],
   "source": [
    "correlation_matrix = df.corr()\n",
    "plt.figure(figsize=(10, 8))\n",
    "sns.heatmap(correlation_matrix, annot=True, cmap='coolwarm', fmt=\".2f\", linewidths=0.7)\n",
    "plt.title('Корреляционная матрица признаков')\n",
    "plt.xlabel('Признаки')\n",
    "plt.ylabel('Признаки')\n",
    "plt.show()"
   ]
  },
  {
   "cell_type": "code",
   "execution_count": 596,
   "metadata": {},
   "outputs": [],
   "source": [
    "df['area/volume'] = df['area'] / df['volume']"
   ]
  },
  {
   "cell_type": "code",
   "execution_count": 597,
   "metadata": {},
   "outputs": [],
   "source": [
    "df = df.drop(columns=['x', 'y', 'z', 'area', 'volume']) # Корреляции"
   ]
  },
  {
   "cell_type": "code",
   "execution_count": 598,
   "metadata": {},
   "outputs": [
    {
     "data": {
      "image/png": "[encoded data removed]",
      "text/plain": [
       "<Figure size 1000x800 with 2 Axes>"
      ]
     },
     "metadata": {},
     "output_type": "display_data"
    }
   ],
   "source": [
    "correlation_matrix = df.corr()\n",
    "plt.figure(figsize=(10, 8))\n",
    "sns.heatmap(correlation_matrix, annot=True, cmap='coolwarm', fmt=\".2f\", linewidths=0.7)\n",
    "plt.title('Корреляционная матрица признаков')\n",
    "plt.xlabel('Признаки')\n",
    "plt.ylabel('Признаки')\n",
    "plt.show()"
   ]
  },
  {
   "cell_type": "code",
   "execution_count": 599,
   "metadata": {},
   "outputs": [],
   "source": [
    "df.to_csv(r'C:\\Users\\Ксения\\Project\\Magnet_Exchange_bias\\data\\B2.csv')"
   ]
  },
  {
   "cell_type": "code",
   "execution_count": 600,
   "metadata": {},
   "outputs": [],
   "source": [
    "import matplotlib.pyplot as plt\n",
    "import plotly.graph_objects as go\n",
    "from plotly.subplots import make_subplots\n",
    "from IPython.display import display"
   ]
  },
  {
   "cell_type": "code",
   "execution_count": 601,
   "metadata": {},
   "outputs": [
    {
     "data": {
      "application/vnd.plotly.v1+json": {
       "config": {
        "plotlyServerURL": "https://plot.ly"
       },
       "data": [
        {
         "alignmentgroup": "True",
         "bingroup": "x",
         "hovertemplate": "exc_bias_oe=%{x}<br>count=%{y}<extra></extra>",
         "legendgroup": "",
         "marker": {
          "color": "#082040",
          "opacity": 0.7,
          "pattern": {
           "shape": ""
          }
         },
         "name": "",
         "nbinsx": 60,
         "offsetgroup": "",
         "orientation": "v",
         "showlegend": false,
         "type": "histogram",
         "x": [
          1132,
          406,
          51.34000000000003,
          108.17999999999996,
          8.919999999999959,
          14.379999999999995,
          2.830000000000041,
          0,
          255,
          296,
          344,
          635,
          0,
          229,
          350,
          502,
          2157,
          130,
          137.00000000000006,
          38,
          73,
          81,
          109,
          0,
          0,
          0,
          0,
          0,
          0,
          112.78100000000006,
          226.736,
          170,
          169.13099999999997,
          112.77999999999996,
          56.17999999999995,
          90,
          50,
          142.77999999999997,
          137.21000000000004,
          71,
          346.379,
          952.57,
          629.898,
          519.698,
          472.1585,
          278.3,
          185.144,
          108.06499999999994,
          76.83000000000004,
          440,
          551.72,
          551.72,
          96.76699999999994,
          1812,
          7238,
          93.23059999999998,
          82.03059999999994,
          82.03059999999994,
          0,
          2.5,
          0,
          719,
          0,
          2878.5,
          0,
          329,
          0,
          0,
          0,
          0,
          329.43,
          145.17999999999995,
          1600,
          1825,
          1500,
          1650,
          9.409999999999968,
          84.70000000000005,
          71.36000000000001,
          64.76400000000001,
          5,
          49.72500000000002,
          41.96000000000004,
          2.419999999999959,
          2.419999999999959,
          2.419999999999959,
          1.3550000000000182,
          0.6585000000000036,
          0.6589999999999918,
          15,
          52,
          70,
          20,
          1219.58,
          1182,
          342.15,
          0,
          0,
          0,
          0.1000000000000227,
          399.9500000000001,
          49.89999999999998,
          0,
          0,
          0.0499999999999545,
          0.0499999999999545,
          99.95000000000005,
          0.0499999999999545,
          1804,
          781.28,
          1022,
          471,
          2762,
          2250,
          583,
          1190,
          133,
          20,
          1071.526,
          2188,
          1600,
          3500,
          1000,
          22459,
          18003,
          140.00000000000006,
          964.9,
          932,
          865.6,
          122.37400000000002,
          510.4,
          13,
          78,
          650,
          254,
          250,
          2275,
          2120,
          800,
          511.81,
          1972,
          1814.6,
          1350,
          502,
          181,
          79,
          149.24,
          30.66999999999996,
          402.9,
          1877.782,
          1877.782,
          1711.4,
          2800,
          2600,
          0,
          0,
          0,
          3650,
          0,
          0,
          530.6,
          906.4,
          249,
          94,
          1335,
          1318,
          131.00000000000006,
          165.23000000000002,
          1025,
          113.5,
          900,
          2750,
          250,
          984.37,
          677,
          812.5,
          124.13999999999992,
          123.24,
          148.59500000000003,
          183.82,
          210.53,
          147.35999999999996,
          36.60000000000002,
          26.442000000000007,
          21.5,
          1086,
          575,
          273,
          1290,
          3430,
          4020,
          5100,
          3773.58,
          5283,
          5283,
          147.76,
          14.700000000000044,
          177.29700000000005,
          54,
          7.740000000000009,
          65.56000000000006,
          0.0074999999999363,
          0.0074999999999363,
          1.1073000000000093,
          4.870000000000118,
          1.4600000000000364,
          12.299999999999956,
          25,
          2560,
          2120,
          180,
          390,
          190,
          110,
          490,
          3600,
          5,
          5,
          20,
          6,
          0,
          34.375,
          40,
          100,
          0,
          284.89200000000005,
          454.5400000000001,
          0,
          1879,
          631.7,
          456.2,
          47.60000000000002,
          0,
          0,
          2173.9,
          0,
          0,
          0,
          0,
          0,
          0,
          280,
          300,
          300,
          280,
          45,
          48,
          24,
          21,
          10,
          14,
          1.5,
          12,
          3,
          3,
          168,
          520,
          632,
          0,
          0,
          0,
          0,
          0,
          827.586,
          0,
          1355.93,
          0,
          2068.9,
          0,
          0,
          0,
          0,
          2847.4576,
          0,
          0,
          0,
          0,
          0,
          0,
          22.200000000000045,
          24.049999999999955,
          40.779,
          57.39999999999998,
          40.75999999999999,
          0.169999999999959,
          5.2999999999999545,
          1.0220000000000482,
          22,
          45,
          43,
          62,
          250,
          310,
          570,
          173.89999999999998,
          902,
          173.89999999999998,
          902,
          10.860000000000014,
          254.052,
          21.840000000000032,
          0.8500000000000227,
          0,
          86,
          10.799999999999956,
          10.700000000000044,
          32.33000000000004,
          6.091599999999971,
          1.5744000000000824,
          70.34199999999998,
          85.63,
          77.74000000000001,
          112.875,
          22.575000000000045,
          0,
          30,
          130,
          848,
          800,
          784,
          720,
          640,
          640,
          480,
          473,
          601.796,
          433.7,
          683.824,
          234.671,
          91.66499999999996,
          56,
          60.14599999999996,
          180.44600000000003,
          533.957,
          578.9,
          81.11000000000001,
          79.29200000000003,
          113.716,
          871.02,
          1480.01,
          159.24,
          473.62,
          50,
          50,
          50,
          50,
          50,
          50,
          0,
          0,
          0,
          0,
          0,
          0,
          0,
          0,
          204,
          254,
          329.43,
          145.17999999999995,
          135,
          161,
          143.00000000000006,
          0,
          0,
          0,
          182,
          126,
          374,
          685,
          182,
          94,
          314,
          685,
          1304.348,
          1195.65,
          763,
          506,
          379,
          340.5,
          178.86900000000003,
          124.743,
          179.2,
          18,
          108.70600000000002,
          35.36850000000004,
          0,
          0,
          14,
          1217,
          4408,
          6350,
          0,
          0,
          0,
          0,
          909,
          726.9999999999999,
          2083,
          5121.9692,
          10414,
          8514.585999999998,
          6372.383,
          5325.26,
          0,
          0,
          0,
          0,
          0,
          0,
          0,
          0,
          0,
          0,
          0,
          0,
          0,
          0,
          104,
          183,
          612,
          758,
          584,
          50,
          101.54999999999995,
          127.29500000000009,
          101.64999999999998,
          76.25,
          101,
          76.89999999999998,
          50.84500000000003,
          25.559000000000083,
          0.1990000000000691,
          2755.17,
          918.639,
          407.967,
          178.57100000000003,
          25.200000000000045,
          76.54999999999995,
          25.46000000000004,
          76.5,
          25.55899999999997,
          1253.696,
          1478.24,
          223.87,
          13.28200000000004,
          90,
          50,
          2000,
          833,
          961.2,
          280.8268,
          830,
          1020,
          1030,
          1110,
          1110,
          0,
          0,
          0,
          0,
          769,
          280,
          147,
          0,
          0,
          0,
          1115.5800000000002,
          188.886,
          300.678,
          110.77999999999996,
          305.046,
          101.80899999999995,
          1756.75,
          803.95,
          211.80650000000003,
          126.63000000000004,
          128.52800000000002,
          43.5,
          0,
          0,
          0,
          50.68500000000006,
          253.3855,
          141.7719999999999,
          175.635,
          148.635,
          162.11950000000002,
          5753.62,
          8310.58,
          9418.761,
          9573.644,
          8410.919999999998,
          1369.513,
          57.07000000000005,
          0,
          1375,
          1125,
          1125,
          1175,
          1000,
          1050,
          393.25,
          213,
          5653,
          518,
          2920,
          1580,
          990,
          153.48000000000002,
          75.87300000000005,
          0,
          76.88999999999999,
          487.043,
          1662.94,
          1220.4,
          1116.5300000000002,
          1029.63,
          1002.68,
          960.57,
          949.12,
          1895,
          1907.9,
          730,
          75,
          820,
          900,
          656.76,
          842.644,
          1030,
          1144.5,
          1452.6,
          1976.41
         ],
         "xaxis": "x",
         "yaxis": "y"
        },
        {
         "alignmentgroup": "True",
         "box": {
          "visible": true
         },
         "hovertemplate": "exc_bias_oe=%{y}<extra></extra>",
         "legendgroup": "",
         "marker": {
          "color": "#082040"
         },
         "name": "",
         "offsetgroup": "",
         "orientation": "v",
         "scalegroup": "True",
         "showlegend": false,
         "type": "violin",
         "x0": " ",
         "xaxis": "x2",
         "y": [
          1132,
          406,
          51.34000000000003,
          108.17999999999996,
          8.919999999999959,
          14.379999999999995,
          2.830000000000041,
          0,
          255,
          296,
          344,
          635,
          0,
          229,
          350,
          502,
          2157,
          130,
          137.00000000000006,
          38,
          73,
          81,
          109,
          0,
          0,
          0,
          0,
          0,
          0,
          112.78100000000006,
          226.736,
          170,
          169.13099999999997,
          112.77999999999996,
          56.17999999999995,
          90,
          50,
          142.77999999999997,
          137.21000000000004,
          71,
          346.379,
          952.57,
          629.898,
          519.698,
          472.1585,
          278.3,
          185.144,
          108.06499999999994,
          76.83000000000004,
          440,
          551.72,
          551.72,
          96.76699999999994,
          1812,
          7238,
          93.23059999999998,
          82.03059999999994,
          82.03059999999994,
          0,
          2.5,
          0,
          719,
          0,
          2878.5,
          0,
          329,
          0,
          0,
          0,
          0,
          329.43,
          145.17999999999995,
          1600,
          1825,
          1500,
          1650,
          9.409999999999968,
          84.70000000000005,
          71.36000000000001,
          64.76400000000001,
          5,
          49.72500000000002,
          41.96000000000004,
          2.419999999999959,
          2.419999999999959,
          2.419999999999959,
          1.3550000000000182,
          0.6585000000000036,
          0.6589999999999918,
          15,
          52,
          70,
          20,
          1219.58,
          1182,
          342.15,
          0,
          0,
          0,
          0.1000000000000227,
          399.9500000000001,
          49.89999999999998,
          0,
          0,
          0.0499999999999545,
          0.0499999999999545,
          99.95000000000005,
          0.0499999999999545,
          1804,
          781.28,
          1022,
          471,
          2762,
          2250,
          583,
          1190,
          133,
          20,
          1071.526,
          2188,
          1600,
          3500,
          1000,
          22459,
          18003,
          140.00000000000006,
          964.9,
          932,
          865.6,
          122.37400000000002,
          510.4,
          13,
          78,
          650,
          254,
          250,
          2275,
          2120,
          800,
          511.81,
          1972,
          1814.6,
          1350,
          502,
          181,
          79,
          149.24,
          30.66999999999996,
          402.9,
          1877.782,
          1877.782,
          1711.4,
          2800,
          2600,
          0,
          0,
          0,
          3650,
          0,
          0,
          530.6,
          906.4,
          249,
          94,
          1335,
          1318,
          131.00000000000006,
          165.23000000000002,
          1025,
          113.5,
          900,
          2750,
          250,
          984.37,
          677,
          812.5,
          124.13999999999992,
          123.24,
          148.59500000000003,
          183.82,
          210.53,
          147.35999999999996,
          36.60000000000002,
          26.442000000000007,
          21.5,
          1086,
          575,
          273,
          1290,
          3430,
          4020,
          5100,
          3773.58,
          5283,
          5283,
          147.76,
          14.700000000000044,
          177.29700000000005,
          54,
          7.740000000000009,
          65.56000000000006,
          0.0074999999999363,
          0.0074999999999363,
          1.1073000000000093,
          4.870000000000118,
          1.4600000000000364,
          12.299999999999956,
          25,
          2560,
          2120,
          180,
          390,
          190,
          110,
          490,
          3600,
          5,
          5,
          20,
          6,
          0,
          34.375,
          40,
          100,
          0,
          284.89200000000005,
          454.5400000000001,
          0,
          1879,
          631.7,
          456.2,
          47.60000000000002,
          0,
          0,
          2173.9,
          0,
          0,
          0,
          0,
          0,
          0,
          280,
          300,
          300,
          280,
          45,
          48,
          24,
          21,
          10,
          14,
          1.5,
          12,
          3,
          3,
          168,
          520,
          632,
          0,
          0,
          0,
          0,
          0,
          827.586,
          0,
          1355.93,
          0,
          2068.9,
          0,
          0,
          0,
          0,
          2847.4576,
          0,
          0,
          0,
          0,
          0,
          0,
          22.200000000000045,
          24.049999999999955,
          40.779,
          57.39999999999998,
          40.75999999999999,
          0.169999999999959,
          5.2999999999999545,
          1.0220000000000482,
          22,
          45,
          43,
          62,
          250,
          310,
          570,
          173.89999999999998,
          902,
          173.89999999999998,
          902,
          10.860000000000014,
          254.052,
          21.840000000000032,
          0.8500000000000227,
          0,
          86,
          10.799999999999956,
          10.700000000000044,
          32.33000000000004,
          6.091599999999971,
          1.5744000000000824,
          70.34199999999998,
          85.63,
          77.74000000000001,
          112.875,
          22.575000000000045,
          0,
          30,
          130,
          848,
          800,
          784,
          720,
          640,
          640,
          480,
          473,
          601.796,
          433.7,
          683.824,
          234.671,
          91.66499999999996,
          56,
          60.14599999999996,
          180.44600000000003,
          533.957,
          578.9,
          81.11000000000001,
          79.29200000000003,
          113.716,
          871.02,
          1480.01,
          159.24,
          473.62,
          50,
          50,
          50,
          50,
          50,
          50,
          0,
          0,
          0,
          0,
          0,
          0,
          0,
          0,
          204,
          254,
          329.43,
          145.17999999999995,
          135,
          161,
          143.00000000000006,
          0,
          0,
          0,
          182,
          126,
          374,
          685,
          182,
          94,
          314,
          685,
          1304.348,
          1195.65,
          763,
          506,
          379,
          340.5,
          178.86900000000003,
          124.743,
          179.2,
          18,
          108.70600000000002,
          35.36850000000004,
          0,
          0,
          14,
          1217,
          4408,
          6350,
          0,
          0,
          0,
          0,
          909,
          726.9999999999999,
          2083,
          5121.9692,
          10414,
          8514.585999999998,
          6372.383,
          5325.26,
          0,
          0,
          0,
          0,
          0,
          0,
          0,
          0,
          0,
          0,
          0,
          0,
          0,
          0,
          104,
          183,
          612,
          758,
          584,
          50,
          101.54999999999995,
          127.29500000000009,
          101.64999999999998,
          76.25,
          101,
          76.89999999999998,
          50.84500000000003,
          25.559000000000083,
          0.1990000000000691,
          2755.17,
          918.639,
          407.967,
          178.57100000000003,
          25.200000000000045,
          76.54999999999995,
          25.46000000000004,
          76.5,
          25.55899999999997,
          1253.696,
          1478.24,
          223.87,
          13.28200000000004,
          90,
          50,
          2000,
          833,
          961.2,
          280.8268,
          830,
          1020,
          1030,
          1110,
          1110,
          0,
          0,
          0,
          0,
          769,
          280,
          147,
          0,
          0,
          0,
          1115.5800000000002,
          188.886,
          300.678,
          110.77999999999996,
          305.046,
          101.80899999999995,
          1756.75,
          803.95,
          211.80650000000003,
          126.63000000000004,
          128.52800000000002,
          43.5,
          0,
          0,
          0,
          50.68500000000006,
          253.3855,
          141.7719999999999,
          175.635,
          148.635,
          162.11950000000002,
          5753.62,
          8310.58,
          9418.761,
          9573.644,
          8410.919999999998,
          1369.513,
          57.07000000000005,
          0,
          1375,
          1125,
          1125,
          1175,
          1000,
          1050,
          393.25,
          213,
          5653,
          518,
          2920,
          1580,
          990,
          153.48000000000002,
          75.87300000000005,
          0,
          76.88999999999999,
          487.043,
          1662.94,
          1220.4,
          1116.5300000000002,
          1029.63,
          1002.68,
          960.57,
          949.12,
          1895,
          1907.9,
          730,
          75,
          820,
          900,
          656.76,
          842.644,
          1030,
          1144.5,
          1452.6,
          1976.41
         ],
         "y0": " ",
         "yaxis": "y2"
        }
       ],
       "layout": {
        "annotations": [
         {
          "font": {
           "size": 16
          },
          "showarrow": false,
          "text": "Histogram for exchange bias",
          "x": 0.225,
          "xanchor": "center",
          "xref": "paper",
          "y": 1,
          "yanchor": "bottom",
          "yref": "paper"
         },
         {
          "font": {
           "size": 16
          },
          "showarrow": false,
          "text": "Violin Plot for exchange bias",
          "x": 0.775,
          "xanchor": "center",
          "xref": "paper",
          "y": 1,
          "yanchor": "bottom",
          "yref": "paper"
         }
        ],
        "showlegend": false,
        "template": {
         "data": {
          "bar": [
           {
            "error_x": {
             "color": "#2a3f5f"
            },
            "error_y": {
             "color": "#2a3f5f"
            },
            "marker": {
             "line": {
              "color": "#E5ECF6",
              "width": 0.5
             },
             "pattern": {
              "fillmode": "overlay",
              "size": 10,
              "solidity": 0.2
             }
            },
            "type": "bar"
           }
          ],
          "barpolar": [
           {
            "marker": {
             "line": {
              "color": "#E5ECF6",
              "width": 0.5
             },
             "pattern": {
              "fillmode": "overlay",
              "size": 10,
              "solidity": 0.2
             }
            },
            "type": "barpolar"
           }
          ],
          "carpet": [
           {
            "aaxis": {
             "endlinecolor": "#2a3f5f",
             "gridcolor": "white",
             "linecolor": "white",
             "minorgridcolor": "white",
             "startlinecolor": "#2a3f5f"
            },
            "baxis": {
             "endlinecolor": "#2a3f5f",
             "gridcolor": "white",
             "linecolor": "white",
             "minorgridcolor": "white",
             "startlinecolor": "#2a3f5f"
            },
            "type": "carpet"
           }
          ],
          "choropleth": [
           {
            "colorbar": {
             "outlinewidth": 0,
             "ticks": ""
            },
            "type": "choropleth"
           }
          ],
          "contour": [
           {
            "colorbar": {
             "outlinewidth": 0,
             "ticks": ""
            },
            "colorscale": [
             [
              0,
              "#0d0887"
             ],
             [
              0.1111111111111111,
              "#46039f"
             ],
             [
              0.2222222222222222,
              "#7201a8"
             ],
             [
              0.3333333333333333,
              "#9c179e"
             ],
             [
              0.4444444444444444,
              "#bd3786"
             ],
             [
              0.5555555555555556,
              "#d8576b"
             ],
             [
              0.6666666666666666,
              "#ed7953"
             ],
             [
              0.7777777777777778,
              "#fb9f3a"
             ],
             [
              0.8888888888888888,
              "#fdca26"
             ],
             [
              1,
              "#f0f921"
             ]
            ],
            "type": "contour"
           }
          ],
          "contourcarpet": [
           {
            "colorbar": {
             "outlinewidth": 0,
             "ticks": ""
            },
            "type": "contourcarpet"
           }
          ],
          "heatmap": [
           {
            "colorbar": {
             "outlinewidth": 0,
             "ticks": ""
            },
            "colorscale": [
             [
              0,
              "#0d0887"
             ],
             [
              0.1111111111111111,
              "#46039f"
             ],
             [
              0.2222222222222222,
              "#7201a8"
             ],
             [
              0.3333333333333333,
              "#9c179e"
             ],
             [
              0.4444444444444444,
              "#bd3786"
             ],
             [
              0.5555555555555556,
              "#d8576b"
             ],
             [
              0.6666666666666666,
              "#ed7953"
             ],
             [
              0.7777777777777778,
              "#fb9f3a"
             ],
             [
              0.8888888888888888,
              "#fdca26"
             ],
             [
              1,
              "#f0f921"
             ]
            ],
            "type": "heatmap"
           }
          ],
          "heatmapgl": [
           {
            "colorbar": {
             "outlinewidth": 0,
             "ticks": ""
            },
            "colorscale": [
             [
              0,
              "#0d0887"
             ],
             [
              0.1111111111111111,
              "#46039f"
             ],
             [
              0.2222222222222222,
              "#7201a8"
             ],
             [
              0.3333333333333333,
              "#9c179e"
             ],
             [
              0.4444444444444444,
              "#bd3786"
             ],
             [
              0.5555555555555556,
              "#d8576b"
             ],
             [
              0.6666666666666666,
              "#ed7953"
             ],
             [
              0.7777777777777778,
              "#fb9f3a"
             ],
             [
              0.8888888888888888,
              "#fdca26"
             ],
             [
              1,
              "#f0f921"
             ]
            ],
            "type": "heatmapgl"
           }
          ],
          "histogram": [
           {
            "marker": {
             "pattern": {
              "fillmode": "overlay",
              "size": 10,
              "solidity": 0.2
             }
            },
            "type": "histogram"
           }
          ],
          "histogram2d": [
           {
            "colorbar": {
             "outlinewidth": 0,
             "ticks": ""
            },
            "colorscale": [
             [
              0,
              "#0d0887"
             ],
             [
              0.1111111111111111,
              "#46039f"
             ],
             [
              0.2222222222222222,
              "#7201a8"
             ],
             [
              0.3333333333333333,
              "#9c179e"
             ],
             [
              0.4444444444444444,
              "#bd3786"
             ],
             [
              0.5555555555555556,
              "#d8576b"
             ],
             [
              0.6666666666666666,
              "#ed7953"
             ],
             [
              0.7777777777777778,
              "#fb9f3a"
             ],
             [
              0.8888888888888888,
              "#fdca26"
             ],
             [
              1,
              "#f0f921"
             ]
            ],
            "type": "histogram2d"
           }
          ],
          "histogram2dcontour": [
           {
            "colorbar": {
             "outlinewidth": 0,
             "ticks": ""
            },
            "colorscale": [
             [
              0,
              "#0d0887"
             ],
             [
              0.1111111111111111,
              "#46039f"
             ],
             [
              0.2222222222222222,
              "#7201a8"
             ],
             [
              0.3333333333333333,
              "#9c179e"
             ],
             [
              0.4444444444444444,
              "#bd3786"
             ],
             [
              0.5555555555555556,
              "#d8576b"
             ],
             [
              0.6666666666666666,
              "#ed7953"
             ],
             [
              0.7777777777777778,
              "#fb9f3a"
             ],
             [
              0.8888888888888888,
              "#fdca26"
             ],
             [
              1,
              "#f0f921"
             ]
            ],
            "type": "histogram2dcontour"
           }
          ],
          "mesh3d": [
           {
            "colorbar": {
             "outlinewidth": 0,
             "ticks": ""
            },
            "type": "mesh3d"
           }
          ],
          "parcoords": [
           {
            "line": {
             "colorbar": {
              "outlinewidth": 0,
              "ticks": ""
             }
            },
            "type": "parcoords"
           }
          ],
          "pie": [
           {
            "automargin": true,
            "type": "pie"
           }
          ],
          "scatter": [
           {
            "fillpattern": {
             "fillmode": "overlay",
             "size": 10,
             "solidity": 0.2
            },
            "type": "scatter"
           }
          ],
          "scatter3d": [
           {
            "line": {
             "colorbar": {
              "outlinewidth": 0,
              "ticks": ""
             }
            },
            "marker": {
             "colorbar": {
              "outlinewidth": 0,
              "ticks": ""
             }
            },
            "type": "scatter3d"
           }
          ],
          "scattercarpet": [
           {
            "marker": {
             "colorbar": {
              "outlinewidth": 0,
              "ticks": ""
             }
            },
            "type": "scattercarpet"
           }
          ],
          "scattergeo": [
           {
            "marker": {
             "colorbar": {
              "outlinewidth": 0,
              "ticks": ""
             }
            },
            "type": "scattergeo"
           }
          ],
          "scattergl": [
           {
            "marker": {
             "colorbar": {
              "outlinewidth": 0,
              "ticks": ""
             }
            },
            "type": "scattergl"
           }
          ],
          "scattermapbox": [
           {
            "marker": {
             "colorbar": {
              "outlinewidth": 0,
              "ticks": ""
             }
            },
            "type": "scattermapbox"
           }
          ],
          "scatterpolar": [
           {
            "marker": {
             "colorbar": {
              "outlinewidth": 0,
              "ticks": ""
             }
            },
            "type": "scatterpolar"
           }
          ],
          "scatterpolargl": [
           {
            "marker": {
             "colorbar": {
              "outlinewidth": 0,
              "ticks": ""
             }
            },
            "type": "scatterpolargl"
           }
          ],
          "scatterternary": [
           {
            "marker": {
             "colorbar": {
              "outlinewidth": 0,
              "ticks": ""
             }
            },
            "type": "scatterternary"
           }
          ],
          "surface": [
           {
            "colorbar": {
             "outlinewidth": 0,
             "ticks": ""
            },
            "colorscale": [
             [
              0,
              "#0d0887"
             ],
             [
              0.1111111111111111,
              "#46039f"
             ],
             [
              0.2222222222222222,
              "#7201a8"
             ],
             [
              0.3333333333333333,
              "#9c179e"
             ],
             [
              0.4444444444444444,
              "#bd3786"
             ],
             [
              0.5555555555555556,
              "#d8576b"
             ],
             [
              0.6666666666666666,
              "#ed7953"
             ],
             [
              0.7777777777777778,
              "#fb9f3a"
             ],
             [
              0.8888888888888888,
              "#fdca26"
             ],
             [
              1,
              "#f0f921"
             ]
            ],
            "type": "surface"
           }
          ],
          "table": [
           {
            "cells": {
             "fill": {
              "color": "#EBF0F8"
             },
             "line": {
              "color": "white"
             }
            },
            "header": {
             "fill": {
              "color": "#C8D4E3"
             },
             "line": {
              "color": "white"
             }
            },
            "type": "table"
           }
          ]
         },
         "layout": {
          "annotationdefaults": {
           "arrowcolor": "#2a3f5f",
           "arrowhead": 0,
           "arrowwidth": 1
          },
          "autotypenumbers": "strict",
          "coloraxis": {
           "colorbar": {
            "outlinewidth": 0,
            "ticks": ""
           }
          },
          "colorscale": {
           "diverging": [
            [
             0,
             "#8e0152"
            ],
            [
             0.1,
             "#c51b7d"
            ],
            [
             0.2,
             "#de77ae"
            ],
            [
             0.3,
             "#f1b6da"
            ],
            [
             0.4,
             "#fde0ef"
            ],
            [
             0.5,
             "#f7f7f7"
            ],
            [
             0.6,
             "#e6f5d0"
            ],
            [
             0.7,
             "#b8e186"
            ],
            [
             0.8,
             "#7fbc41"
            ],
            [
             0.9,
             "#4d9221"
            ],
            [
             1,
             "#276419"
            ]
           ],
           "sequential": [
            [
             0,
             "#0d0887"
            ],
            [
             0.1111111111111111,
             "#46039f"
            ],
            [
             0.2222222222222222,
             "#7201a8"
            ],
            [
             0.3333333333333333,
             "#9c179e"
            ],
            [
             0.4444444444444444,
             "#bd3786"
            ],
            [
             0.5555555555555556,
             "#d8576b"
            ],
            [
             0.6666666666666666,
             "#ed7953"
            ],
            [
             0.7777777777777778,
             "#fb9f3a"
            ],
            [
             0.8888888888888888,
             "#fdca26"
            ],
            [
             1,
             "#f0f921"
            ]
           ],
           "sequentialminus": [
            [
             0,
             "#0d0887"
            ],
            [
             0.1111111111111111,
             "#46039f"
            ],
            [
             0.2222222222222222,
             "#7201a8"
            ],
            [
             0.3333333333333333,
             "#9c179e"
            ],
            [
             0.4444444444444444,
             "#bd3786"
            ],
            [
             0.5555555555555556,
             "#d8576b"
            ],
            [
             0.6666666666666666,
             "#ed7953"
            ],
            [
             0.7777777777777778,
             "#fb9f3a"
            ],
            [
             0.8888888888888888,
             "#fdca26"
            ],
            [
             1,
             "#f0f921"
            ]
           ]
          },
          "colorway": [
           "#636efa",
           "#EF553B",
           "#00cc96",
           "#ab63fa",
           "#FFA15A",
           "#19d3f3",
           "#FF6692",
           "#B6E880",
           "#FF97FF",
           "#FECB52"
          ],
          "font": {
           "color": "#2a3f5f"
          },
          "geo": {
           "bgcolor": "white",
           "lakecolor": "white",
           "landcolor": "#E5ECF6",
           "showlakes": true,
           "showland": true,
           "subunitcolor": "white"
          },
          "hoverlabel": {
           "align": "left"
          },
          "hovermode": "closest",
          "mapbox": {
           "style": "light"
          },
          "paper_bgcolor": "white",
          "plot_bgcolor": "#E5ECF6",
          "polar": {
           "angularaxis": {
            "gridcolor": "white",
            "linecolor": "white",
            "ticks": ""
           },
           "bgcolor": "#E5ECF6",
           "radialaxis": {
            "gridcolor": "white",
            "linecolor": "white",
            "ticks": ""
           }
          },
          "scene": {
           "xaxis": {
            "backgroundcolor": "#E5ECF6",
            "gridcolor": "white",
            "gridwidth": 2,
            "linecolor": "white",
            "showbackground": true,
            "ticks": "",
            "zerolinecolor": "white"
           },
           "yaxis": {
            "backgroundcolor": "#E5ECF6",
            "gridcolor": "white",
            "gridwidth": 2,
            "linecolor": "white",
            "showbackground": true,
            "ticks": "",
            "zerolinecolor": "white"
           },
           "zaxis": {
            "backgroundcolor": "#E5ECF6",
            "gridcolor": "white",
            "gridwidth": 2,
            "linecolor": "white",
            "showbackground": true,
            "ticks": "",
            "zerolinecolor": "white"
           }
          },
          "shapedefaults": {
           "line": {
            "color": "#2a3f5f"
           }
          },
          "ternary": {
           "aaxis": {
            "gridcolor": "white",
            "linecolor": "white",
            "ticks": ""
           },
           "baxis": {
            "gridcolor": "white",
            "linecolor": "white",
            "ticks": ""
           },
           "bgcolor": "#E5ECF6",
           "caxis": {
            "gridcolor": "white",
            "linecolor": "white",
            "ticks": ""
           }
          },
          "title": {
           "x": 0.05
          },
          "xaxis": {
           "automargin": true,
           "gridcolor": "white",
           "linecolor": "white",
           "ticks": "",
           "title": {
            "standoff": 15
           },
           "zerolinecolor": "white",
           "zerolinewidth": 2
          },
          "yaxis": {
           "automargin": true,
           "gridcolor": "white",
           "linecolor": "white",
           "ticks": "",
           "title": {
            "standoff": 15
           },
           "zerolinecolor": "white",
           "zerolinewidth": 2
          }
         }
        },
        "title": {
         "text": "Pic for exchange bias"
        },
        "xaxis": {
         "anchor": "y",
         "domain": [
          0,
          0.45
         ]
        },
        "xaxis2": {
         "anchor": "y2",
         "domain": [
          0.55,
          1
         ]
        },
        "yaxis": {
         "anchor": "x",
         "domain": [
          0,
          1
         ]
        },
        "yaxis2": {
         "anchor": "x2",
         "domain": [
          0,
          1
         ]
        }
       }
      }
     },
     "metadata": {},
     "output_type": "display_data"
    }
   ],
   "source": [
    "#Построим график распределения целевой переменной\n",
    "fig = make_subplots(rows=1, cols=2, subplot_titles=['Histogram for exchange bias', 'Violin Plot for exchange bias'])\n",
    "\n",
    "# Histogram\n",
    "hist_fig = px.histogram(df, x=\"exc_bias_oe\", nbins = 60,\n",
    "                 color_discrete_sequence = colors,\n",
    "                 opacity = 0.7)\n",
    "\n",
    "fig.add_trace(hist_fig['data'][0], row=1, col=1) # Adding a graph indicating the location\n",
    "\n",
    "# Violin plot\n",
    "violin_fig = px.violin(df, y=\"exc_bias_oe\", color_discrete_sequence = colors, box = True)\n",
    "fig.add_trace(violin_fig['data'][0], row=1, col=2) # Adding a graph indicating the location\n",
    "\n",
    "# Setting up the layout\n",
    "fig.update_layout(showlegend=False, title_text=\"Pic for exchange bias\")\n",
    "\n",
    "# Graph display\n",
    "display(fig)"
   ]
  },
  {
   "cell_type": "code",
   "execution_count": 602,
   "metadata": {},
   "outputs": [
    {
     "data": {
      "image/png": "[encoded data removed]",
      "text/plain": [
       "<Figure size 800x600 with 1 Axes>"
      ]
     },
     "metadata": {},
     "output_type": "display_data"
    }
   ],
   "source": [
    "plt.figure(figsize=(8, 6)) # Создание ящика с усами для столбца 'exc_bias_oe'\n",
    "sns.boxplot(x=df['coer_oe'])\n",
    "plt.xlabel('points', fontsize=14) # Добавление названия оси x\n",
    "plt.show()"
   ]
  },
  {
   "cell_type": "code",
   "execution_count": 603,
   "metadata": {},
   "outputs": [
    {
     "name": "stdout",
     "output_type": "stream",
     "text": [
      "Индексы выбросов: [ 16  54  63 112 113 119 121 123 124 136 137 140 152 153 157 171 189 190\n",
      " 191 192 193 194 208 209 215 234 267 272 390 391 398 399 400 401 402 403\n",
      " 433 448 488 489 490 491 492 504 506 521 522 532]\n",
      "Значения выбросов: [2157.0, 7238.0, 2878.5, 2762.0, 2250.0, 2188.0, 3500.0, 22459.0, 18003.0, 2275.0, 2120.0, 1972.0, 2800.0, 2600.0, 3650.0, 2750.0, 3430.0, 4020.0, 5100.0, 3773.58, 5283.0, 5283.0, 2560.0, 2120.0, 3600.0, 2173.9, 2068.9, 2847.4576, 4408.0, 6350.0, 2083.0, 5121.9692, 10414.0, 8514.585999999998, 6372.383, 5325.26, 2755.17, 2000.0, 5753.62, 8310.58, 9418.761, 9573.644, 8410.919999999998, 5653.0, 2920.0, 1895.0, 1907.9, 1976.41]\n"
     ]
    }
   ],
   "source": [
    "#Ещё посмотрим с помощью интерквартального расстояния, так будет понятней, значения за первым и 3 квартилям будут выбросами\n",
    "def detect_outliers_iqr(data, threshold=1.5):\n",
    "    \"\"\"\n",
    "    Detect outliers using the Interquartile Range (IQR) method.\n",
    "\n",
    "    Parameters:\n",
    "        data (array-like): Input data.\n",
    "        threshold (float): Multiplier for the IQR to determine the outlier cutoff.\n",
    "\n",
    "    Returns:\n",
    "        outliers (array-like): Array containing the indices of outlier data points.\n",
    "    \"\"\"\n",
    "    quartile_1, quartile_3 = np.percentile(data, [25, 75])\n",
    "    iqr = quartile_3 - quartile_1\n",
    "    lower_bound = quartile_1 - (threshold * iqr)\n",
    "    upper_bound = quartile_3 + (threshold * iqr)\n",
    "    outliers = np.where((data < lower_bound) | (data > upper_bound))[0]\n",
    "    return outliers\n",
    "\n",
    "# Example usage:\n",
    "outliers = detect_outliers_iqr(df['exc_bias_oe'])\n",
    "print(\"Индексы выбросов:\", outliers)\n",
    "print(\"Значения выбросов:\", [df['exc_bias_oe'][i] for i in outliers])"
   ]
  },
  {
   "cell_type": "code",
   "execution_count": 604,
   "metadata": {},
   "outputs": [
    {
     "data": {
      "application/vnd.plotly.v1+json": {
       "config": {
        "plotlyServerURL": "https://plot.ly"
       },
       "data": [
        {
         "marker": {
          "color": "#3285A6"
         },
         "mode": "markers",
         "name": "Data Points",
         "type": "scatter",
         "x": [
          0,
          1,
          2,
          3,
          4,
          5,
          6,
          7,
          8,
          9,
          10,
          11,
          12,
          13,
          14,
          15,
          16,
          17,
          18,
          19,
          20,
          21,
          22,
          23,
          24,
          25,
          26,
          27,
          28,
          29,
          30,
          31,
          32,
          33,
          34,
          35,
          36,
          37,
          38,
          39,
          40,
          41,
          42,
          43,
          44,
          45,
          46,
          47,
          48,
          49,
          50,
          51,
          52,
          53,
          54,
          55,
          56,
          57,
          58,
          59,
          60,
          61,
          62,
          63,
          64,
          65,
          66,
          67,
          68,
          69,
          70,
          71,
          72,
          73,
          74,
          75,
          76,
          77,
          78,
          79,
          80,
          81,
          82,
          83,
          84,
          85,
          86,
          87,
          88,
          89,
          90,
          91,
          92,
          93,
          94,
          95,
          96,
          97,
          98,
          99,
          100,
          101,
          102,
          103,
          104,
          105,
          106,
          107,
          108,
          109,
          110,
          111,
          112,
          113,
          114,
          115,
          116,
          117,
          118,
          119,
          120,
          121,
          122,
          123,
          124,
          125,
          126,
          127,
          128,
          129,
          130,
          131,
          132,
          133,
          134,
          135,
          136,
          137,
          138,
          139,
          140,
          141,
          142,
          143,
          144,
          145,
          146,
          147,
          148,
          149,
          150,
          151,
          152,
          153,
          154,
          155,
          156,
          157,
          158,
          159,
          160,
          161,
          162,
          163,
          164,
          165,
          166,
          167,
          168,
          169,
          170,
          171,
          172,
          173,
          174,
          175,
          176,
          177,
          178,
          179,
          180,
          181,
          182,
          183,
          184,
          185,
          186,
          187,
          188,
          189,
          190,
          191,
          192,
          193,
          194,
          195,
          196,
          197,
          198,
          199,
          200,
          201,
          202,
          203,
          204,
          205,
          206,
          207,
          208,
          209,
          210,
          211,
          212,
          213,
          214,
          215,
          216,
          217,
          218,
          219,
          220,
          221,
          222,
          223,
          224,
          225,
          226,
          227,
          228,
          229,
          230,
          231,
          232,
          233,
          234,
          235,
          236,
          237,
          238,
          239,
          240,
          241,
          242,
          243,
          244,
          245,
          246,
          247,
          248,
          249,
          250,
          251,
          252,
          253,
          254,
          255,
          256,
          257,
          258,
          259,
          260,
          261,
          262,
          263,
          264,
          265,
          266,
          267,
          268,
          269,
          270,
          271,
          272,
          273,
          274,
          275,
          276,
          277,
          278,
          279,
          280,
          281,
          282,
          283,
          284,
          285,
          286,
          287,
          288,
          289,
          290,
          291,
          292,
          293,
          294,
          295,
          296,
          297,
          298,
          299,
          300,
          301,
          302,
          303,
          304,
          305,
          306,
          307,
          308,
          309,
          310,
          311,
          312,
          313,
          314,
          315,
          316,
          317,
          318,
          319,
          320,
          321,
          322,
          323,
          324,
          325,
          326,
          327,
          328,
          329,
          330,
          331,
          332,
          333,
          334,
          335,
          336,
          337,
          338,
          339,
          340,
          341,
          342,
          343,
          344,
          345,
          346,
          347,
          348,
          349,
          350,
          351,
          352,
          353,
          354,
          355,
          356,
          357,
          358,
          359,
          360,
          361,
          362,
          363,
          364,
          365,
          366,
          367,
          368,
          369,
          370,
          371,
          372,
          373,
          374,
          375,
          376,
          377,
          378,
          379,
          380,
          381,
          382,
          383,
          384,
          385,
          386,
          387,
          388,
          389,
          390,
          391,
          392,
          393,
          394,
          395,
          396,
          397,
          398,
          399,
          400,
          401,
          402,
          403,
          404,
          405,
          406,
          407,
          408,
          409,
          410,
          411,
          412,
          413,
          414,
          415,
          416,
          417,
          418,
          419,
          420,
          421,
          422,
          423,
          424,
          425,
          426,
          427,
          428,
          429,
          430,
          431,
          432,
          433,
          434,
          435,
          436,
          437,
          438,
          439,
          440,
          441,
          442,
          443,
          444,
          445,
          446,
          447,
          448,
          449,
          450,
          451,
          452,
          453,
          454,
          455,
          456,
          457,
          458,
          459,
          460,
          461,
          462,
          463,
          464,
          465,
          466,
          467,
          468,
          469,
          470,
          471,
          472,
          473,
          474,
          475,
          476,
          477,
          478,
          479,
          480,
          481,
          482,
          483,
          484,
          485,
          486,
          487,
          488,
          489,
          490,
          491,
          492,
          493,
          494,
          495,
          496,
          497,
          498,
          499,
          500,
          501,
          502,
          503,
          504,
          505,
          506,
          507,
          508,
          509,
          510,
          511,
          512,
          513,
          514,
          515,
          516,
          517,
          518,
          519,
          520,
          521,
          522,
          523,
          524,
          525,
          526,
          527,
          528,
          529,
          530,
          531,
          532
         ],
         "y": [
          1132,
          406,
          51.34000000000003,
          108.17999999999996,
          8.919999999999959,
          14.379999999999995,
          2.830000000000041,
          0,
          255,
          296,
          344,
          635,
          0,
          229,
          350,
          502,
          2157,
          130,
          137.00000000000006,
          38,
          73,
          81,
          109,
          0,
          0,
          0,
          0,
          0,
          0,
          112.78100000000006,
          226.736,
          170,
          169.13099999999997,
          112.77999999999996,
          56.17999999999995,
          90,
          50,
          142.77999999999997,
          137.21000000000004,
          71,
          346.379,
          952.57,
          629.898,
          519.698,
          472.1585,
          278.3,
          185.144,
          108.06499999999994,
          76.83000000000004,
          440,
          551.72,
          551.72,
          96.76699999999994,
          1812,
          7238,
          93.23059999999998,
          82.03059999999994,
          82.03059999999994,
          0,
          2.5,
          0,
          719,
          0,
          2878.5,
          0,
          329,
          0,
          0,
          0,
          0,
          329.43,
          145.17999999999995,
          1600,
          1825,
          1500,
          1650,
          9.409999999999968,
          84.70000000000005,
          71.36000000000001,
          64.76400000000001,
          5,
          49.72500000000002,
          41.96000000000004,
          2.419999999999959,
          2.419999999999959,
          2.419999999999959,
          1.3550000000000182,
          0.6585000000000036,
          0.6589999999999918,
          15,
          52,
          70,
          20,
          1219.58,
          1182,
          342.15,
          0,
          0,
          0,
          0.1000000000000227,
          399.9500000000001,
          49.89999999999998,
          0,
          0,
          0.0499999999999545,
          0.0499999999999545,
          99.95000000000005,
          0.0499999999999545,
          1804,
          781.28,
          1022,
          471,
          2762,
          2250,
          583,
          1190,
          133,
          20,
          1071.526,
          2188,
          1600,
          3500,
          1000,
          22459,
          18003,
          140.00000000000006,
          964.9,
          932,
          865.6,
          122.37400000000002,
          510.4,
          13,
          78,
          650,
          254,
          250,
          2275,
          2120,
          800,
          511.81,
          1972,
          1814.6,
          1350,
          502,
          181,
          79,
          149.24,
          30.66999999999996,
          402.9,
          1877.782,
          1877.782,
          1711.4,
          2800,
          2600,
          0,
          0,
          0,
          3650,
          0,
          0,
          530.6,
          906.4,
          249,
          94,
          1335,
          1318,
          131.00000000000006,
          165.23000000000002,
          1025,
          113.5,
          900,
          2750,
          250,
          984.37,
          677,
          812.5,
          124.13999999999992,
          123.24,
          148.59500000000003,
          183.82,
          210.53,
          147.35999999999996,
          36.60000000000002,
          26.442000000000007,
          21.5,
          1086,
          575,
          273,
          1290,
          3430,
          4020,
          5100,
          3773.58,
          5283,
          5283,
          147.76,
          14.700000000000044,
          177.29700000000005,
          54,
          7.740000000000009,
          65.56000000000006,
          0.0074999999999363,
          0.0074999999999363,
          1.1073000000000093,
          4.870000000000118,
          1.4600000000000364,
          12.299999999999956,
          25,
          2560,
          2120,
          180,
          390,
          190,
          110,
          490,
          3600,
          5,
          5,
          20,
          6,
          0,
          34.375,
          40,
          100,
          0,
          284.89200000000005,
          454.5400000000001,
          0,
          1879,
          631.7,
          456.2,
          47.60000000000002,
          0,
          0,
          2173.9,
          0,
          0,
          0,
          0,
          0,
          0,
          280,
          300,
          300,
          280,
          45,
          48,
          24,
          21,
          10,
          14,
          1.5,
          12,
          3,
          3,
          168,
          520,
          632,
          0,
          0,
          0,
          0,
          0,
          827.586,
          0,
          1355.93,
          0,
          2068.9,
          0,
          0,
          0,
          0,
          2847.4576,
          0,
          0,
          0,
          0,
          0,
          0,
          22.200000000000045,
          24.049999999999955,
          40.779,
          57.39999999999998,
          40.75999999999999,
          0.169999999999959,
          5.2999999999999545,
          1.0220000000000482,
          22,
          45,
          43,
          62,
          250,
          310,
          570,
          173.89999999999998,
          902,
          173.89999999999998,
          902,
          10.860000000000014,
          254.052,
          21.840000000000032,
          0.8500000000000227,
          0,
          86,
          10.799999999999956,
          10.700000000000044,
          32.33000000000004,
          6.091599999999971,
          1.5744000000000824,
          70.34199999999998,
          85.63,
          77.74000000000001,
          112.875,
          22.575000000000045,
          0,
          30,
          130,
          848,
          800,
          784,
          720,
          640,
          640,
          480,
          473,
          601.796,
          433.7,
          683.824,
          234.671,
          91.66499999999996,
          56,
          60.14599999999996,
          180.44600000000003,
          533.957,
          578.9,
          81.11000000000001,
          79.29200000000003,
          113.716,
          871.02,
          1480.01,
          159.24,
          473.62,
          50,
          50,
          50,
          50,
          50,
          50,
          0,
          0,
          0,
          0,
          0,
          0,
          0,
          0,
          204,
          254,
          329.43,
          145.17999999999995,
          135,
          161,
          143.00000000000006,
          0,
          0,
          0,
          182,
          126,
          374,
          685,
          182,
          94,
          314,
          685,
          1304.348,
          1195.65,
          763,
          506,
          379,
          340.5,
          178.86900000000003,
          124.743,
          179.2,
          18,
          108.70600000000002,
          35.36850000000004,
          0,
          0,
          14,
          1217,
          4408,
          6350,
          0,
          0,
          0,
          0,
          909,
          726.9999999999999,
          2083,
          5121.9692,
          10414,
          8514.585999999998,
          6372.383,
          5325.26,
          0,
          0,
          0,
          0,
          0,
          0,
          0,
          0,
          0,
          0,
          0,
          0,
          0,
          0,
          104,
          183,
          612,
          758,
          584,
          50,
          101.54999999999995,
          127.29500000000009,
          101.64999999999998,
          76.25,
          101,
          76.89999999999998,
          50.84500000000003,
          25.559000000000083,
          0.1990000000000691,
          2755.17,
          918.639,
          407.967,
          178.57100000000003,
          25.200000000000045,
          76.54999999999995,
          25.46000000000004,
          76.5,
          25.55899999999997,
          1253.696,
          1478.24,
          223.87,
          13.28200000000004,
          90,
          50,
          2000,
          833,
          961.2,
          280.8268,
          830,
          1020,
          1030,
          1110,
          1110,
          0,
          0,
          0,
          0,
          769,
          280,
          147,
          0,
          0,
          0,
          1115.5800000000002,
          188.886,
          300.678,
          110.77999999999996,
          305.046,
          101.80899999999995,
          1756.75,
          803.95,
          211.80650000000003,
          126.63000000000004,
          128.52800000000002,
          43.5,
          0,
          0,
          0,
          50.68500000000006,
          253.3855,
          141.7719999999999,
          175.635,
          148.635,
          162.11950000000002,
          5753.62,
          8310.58,
          9418.761,
          9573.644,
          8410.919999999998,
          1369.513,
          57.07000000000005,
          0,
          1375,
          1125,
          1125,
          1175,
          1000,
          1050,
          393.25,
          213,
          5653,
          518,
          2920,
          1580,
          990,
          153.48000000000002,
          75.87300000000005,
          0,
          76.88999999999999,
          487.043,
          1662.94,
          1220.4,
          1116.5300000000002,
          1029.63,
          1002.68,
          960.57,
          949.12,
          1895,
          1907.9,
          730,
          75,
          820,
          900,
          656.76,
          842.644,
          1030,
          1144.5,
          1452.6,
          1976.41
         ]
        },
        {
         "marker": {
          "color": "#082040"
         },
         "mode": "markers",
         "name": "Outliers",
         "type": "scatter",
         "x": [
          16,
          54,
          63,
          112,
          113,
          119,
          121,
          123,
          124,
          136,
          137,
          140,
          152,
          153,
          157,
          171,
          189,
          190,
          191,
          192,
          193,
          194,
          208,
          209,
          215,
          234,
          267,
          272,
          390,
          391,
          398,
          399,
          400,
          401,
          402,
          403,
          433,
          448,
          488,
          489,
          490,
          491,
          492,
          504,
          506,
          521,
          522,
          532
         ],
         "y": [
          2157,
          7238,
          2878.5,
          2762,
          2250,
          2188,
          3500,
          22459,
          18003,
          2275,
          2120,
          1972,
          2800,
          2600,
          3650,
          2750,
          3430,
          4020,
          5100,
          3773.58,
          5283,
          5283,
          2560,
          2120,
          3600,
          2173.9,
          2068.9,
          2847.4576,
          4408,
          6350,
          2083,
          5121.9692,
          10414,
          8514.585999999998,
          6372.383,
          5325.26,
          2755.17,
          2000,
          5753.62,
          8310.58,
          9418.761,
          9573.644,
          8410.919999999998,
          5653,
          2920,
          1895,
          1907.9,
          1976.41
         ]
        }
       ],
       "layout": {
        "template": {
         "data": {
          "bar": [
           {
            "error_x": {
             "color": "#2a3f5f"
            },
            "error_y": {
             "color": "#2a3f5f"
            },
            "marker": {
             "line": {
              "color": "#E5ECF6",
              "width": 0.5
             },
             "pattern": {
              "fillmode": "overlay",
              "size": 10,
              "solidity": 0.2
             }
            },
            "type": "bar"
           }
          ],
          "barpolar": [
           {
            "marker": {
             "line": {
              "color": "#E5ECF6",
              "width": 0.5
             },
             "pattern": {
              "fillmode": "overlay",
              "size": 10,
              "solidity": 0.2
             }
            },
            "type": "barpolar"
           }
          ],
          "carpet": [
           {
            "aaxis": {
             "endlinecolor": "#2a3f5f",
             "gridcolor": "white",
             "linecolor": "white",
             "minorgridcolor": "white",
             "startlinecolor": "#2a3f5f"
            },
            "baxis": {
             "endlinecolor": "#2a3f5f",
             "gridcolor": "white",
             "linecolor": "white",
             "minorgridcolor": "white",
             "startlinecolor": "#2a3f5f"
            },
            "type": "carpet"
           }
          ],
          "choropleth": [
           {
            "colorbar": {
             "outlinewidth": 0,
             "ticks": ""
            },
            "type": "choropleth"
           }
          ],
          "contour": [
           {
            "colorbar": {
             "outlinewidth": 0,
             "ticks": ""
            },
            "colorscale": [
             [
              0,
              "#0d0887"
             ],
             [
              0.1111111111111111,
              "#46039f"
             ],
             [
              0.2222222222222222,
              "#7201a8"
             ],
             [
              0.3333333333333333,
              "#9c179e"
             ],
             [
              0.4444444444444444,
              "#bd3786"
             ],
             [
              0.5555555555555556,
              "#d8576b"
             ],
             [
              0.6666666666666666,
              "#ed7953"
             ],
             [
              0.7777777777777778,
              "#fb9f3a"
             ],
             [
              0.8888888888888888,
              "#fdca26"
             ],
             [
              1,
              "#f0f921"
             ]
            ],
            "type": "contour"
           }
          ],
          "contourcarpet": [
           {
            "colorbar": {
             "outlinewidth": 0,
             "ticks": ""
            },
            "type": "contourcarpet"
           }
          ],
          "heatmap": [
           {
            "colorbar": {
             "outlinewidth": 0,
             "ticks": ""
            },
            "colorscale": [
             [
              0,
              "#0d0887"
             ],
             [
              0.1111111111111111,
              "#46039f"
             ],
             [
              0.2222222222222222,
              "#7201a8"
             ],
             [
              0.3333333333333333,
              "#9c179e"
             ],
             [
              0.4444444444444444,
              "#bd3786"
             ],
             [
              0.5555555555555556,
              "#d8576b"
             ],
             [
              0.6666666666666666,
              "#ed7953"
             ],
             [
              0.7777777777777778,
              "#fb9f3a"
             ],
             [
              0.8888888888888888,
              "#fdca26"
             ],
             [
              1,
              "#f0f921"
             ]
            ],
            "type": "heatmap"
           }
          ],
          "heatmapgl": [
           {
            "colorbar": {
             "outlinewidth": 0,
             "ticks": ""
            },
            "colorscale": [
             [
              0,
              "#0d0887"
             ],
             [
              0.1111111111111111,
              "#46039f"
             ],
             [
              0.2222222222222222,
              "#7201a8"
             ],
             [
              0.3333333333333333,
              "#9c179e"
             ],
             [
              0.4444444444444444,
              "#bd3786"
             ],
             [
              0.5555555555555556,
              "#d8576b"
             ],
             [
              0.6666666666666666,
              "#ed7953"
             ],
             [
              0.7777777777777778,
              "#fb9f3a"
             ],
             [
              0.8888888888888888,
              "#fdca26"
             ],
             [
              1,
              "#f0f921"
             ]
            ],
            "type": "heatmapgl"
           }
          ],
          "histogram": [
           {
            "marker": {
             "pattern": {
              "fillmode": "overlay",
              "size": 10,
              "solidity": 0.2
             }
            },
            "type": "histogram"
           }
          ],
          "histogram2d": [
           {
            "colorbar": {
             "outlinewidth": 0,
             "ticks": ""
            },
            "colorscale": [
             [
              0,
              "#0d0887"
             ],
             [
              0.1111111111111111,
              "#46039f"
             ],
             [
              0.2222222222222222,
              "#7201a8"
             ],
             [
              0.3333333333333333,
              "#9c179e"
             ],
             [
              0.4444444444444444,
              "#bd3786"
             ],
             [
              0.5555555555555556,
              "#d8576b"
             ],
             [
              0.6666666666666666,
              "#ed7953"
             ],
             [
              0.7777777777777778,
              "#fb9f3a"
             ],
             [
              0.8888888888888888,
              "#fdca26"
             ],
             [
              1,
              "#f0f921"
             ]
            ],
            "type": "histogram2d"
           }
          ],
          "histogram2dcontour": [
           {
            "colorbar": {
             "outlinewidth": 0,
             "ticks": ""
            },
            "colorscale": [
             [
              0,
              "#0d0887"
             ],
             [
              0.1111111111111111,
              "#46039f"
             ],
             [
              0.2222222222222222,
              "#7201a8"
             ],
             [
              0.3333333333333333,
              "#9c179e"
             ],
             [
              0.4444444444444444,
              "#bd3786"
             ],
             [
              0.5555555555555556,
              "#d8576b"
             ],
             [
              0.6666666666666666,
              "#ed7953"
             ],
             [
              0.7777777777777778,
              "#fb9f3a"
             ],
             [
              0.8888888888888888,
              "#fdca26"
             ],
             [
              1,
              "#f0f921"
             ]
            ],
            "type": "histogram2dcontour"
           }
          ],
          "mesh3d": [
           {
            "colorbar": {
             "outlinewidth": 0,
             "ticks": ""
            },
            "type": "mesh3d"
           }
          ],
          "parcoords": [
           {
            "line": {
             "colorbar": {
              "outlinewidth": 0,
              "ticks": ""
             }
            },
            "type": "parcoords"
           }
          ],
          "pie": [
           {
            "automargin": true,
            "type": "pie"
           }
          ],
          "scatter": [
           {
            "fillpattern": {
             "fillmode": "overlay",
             "size": 10,
             "solidity": 0.2
            },
            "type": "scatter"
           }
          ],
          "scatter3d": [
           {
            "line": {
             "colorbar": {
              "outlinewidth": 0,
              "ticks": ""
             }
            },
            "marker": {
             "colorbar": {
              "outlinewidth": 0,
              "ticks": ""
             }
            },
            "type": "scatter3d"
           }
          ],
          "scattercarpet": [
           {
            "marker": {
             "colorbar": {
              "outlinewidth": 0,
              "ticks": ""
             }
            },
            "type": "scattercarpet"
           }
          ],
          "scattergeo": [
           {
            "marker": {
             "colorbar": {
              "outlinewidth": 0,
              "ticks": ""
             }
            },
            "type": "scattergeo"
           }
          ],
          "scattergl": [
           {
            "marker": {
             "colorbar": {
              "outlinewidth": 0,
              "ticks": ""
             }
            },
            "type": "scattergl"
           }
          ],
          "scattermapbox": [
           {
            "marker": {
             "colorbar": {
              "outlinewidth": 0,
              "ticks": ""
             }
            },
            "type": "scattermapbox"
           }
          ],
          "scatterpolar": [
           {
            "marker": {
             "colorbar": {
              "outlinewidth": 0,
              "ticks": ""
             }
            },
            "type": "scatterpolar"
           }
          ],
          "scatterpolargl": [
           {
            "marker": {
             "colorbar": {
              "outlinewidth": 0,
              "ticks": ""
             }
            },
            "type": "scatterpolargl"
           }
          ],
          "scatterternary": [
           {
            "marker": {
             "colorbar": {
              "outlinewidth": 0,
              "ticks": ""
             }
            },
            "type": "scatterternary"
           }
          ],
          "surface": [
           {
            "colorbar": {
             "outlinewidth": 0,
             "ticks": ""
            },
            "colorscale": [
             [
              0,
              "#0d0887"
             ],
             [
              0.1111111111111111,
              "#46039f"
             ],
             [
              0.2222222222222222,
              "#7201a8"
             ],
             [
              0.3333333333333333,
              "#9c179e"
             ],
             [
              0.4444444444444444,
              "#bd3786"
             ],
             [
              0.5555555555555556,
              "#d8576b"
             ],
             [
              0.6666666666666666,
              "#ed7953"
             ],
             [
              0.7777777777777778,
              "#fb9f3a"
             ],
             [
              0.8888888888888888,
              "#fdca26"
             ],
             [
              1,
              "#f0f921"
             ]
            ],
            "type": "surface"
           }
          ],
          "table": [
           {
            "cells": {
             "fill": {
              "color": "#EBF0F8"
             },
             "line": {
              "color": "white"
             }
            },
            "header": {
             "fill": {
              "color": "#C8D4E3"
             },
             "line": {
              "color": "white"
             }
            },
            "type": "table"
           }
          ]
         },
         "layout": {
          "annotationdefaults": {
           "arrowcolor": "#2a3f5f",
           "arrowhead": 0,
           "arrowwidth": 1
          },
          "autotypenumbers": "strict",
          "coloraxis": {
           "colorbar": {
            "outlinewidth": 0,
            "ticks": ""
           }
          },
          "colorscale": {
           "diverging": [
            [
             0,
             "#8e0152"
            ],
            [
             0.1,
             "#c51b7d"
            ],
            [
             0.2,
             "#de77ae"
            ],
            [
             0.3,
             "#f1b6da"
            ],
            [
             0.4,
             "#fde0ef"
            ],
            [
             0.5,
             "#f7f7f7"
            ],
            [
             0.6,
             "#e6f5d0"
            ],
            [
             0.7,
             "#b8e186"
            ],
            [
             0.8,
             "#7fbc41"
            ],
            [
             0.9,
             "#4d9221"
            ],
            [
             1,
             "#276419"
            ]
           ],
           "sequential": [
            [
             0,
             "#0d0887"
            ],
            [
             0.1111111111111111,
             "#46039f"
            ],
            [
             0.2222222222222222,
             "#7201a8"
            ],
            [
             0.3333333333333333,
             "#9c179e"
            ],
            [
             0.4444444444444444,
             "#bd3786"
            ],
            [
             0.5555555555555556,
             "#d8576b"
            ],
            [
             0.6666666666666666,
             "#ed7953"
            ],
            [
             0.7777777777777778,
             "#fb9f3a"
            ],
            [
             0.8888888888888888,
             "#fdca26"
            ],
            [
             1,
             "#f0f921"
            ]
           ],
           "sequentialminus": [
            [
             0,
             "#0d0887"
            ],
            [
             0.1111111111111111,
             "#46039f"
            ],
            [
             0.2222222222222222,
             "#7201a8"
            ],
            [
             0.3333333333333333,
             "#9c179e"
            ],
            [
             0.4444444444444444,
             "#bd3786"
            ],
            [
             0.5555555555555556,
             "#d8576b"
            ],
            [
             0.6666666666666666,
             "#ed7953"
            ],
            [
             0.7777777777777778,
             "#fb9f3a"
            ],
            [
             0.8888888888888888,
             "#fdca26"
            ],
            [
             1,
             "#f0f921"
            ]
           ]
          },
          "colorway": [
           "#636efa",
           "#EF553B",
           "#00cc96",
           "#ab63fa",
           "#FFA15A",
           "#19d3f3",
           "#FF6692",
           "#B6E880",
           "#FF97FF",
           "#FECB52"
          ],
          "font": {
           "color": "#2a3f5f"
          },
          "geo": {
           "bgcolor": "white",
           "lakecolor": "white",
           "landcolor": "#E5ECF6",
           "showlakes": true,
           "showland": true,
           "subunitcolor": "white"
          },
          "hoverlabel": {
           "align": "left"
          },
          "hovermode": "closest",
          "mapbox": {
           "style": "light"
          },
          "paper_bgcolor": "white",
          "plot_bgcolor": "#E5ECF6",
          "polar": {
           "angularaxis": {
            "gridcolor": "white",
            "linecolor": "white",
            "ticks": ""
           },
           "bgcolor": "#E5ECF6",
           "radialaxis": {
            "gridcolor": "white",
            "linecolor": "white",
            "ticks": ""
           }
          },
          "scene": {
           "xaxis": {
            "backgroundcolor": "#E5ECF6",
            "gridcolor": "white",
            "gridwidth": 2,
            "linecolor": "white",
            "showbackground": true,
            "ticks": "",
            "zerolinecolor": "white"
           },
           "yaxis": {
            "backgroundcolor": "#E5ECF6",
            "gridcolor": "white",
            "gridwidth": 2,
            "linecolor": "white",
            "showbackground": true,
            "ticks": "",
            "zerolinecolor": "white"
           },
           "zaxis": {
            "backgroundcolor": "#E5ECF6",
            "gridcolor": "white",
            "gridwidth": 2,
            "linecolor": "white",
            "showbackground": true,
            "ticks": "",
            "zerolinecolor": "white"
           }
          },
          "shapedefaults": {
           "line": {
            "color": "#2a3f5f"
           }
          },
          "ternary": {
           "aaxis": {
            "gridcolor": "white",
            "linecolor": "white",
            "ticks": ""
           },
           "baxis": {
            "gridcolor": "white",
            "linecolor": "white",
            "ticks": ""
           },
           "bgcolor": "#E5ECF6",
           "caxis": {
            "gridcolor": "white",
            "linecolor": "white",
            "ticks": ""
           }
          },
          "title": {
           "x": 0.05
          },
          "xaxis": {
           "automargin": true,
           "gridcolor": "white",
           "linecolor": "white",
           "ticks": "",
           "title": {
            "standoff": 15
           },
           "zerolinecolor": "white",
           "zerolinewidth": 2
          },
          "yaxis": {
           "automargin": true,
           "gridcolor": "white",
           "linecolor": "white",
           "ticks": "",
           "title": {
            "standoff": 15
           },
           "zerolinecolor": "white",
           "zerolinewidth": 2
          }
         }
        },
        "title": {
         "text": "Outlier Detection Using IQR Method"
        },
        "xaxis": {
         "title": {
          "text": "Index"
         }
        },
        "yaxis": {
         "title": {
          "text": "Value"
         }
        }
       }
      }
     },
     "metadata": {},
     "output_type": "display_data"
    }
   ],
   "source": [
    "# Detect outliers\n",
    "outliers = detect_outliers_iqr(df['exc_bias_oe'])\n",
    "\n",
    "# Получение значений выбросов\n",
    "outlier_values = df.loc[outliers, 'exc_bias_oe']\n",
    "\n",
    "# Scatter plot\n",
    "fig = go.Figure()\n",
    "\n",
    "# Plot all data points\n",
    "fig.add_trace(go.Scatter(x=np.arange(len(df['exc_bias_oe'])), y=df['exc_bias_oe'], mode='markers', name='Data Points', marker=dict(color=colors[2])))\n",
    "\n",
    "# Highlight outliers\n",
    "fig.add_trace(go.Scatter(x=outliers, y=outlier_values, mode='markers', marker=dict(color=colors[0]), name='Outliers'))\n",
    "\n",
    "# Add layout\n",
    "fig.update_layout(title='Outlier Detection Using IQR Method',\n",
    "                  xaxis_title='Index',\n",
    "                  yaxis_title='Value')\n",
    "\n",
    "# Show plot\n",
    "display(fig)"
   ]
  },
  {
   "cell_type": "code",
   "execution_count": 605,
   "metadata": {},
   "outputs": [
    {
     "name": "stdout",
     "output_type": "stream",
     "text": [
      "   id  space_group_shell   coer_oe  exc_bias_oe  fc_field_t  h_range_max_koe  \\\n",
      "0   1                227  27800.00      1132.00         5.0             50.0   \n",
      "1   2                227   7800.00       406.00         5.0             50.0   \n",
      "2   3                  0     24.80        51.34         0.0             10.0   \n",
      "3   4                  0     90.20       108.18         0.0             10.0   \n",
      "4   5                  0     40.07         8.92         0.0             10.0   \n",
      "\n",
      "   mr (emu/g)  sat_em_g  shape  space_group_core  temperature_k  \\\n",
      "0    13.76705   52.1524    1.0             186.0            5.0   \n",
      "1    43.26420   83.1400    1.0             225.0            5.0   \n",
      "2     0.00780    2.2900    1.0             227.0          300.0   \n",
      "3     0.02180    2.4300    1.0             227.0          300.0   \n",
      "4     0.34980   16.1500    1.0             227.0          300.0   \n",
      "\n",
      "   ver_shift_emu_g  sphericity  max/min  exc_dir  ver_s_dir  area/volume  \n",
      "0              0.0         1.0        1        0          1     0.405405  \n",
      "1              0.0         1.0        1        0          1     0.428571  \n",
      "2              0.0         1.0        1        1          1     0.176471  \n",
      "3              0.0         1.0        1        1          1     0.272727  \n",
      "4              0.0         1.0        1        1          1     0.250000  \n"
     ]
    }
   ],
   "source": [
    "out_data = df.drop(outliers)\n",
    "print(out_data.head())"
   ]
  },
  {
   "cell_type": "code",
   "execution_count": 606,
   "metadata": {},
   "outputs": [
    {
     "name": "stdout",
     "output_type": "stream",
     "text": [
      "<class 'pandas.core.frame.DataFrame'>\n",
      "Int64Index: 485 entries, 0 to 531\n",
      "Data columns (total 17 columns):\n",
      " #   Column             Non-Null Count  Dtype  \n",
      "---  ------             --------------  -----  \n",
      " 0   id                 485 non-null    int64  \n",
      " 1   space_group_shell  485 non-null    int64  \n",
      " 2   coer_oe            485 non-null    float64\n",
      " 3   exc_bias_oe        485 non-null    float64\n",
      " 4   fc_field_t         485 non-null    float64\n",
      " 5   h_range_max_koe    485 non-null    float64\n",
      " 6   mr (emu/g)         485 non-null    float64\n",
      " 7   sat_em_g           485 non-null    float64\n",
      " 8   shape              485 non-null    float64\n",
      " 9   space_group_core   485 non-null    float64\n",
      " 10  temperature_k      485 non-null    float64\n",
      " 11  ver_shift_emu_g    485 non-null    float64\n",
      " 12  sphericity         485 non-null    float64\n",
      " 13  max/min            485 non-null    int64  \n",
      " 14  exc_dir            485 non-null    int64  \n",
      " 15  ver_s_dir          485 non-null    int64  \n",
      " 16  area/volume        485 non-null    float64\n",
      "dtypes: float64(12), int64(5)\n",
      "memory usage: 68.2 KB\n",
      "None\n"
     ]
    }
   ],
   "source": [
    "df = out_data\n",
    "print(df.info())"
   ]
  },
  {
   "cell_type": "code",
   "execution_count": 607,
   "metadata": {},
   "outputs": [
    {
     "data": {
      "application/vnd.plotly.v1+json": {
       "config": {
        "plotlyServerURL": "https://plot.ly"
       },
       "data": [
        {
         "alignmentgroup": "True",
         "bingroup": "x",
         "hovertemplate": "exc_bias_oe=%{x}<br>count=%{y}<extra></extra>",
         "legendgroup": "",
         "marker": {
          "color": "#082040",
          "opacity": 0.7,
          "pattern": {
           "shape": ""
          }
         },
         "name": "",
         "nbinsx": 60,
         "offsetgroup": "",
         "orientation": "v",
         "showlegend": false,
         "type": "histogram",
         "x": [
          1132,
          406,
          51.34000000000003,
          108.17999999999996,
          8.919999999999959,
          14.379999999999995,
          2.830000000000041,
          0,
          255,
          296,
          344,
          635,
          0,
          229,
          350,
          502,
          130,
          137.00000000000006,
          38,
          73,
          81,
          109,
          0,
          0,
          0,
          0,
          0,
          0,
          112.78100000000006,
          226.736,
          170,
          169.13099999999997,
          112.77999999999996,
          56.17999999999995,
          90,
          50,
          142.77999999999997,
          137.21000000000004,
          71,
          346.379,
          952.57,
          629.898,
          519.698,
          472.1585,
          278.3,
          185.144,
          108.06499999999994,
          76.83000000000004,
          440,
          551.72,
          551.72,
          96.76699999999994,
          1812,
          93.23059999999998,
          82.03059999999994,
          82.03059999999994,
          0,
          2.5,
          0,
          719,
          0,
          0,
          329,
          0,
          0,
          0,
          0,
          329.43,
          145.17999999999995,
          1600,
          1825,
          1500,
          1650,
          9.409999999999968,
          84.70000000000005,
          71.36000000000001,
          64.76400000000001,
          5,
          49.72500000000002,
          41.96000000000004,
          2.419999999999959,
          2.419999999999959,
          2.419999999999959,
          1.3550000000000182,
          0.6585000000000036,
          0.6589999999999918,
          15,
          52,
          70,
          20,
          1219.58,
          1182,
          342.15,
          0,
          0,
          0,
          0.1000000000000227,
          399.9500000000001,
          49.89999999999998,
          0,
          0,
          0.0499999999999545,
          0.0499999999999545,
          99.95000000000005,
          0.0499999999999545,
          1804,
          781.28,
          1022,
          471,
          583,
          1190,
          133,
          20,
          1071.526,
          1600,
          1000,
          140.00000000000006,
          964.9,
          932,
          865.6,
          122.37400000000002,
          510.4,
          13,
          78,
          650,
          254,
          250,
          800,
          511.81,
          1814.6,
          1350,
          502,
          181,
          79,
          149.24,
          30.66999999999996,
          402.9,
          1877.782,
          1877.782,
          1711.4,
          0,
          0,
          0,
          0,
          0,
          530.6,
          906.4,
          249,
          94,
          1335,
          1318,
          131.00000000000006,
          165.23000000000002,
          1025,
          113.5,
          900,
          250,
          984.37,
          677,
          812.5,
          124.13999999999992,
          123.24,
          148.59500000000003,
          183.82,
          210.53,
          147.35999999999996,
          36.60000000000002,
          26.442000000000007,
          21.5,
          1086,
          575,
          273,
          1290,
          147.76,
          14.700000000000044,
          177.29700000000005,
          54,
          7.740000000000009,
          65.56000000000006,
          0.0074999999999363,
          0.0074999999999363,
          1.1073000000000093,
          4.870000000000118,
          1.4600000000000364,
          12.299999999999956,
          25,
          180,
          390,
          190,
          110,
          490,
          5,
          5,
          20,
          6,
          0,
          34.375,
          40,
          100,
          0,
          284.89200000000005,
          454.5400000000001,
          0,
          1879,
          631.7,
          456.2,
          47.60000000000002,
          0,
          0,
          0,
          0,
          0,
          0,
          0,
          0,
          280,
          300,
          300,
          280,
          45,
          48,
          24,
          21,
          10,
          14,
          1.5,
          12,
          3,
          3,
          168,
          520,
          632,
          0,
          0,
          0,
          0,
          0,
          827.586,
          0,
          1355.93,
          0,
          0,
          0,
          0,
          0,
          0,
          0,
          0,
          0,
          0,
          0,
          22.200000000000045,
          24.049999999999955,
          40.779,
          57.39999999999998,
          40.75999999999999,
          0.169999999999959,
          5.2999999999999545,
          1.0220000000000482,
          22,
          45,
          43,
          62,
          250,
          310,
          570,
          173.89999999999998,
          902,
          173.89999999999998,
          902,
          10.860000000000014,
          254.052,
          21.840000000000032,
          0.8500000000000227,
          0,
          86,
          10.799999999999956,
          10.700000000000044,
          32.33000000000004,
          6.091599999999971,
          1.5744000000000824,
          70.34199999999998,
          85.63,
          77.74000000000001,
          112.875,
          22.575000000000045,
          0,
          30,
          130,
          848,
          800,
          784,
          720,
          640,
          640,
          480,
          473,
          601.796,
          433.7,
          683.824,
          234.671,
          91.66499999999996,
          56,
          60.14599999999996,
          180.44600000000003,
          533.957,
          578.9,
          81.11000000000001,
          79.29200000000003,
          113.716,
          871.02,
          1480.01,
          159.24,
          473.62,
          50,
          50,
          50,
          50,
          50,
          50,
          0,
          0,
          0,
          0,
          0,
          0,
          0,
          0,
          204,
          254,
          329.43,
          145.17999999999995,
          135,
          161,
          143.00000000000006,
          0,
          0,
          0,
          182,
          126,
          374,
          685,
          182,
          94,
          314,
          685,
          1304.348,
          1195.65,
          763,
          506,
          379,
          340.5,
          178.86900000000003,
          124.743,
          179.2,
          18,
          108.70600000000002,
          35.36850000000004,
          0,
          0,
          14,
          1217,
          0,
          0,
          0,
          0,
          909,
          726.9999999999999,
          0,
          0,
          0,
          0,
          0,
          0,
          0,
          0,
          0,
          0,
          0,
          0,
          0,
          0,
          104,
          183,
          612,
          758,
          584,
          50,
          101.54999999999995,
          127.29500000000009,
          101.64999999999998,
          76.25,
          101,
          76.89999999999998,
          50.84500000000003,
          25.559000000000083,
          0.1990000000000691,
          918.639,
          407.967,
          178.57100000000003,
          25.200000000000045,
          76.54999999999995,
          25.46000000000004,
          76.5,
          25.55899999999997,
          1253.696,
          1478.24,
          223.87,
          13.28200000000004,
          90,
          50,
          833,
          961.2,
          280.8268,
          830,
          1020,
          1030,
          1110,
          1110,
          0,
          0,
          0,
          0,
          769,
          280,
          147,
          0,
          0,
          0,
          1115.5800000000002,
          188.886,
          300.678,
          110.77999999999996,
          305.046,
          101.80899999999995,
          1756.75,
          803.95,
          211.80650000000003,
          126.63000000000004,
          128.52800000000002,
          43.5,
          0,
          0,
          0,
          50.68500000000006,
          253.3855,
          141.7719999999999,
          175.635,
          148.635,
          162.11950000000002,
          1369.513,
          57.07000000000005,
          0,
          1375,
          1125,
          1125,
          1175,
          1000,
          1050,
          393.25,
          213,
          518,
          1580,
          990,
          153.48000000000002,
          75.87300000000005,
          0,
          76.88999999999999,
          487.043,
          1662.94,
          1220.4,
          1116.5300000000002,
          1029.63,
          1002.68,
          960.57,
          949.12,
          730,
          75,
          820,
          900,
          656.76,
          842.644,
          1030,
          1144.5,
          1452.6
         ],
         "xaxis": "x",
         "yaxis": "y"
        },
        {
         "alignmentgroup": "True",
         "box": {
          "visible": true
         },
         "hovertemplate": "exc_bias_oe=%{y}<extra></extra>",
         "legendgroup": "",
         "marker": {
          "color": "#082040"
         },
         "name": "",
         "offsetgroup": "",
         "orientation": "v",
         "scalegroup": "True",
         "showlegend": false,
         "type": "violin",
         "x0": " ",
         "xaxis": "x2",
         "y": [
          1132,
          406,
          51.34000000000003,
          108.17999999999996,
          8.919999999999959,
          14.379999999999995,
          2.830000000000041,
          0,
          255,
          296,
          344,
          635,
          0,
          229,
          350,
          502,
          130,
          137.00000000000006,
          38,
          73,
          81,
          109,
          0,
          0,
          0,
          0,
          0,
          0,
          112.78100000000006,
          226.736,
          170,
          169.13099999999997,
          112.77999999999996,
          56.17999999999995,
          90,
          50,
          142.77999999999997,
          137.21000000000004,
          71,
          346.379,
          952.57,
          629.898,
          519.698,
          472.1585,
          278.3,
          185.144,
          108.06499999999994,
          76.83000000000004,
          440,
          551.72,
          551.72,
          96.76699999999994,
          1812,
          93.23059999999998,
          82.03059999999994,
          82.03059999999994,
          0,
          2.5,
          0,
          719,
          0,
          0,
          329,
          0,
          0,
          0,
          0,
          329.43,
          145.17999999999995,
          1600,
          1825,
          1500,
          1650,
          9.409999999999968,
          84.70000000000005,
          71.36000000000001,
          64.76400000000001,
          5,
          49.72500000000002,
          41.96000000000004,
          2.419999999999959,
          2.419999999999959,
          2.419999999999959,
          1.3550000000000182,
          0.6585000000000036,
          0.6589999999999918,
          15,
          52,
          70,
          20,
          1219.58,
          1182,
          342.15,
          0,
          0,
          0,
          0.1000000000000227,
          399.9500000000001,
          49.89999999999998,
          0,
          0,
          0.0499999999999545,
          0.0499999999999545,
          99.95000000000005,
          0.0499999999999545,
          1804,
          781.28,
          1022,
          471,
          583,
          1190,
          133,
          20,
          1071.526,
          1600,
          1000,
          140.00000000000006,
          964.9,
          932,
          865.6,
          122.37400000000002,
          510.4,
          13,
          78,
          650,
          254,
          250,
          800,
          511.81,
          1814.6,
          1350,
          502,
          181,
          79,
          149.24,
          30.66999999999996,
          402.9,
          1877.782,
          1877.782,
          1711.4,
          0,
          0,
          0,
          0,
          0,
          530.6,
          906.4,
          249,
          94,
          1335,
          1318,
          131.00000000000006,
          165.23000000000002,
          1025,
          113.5,
          900,
          250,
          984.37,
          677,
          812.5,
          124.13999999999992,
          123.24,
          148.59500000000003,
          183.82,
          210.53,
          147.35999999999996,
          36.60000000000002,
          26.442000000000007,
          21.5,
          1086,
          575,
          273,
          1290,
          147.76,
          14.700000000000044,
          177.29700000000005,
          54,
          7.740000000000009,
          65.56000000000006,
          0.0074999999999363,
          0.0074999999999363,
          1.1073000000000093,
          4.870000000000118,
          1.4600000000000364,
          12.299999999999956,
          25,
          180,
          390,
          190,
          110,
          490,
          5,
          5,
          20,
          6,
          0,
          34.375,
          40,
          100,
          0,
          284.89200000000005,
          454.5400000000001,
          0,
          1879,
          631.7,
          456.2,
          47.60000000000002,
          0,
          0,
          0,
          0,
          0,
          0,
          0,
          0,
          280,
          300,
          300,
          280,
          45,
          48,
          24,
          21,
          10,
          14,
          1.5,
          12,
          3,
          3,
          168,
          520,
          632,
          0,
          0,
          0,
          0,
          0,
          827.586,
          0,
          1355.93,
          0,
          0,
          0,
          0,
          0,
          0,
          0,
          0,
          0,
          0,
          0,
          22.200000000000045,
          24.049999999999955,
          40.779,
          57.39999999999998,
          40.75999999999999,
          0.169999999999959,
          5.2999999999999545,
          1.0220000000000482,
          22,
          45,
          43,
          62,
          250,
          310,
          570,
          173.89999999999998,
          902,
          173.89999999999998,
          902,
          10.860000000000014,
          254.052,
          21.840000000000032,
          0.8500000000000227,
          0,
          86,
          10.799999999999956,
          10.700000000000044,
          32.33000000000004,
          6.091599999999971,
          1.5744000000000824,
          70.34199999999998,
          85.63,
          77.74000000000001,
          112.875,
          22.575000000000045,
          0,
          30,
          130,
          848,
          800,
          784,
          720,
          640,
          640,
          480,
          473,
          601.796,
          433.7,
          683.824,
          234.671,
          91.66499999999996,
          56,
          60.14599999999996,
          180.44600000000003,
          533.957,
          578.9,
          81.11000000000001,
          79.29200000000003,
          113.716,
          871.02,
          1480.01,
          159.24,
          473.62,
          50,
          50,
          50,
          50,
          50,
          50,
          0,
          0,
          0,
          0,
          0,
          0,
          0,
          0,
          204,
          254,
          329.43,
          145.17999999999995,
          135,
          161,
          143.00000000000006,
          0,
          0,
          0,
          182,
          126,
          374,
          685,
          182,
          94,
          314,
          685,
          1304.348,
          1195.65,
          763,
          506,
          379,
          340.5,
          178.86900000000003,
          124.743,
          179.2,
          18,
          108.70600000000002,
          35.36850000000004,
          0,
          0,
          14,
          1217,
          0,
          0,
          0,
          0,
          909,
          726.9999999999999,
          0,
          0,
          0,
          0,
          0,
          0,
          0,
          0,
          0,
          0,
          0,
          0,
          0,
          0,
          104,
          183,
          612,
          758,
          584,
          50,
          101.54999999999995,
          127.29500000000009,
          101.64999999999998,
          76.25,
          101,
          76.89999999999998,
          50.84500000000003,
          25.559000000000083,
          0.1990000000000691,
          918.639,
          407.967,
          178.57100000000003,
          25.200000000000045,
          76.54999999999995,
          25.46000000000004,
          76.5,
          25.55899999999997,
          1253.696,
          1478.24,
          223.87,
          13.28200000000004,
          90,
          50,
          833,
          961.2,
          280.8268,
          830,
          1020,
          1030,
          1110,
          1110,
          0,
          0,
          0,
          0,
          769,
          280,
          147,
          0,
          0,
          0,
          1115.5800000000002,
          188.886,
          300.678,
          110.77999999999996,
          305.046,
          101.80899999999995,
          1756.75,
          803.95,
          211.80650000000003,
          126.63000000000004,
          128.52800000000002,
          43.5,
          0,
          0,
          0,
          50.68500000000006,
          253.3855,
          141.7719999999999,
          175.635,
          148.635,
          162.11950000000002,
          1369.513,
          57.07000000000005,
          0,
          1375,
          1125,
          1125,
          1175,
          1000,
          1050,
          393.25,
          213,
          518,
          1580,
          990,
          153.48000000000002,
          75.87300000000005,
          0,
          76.88999999999999,
          487.043,
          1662.94,
          1220.4,
          1116.5300000000002,
          1029.63,
          1002.68,
          960.57,
          949.12,
          730,
          75,
          820,
          900,
          656.76,
          842.644,
          1030,
          1144.5,
          1452.6
         ],
         "y0": " ",
         "yaxis": "y2"
        }
       ],
       "layout": {
        "annotations": [
         {
          "font": {
           "size": 16
          },
          "showarrow": false,
          "text": "Histogram for exchange bias",
          "x": 0.225,
          "xanchor": "center",
          "xref": "paper",
          "y": 1,
          "yanchor": "bottom",
          "yref": "paper"
         },
         {
          "font": {
           "size": 16
          },
          "showarrow": false,
          "text": "Violin Plot for exchange bias",
          "x": 0.775,
          "xanchor": "center",
          "xref": "paper",
          "y": 1,
          "yanchor": "bottom",
          "yref": "paper"
         }
        ],
        "showlegend": false,
        "template": {
         "data": {
          "bar": [
           {
            "error_x": {
             "color": "#2a3f5f"
            },
            "error_y": {
             "color": "#2a3f5f"
            },
            "marker": {
             "line": {
              "color": "#E5ECF6",
              "width": 0.5
             },
             "pattern": {
              "fillmode": "overlay",
              "size": 10,
              "solidity": 0.2
             }
            },
            "type": "bar"
           }
          ],
          "barpolar": [
           {
            "marker": {
             "line": {
              "color": "#E5ECF6",
              "width": 0.5
             },
             "pattern": {
              "fillmode": "overlay",
              "size": 10,
              "solidity": 0.2
             }
            },
            "type": "barpolar"
           }
          ],
          "carpet": [
           {
            "aaxis": {
             "endlinecolor": "#2a3f5f",
             "gridcolor": "white",
             "linecolor": "white",
             "minorgridcolor": "white",
             "startlinecolor": "#2a3f5f"
            },
            "baxis": {
             "endlinecolor": "#2a3f5f",
             "gridcolor": "white",
             "linecolor": "white",
             "minorgridcolor": "white",
             "startlinecolor": "#2a3f5f"
            },
            "type": "carpet"
           }
          ],
          "choropleth": [
           {
            "colorbar": {
             "outlinewidth": 0,
             "ticks": ""
            },
            "type": "choropleth"
           }
          ],
          "contour": [
           {
            "colorbar": {
             "outlinewidth": 0,
             "ticks": ""
            },
            "colorscale": [
             [
              0,
              "#0d0887"
             ],
             [
              0.1111111111111111,
              "#46039f"
             ],
             [
              0.2222222222222222,
              "#7201a8"
             ],
             [
              0.3333333333333333,
              "#9c179e"
             ],
             [
              0.4444444444444444,
              "#bd3786"
             ],
             [
              0.5555555555555556,
              "#d8576b"
             ],
             [
              0.6666666666666666,
              "#ed7953"
             ],
             [
              0.7777777777777778,
              "#fb9f3a"
             ],
             [
              0.8888888888888888,
              "#fdca26"
             ],
             [
              1,
              "#f0f921"
             ]
            ],
            "type": "contour"
           }
          ],
          "contourcarpet": [
           {
            "colorbar": {
             "outlinewidth": 0,
             "ticks": ""
            },
            "type": "contourcarpet"
           }
          ],
          "heatmap": [
           {
            "colorbar": {
             "outlinewidth": 0,
             "ticks": ""
            },
            "colorscale": [
             [
              0,
              "#0d0887"
             ],
             [
              0.1111111111111111,
              "#46039f"
             ],
             [
              0.2222222222222222,
              "#7201a8"
             ],
             [
              0.3333333333333333,
              "#9c179e"
             ],
             [
              0.4444444444444444,
              "#bd3786"
             ],
             [
              0.5555555555555556,
              "#d8576b"
             ],
             [
              0.6666666666666666,
              "#ed7953"
             ],
             [
              0.7777777777777778,
              "#fb9f3a"
             ],
             [
              0.8888888888888888,
              "#fdca26"
             ],
             [
              1,
              "#f0f921"
             ]
            ],
            "type": "heatmap"
           }
          ],
          "heatmapgl": [
           {
            "colorbar": {
             "outlinewidth": 0,
             "ticks": ""
            },
            "colorscale": [
             [
              0,
              "#0d0887"
             ],
             [
              0.1111111111111111,
              "#46039f"
             ],
             [
              0.2222222222222222,
              "#7201a8"
             ],
             [
              0.3333333333333333,
              "#9c179e"
             ],
             [
              0.4444444444444444,
              "#bd3786"
             ],
             [
              0.5555555555555556,
              "#d8576b"
             ],
             [
              0.6666666666666666,
              "#ed7953"
             ],
             [
              0.7777777777777778,
              "#fb9f3a"
             ],
             [
              0.8888888888888888,
              "#fdca26"
             ],
             [
              1,
              "#f0f921"
             ]
            ],
            "type": "heatmapgl"
           }
          ],
          "histogram": [
           {
            "marker": {
             "pattern": {
              "fillmode": "overlay",
              "size": 10,
              "solidity": 0.2
             }
            },
            "type": "histogram"
           }
          ],
          "histogram2d": [
           {
            "colorbar": {
             "outlinewidth": 0,
             "ticks": ""
            },
            "colorscale": [
             [
              0,
              "#0d0887"
             ],
             [
              0.1111111111111111,
              "#46039f"
             ],
             [
              0.2222222222222222,
              "#7201a8"
             ],
             [
              0.3333333333333333,
              "#9c179e"
             ],
             [
              0.4444444444444444,
              "#bd3786"
             ],
             [
              0.5555555555555556,
              "#d8576b"
             ],
             [
              0.6666666666666666,
              "#ed7953"
             ],
             [
              0.7777777777777778,
              "#fb9f3a"
             ],
             [
              0.8888888888888888,
              "#fdca26"
             ],
             [
              1,
              "#f0f921"
             ]
            ],
            "type": "histogram2d"
           }
          ],
          "histogram2dcontour": [
           {
            "colorbar": {
             "outlinewidth": 0,
             "ticks": ""
            },
            "colorscale": [
             [
              0,
              "#0d0887"
             ],
             [
              0.1111111111111111,
              "#46039f"
             ],
             [
              0.2222222222222222,
              "#7201a8"
             ],
             [
              0.3333333333333333,
              "#9c179e"
             ],
             [
              0.4444444444444444,
              "#bd3786"
             ],
             [
              0.5555555555555556,
              "#d8576b"
             ],
             [
              0.6666666666666666,
              "#ed7953"
             ],
             [
              0.7777777777777778,
              "#fb9f3a"
             ],
             [
              0.8888888888888888,
              "#fdca26"
             ],
             [
              1,
              "#f0f921"
             ]
            ],
            "type": "histogram2dcontour"
           }
          ],
          "mesh3d": [
           {
            "colorbar": {
             "outlinewidth": 0,
             "ticks": ""
            },
            "type": "mesh3d"
           }
          ],
          "parcoords": [
           {
            "line": {
             "colorbar": {
              "outlinewidth": 0,
              "ticks": ""
             }
            },
            "type": "parcoords"
           }
          ],
          "pie": [
           {
            "automargin": true,
            "type": "pie"
           }
          ],
          "scatter": [
           {
            "fillpattern": {
             "fillmode": "overlay",
             "size": 10,
             "solidity": 0.2
            },
            "type": "scatter"
           }
          ],
          "scatter3d": [
           {
            "line": {
             "colorbar": {
              "outlinewidth": 0,
              "ticks": ""
             }
            },
            "marker": {
             "colorbar": {
              "outlinewidth": 0,
              "ticks": ""
             }
            },
            "type": "scatter3d"
           }
          ],
          "scattercarpet": [
           {
            "marker": {
             "colorbar": {
              "outlinewidth": 0,
              "ticks": ""
             }
            },
            "type": "scattercarpet"
           }
          ],
          "scattergeo": [
           {
            "marker": {
             "colorbar": {
              "outlinewidth": 0,
              "ticks": ""
             }
            },
            "type": "scattergeo"
           }
          ],
          "scattergl": [
           {
            "marker": {
             "colorbar": {
              "outlinewidth": 0,
              "ticks": ""
             }
            },
            "type": "scattergl"
           }
          ],
          "scattermapbox": [
           {
            "marker": {
             "colorbar": {
              "outlinewidth": 0,
              "ticks": ""
             }
            },
            "type": "scattermapbox"
           }
          ],
          "scatterpolar": [
           {
            "marker": {
             "colorbar": {
              "outlinewidth": 0,
              "ticks": ""
             }
            },
            "type": "scatterpolar"
           }
          ],
          "scatterpolargl": [
           {
            "marker": {
             "colorbar": {
              "outlinewidth": 0,
              "ticks": ""
             }
            },
            "type": "scatterpolargl"
           }
          ],
          "scatterternary": [
           {
            "marker": {
             "colorbar": {
              "outlinewidth": 0,
              "ticks": ""
             }
            },
            "type": "scatterternary"
           }
          ],
          "surface": [
           {
            "colorbar": {
             "outlinewidth": 0,
             "ticks": ""
            },
            "colorscale": [
             [
              0,
              "#0d0887"
             ],
             [
              0.1111111111111111,
              "#46039f"
             ],
             [
              0.2222222222222222,
              "#7201a8"
             ],
             [
              0.3333333333333333,
              "#9c179e"
             ],
             [
              0.4444444444444444,
              "#bd3786"
             ],
             [
              0.5555555555555556,
              "#d8576b"
             ],
             [
              0.6666666666666666,
              "#ed7953"
             ],
             [
              0.7777777777777778,
              "#fb9f3a"
             ],
             [
              0.8888888888888888,
              "#fdca26"
             ],
             [
              1,
              "#f0f921"
             ]
            ],
            "type": "surface"
           }
          ],
          "table": [
           {
            "cells": {
             "fill": {
              "color": "#EBF0F8"
             },
             "line": {
              "color": "white"
             }
            },
            "header": {
             "fill": {
              "color": "#C8D4E3"
             },
             "line": {
              "color": "white"
             }
            },
            "type": "table"
           }
          ]
         },
         "layout": {
          "annotationdefaults": {
           "arrowcolor": "#2a3f5f",
           "arrowhead": 0,
           "arrowwidth": 1
          },
          "autotypenumbers": "strict",
          "coloraxis": {
           "colorbar": {
            "outlinewidth": 0,
            "ticks": ""
           }
          },
          "colorscale": {
           "diverging": [
            [
             0,
             "#8e0152"
            ],
            [
             0.1,
             "#c51b7d"
            ],
            [
             0.2,
             "#de77ae"
            ],
            [
             0.3,
             "#f1b6da"
            ],
            [
             0.4,
             "#fde0ef"
            ],
            [
             0.5,
             "#f7f7f7"
            ],
            [
             0.6,
             "#e6f5d0"
            ],
            [
             0.7,
             "#b8e186"
            ],
            [
             0.8,
             "#7fbc41"
            ],
            [
             0.9,
             "#4d9221"
            ],
            [
             1,
             "#276419"
            ]
           ],
           "sequential": [
            [
             0,
             "#0d0887"
            ],
            [
             0.1111111111111111,
             "#46039f"
            ],
            [
             0.2222222222222222,
             "#7201a8"
            ],
            [
             0.3333333333333333,
             "#9c179e"
            ],
            [
             0.4444444444444444,
             "#bd3786"
            ],
            [
             0.5555555555555556,
             "#d8576b"
            ],
            [
             0.6666666666666666,
             "#ed7953"
            ],
            [
             0.7777777777777778,
             "#fb9f3a"
            ],
            [
             0.8888888888888888,
             "#fdca26"
            ],
            [
             1,
             "#f0f921"
            ]
           ],
           "sequentialminus": [
            [
             0,
             "#0d0887"
            ],
            [
             0.1111111111111111,
             "#46039f"
            ],
            [
             0.2222222222222222,
             "#7201a8"
            ],
            [
             0.3333333333333333,
             "#9c179e"
            ],
            [
             0.4444444444444444,
             "#bd3786"
            ],
            [
             0.5555555555555556,
             "#d8576b"
            ],
            [
             0.6666666666666666,
             "#ed7953"
            ],
            [
             0.7777777777777778,
             "#fb9f3a"
            ],
            [
             0.8888888888888888,
             "#fdca26"
            ],
            [
             1,
             "#f0f921"
            ]
           ]
          },
          "colorway": [
           "#636efa",
           "#EF553B",
           "#00cc96",
           "#ab63fa",
           "#FFA15A",
           "#19d3f3",
           "#FF6692",
           "#B6E880",
           "#FF97FF",
           "#FECB52"
          ],
          "font": {
           "color": "#2a3f5f"
          },
          "geo": {
           "bgcolor": "white",
           "lakecolor": "white",
           "landcolor": "#E5ECF6",
           "showlakes": true,
           "showland": true,
           "subunitcolor": "white"
          },
          "hoverlabel": {
           "align": "left"
          },
          "hovermode": "closest",
          "mapbox": {
           "style": "light"
          },
          "paper_bgcolor": "white",
          "plot_bgcolor": "#E5ECF6",
          "polar": {
           "angularaxis": {
            "gridcolor": "white",
            "linecolor": "white",
            "ticks": ""
           },
           "bgcolor": "#E5ECF6",
           "radialaxis": {
            "gridcolor": "white",
            "linecolor": "white",
            "ticks": ""
           }
          },
          "scene": {
           "xaxis": {
            "backgroundcolor": "#E5ECF6",
            "gridcolor": "white",
            "gridwidth": 2,
            "linecolor": "white",
            "showbackground": true,
            "ticks": "",
            "zerolinecolor": "white"
           },
           "yaxis": {
            "backgroundcolor": "#E5ECF6",
            "gridcolor": "white",
            "gridwidth": 2,
            "linecolor": "white",
            "showbackground": true,
            "ticks": "",
            "zerolinecolor": "white"
           },
           "zaxis": {
            "backgroundcolor": "#E5ECF6",
            "gridcolor": "white",
            "gridwidth": 2,
            "linecolor": "white",
            "showbackground": true,
            "ticks": "",
            "zerolinecolor": "white"
           }
          },
          "shapedefaults": {
           "line": {
            "color": "#2a3f5f"
           }
          },
          "ternary": {
           "aaxis": {
            "gridcolor": "white",
            "linecolor": "white",
            "ticks": ""
           },
           "baxis": {
            "gridcolor": "white",
            "linecolor": "white",
            "ticks": ""
           },
           "bgcolor": "#E5ECF6",
           "caxis": {
            "gridcolor": "white",
            "linecolor": "white",
            "ticks": ""
           }
          },
          "title": {
           "x": 0.05
          },
          "xaxis": {
           "automargin": true,
           "gridcolor": "white",
           "linecolor": "white",
           "ticks": "",
           "title": {
            "standoff": 15
           },
           "zerolinecolor": "white",
           "zerolinewidth": 2
          },
          "yaxis": {
           "automargin": true,
           "gridcolor": "white",
           "linecolor": "white",
           "ticks": "",
           "title": {
            "standoff": 15
           },
           "zerolinecolor": "white",
           "zerolinewidth": 2
          }
         }
        },
        "title": {
         "text": "Pic for exchange bias after outliers"
        },
        "xaxis": {
         "anchor": "y",
         "domain": [
          0,
          0.45
         ]
        },
        "xaxis2": {
         "anchor": "y2",
         "domain": [
          0.55,
          1
         ]
        },
        "yaxis": {
         "anchor": "x",
         "domain": [
          0,
          1
         ]
        },
        "yaxis2": {
         "anchor": "x2",
         "domain": [
          0,
          1
         ]
        }
       }
      }
     },
     "metadata": {},
     "output_type": "display_data"
    },
    {
     "name": "stdout",
     "output_type": "stream",
     "text": [
      "None\n"
     ]
    }
   ],
   "source": [
    "#Построим график распределения целевой переменной\n",
    "fig = make_subplots(rows=1, cols=2, subplot_titles=['Histogram for exchange bias', 'Violin Plot for exchange bias'])\n",
    "\n",
    "# Histogram\n",
    "hist_fig = px.histogram(df, x=\"exc_bias_oe\", nbins = 60,\n",
    "                 color_discrete_sequence = colors,\n",
    "                 opacity = 0.7)\n",
    "\n",
    "fig.add_trace(hist_fig['data'][0], row=1, col=1) # Adding a graph indicating the location\n",
    "\n",
    "# Violin plot\n",
    "violin_fig = px.violin(df, y=\"exc_bias_oe\", color_discrete_sequence = colors, box = True)\n",
    "fig.add_trace(violin_fig['data'][0], row=1, col=2) # Adding a graph indicating the location\n",
    "\n",
    "# Setting up the layout\n",
    "fig.update_layout(showlegend=False, title_text=\"Pic for exchange bias after outliers\")\n",
    "\n",
    "# Graph display\n",
    "print(display(fig))"
   ]
  },
  {
   "cell_type": "code",
   "execution_count": 608,
   "metadata": {},
   "outputs": [
    {
     "name": "stdout",
     "output_type": "stream",
     "text": [
      "Диапазон значений переменной 'exc_bias_oe': от 0.0 до 1879.0\n"
     ]
    }
   ],
   "source": [
    "exc_bias_min = df['exc_bias_oe'].min()\n",
    "exc_bias_max = df['exc_bias_oe'].max()\n",
    "\n",
    "print(f\"Диапазон значений переменной 'exc_bias_oe': от {exc_bias_min} до {exc_bias_max}\")"
   ]
  },
  {
   "cell_type": "code",
   "execution_count": 609,
   "metadata": {},
   "outputs": [
    {
     "name": "stderr",
     "output_type": "stream",
     "text": [
      "c:\\Users\\Ксения\\AppData\\Local\\Programs\\Python\\Python311\\Lib\\site-packages\\pandas\\core\\arraylike.py:402: RuntimeWarning:\n",
      "\n",
      "divide by zero encountered in log10\n",
      "\n"
     ]
    }
   ],
   "source": [
    "df['exc_bias_oe'] = np.log10(df['exc_bias_oe'])"
   ]
  },
  {
   "cell_type": "code",
   "execution_count": 610,
   "metadata": {},
   "outputs": [
    {
     "data": {
      "application/vnd.plotly.v1+json": {
       "config": {
        "plotlyServerURL": "https://plot.ly"
       },
       "data": [
        {
         "alignmentgroup": "True",
         "bingroup": "x",
         "hovertemplate": "exc_bias_oe=%{x}<br>count=%{y}<extra></extra>",
         "legendgroup": "",
         "marker": {
          "color": "#082040",
          "opacity": 0.7,
          "pattern": {
           "shape": ""
          }
         },
         "name": "",
         "nbinsx": 60,
         "offsetgroup": "",
         "orientation": "v",
         "showlegend": false,
         "type": "histogram",
         "x": [
          3.0538464268522527,
          2.6085260335771943,
          1.7104558643354248,
          2.0341469771060456,
          0.9503648543761211,
          1.1577588860468637,
          0.45178643552429654,
          null,
          2.406540180433955,
          2.4712917110589387,
          2.53655844257153,
          2.8027737252919755,
          null,
          2.359835482339888,
          2.5440680443502757,
          2.7007037171450192,
          2.113943352306837,
          2.136720567156407,
          1.5797835966168101,
          1.863322860120456,
          1.9084850188786497,
          2.037426497940624,
          null,
          null,
          null,
          null,
          null,
          null,
          2.052235941046416,
          2.3555204806915424,
          2.230448921378274,
          2.2282232166754237,
          2.052232090252334,
          1.749581734865559,
          1.954242509439325,
          1.6989700043360187,
          2.1546673776225753,
          2.13738576433397,
          1.8512583487190752,
          2.539551554071117,
          2.978896899829762,
          2.7992702294161647,
          2.715751045492024,
          2.674087812448248,
          2.444513206334043,
          2.267509642342179,
          2.0336850578003767,
          1.8855308331880924,
          2.6434526764861874,
          2.74171872753614,
          2.74171872753614,
          1.9857272771290069,
          3.2581581933407944,
          1.969558479199398,
          1.9139758881416835,
          1.9139758881416835,
          null,
          0.3979400086720376,
          null,
          2.8567288903828825,
          null,
          null,
          2.5171958979499744,
          null,
          null,
          null,
          null,
          2.517763146264199,
          2.161906792067279,
          3.2041199826559246,
          3.2612628687924934,
          3.1760912590556813,
          3.2174839442139063,
          0.9735896234272554,
          1.9278834103307072,
          1.8534548413680667,
          1.8113336641128388,
          0.6989700043360189,
          1.6965747917964733,
          1.6228354795215207,
          0.38381536598042393,
          0.38381536598042393,
          0.38381536598042393,
          0.13193929521043035,
          -0.18144422070219499,
          -0.18111458540599554,
          1.1760912590556813,
          1.7160033436347992,
          1.845098040014257,
          1.3010299956639813,
          3.0862102937182216,
          3.0726174765452368,
          2.5342165443323297,
          null,
          null,
          null,
          -0.9999999999999014,
          2.6020057011245163,
          1.6981005456233897,
          null,
          null,
          -1.3010299956643765,
          -1.3010299956643765,
          1.9997827984541359,
          -1.3010299956643765,
          3.256236533205923,
          2.892806706940048,
          3.009450895798694,
          2.673020907128896,
          2.765668554759014,
          3.0755469613925306,
          2.123851640967086,
          1.3010299956639813,
          3.030002713426877,
          3.2041199826559246,
          3,
          2.146128035678238,
          2.9844823064022625,
          2.9694159123539814,
          2.9373172477624943,
          2.0876891559143087,
          2.707910665713106,
          1.1139433523068367,
          1.8920946026904804,
          2.8129133566428557,
          2.404833716619938,
          2.3979400086720375,
          2.9030899869919438,
          2.7091087670970664,
          3.2587809065412605,
          3.130333768495006,
          2.7007037171450192,
          2.2576785748691846,
          1.8976270912904414,
          2.1738852403687914,
          1.4867137759824849,
          2.6051972673883776,
          3.2736451716933876,
          3.2736451716933876,
          3.2333515276532743,
          null,
          null,
          null,
          null,
          null,
          2.7247672456463103,
          2.9573198968553407,
          2.3961993470957363,
          1.9731278535996986,
          3.125481265700594,
          3.119915410257991,
          2.1172712956557644,
          2.218088902860845,
          3.010723865391773,
          2.0549958615291417,
          2.9542425094393248,
          2.3979400086720375,
          2.9931583695238664,
          2.8305886686851442,
          2.909823369650912,
          2.0939117410493777,
          2.090751689644903,
          2.1720041963091963,
          2.2643927617677173,
          2.3233139904620663,
          2.1683796128527737,
          1.563481085394411,
          1.4222943008935627,
          1.3324384599156054,
          3.035829825252828,
          2.7596678446896306,
          2.436162647040756,
          3.110589710299249,
          2.169556882432185,
          1.1673173347481773,
          2.2487013870703567,
          1.7323937598229686,
          0.8887409606828931,
          1.816638944898462,
          -2.1249387366119885,
          -2.1249387366119885,
          0.04426529991532325,
          0.6875289612146449,
          0.16435285578444792,
          1.0899051114393963,
          1.3979400086720377,
          2.255272505103306,
          2.591064607026499,
          2.278753600952829,
          2.041392685158225,
          2.690196080028514,
          0.6989700043360189,
          0.6989700043360189,
          1.3010299956639813,
          0.7781512503836436,
          null,
          1.536242706838319,
          1.6020599913279623,
          2,
          null,
          2.454680254067009,
          2.6575721076127414,
          null,
          3.2739267801005254,
          2.800510876894368,
          2.6591552809406296,
          1.6776069527204933,
          null,
          null,
          null,
          null,
          null,
          null,
          null,
          null,
          2.4471580313422194,
          2.4771212547196626,
          2.4771212547196626,
          2.4471580313422194,
          1.6532125137753437,
          1.6812412373755872,
          1.380211241711606,
          1.3222192947339193,
          1,
          1.146128035678238,
          0.17609125905568124,
          1.0791812460476249,
          0.47712125471966244,
          0.47712125471966244,
          2.225309281725863,
          2.716003343634799,
          2.800717078282385,
          null,
          null,
          null,
          null,
          null,
          2.9178131352390158,
          null,
          3.132237269620693,
          null,
          null,
          null,
          null,
          null,
          null,
          null,
          null,
          null,
          null,
          null,
          1.3463529744506395,
          1.3811150807098498,
          1.6104365716185107,
          1.7589118923979734,
          1.6102341753343887,
          -0.7695510786218308,
          0.7242758696007853,
          0.009450895798714411,
          1.3424226808222062,
          1.6532125137753437,
          1.6334684555795864,
          1.792391689498254,
          2.3979400086720375,
          2.4913616938342726,
          2.7558748556724915,
          2.2402995820027125,
          2.9552065375419416,
          2.2402995820027125,
          2.9552065375419416,
          1.0358298252528286,
          2.404922618201421,
          1.3392526340327002,
          -0.07058107428569566,
          null,
          1.9344984512435677,
          1.0334237554869479,
          1.0293837776852115,
          1.5096057046115565,
          0.784731378003439,
          0.19711508108728903,
          1.847214712241026,
          1.9326259440217821,
          1.8906445362952478,
          2.0525977633215624,
          1.3536277589855443,
          null,
          1.4771212547196624,
          2.113943352306837,
          2.9283958522567137,
          2.9030899869919438,
          2.8943160626844384,
          2.8573324964312685,
          2.806179973983887,
          2.806179973983887,
          2.681241237375587,
          2.6748611407378116,
          2.779449296757832,
          2.637189422148762,
          2.8349443390529356,
          2.370459423990827,
          1.9622035427755076,
          1.7481880270062005,
          1.779206749951978,
          2.2563472593676415,
          2.7275062843419557,
          2.7626035495668035,
          1.9090744014009045,
          1.8992293722971971,
          2.0558215748270556,
          2.94002812721193,
          3.1702646498072187,
          2.2020521689120605,
          2.6754300334662187,
          1.6989700043360187,
          1.6989700043360187,
          1.6989700043360187,
          1.6989700043360187,
          1.6989700043360187,
          1.6989700043360187,
          null,
          null,
          null,
          null,
          null,
          null,
          null,
          null,
          2.3096301674258988,
          2.404833716619938,
          2.517763146264199,
          2.161906792067279,
          2.130333768495006,
          2.2068258760318495,
          2.155336037465062,
          null,
          null,
          null,
          2.2600713879850747,
          2.100370545117563,
          2.5728716022004803,
          2.8356905714924254,
          2.2600713879850747,
          1.9731278535996986,
          2.496929648073215,
          2.8356905714924254,
          3.1153934766079967,
          3.077604068185621,
          2.8825245379548803,
          2.7041505168397992,
          2.578639209968072,
          2.532117116248804,
          2.252535078993717,
          2.0960161843822505,
          2.2533380053261065,
          1.255272505103306,
          2.0362535155212327,
          1.5486166415072404,
          null,
          null,
          1.146128035678238,
          3.085290578230065,
          null,
          null,
          null,
          null,
          2.9585638832219674,
          2.8615344108590377,
          null,
          null,
          null,
          null,
          null,
          null,
          null,
          null,
          null,
          null,
          null,
          null,
          null,
          null,
          2.0170333392987803,
          2.2624510897304293,
          2.7867514221455614,
          2.8796692056320534,
          2.7664128471123997,
          1.6989700043360187,
          2.006679927740825,
          2.104811345404988,
          2.0071073829740573,
          1.8822398480188234,
          2.0043213737826426,
          1.885926339801431,
          1.7062482516702635,
          1.4075438579770638,
          -0.7011469235901425,
          2.963144879058452,
          2.61062503490967,
          2.2518109306857923,
          1.4014005407815449,
          1.8839451950342796,
          1.4058583993176372,
          1.8836614351536176,
          1.4075438579770618,
          3.0981922402202327,
          3.1697449497651675,
          2.3499958992628565,
          1.1232634759028266,
          1.954242509439325,
          1.6989700043360187,
          2.9206450014067875,
          2.9828137621318627,
          2.448438551238122,
          2.9190780923760737,
          3.0086001717619175,
          3.012837224705172,
          3.0453229787866576,
          3.0453229787866576,
          null,
          null,
          null,
          null,
          2.885926339801431,
          2.4471580313422194,
          2.167317334748176,
          null,
          null,
          null,
          3.047500719678364,
          2.276199769737256,
          2.4781016528157345,
          2.0444613608106645,
          2.4843653345592958,
          2.0077861716900136,
          3.2447099622092566,
          2.9052290395453015,
          2.325939283773433,
          2.1025366068740707,
          2.1089977496193293,
          1.6384892569546374,
          null,
          null,
          null,
          1.704879450830578,
          2.40378175873146,
          2.151590466063974,
          2.2446110650565925,
          2.172121087466758,
          2.2098352556446876,
          3.136566159117522,
          1.7564078725489585,
          null,
          3.1383026981662816,
          3.0511525224473814,
          3.0511525224473814,
          3.070037866607755,
          3,
          3.0211892990699383,
          2.5946687312953243,
          2.3283796034387376,
          2.714329759745233,
          3.1986570869544226,
          2.99563519459755,
          2.1860517905262786,
          1.8800872563019417,
          null,
          1.8858698609039064,
          2.6875673058518506,
          3.2208765798635373,
          3.0865021989703694,
          3.047870396605325,
          3.0126811879800974,
          3.001162352354122,
          2.9825290188656024,
          2.9773211250122693,
          2.863322860120456,
          1.8750612633917,
          2.9138138523837167,
          2.9542425094393248,
          2.81740669419013,
          2.9256441327617435,
          3.012837224705172,
          3.0586157970105616,
          3.1621460398253767
         ],
         "xaxis": "x",
         "yaxis": "y"
        },
        {
         "alignmentgroup": "True",
         "box": {
          "visible": true
         },
         "hovertemplate": "exc_bias_oe=%{y}<extra></extra>",
         "legendgroup": "",
         "marker": {
          "color": "#082040"
         },
         "name": "",
         "offsetgroup": "",
         "orientation": "v",
         "scalegroup": "True",
         "showlegend": false,
         "type": "violin",
         "x0": " ",
         "xaxis": "x2",
         "y": [
          3.0538464268522527,
          2.6085260335771943,
          1.7104558643354248,
          2.0341469771060456,
          0.9503648543761211,
          1.1577588860468637,
          0.45178643552429654,
          null,
          2.406540180433955,
          2.4712917110589387,
          2.53655844257153,
          2.8027737252919755,
          null,
          2.359835482339888,
          2.5440680443502757,
          2.7007037171450192,
          2.113943352306837,
          2.136720567156407,
          1.5797835966168101,
          1.863322860120456,
          1.9084850188786497,
          2.037426497940624,
          null,
          null,
          null,
          null,
          null,
          null,
          2.052235941046416,
          2.3555204806915424,
          2.230448921378274,
          2.2282232166754237,
          2.052232090252334,
          1.749581734865559,
          1.954242509439325,
          1.6989700043360187,
          2.1546673776225753,
          2.13738576433397,
          1.8512583487190752,
          2.539551554071117,
          2.978896899829762,
          2.7992702294161647,
          2.715751045492024,
          2.674087812448248,
          2.444513206334043,
          2.267509642342179,
          2.0336850578003767,
          1.8855308331880924,
          2.6434526764861874,
          2.74171872753614,
          2.74171872753614,
          1.9857272771290069,
          3.2581581933407944,
          1.969558479199398,
          1.9139758881416835,
          1.9139758881416835,
          null,
          0.3979400086720376,
          null,
          2.8567288903828825,
          null,
          null,
          2.5171958979499744,
          null,
          null,
          null,
          null,
          2.517763146264199,
          2.161906792067279,
          3.2041199826559246,
          3.2612628687924934,
          3.1760912590556813,
          3.2174839442139063,
          0.9735896234272554,
          1.9278834103307072,
          1.8534548413680667,
          1.8113336641128388,
          0.6989700043360189,
          1.6965747917964733,
          1.6228354795215207,
          0.38381536598042393,
          0.38381536598042393,
          0.38381536598042393,
          0.13193929521043035,
          -0.18144422070219499,
          -0.18111458540599554,
          1.1760912590556813,
          1.7160033436347992,
          1.845098040014257,
          1.3010299956639813,
          3.0862102937182216,
          3.0726174765452368,
          2.5342165443323297,
          null,
          null,
          null,
          -0.9999999999999014,
          2.6020057011245163,
          1.6981005456233897,
          null,
          null,
          -1.3010299956643765,
          -1.3010299956643765,
          1.9997827984541359,
          -1.3010299956643765,
          3.256236533205923,
          2.892806706940048,
          3.009450895798694,
          2.673020907128896,
          2.765668554759014,
          3.0755469613925306,
          2.123851640967086,
          1.3010299956639813,
          3.030002713426877,
          3.2041199826559246,
          3,
          2.146128035678238,
          2.9844823064022625,
          2.9694159123539814,
          2.9373172477624943,
          2.0876891559143087,
          2.707910665713106,
          1.1139433523068367,
          1.8920946026904804,
          2.8129133566428557,
          2.404833716619938,
          2.3979400086720375,
          2.9030899869919438,
          2.7091087670970664,
          3.2587809065412605,
          3.130333768495006,
          2.7007037171450192,
          2.2576785748691846,
          1.8976270912904414,
          2.1738852403687914,
          1.4867137759824849,
          2.6051972673883776,
          3.2736451716933876,
          3.2736451716933876,
          3.2333515276532743,
          null,
          null,
          null,
          null,
          null,
          2.7247672456463103,
          2.9573198968553407,
          2.3961993470957363,
          1.9731278535996986,
          3.125481265700594,
          3.119915410257991,
          2.1172712956557644,
          2.218088902860845,
          3.010723865391773,
          2.0549958615291417,
          2.9542425094393248,
          2.3979400086720375,
          2.9931583695238664,
          2.8305886686851442,
          2.909823369650912,
          2.0939117410493777,
          2.090751689644903,
          2.1720041963091963,
          2.2643927617677173,
          2.3233139904620663,
          2.1683796128527737,
          1.563481085394411,
          1.4222943008935627,
          1.3324384599156054,
          3.035829825252828,
          2.7596678446896306,
          2.436162647040756,
          3.110589710299249,
          2.169556882432185,
          1.1673173347481773,
          2.2487013870703567,
          1.7323937598229686,
          0.8887409606828931,
          1.816638944898462,
          -2.1249387366119885,
          -2.1249387366119885,
          0.04426529991532325,
          0.6875289612146449,
          0.16435285578444792,
          1.0899051114393963,
          1.3979400086720377,
          2.255272505103306,
          2.591064607026499,
          2.278753600952829,
          2.041392685158225,
          2.690196080028514,
          0.6989700043360189,
          0.6989700043360189,
          1.3010299956639813,
          0.7781512503836436,
          null,
          1.536242706838319,
          1.6020599913279623,
          2,
          null,
          2.454680254067009,
          2.6575721076127414,
          null,
          3.2739267801005254,
          2.800510876894368,
          2.6591552809406296,
          1.6776069527204933,
          null,
          null,
          null,
          null,
          null,
          null,
          null,
          null,
          2.4471580313422194,
          2.4771212547196626,
          2.4771212547196626,
          2.4471580313422194,
          1.6532125137753437,
          1.6812412373755872,
          1.380211241711606,
          1.3222192947339193,
          1,
          1.146128035678238,
          0.17609125905568124,
          1.0791812460476249,
          0.47712125471966244,
          0.47712125471966244,
          2.225309281725863,
          2.716003343634799,
          2.800717078282385,
          null,
          null,
          null,
          null,
          null,
          2.9178131352390158,
          null,
          3.132237269620693,
          null,
          null,
          null,
          null,
          null,
          null,
          null,
          null,
          null,
          null,
          null,
          1.3463529744506395,
          1.3811150807098498,
          1.6104365716185107,
          1.7589118923979734,
          1.6102341753343887,
          -0.7695510786218308,
          0.7242758696007853,
          0.009450895798714411,
          1.3424226808222062,
          1.6532125137753437,
          1.6334684555795864,
          1.792391689498254,
          2.3979400086720375,
          2.4913616938342726,
          2.7558748556724915,
          2.2402995820027125,
          2.9552065375419416,
          2.2402995820027125,
          2.9552065375419416,
          1.0358298252528286,
          2.404922618201421,
          1.3392526340327002,
          -0.07058107428569566,
          null,
          1.9344984512435677,
          1.0334237554869479,
          1.0293837776852115,
          1.5096057046115565,
          0.784731378003439,
          0.19711508108728903,
          1.847214712241026,
          1.9326259440217821,
          1.8906445362952478,
          2.0525977633215624,
          1.3536277589855443,
          null,
          1.4771212547196624,
          2.113943352306837,
          2.9283958522567137,
          2.9030899869919438,
          2.8943160626844384,
          2.8573324964312685,
          2.806179973983887,
          2.806179973983887,
          2.681241237375587,
          2.6748611407378116,
          2.779449296757832,
          2.637189422148762,
          2.8349443390529356,
          2.370459423990827,
          1.9622035427755076,
          1.7481880270062005,
          1.779206749951978,
          2.2563472593676415,
          2.7275062843419557,
          2.7626035495668035,
          1.9090744014009045,
          1.8992293722971971,
          2.0558215748270556,
          2.94002812721193,
          3.1702646498072187,
          2.2020521689120605,
          2.6754300334662187,
          1.6989700043360187,
          1.6989700043360187,
          1.6989700043360187,
          1.6989700043360187,
          1.6989700043360187,
          1.6989700043360187,
          null,
          null,
          null,
          null,
          null,
          null,
          null,
          null,
          2.3096301674258988,
          2.404833716619938,
          2.517763146264199,
          2.161906792067279,
          2.130333768495006,
          2.2068258760318495,
          2.155336037465062,
          null,
          null,
          null,
          2.2600713879850747,
          2.100370545117563,
          2.5728716022004803,
          2.8356905714924254,
          2.2600713879850747,
          1.9731278535996986,
          2.496929648073215,
          2.8356905714924254,
          3.1153934766079967,
          3.077604068185621,
          2.8825245379548803,
          2.7041505168397992,
          2.578639209968072,
          2.532117116248804,
          2.252535078993717,
          2.0960161843822505,
          2.2533380053261065,
          1.255272505103306,
          2.0362535155212327,
          1.5486166415072404,
          null,
          null,
          1.146128035678238,
          3.085290578230065,
          null,
          null,
          null,
          null,
          2.9585638832219674,
          2.8615344108590377,
          null,
          null,
          null,
          null,
          null,
          null,
          null,
          null,
          null,
          null,
          null,
          null,
          null,
          null,
          2.0170333392987803,
          2.2624510897304293,
          2.7867514221455614,
          2.8796692056320534,
          2.7664128471123997,
          1.6989700043360187,
          2.006679927740825,
          2.104811345404988,
          2.0071073829740573,
          1.8822398480188234,
          2.0043213737826426,
          1.885926339801431,
          1.7062482516702635,
          1.4075438579770638,
          -0.7011469235901425,
          2.963144879058452,
          2.61062503490967,
          2.2518109306857923,
          1.4014005407815449,
          1.8839451950342796,
          1.4058583993176372,
          1.8836614351536176,
          1.4075438579770618,
          3.0981922402202327,
          3.1697449497651675,
          2.3499958992628565,
          1.1232634759028266,
          1.954242509439325,
          1.6989700043360187,
          2.9206450014067875,
          2.9828137621318627,
          2.448438551238122,
          2.9190780923760737,
          3.0086001717619175,
          3.012837224705172,
          3.0453229787866576,
          3.0453229787866576,
          null,
          null,
          null,
          null,
          2.885926339801431,
          2.4471580313422194,
          2.167317334748176,
          null,
          null,
          null,
          3.047500719678364,
          2.276199769737256,
          2.4781016528157345,
          2.0444613608106645,
          2.4843653345592958,
          2.0077861716900136,
          3.2447099622092566,
          2.9052290395453015,
          2.325939283773433,
          2.1025366068740707,
          2.1089977496193293,
          1.6384892569546374,
          null,
          null,
          null,
          1.704879450830578,
          2.40378175873146,
          2.151590466063974,
          2.2446110650565925,
          2.172121087466758,
          2.2098352556446876,
          3.136566159117522,
          1.7564078725489585,
          null,
          3.1383026981662816,
          3.0511525224473814,
          3.0511525224473814,
          3.070037866607755,
          3,
          3.0211892990699383,
          2.5946687312953243,
          2.3283796034387376,
          2.714329759745233,
          3.1986570869544226,
          2.99563519459755,
          2.1860517905262786,
          1.8800872563019417,
          null,
          1.8858698609039064,
          2.6875673058518506,
          3.2208765798635373,
          3.0865021989703694,
          3.047870396605325,
          3.0126811879800974,
          3.001162352354122,
          2.9825290188656024,
          2.9773211250122693,
          2.863322860120456,
          1.8750612633917,
          2.9138138523837167,
          2.9542425094393248,
          2.81740669419013,
          2.9256441327617435,
          3.012837224705172,
          3.0586157970105616,
          3.1621460398253767
         ],
         "y0": " ",
         "yaxis": "y2"
        }
       ],
       "layout": {
        "annotations": [
         {
          "font": {
           "size": 16
          },
          "showarrow": false,
          "text": "Histogram for exchange bias",
          "x": 0.225,
          "xanchor": "center",
          "xref": "paper",
          "y": 1,
          "yanchor": "bottom",
          "yref": "paper"
         },
         {
          "font": {
           "size": 16
          },
          "showarrow": false,
          "text": "Violin Plot for exchange bias",
          "x": 0.775,
          "xanchor": "center",
          "xref": "paper",
          "y": 1,
          "yanchor": "bottom",
          "yref": "paper"
         }
        ],
        "showlegend": false,
        "template": {
         "data": {
          "bar": [
           {
            "error_x": {
             "color": "#2a3f5f"
            },
            "error_y": {
             "color": "#2a3f5f"
            },
            "marker": {
             "line": {
              "color": "#E5ECF6",
              "width": 0.5
             },
             "pattern": {
              "fillmode": "overlay",
              "size": 10,
              "solidity": 0.2
             }
            },
            "type": "bar"
           }
          ],
          "barpolar": [
           {
            "marker": {
             "line": {
              "color": "#E5ECF6",
              "width": 0.5
             },
             "pattern": {
              "fillmode": "overlay",
              "size": 10,
              "solidity": 0.2
             }
            },
            "type": "barpolar"
           }
          ],
          "carpet": [
           {
            "aaxis": {
             "endlinecolor": "#2a3f5f",
             "gridcolor": "white",
             "linecolor": "white",
             "minorgridcolor": "white",
             "startlinecolor": "#2a3f5f"
            },
            "baxis": {
             "endlinecolor": "#2a3f5f",
             "gridcolor": "white",
             "linecolor": "white",
             "minorgridcolor": "white",
             "startlinecolor": "#2a3f5f"
            },
            "type": "carpet"
           }
          ],
          "choropleth": [
           {
            "colorbar": {
             "outlinewidth": 0,
             "ticks": ""
            },
            "type": "choropleth"
           }
          ],
          "contour": [
           {
            "colorbar": {
             "outlinewidth": 0,
             "ticks": ""
            },
            "colorscale": [
             [
              0,
              "#0d0887"
             ],
             [
              0.1111111111111111,
              "#46039f"
             ],
             [
              0.2222222222222222,
              "#7201a8"
             ],
             [
              0.3333333333333333,
              "#9c179e"
             ],
             [
              0.4444444444444444,
              "#bd3786"
             ],
             [
              0.5555555555555556,
              "#d8576b"
             ],
             [
              0.6666666666666666,
              "#ed7953"
             ],
             [
              0.7777777777777778,
              "#fb9f3a"
             ],
             [
              0.8888888888888888,
              "#fdca26"
             ],
             [
              1,
              "#f0f921"
             ]
            ],
            "type": "contour"
           }
          ],
          "contourcarpet": [
           {
            "colorbar": {
             "outlinewidth": 0,
             "ticks": ""
            },
            "type": "contourcarpet"
           }
          ],
          "heatmap": [
           {
            "colorbar": {
             "outlinewidth": 0,
             "ticks": ""
            },
            "colorscale": [
             [
              0,
              "#0d0887"
             ],
             [
              0.1111111111111111,
              "#46039f"
             ],
             [
              0.2222222222222222,
              "#7201a8"
             ],
             [
              0.3333333333333333,
              "#9c179e"
             ],
             [
              0.4444444444444444,
              "#bd3786"
             ],
             [
              0.5555555555555556,
              "#d8576b"
             ],
             [
              0.6666666666666666,
              "#ed7953"
             ],
             [
              0.7777777777777778,
              "#fb9f3a"
             ],
             [
              0.8888888888888888,
              "#fdca26"
             ],
             [
              1,
              "#f0f921"
             ]
            ],
            "type": "heatmap"
           }
          ],
          "heatmapgl": [
           {
            "colorbar": {
             "outlinewidth": 0,
             "ticks": ""
            },
            "colorscale": [
             [
              0,
              "#0d0887"
             ],
             [
              0.1111111111111111,
              "#46039f"
             ],
             [
              0.2222222222222222,
              "#7201a8"
             ],
             [
              0.3333333333333333,
              "#9c179e"
             ],
             [
              0.4444444444444444,
              "#bd3786"
             ],
             [
              0.5555555555555556,
              "#d8576b"
             ],
             [
              0.6666666666666666,
              "#ed7953"
             ],
             [
              0.7777777777777778,
              "#fb9f3a"
             ],
             [
              0.8888888888888888,
              "#fdca26"
             ],
             [
              1,
              "#f0f921"
             ]
            ],
            "type": "heatmapgl"
           }
          ],
          "histogram": [
           {
            "marker": {
             "pattern": {
              "fillmode": "overlay",
              "size": 10,
              "solidity": 0.2
             }
            },
            "type": "histogram"
           }
          ],
          "histogram2d": [
           {
            "colorbar": {
             "outlinewidth": 0,
             "ticks": ""
            },
            "colorscale": [
             [
              0,
              "#0d0887"
             ],
             [
              0.1111111111111111,
              "#46039f"
             ],
             [
              0.2222222222222222,
              "#7201a8"
             ],
             [
              0.3333333333333333,
              "#9c179e"
             ],
             [
              0.4444444444444444,
              "#bd3786"
             ],
             [
              0.5555555555555556,
              "#d8576b"
             ],
             [
              0.6666666666666666,
              "#ed7953"
             ],
             [
              0.7777777777777778,
              "#fb9f3a"
             ],
             [
              0.8888888888888888,
              "#fdca26"
             ],
             [
              1,
              "#f0f921"
             ]
            ],
            "type": "histogram2d"
           }
          ],
          "histogram2dcontour": [
           {
            "colorbar": {
             "outlinewidth": 0,
             "ticks": ""
            },
            "colorscale": [
             [
              0,
              "#0d0887"
             ],
             [
              0.1111111111111111,
              "#46039f"
             ],
             [
              0.2222222222222222,
              "#7201a8"
             ],
             [
              0.3333333333333333,
              "#9c179e"
             ],
             [
              0.4444444444444444,
              "#bd3786"
             ],
             [
              0.5555555555555556,
              "#d8576b"
             ],
             [
              0.6666666666666666,
              "#ed7953"
             ],
             [
              0.7777777777777778,
              "#fb9f3a"
             ],
             [
              0.8888888888888888,
              "#fdca26"
             ],
             [
              1,
              "#f0f921"
             ]
            ],
            "type": "histogram2dcontour"
           }
          ],
          "mesh3d": [
           {
            "colorbar": {
             "outlinewidth": 0,
             "ticks": ""
            },
            "type": "mesh3d"
           }
          ],
          "parcoords": [
           {
            "line": {
             "colorbar": {
              "outlinewidth": 0,
              "ticks": ""
             }
            },
            "type": "parcoords"
           }
          ],
          "pie": [
           {
            "automargin": true,
            "type": "pie"
           }
          ],
          "scatter": [
           {
            "fillpattern": {
             "fillmode": "overlay",
             "size": 10,
             "solidity": 0.2
            },
            "type": "scatter"
           }
          ],
          "scatter3d": [
           {
            "line": {
             "colorbar": {
              "outlinewidth": 0,
              "ticks": ""
             }
            },
            "marker": {
             "colorbar": {
              "outlinewidth": 0,
              "ticks": ""
             }
            },
            "type": "scatter3d"
           }
          ],
          "scattercarpet": [
           {
            "marker": {
             "colorbar": {
              "outlinewidth": 0,
              "ticks": ""
             }
            },
            "type": "scattercarpet"
           }
          ],
          "scattergeo": [
           {
            "marker": {
             "colorbar": {
              "outlinewidth": 0,
              "ticks": ""
             }
            },
            "type": "scattergeo"
           }
          ],
          "scattergl": [
           {
            "marker": {
             "colorbar": {
              "outlinewidth": 0,
              "ticks": ""
             }
            },
            "type": "scattergl"
           }
          ],
          "scattermapbox": [
           {
            "marker": {
             "colorbar": {
              "outlinewidth": 0,
              "ticks": ""
             }
            },
            "type": "scattermapbox"
           }
          ],
          "scatterpolar": [
           {
            "marker": {
             "colorbar": {
              "outlinewidth": 0,
              "ticks": ""
             }
            },
            "type": "scatterpolar"
           }
          ],
          "scatterpolargl": [
           {
            "marker": {
             "colorbar": {
              "outlinewidth": 0,
              "ticks": ""
             }
            },
            "type": "scatterpolargl"
           }
          ],
          "scatterternary": [
           {
            "marker": {
             "colorbar": {
              "outlinewidth": 0,
              "ticks": ""
             }
            },
            "type": "scatterternary"
           }
          ],
          "surface": [
           {
            "colorbar": {
             "outlinewidth": 0,
             "ticks": ""
            },
            "colorscale": [
             [
              0,
              "#0d0887"
             ],
             [
              0.1111111111111111,
              "#46039f"
             ],
             [
              0.2222222222222222,
              "#7201a8"
             ],
             [
              0.3333333333333333,
              "#9c179e"
             ],
             [
              0.4444444444444444,
              "#bd3786"
             ],
             [
              0.5555555555555556,
              "#d8576b"
             ],
             [
              0.6666666666666666,
              "#ed7953"
             ],
             [
              0.7777777777777778,
              "#fb9f3a"
             ],
             [
              0.8888888888888888,
              "#fdca26"
             ],
             [
              1,
              "#f0f921"
             ]
            ],
            "type": "surface"
           }
          ],
          "table": [
           {
            "cells": {
             "fill": {
              "color": "#EBF0F8"
             },
             "line": {
              "color": "white"
             }
            },
            "header": {
             "fill": {
              "color": "#C8D4E3"
             },
             "line": {
              "color": "white"
             }
            },
            "type": "table"
           }
          ]
         },
         "layout": {
          "annotationdefaults": {
           "arrowcolor": "#2a3f5f",
           "arrowhead": 0,
           "arrowwidth": 1
          },
          "autotypenumbers": "strict",
          "coloraxis": {
           "colorbar": {
            "outlinewidth": 0,
            "ticks": ""
           }
          },
          "colorscale": {
           "diverging": [
            [
             0,
             "#8e0152"
            ],
            [
             0.1,
             "#c51b7d"
            ],
            [
             0.2,
             "#de77ae"
            ],
            [
             0.3,
             "#f1b6da"
            ],
            [
             0.4,
             "#fde0ef"
            ],
            [
             0.5,
             "#f7f7f7"
            ],
            [
             0.6,
             "#e6f5d0"
            ],
            [
             0.7,
             "#b8e186"
            ],
            [
             0.8,
             "#7fbc41"
            ],
            [
             0.9,
             "#4d9221"
            ],
            [
             1,
             "#276419"
            ]
           ],
           "sequential": [
            [
             0,
             "#0d0887"
            ],
            [
             0.1111111111111111,
             "#46039f"
            ],
            [
             0.2222222222222222,
             "#7201a8"
            ],
            [
             0.3333333333333333,
             "#9c179e"
            ],
            [
             0.4444444444444444,
             "#bd3786"
            ],
            [
             0.5555555555555556,
             "#d8576b"
            ],
            [
             0.6666666666666666,
             "#ed7953"
            ],
            [
             0.7777777777777778,
             "#fb9f3a"
            ],
            [
             0.8888888888888888,
             "#fdca26"
            ],
            [
             1,
             "#f0f921"
            ]
           ],
           "sequentialminus": [
            [
             0,
             "#0d0887"
            ],
            [
             0.1111111111111111,
             "#46039f"
            ],
            [
             0.2222222222222222,
             "#7201a8"
            ],
            [
             0.3333333333333333,
             "#9c179e"
            ],
            [
             0.4444444444444444,
             "#bd3786"
            ],
            [
             0.5555555555555556,
             "#d8576b"
            ],
            [
             0.6666666666666666,
             "#ed7953"
            ],
            [
             0.7777777777777778,
             "#fb9f3a"
            ],
            [
             0.8888888888888888,
             "#fdca26"
            ],
            [
             1,
             "#f0f921"
            ]
           ]
          },
          "colorway": [
           "#636efa",
           "#EF553B",
           "#00cc96",
           "#ab63fa",
           "#FFA15A",
           "#19d3f3",
           "#FF6692",
           "#B6E880",
           "#FF97FF",
           "#FECB52"
          ],
          "font": {
           "color": "#2a3f5f"
          },
          "geo": {
           "bgcolor": "white",
           "lakecolor": "white",
           "landcolor": "#E5ECF6",
           "showlakes": true,
           "showland": true,
           "subunitcolor": "white"
          },
          "hoverlabel": {
           "align": "left"
          },
          "hovermode": "closest",
          "mapbox": {
           "style": "light"
          },
          "paper_bgcolor": "white",
          "plot_bgcolor": "#E5ECF6",
          "polar": {
           "angularaxis": {
            "gridcolor": "white",
            "linecolor": "white",
            "ticks": ""
           },
           "bgcolor": "#E5ECF6",
           "radialaxis": {
            "gridcolor": "white",
            "linecolor": "white",
            "ticks": ""
           }
          },
          "scene": {
           "xaxis": {
            "backgroundcolor": "#E5ECF6",
            "gridcolor": "white",
            "gridwidth": 2,
            "linecolor": "white",
            "showbackground": true,
            "ticks": "",
            "zerolinecolor": "white"
           },
           "yaxis": {
            "backgroundcolor": "#E5ECF6",
            "gridcolor": "white",
            "gridwidth": 2,
            "linecolor": "white",
            "showbackground": true,
            "ticks": "",
            "zerolinecolor": "white"
           },
           "zaxis": {
            "backgroundcolor": "#E5ECF6",
            "gridcolor": "white",
            "gridwidth": 2,
            "linecolor": "white",
            "showbackground": true,
            "ticks": "",
            "zerolinecolor": "white"
           }
          },
          "shapedefaults": {
           "line": {
            "color": "#2a3f5f"
           }
          },
          "ternary": {
           "aaxis": {
            "gridcolor": "white",
            "linecolor": "white",
            "ticks": ""
           },
           "baxis": {
            "gridcolor": "white",
            "linecolor": "white",
            "ticks": ""
           },
           "bgcolor": "#E5ECF6",
           "caxis": {
            "gridcolor": "white",
            "linecolor": "white",
            "ticks": ""
           }
          },
          "title": {
           "x": 0.05
          },
          "xaxis": {
           "automargin": true,
           "gridcolor": "white",
           "linecolor": "white",
           "ticks": "",
           "title": {
            "standoff": 15
           },
           "zerolinecolor": "white",
           "zerolinewidth": 2
          },
          "yaxis": {
           "automargin": true,
           "gridcolor": "white",
           "linecolor": "white",
           "ticks": "",
           "title": {
            "standoff": 15
           },
           "zerolinecolor": "white",
           "zerolinewidth": 2
          }
         }
        },
        "title": {
         "text": "Pic for exchange bias after outliers"
        },
        "xaxis": {
         "anchor": "y",
         "domain": [
          0,
          0.45
         ]
        },
        "xaxis2": {
         "anchor": "y2",
         "domain": [
          0.55,
          1
         ]
        },
        "yaxis": {
         "anchor": "x",
         "domain": [
          0,
          1
         ]
        },
        "yaxis2": {
         "anchor": "x2",
         "domain": [
          0,
          1
         ]
        }
       }
      }
     },
     "metadata": {},
     "output_type": "display_data"
    },
    {
     "name": "stdout",
     "output_type": "stream",
     "text": [
      "None\n"
     ]
    }
   ],
   "source": [
    "#Построим график распределения целевой переменной\n",
    "fig = make_subplots(rows=1, cols=2, subplot_titles=['Histogram for exchange bias', 'Violin Plot for exchange bias'])\n",
    "\n",
    "# Histogram\n",
    "hist_fig = px.histogram(df, x=\"exc_bias_oe\", nbins = 60,\n",
    "                 color_discrete_sequence = colors,\n",
    "                 opacity = 0.7)\n",
    "\n",
    "fig.add_trace(hist_fig['data'][0], row=1, col=1) # Adding a graph indicating the location\n",
    "\n",
    "# Violin plot\n",
    "violin_fig = px.violin(df, y=\"exc_bias_oe\", color_discrete_sequence = colors, box = True)\n",
    "fig.add_trace(violin_fig['data'][0], row=1, col=2) # Adding a graph indicating the location\n",
    "\n",
    "# Setting up the layout\n",
    "fig.update_layout(showlegend=False, title_text=\"Pic for exchange bias after outliers\")\n",
    "\n",
    "# Graph display\n",
    "print(display(fig))"
   ]
  },
  {
   "cell_type": "code",
   "execution_count": 611,
   "metadata": {},
   "outputs": [
    {
     "name": "stdout",
     "output_type": "stream",
     "text": [
      "Диапазон значений переменной 'exc_bias_oe': от -inf до 3.2739267801005254\n"
     ]
    }
   ],
   "source": [
    "exc_bias_min = df['exc_bias_oe'].min()\n",
    "exc_bias_max = df['exc_bias_oe'].max()\n",
    "\n",
    "print(f\"Диапазон значений переменной 'exc_bias_oe': от {exc_bias_min} до {exc_bias_max}\")"
   ]
  },
  {
   "cell_type": "code",
   "execution_count": 612,
   "metadata": {},
   "outputs": [],
   "source": [
    "exc_bias_oe = df['exc_bias_oe']\n",
    "id = df['id']"
   ]
  },
  {
   "cell_type": "code",
   "execution_count": 613,
   "metadata": {},
   "outputs": [
    {
     "name": "stdout",
     "output_type": "stream",
     "text": [
      "<class 'pandas.core.frame.DataFrame'>\n",
      "Int64Index: 485 entries, 0 to 531\n",
      "Data columns (total 17 columns):\n",
      " #   Column             Non-Null Count  Dtype  \n",
      "---  ------             --------------  -----  \n",
      " 0   id                 485 non-null    int64  \n",
      " 1   space_group_shell  485 non-null    int64  \n",
      " 2   coer_oe            485 non-null    float64\n",
      " 3   exc_bias_oe        485 non-null    float64\n",
      " 4   fc_field_t         485 non-null    float64\n",
      " 5   h_range_max_koe    485 non-null    float64\n",
      " 6   mr (emu/g)         485 non-null    float64\n",
      " 7   sat_em_g           485 non-null    float64\n",
      " 8   shape              485 non-null    float64\n",
      " 9   space_group_core   485 non-null    float64\n",
      " 10  temperature_k      485 non-null    float64\n",
      " 11  ver_shift_emu_g    485 non-null    float64\n",
      " 12  sphericity         485 non-null    float64\n",
      " 13  max/min            485 non-null    int64  \n",
      " 14  exc_dir            485 non-null    int64  \n",
      " 15  ver_s_dir          485 non-null    int64  \n",
      " 16  area/volume        485 non-null    float64\n",
      "dtypes: float64(12), int64(5)\n",
      "memory usage: 68.2 KB\n"
     ]
    }
   ],
   "source": [
    "df.info()"
   ]
  },
  {
   "cell_type": "code",
   "execution_count": 614,
   "metadata": {},
   "outputs": [
    {
     "name": "stdout",
     "output_type": "stream",
     "text": [
      "DataFrame содержит значения 'inf'\n"
     ]
    }
   ],
   "source": [
    "# Проверить наличие значений \"inf\" в DataFrame\n",
    "has_inf = df.isin([np.inf, -np.inf]).any().any()\n",
    "\n",
    "if has_inf:\n",
    "    print(\"DataFrame содержит значения 'inf'\")\n",
    "else:\n",
    "    print(\"DataFrame не содержит значения 'inf'\")"
   ]
  },
  {
   "cell_type": "code",
   "execution_count": 615,
   "metadata": {},
   "outputs": [
    {
     "name": "stdout",
     "output_type": "stream",
     "text": [
      "Количество значений 'inf' в каждом столбце:\n",
      "id                    0\n",
      "space_group_shell     0\n",
      "coer_oe               0\n",
      "exc_bias_oe          99\n",
      "fc_field_t            0\n",
      "h_range_max_koe       0\n",
      "mr (emu/g)            0\n",
      "sat_em_g              0\n",
      "shape                 0\n",
      "space_group_core      0\n",
      "temperature_k         0\n",
      "ver_shift_emu_g       0\n",
      "sphericity            0\n",
      "max/min               0\n",
      "exc_dir               0\n",
      "ver_s_dir             0\n",
      "area/volume           0\n",
      "dtype: int64\n"
     ]
    }
   ],
   "source": [
    "# Найти количество значений \"inf\" в каждом столбце DataFrame\n",
    "inf_count_per_column = df.isin([np.inf, -np.inf]).sum()\n",
    "\n",
    "# Вывести количество значений \"inf\" в каждом столбце\n",
    "print(\"Количество значений 'inf' в каждом столбце:\")\n",
    "print(inf_count_per_column)"
   ]
  },
  {
   "cell_type": "code",
   "execution_count": 616,
   "metadata": {},
   "outputs": [],
   "source": [
    "# Найти среднее значение столбца 'exc_bias_oe', исключив значения '-inf'\n",
    "mean_exc_bias_oe = df.loc[df['exc_bias_oe'] != -np.inf, 'exc_bias_oe'].mean()\n",
    "\n",
    "# Заменить значения '-inf' в столбце 'exc_bias_oe' на среднее значение, только если значение не равно '-inf'\n",
    "df.loc[df['exc_bias_oe'] == -np.inf, 'exc_bias_oe'] = mean_exc_bias_oe"
   ]
  },
  {
   "cell_type": "code",
   "execution_count": 617,
   "metadata": {},
   "outputs": [
    {
     "name": "stdout",
     "output_type": "stream",
     "text": [
      "2.12899804089295\n"
     ]
    }
   ],
   "source": [
    "print(mean_exc_bias_oe)"
   ]
  },
  {
   "cell_type": "code",
   "execution_count": 618,
   "metadata": {},
   "outputs": [
    {
     "name": "stdout",
     "output_type": "stream",
     "text": [
      "Количество значений 'inf' в каждом столбце:\n",
      "id                   0\n",
      "space_group_shell    0\n",
      "coer_oe              0\n",
      "exc_bias_oe          0\n",
      "fc_field_t           0\n",
      "h_range_max_koe      0\n",
      "mr (emu/g)           0\n",
      "sat_em_g             0\n",
      "shape                0\n",
      "space_group_core     0\n",
      "temperature_k        0\n",
      "ver_shift_emu_g      0\n",
      "sphericity           0\n",
      "max/min              0\n",
      "exc_dir              0\n",
      "ver_s_dir            0\n",
      "area/volume          0\n",
      "dtype: int64\n"
     ]
    }
   ],
   "source": [
    "# Найти количество значений \"inf\" в каждом столбце DataFrame\n",
    "inf_count_per_column = df.isin([np.inf, -np.inf]).sum()\n",
    "\n",
    "# Вывести количество значений \"inf\" в каждом столбце\n",
    "print(\"Количество значений 'inf' в каждом столбце:\")\n",
    "print(inf_count_per_column)"
   ]
  },
  {
   "cell_type": "code",
   "execution_count": 619,
   "metadata": {},
   "outputs": [
    {
     "name": "stdout",
     "output_type": "stream",
     "text": [
      "<class 'pandas.core.frame.DataFrame'>\n",
      "Int64Index: 485 entries, 0 to 531\n",
      "Data columns (total 17 columns):\n",
      " #   Column             Non-Null Count  Dtype  \n",
      "---  ------             --------------  -----  \n",
      " 0   id                 485 non-null    int64  \n",
      " 1   space_group_shell  485 non-null    int64  \n",
      " 2   coer_oe            485 non-null    float64\n",
      " 3   exc_bias_oe        485 non-null    float64\n",
      " 4   fc_field_t         485 non-null    float64\n",
      " 5   h_range_max_koe    485 non-null    float64\n",
      " 6   mr (emu/g)         485 non-null    float64\n",
      " 7   sat_em_g           485 non-null    float64\n",
      " 8   shape              485 non-null    float64\n",
      " 9   space_group_core   485 non-null    float64\n",
      " 10  temperature_k      485 non-null    float64\n",
      " 11  ver_shift_emu_g    485 non-null    float64\n",
      " 12  sphericity         485 non-null    float64\n",
      " 13  max/min            485 non-null    int64  \n",
      " 14  exc_dir            485 non-null    int64  \n",
      " 15  ver_s_dir          485 non-null    int64  \n",
      " 16  area/volume        485 non-null    float64\n",
      "dtypes: float64(12), int64(5)\n",
      "memory usage: 68.2 KB\n",
      "None\n"
     ]
    }
   ],
   "source": [
    "print(df.info())"
   ]
  },
  {
   "cell_type": "code",
   "execution_count": 620,
   "metadata": {},
   "outputs": [
    {
     "name": "stdout",
     "output_type": "stream",
     "text": [
      "           id  space_group_shell   coer_oe  exc_bias_oe  fc_field_t  \\\n",
      "0    0.000000           0.991266  1.000000     3.053846    0.071429   \n",
      "1    0.001883           0.991266  0.280576     2.608526    0.071429   \n",
      "2    0.003766           0.000000  0.000892     1.710456    0.000000   \n",
      "3    0.005650           0.000000  0.003245     2.034147    0.000000   \n",
      "4    0.007533           0.000000  0.001441     0.950365    0.000000   \n",
      "..        ...                ...       ...          ...         ...   \n",
      "480  0.992467           0.982533  0.038948         -inf    0.014286   \n",
      "481  0.994350           0.982533  0.041184         -inf    0.028571   \n",
      "482  0.996234           0.982533  0.045324     1.704879    0.042857   \n",
      "483  0.998117           0.982533  0.047572     2.403782    0.057143   \n",
      "484  1.000000           0.982533  0.052252     2.151590    0.071429   \n",
      "\n",
      "     h_range_max_koe  mr (emu/g)  sat_em_g  shape  space_group_core  \\\n",
      "0           0.555061    0.055521  0.135607    0.0          0.811404   \n",
      "1           0.555061    0.174481  0.216184    0.0          0.982456   \n",
      "2           0.110122    0.000031  0.005948    0.0          0.991228   \n",
      "3           0.110122    0.000088  0.006312    0.0          0.991228   \n",
      "4           0.110122    0.001411  0.041989    0.0          0.991228   \n",
      "..               ...         ...       ...    ...               ...   \n",
      "480         0.666296    0.000583  0.003932    0.0          0.267544   \n",
      "481         0.666296    0.000627  0.004219    0.0          0.267544   \n",
      "482         0.666296    0.000625  0.004284    0.0          0.267544   \n",
      "483         0.666296    0.000669  0.004302    0.0          0.267544   \n",
      "484         0.666296    0.000667  0.004353    0.0          0.267544   \n",
      "\n",
      "     temperature_k  ver_shift_emu_g  sphericity  max/min  exc_dir  ver_s_dir  \\\n",
      "0         0.008621         0.000000    0.594388      1.0      0.0        1.0   \n",
      "1         0.008621         0.000000    0.594388      1.0      0.0        1.0   \n",
      "2         0.856322         0.000000    0.594388      1.0      1.0        1.0   \n",
      "3         0.856322         0.000000    0.594388      1.0      1.0        1.0   \n",
      "4         0.856322         0.000000    0.594388      1.0      1.0        1.0   \n",
      "..             ...              ...         ...      ...      ...        ...   \n",
      "480       0.008621         0.000343    0.594388      1.0      0.0        1.0   \n",
      "481       0.008621         0.000715    0.594388      1.0      0.0        1.0   \n",
      "482       0.008621         0.000788    0.594388      1.0      0.0        1.0   \n",
      "483       0.008621         0.000966    0.594388      1.0      0.0        1.0   \n",
      "484       0.008621         0.000953    0.594388      1.0      0.0        1.0   \n",
      "\n",
      "     area/volume  \n",
      "0       0.268441  \n",
      "1       0.283924  \n",
      "2       0.115436  \n",
      "3       0.179768  \n",
      "4       0.164578  \n",
      "..           ...  \n",
      "480     0.047619  \n",
      "481     0.047619  \n",
      "482     0.047619  \n",
      "483     0.054780  \n",
      "484     0.054780  \n",
      "\n",
      "[485 rows x 17 columns]\n"
     ]
    }
   ],
   "source": [
    "scaler = MinMaxScaler()\n",
    "df_enc_scaled = scaler.fit_transform(df)\n",
    "df_enc_scaled = pd.DataFrame(df_enc_scaled, columns=df.columns)\n",
    "df_enc_scaled['exc_bias_oe'] = exc_bias_oe\n",
    "df = df_enc_scaled\n",
    "print(df)"
   ]
  },
  {
   "cell_type": "code",
   "execution_count": 621,
   "metadata": {},
   "outputs": [
    {
     "name": "stdout",
     "output_type": "stream",
     "text": [
      "id                    0\n",
      "space_group_shell     0\n",
      "coer_oe               0\n",
      "exc_bias_oe          38\n",
      "fc_field_t            0\n",
      "h_range_max_koe       0\n",
      "mr (emu/g)            0\n",
      "sat_em_g              0\n",
      "shape                 0\n",
      "space_group_core      0\n",
      "temperature_k         0\n",
      "ver_shift_emu_g       0\n",
      "sphericity            0\n",
      "max/min               0\n",
      "exc_dir               0\n",
      "ver_s_dir             0\n",
      "area/volume           0\n",
      "dtype: int64\n"
     ]
    }
   ],
   "source": [
    "missing_values = df.isnull().sum()\n",
    "mean_exc_bias_oe = df['exc_bias_oe'].mean()\n",
    "df['exc_bias_oe'].fillna(mean_exc_bias_oe, inplace=True)\n",
    "print(missing_values)"
   ]
  },
  {
   "cell_type": "code",
   "execution_count": 622,
   "metadata": {},
   "outputs": [],
   "source": [
    "df.to_csv(r'C:\\Users\\Ксения\\Project\\Magnet_Exchange_bias\\data\\Bias_data_NEW.csv')"
   ]
  },
  {
   "cell_type": "code",
   "execution_count": 624,
   "metadata": {},
   "outputs": [
    {
     "data": {
      "application/vnd.plotly.v1+json": {
       "config": {
        "plotlyServerURL": "https://plot.ly"
       },
       "data": [
        {
         "alignmentgroup": "True",
         "bingroup": "x",
         "hovertemplate": "smoothed_exc_bias_oe=%{x}<br>count=%{y}<extra></extra>",
         "legendgroup": "",
         "marker": {
          "color": "#082040",
          "opacity": 0.7,
          "pattern": {
           "shape": ""
          }
         },
         "name": "",
         "nbinsx": 60,
         "offsetgroup": "",
         "orientation": "v",
         "showlegend": false,
         "type": "histogram",
         "x": [
          null,
          null,
          null,
          null,
          2.071468031249408,
          1.69225052308833,
          1.2609026034777504,
          null,
          null,
          null,
          null,
          null,
          null,
          null,
          null,
          null,
          null,
          null,
          null,
          null,
          null,
          1.920451079015832,
          1.9051477081425894,
          null,
          null,
          null,
          null,
          null,
          null,
          null,
          null,
          null,
          null,
          2.183732130008798,
          2.1232012887726266,
          2.042945694522183,
          1.9366499111137323,
          1.9219387433031625,
          1.9389694781194897,
          1.9593048008901928,
          2.076366609816551,
          2.3323519889153,
          2.4612725592740174,
          2.5769456155056285,
          2.741511508251463,
          2.7225038387040486,
          2.580226387206532,
          2.427109352883374,
          2.2610653104225875,
          2.2549382832301754,
          2.3143793874705954,
          2.4092212045093873,
          2.3996296483751136,
          2.6741551204056533,
          null,
          null,
          null,
          null,
          null,
          null,
          null,
          null,
          null,
          null,
          null,
          null,
          null,
          null,
          null,
          null,
          null,
          null,
          null,
          null,
          2.8642288097671154,
          3.0041729693570565,
          2.7665095356290523,
          2.5112622211640088,
          2.2297006156791235,
          1.956749096690555,
          1.4530463087149774,
          1.597643342388821,
          1.5366337562269836,
          1.242705861149455,
          0.9572022015229722,
          0.894171273851853,
          0.5812441745346446,
          0.22038823448990144,
          0.10740224421261753,
          0.265857422827669,
          0.5322950183585441,
          0.8749267673193094,
          1.1714216105925446,
          1.824886586417388,
          2.2041918299152994,
          2.367834470054805,
          null,
          null,
          null,
          null,
          null,
          null,
          null,
          null,
          null,
          null,
          null,
          null,
          0.2705858689333859,
          1.1093532094542708,
          1.9714493877468846,
          2.1060970094818368,
          null,
          null,
          null,
          null,
          null,
          null,
          2.459219973241898,
          null,
          null,
          null,
          null,
          null,
          null,
          null,
          null,
          null,
          null,
          2.6250065316222573,
          2.7373630576292305,
          2.363255266810145,
          2.147791004877445,
          2.1229102266535174,
          2.1863391387946436,
          2.12434500738643,
          null,
          null,
          null,
          null,
          null,
          null,
          null,
          null,
          null,
          2.6490248116681827,
          2.4320456784336884,
          2.103321679931184,
          2.084220389979856,
          2.2874137093446967,
          2.562617325425286,
          2.7745105828821823,
          null,
          null,
          null,
          null,
          null,
          null,
          null,
          null,
          null,
          null,
          null,
          null,
          2.635379121779536,
          2.7144087547018723,
          2.546399034461957,
          2.5107769456149787,
          2.718296147973393,
          2.5041990671391035,
          2.4710644869753695,
          null,
          null,
          null,
          null,
          null,
          2.645084431516268,
          2.583646767710841,
          2.419415933067907,
          2.306176751684421,
          2.1888748758466523,
          2.203768450207331,
          2.0983143293572324,
          1.9483723502741062,
          1.7619814899036839,
          1.904484656861836,
          2.022742303229207,
          2.1972786155584765,
          2.534937697439614,
          null,
          null,
          null,
          null,
          null,
          null,
          null,
          null,
          null,
          null,
          1.6413420649513164,
          1.5707584774445715,
          0.9123072631725384,
          0.03757923843606932,
          -0.3000464535454598,
          -0.3402888534391094,
          -0.6707460712619122,
          -0.027777301651635257,
          0.6767984474051699,
          null,
          null,
          null,
          null,
          null,
          null,
          2.371335895653875,
          null,
          null,
          null,
          null,
          null,
          null,
          null,
          null,
          null,
          null,
          null,
          null,
          null,
          null,
          null,
          null,
          null,
          null,
          null,
          null,
          null,
          null,
          null,
          null,
          null,
          null,
          null,
          null,
          null,
          null,
          2.3003542171798217,
          2.1471708583864952,
          1.9277888557848837,
          1.696808463787735,
          1.407376857519291,
          1.30595996189987,
          1.0049299662358888,
          0.9447239671030927,
          0.7757043591002414,
          0.6711286100441738,
          0.8869648592536986,
          1.3949472761695223,
          1.7392544426164744,
          null,
          null,
          null,
          null,
          null,
          null,
          null,
          null,
          null,
          null,
          null,
          null,
          null,
          null,
          null,
          null,
          null,
          null,
          null,
          null,
          null,
          null,
          null,
          null,
          null,
          1.5414101389022723,
          1.1182293282877782,
          0.9868614860659655,
          0.6666643509020062,
          0.5833665085868528,
          0.5919621762750438,
          1.0725660831153272,
          1.2861892470948209,
          1.7638870696694855,
          1.9936748722718989,
          2.2142073406513285,
          2.3355735659359538,
          2.5681365355446912,
          2.536608450210826,
          2.6293774189523598,
          2.2853684128684275,
          2.318293020108169,
          1.995102239406321,
          1.5329261081486394,
          null,
          null,
          null,
          null,
          null,
          1.2583286134061447,
          0.9108519393748888,
          1.0736101307257044,
          1.2542585639930186,
          1.3304663303297568,
          1.5840396073933816,
          1.8153421429730325,
          null,
          null,
          null,
          null,
          null,
          2.4633733017919193,
          2.7394155501342405,
          2.8778628744696504,
          2.853419698815085,
          2.809049948891814,
          2.7651589645024885,
          2.7495823245678013,
          2.715784214200776,
          2.721537087214586,
          2.6593807245376335,
          2.516849204945173,
          2.3105969509948467,
          2.1390004165554894,
          2.023281000618431,
          2.0946903726886568,
          2.254770374046916,
          2.2869476489258567,
          2.3109521733949006,
          2.270847036486783,
          2.3133514050607777,
          2.394883625108861,
          2.4534791786110928,
          2.6087193108448967,
          2.5373489967466893,
          2.289137372171507,
          1.9948784430772672,
          1.8942620101620586,
          1.6989700043360187,
          1.6989700043360187,
          null,
          null,
          null,
          null,
          null,
          null,
          null,
          null,
          null,
          null,
          null,
          null,
          2.304893518174464,
          2.2843326598956546,
          2.234433124064679,
          null,
          null,
          null,
          null,
          null,
          null,
          null,
          2.4058150989561233,
          2.3484263920790482,
          2.427738212670179,
          2.480302006528568,
          2.536242587551682,
          2.699749123591791,
          2.881628460462828,
          2.9230726342161444,
          2.871662361911274,
          2.7550070898394354,
          2.589993292001054,
          2.4326916212865286,
          2.34252911898379,
          2.0778557780108367,
          1.9786830578653227,
          1.8378993703680273,
          null,
          null,
          null,
          null,
          null,
          null,
          null,
          null,
          null,
          null,
          null,
          null,
          null,
          null,
          null,
          null,
          null,
          null,
          null,
          null,
          null,
          null,
          null,
          null,
          null,
          null,
          null,
          null,
          null,
          null,
          null,
          null,
          null,
          null,
          null,
          null,
          2.5424635807838447,
          2.4788509137912924,
          2.4276966813933716,
          2.291308666045257,
          2.116796301513658,
          1.9399617016949424,
          2.0010319755842674,
          1.9768812579963886,
          1.8971686392494438,
          1.7772559342500451,
          1.2605785799282516,
          null,
          null,
          null,
          null,
          null,
          2.222185316093948,
          1.9107280201457848,
          1.7653353001945746,
          1.5964818856528282,
          1.9358402255405658,
          2.1930001764867435,
          2.3818276764757873,
          2.229748084625629,
          2.3390878149180816,
          2.0592433677412387,
          null,
          null,
          null,
          null,
          null,
          2.8559151157829525,
          2.87435356044263,
          2.8868554037735885,
          3.0062322892832958,
          null,
          null,
          null,
          null,
          null,
          null,
          null,
          null,
          null,
          null,
          null,
          null,
          null,
          null,
          2.466125767520263,
          2.2581828579225927,
          2.451884896416993,
          2.5373103737629066,
          2.59360595835546,
          2.517240212818415,
          2.5374825284042783,
          2.2162383873533544,
          null,
          null,
          null,
          null,
          null,
          null
         ],
         "xaxis": "x",
         "yaxis": "y"
        },
        {
         "alignmentgroup": "True",
         "box": {
          "visible": true
         },
         "hovertemplate": "smoothed_exc_bias_oe=%{y}<extra></extra>",
         "legendgroup": "",
         "marker": {
          "color": "#082040"
         },
         "name": "",
         "offsetgroup": "",
         "orientation": "v",
         "scalegroup": "True",
         "showlegend": false,
         "type": "violin",
         "x0": " ",
         "xaxis": "x2",
         "y": [
          null,
          null,
          null,
          null,
          2.071468031249408,
          1.69225052308833,
          1.2609026034777504,
          null,
          null,
          null,
          null,
          null,
          null,
          null,
          null,
          null,
          null,
          null,
          null,
          null,
          null,
          1.920451079015832,
          1.9051477081425894,
          null,
          null,
          null,
          null,
          null,
          null,
          null,
          null,
          null,
          null,
          2.183732130008798,
          2.1232012887726266,
          2.042945694522183,
          1.9366499111137323,
          1.9219387433031625,
          1.9389694781194897,
          1.9593048008901928,
          2.076366609816551,
          2.3323519889153,
          2.4612725592740174,
          2.5769456155056285,
          2.741511508251463,
          2.7225038387040486,
          2.580226387206532,
          2.427109352883374,
          2.2610653104225875,
          2.2549382832301754,
          2.3143793874705954,
          2.4092212045093873,
          2.3996296483751136,
          2.6741551204056533,
          null,
          null,
          null,
          null,
          null,
          null,
          null,
          null,
          null,
          null,
          null,
          null,
          null,
          null,
          null,
          null,
          null,
          null,
          null,
          null,
          2.8642288097671154,
          3.0041729693570565,
          2.7665095356290523,
          2.5112622211640088,
          2.2297006156791235,
          1.956749096690555,
          1.4530463087149774,
          1.597643342388821,
          1.5366337562269836,
          1.242705861149455,
          0.9572022015229722,
          0.894171273851853,
          0.5812441745346446,
          0.22038823448990144,
          0.10740224421261753,
          0.265857422827669,
          0.5322950183585441,
          0.8749267673193094,
          1.1714216105925446,
          1.824886586417388,
          2.2041918299152994,
          2.367834470054805,
          null,
          null,
          null,
          null,
          null,
          null,
          null,
          null,
          null,
          null,
          null,
          null,
          0.2705858689333859,
          1.1093532094542708,
          1.9714493877468846,
          2.1060970094818368,
          null,
          null,
          null,
          null,
          null,
          null,
          2.459219973241898,
          null,
          null,
          null,
          null,
          null,
          null,
          null,
          null,
          null,
          null,
          2.6250065316222573,
          2.7373630576292305,
          2.363255266810145,
          2.147791004877445,
          2.1229102266535174,
          2.1863391387946436,
          2.12434500738643,
          null,
          null,
          null,
          null,
          null,
          null,
          null,
          null,
          null,
          2.6490248116681827,
          2.4320456784336884,
          2.103321679931184,
          2.084220389979856,
          2.2874137093446967,
          2.562617325425286,
          2.7745105828821823,
          null,
          null,
          null,
          null,
          null,
          null,
          null,
          null,
          null,
          null,
          null,
          null,
          2.635379121779536,
          2.7144087547018723,
          2.546399034461957,
          2.5107769456149787,
          2.718296147973393,
          2.5041990671391035,
          2.4710644869753695,
          null,
          null,
          null,
          null,
          null,
          2.645084431516268,
          2.583646767710841,
          2.419415933067907,
          2.306176751684421,
          2.1888748758466523,
          2.203768450207331,
          2.0983143293572324,
          1.9483723502741062,
          1.7619814899036839,
          1.904484656861836,
          2.022742303229207,
          2.1972786155584765,
          2.534937697439614,
          null,
          null,
          null,
          null,
          null,
          null,
          null,
          null,
          null,
          null,
          1.6413420649513164,
          1.5707584774445715,
          0.9123072631725384,
          0.03757923843606932,
          -0.3000464535454598,
          -0.3402888534391094,
          -0.6707460712619122,
          -0.027777301651635257,
          0.6767984474051699,
          null,
          null,
          null,
          null,
          null,
          null,
          2.371335895653875,
          null,
          null,
          null,
          null,
          null,
          null,
          null,
          null,
          null,
          null,
          null,
          null,
          null,
          null,
          null,
          null,
          null,
          null,
          null,
          null,
          null,
          null,
          null,
          null,
          null,
          null,
          null,
          null,
          null,
          null,
          2.3003542171798217,
          2.1471708583864952,
          1.9277888557848837,
          1.696808463787735,
          1.407376857519291,
          1.30595996189987,
          1.0049299662358888,
          0.9447239671030927,
          0.7757043591002414,
          0.6711286100441738,
          0.8869648592536986,
          1.3949472761695223,
          1.7392544426164744,
          null,
          null,
          null,
          null,
          null,
          null,
          null,
          null,
          null,
          null,
          null,
          null,
          null,
          null,
          null,
          null,
          null,
          null,
          null,
          null,
          null,
          null,
          null,
          null,
          null,
          1.5414101389022723,
          1.1182293282877782,
          0.9868614860659655,
          0.6666643509020062,
          0.5833665085868528,
          0.5919621762750438,
          1.0725660831153272,
          1.2861892470948209,
          1.7638870696694855,
          1.9936748722718989,
          2.2142073406513285,
          2.3355735659359538,
          2.5681365355446912,
          2.536608450210826,
          2.6293774189523598,
          2.2853684128684275,
          2.318293020108169,
          1.995102239406321,
          1.5329261081486394,
          null,
          null,
          null,
          null,
          null,
          1.2583286134061447,
          0.9108519393748888,
          1.0736101307257044,
          1.2542585639930186,
          1.3304663303297568,
          1.5840396073933816,
          1.8153421429730325,
          null,
          null,
          null,
          null,
          null,
          2.4633733017919193,
          2.7394155501342405,
          2.8778628744696504,
          2.853419698815085,
          2.809049948891814,
          2.7651589645024885,
          2.7495823245678013,
          2.715784214200776,
          2.721537087214586,
          2.6593807245376335,
          2.516849204945173,
          2.3105969509948467,
          2.1390004165554894,
          2.023281000618431,
          2.0946903726886568,
          2.254770374046916,
          2.2869476489258567,
          2.3109521733949006,
          2.270847036486783,
          2.3133514050607777,
          2.394883625108861,
          2.4534791786110928,
          2.6087193108448967,
          2.5373489967466893,
          2.289137372171507,
          1.9948784430772672,
          1.8942620101620586,
          1.6989700043360187,
          1.6989700043360187,
          null,
          null,
          null,
          null,
          null,
          null,
          null,
          null,
          null,
          null,
          null,
          null,
          2.304893518174464,
          2.2843326598956546,
          2.234433124064679,
          null,
          null,
          null,
          null,
          null,
          null,
          null,
          2.4058150989561233,
          2.3484263920790482,
          2.427738212670179,
          2.480302006528568,
          2.536242587551682,
          2.699749123591791,
          2.881628460462828,
          2.9230726342161444,
          2.871662361911274,
          2.7550070898394354,
          2.589993292001054,
          2.4326916212865286,
          2.34252911898379,
          2.0778557780108367,
          1.9786830578653227,
          1.8378993703680273,
          null,
          null,
          null,
          null,
          null,
          null,
          null,
          null,
          null,
          null,
          null,
          null,
          null,
          null,
          null,
          null,
          null,
          null,
          null,
          null,
          null,
          null,
          null,
          null,
          null,
          null,
          null,
          null,
          null,
          null,
          null,
          null,
          null,
          null,
          null,
          null,
          2.5424635807838447,
          2.4788509137912924,
          2.4276966813933716,
          2.291308666045257,
          2.116796301513658,
          1.9399617016949424,
          2.0010319755842674,
          1.9768812579963886,
          1.8971686392494438,
          1.7772559342500451,
          1.2605785799282516,
          null,
          null,
          null,
          null,
          null,
          2.222185316093948,
          1.9107280201457848,
          1.7653353001945746,
          1.5964818856528282,
          1.9358402255405658,
          2.1930001764867435,
          2.3818276764757873,
          2.229748084625629,
          2.3390878149180816,
          2.0592433677412387,
          null,
          null,
          null,
          null,
          null,
          2.8559151157829525,
          2.87435356044263,
          2.8868554037735885,
          3.0062322892832958,
          null,
          null,
          null,
          null,
          null,
          null,
          null,
          null,
          null,
          null,
          null,
          null,
          null,
          null,
          2.466125767520263,
          2.2581828579225927,
          2.451884896416993,
          2.5373103737629066,
          2.59360595835546,
          2.517240212818415,
          2.5374825284042783,
          2.2162383873533544,
          null,
          null,
          null,
          null,
          null,
          null
         ],
         "y0": " ",
         "yaxis": "y2"
        }
       ],
       "layout": {
        "annotations": [
         {
          "font": {
           "size": 16
          },
          "showarrow": false,
          "text": "Histogram for exchange bias",
          "x": 0.225,
          "xanchor": "center",
          "xref": "paper",
          "y": 1,
          "yanchor": "bottom",
          "yref": "paper"
         },
         {
          "font": {
           "size": 16
          },
          "showarrow": false,
          "text": "Violin Plot for exchange bias",
          "x": 0.775,
          "xanchor": "center",
          "xref": "paper",
          "y": 1,
          "yanchor": "bottom",
          "yref": "paper"
         }
        ],
        "showlegend": false,
        "template": {
         "data": {
          "bar": [
           {
            "error_x": {
             "color": "#2a3f5f"
            },
            "error_y": {
             "color": "#2a3f5f"
            },
            "marker": {
             "line": {
              "color": "#E5ECF6",
              "width": 0.5
             },
             "pattern": {
              "fillmode": "overlay",
              "size": 10,
              "solidity": 0.2
             }
            },
            "type": "bar"
           }
          ],
          "barpolar": [
           {
            "marker": {
             "line": {
              "color": "#E5ECF6",
              "width": 0.5
             },
             "pattern": {
              "fillmode": "overlay",
              "size": 10,
              "solidity": 0.2
             }
            },
            "type": "barpolar"
           }
          ],
          "carpet": [
           {
            "aaxis": {
             "endlinecolor": "#2a3f5f",
             "gridcolor": "white",
             "linecolor": "white",
             "minorgridcolor": "white",
             "startlinecolor": "#2a3f5f"
            },
            "baxis": {
             "endlinecolor": "#2a3f5f",
             "gridcolor": "white",
             "linecolor": "white",
             "minorgridcolor": "white",
             "startlinecolor": "#2a3f5f"
            },
            "type": "carpet"
           }
          ],
          "choropleth": [
           {
            "colorbar": {
             "outlinewidth": 0,
             "ticks": ""
            },
            "type": "choropleth"
           }
          ],
          "contour": [
           {
            "colorbar": {
             "outlinewidth": 0,
             "ticks": ""
            },
            "colorscale": [
             [
              0,
              "#0d0887"
             ],
             [
              0.1111111111111111,
              "#46039f"
             ],
             [
              0.2222222222222222,
              "#7201a8"
             ],
             [
              0.3333333333333333,
              "#9c179e"
             ],
             [
              0.4444444444444444,
              "#bd3786"
             ],
             [
              0.5555555555555556,
              "#d8576b"
             ],
             [
              0.6666666666666666,
              "#ed7953"
             ],
             [
              0.7777777777777778,
              "#fb9f3a"
             ],
             [
              0.8888888888888888,
              "#fdca26"
             ],
             [
              1,
              "#f0f921"
             ]
            ],
            "type": "contour"
           }
          ],
          "contourcarpet": [
           {
            "colorbar": {
             "outlinewidth": 0,
             "ticks": ""
            },
            "type": "contourcarpet"
           }
          ],
          "heatmap": [
           {
            "colorbar": {
             "outlinewidth": 0,
             "ticks": ""
            },
            "colorscale": [
             [
              0,
              "#0d0887"
             ],
             [
              0.1111111111111111,
              "#46039f"
             ],
             [
              0.2222222222222222,
              "#7201a8"
             ],
             [
              0.3333333333333333,
              "#9c179e"
             ],
             [
              0.4444444444444444,
              "#bd3786"
             ],
             [
              0.5555555555555556,
              "#d8576b"
             ],
             [
              0.6666666666666666,
              "#ed7953"
             ],
             [
              0.7777777777777778,
              "#fb9f3a"
             ],
             [
              0.8888888888888888,
              "#fdca26"
             ],
             [
              1,
              "#f0f921"
             ]
            ],
            "type": "heatmap"
           }
          ],
          "heatmapgl": [
           {
            "colorbar": {
             "outlinewidth": 0,
             "ticks": ""
            },
            "colorscale": [
             [
              0,
              "#0d0887"
             ],
             [
              0.1111111111111111,
              "#46039f"
             ],
             [
              0.2222222222222222,
              "#7201a8"
             ],
             [
              0.3333333333333333,
              "#9c179e"
             ],
             [
              0.4444444444444444,
              "#bd3786"
             ],
             [
              0.5555555555555556,
              "#d8576b"
             ],
             [
              0.6666666666666666,
              "#ed7953"
             ],
             [
              0.7777777777777778,
              "#fb9f3a"
             ],
             [
              0.8888888888888888,
              "#fdca26"
             ],
             [
              1,
              "#f0f921"
             ]
            ],
            "type": "heatmapgl"
           }
          ],
          "histogram": [
           {
            "marker": {
             "pattern": {
              "fillmode": "overlay",
              "size": 10,
              "solidity": 0.2
             }
            },
            "type": "histogram"
           }
          ],
          "histogram2d": [
           {
            "colorbar": {
             "outlinewidth": 0,
             "ticks": ""
            },
            "colorscale": [
             [
              0,
              "#0d0887"
             ],
             [
              0.1111111111111111,
              "#46039f"
             ],
             [
              0.2222222222222222,
              "#7201a8"
             ],
             [
              0.3333333333333333,
              "#9c179e"
             ],
             [
              0.4444444444444444,
              "#bd3786"
             ],
             [
              0.5555555555555556,
              "#d8576b"
             ],
             [
              0.6666666666666666,
              "#ed7953"
             ],
             [
              0.7777777777777778,
              "#fb9f3a"
             ],
             [
              0.8888888888888888,
              "#fdca26"
             ],
             [
              1,
              "#f0f921"
             ]
            ],
            "type": "histogram2d"
           }
          ],
          "histogram2dcontour": [
           {
            "colorbar": {
             "outlinewidth": 0,
             "ticks": ""
            },
            "colorscale": [
             [
              0,
              "#0d0887"
             ],
             [
              0.1111111111111111,
              "#46039f"
             ],
             [
              0.2222222222222222,
              "#7201a8"
             ],
             [
              0.3333333333333333,
              "#9c179e"
             ],
             [
              0.4444444444444444,
              "#bd3786"
             ],
             [
              0.5555555555555556,
              "#d8576b"
             ],
             [
              0.6666666666666666,
              "#ed7953"
             ],
             [
              0.7777777777777778,
              "#fb9f3a"
             ],
             [
              0.8888888888888888,
              "#fdca26"
             ],
             [
              1,
              "#f0f921"
             ]
            ],
            "type": "histogram2dcontour"
           }
          ],
          "mesh3d": [
           {
            "colorbar": {
             "outlinewidth": 0,
             "ticks": ""
            },
            "type": "mesh3d"
           }
          ],
          "parcoords": [
           {
            "line": {
             "colorbar": {
              "outlinewidth": 0,
              "ticks": ""
             }
            },
            "type": "parcoords"
           }
          ],
          "pie": [
           {
            "automargin": true,
            "type": "pie"
           }
          ],
          "scatter": [
           {
            "fillpattern": {
             "fillmode": "overlay",
             "size": 10,
             "solidity": 0.2
            },
            "type": "scatter"
           }
          ],
          "scatter3d": [
           {
            "line": {
             "colorbar": {
              "outlinewidth": 0,
              "ticks": ""
             }
            },
            "marker": {
             "colorbar": {
              "outlinewidth": 0,
              "ticks": ""
             }
            },
            "type": "scatter3d"
           }
          ],
          "scattercarpet": [
           {
            "marker": {
             "colorbar": {
              "outlinewidth": 0,
              "ticks": ""
             }
            },
            "type": "scattercarpet"
           }
          ],
          "scattergeo": [
           {
            "marker": {
             "colorbar": {
              "outlinewidth": 0,
              "ticks": ""
             }
            },
            "type": "scattergeo"
           }
          ],
          "scattergl": [
           {
            "marker": {
             "colorbar": {
              "outlinewidth": 0,
              "ticks": ""
             }
            },
            "type": "scattergl"
           }
          ],
          "scattermapbox": [
           {
            "marker": {
             "colorbar": {
              "outlinewidth": 0,
              "ticks": ""
             }
            },
            "type": "scattermapbox"
           }
          ],
          "scatterpolar": [
           {
            "marker": {
             "colorbar": {
              "outlinewidth": 0,
              "ticks": ""
             }
            },
            "type": "scatterpolar"
           }
          ],
          "scatterpolargl": [
           {
            "marker": {
             "colorbar": {
              "outlinewidth": 0,
              "ticks": ""
             }
            },
            "type": "scatterpolargl"
           }
          ],
          "scatterternary": [
           {
            "marker": {
             "colorbar": {
              "outlinewidth": 0,
              "ticks": ""
             }
            },
            "type": "scatterternary"
           }
          ],
          "surface": [
           {
            "colorbar": {
             "outlinewidth": 0,
             "ticks": ""
            },
            "colorscale": [
             [
              0,
              "#0d0887"
             ],
             [
              0.1111111111111111,
              "#46039f"
             ],
             [
              0.2222222222222222,
              "#7201a8"
             ],
             [
              0.3333333333333333,
              "#9c179e"
             ],
             [
              0.4444444444444444,
              "#bd3786"
             ],
             [
              0.5555555555555556,
              "#d8576b"
             ],
             [
              0.6666666666666666,
              "#ed7953"
             ],
             [
              0.7777777777777778,
              "#fb9f3a"
             ],
             [
              0.8888888888888888,
              "#fdca26"
             ],
             [
              1,
              "#f0f921"
             ]
            ],
            "type": "surface"
           }
          ],
          "table": [
           {
            "cells": {
             "fill": {
              "color": "#EBF0F8"
             },
             "line": {
              "color": "white"
             }
            },
            "header": {
             "fill": {
              "color": "#C8D4E3"
             },
             "line": {
              "color": "white"
             }
            },
            "type": "table"
           }
          ]
         },
         "layout": {
          "annotationdefaults": {
           "arrowcolor": "#2a3f5f",
           "arrowhead": 0,
           "arrowwidth": 1
          },
          "autotypenumbers": "strict",
          "coloraxis": {
           "colorbar": {
            "outlinewidth": 0,
            "ticks": ""
           }
          },
          "colorscale": {
           "diverging": [
            [
             0,
             "#8e0152"
            ],
            [
             0.1,
             "#c51b7d"
            ],
            [
             0.2,
             "#de77ae"
            ],
            [
             0.3,
             "#f1b6da"
            ],
            [
             0.4,
             "#fde0ef"
            ],
            [
             0.5,
             "#f7f7f7"
            ],
            [
             0.6,
             "#e6f5d0"
            ],
            [
             0.7,
             "#b8e186"
            ],
            [
             0.8,
             "#7fbc41"
            ],
            [
             0.9,
             "#4d9221"
            ],
            [
             1,
             "#276419"
            ]
           ],
           "sequential": [
            [
             0,
             "#0d0887"
            ],
            [
             0.1111111111111111,
             "#46039f"
            ],
            [
             0.2222222222222222,
             "#7201a8"
            ],
            [
             0.3333333333333333,
             "#9c179e"
            ],
            [
             0.4444444444444444,
             "#bd3786"
            ],
            [
             0.5555555555555556,
             "#d8576b"
            ],
            [
             0.6666666666666666,
             "#ed7953"
            ],
            [
             0.7777777777777778,
             "#fb9f3a"
            ],
            [
             0.8888888888888888,
             "#fdca26"
            ],
            [
             1,
             "#f0f921"
            ]
           ],
           "sequentialminus": [
            [
             0,
             "#0d0887"
            ],
            [
             0.1111111111111111,
             "#46039f"
            ],
            [
             0.2222222222222222,
             "#7201a8"
            ],
            [
             0.3333333333333333,
             "#9c179e"
            ],
            [
             0.4444444444444444,
             "#bd3786"
            ],
            [
             0.5555555555555556,
             "#d8576b"
            ],
            [
             0.6666666666666666,
             "#ed7953"
            ],
            [
             0.7777777777777778,
             "#fb9f3a"
            ],
            [
             0.8888888888888888,
             "#fdca26"
            ],
            [
             1,
             "#f0f921"
            ]
           ]
          },
          "colorway": [
           "#636efa",
           "#EF553B",
           "#00cc96",
           "#ab63fa",
           "#FFA15A",
           "#19d3f3",
           "#FF6692",
           "#B6E880",
           "#FF97FF",
           "#FECB52"
          ],
          "font": {
           "color": "#2a3f5f"
          },
          "geo": {
           "bgcolor": "white",
           "lakecolor": "white",
           "landcolor": "#E5ECF6",
           "showlakes": true,
           "showland": true,
           "subunitcolor": "white"
          },
          "hoverlabel": {
           "align": "left"
          },
          "hovermode": "closest",
          "mapbox": {
           "style": "light"
          },
          "paper_bgcolor": "white",
          "plot_bgcolor": "#E5ECF6",
          "polar": {
           "angularaxis": {
            "gridcolor": "white",
            "linecolor": "white",
            "ticks": ""
           },
           "bgcolor": "#E5ECF6",
           "radialaxis": {
            "gridcolor": "white",
            "linecolor": "white",
            "ticks": ""
           }
          },
          "scene": {
           "xaxis": {
            "backgroundcolor": "#E5ECF6",
            "gridcolor": "white",
            "gridwidth": 2,
            "linecolor": "white",
            "showbackground": true,
            "ticks": "",
            "zerolinecolor": "white"
           },
           "yaxis": {
            "backgroundcolor": "#E5ECF6",
            "gridcolor": "white",
            "gridwidth": 2,
            "linecolor": "white",
            "showbackground": true,
            "ticks": "",
            "zerolinecolor": "white"
           },
           "zaxis": {
            "backgroundcolor": "#E5ECF6",
            "gridcolor": "white",
            "gridwidth": 2,
            "linecolor": "white",
            "showbackground": true,
            "ticks": "",
            "zerolinecolor": "white"
           }
          },
          "shapedefaults": {
           "line": {
            "color": "#2a3f5f"
           }
          },
          "ternary": {
           "aaxis": {
            "gridcolor": "white",
            "linecolor": "white",
            "ticks": ""
           },
           "baxis": {
            "gridcolor": "white",
            "linecolor": "white",
            "ticks": ""
           },
           "bgcolor": "#E5ECF6",
           "caxis": {
            "gridcolor": "white",
            "linecolor": "white",
            "ticks": ""
           }
          },
          "title": {
           "x": 0.05
          },
          "xaxis": {
           "automargin": true,
           "gridcolor": "white",
           "linecolor": "white",
           "ticks": "",
           "title": {
            "standoff": 15
           },
           "zerolinecolor": "white",
           "zerolinewidth": 2
          },
          "yaxis": {
           "automargin": true,
           "gridcolor": "white",
           "linecolor": "white",
           "ticks": "",
           "title": {
            "standoff": 15
           },
           "zerolinecolor": "white",
           "zerolinewidth": 2
          }
         }
        },
        "title": {
         "text": "Pic for exchange bias after outliers"
        },
        "xaxis": {
         "anchor": "y",
         "domain": [
          0,
          0.45
         ]
        },
        "xaxis2": {
         "anchor": "y2",
         "domain": [
          0.55,
          1
         ]
        },
        "yaxis": {
         "anchor": "x",
         "domain": [
          0,
          1
         ]
        },
        "yaxis2": {
         "anchor": "x2",
         "domain": [
          0,
          1
         ]
        }
       }
      }
     },
     "metadata": {},
     "output_type": "display_data"
    },
    {
     "name": "stdout",
     "output_type": "stream",
     "text": [
      "None\n"
     ]
    }
   ],
   "source": [
    "#Построим график распределения целевой переменной\n",
    "fig = make_subplots(rows=1, cols=2, subplot_titles=['Histogram for exchange bias', 'Violin Plot for exchange bias'])\n",
    "\n",
    "# Histogram\n",
    "hist_fig = px.histogram(df, x=\"smoothed_exc_bias_oe\", nbins = 60,\n",
    "                 color_discrete_sequence = colors,\n",
    "                 opacity = 0.7)\n",
    "\n",
    "fig.add_trace(hist_fig['data'][0], row=1, col=1) # Adding a graph indicating the location\n",
    "\n",
    "# Violin plot\n",
    "violin_fig = px.violin(df, y=\"smoothed_exc_bias_oe\", color_discrete_sequence = colors, box = True)\n",
    "fig.add_trace(violin_fig['data'][0], row=1, col=2) # Adding a graph indicating the location\n",
    "\n",
    "# Setting up the layout\n",
    "fig.update_layout(showlegend=False, title_text=\"Pic for exchange bias after outliers\")\n",
    "\n",
    "# Graph display\n",
    "print(display(fig))"
   ]
  },
  {
   "cell_type": "code",
   "execution_count": 625,
   "metadata": {},
   "outputs": [
    {
     "ename": "ValueError",
     "evalue": "Input X contains infinity or a value too large for dtype('float64').",
     "output_type": "error",
     "traceback": [
      "\u001b[1;31m---------------------------------------------------------------------------\u001b[0m",
      "\u001b[1;31mValueError\u001b[0m                                Traceback (most recent call last)",
      "Cell \u001b[1;32mIn[625], line 7\u001b[0m\n\u001b[0;32m      4\u001b[0m imputer \u001b[38;5;241m=\u001b[39m KNNImputer()\n\u001b[0;32m      6\u001b[0m \u001b[38;5;66;03m# Применение импутации к столбцу 'exc_bias_oe'\u001b[39;00m\n\u001b[1;32m----> 7\u001b[0m df[\u001b[38;5;124m'\u001b[39m\u001b[38;5;124mexc_bias_oe\u001b[39m\u001b[38;5;124m'\u001b[39m] \u001b[38;5;241m=\u001b[39m \u001b[43mimputer\u001b[49m\u001b[38;5;241;43m.\u001b[39;49m\u001b[43mfit_transform\u001b[49m\u001b[43m(\u001b[49m\u001b[43mdf\u001b[49m\u001b[43m[\u001b[49m\u001b[43m[\u001b[49m\u001b[38;5;124;43m'\u001b[39;49m\u001b[38;5;124;43mexc_bias_oe\u001b[39;49m\u001b[38;5;124;43m'\u001b[39;49m\u001b[43m]\u001b[49m\u001b[43m]\u001b[49m\u001b[43m)\u001b[49m\n\u001b[0;32m      8\u001b[0m df[\u001b[38;5;124m'\u001b[39m\u001b[38;5;124msmoothed_exc_bias_oe\u001b[39m\u001b[38;5;124m'\u001b[39m] \u001b[38;5;241m=\u001b[39m imputer\u001b[38;5;241m.\u001b[39mfit_transform(df[[\u001b[38;5;124m'\u001b[39m\u001b[38;5;124msmoothed_exc_bias_oe\u001b[39m\u001b[38;5;124m'\u001b[39m]])\n",
      "File \u001b[1;32mc:\\Users\\Ксения\\AppData\\Local\\Programs\\Python\\Python311\\Lib\\site-packages\\sklearn\\utils\\_set_output.py:295\u001b[0m, in \u001b[0;36m_wrap_method_output.<locals>.wrapped\u001b[1;34m(self, X, *args, **kwargs)\u001b[0m\n\u001b[0;32m    293\u001b[0m \u001b[38;5;129m@wraps\u001b[39m(f)\n\u001b[0;32m    294\u001b[0m \u001b[38;5;28;01mdef\u001b[39;00m \u001b[38;5;21mwrapped\u001b[39m(\u001b[38;5;28mself\u001b[39m, X, \u001b[38;5;241m*\u001b[39margs, \u001b[38;5;241m*\u001b[39m\u001b[38;5;241m*\u001b[39mkwargs):\n\u001b[1;32m--> 295\u001b[0m     data_to_wrap \u001b[38;5;241m=\u001b[39m \u001b[43mf\u001b[49m\u001b[43m(\u001b[49m\u001b[38;5;28;43mself\u001b[39;49m\u001b[43m,\u001b[49m\u001b[43m \u001b[49m\u001b[43mX\u001b[49m\u001b[43m,\u001b[49m\u001b[43m \u001b[49m\u001b[38;5;241;43m*\u001b[39;49m\u001b[43margs\u001b[49m\u001b[43m,\u001b[49m\u001b[43m \u001b[49m\u001b[38;5;241;43m*\u001b[39;49m\u001b[38;5;241;43m*\u001b[39;49m\u001b[43mkwargs\u001b[49m\u001b[43m)\u001b[49m\n\u001b[0;32m    296\u001b[0m     \u001b[38;5;28;01mif\u001b[39;00m \u001b[38;5;28misinstance\u001b[39m(data_to_wrap, \u001b[38;5;28mtuple\u001b[39m):\n\u001b[0;32m    297\u001b[0m         \u001b[38;5;66;03m# only wrap the first output for cross decomposition\u001b[39;00m\n\u001b[0;32m    298\u001b[0m         return_tuple \u001b[38;5;241m=\u001b[39m (\n\u001b[0;32m    299\u001b[0m             _wrap_data_with_container(method, data_to_wrap[\u001b[38;5;241m0\u001b[39m], X, \u001b[38;5;28mself\u001b[39m),\n\u001b[0;32m    300\u001b[0m             \u001b[38;5;241m*\u001b[39mdata_to_wrap[\u001b[38;5;241m1\u001b[39m:],\n\u001b[0;32m    301\u001b[0m         )\n",
      "File \u001b[1;32mc:\\Users\\Ксения\\AppData\\Local\\Programs\\Python\\Python311\\Lib\\site-packages\\sklearn\\base.py:1098\u001b[0m, in \u001b[0;36mTransformerMixin.fit_transform\u001b[1;34m(self, X, y, **fit_params)\u001b[0m\n\u001b[0;32m   1083\u001b[0m         warnings\u001b[38;5;241m.\u001b[39mwarn(\n\u001b[0;32m   1084\u001b[0m             (\n\u001b[0;32m   1085\u001b[0m                 \u001b[38;5;124mf\u001b[39m\u001b[38;5;124m\"\u001b[39m\u001b[38;5;124mThis object (\u001b[39m\u001b[38;5;132;01m{\u001b[39;00m\u001b[38;5;28mself\u001b[39m\u001b[38;5;241m.\u001b[39m\u001b[38;5;18m__class__\u001b[39m\u001b[38;5;241m.\u001b[39m\u001b[38;5;18m__name__\u001b[39m\u001b[38;5;132;01m}\u001b[39;00m\u001b[38;5;124m) has a `transform`\u001b[39m\u001b[38;5;124m\"\u001b[39m\n\u001b[1;32m   (...)\u001b[0m\n\u001b[0;32m   1093\u001b[0m             \u001b[38;5;167;01mUserWarning\u001b[39;00m,\n\u001b[0;32m   1094\u001b[0m         )\n\u001b[0;32m   1096\u001b[0m \u001b[38;5;28;01mif\u001b[39;00m y \u001b[38;5;129;01mis\u001b[39;00m \u001b[38;5;28;01mNone\u001b[39;00m:\n\u001b[0;32m   1097\u001b[0m     \u001b[38;5;66;03m# fit method of arity 1 (unsupervised transformation)\u001b[39;00m\n\u001b[1;32m-> 1098\u001b[0m     \u001b[38;5;28;01mreturn\u001b[39;00m \u001b[38;5;28;43mself\u001b[39;49m\u001b[38;5;241;43m.\u001b[39;49m\u001b[43mfit\u001b[49m\u001b[43m(\u001b[49m\u001b[43mX\u001b[49m\u001b[43m,\u001b[49m\u001b[43m \u001b[49m\u001b[38;5;241;43m*\u001b[39;49m\u001b[38;5;241;43m*\u001b[39;49m\u001b[43mfit_params\u001b[49m\u001b[43m)\u001b[49m\u001b[38;5;241m.\u001b[39mtransform(X)\n\u001b[0;32m   1099\u001b[0m \u001b[38;5;28;01melse\u001b[39;00m:\n\u001b[0;32m   1100\u001b[0m     \u001b[38;5;66;03m# fit method of arity 2 (supervised transformation)\u001b[39;00m\n\u001b[0;32m   1101\u001b[0m     \u001b[38;5;28;01mreturn\u001b[39;00m \u001b[38;5;28mself\u001b[39m\u001b[38;5;241m.\u001b[39mfit(X, y, \u001b[38;5;241m*\u001b[39m\u001b[38;5;241m*\u001b[39mfit_params)\u001b[38;5;241m.\u001b[39mtransform(X)\n",
      "File \u001b[1;32mc:\\Users\\Ксения\\AppData\\Local\\Programs\\Python\\Python311\\Lib\\site-packages\\sklearn\\base.py:1474\u001b[0m, in \u001b[0;36m_fit_context.<locals>.decorator.<locals>.wrapper\u001b[1;34m(estimator, *args, **kwargs)\u001b[0m\n\u001b[0;32m   1467\u001b[0m     estimator\u001b[38;5;241m.\u001b[39m_validate_params()\n\u001b[0;32m   1469\u001b[0m \u001b[38;5;28;01mwith\u001b[39;00m config_context(\n\u001b[0;32m   1470\u001b[0m     skip_parameter_validation\u001b[38;5;241m=\u001b[39m(\n\u001b[0;32m   1471\u001b[0m         prefer_skip_nested_validation \u001b[38;5;129;01mor\u001b[39;00m global_skip_validation\n\u001b[0;32m   1472\u001b[0m     )\n\u001b[0;32m   1473\u001b[0m ):\n\u001b[1;32m-> 1474\u001b[0m     \u001b[38;5;28;01mreturn\u001b[39;00m \u001b[43mfit_method\u001b[49m\u001b[43m(\u001b[49m\u001b[43mestimator\u001b[49m\u001b[43m,\u001b[49m\u001b[43m \u001b[49m\u001b[38;5;241;43m*\u001b[39;49m\u001b[43margs\u001b[49m\u001b[43m,\u001b[49m\u001b[43m \u001b[49m\u001b[38;5;241;43m*\u001b[39;49m\u001b[38;5;241;43m*\u001b[39;49m\u001b[43mkwargs\u001b[49m\u001b[43m)\u001b[49m\n",
      "File \u001b[1;32mc:\\Users\\Ксения\\AppData\\Local\\Programs\\Python\\Python311\\Lib\\site-packages\\sklearn\\impute\\_knn.py:230\u001b[0m, in \u001b[0;36mKNNImputer.fit\u001b[1;34m(self, X, y)\u001b[0m\n\u001b[0;32m    227\u001b[0m \u001b[38;5;28;01melse\u001b[39;00m:\n\u001b[0;32m    228\u001b[0m     force_all_finite \u001b[38;5;241m=\u001b[39m \u001b[38;5;124m\"\u001b[39m\u001b[38;5;124mallow-nan\u001b[39m\u001b[38;5;124m\"\u001b[39m\n\u001b[1;32m--> 230\u001b[0m X \u001b[38;5;241m=\u001b[39m \u001b[38;5;28;43mself\u001b[39;49m\u001b[38;5;241;43m.\u001b[39;49m\u001b[43m_validate_data\u001b[49m\u001b[43m(\u001b[49m\n\u001b[0;32m    231\u001b[0m \u001b[43m    \u001b[49m\u001b[43mX\u001b[49m\u001b[43m,\u001b[49m\n\u001b[0;32m    232\u001b[0m \u001b[43m    \u001b[49m\u001b[43maccept_sparse\u001b[49m\u001b[38;5;241;43m=\u001b[39;49m\u001b[38;5;28;43;01mFalse\u001b[39;49;00m\u001b[43m,\u001b[49m\n\u001b[0;32m    233\u001b[0m \u001b[43m    \u001b[49m\u001b[43mdtype\u001b[49m\u001b[38;5;241;43m=\u001b[39;49m\u001b[43mFLOAT_DTYPES\u001b[49m\u001b[43m,\u001b[49m\n\u001b[0;32m    234\u001b[0m \u001b[43m    \u001b[49m\u001b[43mforce_all_finite\u001b[49m\u001b[38;5;241;43m=\u001b[39;49m\u001b[43mforce_all_finite\u001b[49m\u001b[43m,\u001b[49m\n\u001b[0;32m    235\u001b[0m \u001b[43m    \u001b[49m\u001b[43mcopy\u001b[49m\u001b[38;5;241;43m=\u001b[39;49m\u001b[38;5;28;43mself\u001b[39;49m\u001b[38;5;241;43m.\u001b[39;49m\u001b[43mcopy\u001b[49m\u001b[43m,\u001b[49m\n\u001b[0;32m    236\u001b[0m \u001b[43m\u001b[49m\u001b[43m)\u001b[49m\n\u001b[0;32m    238\u001b[0m \u001b[38;5;28mself\u001b[39m\u001b[38;5;241m.\u001b[39m_fit_X \u001b[38;5;241m=\u001b[39m X\n\u001b[0;32m    239\u001b[0m \u001b[38;5;28mself\u001b[39m\u001b[38;5;241m.\u001b[39m_mask_fit_X \u001b[38;5;241m=\u001b[39m _get_mask(\u001b[38;5;28mself\u001b[39m\u001b[38;5;241m.\u001b[39m_fit_X, \u001b[38;5;28mself\u001b[39m\u001b[38;5;241m.\u001b[39mmissing_values)\n",
      "File \u001b[1;32mc:\\Users\\Ксения\\AppData\\Local\\Programs\\Python\\Python311\\Lib\\site-packages\\sklearn\\base.py:633\u001b[0m, in \u001b[0;36mBaseEstimator._validate_data\u001b[1;34m(self, X, y, reset, validate_separately, cast_to_ndarray, **check_params)\u001b[0m\n\u001b[0;32m    631\u001b[0m         out \u001b[38;5;241m=\u001b[39m X, y\n\u001b[0;32m    632\u001b[0m \u001b[38;5;28;01melif\u001b[39;00m \u001b[38;5;129;01mnot\u001b[39;00m no_val_X \u001b[38;5;129;01mand\u001b[39;00m no_val_y:\n\u001b[1;32m--> 633\u001b[0m     out \u001b[38;5;241m=\u001b[39m \u001b[43mcheck_array\u001b[49m\u001b[43m(\u001b[49m\u001b[43mX\u001b[49m\u001b[43m,\u001b[49m\u001b[43m \u001b[49m\u001b[43minput_name\u001b[49m\u001b[38;5;241;43m=\u001b[39;49m\u001b[38;5;124;43m\"\u001b[39;49m\u001b[38;5;124;43mX\u001b[39;49m\u001b[38;5;124;43m\"\u001b[39;49m\u001b[43m,\u001b[49m\u001b[43m \u001b[49m\u001b[38;5;241;43m*\u001b[39;49m\u001b[38;5;241;43m*\u001b[39;49m\u001b[43mcheck_params\u001b[49m\u001b[43m)\u001b[49m\n\u001b[0;32m    634\u001b[0m \u001b[38;5;28;01melif\u001b[39;00m no_val_X \u001b[38;5;129;01mand\u001b[39;00m \u001b[38;5;129;01mnot\u001b[39;00m no_val_y:\n\u001b[0;32m    635\u001b[0m     out \u001b[38;5;241m=\u001b[39m _check_y(y, \u001b[38;5;241m*\u001b[39m\u001b[38;5;241m*\u001b[39mcheck_params)\n",
      "File \u001b[1;32mc:\\Users\\Ксения\\AppData\\Local\\Programs\\Python\\Python311\\Lib\\site-packages\\sklearn\\utils\\validation.py:1049\u001b[0m, in \u001b[0;36mcheck_array\u001b[1;34m(array, accept_sparse, accept_large_sparse, dtype, order, copy, force_all_finite, ensure_2d, allow_nd, ensure_min_samples, ensure_min_features, estimator, input_name)\u001b[0m\n\u001b[0;32m   1043\u001b[0m     \u001b[38;5;28;01mraise\u001b[39;00m \u001b[38;5;167;01mValueError\u001b[39;00m(\n\u001b[0;32m   1044\u001b[0m         \u001b[38;5;124m\"\u001b[39m\u001b[38;5;124mFound array with dim \u001b[39m\u001b[38;5;132;01m%d\u001b[39;00m\u001b[38;5;124m. \u001b[39m\u001b[38;5;132;01m%s\u001b[39;00m\u001b[38;5;124m expected <= 2.\u001b[39m\u001b[38;5;124m\"\u001b[39m\n\u001b[0;32m   1045\u001b[0m         \u001b[38;5;241m%\u001b[39m (array\u001b[38;5;241m.\u001b[39mndim, estimator_name)\n\u001b[0;32m   1046\u001b[0m     )\n\u001b[0;32m   1048\u001b[0m \u001b[38;5;28;01mif\u001b[39;00m force_all_finite:\n\u001b[1;32m-> 1049\u001b[0m     \u001b[43m_assert_all_finite\u001b[49m\u001b[43m(\u001b[49m\n\u001b[0;32m   1050\u001b[0m \u001b[43m        \u001b[49m\u001b[43marray\u001b[49m\u001b[43m,\u001b[49m\n\u001b[0;32m   1051\u001b[0m \u001b[43m        \u001b[49m\u001b[43minput_name\u001b[49m\u001b[38;5;241;43m=\u001b[39;49m\u001b[43minput_name\u001b[49m\u001b[43m,\u001b[49m\n\u001b[0;32m   1052\u001b[0m \u001b[43m        \u001b[49m\u001b[43mestimator_name\u001b[49m\u001b[38;5;241;43m=\u001b[39;49m\u001b[43mestimator_name\u001b[49m\u001b[43m,\u001b[49m\n\u001b[0;32m   1053\u001b[0m \u001b[43m        \u001b[49m\u001b[43mallow_nan\u001b[49m\u001b[38;5;241;43m=\u001b[39;49m\u001b[43mforce_all_finite\u001b[49m\u001b[43m \u001b[49m\u001b[38;5;241;43m==\u001b[39;49m\u001b[43m \u001b[49m\u001b[38;5;124;43m\"\u001b[39;49m\u001b[38;5;124;43mallow-nan\u001b[39;49m\u001b[38;5;124;43m\"\u001b[39;49m\u001b[43m,\u001b[49m\n\u001b[0;32m   1054\u001b[0m \u001b[43m    \u001b[49m\u001b[43m)\u001b[49m\n\u001b[0;32m   1056\u001b[0m \u001b[38;5;28;01mif\u001b[39;00m copy:\n\u001b[0;32m   1057\u001b[0m     \u001b[38;5;28;01mif\u001b[39;00m _is_numpy_namespace(xp):\n\u001b[0;32m   1058\u001b[0m         \u001b[38;5;66;03m# only make a copy if `array` and `array_orig` may share memory`\u001b[39;00m\n",
      "File \u001b[1;32mc:\\Users\\Ксения\\AppData\\Local\\Programs\\Python\\Python311\\Lib\\site-packages\\sklearn\\utils\\validation.py:126\u001b[0m, in \u001b[0;36m_assert_all_finite\u001b[1;34m(X, allow_nan, msg_dtype, estimator_name, input_name)\u001b[0m\n\u001b[0;32m    123\u001b[0m \u001b[38;5;28;01mif\u001b[39;00m first_pass_isfinite:\n\u001b[0;32m    124\u001b[0m     \u001b[38;5;28;01mreturn\u001b[39;00m\n\u001b[1;32m--> 126\u001b[0m \u001b[43m_assert_all_finite_element_wise\u001b[49m\u001b[43m(\u001b[49m\n\u001b[0;32m    127\u001b[0m \u001b[43m    \u001b[49m\u001b[43mX\u001b[49m\u001b[43m,\u001b[49m\n\u001b[0;32m    128\u001b[0m \u001b[43m    \u001b[49m\u001b[43mxp\u001b[49m\u001b[38;5;241;43m=\u001b[39;49m\u001b[43mxp\u001b[49m\u001b[43m,\u001b[49m\n\u001b[0;32m    129\u001b[0m \u001b[43m    \u001b[49m\u001b[43mallow_nan\u001b[49m\u001b[38;5;241;43m=\u001b[39;49m\u001b[43mallow_nan\u001b[49m\u001b[43m,\u001b[49m\n\u001b[0;32m    130\u001b[0m \u001b[43m    \u001b[49m\u001b[43mmsg_dtype\u001b[49m\u001b[38;5;241;43m=\u001b[39;49m\u001b[43mmsg_dtype\u001b[49m\u001b[43m,\u001b[49m\n\u001b[0;32m    131\u001b[0m \u001b[43m    \u001b[49m\u001b[43mestimator_name\u001b[49m\u001b[38;5;241;43m=\u001b[39;49m\u001b[43mestimator_name\u001b[49m\u001b[43m,\u001b[49m\n\u001b[0;32m    132\u001b[0m \u001b[43m    \u001b[49m\u001b[43minput_name\u001b[49m\u001b[38;5;241;43m=\u001b[39;49m\u001b[43minput_name\u001b[49m\u001b[43m,\u001b[49m\n\u001b[0;32m    133\u001b[0m \u001b[43m\u001b[49m\u001b[43m)\u001b[49m\n",
      "File \u001b[1;32mc:\\Users\\Ксения\\AppData\\Local\\Programs\\Python\\Python311\\Lib\\site-packages\\sklearn\\utils\\validation.py:175\u001b[0m, in \u001b[0;36m_assert_all_finite_element_wise\u001b[1;34m(X, xp, allow_nan, msg_dtype, estimator_name, input_name)\u001b[0m\n\u001b[0;32m    158\u001b[0m \u001b[38;5;28;01mif\u001b[39;00m estimator_name \u001b[38;5;129;01mand\u001b[39;00m input_name \u001b[38;5;241m==\u001b[39m \u001b[38;5;124m\"\u001b[39m\u001b[38;5;124mX\u001b[39m\u001b[38;5;124m\"\u001b[39m \u001b[38;5;129;01mand\u001b[39;00m has_nan_error:\n\u001b[0;32m    159\u001b[0m     \u001b[38;5;66;03m# Improve the error message on how to handle missing values in\u001b[39;00m\n\u001b[0;32m    160\u001b[0m     \u001b[38;5;66;03m# scikit-learn.\u001b[39;00m\n\u001b[0;32m    161\u001b[0m     msg_err \u001b[38;5;241m+\u001b[39m\u001b[38;5;241m=\u001b[39m (\n\u001b[0;32m    162\u001b[0m         \u001b[38;5;124mf\u001b[39m\u001b[38;5;124m\"\u001b[39m\u001b[38;5;130;01m\\n\u001b[39;00m\u001b[38;5;132;01m{\u001b[39;00mestimator_name\u001b[38;5;132;01m}\u001b[39;00m\u001b[38;5;124m does not accept missing values\u001b[39m\u001b[38;5;124m\"\u001b[39m\n\u001b[0;32m    163\u001b[0m         \u001b[38;5;124m\"\u001b[39m\u001b[38;5;124m encoded as NaN natively. For supervised learning, you might want\u001b[39m\u001b[38;5;124m\"\u001b[39m\n\u001b[1;32m   (...)\u001b[0m\n\u001b[0;32m    173\u001b[0m         \u001b[38;5;124m\"\u001b[39m\u001b[38;5;124m#estimators-that-handle-nan-values\u001b[39m\u001b[38;5;124m\"\u001b[39m\n\u001b[0;32m    174\u001b[0m     )\n\u001b[1;32m--> 175\u001b[0m \u001b[38;5;28;01mraise\u001b[39;00m \u001b[38;5;167;01mValueError\u001b[39;00m(msg_err)\n",
      "\u001b[1;31mValueError\u001b[0m: Input X contains infinity or a value too large for dtype('float64')."
     ]
    }
   ],
   "source": [
    "from sklearn.impute import KNNImputer\n",
    "\n",
    "# Создание экземпляра KNNImputer\n",
    "imputer = KNNImputer()\n",
    "\n",
    "# Применение импутации к столбцу 'exc_bias_oe'\n",
    "df['exc_bias_oe'] = imputer.fit_transform(df[['exc_bias_oe']])\n",
    "df['smoothed_exc_bias_oe'] = imputer.fit_transform(df[['smoothed_exc_bias_oe']])"
   ]
  },
  {
   "cell_type": "code",
   "execution_count": null,
   "metadata": {},
   "outputs": [
    {
     "name": "stdout",
     "output_type": "stream",
     "text": [
      "id                        0\n",
      "space_group_shell         0\n",
      "coer_oe                   0\n",
      "exc_bias_oe               0\n",
      "fc_field_t                0\n",
      "h_range_max_koe           0\n",
      "mr (emu/g)                0\n",
      "sat_em_g                  0\n",
      "shape                     0\n",
      "space_group_core          0\n",
      "temperature_k             0\n",
      "ver_shift_emu_g           0\n",
      "sphericity                0\n",
      "max/min                   0\n",
      "exc_dir                   0\n",
      "ver_s_dir                 0\n",
      "area/volume               0\n",
      "smoothed_exc_bias_oe    268\n",
      "dtype: int64\n"
     ]
    }
   ],
   "source": [
    "missing_values = df.isnull().sum()\n",
    "print(missing_values)"
   ]
  },
  {
   "cell_type": "code",
   "execution_count": null,
   "metadata": {},
   "outputs": [],
   "source": [
    "df = df.drop(columns=['id']) # Просто порядковый номер моих наночастиц, чтобы отличать их друг от друга"
   ]
  },
  {
   "cell_type": "code",
   "execution_count": null,
   "metadata": {},
   "outputs": [
    {
     "name": "stdout",
     "output_type": "stream",
     "text": [
      "<class 'pandas.core.frame.DataFrame'>\n",
      "RangeIndex: 485 entries, 0 to 484\n",
      "Data columns (total 17 columns):\n",
      " #   Column                Non-Null Count  Dtype  \n",
      "---  ------                --------------  -----  \n",
      " 0   space_group_shell     485 non-null    float64\n",
      " 1   coer_oe               485 non-null    float64\n",
      " 2   exc_bias_oe           485 non-null    float64\n",
      " 3   fc_field_t            485 non-null    float64\n",
      " 4   h_range_max_koe       485 non-null    float64\n",
      " 5   mr (emu/g)            485 non-null    float64\n",
      " 6   sat_em_g              485 non-null    float64\n",
      " 7   shape                 485 non-null    float64\n",
      " 8   space_group_core      485 non-null    float64\n",
      " 9   temperature_k         485 non-null    float64\n",
      " 10  ver_shift_emu_g       485 non-null    float64\n",
      " 11  sphericity            485 non-null    float64\n",
      " 12  max/min               485 non-null    float64\n",
      " 13  exc_dir               485 non-null    float64\n",
      " 14  ver_s_dir             485 non-null    float64\n",
      " 15  area/volume           485 non-null    float64\n",
      " 16  smoothed_exc_bias_oe  485 non-null    float64\n",
      "dtypes: float64(17)\n",
      "memory usage: 64.5 KB\n",
      "None\n"
     ]
    }
   ],
   "source": [
    "print(df.info())"
   ]
  },
  {
   "cell_type": "code",
   "execution_count": null,
   "metadata": {},
   "outputs": [],
   "source": [
    "df.to_csv(r'C:\\Users\\Ксения\\Project\\Magnet_Exchange_bias\\data\\Bias_data_3.csv')"
   ]
  }
 ],
 "metadata": {
  "kernelspec": {
   "display_name": "Python 3",
   "language": "python",
   "name": "python3"
  },
  "language_info": {
   "codemirror_mode": {
    "name": "ipython",
    "version": 3
   },
   "file_extension": ".py",
   "mimetype": "text/x-python",
   "name": "python",
   "nbconvert_exporter": "python",
   "pygments_lexer": "ipython3",
   "version": "3.11.4"
  }
 },
 "nbformat": 4,
 "nbformat_minor": 2
}
