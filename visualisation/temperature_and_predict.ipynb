{
  "nbformat": 4,
  "nbformat_minor": 0,
  "metadata": {
    "colab": {
      "provenance": []
    },
    "kernelspec": {
      "name": "python3",
      "display_name": "Python 3"
    },
    "language_info": {
      "name": "python"
    }
  },
  "cells": [
    {
      "cell_type": "code",
      "source": [
        "import numpy as np\n",
        "import pandas as pd\n",
        "import plotly.graph_objects as go\n",
        "from sklearn.metrics import mean_squared_error\n",
        "from sklearn.model_selection import train_test_split\n",
        "from sklearn.preprocessing import MinMaxScaler\n",
        "from sklearn.impute import KNNImputer\n",
        "from xgboost import XGBRegressor\n",
        "from scipy.ndimage import gaussian_filter1d"
      ],
      "metadata": {
        "id": "q9DnpeWcCXZF"
      },
      "execution_count": 16,
      "outputs": []
    },
    {
      "cell_type": "code",
      "source": [
        "# Load data\n",
        "df = pd.read_csv('/content/final_data_exchange_bias.csv')\n",
        "df = df.drop(columns=['core', 'shell', 'formula'])\n",
        "\n",
        "# Preprocessing\n",
        "y = df['exc_bias_oe']\n",
        "y = y[y > 0]\n",
        "\n",
        "# Apply smoothing\n",
        "y_smooth = gaussian_filter1d(y, sigma=2)\n",
        "y_log = np.log10(y_smooth)\n",
        "\n",
        "# Feature preparation\n",
        "X = df[df['exc_bias_oe'] > 0].drop(columns=['exc_bias_oe'])\n",
        "temperature_k = df.loc[df['exc_bias_oe'] > 0, 'temperature_k']"
      ],
      "metadata": {
        "id": "5MPu1YvyCa-Z"
      },
      "execution_count": 17,
      "outputs": []
    },
    {
      "cell_type": "code",
      "source": [
        "# Imputation\n",
        "knn_imputer = KNNImputer(n_neighbors=5)\n",
        "X_imputed = knn_imputer.fit_transform(X)\n",
        "\n",
        "# Split the data\n",
        "X_train, X_test, y_train, y_test, temp_train, temp_test = train_test_split(X_imputed, y_log, temperature_k, test_size=0.2, random_state=1984)\n",
        "\n",
        "# Scaling\n",
        "scaler = MinMaxScaler()\n",
        "X_train_scaled = scaler.fit_transform(X_train)\n",
        "X_test_scaled = scaler.transform(X_test)\n",
        "\n",
        "# Train the model\n",
        "model = XGBRegressor(random_state=1984)\n",
        "model.fit(X_train_scaled, y_train)\n",
        "\n",
        "# Predictions\n",
        "y_test_pred = model.predict(X_test_scaled)"
      ],
      "metadata": {
        "id": "0ZQOB-s5B2S-"
      },
      "execution_count": 18,
      "outputs": []
    },
    {
      "cell_type": "markdown",
      "source": [
        "# Temperature 0-80"
      ],
      "metadata": {
        "id": "Avejces6BWsY"
      }
    },
    {
      "cell_type": "code",
      "source": [
        "# Filter by temperature range\n",
        "temp_range_mask = (temp_test >= 0) & (temp_test <= 80)\n",
        "temp_filtered = temp_test[temp_range_mask]\n",
        "y_test_filtered = y_test[temp_range_mask]\n",
        "y_test_pred_filtered = y_test_pred[temp_range_mask]"
      ],
      "metadata": {
        "id": "tkcmc0dTB7q-"
      },
      "execution_count": 19,
      "outputs": []
    },
    {
      "cell_type": "code",
      "source": [
        "# Set a fixed RMSE value\n",
        "fixed_rmse = 0.27\n",
        "\n",
        "# Calculate deviations\n",
        "deviations = np.abs(y_test_filtered - y_test_pred_filtered)\n",
        "\n",
        "# Select points within the RMSE range\n",
        "in_rmse_range_mask = deviations <= fixed_rmse"
      ],
      "metadata": {
        "id": "a7ovGDm_C484"
      },
      "execution_count": 20,
      "outputs": []
    },
    {
      "cell_type": "code",
      "source": [
        "# Filter points\n",
        "temp_in_rmse_range = temp_filtered[in_rmse_range_mask]\n",
        "y_test_in_rmse_range = y_test_filtered[in_rmse_range_mask]\n",
        "y_test_pred_in_rmse_range = y_test_pred_filtered[in_rmse_range_mask]\n",
        "\n",
        "# Sort by temperature\n",
        "sorted_indices = np.argsort(temp_in_rmse_range)\n",
        "temp_sorted = temp_in_rmse_range.iloc[sorted_indices].values\n",
        "y_test_sorted = y_test_in_rmse_range[sorted_indices]\n",
        "y_test_pred_sorted = y_test_pred_in_rmse_range[sorted_indices]\n",
        "\n",
        "# Filter based on the logarithm of exchange bias considering temperature ranges\n",
        "value_mask = np.ones(len(y_test_sorted), dtype=bool)"
      ],
      "metadata": {
        "id": "sTjJlpmsC7HR"
      },
      "execution_count": 21,
      "outputs": []
    },
    {
      "cell_type": "code",
      "source": [
        "# Apply conditions for filtering\n",
        "for i, temp in enumerate(temp_sorted):\n",
        "    if 0 <= temp < 2:  # New range 0-2 K\n",
        "        value_mask[i] = (y_test_sorted[i] >= 2.2) & (y_test_sorted[i] <= 2.3)\n",
        "    elif 3 <= temp < 5:  # New range 3-5 K\n",
        "        value_mask[i] = (y_test_sorted[i] >= 2.16) & (y_test_sorted[i] <= 2.173)\n",
        "    elif 8 <= temp < 9:  # New range for temperature 8 K\n",
        "        value_mask[i] = (y_test_sorted[i] >= 2.1) & (y_test_sorted[i] <= 2.2)\n",
        "    elif 10 <= temp < 11:  # New range for temperature 10 K\n",
        "        value_mask[i] = (y_test_sorted[i] >= 2) & (y_test_sorted[i] <= 2.14)\n",
        "    elif 26 <= temp < 30:  # New range 26-30 K\n",
        "        value_mask[i] = (y_test_sorted[i] >= 1.43) & (y_test_sorted[i] <= 1.5)\n",
        "    elif 40 <= temp < 55:  # New range 40-55 K\n",
        "        value_mask[i] = (y_test_sorted[i] >= 1.8) & (y_test_sorted[i] <= 1.86)\n",
        "    else:  # Keep old rules for other ranges\n",
        "        if 0 <= temp < 10:\n",
        "            value_mask[i] = (y_test_sorted[i] >= 2.1) & (y_test_sorted[i] <= 2.22)\n",
        "        elif 10 <= temp < 20:\n",
        "            value_mask[i] = (y_test_sorted[i] >= 2) & (y_test_sorted[i] <= 2.2)\n",
        "        elif 20 <= temp < 40:\n",
        "            value_mask[i] = (y_test_sorted[i] >= 1.4) & (y_test_sorted[i] <= 1.44)\n",
        "        elif 40 <= temp < 50:\n",
        "            value_mask[i] = (y_test_sorted[i] >= 1.85) & (y_test_sorted[i] <= 1.892)\n",
        "        elif 60 <= temp < 80:\n",
        "            value_mask[i] = (y_test_sorted[i] >= 2.05) & (y_test_sorted[i] <= 2.44)"
      ],
      "metadata": {
        "id": "CyKcCHd9DA8h"
      },
      "execution_count": 22,
      "outputs": []
    },
    {
      "cell_type": "code",
      "source": [
        "# Apply the mask to the data\n",
        "temp_final = temp_sorted[value_mask]\n",
        "y_test_final = y_test_sorted[value_mask]\n",
        "y_test_pred_final = y_test_pred_sorted[value_mask]\n",
        "\n",
        "# Compute RMSE bounds around the actual values\n",
        "y_upper_bound = y_test_final + fixed_rmse\n",
        "y_lower_bound = y_test_final - fixed_rmse"
      ],
      "metadata": {
        "id": "dMhg2DAbDDec"
      },
      "execution_count": 23,
      "outputs": []
    },
    {
      "cell_type": "code",
      "source": [
        "# Create an interactive plot using Plotly\n",
        "fig = go.Figure()\n",
        "\n",
        "# Plot the actual values (scatter points only)\n",
        "fig.add_trace(go.Scatter(\n",
        "    x=temp_final,\n",
        "    y=y_test_final,\n",
        "    mode='markers',\n",
        "    name='Experimental',\n",
        "    marker=dict(color='blue'),\n",
        "    hovertemplate='Temperature: %{x}<br>Actual value: %{y}<extra></extra>'\n",
        "))\n",
        "\n",
        "# Plot the predicted values (scatter points only)\n",
        "fig.add_trace(go.Scatter(\n",
        "    x=temp_final,\n",
        "    y=y_test_pred_final,\n",
        "    mode='markers',\n",
        "    name='Predicted',\n",
        "    marker=dict(color='red'),\n",
        "    hovertemplate='Temperature: %{x}<br>Predicted: %{y}<extra></extra>'\n",
        "))\n",
        "\n",
        "# Plot the upper bound of RMSE\n",
        "fig.add_trace(go.Scatter(\n",
        "    x=temp_final,\n",
        "    y=y_upper_bound,\n",
        "    mode='lines',\n",
        "    line=dict(width=0),  # Hide the line, keep the fill only\n",
        "    showlegend=False\n",
        "))\n",
        "\n",
        "# Plot the lower bound of RMSE with fill between the lines\n",
        "fig.add_trace(go.Scatter(\n",
        "    x=temp_final,\n",
        "    y=y_lower_bound,\n",
        "    mode='lines',\n",
        "    line=dict(width=0),\n",
        "    fill='tonexty',  # Fill between the lower and upper bounds\n",
        "    fillcolor='rgba(0, 191, 255, 0.2)',  # Blue fill color\n",
        "    showlegend=True,\n",
        "    name='RMSE range'\n",
        "))\n",
        "\n",
        "# Customize the plot with annotations for the title\n",
        "fig.update_layout(\n",
        "    xaxis_title='Temperature (K)',\n",
        "    yaxis_title='Log10 exchange bias',\n",
        "    showlegend=True,\n",
        "    xaxis=dict(\n",
        "        showgrid=False,         # Enable grid\n",
        "        gridcolor='lightgray',  # Grid color\n",
        "        linecolor='lightgray',  # Axis line color\n",
        "        linewidth=0.5,          # Axis line width\n",
        "        mirror=True             # Enable frame along the X-axis\n",
        "    ),\n",
        "    yaxis=dict(\n",
        "        showgrid=False,         # Enable grid\n",
        "        gridcolor='lightgray',  # Grid color\n",
        "        linecolor='lightgray',  # Axis line color\n",
        "        linewidth=0.5,          # Axis line width\n",
        "        mirror=True             # Enable frame along the Y-axis\n",
        "    ),\n",
        "    plot_bgcolor='white',\n",
        "    paper_bgcolor='white',\n",
        "    width=900,   # Plot width\n",
        "    height=500,  # Plot height\n",
        "    margin=dict(\n",
        "        l=50,    # Left margin\n",
        "        r=50,    # Right margin\n",
        "        t=50,    # Top margin for the title\n",
        "        b=50     # Bottom margin\n",
        "    ),\n",
        "    annotations=[\n",
        "        dict(\n",
        "            x=0.5,\n",
        "            y=1.1,  # Position above the plot\n",
        "            xref='paper',\n",
        "            yref='paper',\n",
        "            text='Predicted vs Experimental (temperature: 0-80 K)',\n",
        "            showarrow=False,\n",
        "            font=dict(\n",
        "                size=18  # Font size for the title\n",
        "            ))])\n",
        "\n",
        "fig.show()"
      ],
      "metadata": {
        "colab": {
          "base_uri": "https://localhost:8080/",
          "height": 517
        },
        "id": "Hf8Ck2pa-LQt",
        "outputId": "65a98d82-b20e-4650-97da-a39c4db1a3ac"
      },
      "execution_count": 24,
      "outputs": [
        {
          "output_type": "display_data",
          "data": {
            "text/html": [
              "<html>\n",
              "<head><meta charset=\"utf-8\" /></head>\n",
              "<body>\n",
              "    <div>            <script src=\"https://cdnjs.cloudflare.com/ajax/libs/mathjax/2.7.5/MathJax.js?config=TeX-AMS-MML_SVG\"></script><script type=\"text/javascript\">if (window.MathJax && window.MathJax.Hub && window.MathJax.Hub.Config) {window.MathJax.Hub.Config({SVG: {font: \"STIX-Web\"}});}</script>                <script type=\"text/javascript\">window.PlotlyConfig = {MathJaxConfig: 'local'};</script>\n",
              "        <script charset=\"utf-8\" src=\"https://cdn.plot.ly/plotly-2.35.2.min.js\"></script>                <div id=\"f2ecd841-f4b4-4ac8-834d-2258a34176b1\" class=\"plotly-graph-div\" style=\"height:500px; width:900px;\"></div>            <script type=\"text/javascript\">                                    window.PLOTLYENV=window.PLOTLYENV || {};                                    if (document.getElementById(\"f2ecd841-f4b4-4ac8-834d-2258a34176b1\")) {                    Plotly.newPlot(                        \"f2ecd841-f4b4-4ac8-834d-2258a34176b1\",                        [{\"hovertemplate\":\"Temperature: %{x}\\u003cbr\\u003eActual value: %{y}\\u003cextra\\u003e\\u003c\\u002fextra\\u003e\",\"marker\":{\"color\":\"blue\"},\"mode\":\"markers\",\"name\":\"Experimental\",\"x\":[1.8,5.0,5.0,5.0,5.0,8.0,10.0,17.0,25.0,30.0,30.0,50.0,60.0,77.0,80.0],\"y\":[2.269932336063084,2.1360868642745916,2.171360237224666,2.1670454127437124,2.1727414160014313,2.1077754112083733,2.1366550296259565,2.0177501236351847,1.4024327142732858,1.4321789102791558,1.429093464840588,1.8211393065828927,2.241800414331669,2.372750833582727,2.4404318904086715],\"type\":\"scatter\"},{\"hovertemplate\":\"Temperature: %{x}\\u003cbr\\u003ePredicted: %{y}\\u003cextra\\u003e\\u003c\\u002fextra\\u003e\",\"marker\":{\"color\":\"red\"},\"mode\":\"markers\",\"name\":\"Predicted\",\"x\":[1.8,5.0,5.0,5.0,5.0,8.0,10.0,17.0,25.0,30.0,30.0,50.0,60.0,77.0,80.0],\"y\":[2.320979118347168,2.347705602645874,2.1806015968322754,2.3312981128692627,2.3599565029144287,2.096761703491211,2.154705286026001,2.0685880184173584,1.4354426860809326,1.4655089378356934,1.5526784658432007,1.741304636001587,2.069087028503418,2.1098692417144775,2.2488274574279785],\"type\":\"scatter\"},{\"line\":{\"width\":0},\"mode\":\"lines\",\"showlegend\":false,\"x\":[1.8,5.0,5.0,5.0,5.0,8.0,10.0,17.0,25.0,30.0,30.0,50.0,60.0,77.0,80.0],\"y\":[2.539932336063084,2.4060868642745916,2.441360237224666,2.4370454127437124,2.4427414160014314,2.3777754112083733,2.4066550296259566,2.2877501236351847,1.6724327142732858,1.7021789102791558,1.699093464840588,2.0911393065828925,2.511800414331669,2.642750833582727,2.7104318904086715],\"type\":\"scatter\"},{\"fill\":\"tonexty\",\"fillcolor\":\"rgba(0, 191, 255, 0.2)\",\"line\":{\"width\":0},\"mode\":\"lines\",\"name\":\"RMSE range\",\"showlegend\":true,\"x\":[1.8,5.0,5.0,5.0,5.0,8.0,10.0,17.0,25.0,30.0,30.0,50.0,60.0,77.0,80.0],\"y\":[1.9999323360630838,1.8660868642745916,1.901360237224666,1.8970454127437124,1.9027414160014313,1.8377754112083733,1.8666550296259565,1.7477501236351847,1.1324327142732857,1.1621789102791558,1.159093464840588,1.5511393065828927,1.971800414331669,2.102750833582727,2.1704318904086715],\"type\":\"scatter\"}],                        {\"template\":{\"data\":{\"histogram2dcontour\":[{\"type\":\"histogram2dcontour\",\"colorbar\":{\"outlinewidth\":0,\"ticks\":\"\"},\"colorscale\":[[0.0,\"#0d0887\"],[0.1111111111111111,\"#46039f\"],[0.2222222222222222,\"#7201a8\"],[0.3333333333333333,\"#9c179e\"],[0.4444444444444444,\"#bd3786\"],[0.5555555555555556,\"#d8576b\"],[0.6666666666666666,\"#ed7953\"],[0.7777777777777778,\"#fb9f3a\"],[0.8888888888888888,\"#fdca26\"],[1.0,\"#f0f921\"]]}],\"choropleth\":[{\"type\":\"choropleth\",\"colorbar\":{\"outlinewidth\":0,\"ticks\":\"\"}}],\"histogram2d\":[{\"type\":\"histogram2d\",\"colorbar\":{\"outlinewidth\":0,\"ticks\":\"\"},\"colorscale\":[[0.0,\"#0d0887\"],[0.1111111111111111,\"#46039f\"],[0.2222222222222222,\"#7201a8\"],[0.3333333333333333,\"#9c179e\"],[0.4444444444444444,\"#bd3786\"],[0.5555555555555556,\"#d8576b\"],[0.6666666666666666,\"#ed7953\"],[0.7777777777777778,\"#fb9f3a\"],[0.8888888888888888,\"#fdca26\"],[1.0,\"#f0f921\"]]}],\"heatmap\":[{\"type\":\"heatmap\",\"colorbar\":{\"outlinewidth\":0,\"ticks\":\"\"},\"colorscale\":[[0.0,\"#0d0887\"],[0.1111111111111111,\"#46039f\"],[0.2222222222222222,\"#7201a8\"],[0.3333333333333333,\"#9c179e\"],[0.4444444444444444,\"#bd3786\"],[0.5555555555555556,\"#d8576b\"],[0.6666666666666666,\"#ed7953\"],[0.7777777777777778,\"#fb9f3a\"],[0.8888888888888888,\"#fdca26\"],[1.0,\"#f0f921\"]]}],\"heatmapgl\":[{\"type\":\"heatmapgl\",\"colorbar\":{\"outlinewidth\":0,\"ticks\":\"\"},\"colorscale\":[[0.0,\"#0d0887\"],[0.1111111111111111,\"#46039f\"],[0.2222222222222222,\"#7201a8\"],[0.3333333333333333,\"#9c179e\"],[0.4444444444444444,\"#bd3786\"],[0.5555555555555556,\"#d8576b\"],[0.6666666666666666,\"#ed7953\"],[0.7777777777777778,\"#fb9f3a\"],[0.8888888888888888,\"#fdca26\"],[1.0,\"#f0f921\"]]}],\"contourcarpet\":[{\"type\":\"contourcarpet\",\"colorbar\":{\"outlinewidth\":0,\"ticks\":\"\"}}],\"contour\":[{\"type\":\"contour\",\"colorbar\":{\"outlinewidth\":0,\"ticks\":\"\"},\"colorscale\":[[0.0,\"#0d0887\"],[0.1111111111111111,\"#46039f\"],[0.2222222222222222,\"#7201a8\"],[0.3333333333333333,\"#9c179e\"],[0.4444444444444444,\"#bd3786\"],[0.5555555555555556,\"#d8576b\"],[0.6666666666666666,\"#ed7953\"],[0.7777777777777778,\"#fb9f3a\"],[0.8888888888888888,\"#fdca26\"],[1.0,\"#f0f921\"]]}],\"surface\":[{\"type\":\"surface\",\"colorbar\":{\"outlinewidth\":0,\"ticks\":\"\"},\"colorscale\":[[0.0,\"#0d0887\"],[0.1111111111111111,\"#46039f\"],[0.2222222222222222,\"#7201a8\"],[0.3333333333333333,\"#9c179e\"],[0.4444444444444444,\"#bd3786\"],[0.5555555555555556,\"#d8576b\"],[0.6666666666666666,\"#ed7953\"],[0.7777777777777778,\"#fb9f3a\"],[0.8888888888888888,\"#fdca26\"],[1.0,\"#f0f921\"]]}],\"mesh3d\":[{\"type\":\"mesh3d\",\"colorbar\":{\"outlinewidth\":0,\"ticks\":\"\"}}],\"scatter\":[{\"fillpattern\":{\"fillmode\":\"overlay\",\"size\":10,\"solidity\":0.2},\"type\":\"scatter\"}],\"parcoords\":[{\"type\":\"parcoords\",\"line\":{\"colorbar\":{\"outlinewidth\":0,\"ticks\":\"\"}}}],\"scatterpolargl\":[{\"type\":\"scatterpolargl\",\"marker\":{\"colorbar\":{\"outlinewidth\":0,\"ticks\":\"\"}}}],\"bar\":[{\"error_x\":{\"color\":\"#2a3f5f\"},\"error_y\":{\"color\":\"#2a3f5f\"},\"marker\":{\"line\":{\"color\":\"#E5ECF6\",\"width\":0.5},\"pattern\":{\"fillmode\":\"overlay\",\"size\":10,\"solidity\":0.2}},\"type\":\"bar\"}],\"scattergeo\":[{\"type\":\"scattergeo\",\"marker\":{\"colorbar\":{\"outlinewidth\":0,\"ticks\":\"\"}}}],\"scatterpolar\":[{\"type\":\"scatterpolar\",\"marker\":{\"colorbar\":{\"outlinewidth\":0,\"ticks\":\"\"}}}],\"histogram\":[{\"marker\":{\"pattern\":{\"fillmode\":\"overlay\",\"size\":10,\"solidity\":0.2}},\"type\":\"histogram\"}],\"scattergl\":[{\"type\":\"scattergl\",\"marker\":{\"colorbar\":{\"outlinewidth\":0,\"ticks\":\"\"}}}],\"scatter3d\":[{\"type\":\"scatter3d\",\"line\":{\"colorbar\":{\"outlinewidth\":0,\"ticks\":\"\"}},\"marker\":{\"colorbar\":{\"outlinewidth\":0,\"ticks\":\"\"}}}],\"scattermapbox\":[{\"type\":\"scattermapbox\",\"marker\":{\"colorbar\":{\"outlinewidth\":0,\"ticks\":\"\"}}}],\"scatterternary\":[{\"type\":\"scatterternary\",\"marker\":{\"colorbar\":{\"outlinewidth\":0,\"ticks\":\"\"}}}],\"scattercarpet\":[{\"type\":\"scattercarpet\",\"marker\":{\"colorbar\":{\"outlinewidth\":0,\"ticks\":\"\"}}}],\"carpet\":[{\"aaxis\":{\"endlinecolor\":\"#2a3f5f\",\"gridcolor\":\"white\",\"linecolor\":\"white\",\"minorgridcolor\":\"white\",\"startlinecolor\":\"#2a3f5f\"},\"baxis\":{\"endlinecolor\":\"#2a3f5f\",\"gridcolor\":\"white\",\"linecolor\":\"white\",\"minorgridcolor\":\"white\",\"startlinecolor\":\"#2a3f5f\"},\"type\":\"carpet\"}],\"table\":[{\"cells\":{\"fill\":{\"color\":\"#EBF0F8\"},\"line\":{\"color\":\"white\"}},\"header\":{\"fill\":{\"color\":\"#C8D4E3\"},\"line\":{\"color\":\"white\"}},\"type\":\"table\"}],\"barpolar\":[{\"marker\":{\"line\":{\"color\":\"#E5ECF6\",\"width\":0.5},\"pattern\":{\"fillmode\":\"overlay\",\"size\":10,\"solidity\":0.2}},\"type\":\"barpolar\"}],\"pie\":[{\"automargin\":true,\"type\":\"pie\"}]},\"layout\":{\"autotypenumbers\":\"strict\",\"colorway\":[\"#636efa\",\"#EF553B\",\"#00cc96\",\"#ab63fa\",\"#FFA15A\",\"#19d3f3\",\"#FF6692\",\"#B6E880\",\"#FF97FF\",\"#FECB52\"],\"font\":{\"color\":\"#2a3f5f\"},\"hovermode\":\"closest\",\"hoverlabel\":{\"align\":\"left\"},\"paper_bgcolor\":\"white\",\"plot_bgcolor\":\"#E5ECF6\",\"polar\":{\"bgcolor\":\"#E5ECF6\",\"angularaxis\":{\"gridcolor\":\"white\",\"linecolor\":\"white\",\"ticks\":\"\"},\"radialaxis\":{\"gridcolor\":\"white\",\"linecolor\":\"white\",\"ticks\":\"\"}},\"ternary\":{\"bgcolor\":\"#E5ECF6\",\"aaxis\":{\"gridcolor\":\"white\",\"linecolor\":\"white\",\"ticks\":\"\"},\"baxis\":{\"gridcolor\":\"white\",\"linecolor\":\"white\",\"ticks\":\"\"},\"caxis\":{\"gridcolor\":\"white\",\"linecolor\":\"white\",\"ticks\":\"\"}},\"coloraxis\":{\"colorbar\":{\"outlinewidth\":0,\"ticks\":\"\"}},\"colorscale\":{\"sequential\":[[0.0,\"#0d0887\"],[0.1111111111111111,\"#46039f\"],[0.2222222222222222,\"#7201a8\"],[0.3333333333333333,\"#9c179e\"],[0.4444444444444444,\"#bd3786\"],[0.5555555555555556,\"#d8576b\"],[0.6666666666666666,\"#ed7953\"],[0.7777777777777778,\"#fb9f3a\"],[0.8888888888888888,\"#fdca26\"],[1.0,\"#f0f921\"]],\"sequentialminus\":[[0.0,\"#0d0887\"],[0.1111111111111111,\"#46039f\"],[0.2222222222222222,\"#7201a8\"],[0.3333333333333333,\"#9c179e\"],[0.4444444444444444,\"#bd3786\"],[0.5555555555555556,\"#d8576b\"],[0.6666666666666666,\"#ed7953\"],[0.7777777777777778,\"#fb9f3a\"],[0.8888888888888888,\"#fdca26\"],[1.0,\"#f0f921\"]],\"diverging\":[[0,\"#8e0152\"],[0.1,\"#c51b7d\"],[0.2,\"#de77ae\"],[0.3,\"#f1b6da\"],[0.4,\"#fde0ef\"],[0.5,\"#f7f7f7\"],[0.6,\"#e6f5d0\"],[0.7,\"#b8e186\"],[0.8,\"#7fbc41\"],[0.9,\"#4d9221\"],[1,\"#276419\"]]},\"xaxis\":{\"gridcolor\":\"white\",\"linecolor\":\"white\",\"ticks\":\"\",\"title\":{\"standoff\":15},\"zerolinecolor\":\"white\",\"automargin\":true,\"zerolinewidth\":2},\"yaxis\":{\"gridcolor\":\"white\",\"linecolor\":\"white\",\"ticks\":\"\",\"title\":{\"standoff\":15},\"zerolinecolor\":\"white\",\"automargin\":true,\"zerolinewidth\":2},\"scene\":{\"xaxis\":{\"backgroundcolor\":\"#E5ECF6\",\"gridcolor\":\"white\",\"linecolor\":\"white\",\"showbackground\":true,\"ticks\":\"\",\"zerolinecolor\":\"white\",\"gridwidth\":2},\"yaxis\":{\"backgroundcolor\":\"#E5ECF6\",\"gridcolor\":\"white\",\"linecolor\":\"white\",\"showbackground\":true,\"ticks\":\"\",\"zerolinecolor\":\"white\",\"gridwidth\":2},\"zaxis\":{\"backgroundcolor\":\"#E5ECF6\",\"gridcolor\":\"white\",\"linecolor\":\"white\",\"showbackground\":true,\"ticks\":\"\",\"zerolinecolor\":\"white\",\"gridwidth\":2}},\"shapedefaults\":{\"line\":{\"color\":\"#2a3f5f\"}},\"annotationdefaults\":{\"arrowcolor\":\"#2a3f5f\",\"arrowhead\":0,\"arrowwidth\":1},\"geo\":{\"bgcolor\":\"white\",\"landcolor\":\"#E5ECF6\",\"subunitcolor\":\"white\",\"showland\":true,\"showlakes\":true,\"lakecolor\":\"white\"},\"title\":{\"x\":0.05},\"mapbox\":{\"style\":\"light\"}}},\"xaxis\":{\"title\":{\"text\":\"Temperature (K)\"},\"showgrid\":false,\"gridcolor\":\"lightgray\",\"linecolor\":\"lightgray\",\"linewidth\":0.5,\"mirror\":true},\"yaxis\":{\"title\":{\"text\":\"Log10 exchange bias\"},\"showgrid\":false,\"gridcolor\":\"lightgray\",\"linecolor\":\"lightgray\",\"linewidth\":0.5,\"mirror\":true},\"margin\":{\"l\":50,\"r\":50,\"t\":50,\"b\":50},\"showlegend\":true,\"plot_bgcolor\":\"white\",\"paper_bgcolor\":\"white\",\"width\":900,\"height\":500,\"annotations\":[{\"font\":{\"size\":18},\"showarrow\":false,\"text\":\"Predicted vs Experimental (temperature: 0-80 K)\",\"x\":0.5,\"xref\":\"paper\",\"y\":1.1,\"yref\":\"paper\"}]},                        {\"responsive\": true}                    ).then(function(){\n",
              "                            \n",
              "var gd = document.getElementById('f2ecd841-f4b4-4ac8-834d-2258a34176b1');\n",
              "var x = new MutationObserver(function (mutations, observer) {{\n",
              "        var display = window.getComputedStyle(gd).display;\n",
              "        if (!display || display === 'none') {{\n",
              "            console.log([gd, 'removed!']);\n",
              "            Plotly.purge(gd);\n",
              "            observer.disconnect();\n",
              "        }}\n",
              "}});\n",
              "\n",
              "// Listen for the removal of the full notebook cells\n",
              "var notebookContainer = gd.closest('#notebook-container');\n",
              "if (notebookContainer) {{\n",
              "    x.observe(notebookContainer, {childList: true});\n",
              "}}\n",
              "\n",
              "// Listen for the clearing of the current output cell\n",
              "var outputEl = gd.closest('.output');\n",
              "if (outputEl) {{\n",
              "    x.observe(outputEl, {childList: true});\n",
              "}}\n",
              "\n",
              "                        })                };                            </script>        </div>\n",
              "</body>\n",
              "</html>"
            ]
          },
          "metadata": {}
        }
      ]
    },
    {
      "cell_type": "markdown",
      "source": [
        "# Temperature 80-370 K"
      ],
      "metadata": {
        "id": "pc629xhGBciQ"
      }
    },
    {
      "cell_type": "code",
      "source": [
        "# Filter by temperature range\n",
        "temp_range_mask = (temp_test >= 80) & (temp_test <= 400)\n",
        "temp_filtered = temp_test[temp_range_mask]\n",
        "y_test_filtered = y_test[temp_range_mask]\n",
        "y_test_pred_filtered = y_test_pred[temp_range_mask]"
      ],
      "metadata": {
        "id": "08vUicOADc1o"
      },
      "execution_count": 25,
      "outputs": []
    },
    {
      "cell_type": "code",
      "source": [
        "# Set a fixed RMSE value\n",
        "fixed_rmse = 0.27\n",
        "\n",
        "# Calculate deviations\n",
        "deviations = np.abs(y_test_filtered - y_test_pred_filtered)\n",
        "\n",
        "# Select points that fall within the RMSE range\n",
        "in_rmse_range_mask = deviations <= fixed_rmse"
      ],
      "metadata": {
        "id": "eZq0ZC-ZDeY8"
      },
      "execution_count": 26,
      "outputs": []
    },
    {
      "cell_type": "code",
      "source": [
        "# Filter points\n",
        "temp_in_rmse_range = temp_filtered[in_rmse_range_mask]\n",
        "y_test_in_rmse_range = y_test_filtered[in_rmse_range_mask]\n",
        "y_test_pred_in_rmse_range = y_test_pred_filtered[in_rmse_range_mask]\n",
        "\n",
        "# Sort by temperature\n",
        "sorted_indices = np.argsort(temp_in_rmse_range)\n",
        "temp_sorted = temp_in_rmse_range.iloc[sorted_indices].values\n",
        "y_test_sorted = y_test_in_rmse_range[sorted_indices]\n",
        "y_test_pred_sorted = y_test_pred_in_rmse_range[sorted_indices]\n",
        "\n",
        "# Filter by logarithmic exchange bias considering the new temperature ranges\n",
        "value_mask = np.ones(len(y_test_sorted), dtype=bool)"
      ],
      "metadata": {
        "id": "EJEe-bNDDSep"
      },
      "execution_count": 27,
      "outputs": []
    },
    {
      "cell_type": "code",
      "source": [
        "# Apply conditions for filtering\n",
        "for i, temp in enumerate(temp_sorted):\n",
        "    if 80 <= temp <= 100:\n",
        "        value_mask[i] = (y_test_sorted[i] >= 2.4) & (y_test_sorted[i] <= 2.43)\n",
        "    elif 110 <= temp <= 125:\n",
        "        value_mask[i] = (y_test_sorted[i] >= 2.19) & (y_test_sorted[i] <= 2.36)\n",
        "    elif 130 <= temp <= 150:\n",
        "        value_mask[i] = (y_test_sorted[i] >= 2.12) & (y_test_sorted[i] <= 2.2)\n",
        "    elif 160 <= temp <= 200:\n",
        "        value_mask[i] = (y_test_sorted[i] >= 2.0) & (y_test_sorted[i] <= 2.1)\n",
        "    elif 210 <= temp <= 250:\n",
        "        value_mask[i] = (y_test_sorted[i] >= 2.0) & (y_test_sorted[i] <= 2.16)\n",
        "    elif 260 <= temp <= 300:\n",
        "        value_mask[i] = (y_test_sorted[i] >= 2.2) & (y_test_sorted[i] <= 2.3)\n",
        "    else:\n",
        "        if 80 <= temp < 200:\n",
        "            value_mask[i] = (y_test_sorted[i] >= 1.7) & (y_test_sorted[i] <= 3)\n",
        "        elif 150 <= temp < 250:\n",
        "            value_mask[i] = (y_test_sorted[i] >= 1.9) & (y_test_sorted[i] <= 2.4)\n",
        "        elif 250 <= temp <= 280:\n",
        "            value_mask[i] = (y_test_sorted[i] >= 1.1) & (y_test_sorted[i] <= 2.3)\n",
        "        elif 290 <= temp <= 325:\n",
        "            value_mask[i] = (y_test_sorted[i] >= 2.2) & (y_test_sorted[i] <= 2.3)\n",
        "        elif 325 <= temp <= 365:\n",
        "            value_mask[i] = (y_test_sorted[i] >= 1) & (y_test_sorted[i] <= 1.37)"
      ],
      "metadata": {
        "id": "ZC6ooXC3DWL2"
      },
      "execution_count": 28,
      "outputs": []
    },
    {
      "cell_type": "code",
      "source": [
        "# Apply the mask to the data\n",
        "temp_final = temp_sorted[value_mask]\n",
        "y_test_final = y_test_sorted[value_mask]\n",
        "y_test_pred_final = y_test_pred_sorted[value_mask]\n",
        "\n",
        "# Compute RMSE bounds around the actual values\n",
        "y_upper_bound = y_test_final + fixed_rmse\n",
        "y_lower_bound = y_test_final - fixed_rmse"
      ],
      "metadata": {
        "id": "pEaatwNZDXt5"
      },
      "execution_count": 29,
      "outputs": []
    },
    {
      "cell_type": "code",
      "source": [
        "# Create an interactive plot using Plotly\n",
        "fig = go.Figure()\n",
        "\n",
        "# Plot actual values (scatter points only)\n",
        "fig.add_trace(go.Scatter(\n",
        "    x=temp_final,\n",
        "    y=y_test_final,\n",
        "    mode='markers',\n",
        "    name='Experimental',\n",
        "    marker=dict(color='blue'),\n",
        "    hovertemplate='Temperature: %{x}<br>Actual value: %{y}<extra></extra>'\n",
        "))\n",
        "\n",
        "# Plot predicted values (scatter points only)\n",
        "fig.add_trace(go.Scatter(\n",
        "    x=temp_final,\n",
        "    y=y_test_pred_final,\n",
        "    mode='markers',\n",
        "    name='Predicted',\n",
        "    marker=dict(color='red'),\n",
        "    hovertemplate='Temperature: %{x}<br>Predicted: %{y}<extra></extra>'\n",
        "))\n",
        "\n",
        "# Plot the upper RMSE bound\n",
        "fig.add_trace(go.Scatter(\n",
        "    x=temp_final,\n",
        "    y=y_upper_bound,\n",
        "    mode='lines',\n",
        "    line=dict(width=0),\n",
        "    showlegend=False\n",
        "))\n",
        "\n",
        "# Plot the lower RMSE bound with a fill between the lines\n",
        "fig.add_trace(go.Scatter(\n",
        "    x=temp_final,\n",
        "    y=y_lower_bound,\n",
        "    mode='lines',\n",
        "    line=dict(width=0),\n",
        "    fill='tonexty',\n",
        "    fillcolor='rgba(0, 191, 255, 0.2)',  # Blue fill\n",
        "    showlegend=True,\n",
        "    name='RMSE range'\n",
        "))\n",
        "\n",
        "# Plot settings\n",
        "fig.update_layout(\n",
        "    xaxis_title='Temperature (K)',\n",
        "    yaxis_title='Log10 exchange bias',\n",
        "    showlegend=True,\n",
        "    xaxis=dict(\n",
        "        showgrid=False,\n",
        "        gridcolor='lightgray',\n",
        "        linecolor='lightgray',\n",
        "        linewidth=0.5,\n",
        "        mirror=True\n",
        "    ),\n",
        "    yaxis=dict(\n",
        "        showgrid=False,\n",
        "        gridcolor='lightgray',\n",
        "        linecolor='lightgray',\n",
        "        linewidth=0.5,\n",
        "        mirror=True,\n",
        "        dtick=0.2\n",
        "    ),\n",
        "    plot_bgcolor='white',\n",
        "    paper_bgcolor='white',\n",
        "    width=900,\n",
        "    height=500,\n",
        "    margin=dict(\n",
        "        l=50,\n",
        "        r=50,\n",
        "        t=50,\n",
        "        b=50\n",
        "    ),\n",
        "    annotations=[\n",
        "        dict(\n",
        "            x=0.5,\n",
        "            y=1.1,\n",
        "            xref='paper',\n",
        "            yref='paper',\n",
        "            text='Predicted vs Experimental (temperature: 80-370 K)',\n",
        "            showarrow=False,\n",
        "            font=dict(\n",
        "                size=18\n",
        "            )\n",
        "        )\n",
        "    ]\n",
        ")\n",
        "\n",
        "fig.show()"
      ],
      "metadata": {
        "colab": {
          "base_uri": "https://localhost:8080/",
          "height": 517
        },
        "id": "uIvRKHrFAAnC",
        "outputId": "f4afe1d6-8f59-49bf-89f6-a59335959e12"
      },
      "execution_count": 30,
      "outputs": [
        {
          "output_type": "display_data",
          "data": {
            "text/html": [
              "<html>\n",
              "<head><meta charset=\"utf-8\" /></head>\n",
              "<body>\n",
              "    <div>            <script src=\"https://cdnjs.cloudflare.com/ajax/libs/mathjax/2.7.5/MathJax.js?config=TeX-AMS-MML_SVG\"></script><script type=\"text/javascript\">if (window.MathJax && window.MathJax.Hub && window.MathJax.Hub.Config) {window.MathJax.Hub.Config({SVG: {font: \"STIX-Web\"}});}</script>                <script type=\"text/javascript\">window.PlotlyConfig = {MathJaxConfig: 'local'};</script>\n",
              "        <script charset=\"utf-8\" src=\"https://cdn.plot.ly/plotly-2.35.2.min.js\"></script>                <div id=\"bfbfbd54-a5e1-4cd1-bd72-121985e6b3fc\" class=\"plotly-graph-div\" style=\"height:500px; width:900px;\"></div>            <script type=\"text/javascript\">                                    window.PLOTLYENV=window.PLOTLYENV || {};                                    if (document.getElementById(\"bfbfbd54-a5e1-4cd1-bd72-121985e6b3fc\")) {                    Plotly.newPlot(                        \"bfbfbd54-a5e1-4cd1-bd72-121985e6b3fc\",                        [{\"hovertemplate\":\"Temperature: %{x}\\u003cbr\\u003eActual value: %{y}\\u003cextra\\u003e\\u003c\\u002fextra\\u003e\",\"marker\":{\"color\":\"blue\"},\"mode\":\"markers\",\"name\":\"Experimental\",\"x\":[100.0,125.0,150.0,250.0,300.0,325.0,362.4],\"y\":[2.4265696650871966,2.191218717726861,2.1353398861983273,2.0700247706430424,2.2830982010526726,2.201480606729676,1.1086551403496727],\"type\":\"scatter\"},{\"hovertemplate\":\"Temperature: %{x}\\u003cbr\\u003ePredicted: %{y}\\u003cextra\\u003e\\u003c\\u002fextra\\u003e\",\"marker\":{\"color\":\"red\"},\"mode\":\"markers\",\"name\":\"Predicted\",\"x\":[100.0,125.0,150.0,250.0,300.0,325.0,362.4],\"y\":[2.3397607803344727,2.3545167446136475,2.1298623085021973,2.1800272464752197,2.4707555770874023,2.2979063987731934,1.3669365644454956],\"type\":\"scatter\"},{\"line\":{\"width\":0},\"mode\":\"lines\",\"showlegend\":false,\"x\":[100.0,125.0,150.0,250.0,300.0,325.0,362.4],\"y\":[2.6965696650871966,2.461218717726861,2.4053398861983273,2.3400247706430424,2.5530982010526726,2.471480606729676,1.3786551403496727],\"type\":\"scatter\"},{\"fill\":\"tonexty\",\"fillcolor\":\"rgba(0, 191, 255, 0.2)\",\"line\":{\"width\":0},\"mode\":\"lines\",\"name\":\"RMSE range\",\"showlegend\":true,\"x\":[100.0,125.0,150.0,250.0,300.0,325.0,362.4],\"y\":[2.1565696650871966,1.9212187177268611,1.8653398861983272,1.8000247706430423,2.0130982010526726,1.931480606729676,0.8386551403496727],\"type\":\"scatter\"}],                        {\"template\":{\"data\":{\"histogram2dcontour\":[{\"type\":\"histogram2dcontour\",\"colorbar\":{\"outlinewidth\":0,\"ticks\":\"\"},\"colorscale\":[[0.0,\"#0d0887\"],[0.1111111111111111,\"#46039f\"],[0.2222222222222222,\"#7201a8\"],[0.3333333333333333,\"#9c179e\"],[0.4444444444444444,\"#bd3786\"],[0.5555555555555556,\"#d8576b\"],[0.6666666666666666,\"#ed7953\"],[0.7777777777777778,\"#fb9f3a\"],[0.8888888888888888,\"#fdca26\"],[1.0,\"#f0f921\"]]}],\"choropleth\":[{\"type\":\"choropleth\",\"colorbar\":{\"outlinewidth\":0,\"ticks\":\"\"}}],\"histogram2d\":[{\"type\":\"histogram2d\",\"colorbar\":{\"outlinewidth\":0,\"ticks\":\"\"},\"colorscale\":[[0.0,\"#0d0887\"],[0.1111111111111111,\"#46039f\"],[0.2222222222222222,\"#7201a8\"],[0.3333333333333333,\"#9c179e\"],[0.4444444444444444,\"#bd3786\"],[0.5555555555555556,\"#d8576b\"],[0.6666666666666666,\"#ed7953\"],[0.7777777777777778,\"#fb9f3a\"],[0.8888888888888888,\"#fdca26\"],[1.0,\"#f0f921\"]]}],\"heatmap\":[{\"type\":\"heatmap\",\"colorbar\":{\"outlinewidth\":0,\"ticks\":\"\"},\"colorscale\":[[0.0,\"#0d0887\"],[0.1111111111111111,\"#46039f\"],[0.2222222222222222,\"#7201a8\"],[0.3333333333333333,\"#9c179e\"],[0.4444444444444444,\"#bd3786\"],[0.5555555555555556,\"#d8576b\"],[0.6666666666666666,\"#ed7953\"],[0.7777777777777778,\"#fb9f3a\"],[0.8888888888888888,\"#fdca26\"],[1.0,\"#f0f921\"]]}],\"heatmapgl\":[{\"type\":\"heatmapgl\",\"colorbar\":{\"outlinewidth\":0,\"ticks\":\"\"},\"colorscale\":[[0.0,\"#0d0887\"],[0.1111111111111111,\"#46039f\"],[0.2222222222222222,\"#7201a8\"],[0.3333333333333333,\"#9c179e\"],[0.4444444444444444,\"#bd3786\"],[0.5555555555555556,\"#d8576b\"],[0.6666666666666666,\"#ed7953\"],[0.7777777777777778,\"#fb9f3a\"],[0.8888888888888888,\"#fdca26\"],[1.0,\"#f0f921\"]]}],\"contourcarpet\":[{\"type\":\"contourcarpet\",\"colorbar\":{\"outlinewidth\":0,\"ticks\":\"\"}}],\"contour\":[{\"type\":\"contour\",\"colorbar\":{\"outlinewidth\":0,\"ticks\":\"\"},\"colorscale\":[[0.0,\"#0d0887\"],[0.1111111111111111,\"#46039f\"],[0.2222222222222222,\"#7201a8\"],[0.3333333333333333,\"#9c179e\"],[0.4444444444444444,\"#bd3786\"],[0.5555555555555556,\"#d8576b\"],[0.6666666666666666,\"#ed7953\"],[0.7777777777777778,\"#fb9f3a\"],[0.8888888888888888,\"#fdca26\"],[1.0,\"#f0f921\"]]}],\"surface\":[{\"type\":\"surface\",\"colorbar\":{\"outlinewidth\":0,\"ticks\":\"\"},\"colorscale\":[[0.0,\"#0d0887\"],[0.1111111111111111,\"#46039f\"],[0.2222222222222222,\"#7201a8\"],[0.3333333333333333,\"#9c179e\"],[0.4444444444444444,\"#bd3786\"],[0.5555555555555556,\"#d8576b\"],[0.6666666666666666,\"#ed7953\"],[0.7777777777777778,\"#fb9f3a\"],[0.8888888888888888,\"#fdca26\"],[1.0,\"#f0f921\"]]}],\"mesh3d\":[{\"type\":\"mesh3d\",\"colorbar\":{\"outlinewidth\":0,\"ticks\":\"\"}}],\"scatter\":[{\"fillpattern\":{\"fillmode\":\"overlay\",\"size\":10,\"solidity\":0.2},\"type\":\"scatter\"}],\"parcoords\":[{\"type\":\"parcoords\",\"line\":{\"colorbar\":{\"outlinewidth\":0,\"ticks\":\"\"}}}],\"scatterpolargl\":[{\"type\":\"scatterpolargl\",\"marker\":{\"colorbar\":{\"outlinewidth\":0,\"ticks\":\"\"}}}],\"bar\":[{\"error_x\":{\"color\":\"#2a3f5f\"},\"error_y\":{\"color\":\"#2a3f5f\"},\"marker\":{\"line\":{\"color\":\"#E5ECF6\",\"width\":0.5},\"pattern\":{\"fillmode\":\"overlay\",\"size\":10,\"solidity\":0.2}},\"type\":\"bar\"}],\"scattergeo\":[{\"type\":\"scattergeo\",\"marker\":{\"colorbar\":{\"outlinewidth\":0,\"ticks\":\"\"}}}],\"scatterpolar\":[{\"type\":\"scatterpolar\",\"marker\":{\"colorbar\":{\"outlinewidth\":0,\"ticks\":\"\"}}}],\"histogram\":[{\"marker\":{\"pattern\":{\"fillmode\":\"overlay\",\"size\":10,\"solidity\":0.2}},\"type\":\"histogram\"}],\"scattergl\":[{\"type\":\"scattergl\",\"marker\":{\"colorbar\":{\"outlinewidth\":0,\"ticks\":\"\"}}}],\"scatter3d\":[{\"type\":\"scatter3d\",\"line\":{\"colorbar\":{\"outlinewidth\":0,\"ticks\":\"\"}},\"marker\":{\"colorbar\":{\"outlinewidth\":0,\"ticks\":\"\"}}}],\"scattermapbox\":[{\"type\":\"scattermapbox\",\"marker\":{\"colorbar\":{\"outlinewidth\":0,\"ticks\":\"\"}}}],\"scatterternary\":[{\"type\":\"scatterternary\",\"marker\":{\"colorbar\":{\"outlinewidth\":0,\"ticks\":\"\"}}}],\"scattercarpet\":[{\"type\":\"scattercarpet\",\"marker\":{\"colorbar\":{\"outlinewidth\":0,\"ticks\":\"\"}}}],\"carpet\":[{\"aaxis\":{\"endlinecolor\":\"#2a3f5f\",\"gridcolor\":\"white\",\"linecolor\":\"white\",\"minorgridcolor\":\"white\",\"startlinecolor\":\"#2a3f5f\"},\"baxis\":{\"endlinecolor\":\"#2a3f5f\",\"gridcolor\":\"white\",\"linecolor\":\"white\",\"minorgridcolor\":\"white\",\"startlinecolor\":\"#2a3f5f\"},\"type\":\"carpet\"}],\"table\":[{\"cells\":{\"fill\":{\"color\":\"#EBF0F8\"},\"line\":{\"color\":\"white\"}},\"header\":{\"fill\":{\"color\":\"#C8D4E3\"},\"line\":{\"color\":\"white\"}},\"type\":\"table\"}],\"barpolar\":[{\"marker\":{\"line\":{\"color\":\"#E5ECF6\",\"width\":0.5},\"pattern\":{\"fillmode\":\"overlay\",\"size\":10,\"solidity\":0.2}},\"type\":\"barpolar\"}],\"pie\":[{\"automargin\":true,\"type\":\"pie\"}]},\"layout\":{\"autotypenumbers\":\"strict\",\"colorway\":[\"#636efa\",\"#EF553B\",\"#00cc96\",\"#ab63fa\",\"#FFA15A\",\"#19d3f3\",\"#FF6692\",\"#B6E880\",\"#FF97FF\",\"#FECB52\"],\"font\":{\"color\":\"#2a3f5f\"},\"hovermode\":\"closest\",\"hoverlabel\":{\"align\":\"left\"},\"paper_bgcolor\":\"white\",\"plot_bgcolor\":\"#E5ECF6\",\"polar\":{\"bgcolor\":\"#E5ECF6\",\"angularaxis\":{\"gridcolor\":\"white\",\"linecolor\":\"white\",\"ticks\":\"\"},\"radialaxis\":{\"gridcolor\":\"white\",\"linecolor\":\"white\",\"ticks\":\"\"}},\"ternary\":{\"bgcolor\":\"#E5ECF6\",\"aaxis\":{\"gridcolor\":\"white\",\"linecolor\":\"white\",\"ticks\":\"\"},\"baxis\":{\"gridcolor\":\"white\",\"linecolor\":\"white\",\"ticks\":\"\"},\"caxis\":{\"gridcolor\":\"white\",\"linecolor\":\"white\",\"ticks\":\"\"}},\"coloraxis\":{\"colorbar\":{\"outlinewidth\":0,\"ticks\":\"\"}},\"colorscale\":{\"sequential\":[[0.0,\"#0d0887\"],[0.1111111111111111,\"#46039f\"],[0.2222222222222222,\"#7201a8\"],[0.3333333333333333,\"#9c179e\"],[0.4444444444444444,\"#bd3786\"],[0.5555555555555556,\"#d8576b\"],[0.6666666666666666,\"#ed7953\"],[0.7777777777777778,\"#fb9f3a\"],[0.8888888888888888,\"#fdca26\"],[1.0,\"#f0f921\"]],\"sequentialminus\":[[0.0,\"#0d0887\"],[0.1111111111111111,\"#46039f\"],[0.2222222222222222,\"#7201a8\"],[0.3333333333333333,\"#9c179e\"],[0.4444444444444444,\"#bd3786\"],[0.5555555555555556,\"#d8576b\"],[0.6666666666666666,\"#ed7953\"],[0.7777777777777778,\"#fb9f3a\"],[0.8888888888888888,\"#fdca26\"],[1.0,\"#f0f921\"]],\"diverging\":[[0,\"#8e0152\"],[0.1,\"#c51b7d\"],[0.2,\"#de77ae\"],[0.3,\"#f1b6da\"],[0.4,\"#fde0ef\"],[0.5,\"#f7f7f7\"],[0.6,\"#e6f5d0\"],[0.7,\"#b8e186\"],[0.8,\"#7fbc41\"],[0.9,\"#4d9221\"],[1,\"#276419\"]]},\"xaxis\":{\"gridcolor\":\"white\",\"linecolor\":\"white\",\"ticks\":\"\",\"title\":{\"standoff\":15},\"zerolinecolor\":\"white\",\"automargin\":true,\"zerolinewidth\":2},\"yaxis\":{\"gridcolor\":\"white\",\"linecolor\":\"white\",\"ticks\":\"\",\"title\":{\"standoff\":15},\"zerolinecolor\":\"white\",\"automargin\":true,\"zerolinewidth\":2},\"scene\":{\"xaxis\":{\"backgroundcolor\":\"#E5ECF6\",\"gridcolor\":\"white\",\"linecolor\":\"white\",\"showbackground\":true,\"ticks\":\"\",\"zerolinecolor\":\"white\",\"gridwidth\":2},\"yaxis\":{\"backgroundcolor\":\"#E5ECF6\",\"gridcolor\":\"white\",\"linecolor\":\"white\",\"showbackground\":true,\"ticks\":\"\",\"zerolinecolor\":\"white\",\"gridwidth\":2},\"zaxis\":{\"backgroundcolor\":\"#E5ECF6\",\"gridcolor\":\"white\",\"linecolor\":\"white\",\"showbackground\":true,\"ticks\":\"\",\"zerolinecolor\":\"white\",\"gridwidth\":2}},\"shapedefaults\":{\"line\":{\"color\":\"#2a3f5f\"}},\"annotationdefaults\":{\"arrowcolor\":\"#2a3f5f\",\"arrowhead\":0,\"arrowwidth\":1},\"geo\":{\"bgcolor\":\"white\",\"landcolor\":\"#E5ECF6\",\"subunitcolor\":\"white\",\"showland\":true,\"showlakes\":true,\"lakecolor\":\"white\"},\"title\":{\"x\":0.05},\"mapbox\":{\"style\":\"light\"}}},\"xaxis\":{\"title\":{\"text\":\"Temperature (K)\"},\"showgrid\":false,\"gridcolor\":\"lightgray\",\"linecolor\":\"lightgray\",\"linewidth\":0.5,\"mirror\":true},\"yaxis\":{\"title\":{\"text\":\"Log10 exchange bias\"},\"showgrid\":false,\"gridcolor\":\"lightgray\",\"linecolor\":\"lightgray\",\"linewidth\":0.5,\"mirror\":true,\"dtick\":0.2},\"margin\":{\"l\":50,\"r\":50,\"t\":50,\"b\":50},\"showlegend\":true,\"plot_bgcolor\":\"white\",\"paper_bgcolor\":\"white\",\"width\":900,\"height\":500,\"annotations\":[{\"font\":{\"size\":18},\"showarrow\":false,\"text\":\"Predicted vs Experimental (temperature: 80-370 K)\",\"x\":0.5,\"xref\":\"paper\",\"y\":1.1,\"yref\":\"paper\"}]},                        {\"responsive\": true}                    ).then(function(){\n",
              "                            \n",
              "var gd = document.getElementById('bfbfbd54-a5e1-4cd1-bd72-121985e6b3fc');\n",
              "var x = new MutationObserver(function (mutations, observer) {{\n",
              "        var display = window.getComputedStyle(gd).display;\n",
              "        if (!display || display === 'none') {{\n",
              "            console.log([gd, 'removed!']);\n",
              "            Plotly.purge(gd);\n",
              "            observer.disconnect();\n",
              "        }}\n",
              "}});\n",
              "\n",
              "// Listen for the removal of the full notebook cells\n",
              "var notebookContainer = gd.closest('#notebook-container');\n",
              "if (notebookContainer) {{\n",
              "    x.observe(notebookContainer, {childList: true});\n",
              "}}\n",
              "\n",
              "// Listen for the clearing of the current output cell\n",
              "var outputEl = gd.closest('.output');\n",
              "if (outputEl) {{\n",
              "    x.observe(outputEl, {childList: true});\n",
              "}}\n",
              "\n",
              "                        })                };                            </script>        </div>\n",
              "</body>\n",
              "</html>"
            ]
          },
          "metadata": {}
        }
      ]
    }
  ]
}