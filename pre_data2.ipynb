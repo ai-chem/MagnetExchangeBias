{
 "cells": [
  {
   "cell_type": "markdown",
   "metadata": {},
   "source": [
    "# Что нужно сделать \n",
    "1. Удалить structure_\n",
    "2. Геометрические признаки ( сферичность, объём и площадь(в нм))\n",
    "3. Total_magnetization по формуле (надо подумать как считать знаменатель) +/-\n",
    "\n",
    "\n",
    "4. Pymatgen и ПРОБЛЕМЫ\n",
    "[\n",
    "- 1)  Массовое соотношение атомов + масса атомамная масса/общая масса формулы\n",
    "2)  Number of magnetic ions per unit cell - что-то я не пойму как\n",
    "3) get_exchange_group_info + уже изначало есть, так что использовать функцию не имеет смысла (но, из групп нельзя вывести lattice parameter и плотность, это надо будет делать отдельно заново)\n",
    "4) number_of_unique_magnetic_sites - проблемнно, так как нет cif файлов\n",
    "5) number_of_magnetic_sites - проблемнно, так как нет cif файлов\n",
    "]"
   ]
  },
  {
   "cell_type": "markdown",
   "metadata": {},
   "source": [
    "# Начало"
   ]
  },
  {
   "cell_type": "code",
   "execution_count": 345,
   "metadata": {},
   "outputs": [],
   "source": [
    "import pandas as pd\n",
    "import numpy as np\n",
    "import re # Регулярки\n",
    "from math import gcd, isclose\n",
    "import sympy as sp # Библиотека символьных вычеслений, мат.задачи"
   ]
  },
  {
   "cell_type": "code",
   "execution_count": 346,
   "metadata": {},
   "outputs": [],
   "source": [
    "from pymatgen.core.structure import Composition\n",
    "from pymatgen.core import Structure, Element"
   ]
  },
  {
   "cell_type": "code",
   "execution_count": 347,
   "metadata": {},
   "outputs": [],
   "source": [
    "df = pd.read_csv(r'C:\\Users\\Ксения\\Project\\Magnet_Exchange_bias\\data\\Bias_data_1.csv')"
   ]
  },
  {
   "cell_type": "code",
   "execution_count": null,
   "metadata": {},
   "outputs": [],
   "source": [
    "print(df.info())"
   ]
  },
  {
   "cell_type": "markdown",
   "metadata": {},
   "source": [
    "# Исправим стотлбец formula_combined"
   ]
  },
  {
   "cell_type": "markdown",
   "metadata": {},
   "source": [
    "Проблема была в том, что формулы, что должны были иметь вид Li2 Cr2 O4 имели вид Li2 Cr1 O3 Cr1 O1"
   ]
  },
  {
   "cell_type": "code",
   "execution_count": 348,
   "metadata": {},
   "outputs": [
    {
     "name": "stdout",
     "output_type": "stream",
     "text": [
      "['Zn1 O1 Fe2 Co1 O4' 'Co1 O1 Fe2 Co1 O4' 'Mn1 Zn1 Fe4 O8' 'La1 Fe1 O3'\n",
      " 'Ni1 Ni1 O1' 'Mg1 Fe2 O4' 'Fe2 Co1 O4' 'Fe1 Bi1 O3'\n",
      " 'Fe2 Co1 O4 Fe1 Bi1 O3' 'Co1 Co1 O1' 'Fe1 Rh1' 'Mn1 O2' 'Ag1 Fe3 O4'\n",
      " 'Fe1 Fe2 O3' 'Fe1 O1 Fe3 O4' 'Ni1 O1' 'Fe3 O4' 'Fe3 O4 Ni1 O1'\n",
      " 'Ni1 O1 Fe3 O4' 'Fe4 Bi2 O9 Fe1 Bi1 O3' 'Fe1 Bi1 O3 Fe4 Bi2 O9'\n",
      " 'Ti1 O2 Fe2 O3' 'Fe13 Co2 O20' 'Fe23 Co7 O40' 'Fe7 Co3' 'Fe1 Co1'\n",
      " 'Fe3 Co7' 'Fe1 Fe3 O4' 'La2 Mn1 Fe1 O6' 'V1 Fe1 O4 Fe3 O4' 'Au1 Fe3 O4'\n",
      " 'Gd1 Ti1 Fe9 Bi9 O30' 'Sr11 Nd39 Co50 Cu97 O150' 'Fe3 O4 Co1 O1'\n",
      " 'Fe2 Co1 O4 Co1 O1' 'Cu98 Fe1 O50' 'Cu96 Fe1 O25' 'Fe2 O3'\n",
      " 'Sr3 La17 Fe20 O60' 'Co1 Co3 O4' 'Mn3 O4' 'Sr33 La67 Mn100 O300'\n",
      " 'Mn1 O1 Mn3 O4' 'Fe3 O4 Fe2 O3' 'Co3 O4' 'Fe1 Ni99 O100' 'Fe1 Ni49 O50'\n",
      " 'Fe1 Ni24 O25' 'Fe3 Ni97 O100' 'Cr5 Ag1 O8' 'Cr1 Ag1 O2'\n",
      " 'Co1 O1 Fe2 Ni1 O4' 'Mn1 Fe2 O4' 'Mn1 Fe2 O4 Fe3 O4' 'La1 Fe10 Bi9 O30'\n",
      " 'Nd1 Fe1 O3' 'Fe2 Co1 O4 Fe3 O4' 'Dy1 Ti1 Cr1 O5' 'Gd1 Ti1 Cr1 O5'\n",
      " 'Ni1 O1 Mn2 Co1 O4' 'Ba1 Fe12 O19 Fe3 O4' 'Fe2 Ni1 O4 Co1 O1'\n",
      " 'Cr2 Co1 O4' 'Fe1 Ni1' 'Mn1 Mn3 O4' 'Fe3 O4 Fe2 Co1 O4' 'Fe3 O4 Mn1 O1'\n",
      " 'Fe1 Fe3 C1' 'Fe2 Co1 O4 Ni1 O1' 'Fe3 O4 Mg1 O1'\n",
      " 'Fe3 O4 Mg1 O1 Fe2 Co1 O4' 'Co1 Fe2 O3' 'Fe2 Co1 O4 Fe2 Ni1 O4'\n",
      " 'Fe2 Ni1 O4' 'Fe2 Ni1 O4 Fe2 Co1 O4' 'Mn1 Fe2 O4 Fe2 O3' 'Fe5 C2 Fe3 O4'\n",
      " 'Fe5 C2' 'Fe1 Ni3' 'Fe1 Ni3 Mo1' 'Fe11 C5' 'Fe11 C5 Mo1'\n",
      " 'La2 Fe2 O6 Fe2 Co1 O4' 'Co1 O1 Co1' 'Fe1 F2 Fe1' 'Co1 P1'\n",
      " 'La1 Fe1 O3 Ni1 O1']\n"
     ]
    }
   ],
   "source": [
    "print(df['formula_combined'].unique()) # Пример, что нас не устраивает"
   ]
  },
  {
   "cell_type": "markdown",
   "metadata": {},
   "source": [
    "Пример работы с такой ошибкой\n",
    "\n",
    "1. Создание объекта Composition из вашей формулы\n",
    "comp = Composition(\"Zn1 O1 Fe2 Co1 O4\") # Может теперь можно склеить их обратно\n",
    "\n",
    "2. Получение словаря количества атомов каждого элемента\n",
    "el_amt_dict = comp.get_el_amt_dict()\n",
    "\n",
    "3. Собираем обратно химическую формулу из словаря\n",
    "formula = \"\"\n",
    "for el, amt in el_amt_dict.items():\n",
    "    formula += f\"{el}{'' if amt == 1 else str(int(amt))}\"\n",
    "\n",
    "print(Composition(formula))"
   ]
  },
  {
   "cell_type": "code",
   "execution_count": 349,
   "metadata": {},
   "outputs": [],
   "source": [
    "def transform_formula(formula):\n",
    "    '''\n",
    "    Zn1 O1 Fe2 Co1 O4 -> {'Zn': 1.0, 'O': 5.0, 'Fe': 2.0, 'Co': 1.0} -> Zn1 O5 Fe2 Co1\n",
    "    '''\n",
    "    comp = Composition(formula)\n",
    "    el_amt_dict = comp.get_el_amt_dict() # Получение словаря с количеством атомов в формуле\n",
    "    # Обратная сборка\n",
    "    new_formula = ''\n",
    "    for el, amt in el_amt_dict.items():\n",
    "        new_formula += f\"{el}{'' if amt == 1 else str(int(amt))}\"\n",
    "    return new_formula"
   ]
  },
  {
   "cell_type": "code",
   "execution_count": 350,
   "metadata": {},
   "outputs": [],
   "source": [
    "def process_column(df, column_name):\n",
    "    \"\"\"\n",
    "    Функция проверяет каждую ячейку в столбце DataFrame на равенство 0 или NaN.\n",
    "    Если значение не равно 0 или NaN, оно заменяется на результат применения класса Composition из библиотеки pymatgen.\n",
    "\n",
    "    Args:\n",
    "        df (pandas.DataFrame): Исходный DataFrame.\n",
    "        column_name (str): Имя столбца, который нужно обработать.\n",
    "\n",
    "    Returns:\n",
    "        pandas.DataFrame: DataFrame c обработанным столбцом.\n",
    "    \"\"\"\n",
    "    new_column = []\n",
    "    for value in df[column_name]:\n",
    "        if pd.notna(value) and value != 0:\n",
    "            # Если значение не NaN и не равно 0, применяем класс Composition\n",
    "            comp = Composition(str(value))\n",
    "            new_value = comp.formula\n",
    "        else:\n",
    "            new_value = value\n",
    "        new_column.append(new_value)\n",
    "\n",
    "    df[column_name] = new_column\n",
    "    return df"
   ]
  },
  {
   "cell_type": "code",
   "execution_count": null,
   "metadata": {},
   "outputs": [],
   "source": [
    "df['formula_combined'] = df['formula_combined'].apply(transform_formula)\n",
    "df = process_column(df, 'formula_combined')\n",
    "print(df['formula_combined'].unique()) # Тепрь у нас есть полный средний материал ядра+оболочки"
   ]
  },
  {
   "cell_type": "markdown",
   "metadata": {},
   "source": [
    "# Добавление дескрипторов \n",
    "## Pymatgen"
   ]
  },
  {
   "cell_type": "markdown",
   "metadata": {},
   "source": [
    "// TODO: добавление параемтров обязательно \n",
    "1, 3 -  можно посчитать для всего материала ядро-оболочка в целом, наверное\n",
    "\n",
    "1. Массовое соотношение атомов  +\n",
    "2. Number of magnetic ions per unit cell\n",
    "3. get_exchange_group_info + (так как уже руками собрали)\n",
    "4. number_of_unique_magnetic_sites\n",
    "5. number_of_magnetic_sites"
   ]
  },
  {
   "cell_type": "markdown",
   "metadata": {},
   "source": [
    "from pymatgen.core.composition import Composition\n",
    "\n",
    "compound_formula = \"Fe2O3\"  # пример химической формулы вещества\n",
    "composition = Composition(compound_formula)\n",
    "total_num_magnetic_ions = sum(composition.get_el_amt_dict().values())  # суммирование количества ионов для каждого элемента\n",
    "print(\"Total number of magnetic ions per unit cell:\", total_num_magnetic_ions)"
   ]
  },
  {
   "cell_type": "code",
   "execution_count": 351,
   "metadata": {},
   "outputs": [
    {
     "name": "stdout",
     "output_type": "stream",
     "text": [
      "167.8048125\n"
     ]
    }
   ],
   "source": [
    "# Пример для молярной массы всего вещества\n",
    "from pyteomics import mass\n",
    "print(mass.calculate_mass(formula='Fe3'))"
   ]
  },
  {
   "cell_type": "code",
   "execution_count": 352,
   "metadata": {},
   "outputs": [],
   "source": [
    "def calculate_mass_ratios(formula):\n",
    "    total_mass = mass.calculate_mass(formula=formula.replace(' ', ''))  # Вычисление общей массы соединения\n",
    "    elements = {}  # Словарь для хранения массовых соотношений\n",
    "    components = formula.split()  # Разделение формулы на компоненты\n",
    "    for component in components:\n",
    "        element_name = ''.join(filter(str.isalpha, component))  # Извлечение названия элемента\n",
    "        atoms_count = int(''.join(filter(str.isdigit, component))) if component[-1].isdigit() else 1  # Количество атомов\n",
    "        element_mass = mass.calculate_mass(formula=element_name)  # Масса элемента\n",
    "        element_mass_ratio = element_mass * atoms_count / total_mass  # Расчет массового соотношения для элемента\n",
    "        elements[element_name] = element_mass_ratio  # Запись массового соотношения для элемента\n",
    "    return elements"
   ]
  },
  {
   "cell_type": "code",
   "execution_count": null,
   "metadata": {},
   "outputs": [],
   "source": [
    "df['mass_ratio'] = df['formula_combined'].apply(calculate_mass_ratios)\n",
    "print(df['mass_ratio']) # Было\n",
    "mass_ratio_values = [[value for value in dct.values()] for dct in df['mass_ratio']]\n",
    "df['mass_ratio'] = mass_ratio_values \n",
    "print(df['mass_ratio']) # Стало"
   ]
  },
  {
   "cell_type": "markdown",
   "metadata": {},
   "source": [
    "Удалим полученные колонки, так как мы считаем неправильно"
   ]
  },
  {
   "cell_type": "markdown",
   "metadata": {},
   "source": [
    "3. Get_exchange_group_info из pymatgen - возвращает значения пространственную группу в виде число-буквы, но думаю, нам не нужно добирать эти дескрипторы, так как мы сделали это на этапе сбора датасета вручную "
   ]
  },
  {
   "cell_type": "code",
   "execution_count": null,
   "metadata": {},
   "outputs": [],
   "source": [
    "print(df['c2'].unique(), df['c2'].unique(), sep='\\n')"
   ]
  },
  {
   "cell_type": "markdown",
   "metadata": {},
   "source": [
    "# Spin on surface"
   ]
  },
  {
   "cell_type": "code",
   "execution_count": null,
   "metadata": {},
   "outputs": [],
   "source": [
    "#df.insert(0, 'sum_surface_spins', 0)\n",
    "#df = df.astype({'sum_surface_spins': float})"
   ]
  },
  {
   "cell_type": "code",
   "execution_count": null,
   "metadata": {},
   "outputs": [],
   "source": [
    "dict_spins = {'Gd': 7/2, 'Fe2+': 2, 'Fe3+': 5/2, 'Cu': 1/2, 'Eu': 3, 'Zn': 0, 'Mn': 5/2, 'Dy': 5/2, 'Pt': 1, 'Na': 1/2,\n",
    "              'Al': 1/2, 'Co': 2, 'Ni': 3/2, 'O': 0, 'Si': 0, 'Fe': 2, 'F': 0, 'Ho': 2, 'Au': 1/2, 'Cd': 0,\n",
    "              'Mg': 0, 'S': 0, 'Ag': 1/2, 'Bi': 3/2, 'C': 0 }"
   ]
  },
  {
   "cell_type": "markdown",
   "metadata": {},
   "source": [
    "Пример подсёта спина\n",
    "for i, _ in df.iterrows(): #перебор строк таблицы\n",
    "    suma = 0 #создаем переменную с нулевым значением, к которой будем поэлементно суммировать спин\n",
    "    for elem in df.elements[i]: #перебираем каждый элемент списка с атомами\n",
    "      ind = df.elements[i].index(elem) #считаем индекс вхождения атома\n",
    "      suma += df.stoichiometry[i][ind] * spins[elem] #прибавляем к сумме значение стехиометрического \n",
    "      #коэффициента (df.stoichiometry[i][ind]), умноженное на спин атома, взятый из словаря (spins[elem])\n",
    "    df.sum_surface_spins[i] = suma / sum(df.stoichiometry[i]) #присваиваем ячейке значение спина, деленное на сумму стехиометрических коэффициентов\n",
    "#так как мы считаем спин на поверхности, то мы должны учесть наличие неорганического покрытия, и если оно есть, посчитать спин для него\n",
    "for i, row in df.iterrows(): #снова перебор строк таблицы\n",
    "    if df.shell_elements[i] != 0 and df.shell_elements[i] != [] and len(df.shell_stoichiometry) != 0: #условие на наличие покрытия\n",
    "            if df.shell_elements[i] != ['Al'] and df.shell_elements[i][0] in spins: #условие на неорганическое покрытие\n",
    "                print(df.np_shell_1[i]) #проверяем, действительно ли неорганическое покрытие\n",
    "                print(df.shell_elements[i]) #проверяем, действительно ли неорганическое покрытие по элементам\n",
    "                suma = 0 #создаем переменную с нулевым значением, к которой будем поэлементно суммировать спин\n",
    "                for elem in df.shell_elements[i]: #перебираем каждый элемент списка с атомами\n",
    "                    ind = df.shell_elements[i].index(elem) #считаем индекс вхождения атома\n",
    "                    suma += df.shell_stoichiometry[i][ind] * spins[elem] #прибавляем к сумме значение стехиометрического \n",
    "                    #коэффициента (df.stoichiometry[i][ind]), умноженное на спин атома, взятый из словаря (spins[elem])\n",
    "                df.sum_surface_spins[i] = suma / sum(df.shell_stoichiometry[i]) #если выполнено условие на неорганическое покрытие, то\n",
    "                #присваиваем ячейке значение спина, деленное на сумму стехиометрических коэффициентов\n",
    "print(df['sun_surface_spins'])"
   ]
  },
  {
   "cell_type": "markdown",
   "metadata": {},
   "source": [
    "# Геометрические признаки"
   ]
  },
  {
   "cell_type": "markdown",
   "metadata": {},
   "source": [
    "Помним что все наши формы закодированы:\n",
    "'''\n",
    "{\n",
    "    1: ['sphere', 'quasi-spherical', 'quasi-sphere', 'pseudo-spherical', 'pseudospherically', 'egg', 'flower'], \n",
    "    2: ['octahedral', 'octahedron', 'octahedral '],  \n",
    "    3: ['cubic', 'cube'],\n",
    "    4: ['hexahedron', 'hexagonal'],\n",
    "    5: ['tetrahedral', 'triangle'],\n",
    "    6: ['wire', 'rod'], \n",
    "    7: ['octopod']\n",
    "}\n",
    "'''"
   ]
  },
  {
   "cell_type": "code",
   "execution_count": 355,
   "metadata": {},
   "outputs": [
    {
     "name": "stdout",
     "output_type": "stream",
     "text": [
      "[1. 5. 2. 6. 3. 7. 4.]\n"
     ]
    }
   ],
   "source": [
    "print(df['shape'].unique())"
   ]
  },
  {
   "cell_type": "code",
   "execution_count": 356,
   "metadata": {},
   "outputs": [],
   "source": [
    "# Добавим колонки для наших значений \n",
    "df.insert(0, 'area', 0)\n",
    "df.insert(0, 'volume', 0)\n",
    "df = df.astype({'volume': float ,'area': float})"
   ]
  },
  {
   "cell_type": "code",
   "execution_count": 357,
   "metadata": {},
   "outputs": [],
   "source": [
    "# Создадим словари для подсчёта площади и объёма\n",
    "dict_area = {\n",
    "    1: lambda x, y=1, z=1: 4 * 3.14159 * x ** 2, \n",
    "    2: lambda x, y=1, z=1: (3 ** 2) * 2 * x ** 2, \n",
    "    3: lambda x, y=1, z=1: 6 * x **2, \n",
    "    4: lambda x, y=1, z=1: 2 * x ** 2 + 4 * x * z/2,  \n",
    "    5: lambda x, y=1, z=1: (3 ** (1/2)) * x ** 2, \n",
    "    6: lambda x, y, z=1: 2 * 3.14 * (x/2) * x +  2 * 3.14 * (x/2) * x ** 2, \n",
    "    7: lambda x, y=1, z=1: (2 ** (1/2)) * 2 * x ** 2, \n",
    "}\n",
    "\n",
    "dict_volume = {\n",
    "    1: lambda x, y=1, z=1: (4/3) * 3.14159 * x ** 3, \n",
    "    2: lambda x, y=1, z=1: (2/3) * (2 ** 2) * x ** 3, \n",
    "    3: lambda x, y=1, z=1: x ** 3, \n",
    "    4: lambda x, y=1, z =1: x ** 2 * x/2,  \n",
    "    5: lambda x , y=1, z=1: (((2) ** (1/2)) * x ** 3) / 12,  \n",
    "    6: lambda x, y, z=1: 3.14159 * (x ** 2) * (y / 2),\n",
    "    7: lambda x, y=1, z=1: (2/3) * (2 ** (1/2)) * x ** 3,\n",
    "}"
   ]
  },
  {
   "cell_type": "code",
   "execution_count": 358,
   "metadata": {},
   "outputs": [],
   "source": [
    "# Создаем функцию для вычисления площади\n",
    "def calculate_area(row):\n",
    "    shape = float(row['shape'])\n",
    "    x = row['x']\n",
    "    y = row.get('y', 0)\n",
    "    z = row.get('z', 0)\n",
    "    \n",
    "    if shape in dict_area:\n",
    "        if shape in [1, 2, 3, 4, 5, 6, 7]:\n",
    "            return dict_area[shape](x, y) if shape in [3, 6] else dict_area[shape](x, z) if shape == 4 else dict_area[shape](x)\n",
    "    else:\n",
    "        return 'error'\n",
    "\n",
    "# Создаем функцию для вычисления объема\n",
    "def calculate_volume(row):\n",
    "    shape = float(row['shape'])\n",
    "    x = row['x']\n",
    "    y = row.get('y', 0)\n",
    "    z = row.get('z', 0)\n",
    "    \n",
    "    if shape in dict_volume:\n",
    "        if shape in [1, 2, 3, 4, 5, 6, 7]:\n",
    "            return dict_volume[shape](x, y, z) if shape in [3, 6] else dict_volume[shape](x, z) if shape == 4 else dict_volume[shape](x)\n",
    "    else:\n",
    "        return 'error'"
   ]
  },
  {
   "cell_type": "code",
   "execution_count": 359,
   "metadata": {},
   "outputs": [],
   "source": [
    "df['area'] = df.apply(calculate_area, axis=1)\n",
    "df['volume'] = df.apply(calculate_volume, axis=1)"
   ]
  },
  {
   "cell_type": "code",
   "execution_count": 360,
   "metadata": {},
   "outputs": [
    {
     "name": "stdout",
     "output_type": "stream",
     "text": [
      "[6.88133874e+02 6.15751640e+02 3.63167804e+03 1.52052956e+03\n",
      " 1.80955584e+03 4.07150064e+03 5.54176476e+03 9.16087644e+03\n",
      " 1.62860026e+04 1.13097240e+04 2.49415316e+02 4.43405007e+02\n",
      " 1.03680000e+04 1.96020000e+04 3.93691492e+03 5.22961638e+03\n",
      " 7.42030992e+03 1.36019537e+04 7.85397500e+03 5.02654400e+05\n",
      " 2.63760000e+04 5.30928710e+04 1.70553780e+03 3.76098588e+03\n",
      " 4.52310900e+03 1.36847660e+04 3.40055805e+04 1.26676763e+04\n",
      " 4.53645596e+03 2.12371484e+03 2.09116797e+03 2.82743100e+03\n",
      " 3.54672945e+03 4.34745791e+03 5.02654400e+03 1.21500000e+04\n",
      " 1.38240000e+04 1.56060000e+04 2.40000000e+03 3.21698816e+03\n",
      " 1.76776695e+03 3.52800000e+03 6.14400000e+03 7.35000000e+03\n",
      " 2.12176224e+03 2.39313760e+03 1.25663600e+03 8.04247040e+02\n",
      " 5.83200000e+03 1.60459851e+03 4.02638741e+03 6.82215118e+03\n",
      " 1.34354395e+04 8.15334068e+03 2.01061760e+04 2.43284730e+04\n",
      " 3.01718304e+04 5.14718106e+04 1.80123641e+04 2.32351996e+04\n",
      " 1.77952224e+03 1.38544119e+03 1.20687321e+03 9.95381376e+04\n",
      " 1.01787516e+05 5.70859576e+02 1.08686448e+03 1.93220351e+03\n",
      " 1.99503531e+03 7.84266528e+02 1.73400000e+03 2.01061760e+02\n",
      " 1.01787516e+03 4.29618841e+03 4.52388960e+04 1.30740409e+03\n",
      " 4.52388960e+02 2.54468790e+04 1.11036357e+03 4.37434992e+02\n",
      " 1.69092940e+03 7.66661057e+03 1.08618589e+04 1.53059521e+04\n",
      " 1.70178674e+04 3.71763194e+03 9.60000000e+03 7.77250603e+03\n",
      " 6.19320486e+03 4.87687865e+03 2.90333181e+03 1.87037702e+03\n",
      " 1.62000000e+06 1.98416992e+05 6.47564898e+05 1.72033468e+04\n",
      " 3.46278616e+03 4.77835839e+03 1.05683088e+04 1.20762720e+04\n",
      " 3.66435058e+04 2.75253549e+03 4.11686520e+03 1.96349375e+03\n",
      " 5.02654400e+01 6.64760444e+03 5.24880000e+02 1.49058000e+03\n",
      " 2.06082000e+03 1.79751224e+03 2.07498878e+03 2.59852721e+03\n",
      " 3.30198828e+03 4.28689936e+03 5.58936739e+03 3.53407387e+03\n",
      " 7.23822336e+03 1.91134336e+04 8.82000000e+02 3.04200000e+03\n",
      " 4.16248109e+03 1.05537368e+04 1.13550081e+04 1.81458238e+04\n",
      " 1.77056117e+03 5.35857865e+03 8.00549514e+03 8.63922673e+03\n",
      " 9.73138918e+02 1.54830122e+03 1.72020902e+03 5.20200000e+03\n",
      " 1.66865377e+04 8.04247040e+06 1.86000000e+03 1.45267122e+02\n",
      " 4.98758828e+02 3.45042086e+02 2.77590892e+04 4.22732350e+06\n",
      " 3.14159000e+04 1.53937910e+04 3.80132390e+04 4.21733400e+06\n",
      " 3.45600000e+03 5.04600000e+03 5.81068486e+02 6.51440102e+02\n",
      " 2.22286342e+03 1.49300923e+03 6.00019814e+02 8.90909685e+04\n",
      " 3.14159000e+02 2.64207719e+03 5.92828589e+03 1.31424000e+03\n",
      " 4.56515250e+03 1.40821440e+03 2.65667427e+03 3.84844775e+03\n",
      " 9.50330975e+03 4.83050878e+04 6.15751640e+04 7.25832954e+04\n",
      " 8.44962046e+04 9.73138918e+04 9.03651974e+02 9.12197099e+02\n",
      " 1.79150552e+03 1.10093377e+03 1.44410599e+03 1.22665769e+03\n",
      " 1.47661767e+03 7.84080000e+04 2.32351996e+02 2.98035103e+02\n",
      " 6.33470208e+02]\n"
     ]
    }
   ],
   "source": [
    "print(df['area'].unique())"
   ]
  },
  {
   "cell_type": "code",
   "execution_count": 361,
   "metadata": {},
   "outputs": [],
   "source": [
    "def calculate_sphericity(row):\n",
    "    area = row['area']\n",
    "    volume = row['volume']   # Предполагается, что у нас есть столбцы 'area' и 'volume'\n",
    "    radius_sphere = (3 * volume / (4 * np.pi)) ** (1/3) # Вычисляем радиус сферы по объему\n",
    "    surface_area_sphere = 4 * np.pi * radius_sphere ** 2 # Вычисляем поверхность сферы\n",
    "    sphericity = surface_area_sphere / area # Вычисляем сферичность\n",
    "    return sphericity"
   ]
  },
  {
   "cell_type": "code",
   "execution_count": 362,
   "metadata": {},
   "outputs": [],
   "source": [
    "df['sphericity'] = df.apply(calculate_sphericity, axis=1)"
   ]
  },
  {
   "cell_type": "code",
   "execution_count": 363,
   "metadata": {},
   "outputs": [
    {
     "name": "stdout",
     "output_type": "stream",
     "text": [
      "[1.00000028 1.00000028 1.00000028 0.67113929 0.67113929 0.51664327\n",
      " 1.00000028 1.34501829 0.37248422 0.80599598 0.80599598 0.80599598\n",
      " 1.64394881 0.67113929 0.51664327 0.09100827 0.0563519  0.51664327\n",
      " 0.51664327 1.47410027 0.07037894 0.80599598]\n"
     ]
    }
   ],
   "source": [
    "print(df['sphericity'].unique())"
   ]
  },
  {
   "cell_type": "markdown",
   "metadata": {},
   "source": [
    "Как можно заметить наш датасет имеет частицы сферические 1, и близкие к сферическим 0.8 и деформированные, совсем нее сферические 0.05 и 0.37, а значения 1.64394881 - наверное, указывают на не симметричные частицы"
   ]
  },
  {
   "cell_type": "code",
   "execution_count": null,
   "metadata": {},
   "outputs": [],
   "source": [
    "print(df['chemical_formula'].unique())"
   ]
  },
  {
   "cell_type": "code",
   "execution_count": null,
   "metadata": {},
   "outputs": [],
   "source": [
    "substances = ['ZnO', 'CoFe2O4', 'CoO', 'CoFe2O4', 'Mn0.50Zn0.50Fe2O4', 'LaFeO3', 'Ni', 'NiO', 'MgFe2O4', 'CoFe2O4', 'BiFeO3', 'CoFe2O4', 'BiFeO3', 'Co', 'CoO', 'FeRh', 'MnO2', 'Ag', 'Fe3O4', 'Fe', 'Fe2O3', 'FeO', 'Fe3O4', 'NiO', 'Fe3O4', 'Fe3O4', 'NiO', 'NiO', 'Fe3O4', 'Bi2Fe4O9', 'BiFeO3', 'BiFeO3', 'Bi2Fe4O9', 'TiO2', 'Fe2O3', 'Co0.4Fe2.6O4', 'Co0.7Fe2.3O4', 'Fe0.7Co0.3', 'Fe0.5Co0.5', 'Fe0.3Co0.7', 'Fe', 'Fe3O4', 'La2FeMnO6', 'FeVO4', 'Fe3O4', 'Au', 'Fe3O4', 'Bi0.9Gd0.1Fe0.9Ti0.1O3', 'Nd0.78Sr0.22CoO3', 'Fe3O4', 'CoO', 'CoFe2O4', 'CoO', 'Cu0.98', 'Fe0.02O', 'Cu0.96', 'Fe0.04O', 'Fe2O3', 'La0.85Sr0.15FeO3', 'Co', 'Co3O4', 'Mn3O4', 'La0.67Sr0.33MnO3', 'MnO', 'Mn3O4', 'Fe3O4', 'Fe2O3', 'Co3O4', 'Ni0.99Fe0.01O', 'Ni0.98Fe0.02O', 'Ni0.96Fe0.04O', 'Ni0.97Fe0.03O', 'Ag0.5Cr2.5O4', 'AgCrO2', 'CoO', 'NiFe2O4', 'MnFe2O4', 'MnFe2O4', 'Fe3O4', 'Bi0.9La0.1FeO3', 'NdFeO3', 'CoFe2O4', 'Fe3O4', 'DyCrTiO5', 'GdCrTiO5', 'NiO', 'CoMn2O4', 'BaFe12O19', 'Fe3O4', 'NiFe2O4', 'CoO', 'CoCr2O4', 'FeNi', 'Mn', 'Mn3O4', 'Fe3O4', 'CoFe2O4', 'Fe3O4', 'MnO', 'Fe', 'Fe3C', 'CoFe2O4', 'NiO', 'Fe3O4', 'MgO', 'Fe3O4', 'MgO', 'CoFe2O4', 'Co', 'Fe2O3', 'CoFe2O4', 'NiFe2O4', 'NiFe2O4', 'NiFe2O4', 'CoFe2O4', 'MnFe2O4', 'Fe2O3', 'Fe5C2', 'Fe3O4', 'Fe5C2', 'FeNi3', 'FeNi3', 'Mo', 'Fe2.2C', 'Fe2.2C', 'Mo', 'La2Fe2O6', 'CoFe2O4', 'CoO', 'Co', 'FeF2', 'Fe', 'CoP', 'LaFeO3', 'NiO']\n",
    "\n",
    "unique_substances = set(substances)\n",
    "print(unique_substances)"
   ]
  },
  {
   "cell_type": "code",
   "execution_count": null,
   "metadata": {},
   "outputs": [],
   "source": [
    "dict_lattice = {\n",
    "    'Co0.7Fe2.3O4': [8.39], # cubic only a\n",
    "    'CoP': [5.077, 3.265, 5.545],\n",
    "    'Fe2.2C': [], # записали для Fe2C\n",
    "    'Ni0.97Fe0.03O': [],\n",
    "    'Bi0.9Gd0.1Fe0.9Ti0.1O3': [5.6083, 7.703, 5.3729], # Bi0.9Gd0.1FeO3\n",
    "    'Fe0.3Co0.7': [],\n",
    "    'TiO2': [4.59395, 4.59395, 62.44996],\n",
    "    'Co': [4.0574],\n",
    "    'La2Fe2O6': [],\n",
    "    'Ni0.96Fe0.04O': None,\n",
    "    'Ni0.99Fe0.01O': None,\n",
    "    'NdFeO3': None,\n",
    "    'BaFe12O19': None,\n",
    "    'MgFe2O4': None,\n",
    "    'Ag0.5Cr2.5O4': None,\n",
    "    'Fe2O3': None,\n",
    "    'Cu0.96': None,\n",
    "    'Mn': None,\n",
    "    'Fe0.04O': None,\n",
    "    'Fe5C2': [4.54, 4.96, 5.03],\n",
    "    'Fe0.7Co0.3': None,\n",
    "    'FeNi3': None,\n",
    "    'NiO': None,\n",
    "    'MnO2': None,\n",
    "    'MnFe2O4': None,\n",
    "    'ZnO': None,\n",
    "    'NiFe2O4': None,\n",
    "    'Fe3C': [4.69, 5.14, 5.03], # orthorhombuc\n",
    "    'FeNi': None,\n",
    "    'La2FeMnO6': None,\n",
    "    'DyCrTiO5': None,\n",
    "    'AgCrO2': None,\n",
    "    'MgO': None,\n",
    "    'Fe0.5Co0.5': None,\n",
    "    'CoMn2O4': None,\n",
    "    'Mo': None,\n",
    "    'Mn3O4': None,\n",
    "    'FeO': None,\n",
    "    'Bi2Fe4O9': None,\n",
    "    'Co0.4Fe2.6O4': None,\n",
    "    'FeVO4': None,\n",
    "    'Co3O4': None,\n",
    "    'Au': None,\n",
    "    'Ni0.98Fe0.02O': None,\n",
    "    'CoCr2O4': None,\n",
    "    'Mn0.50Zn0.50Fe2O4': None,\n",
    "    'Fe': None,\n",
    "    'LaFeO3': None,\n",
    "    'Fe3O4': None,\n",
    "    'Nd0.78Sr0.22CoO3': None,\n",
    "    'Fe0.02O': None,\n",
    "    'CoFe2O4': None,\n",
    "    'Ni': None,\n",
    "    'MnO': None,\n",
    "    'Bi0.9La0.1FeO3': None,\n",
    "    'BiFeO3': [],\n",
    "    'FeF2': [4.697],\n",
    "    'Ag': [4.0891],\n",
    "    'Cu0.98': [3.6151],\n",
    "    'FeRh': [4.1712],\n",
    "    'La0.85Sr0.15FeO3': [],\n",
    "    'La0.67Sr0.33MnO3': [5.469, 13.42], # a, c\n",
    "    'GdCrTiO5': [7.4162, 8.5862, 5.7807], # a, b, c \n",
    "    'CoO': [4.26] # ang\n",
    "    \n",
    "}"
   ]
  },
  {
   "cell_type": "code",
   "execution_count": null,
   "metadata": {},
   "outputs": [],
   "source": [
    "dict_desity = {\n",
    "    'Co0.7Fe2.3O4': None,\n",
    "    'CoP': None,\n",
    "    'Fe2.2C': None,\n",
    "    'Ni0.97Fe0.03O': None,\n",
    "    'Bi0.9Gd0.1Fe0.9Ti0.1O3': None,\n",
    "    'Fe0.3Co0.7': None,\n",
    "    'TiO2': 4.25, # g/cm^-3\n",
    "    'Co': None,\n",
    "    'La2Fe2O6': None,\n",
    "    'Ni0.96Fe0.04O': None,\n",
    "    'Ni0.99Fe0.01O': None,\n",
    "    'NdFeO3': None,\n",
    "    'BaFe12O19': None,\n",
    "    'MgFe2O4': None,\n",
    "    'Ag0.5Cr2.5O4': None,\n",
    "    'Fe2O3': None,\n",
    "    'Cu0.96': None,\n",
    "    'Mn': None,\n",
    "    'Fe0.04O': None,\n",
    "    'Fe5C2': None,\n",
    "    'Fe0.7Co0.3': None,\n",
    "    'FeNi3': None,\n",
    "    'NiO': None,\n",
    "    'MnO2': None,\n",
    "    'MnFe2O4': None,\n",
    "    'ZnO': None,\n",
    "    'NiFe2O4': None,\n",
    "    'Fe3C': None,\n",
    "    'FeNi': None,\n",
    "    'La2FeMnO6': None,\n",
    "    'DyCrTiO5': None,\n",
    "    'AgCrO2': None,\n",
    "    'MgO': None,\n",
    "    'Fe0.5Co0.5': None,\n",
    "    'CoMn2O4': None,\n",
    "    'Mo': None,\n",
    "    'Mn3O4': None,\n",
    "    'FeO': None,\n",
    "    'Bi2Fe4O9': None,\n",
    "    'Co0.4Fe2.6O4': None,\n",
    "    'FeVO4': None,\n",
    "    'Co3O4': None,\n",
    "    'Au': None,\n",
    "    'Ni0.98Fe0.02O': None,\n",
    "    'CoCr2O4': None,\n",
    "    'Mn0.50Zn0.50Fe2O4': None,\n",
    "    'Fe': None,\n",
    "    'LaFeO3': None,\n",
    "    'Fe3O4': None,\n",
    "    'Nd0.78Sr0.22CoO3': None,\n",
    "    'Fe0.02O': None,\n",
    "    'CoFe2O4': None,\n",
    "    'Ni': None,\n",
    "    'MnO': None,\n",
    "    'Bi0.9La0.1FeO3': None,\n",
    "    'BiFeO3': None,\n",
    "    'FeF2': None,\n",
    "    'Ag': None,\n",
    "    'Cu0.98': None,\n",
    "    'FeRh': None,\n",
    "    'La0.85Sr0.15FeO3': None,\n",
    "    'La0.67Sr0.33MnO3': None,\n",
    "    'GdCrTiO5': [], #\n",
    "    'CoO': 6.44  # g/cm\n",
    "    \n",
    "}"
   ]
  },
  {
   "cell_type": "code",
   "execution_count": null,
   "metadata": {},
   "outputs": [],
   "source": [
    "# Сначала нужно получить полотность так как у нас её нет\n",
    "def calculate_density(formula): # Попытаемся посчитать плотность на основе химической формулы, так как у нас много нестехеометрических значений и просто спарсить не получится\n",
    "    comp = Composition(formula)\n",
    "    print(comp)\n",
    "    total_mass = 0\n",
    "    total_volume = 0\n",
    "    for element, amount in comp.items(): # Идём по элементам\n",
    "        total_mass += element.atomic_mass * amount \n",
    "        print(element, amount, element.atomic_mass)\n",
    "        total_volume += element.atomic_radius ** 3 * amount  # Предполагая, что плотность пропорциональна объему атома\n",
    "        print(element.atomic_radius)\n",
    "    total_density = total_mass * 10**-24/ total_volume * 10**-8 # Рассчёт плотности через оюъём\n",
    "    print(total_density)\n",
    "    return total_density"
   ]
  },
  {
   "cell_type": "markdown",
   "metadata": {},
   "source": [
    "Пересчитать плотность "
   ]
  },
  {
   "cell_type": "code",
   "execution_count": null,
   "metadata": {},
   "outputs": [],
   "source": [
    "def calculate_total_magn(row): # Колонки 'sat_em_g' и 'volume' должны быть volume и saturation magnetization\n",
    "    ms = row['sat_em_g'] \n",
    "    volume = row['volume']\n",
    "    density = calculate_density(row['formula_combined'])  # Расчет плотности по формуле\n",
    "    total_magn = (ms * volume * density * 10**-21) / (9.27 * 10 ** -21)  # Расчет total_magnetization для наших наночастиц \n",
    "    return total_magn"
   ]
  },
  {
   "cell_type": "code",
   "execution_count": null,
   "metadata": {},
   "outputs": [],
   "source": [
    "df['total_magn'] = df.apply(calculate_total_magn, axis=1) # Печатет плотность нашего вещества\n",
    "print(df['total_magn'])"
   ]
  },
  {
   "cell_type": "code",
   "execution_count": null,
   "metadata": {},
   "outputs": [],
   "source": [
    "print(df['total_magn'])"
   ]
  },
  {
   "cell_type": "code",
   "execution_count": null,
   "metadata": {},
   "outputs": [],
   "source": [
    "print(df.info())"
   ]
  },
  {
   "cell_type": "markdown",
   "metadata": {},
   "source": [
    "# Last"
   ]
  },
  {
   "cell_type": "code",
   "execution_count": 364,
   "metadata": {},
   "outputs": [
    {
     "name": "stdout",
     "output_type": "stream",
     "text": [
      "            volume          area  Unnamed: 0              c1          c2   c3   \n",
      "0      1697.396888    688.133874           0          Zn1 O1  Fe2 Co1 O4  NaN  \\\n",
      "1      1436.753827    615.751640           1          Co1 O1  Fe2 Co1 O4  NaN   \n",
      "2     20579.508893   3631.678040           2  Mn1 Zn1 Fe4 O8         NaN  NaN   \n",
      "3      5575.275053   1520.529560           3  Mn1 Zn1 Fe4 O8         NaN  NaN   \n",
      "4      7238.223360   1809.555840           4  Mn1 Zn1 Fe4 O8         NaN  NaN   \n",
      "..             ...           ...         ...             ...         ...  ...   \n",
      "528  268082.346667  20106.176000         528      La1 Fe1 O3      Ni1 O1  NaN   \n",
      "529  268082.346667  20106.176000         529      La1 Fe1 O3      Ni1 O1  NaN   \n",
      "530  179594.228333  15393.791000         530      La1 Fe1 O3      Ni1 O1  NaN   \n",
      "531  179594.228333  15393.791000         531      La1 Fe1 O3      Ni1 O1  NaN   \n",
      "532  179594.228333  15393.791000         532      La1 Fe1 O3      Ni1 O1  NaN   \n",
      "\n",
      "          chemical_formula    crystal_structure     z   id  ...   \n",
      "0       ['ZnO', 'CoFe2O4']    hexagonal, cubic    7.4    1  ...  \\\n",
      "1       ['CoO', 'CoFe2O4']         cubcic, cube   7.0    2  ...   \n",
      "2    ['Mn0.50Zn0.50Fe2O4']                cubic  17.0    3  ...   \n",
      "3    ['Mn0.50Zn0.50Fe2O4']                cubic  11.0    4  ...   \n",
      "4    ['Mn0.50Zn0.50Fe2O4']                cubic  12.0    5  ...   \n",
      "..                     ...                  ...   ...  ...  ...   \n",
      "528      ['LaFeO3', 'NiO']  orthorhombic, cubic  40.0  529  ...   \n",
      "529      ['LaFeO3', 'NiO']  orthorhombic, cubic  40.0  530  ...   \n",
      "530      ['LaFeO3', 'NiO']  orthorhombic, cubic  35.0  531  ...   \n",
      "531      ['LaFeO3', 'NiO']  orthorhombic, cubic  35.0  532  ...   \n",
      "532      ['LaFeO3', 'NiO']  orthorhombic, cubic  35.0  533  ...   \n",
      "\n",
      "     h_range_max_koe     y  mr (emu/g)  sat_em_g  shape  space_group_core   \n",
      "0               50.0   7.4    13.76705   52.1524    1.0             186.0  \\\n",
      "1               50.0   7.0    43.26420   83.1400    1.0             225.0   \n",
      "2               10.0  17.0     0.00780    2.2900    1.0             227.0   \n",
      "3               10.0  11.0     0.02180    2.4300    1.0             227.0   \n",
      "4               10.0  12.0     0.34980   16.1500    1.0             227.0   \n",
      "..               ...   ...         ...       ...    ...               ...   \n",
      "528             60.0  40.0     0.15550    1.6250    1.0              62.0   \n",
      "529             60.0  40.0     0.15500    1.6500    1.0              62.0   \n",
      "530             60.0  35.0     0.16600    1.6570    1.0              62.0   \n",
      "531             60.0  35.0     0.16550    1.6765    1.0              62.0   \n",
      "532             60.0  35.0     0.17000    1.2700    1.0              62.0   \n",
      "\n",
      "     temperature_k  ver_shift_emu_g     x  sphericity  \n",
      "0              5.0           0.0000   7.4         1.0  \n",
      "1              5.0           0.0000   7.0         1.0  \n",
      "2            300.0           0.0000  17.0         1.0  \n",
      "3            300.0           0.0000  11.0         1.0  \n",
      "4            300.0           0.0000  12.0         1.0  \n",
      "..             ...              ...   ...         ...  \n",
      "528            5.0           0.1125  40.0         1.0  \n",
      "529            5.0           0.1240  40.0         1.0  \n",
      "530            5.0           0.1520  35.0         1.0  \n",
      "531            5.0           0.1500  35.0         1.0  \n",
      "532            5.0           0.1700  35.0         1.0  \n",
      "\n",
      "[533 rows x 25 columns]\n"
     ]
    }
   ],
   "source": [
    "print(df.drop(columns=['structure_', 'structure']))"
   ]
  },
  {
   "cell_type": "code",
   "execution_count": 370,
   "metadata": {},
   "outputs": [
    {
     "name": "stdout",
     "output_type": "stream",
     "text": [
      "<class 'pandas.core.frame.DataFrame'>\n",
      "RangeIndex: 533 entries, 0 to 532\n",
      "Data columns (total 27 columns):\n",
      " #   Column             Non-Null Count  Dtype  \n",
      "---  ------             --------------  -----  \n",
      " 0   volume             533 non-null    float64\n",
      " 1   area               533 non-null    float64\n",
      " 2   Unnamed: 0         533 non-null    int64  \n",
      " 3   c1                 533 non-null    object \n",
      " 4   c2                 322 non-null    object \n",
      " 5   c3                 9 non-null      object \n",
      " 6   chemical_formula   533 non-null    object \n",
      " 7   crystal_structure  533 non-null    object \n",
      " 8   z                  509 non-null    float64\n",
      " 9   id                 533 non-null    int64  \n",
      " 10  space_group_shell  533 non-null    int64  \n",
      " 11  structure          533 non-null    object \n",
      " 12  structure_         533 non-null    object \n",
      " 13  formula_combined   533 non-null    object \n",
      " 14  coer_oe            533 non-null    float64\n",
      " 15  exc_bias_oe        533 non-null    float64\n",
      " 16  fc_field_t         533 non-null    float64\n",
      " 17  h_range_max_koe    533 non-null    float64\n",
      " 18  y                  533 non-null    float64\n",
      " 19  mr (emu/g)         533 non-null    float64\n",
      " 20  sat_em_g           533 non-null    float64\n",
      " 21  shape              533 non-null    float64\n",
      " 22  space_group_core   533 non-null    float64\n",
      " 23  temperature_k      533 non-null    float64\n",
      " 24  ver_shift_emu_g    533 non-null    float64\n",
      " 25  x                  533 non-null    float64\n",
      " 26  sphericity         533 non-null    float64\n",
      "dtypes: float64(16), int64(3), object(8)\n",
      "memory usage: 112.6+ KB\n",
      "None\n"
     ]
    }
   ],
   "source": [
    "print(df.info())"
   ]
  },
  {
   "cell_type": "code",
   "execution_count": 367,
   "metadata": {},
   "outputs": [
    {
     "ename": "AttributeError",
     "evalue": "'Index' object has no attribute '_format_native_types'",
     "output_type": "error",
     "traceback": [
      "\u001b[1;31m---------------------------------------------------------------------------\u001b[0m",
      "\u001b[1;31mAttributeError\u001b[0m                            Traceback (most recent call last)",
      "Cell \u001b[1;32mIn[367], line 1\u001b[0m\n\u001b[1;32m----> 1\u001b[0m \u001b[43mdf\u001b[49m\u001b[38;5;241;43m.\u001b[39;49m\u001b[43mto_csv\u001b[49m\u001b[43m(\u001b[49m\u001b[38;5;124;43mr\u001b[39;49m\u001b[38;5;124;43m'\u001b[39;49m\u001b[38;5;124;43mC:\u001b[39;49m\u001b[38;5;124;43m\\\u001b[39;49m\u001b[38;5;124;43mUsers\u001b[39;49m\u001b[38;5;124;43m\\\u001b[39;49m\u001b[38;5;124;43mКсения\u001b[39;49m\u001b[38;5;124;43m\\\u001b[39;49m\u001b[38;5;124;43mProject\u001b[39;49m\u001b[38;5;124;43m\\\u001b[39;49m\u001b[38;5;124;43mMagnet_Exchange_bias\u001b[39;49m\u001b[38;5;124;43m\\\u001b[39;49m\u001b[38;5;124;43mdata\u001b[39;49m\u001b[38;5;124;43m\\\u001b[39;49m\u001b[38;5;124;43mBias_data_2.csv\u001b[39;49m\u001b[38;5;124;43m'\u001b[39;49m\u001b[43m)\u001b[49m\n",
      "File \u001b[1;32mc:\\Users\\Ксения\\AppData\\Local\\Programs\\Python\\Python311\\Lib\\site-packages\\pandas\\util\\_decorators.py:333\u001b[0m, in \u001b[0;36mwrapper\u001b[1;34m(*args, **kwargs)\u001b[0m\n\u001b[0;32m    326\u001b[0m         warnings.warn(\n\u001b[0;32m    327\u001b[0m             msg.format(arguments=_format_argument_list(allow_args)),\n\u001b[0;32m    328\u001b[0m             FutureWarning,\n\u001b[0;32m    329\u001b[0m             stacklevel=find_stack_level(),\n\u001b[0;32m    330\u001b[0m         )\n\u001b[0;32m    331\u001b[0m     return func(*args, **kwargs)\n\u001b[1;32m--> 333\u001b[0m # error: \"Callable[[VarArg(Any), KwArg(Any)], Any]\" has no\n\u001b[0;32m    334\u001b[0m # attribute \"__signature__\"\n\u001b[0;32m    335\u001b[0m wrapper.__signature__ = new_sig  # type: ignore[attr-defined]\n\u001b[0;32m    336\u001b[0m return wrapper\n",
      "File \u001b[1;32mc:\\Users\\Ксения\\AppData\\Local\\Programs\\Python\\Python311\\Lib\\site-packages\\pandas\\core\\generic.py:3964\u001b[0m, in \u001b[0;36mto_csv\u001b[1;34m(self, path_or_buf, sep, na_rep, float_format, columns, header, index, index_label, mode, encoding, compression, quoting, quotechar, lineterminator, chunksize, date_format, doublequote, escapechar, decimal, errors, storage_options)\u001b[0m\n\u001b[0;32m   3908\u001b[0m \u001b[38;5;129m@final\u001b[39m\n\u001b[0;32m   3909\u001b[0m \u001b[38;5;28;01mdef\u001b[39;00m \u001b[38;5;21mxs\u001b[39m(\n\u001b[0;32m   3910\u001b[0m     \u001b[38;5;28mself\u001b[39m: NDFrameT,\n\u001b[1;32m   (...)\u001b[0m\n\u001b[0;32m   3914\u001b[0m     drop_level: bool_t \u001b[38;5;241m=\u001b[39m \u001b[38;5;28;01mTrue\u001b[39;00m,\n\u001b[0;32m   3915\u001b[0m ) \u001b[38;5;241m-\u001b[39m\u001b[38;5;241m>\u001b[39m NDFrameT:\n\u001b[0;32m   3916\u001b[0m \u001b[38;5;250m    \u001b[39m\u001b[38;5;124;03m\"\"\"\u001b[39;00m\n\u001b[0;32m   3917\u001b[0m \u001b[38;5;124;03m    Return cross-section from the Series/DataFrame.\u001b[39;00m\n\u001b[0;32m   3918\u001b[0m \n\u001b[0;32m   3919\u001b[0m \u001b[38;5;124;03m    This method takes a `key` argument to select data at a particular\u001b[39;00m\n\u001b[0;32m   3920\u001b[0m \u001b[38;5;124;03m    level of a MultiIndex.\u001b[39;00m\n\u001b[0;32m   3921\u001b[0m \n\u001b[0;32m   3922\u001b[0m \u001b[38;5;124;03m    Parameters\u001b[39;00m\n\u001b[0;32m   3923\u001b[0m \u001b[38;5;124;03m    ----------\u001b[39;00m\n\u001b[0;32m   3924\u001b[0m \u001b[38;5;124;03m    key : label or tuple of label\u001b[39;00m\n\u001b[0;32m   3925\u001b[0m \u001b[38;5;124;03m        Label contained in the index, or partially in a MultiIndex.\u001b[39;00m\n\u001b[0;32m   3926\u001b[0m \u001b[38;5;124;03m    axis : {0 or 'index', 1 or 'columns'}, default 0\u001b[39;00m\n\u001b[0;32m   3927\u001b[0m \u001b[38;5;124;03m        Axis to retrieve cross-section on.\u001b[39;00m\n\u001b[0;32m   3928\u001b[0m \u001b[38;5;124;03m    level : object, defaults to first n levels (n=1 or len(key))\u001b[39;00m\n\u001b[0;32m   3929\u001b[0m \u001b[38;5;124;03m        In case of a key partially contained in a MultiIndex, indicate\u001b[39;00m\n\u001b[0;32m   3930\u001b[0m \u001b[38;5;124;03m        which levels are used. Levels can be referred by label or position.\u001b[39;00m\n\u001b[0;32m   3931\u001b[0m \u001b[38;5;124;03m    drop_level : bool, default True\u001b[39;00m\n\u001b[0;32m   3932\u001b[0m \u001b[38;5;124;03m        If False, returns object with same levels as self.\u001b[39;00m\n\u001b[0;32m   3933\u001b[0m \n\u001b[0;32m   3934\u001b[0m \u001b[38;5;124;03m    Returns\u001b[39;00m\n\u001b[0;32m   3935\u001b[0m \u001b[38;5;124;03m    -------\u001b[39;00m\n\u001b[0;32m   3936\u001b[0m \u001b[38;5;124;03m    Series or DataFrame\u001b[39;00m\n\u001b[0;32m   3937\u001b[0m \u001b[38;5;124;03m        Cross-section from the original Series or DataFrame\u001b[39;00m\n\u001b[0;32m   3938\u001b[0m \u001b[38;5;124;03m        corresponding to the selected index levels.\u001b[39;00m\n\u001b[0;32m   3939\u001b[0m \n\u001b[0;32m   3940\u001b[0m \u001b[38;5;124;03m    See Also\u001b[39;00m\n\u001b[0;32m   3941\u001b[0m \u001b[38;5;124;03m    --------\u001b[39;00m\n\u001b[0;32m   3942\u001b[0m \u001b[38;5;124;03m    DataFrame.loc : Access a group of rows and columns\u001b[39;00m\n\u001b[0;32m   3943\u001b[0m \u001b[38;5;124;03m        by label(s) or a boolean array.\u001b[39;00m\n\u001b[0;32m   3944\u001b[0m \u001b[38;5;124;03m    DataFrame.iloc : Purely integer-location based indexing\u001b[39;00m\n\u001b[0;32m   3945\u001b[0m \u001b[38;5;124;03m        for selection by position.\u001b[39;00m\n\u001b[0;32m   3946\u001b[0m \n\u001b[0;32m   3947\u001b[0m \u001b[38;5;124;03m    Notes\u001b[39;00m\n\u001b[0;32m   3948\u001b[0m \u001b[38;5;124;03m    -----\u001b[39;00m\n\u001b[0;32m   3949\u001b[0m \u001b[38;5;124;03m    `xs` can not be used to set values.\u001b[39;00m\n\u001b[0;32m   3950\u001b[0m \n\u001b[0;32m   3951\u001b[0m \u001b[38;5;124;03m    MultiIndex Slicers is a generic way to get/set values on\u001b[39;00m\n\u001b[0;32m   3952\u001b[0m \u001b[38;5;124;03m    any level or levels.\u001b[39;00m\n\u001b[0;32m   3953\u001b[0m \u001b[38;5;124;03m    It is a superset of `xs` functionality, see\u001b[39;00m\n\u001b[0;32m   3954\u001b[0m \u001b[38;5;124;03m    :ref:`MultiIndex Slicers <advanced.mi_slicers>`.\u001b[39;00m\n\u001b[0;32m   3955\u001b[0m \n\u001b[0;32m   3956\u001b[0m \u001b[38;5;124;03m    Examples\u001b[39;00m\n\u001b[0;32m   3957\u001b[0m \u001b[38;5;124;03m    --------\u001b[39;00m\n\u001b[0;32m   3958\u001b[0m \u001b[38;5;124;03m    >>> d = {'num_legs': [4, 4, 2, 2],\u001b[39;00m\n\u001b[0;32m   3959\u001b[0m \u001b[38;5;124;03m    ...      'num_wings': [0, 0, 2, 2],\u001b[39;00m\n\u001b[0;32m   3960\u001b[0m \u001b[38;5;124;03m    ...      'class': ['mammal', 'mammal', 'mammal', 'bird'],\u001b[39;00m\n\u001b[0;32m   3961\u001b[0m \u001b[38;5;124;03m    ...      'animal': ['cat', 'dog', 'bat', 'penguin'],\u001b[39;00m\n\u001b[0;32m   3962\u001b[0m \u001b[38;5;124;03m    ...      'locomotion': ['walks', 'walks', 'flies', 'walks']}\u001b[39;00m\n\u001b[0;32m   3963\u001b[0m \u001b[38;5;124;03m    >>> df = pd.DataFrame(data=d)\u001b[39;00m\n\u001b[1;32m-> 3964\u001b[0m \u001b[38;5;124;03m    >>> df = df.set_index(['class', 'animal', 'locomotion'])\u001b[39;00m\n\u001b[0;32m   3965\u001b[0m \u001b[38;5;124;03m    >>> df\u001b[39;00m\n\u001b[0;32m   3966\u001b[0m \u001b[38;5;124;03m                               num_legs  num_wings\u001b[39;00m\n\u001b[0;32m   3967\u001b[0m \u001b[38;5;124;03m    class  animal  locomotion\u001b[39;00m\n\u001b[0;32m   3968\u001b[0m \u001b[38;5;124;03m    mammal cat     walks              4          0\u001b[39;00m\n\u001b[0;32m   3969\u001b[0m \u001b[38;5;124;03m           dog     walks              4          0\u001b[39;00m\n\u001b[0;32m   3970\u001b[0m \u001b[38;5;124;03m           bat     flies              2          2\u001b[39;00m\n\u001b[0;32m   3971\u001b[0m \u001b[38;5;124;03m    bird   penguin walks              2          2\u001b[39;00m\n\u001b[0;32m   3972\u001b[0m \n\u001b[0;32m   3973\u001b[0m \u001b[38;5;124;03m    Get values at specified index\u001b[39;00m\n\u001b[0;32m   3974\u001b[0m \n\u001b[0;32m   3975\u001b[0m \u001b[38;5;124;03m    >>> df.xs('mammal')\u001b[39;00m\n\u001b[0;32m   3976\u001b[0m \u001b[38;5;124;03m                       num_legs  num_wings\u001b[39;00m\n\u001b[0;32m   3977\u001b[0m \u001b[38;5;124;03m    animal locomotion\u001b[39;00m\n\u001b[0;32m   3978\u001b[0m \u001b[38;5;124;03m    cat    walks              4          0\u001b[39;00m\n\u001b[0;32m   3979\u001b[0m \u001b[38;5;124;03m    dog    walks              4          0\u001b[39;00m\n\u001b[0;32m   3980\u001b[0m \u001b[38;5;124;03m    bat    flies              2          2\u001b[39;00m\n\u001b[0;32m   3981\u001b[0m \n\u001b[0;32m   3982\u001b[0m \u001b[38;5;124;03m    Get values at several indexes\u001b[39;00m\n\u001b[0;32m   3983\u001b[0m \n\u001b[0;32m   3984\u001b[0m \u001b[38;5;124;03m    >>> df.xs(('mammal', 'dog'))\u001b[39;00m\n\u001b[0;32m   3985\u001b[0m \u001b[38;5;124;03m                num_legs  num_wings\u001b[39;00m\n\u001b[0;32m   3986\u001b[0m \u001b[38;5;124;03m    locomotion\u001b[39;00m\n\u001b[0;32m   3987\u001b[0m \u001b[38;5;124;03m    walks              4          0\u001b[39;00m\n\u001b[0;32m   3988\u001b[0m \n\u001b[0;32m   3989\u001b[0m \u001b[38;5;124;03m    Get values at specified index and level\u001b[39;00m\n\u001b[0;32m   3990\u001b[0m \n\u001b[0;32m   3991\u001b[0m \u001b[38;5;124;03m    >>> df.xs('cat', level=1)\u001b[39;00m\n\u001b[0;32m   3992\u001b[0m \u001b[38;5;124;03m                       num_legs  num_wings\u001b[39;00m\n\u001b[0;32m   3993\u001b[0m \u001b[38;5;124;03m    class  locomotion\u001b[39;00m\n\u001b[0;32m   3994\u001b[0m \u001b[38;5;124;03m    mammal walks              4          0\u001b[39;00m\n\u001b[0;32m   3995\u001b[0m \n\u001b[0;32m   3996\u001b[0m \u001b[38;5;124;03m    Get values at several indexes and levels\u001b[39;00m\n\u001b[0;32m   3997\u001b[0m \n\u001b[0;32m   3998\u001b[0m \u001b[38;5;124;03m    >>> df.xs(('bird', 'walks'),\u001b[39;00m\n\u001b[0;32m   3999\u001b[0m \u001b[38;5;124;03m    ...       level=[0, 'locomotion'])\u001b[39;00m\n\u001b[0;32m   4000\u001b[0m \u001b[38;5;124;03m             num_legs  num_wings\u001b[39;00m\n\u001b[0;32m   4001\u001b[0m \u001b[38;5;124;03m    animal\u001b[39;00m\n\u001b[0;32m   4002\u001b[0m \u001b[38;5;124;03m    penguin         2          2\u001b[39;00m\n\u001b[0;32m   4003\u001b[0m \n\u001b[0;32m   4004\u001b[0m \u001b[38;5;124;03m    Get values at specified column and axis\u001b[39;00m\n\u001b[0;32m   4005\u001b[0m \n\u001b[0;32m   4006\u001b[0m \u001b[38;5;124;03m    >>> df.xs('num_wings', axis=1)\u001b[39;00m\n\u001b[0;32m   4007\u001b[0m \u001b[38;5;124;03m    class   animal   locomotion\u001b[39;00m\n\u001b[0;32m   4008\u001b[0m \u001b[38;5;124;03m    mammal  cat      walks         0\u001b[39;00m\n\u001b[0;32m   4009\u001b[0m \u001b[38;5;124;03m            dog      walks         0\u001b[39;00m\n\u001b[0;32m   4010\u001b[0m \u001b[38;5;124;03m            bat      flies         2\u001b[39;00m\n\u001b[0;32m   4011\u001b[0m \u001b[38;5;124;03m    bird    penguin  walks         2\u001b[39;00m\n\u001b[0;32m   4012\u001b[0m \u001b[38;5;124;03m    Name: num_wings, dtype: int64\u001b[39;00m\n\u001b[0;32m   4013\u001b[0m \u001b[38;5;124;03m    \"\"\"\u001b[39;00m\n\u001b[0;32m   4014\u001b[0m     axis \u001b[38;5;241m=\u001b[39m \u001b[38;5;28mself\u001b[39m\u001b[38;5;241m.\u001b[39m_get_axis_number(axis)\n\u001b[0;32m   4015\u001b[0m     labels \u001b[38;5;241m=\u001b[39m \u001b[38;5;28mself\u001b[39m\u001b[38;5;241m.\u001b[39m_get_axis(axis)\n",
      "File \u001b[1;32mc:\\Users\\Ксения\\AppData\\Local\\Programs\\Python\\Python311\\Lib\\site-packages\\pandas\\io\\formats\\format.py:995\u001b[0m, in \u001b[0;36mto_csv\u001b[1;34m(self, path_or_buf, encoding, sep, columns, index_label, mode, compression, quoting, quotechar, lineterminator, chunksize, date_format, doublequote, escapechar, errors, storage_options)\u001b[0m\n\u001b[0;32m    992\u001b[0m \u001b[38;5;28;01melse\u001b[39;00m:\n\u001b[0;32m    993\u001b[0m     col_header \u001b[38;5;241m=\u001b[39m [\u001b[38;5;124m\"\u001b[39m\u001b[38;5;124m\"\u001b[39m] \u001b[38;5;241m*\u001b[39m columns\u001b[38;5;241m.\u001b[39mnlevels\n\u001b[1;32m--> 995\u001b[0m \u001b[38;5;28;01mif\u001b[39;00m \u001b[38;5;28mself\u001b[39m\u001b[38;5;241m.\u001b[39mheader:\n\u001b[0;32m    996\u001b[0m     \u001b[38;5;28;01mreturn\u001b[39;00m col_header \u001b[38;5;241m+\u001b[39m adjoined\n\u001b[0;32m    997\u001b[0m \u001b[38;5;28;01melse\u001b[39;00m:\n",
      "File \u001b[1;32mc:\\Users\\Ксения\\AppData\\Local\\Programs\\Python\\Python311\\Lib\\site-packages\\pandas\\io\\formats\\csvs.py:89\u001b[0m, in \u001b[0;36mCSVFormatter.__init__\u001b[1;34m(self, formatter, path_or_buf, sep, cols, index_label, mode, encoding, errors, compression, quoting, lineterminator, chunksize, quotechar, date_format, doublequote, escapechar, storage_options)\u001b[0m\n\u001b[0;32m     87\u001b[0m \u001b[38;5;28mself\u001b[39m\u001b[38;5;241m.\u001b[39mlineterminator \u001b[38;5;241m=\u001b[39m lineterminator \u001b[38;5;129;01mor\u001b[39;00m os\u001b[38;5;241m.\u001b[39mlinesep\n\u001b[0;32m     88\u001b[0m \u001b[38;5;28mself\u001b[39m\u001b[38;5;241m.\u001b[39mdate_format \u001b[38;5;241m=\u001b[39m date_format\n\u001b[1;32m---> 89\u001b[0m \u001b[38;5;28mself\u001b[39m\u001b[38;5;241m.\u001b[39mcols \u001b[38;5;241m=\u001b[39m \u001b[38;5;28;43mself\u001b[39;49m\u001b[38;5;241;43m.\u001b[39;49m\u001b[43m_initialize_columns\u001b[49m\u001b[43m(\u001b[49m\u001b[43mcols\u001b[49m\u001b[43m)\u001b[49m\n\u001b[0;32m     90\u001b[0m \u001b[38;5;28mself\u001b[39m\u001b[38;5;241m.\u001b[39mchunksize \u001b[38;5;241m=\u001b[39m \u001b[38;5;28mself\u001b[39m\u001b[38;5;241m.\u001b[39m_initialize_chunksize(chunksize)\n",
      "File \u001b[1;32mc:\\Users\\Ксения\\AppData\\Local\\Programs\\Python\\Python311\\Lib\\site-packages\\pandas\\io\\formats\\csvs.py:161\u001b[0m, in \u001b[0;36mCSVFormatter._initialize_columns\u001b[1;34m(self, cols)\u001b[0m\n\u001b[0;32m    158\u001b[0m \u001b[38;5;66;03m# update columns to include possible multiplicity of dupes\u001b[39;00m\n\u001b[0;32m    159\u001b[0m \u001b[38;5;66;03m# and make sure cols is just a list of labels\u001b[39;00m\n\u001b[0;32m    160\u001b[0m new_cols \u001b[38;5;241m=\u001b[39m \u001b[38;5;28mself\u001b[39m\u001b[38;5;241m.\u001b[39mobj\u001b[38;5;241m.\u001b[39mcolumns\n\u001b[1;32m--> 161\u001b[0m \u001b[38;5;28;01mreturn\u001b[39;00m \u001b[43mnew_cols\u001b[49m\u001b[38;5;241;43m.\u001b[39;49m\u001b[43m_format_native_types\u001b[49m(\u001b[38;5;241m*\u001b[39m\u001b[38;5;241m*\u001b[39m\u001b[38;5;28mself\u001b[39m\u001b[38;5;241m.\u001b[39m_number_format)\n",
      "\u001b[1;31mAttributeError\u001b[0m: 'Index' object has no attribute '_format_native_types'"
     ]
    }
   ],
   "source": [
    "df.to_csv(r'C:\\Users\\Ксения\\Project\\Magnet_Exchange_bias\\data\\Bias_data_2.csv')"
   ]
  }
 ],
 "metadata": {
  "kernelspec": {
   "display_name": "exc_env",
   "language": "python",
   "name": "python3"
  },
  "language_info": {
   "codemirror_mode": {
    "name": "ipython",
    "version": 3
   },
   "file_extension": ".py",
   "mimetype": "text/x-python",
   "name": "python",
   "nbconvert_exporter": "python",
   "pygments_lexer": "ipython3",
   "version": "3.11.4"
  }
 },
 "nbformat": 4,
 "nbformat_minor": 2
}
