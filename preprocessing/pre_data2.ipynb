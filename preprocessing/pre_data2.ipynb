{
 "cells": [
  {
   "cell_type": "markdown",
   "metadata": {},
   "source": [
    "# Что нужно сделать \n",
    "1. Поработать с ячейкой formula_combined, удалить structure_\n",
    "2. Геометрические признаки (объём, площадь, сферичность)\n",
    "3. Total_magnetization по формуле (сумма 2-3)/const (из примера)\n",
    "3. Pymatgen [\n",
    "1)  Массовое соотношение атомов\n",
    "2)  Number of magnetic ions per unit cell\n",
    "3) get_exchange_group_info\n",
    "4) number_of_unique_magnetic_sites\n",
    "5) number_of_magnetic_sites]"
   ]
  },
  {
   "cell_type": "code",
   "execution_count": 76,
   "metadata": {},
   "outputs": [],
   "source": [
    "# All library connection\n",
    "import pandas as pd\n",
    "import numpy as np\n",
    "import re #регулярки\n",
    "from math import gcd, isclose\n",
    "import sympy as sp #библиотека символьных вычеслений, мат.задачи\n",
    "import matplotlib.pyplot as plt\n",
    "import seaborn as sns"
   ]
  },
  {
   "cell_type": "code",
   "execution_count": 77,
   "metadata": {},
   "outputs": [],
   "source": [
    "from pymatgen.core.structure import Composition"
   ]
  },
  {
   "cell_type": "code",
   "execution_count": 78,
   "metadata": {},
   "outputs": [],
   "source": [
    "df = pd.read_csv(r'C:\\Users\\Ксения\\Project\\Magnet_Exchange_bias\\data\\Bias_data_1.csv')"
   ]
  },
  {
   "cell_type": "code",
   "execution_count": 79,
   "metadata": {},
   "outputs": [
    {
     "name": "stdout",
     "output_type": "stream",
     "text": [
      "<class 'pandas.core.frame.DataFrame'>\n",
      "RangeIndex: 533 entries, 0 to 532\n",
      "Data columns (total 24 columns):\n",
      " #   Column             Non-Null Count  Dtype  \n",
      "---  ------             --------------  -----  \n",
      " 0   Unnamed: 0         533 non-null    int64  \n",
      " 1   c1                 533 non-null    object \n",
      " 2   c2                 322 non-null    object \n",
      " 3   c3                 9 non-null      object \n",
      " 4   chemical_formula   533 non-null    object \n",
      " 5   crystal_structure  533 non-null    object \n",
      " 6   depth_nm           509 non-null    float64\n",
      " 7   id                 533 non-null    int64  \n",
      " 8   space_group_shell  533 non-null    int64  \n",
      " 9   structure          533 non-null    object \n",
      " 10  structure_         533 non-null    object \n",
      " 11  formula_combined   533 non-null    object \n",
      " 12  coer_oe            533 non-null    float64\n",
      " 13  exc_bias_oe        533 non-null    float64\n",
      " 14  fc_field_t         533 non-null    float64\n",
      " 15  h_range_max_koe    533 non-null    float64\n",
      " 16  length_d_nm        533 non-null    float64\n",
      " 17  mr (emu/g)         533 non-null    float64\n",
      " 18  sat_em_g           533 non-null    float64\n",
      " 19  shape              533 non-null    float64\n",
      " 20  space_group_core   533 non-null    float64\n",
      " 21  temperature_k      533 non-null    float64\n",
      " 22  ver_shift_emu_g    533 non-null    float64\n",
      " 23  width_nm           533 non-null    float64\n",
      "dtypes: float64(13), int64(3), object(8)\n",
      "memory usage: 100.1+ KB\n",
      "None\n"
     ]
    }
   ],
   "source": [
    "print(df.info())"
   ]
  },
  {
   "cell_type": "markdown",
   "metadata": {},
   "source": [
    "# Исправим стотлбец formula_combined"
   ]
  },
  {
   "cell_type": "markdown",
   "metadata": {},
   "source": [
    "Проблема была в том, что формулы, что должны были иметь вид Li2 Cr2 O4 имели вид Li2 Cr1 O3 Cr1 O1"
   ]
  },
  {
   "cell_type": "code",
   "execution_count": 80,
   "metadata": {},
   "outputs": [
    {
     "name": "stdout",
     "output_type": "stream",
     "text": [
      "['Zn1 O1 Fe2 Co1 O4' 'Co1 O1 Fe2 Co1 O4' 'Mn1 Zn1 Fe4 O8' 'La1 Fe1 O3'\n",
      " 'Ni1 Ni1 O1' 'Mg1 Fe2 O4' 'Fe2 Co1 O4' 'Fe1 Bi1 O3'\n",
      " 'Fe2 Co1 O4 Fe1 Bi1 O3' 'Co1 Co1 O1' 'Fe1 Rh1' 'Mn1 O2' 'Ag1 Fe3 O4'\n",
      " 'Fe1 Fe2 O3' 'Fe1 O1 Fe3 O4' 'Ni1 O1' 'Fe3 O4' 'Fe3 O4 Ni1 O1'\n",
      " 'Ni1 O1 Fe3 O4' 'Fe4 Bi2 O9 Fe1 Bi1 O3' 'Fe1 Bi1 O3 Fe4 Bi2 O9'\n",
      " 'Ti1 O2 Fe2 O3' 'Fe13 Co2 O20' 'Fe23 Co7 O40' 'Fe7 Co3' 'Fe1 Co1'\n",
      " 'Fe3 Co7' 'Fe1 Fe3 O4' 'La2 Mn1 Fe1 O6' 'V1 Fe1 O4 Fe3 O4' 'Au1 Fe3 O4'\n",
      " 'Gd1 Ti1 Fe9 Bi9 O30' 'Sr11 Nd39 Co50 Cu97 O150' 'Fe3 O4 Co1 O1'\n",
      " 'Fe2 Co1 O4 Co1 O1' 'Cu98 Fe1 O50' 'Cu96 Fe1 O25' 'Fe2 O3'\n",
      " 'Sr3 La17 Fe20 O60' 'Co1 Co3 O4' 'Mn3 O4' 'Sr33 La67 Mn100 O300'\n",
      " 'Mn1 O1 Mn3 O4' 'Fe3 O4 Fe2 O3' 'Co3 O4' 'Fe1 Ni99 O100' 'Fe1 Ni49 O50'\n",
      " 'Fe1 Ni24 O25' 'Fe3 Ni97 O100' 'Cr5 Ag1 O8' 'Cr1 Ag1 O2'\n",
      " 'Co1 O1 Fe2 Ni1 O4' 'Mn1 Fe2 O4' 'Mn1 Fe2 O4 Fe3 O4' 'La1 Fe10 Bi9 O30'\n",
      " 'Nd1 Fe1 O3' 'Fe2 Co1 O4 Fe3 O4' 'Dy1 Ti1 Cr1 O5' 'Gd1 Ti1 Cr1 O5'\n",
      " 'Ni1 O1 Mn2 Co1 O4' 'Ba1 Fe12 O19 Fe3 O4' 'Fe2 Ni1 O4 Co1 O1'\n",
      " 'Cr2 Co1 O4' 'Fe1 Ni1' 'Mn1 Mn3 O4' 'Fe3 O4 Fe2 Co1 O4' 'Fe3 O4 Mn1 O1'\n",
      " 'Fe1 Fe3 C1' 'Fe2 Co1 O4 Ni1 O1' 'Fe3 O4 Mg1 O1'\n",
      " 'Fe3 O4 Mg1 O1 Fe2 Co1 O4' 'Co1 Fe2 O3' 'Fe2 Co1 O4 Fe2 Ni1 O4'\n",
      " 'Fe2 Ni1 O4' 'Fe2 Ni1 O4 Fe2 Co1 O4' 'Mn1 Fe2 O4 Fe2 O3' 'Fe5 C2 Fe3 O4'\n",
      " 'Fe5 C2' 'Fe1 Ni3' 'Fe1 Ni3 Mo1' 'Fe11 C5' 'Fe11 C5 Mo1'\n",
      " 'La2 Fe2 O6 Fe2 Co1 O4' 'Co1 O1 Co1' 'Fe1 F2 Fe1' 'Co1 P1'\n",
      " 'La1 Fe1 O3 Ni1 O1']\n"
     ]
    }
   ],
   "source": [
    "print(df['formula_combined'].unique()) # Пример, что нас не устраивает"
   ]
  },
  {
   "cell_type": "markdown",
   "metadata": {},
   "source": [
    "Пример работы с такой ошибкой\n",
    "\n",
    "1. Создание объекта Composition из вашей формулы\n",
    "comp = Composition(\"Zn1 O1 Fe2 Co1 O4\") # Может теперь можно склеить их обратно\n",
    "\n",
    "2. Получение словаря количества атомов каждого элемента\n",
    "el_amt_dict = comp.get_el_amt_dict()\n",
    "\n",
    "3. Собираем обратно химическую формулу из словаря\n",
    "formula = \"\"\n",
    "for el, amt in el_amt_dict.items():\n",
    "    formula += f\"{el}{'' if amt == 1 else str(int(amt))}\"\n",
    "\n",
    "print(Composition(formula))"
   ]
  },
  {
   "cell_type": "code",
   "execution_count": 85,
   "metadata": {},
   "outputs": [],
   "source": [
    "def transform_formula(formula):\n",
    "    '''\n",
    "    Zn1 O1 Fe2 Co1 O4 -> {'Zn': 1.0, 'O': 5.0, 'Fe': 2.0, 'Co': 1.0} -> Zn1 O5 Fe2 Co1\n",
    "    '''\n",
    "    comp = Composition(formula)\n",
    "    el_amt_dict = comp.get_el_amt_dict() # Получение словаря с количеством атомов в формуле\n",
    "    # Обратная сборка\n",
    "    new_formula = ''\n",
    "    for el, amt in el_amt_dict.items():\n",
    "        new_formula += f\"{el}{'' if amt == 1 else str(int(amt))}\"\n",
    "    return new_formula"
   ]
  },
  {
   "cell_type": "code",
   "execution_count": 86,
   "metadata": {},
   "outputs": [],
   "source": [
    "def process_column(df, column_name):\n",
    "    \"\"\"\n",
    "    Функция проверяет каждую ячейку в столбце DataFrame на равенство 0 или NaN.\n",
    "    Если значение не равно 0 или NaN, оно заменяется на результат применения класса Composition из библиотеки pymatgen.\n",
    "\n",
    "    Args:\n",
    "        df (pandas.DataFrame): Исходный DataFrame.\n",
    "        column_name (str): Имя столбца, который нужно обработать.\n",
    "\n",
    "    Returns:\n",
    "        pandas.DataFrame: DataFrame c обработанным столбцом.\n",
    "    \"\"\"\n",
    "    new_column = []\n",
    "    for value in df[column_name]:\n",
    "        if pd.notna(value) and value != 0:\n",
    "            # Если значение не NaN и не равно 0, применяем класс Composition\n",
    "            comp = Composition(str(value))\n",
    "            new_value = comp.formula\n",
    "        else:\n",
    "            new_value = value\n",
    "        new_column.append(new_value)\n",
    "\n",
    "    df[column_name] = new_column\n",
    "    return df"
   ]
  },
  {
   "cell_type": "code",
   "execution_count": 87,
   "metadata": {},
   "outputs": [
    {
     "name": "stdout",
     "output_type": "stream",
     "text": [
      "['Zn1 Fe2 Co1 O5' 'Fe2 Co2 O5' 'Mn1 Zn1 Fe4 O8' 'La1 Fe1 O3' 'Ni2 O1'\n",
      " 'Mg1 Fe2 O4' 'Fe2 Co1 O4' 'Fe1 Bi1 O3' 'Fe3 Co1 Bi1 O7' 'Co2 O1'\n",
      " 'Fe1 Rh1' 'Mn1 O2' 'Fe3 Ag1 O4' 'Fe3 O3' 'Fe4 O5' 'Ni1 O1' 'Fe3 O4'\n",
      " 'Fe3 Ni1 O5' 'Fe5 Bi3 O12' 'Ti1 Fe2 O5' 'Fe13 Co2 O20' 'Fe23 Co7 O40'\n",
      " 'Fe7 Co3' 'Fe1 Co1' 'Fe3 Co7' 'Fe4 O4' 'La2 Mn1 Fe1 O6' 'V1 Fe4 O8'\n",
      " 'Fe3 Au1 O4' 'Gd1 Ti1 Fe9 Bi9 O30' 'Sr11 Nd39 Co50 Cu97 O150'\n",
      " 'Fe3 Co1 O5' 'Fe1 Cu98 O50' 'Fe1 Cu96 O25' 'Fe2 O3' 'Sr3 La17 Fe20 O60'\n",
      " 'Co4 O4' 'Mn3 O4' 'Sr33 La67 Mn100 O300' 'Mn4 O5' 'Fe5 O7' 'Co3 O4'\n",
      " 'Fe1 Ni99 O100' 'Fe1 Ni49 O50' 'Fe1 Ni24 O25' 'Fe3 Ni97 O100'\n",
      " 'Cr5 Ag1 O8' 'Cr1 Ag1 O2' 'Fe2 Co1 Ni1 O5' 'Mn1 Fe2 O4' 'Mn1 Fe5 O8'\n",
      " 'La1 Fe10 Bi9 O30' 'Nd1 Fe1 O3' 'Fe5 Co1 O8' 'Dy1 Ti1 Cr1 O5'\n",
      " 'Gd1 Ti1 Cr1 O5' 'Mn2 Co1 Ni1 O5' 'Ba1 Fe15 O23' 'Cr2 Co1 O4' 'Fe1 Ni1'\n",
      " 'Mn4 O4' 'Mn1 Fe3 O5' 'Fe4 C1' 'Mg1 Fe3 O5' 'Mg1 Fe5 Co1 O9' 'Fe2 Co1 O3'\n",
      " 'Fe4 Co1 Ni1 O8' 'Fe2 Ni1 O4' 'Mn1 Fe4 O7' 'Fe8 C2 O4' 'Fe5 C2' 'Fe1 Ni3'\n",
      " 'Fe1 Ni3 Mo1' 'Fe11 C5' 'Fe11 Mo1 C5' 'La2 Fe4 Co1 O10' 'Fe2 F2' 'Co1 P1'\n",
      " 'La1 Fe1 Ni1 O4']\n"
     ]
    }
   ],
   "source": [
    "df['formula_combined'] = df['formula_combined'].apply(transform_formula)\n",
    "df = process_column(df, 'formula_combined')\n",
    "print(df['formula_combined'].unique()) # Тепрь у нас есть полный средний материал ядра+оболочки"
   ]
  },
  {
   "cell_type": "markdown",
   "metadata": {},
   "source": [
    "# Добавление дескрипторов"
   ]
  },
  {
   "cell_type": "markdown",
   "metadata": {},
   "source": [
    "// TODO: добавление параемтров обязательно \n",
    "1. Массовое соотношение атомов +\n",
    "2. Number of magnetic ions per unit cell\n",
    "3. get_exchange_group_info\n",
    "4. number_of_unique_magnetic_sites\n",
    "5. number_of_magnetic_sites"
   ]
  },
  {
   "cell_type": "markdown",
   "metadata": {},
   "source": []
  },
  {
   "cell_type": "code",
   "execution_count": 91,
   "metadata": {},
   "outputs": [],
   "source": [
    "def calculate_mass_ratio(formula):\n",
    "    \"\"\"\n",
    "    Рассчитывает массовое соотношение атомов в химической формуле для наших соединений\n",
    "\n",
    "    Args:\n",
    "        formula (str): Химическая формула.\n",
    "\n",
    "    Returns:\n",
    "        float: Массовое соотношение атомов.\n",
    "    \"\"\"\n",
    "    comp = Composition(formula)\n",
    "    elements = comp.elements\n",
    "    atomic_masses = [element.atomic_mass for element in elements]\n",
    "    total_mass = sum(atomic_masses)\n",
    "    mass_ratios = [mass / total_mass for mass in atomic_masses]\n",
    "    return mass_ratios"
   ]
  },
  {
   "cell_type": "code",
   "execution_count": 92,
   "metadata": {},
   "outputs": [
    {
     "name": "stdout",
     "output_type": "stream",
     "text": [
      "0      [0.3334019839632774 amu, 0.28465247587379755 a...\n",
      "1      [0.42702268687537803 amu, 0.4506367852995003 a...\n",
      "2      [0.2858506267019325 amu, 0.34033252624746124 a...\n",
      "3      [0.2858506267019325 amu, 0.34033252624746124 a...\n",
      "4      [0.2858506267019325 amu, 0.34033252624746124 a...\n",
      "                             ...                        \n",
      "528    [0.5155277027331209 amu, 0.20726069721466786 a...\n",
      "529    [0.5155277027331209 amu, 0.20726069721466786 a...\n",
      "530    [0.5155277027331209 amu, 0.20726069721466786 a...\n",
      "531    [0.5155277027331209 amu, 0.20726069721466786 a...\n",
      "532    [0.5155277027331209 amu, 0.20726069721466786 a...\n",
      "Name: mass_ratio, Length: 533, dtype: object\n"
     ]
    }
   ],
   "source": [
    "# Применяем функцию к столбцу с испаравлеными полными формулами материалов\n",
    "df['mass_ratio'] = df['formula_combined'].apply(calculate_mass_ratio)\n",
    "print(df['mass_ratio'])"
   ]
  },
  {
   "cell_type": "markdown",
   "metadata": {},
   "source": [
    "## Геометрические признаки"
   ]
  },
  {
   "cell_type": "code",
   "execution_count": null,
   "metadata": {},
   "outputs": [
    {
     "name": "stdout",
     "output_type": "stream",
     "text": [
      "<class 'pandas.core.frame.DataFrame'>\n",
      "RangeIndex: 533 entries, 0 to 532\n",
      "Data columns (total 24 columns):\n",
      " #   Column             Non-Null Count  Dtype  \n",
      "---  ------             --------------  -----  \n",
      " 0   Unnamed: 0         533 non-null    int64  \n",
      " 1   c1                 533 non-null    object \n",
      " 2   c2                 322 non-null    object \n",
      " 3   c3                 9 non-null      object \n",
      " 4   chemical_formula   533 non-null    object \n",
      " 5   crystal_structure  533 non-null    object \n",
      " 6   depth_nm           509 non-null    float64\n",
      " 7   id                 533 non-null    int64  \n",
      " 8   space_group_shell  533 non-null    int64  \n",
      " 9   structure          533 non-null    object \n",
      " 10  structure_         533 non-null    object \n",
      " 11  formula_combined   533 non-null    object \n",
      " 12  coer_oe            533 non-null    float64\n",
      " 13  exc_bias_oe        533 non-null    float64\n",
      " 14  fc_field_t         533 non-null    float64\n",
      " 15  h_range_max_koe    533 non-null    float64\n",
      " 16  length_d_nm        533 non-null    float64\n",
      " 17  mr (emu/g)         533 non-null    float64\n",
      " 18  sat_em_g           533 non-null    float64\n",
      " 19  shape              533 non-null    float64\n",
      " 20  space_group_core   533 non-null    float64\n",
      " 21  temperature_k      533 non-null    float64\n",
      " 22  ver_shift_emu_g    533 non-null    float64\n",
      " 23  width_nm           533 non-null    float64\n",
      "dtypes: float64(13), int64(3), object(8)\n",
      "memory usage: 100.1+ KB\n"
     ]
    }
   ],
   "source": [
    "df.info()"
   ]
  },
  {
   "cell_type": "code",
   "execution_count": null,
   "metadata": {},
   "outputs": [],
   "source": [
    "df.rename(columns={'width_nm': 'x', 'length_d_nm': 'y', 'depth_nm': 'z'}, inplace=True)  # Для удобства теперь x, y, z"
   ]
  },
  {
   "cell_type": "markdown",
   "metadata": {},
   "source": [
    "Помним что все наши формы закодированы:\n",
    "'''\n",
    "{\n",
    "    1: ['sphere', 'quasi-spherical', 'quasi-sphere', 'pseudo-spherical', 'pseudospherically', 'egg', 'flower'], \n",
    "    2: ['octahedral', 'octahedron', 'octahedral '],  \n",
    "    3: ['cubic', 'cube'],\n",
    "    4: ['hexahedron', 'hexagonal'],\n",
    "    5: ['tetrahedral', 'triangle'],\n",
    "    6: ['wire', 'rod'], \n",
    "    7: ['octopod']\n",
    "}\n",
    "'''"
   ]
  },
  {
   "cell_type": "code",
   "execution_count": null,
   "metadata": {},
   "outputs": [
    {
     "name": "stdout",
     "output_type": "stream",
     "text": [
      "[1. 5. 2. 6. 3. 7. 4.]\n"
     ]
    }
   ],
   "source": [
    "print(df['shape'].unique())"
   ]
  },
  {
   "cell_type": "code",
   "execution_count": null,
   "metadata": {},
   "outputs": [],
   "source": [
    "# Добавим колонки для наших значений \n",
    "df.insert(0, 'area', 0)\n",
    "df.insert(0, 'volume', 0)\n",
    "df = df.astype({'volume': float ,'area': float})"
   ]
  },
  {
   "cell_type": "code",
   "execution_count": null,
   "metadata": {},
   "outputs": [],
   "source": [
    "# Создадим словари для подсчёта площади и объёма\n",
    "dict_area = {\n",
    "    1: lambda x, y=1, z=1: 12.57 * x ** 2, \n",
    "    2: lambda x, y=1, z=1: 1.732 * 2 * x ** 2, \n",
    "    3: lambda x, y, z=1: 6 * x * y, \n",
    "    4: lambda x, y=1, z=1: 2 * 2.60 * x ** 2 + 6 * x * z/2,   # TODO: #Разделить шестиугольную призму и hexahedron\n",
    "    5: lambda x, y=1, z=1: 1.73 * x ** 2, \n",
    "    6: lambda x, y, z=1: 2* 3.14 *((x/2) + y), \n",
    "    7: lambda x, y=1, z=1: 3.46 * x ** 2   \n",
    "}\n",
    "\n",
    "dict_volume = {\n",
    "    1: lambda x, y=1, z=1: 4.19 * x ** 3, \n",
    "    2: lambda x, y=1, z=1: 1.4142 * 0.3333 * x ** 3, \n",
    "    3: lambda x, y, z: x * y * z, \n",
    "    4: lambda x, y=1, z=1: 2.60 * x ** 2 * z/2,  # TODO: разделить формы \n",
    "    5: lambda x , y=1, z=1: 0.118 * x ** 3,  \n",
    "    6: lambda x, y, z=1: 3.14 * x/4 * y **2,\n",
    "    7: lambda x, y=1, z=1: 0.47 * x ** 3\n",
    "}"
   ]
  },
  {
   "cell_type": "code",
   "execution_count": null,
   "metadata": {},
   "outputs": [],
   "source": [
    "# Создаем функцию для вычисления площади\n",
    "def calculate_area(row):\n",
    "    shape = float(row['shape'])\n",
    "    x = row['x']\n",
    "    y = row.get('y', 0)\n",
    "    z = row.get('z', 0)\n",
    "    \n",
    "    if shape in dict_area:\n",
    "        if shape in [1, 2, 3, 4, 5, 6, 7]:\n",
    "            return dict_area[shape](x, y) if shape in [3, 6] else dict_area[shape](x, z) if shape == 4 else dict_area[shape](x)\n",
    "    else:\n",
    "        return 'error'\n",
    "\n",
    "# Создаем функцию для вычисления объема\n",
    "def calculate_volume(row):\n",
    "    shape = float(row['shape'])\n",
    "    x = row['x']\n",
    "    y = row.get('y', 0)\n",
    "    z = row.get('z', 0)\n",
    "    \n",
    "    if shape in dict_volume:\n",
    "        if shape in [1, 2, 3, 4, 5, 6, 7]:\n",
    "            return dict_volume[shape](x, y, z) if shape in [3, 6] else dict_volume[shape](x, z) if shape == 4 else dict_volume[shape](x)\n",
    "    else:\n",
    "        return 'error'"
   ]
  },
  {
   "cell_type": "code",
   "execution_count": null,
   "metadata": {},
   "outputs": [],
   "source": [
    "df['area'] = df.apply(calculate_area, axis=1)\n",
    "df['volume'] = df.apply(calculate_volume, axis=1)"
   ]
  },
  {
   "cell_type": "code",
   "execution_count": null,
   "metadata": {},
   "outputs": [
    {
     "name": "stdout",
     "output_type": "stream",
     "text": [
      "[6.88333200e+02 6.15930000e+02 3.63273000e+03 1.52097000e+03\n",
      " 1.81008000e+03 4.07268000e+03 5.54337000e+03 9.16353000e+03\n",
      " 1.62907200e+04 1.13130000e+04 2.49120000e+02 4.42880000e+02\n",
      " 1.99526400e+03 3.77229600e+03 3.93805530e+03 5.23113120e+03\n",
      " 7.42245930e+03 1.36058937e+04 7.85625000e+03 5.02800000e+05\n",
      " 6.34280000e+03 5.31082500e+04 1.70603183e+03 3.76207530e+03\n",
      " 2.50477800e+02 1.36887300e+04 3.40154306e+04 1.26713456e+04\n",
      " 4.53777000e+03 2.12433000e+03 2.09177370e+03 2.82825000e+03\n",
      " 3.54775680e+03 4.34871720e+03 5.02800000e+03 1.21500000e+04\n",
      " 1.38240000e+04 1.56060000e+04 2.40000000e+03 3.21792000e+03\n",
      " 2.16250000e+03 6.78944000e+02 6.14400000e+03 7.35000000e+03\n",
      " 2.11925000e+03 2.39383080e+03 1.25700000e+03 8.04480000e+02\n",
      " 1.12233600e+03 1.60506330e+03 4.02755370e+03 6.82412730e+03\n",
      " 1.34393312e+04 8.15570239e+03 2.01120000e+04 2.43355200e+04\n",
      " 3.01805700e+04 5.14867200e+04 1.80175816e+04 2.32419300e+04\n",
      " 1.78003770e+03 1.38584250e+03 1.20722280e+03 9.95669700e+04\n",
      " 1.01817000e+05 5.71024932e+02 1.08717930e+03 1.93276320e+03\n",
      " 1.99561320e+03 7.84493700e+02 1.55380000e+03 2.01120000e+02\n",
      " 1.01817000e+03 4.29743286e+03 4.52520000e+04 1.30778280e+03\n",
      " 4.52520000e+02 2.54542500e+04 1.11068520e+03 4.37561700e+02\n",
      " 1.69141920e+03 7.66883130e+03 1.08650052e+04 1.53103857e+04\n",
      " 1.70227968e+04 3.71870880e+03 9.60000000e+03 7.77475743e+03\n",
      " 6.19499880e+03 4.87829130e+03 2.90417280e+03 1.87091880e+03\n",
      " 3.11760000e+05 7.08698000e+02 9.43727000e+02 1.72083300e+04\n",
      " 3.46378920e+03 4.77974250e+03 1.05713700e+04 1.20797700e+04\n",
      " 3.66541200e+04 2.75333280e+03 4.11805770e+03 1.96406250e+03\n",
      " 5.02800000e+01 6.64953000e+03 1.01010240e+02 2.86853840e+02\n",
      " 3.96593360e+02 1.79803291e+03 2.07558983e+03 2.59927991e+03\n",
      " 3.30294474e+03 4.28814111e+03 5.59098642e+03 3.53509755e+03\n",
      " 7.24032000e+03 1.91189700e+04 1.69736000e+02 5.85416000e+02\n",
      " 4.16368680e+03 1.05567938e+04 1.13582973e+04 1.81510800e+04\n",
      " 1.77107403e+03 5.36013082e+03 8.00781403e+03 8.64172919e+03\n",
      " 9.73420800e+02 1.54874970e+03 1.72070730e+03 1.00109600e+03\n",
      " 1.66913712e+04 8.04480000e+06 4.77000000e+03 1.45309200e+02\n",
      " 4.98903300e+02 3.45142032e+02 2.77671300e+04 4.22854800e+06\n",
      " 3.14250000e+04 1.53982500e+04 3.80242500e+04 5.36940000e+03\n",
      " 3.45600000e+03 5.04600000e+03 5.81236800e+02 6.51628800e+02\n",
      " 2.22350730e+03 1.49344170e+03 6.00193617e+02 8.91167748e+04\n",
      " 3.14250000e+02 2.64284250e+03 5.93000309e+03 1.31424000e+03\n",
      " 4.56647485e+03 1.40821440e+03 2.65744381e+03 3.84956250e+03\n",
      " 9.50606250e+03 4.83190800e+04 6.15930000e+04 7.26043200e+04\n",
      " 8.45206800e+04 9.73420800e+04 9.03913728e+02 9.12461328e+02\n",
      " 1.79202445e+03 1.10125267e+03 1.44452429e+03 1.22701301e+03\n",
      " 1.47704539e+03 1.50891840e+04 2.32419300e+02 2.98121433e+02\n",
      " 6.33653700e+02]\n"
     ]
    }
   ],
   "source": [
    "print(df['area'].unique())"
   ]
  },
  {
   "cell_type": "markdown",
   "metadata": {},
   "source": [
    "## Pymatgen"
   ]
  },
  {
   "cell_type": "code",
   "execution_count": null,
   "metadata": {},
   "outputs": [],
   "source": []
  }
 ],
 "metadata": {
  "kernelspec": {
   "display_name": "exc_env",
   "language": "python",
   "name": "python3"
  },
  "language_info": {
   "codemirror_mode": {
    "name": "ipython",
    "version": 3
   },
   "file_extension": ".py",
   "mimetype": "text/x-python",
   "name": "python",
   "nbconvert_exporter": "python",
   "pygments_lexer": "ipython3",
   "version": "3.11.4"
  }
 },
 "nbformat": 4,
 "nbformat_minor": 2
}
