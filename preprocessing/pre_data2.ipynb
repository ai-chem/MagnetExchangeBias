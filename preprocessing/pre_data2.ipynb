{
 "cells": [
  {
   "cell_type": "markdown",
   "metadata": {},
   "source": [
    "# Что нужно сделать \n",
    "1. Удалить structure_\n",
    "2. Геометрические признаки ( сферичность, объём и площадь(в нм))\n",
    "3. Total_magnetization по формуле (надо подумать как считать знаменатель) +/-\n",
    "\n",
    "\n",
    "4. Pymatgen и ПРОБЛЕМЫ\n",
    "[\n",
    "- 1)  Массовое соотношение атомов + масса атомамная масса/общая масса формулы\n",
    "2)  Number of magnetic ions per unit cell - что-то я не пойму как\n",
    "3) get_exchange_group_info + уже изначало есть, так что использовать функцию не имеет смысла (но, из групп нельзя вывести lattice parameter и плотность, это надо будет делать отдельно заново)\n",
    "4) number_of_unique_magnetic_sites - проблемнно, так как нет cif файлов\n",
    "5) number_of_magnetic_sites - проблемнно, так как нет cif файлов\n",
    "]"
   ]
  },
  {
   "cell_type": "markdown",
   "metadata": {},
   "source": [
    "# Начало"
   ]
  },
  {
   "cell_type": "code",
   "execution_count": 19,
   "metadata": {},
   "outputs": [],
   "source": [
    "import pandas as pd\n",
    "import numpy as np\n",
    "import re # Регулярки\n",
    "from math import gcd, isclose\n",
    "import sympy as sp # Библиотека символьных вычеслений, мат.задачи"
   ]
  },
  {
   "cell_type": "code",
   "execution_count": 20,
   "metadata": {},
   "outputs": [],
   "source": [
    "from pymatgen.core.structure import Composition\n",
    "from pymatgen.core import Structure, Element"
   ]
  },
  {
   "cell_type": "code",
   "execution_count": 21,
   "metadata": {},
   "outputs": [],
   "source": [
    "df = pd.read_csv(r'C:\\Users\\Ксения\\Project\\Magnet_Exchange_bias\\data\\Bias_data_1.csv')"
   ]
  },
  {
   "cell_type": "code",
   "execution_count": 22,
   "metadata": {},
   "outputs": [
    {
     "name": "stdout",
     "output_type": "stream",
     "text": [
      "<class 'pandas.core.frame.DataFrame'>\n",
      "RangeIndex: 533 entries, 0 to 532\n",
      "Data columns (total 24 columns):\n",
      " #   Column             Non-Null Count  Dtype  \n",
      "---  ------             --------------  -----  \n",
      " 0   Unnamed: 0         533 non-null    int64  \n",
      " 1   c1                 533 non-null    object \n",
      " 2   c2                 322 non-null    object \n",
      " 3   c3                 9 non-null      object \n",
      " 4   chemical_formula   533 non-null    object \n",
      " 5   crystal_structure  533 non-null    object \n",
      " 6   depth_nm           509 non-null    float64\n",
      " 7   id                 533 non-null    int64  \n",
      " 8   space_group_shell  533 non-null    int64  \n",
      " 9   structure          533 non-null    object \n",
      " 10  structure_         533 non-null    object \n",
      " 11  formula_combined   533 non-null    object \n",
      " 12  coer_oe            533 non-null    float64\n",
      " 13  exc_bias_oe        533 non-null    float64\n",
      " 14  fc_field_t         533 non-null    float64\n",
      " 15  h_range_max_koe    533 non-null    float64\n",
      " 16  length_d_nm        533 non-null    float64\n",
      " 17  mr (emu/g)         533 non-null    float64\n",
      " 18  sat_em_g           533 non-null    float64\n",
      " 19  shape              533 non-null    float64\n",
      " 20  space_group_core   533 non-null    float64\n",
      " 21  temperature_k      533 non-null    float64\n",
      " 22  ver_shift_emu_g    533 non-null    float64\n",
      " 23  width_nm           533 non-null    float64\n",
      "dtypes: float64(13), int64(3), object(8)\n",
      "memory usage: 100.1+ KB\n",
      "None\n"
     ]
    }
   ],
   "source": [
    "print(df.info())"
   ]
  },
  {
   "cell_type": "markdown",
   "metadata": {},
   "source": [
    "# Исправим стотлбец formula_combined"
   ]
  },
  {
   "cell_type": "markdown",
   "metadata": {},
   "source": [
    "Проблема была в том, что формулы, что должны были иметь вид Li2 Cr2 O4 имели вид Li2 Cr1 O3 Cr1 O1"
   ]
  },
  {
   "cell_type": "code",
   "execution_count": 23,
   "metadata": {},
   "outputs": [
    {
     "name": "stdout",
     "output_type": "stream",
     "text": [
      "['Zn1 O1 Fe2 Co1 O4' 'Co1 O1 Fe2 Co1 O4' 'Mn1 Zn1 Fe4 O8' 'La1 Fe1 O3'\n",
      " 'Ni1 Ni1 O1' 'Mg1 Fe2 O4' 'Fe2 Co1 O4' 'Fe1 Bi1 O3'\n",
      " 'Fe2 Co1 O4 Fe1 Bi1 O3' 'Co1 Co1 O1' 'Fe1 Rh1' 'Mn1 O2' 'Ag1 Fe3 O4'\n",
      " 'Fe1 Fe2 O3' 'Fe1 O1 Fe3 O4' 'Ni1 O1' 'Fe3 O4' 'Fe3 O4 Ni1 O1'\n",
      " 'Ni1 O1 Fe3 O4' 'Fe4 Bi2 O9 Fe1 Bi1 O3' 'Fe1 Bi1 O3 Fe4 Bi2 O9'\n",
      " 'Ti1 O2 Fe2 O3' 'Fe13 Co2 O20' 'Fe23 Co7 O40' 'Fe7 Co3' 'Fe1 Co1'\n",
      " 'Fe3 Co7' 'Fe1 Fe3 O4' 'La2 Mn1 Fe1 O6' 'V1 Fe1 O4 Fe3 O4' 'Au1 Fe3 O4'\n",
      " 'Gd1 Ti1 Fe9 Bi9 O30' 'Sr11 Nd39 Co50 Cu97 O150' 'Fe3 O4 Co1 O1'\n",
      " 'Fe2 Co1 O4 Co1 O1' 'Cu98 Fe1 O50' 'Cu96 Fe1 O25' 'Fe2 O3'\n",
      " 'Sr3 La17 Fe20 O60' 'Co1 Co3 O4' 'Mn3 O4' 'Sr33 La67 Mn100 O300'\n",
      " 'Mn1 O1 Mn3 O4' 'Fe3 O4 Fe2 O3' 'Co3 O4' 'Fe1 Ni99 O100' 'Fe1 Ni49 O50'\n",
      " 'Fe1 Ni24 O25' 'Fe3 Ni97 O100' 'Cr5 Ag1 O8' 'Cr1 Ag1 O2'\n",
      " 'Co1 O1 Fe2 Ni1 O4' 'Mn1 Fe2 O4' 'Mn1 Fe2 O4 Fe3 O4' 'La1 Fe10 Bi9 O30'\n",
      " 'Nd1 Fe1 O3' 'Fe2 Co1 O4 Fe3 O4' 'Dy1 Ti1 Cr1 O5' 'Gd1 Ti1 Cr1 O5'\n",
      " 'Ni1 O1 Mn2 Co1 O4' 'Ba1 Fe12 O19 Fe3 O4' 'Fe2 Ni1 O4 Co1 O1'\n",
      " 'Cr2 Co1 O4' 'Fe1 Ni1' 'Mn1 Mn3 O4' 'Fe3 O4 Fe2 Co1 O4' 'Fe3 O4 Mn1 O1'\n",
      " 'Fe1 Fe3 C1' 'Fe2 Co1 O4 Ni1 O1' 'Fe3 O4 Mg1 O1'\n",
      " 'Fe3 O4 Mg1 O1 Fe2 Co1 O4' 'Co1 Fe2 O3' 'Fe2 Co1 O4 Fe2 Ni1 O4'\n",
      " 'Fe2 Ni1 O4' 'Fe2 Ni1 O4 Fe2 Co1 O4' 'Mn1 Fe2 O4 Fe2 O3' 'Fe5 C2 Fe3 O4'\n",
      " 'Fe5 C2' 'Fe1 Ni3' 'Fe1 Ni3 Mo1' 'Fe11 C5' 'Fe11 C5 Mo1'\n",
      " 'La2 Fe2 O6 Fe2 Co1 O4' 'Co1 O1 Co1' 'Fe1 F2 Fe1' 'Co1 P1'\n",
      " 'La1 Fe1 O3 Ni1 O1']\n"
     ]
    }
   ],
   "source": [
    "print(df['formula_combined'].unique()) # Пример, что нас не устраивает"
   ]
  },
  {
   "cell_type": "markdown",
   "metadata": {},
   "source": [
    "Пример работы с такой ошибкой\n",
    "\n",
    "1. Создание объекта Composition из вашей формулы\n",
    "comp = Composition(\"Zn1 O1 Fe2 Co1 O4\") # Может теперь можно склеить их обратно\n",
    "\n",
    "2. Получение словаря количества атомов каждого элемента\n",
    "el_amt_dict = comp.get_el_amt_dict()\n",
    "\n",
    "3. Собираем обратно химическую формулу из словаря\n",
    "formula = \"\"\n",
    "for el, amt in el_amt_dict.items():\n",
    "    formula += f\"{el}{'' if amt == 1 else str(int(amt))}\"\n",
    "\n",
    "print(Composition(formula))"
   ]
  },
  {
   "cell_type": "code",
   "execution_count": 24,
   "metadata": {},
   "outputs": [],
   "source": [
    "def transform_formula(formula):\n",
    "    '''\n",
    "    Zn1 O1 Fe2 Co1 O4 -> {'Zn': 1.0, 'O': 5.0, 'Fe': 2.0, 'Co': 1.0} -> Zn1 O5 Fe2 Co1\n",
    "    '''\n",
    "    comp = Composition(formula)\n",
    "    el_amt_dict = comp.get_el_amt_dict() # Получение словаря с количеством атомов в формуле\n",
    "    # Обратная сборка\n",
    "    new_formula = ''\n",
    "    for el, amt in el_amt_dict.items():\n",
    "        new_formula += f\"{el}{'' if amt == 1 else str(int(amt))}\"\n",
    "    return new_formula"
   ]
  },
  {
   "cell_type": "code",
   "execution_count": 25,
   "metadata": {},
   "outputs": [],
   "source": [
    "def process_column(df, column_name):\n",
    "    \"\"\"\n",
    "    Функция проверяет каждую ячейку в столбце DataFrame на равенство 0 или NaN.\n",
    "    Если значение не равно 0 или NaN, оно заменяется на результат применения класса Composition из библиотеки pymatgen.\n",
    "\n",
    "    Args:\n",
    "        df (pandas.DataFrame): Исходный DataFrame.\n",
    "        column_name (str): Имя столбца, который нужно обработать.\n",
    "\n",
    "    Returns:\n",
    "        pandas.DataFrame: DataFrame c обработанным столбцом.\n",
    "    \"\"\"\n",
    "    new_column = []\n",
    "    for value in df[column_name]:\n",
    "        if pd.notna(value) and value != 0:\n",
    "            # Если значение не NaN и не равно 0, применяем класс Composition\n",
    "            comp = Composition(str(value))\n",
    "            new_value = comp.formula\n",
    "        else:\n",
    "            new_value = value\n",
    "        new_column.append(new_value)\n",
    "\n",
    "    df[column_name] = new_column\n",
    "    return df"
   ]
  },
  {
   "cell_type": "code",
   "execution_count": 26,
   "metadata": {},
   "outputs": [
    {
     "name": "stdout",
     "output_type": "stream",
     "text": [
      "['Zn1 Fe2 Co1 O5' 'Fe2 Co2 O5' 'Mn1 Zn1 Fe4 O8' 'La1 Fe1 O3' 'Ni2 O1'\n",
      " 'Mg1 Fe2 O4' 'Fe2 Co1 O4' 'Fe1 Bi1 O3' 'Fe3 Co1 Bi1 O7' 'Co2 O1'\n",
      " 'Fe1 Rh1' 'Mn1 O2' 'Fe3 Ag1 O4' 'Fe3 O3' 'Fe4 O5' 'Ni1 O1' 'Fe3 O4'\n",
      " 'Fe3 Ni1 O5' 'Fe5 Bi3 O12' 'Ti1 Fe2 O5' 'Fe13 Co2 O20' 'Fe23 Co7 O40'\n",
      " 'Fe7 Co3' 'Fe1 Co1' 'Fe3 Co7' 'Fe4 O4' 'La2 Mn1 Fe1 O6' 'V1 Fe4 O8'\n",
      " 'Fe3 Au1 O4' 'Gd1 Ti1 Fe9 Bi9 O30' 'Sr11 Nd39 Co50 Cu97 O150'\n",
      " 'Fe3 Co1 O5' 'Fe1 Cu98 O50' 'Fe1 Cu96 O25' 'Fe2 O3' 'Sr3 La17 Fe20 O60'\n",
      " 'Co4 O4' 'Mn3 O4' 'Sr33 La67 Mn100 O300' 'Mn4 O5' 'Fe5 O7' 'Co3 O4'\n",
      " 'Fe1 Ni99 O100' 'Fe1 Ni49 O50' 'Fe1 Ni24 O25' 'Fe3 Ni97 O100'\n",
      " 'Cr5 Ag1 O8' 'Cr1 Ag1 O2' 'Fe2 Co1 Ni1 O5' 'Mn1 Fe2 O4' 'Mn1 Fe5 O8'\n",
      " 'La1 Fe10 Bi9 O30' 'Nd1 Fe1 O3' 'Fe5 Co1 O8' 'Dy1 Ti1 Cr1 O5'\n",
      " 'Gd1 Ti1 Cr1 O5' 'Mn2 Co1 Ni1 O5' 'Ba1 Fe15 O23' 'Cr2 Co1 O4' 'Fe1 Ni1'\n",
      " 'Mn4 O4' 'Mn1 Fe3 O5' 'Fe4 C1' 'Mg1 Fe3 O5' 'Mg1 Fe5 Co1 O9' 'Fe2 Co1 O3'\n",
      " 'Fe4 Co1 Ni1 O8' 'Fe2 Ni1 O4' 'Mn1 Fe4 O7' 'Fe8 C2 O4' 'Fe5 C2' 'Fe1 Ni3'\n",
      " 'Fe1 Ni3 Mo1' 'Fe11 C5' 'Fe11 Mo1 C5' 'La2 Fe4 Co1 O10' 'Fe2 F2' 'Co1 P1'\n",
      " 'La1 Fe1 Ni1 O4']\n"
     ]
    }
   ],
   "source": [
    "df['formula_combined'] = df['formula_combined'].apply(transform_formula)\n",
    "df = process_column(df, 'formula_combined')\n",
    "print(df['formula_combined'].unique()) # Тепрь у нас есть полный средний материал ядра+оболочки"
   ]
  },
  {
   "cell_type": "markdown",
   "metadata": {},
   "source": [
    "# Добавление дескрипторов \n",
    "## Pymatgen"
   ]
  },
  {
   "cell_type": "markdown",
   "metadata": {},
   "source": [
    "// TODO: добавление параемтров обязательно \n",
    "1, 3 -  можно посчитать для всего материала ядро-оболочка в целом, наверное\n",
    "\n",
    "1. Массовое соотношение атомов  +\n",
    "2. Number of magnetic ions per unit cell\n",
    "3. get_exchange_group_info + (так как уже руками собрали)\n",
    "4. number_of_unique_magnetic_sites\n",
    "5. number_of_magnetic_sites"
   ]
  },
  {
   "cell_type": "markdown",
   "metadata": {},
   "source": [
    "from pymatgen.core.composition import Composition\n",
    "\n",
    "compound_formula = \"Fe2O3\"  # пример химической формулы вещества\n",
    "composition = Composition(compound_formula)\n",
    "total_num_magnetic_ions = sum(composition.get_el_amt_dict().values())  # суммирование количества ионов для каждого элемента\n",
    "print(\"Total number of magnetic ions per unit cell:\", total_num_magnetic_ions)"
   ]
  },
  {
   "cell_type": "code",
   "execution_count": 27,
   "metadata": {},
   "outputs": [
    {
     "name": "stdout",
     "output_type": "stream",
     "text": [
      "167.8048125\n"
     ]
    }
   ],
   "source": [
    "# Пример для молярной массы всего вещества\n",
    "from pyteomics import mass\n",
    "print(mass.calculate_mass(formula='Fe3'))"
   ]
  },
  {
   "cell_type": "code",
   "execution_count": 28,
   "metadata": {},
   "outputs": [],
   "source": [
    "def calculate_mass_ratios(formula):\n",
    "    total_mass = mass.calculate_mass(formula=formula.replace(' ', ''))  # Вычисление общей массы соединения\n",
    "    elements = {}  # Словарь для хранения массовых соотношений\n",
    "    components = formula.split()  # Разделение формулы на компоненты\n",
    "    for component in components:\n",
    "        element_name = ''.join(filter(str.isalpha, component))  # Извлечение названия элемента\n",
    "        atoms_count = int(''.join(filter(str.isdigit, component))) if component[-1].isdigit() else 1  # Количество атомов\n",
    "        element_mass = mass.calculate_mass(formula=element_name)  # Масса элемента\n",
    "        element_mass_ratio = element_mass * atoms_count / total_mass  # Расчет массового соотношения для элемента\n",
    "        elements[element_name] = element_mass_ratio  # Запись массового соотношения для элемента\n",
    "    return elements"
   ]
  },
  {
   "cell_type": "code",
   "execution_count": 29,
   "metadata": {},
   "outputs": [
    {
     "name": "stdout",
     "output_type": "stream",
     "text": [
      "0      {'Zn': 0.20313874751542227, 'Fe': 0.3554733492...\n",
      "1      {'Fe': 0.3612074917593743, 'Co': 0.38056914870...\n",
      "2      {'Mn': 0.11674879913946458, 'Zn': 0.1358557729...\n",
      "3      {'Mn': 0.11674879913946458, 'Zn': 0.1358557729...\n",
      "4      {'Mn': 0.11674879913946458, 'Zn': 0.1358557729...\n",
      "                             ...                        \n",
      "528    {'La': 0.43852752646137455, 'Fe': 0.1765866657...\n",
      "529    {'La': 0.43852752646137455, 'Fe': 0.1765866657...\n",
      "530    {'La': 0.43852752646137455, 'Fe': 0.1765866657...\n",
      "531    {'La': 0.43852752646137455, 'Fe': 0.1765866657...\n",
      "532    {'La': 0.43852752646137455, 'Fe': 0.1765866657...\n",
      "Name: mass_ratio, Length: 533, dtype: object\n",
      "0      [0.20313874751542227, 0.355473349245203, 0.187...\n",
      "1      [0.3612074917593743, 0.3805691487063179, 0.258...\n",
      "2      [0.11674879913946458, 0.13585577295807472, 0.4...\n",
      "3      [0.11674879913946458, 0.13585577295807472, 0.4...\n",
      "4      [0.11674879913946458, 0.13585577295807472, 0.4...\n",
      "                             ...                        \n",
      "528    [0.43852752646137455, 0.17658666577813456, 0.1...\n",
      "529    [0.43852752646137455, 0.17658666577813456, 0.1...\n",
      "530    [0.43852752646137455, 0.17658666577813456, 0.1...\n",
      "531    [0.43852752646137455, 0.17658666577813456, 0.1...\n",
      "532    [0.43852752646137455, 0.17658666577813456, 0.1...\n",
      "Name: mass_ratio, Length: 533, dtype: object\n"
     ]
    }
   ],
   "source": [
    "df['mass_ratio'] = df['formula_combined'].apply(calculate_mass_ratios)\n",
    "print(df['mass_ratio']) # Было\n",
    "mass_ratio_values = [[value for value in dct.values()] for dct in df['mass_ratio']]\n",
    "df['mass_ratio'] = mass_ratio_values \n",
    "print(df['mass_ratio']) # Стало"
   ]
  },
  {
   "cell_type": "markdown",
   "metadata": {},
   "source": [
    "3. Get_exchange_group_info из pymatgen - возвращает значения пространственную группу в виде число-буквы, но думаю, нам не нужно добирать эти дескрипторы, так как мы сделали это на этапе сбора датасета вручную "
   ]
  },
  {
   "cell_type": "code",
   "execution_count": 30,
   "metadata": {},
   "outputs": [
    {
     "name": "stdout",
     "output_type": "stream",
     "text": [
      "['Fe2 Co1 O4' nan 'Ni1 O1' 'Fe1 Bi1 O3' 'Co1 O1' 'Fe3 O4' 'Fe2 O3'\n",
      " 'Fe4 Bi2 O9' 'Fe1 O50' 'Fe1 O25' 'Co3 O4' 'Mn3 O4' 'Fe2 Ni1 O4'\n",
      " 'Mn2 Co1 O4' 'Mn1 O1' 'Fe3 C1' 'Mg1 O1' 'Mo1' 'Co1' 'Fe1']\n",
      "[nan 'Fe2 Co1 O4']\n"
     ]
    }
   ],
   "source": [
    "print(df['c2'].unique(), df['c3'].unique(), sep='\\n')"
   ]
  },
  {
   "cell_type": "markdown",
   "metadata": {},
   "source": [
    "# Геометрические признаки"
   ]
  },
  {
   "cell_type": "markdown",
   "metadata": {},
   "source": [
    "Помним что все наши формы закодированы:\n",
    "'''\n",
    "{\n",
    "    1: ['sphere', 'quasi-spherical', 'quasi-sphere', 'pseudo-spherical', 'pseudospherically', 'egg', 'flower'], \n",
    "    2: ['octahedral', 'octahedron', 'octahedral '],  \n",
    "    3: ['cubic', 'cube'],\n",
    "    4: ['hexahedron', 'hexagonal'],\n",
    "    5: ['tetrahedral', 'triangle'],\n",
    "    6: ['wire', 'rod'], \n",
    "    7: ['octopod']\n",
    "}\n",
    "'''"
   ]
  },
  {
   "cell_type": "code",
   "execution_count": 31,
   "metadata": {},
   "outputs": [],
   "source": [
    "df_renamed = df.rename(columns={'width_nm': 'x', 'length_d_nm': 'y', 'depth_nm': 'z'})  # Для удобства теперь x, y, z\n",
    "df = df.rename(columns={'width_nm': 'x', 'length_d_nm': 'y', 'depth_nm': 'z'})"
   ]
  },
  {
   "cell_type": "code",
   "execution_count": 32,
   "metadata": {},
   "outputs": [
    {
     "name": "stdout",
     "output_type": "stream",
     "text": [
      "[1. 5. 2. 6. 3. 7. 4.]\n"
     ]
    }
   ],
   "source": [
    "print(df['shape'].unique())"
   ]
  },
  {
   "cell_type": "code",
   "execution_count": 33,
   "metadata": {},
   "outputs": [],
   "source": [
    "# Добавим колонки для наших значений \n",
    "df.insert(0, 'area', 0)\n",
    "df.insert(0, 'volume', 0)\n",
    "df = df.astype({'volume': float ,'area': float})"
   ]
  },
  {
   "cell_type": "code",
   "execution_count": 34,
   "metadata": {},
   "outputs": [],
   "source": [
    "# Создадим словари для подсчёта площади и объёма\n",
    "dict_area = {\n",
    "    1: lambda x, y=1, z=1: 4 * 3.14159 * x ** 2, \n",
    "    2: lambda x, y=1, z=1: (3 ** 2) * 2 * x ** 2, \n",
    "    3: lambda x, y=1, z=1: 6 * x **2, \n",
    "    4: lambda x, y=1, z=1: 2 * x ** 2 + 4 * x * z/2,  \n",
    "    5: lambda x, y=1, z=1: (3 ** (1/2)) * x ** 2, \n",
    "    6: lambda x, y, z=1: 2 * 3.14 * (x/2) * x +  2 * 3.14 * (x/2) * x ** 2, \n",
    "    7: lambda x, y=1, z=1: (2 ** (1/2)) * 2 * x ** 2, \n",
    "}\n",
    "\n",
    "dict_volume = {\n",
    "    1: lambda x, y=1, z=1: (4/3) * 3.14159 * x ** 3, \n",
    "    2: lambda x, y=1, z=1: (2/3) * (2 ** 2) * x ** 3, \n",
    "    3: lambda x, y=1, z=1: x ** 3, \n",
    "    4: lambda x, y=1, z =1: x ** 2 * x/2,  \n",
    "    5: lambda x , y=1, z=1: (((2) ** (1/2)) * x ** 3) / 12,  \n",
    "    6: lambda x, y, z=1: 3.14159 * (x ** 2) * (y / 2),\n",
    "    7: lambda x, y=1, z=1: (2/3) * (2 ** (1/2)) * x ** 3,\n",
    "}"
   ]
  },
  {
   "cell_type": "code",
   "execution_count": 35,
   "metadata": {},
   "outputs": [],
   "source": [
    "# Создаем функцию для вычисления площади\n",
    "def calculate_area(row):\n",
    "    shape = float(row['shape'])\n",
    "    x = row['x']\n",
    "    y = row.get('y', 0)\n",
    "    z = row.get('z', 0)\n",
    "    \n",
    "    if shape in dict_area:\n",
    "        if shape in [1, 2, 3, 4, 5, 6, 7]:\n",
    "            return dict_area[shape](x, y) if shape in [3, 6] else dict_area[shape](x, z) if shape == 4 else dict_area[shape](x)\n",
    "    else:\n",
    "        return 'error'\n",
    "\n",
    "# Создаем функцию для вычисления объема\n",
    "def calculate_volume(row):\n",
    "    shape = float(row['shape'])\n",
    "    x = row['x']\n",
    "    y = row.get('y', 0)\n",
    "    z = row.get('z', 0)\n",
    "    \n",
    "    if shape in dict_volume:\n",
    "        if shape in [1, 2, 3, 4, 5, 6, 7]:\n",
    "            return dict_volume[shape](x, y, z) if shape in [3, 6] else dict_volume[shape](x, z) if shape == 4 else dict_volume[shape](x)\n",
    "    else:\n",
    "        return 'error'"
   ]
  },
  {
   "cell_type": "code",
   "execution_count": 36,
   "metadata": {},
   "outputs": [],
   "source": [
    "df['area'] = df.apply(calculate_area, axis=1)\n",
    "df['volume'] = df.apply(calculate_volume, axis=1)"
   ]
  },
  {
   "cell_type": "code",
   "execution_count": 37,
   "metadata": {},
   "outputs": [
    {
     "name": "stdout",
     "output_type": "stream",
     "text": [
      "[6.88133874e+02 6.15751640e+02 3.63167804e+03 1.52052956e+03\n",
      " 1.80955584e+03 4.07150064e+03 5.54176476e+03 9.16087644e+03\n",
      " 1.62860026e+04 1.13097240e+04 2.49415316e+02 4.43405007e+02\n",
      " 1.03680000e+04 1.96020000e+04 3.93691492e+03 5.22961638e+03\n",
      " 7.42030992e+03 1.36019537e+04 7.85397500e+03 5.02654400e+05\n",
      " 2.63760000e+04 5.30928710e+04 1.70553780e+03 3.76098588e+03\n",
      " 4.52310900e+03 1.36847660e+04 3.40055805e+04 1.26676763e+04\n",
      " 4.53645596e+03 2.12371484e+03 2.09116797e+03 2.82743100e+03\n",
      " 3.54672945e+03 4.34745791e+03 5.02654400e+03 1.21500000e+04\n",
      " 1.38240000e+04 1.56060000e+04 2.40000000e+03 3.21698816e+03\n",
      " 1.76776695e+03 3.52800000e+03 6.14400000e+03 7.35000000e+03\n",
      " 2.12176224e+03 2.39313760e+03 1.25663600e+03 8.04247040e+02\n",
      " 5.83200000e+03 1.60459851e+03 4.02638741e+03 6.82215118e+03\n",
      " 1.34354395e+04 8.15334068e+03 2.01061760e+04 2.43284730e+04\n",
      " 3.01718304e+04 5.14718106e+04 1.80123641e+04 2.32351996e+04\n",
      " 1.77952224e+03 1.38544119e+03 1.20687321e+03 9.95381376e+04\n",
      " 1.01787516e+05 5.70859576e+02 1.08686448e+03 1.93220351e+03\n",
      " 1.99503531e+03 7.84266528e+02 1.73400000e+03 2.01061760e+02\n",
      " 1.01787516e+03 4.29618841e+03 4.52388960e+04 1.30740409e+03\n",
      " 4.52388960e+02 2.54468790e+04 1.11036357e+03 4.37434992e+02\n",
      " 1.69092940e+03 7.66661057e+03 1.08618589e+04 1.53059521e+04\n",
      " 1.70178674e+04 3.71763194e+03 9.60000000e+03 7.77250603e+03\n",
      " 6.19320486e+03 4.87687865e+03 2.90333181e+03 1.87037702e+03\n",
      " 1.62000000e+06 1.98416992e+05 6.47564898e+05 1.72033468e+04\n",
      " 3.46278616e+03 4.77835839e+03 1.05683088e+04 1.20762720e+04\n",
      " 3.66435058e+04 2.75253549e+03 4.11686520e+03 1.96349375e+03\n",
      " 5.02654400e+01 6.64760444e+03 5.24880000e+02 1.49058000e+03\n",
      " 2.06082000e+03 1.79751224e+03 2.07498878e+03 2.59852721e+03\n",
      " 3.30198828e+03 4.28689936e+03 5.58936739e+03 3.53407387e+03\n",
      " 7.23822336e+03 1.91134336e+04 8.82000000e+02 3.04200000e+03\n",
      " 4.16248109e+03 1.05537368e+04 1.13550081e+04 1.81458238e+04\n",
      " 1.77056117e+03 5.35857865e+03 8.00549514e+03 8.63922673e+03\n",
      " 9.73138918e+02 1.54830122e+03 1.72020902e+03 5.20200000e+03\n",
      " 1.66865377e+04 8.04247040e+06 1.86000000e+03 1.45267122e+02\n",
      " 4.98758828e+02 3.45042086e+02 2.77590892e+04 4.22732350e+06\n",
      " 3.14159000e+04 1.53937910e+04 3.80132390e+04 4.21733400e+06\n",
      " 3.45600000e+03 5.04600000e+03 5.81068486e+02 6.51440102e+02\n",
      " 2.22286342e+03 1.49300923e+03 6.00019814e+02 8.90909685e+04\n",
      " 3.14159000e+02 2.64207719e+03 5.92828589e+03 1.31424000e+03\n",
      " 4.56515250e+03 1.40821440e+03 2.65667427e+03 3.84844775e+03\n",
      " 9.50330975e+03 4.83050878e+04 6.15751640e+04 7.25832954e+04\n",
      " 8.44962046e+04 9.73138918e+04 9.03651974e+02 9.12197099e+02\n",
      " 1.79150552e+03 1.10093377e+03 1.44410599e+03 1.22665769e+03\n",
      " 1.47661767e+03 7.84080000e+04 2.32351996e+02 2.98035103e+02\n",
      " 6.33470208e+02]\n"
     ]
    }
   ],
   "source": [
    "print(df['area'].unique())"
   ]
  },
  {
   "cell_type": "code",
   "execution_count": 38,
   "metadata": {},
   "outputs": [],
   "source": [
    "def calculate_sphericity(row):\n",
    "    area = row['area']\n",
    "    volume = row['volume']   # Предполагается, что у нас есть столбцы 'area' и 'volume'\n",
    "    radius_sphere = (3 * volume / (4 * np.pi)) ** (1/3) # Вычисляем радиус сферы по объему\n",
    "    surface_area_sphere = 4 * np.pi * radius_sphere ** 2 # Вычисляем поверхность сферы\n",
    "    sphericity = surface_area_sphere / area # Вычисляем сферичность\n",
    "    return sphericity"
   ]
  },
  {
   "cell_type": "code",
   "execution_count": 39,
   "metadata": {},
   "outputs": [],
   "source": [
    "df['sphericity'] = df.apply(calculate_sphericity, axis=1)"
   ]
  },
  {
   "cell_type": "code",
   "execution_count": 40,
   "metadata": {},
   "outputs": [
    {
     "name": "stdout",
     "output_type": "stream",
     "text": [
      "[1.00000028 1.00000028 1.00000028 0.67113929 0.67113929 0.51664327\n",
      " 1.00000028 1.34501829 0.37248422 0.80599598 0.80599598 0.80599598\n",
      " 1.64394881 0.67113929 0.51664327 0.09100827 0.0563519  0.51664327\n",
      " 0.51664327 1.47410027 0.07037894 0.80599598]\n"
     ]
    }
   ],
   "source": [
    "print(df['sphericity'].unique())"
   ]
  },
  {
   "cell_type": "markdown",
   "metadata": {},
   "source": [
    "Как можно заметить наш датасет имеет частицы сферические 1, и близкие к сферическим 0.8 и деформированные, совсем нее сферические 0.05 и 0.37, а значения 1.64394881 - наверное, указывают на не симметричные частицы"
   ]
  },
  {
   "cell_type": "code",
   "execution_count": 41,
   "metadata": {},
   "outputs": [
    {
     "name": "stdout",
     "output_type": "stream",
     "text": [
      "[\"['ZnO', 'CoFe2O4']\" \"['CoO', 'CoFe2O4']\" \"['Mn0.50Zn0.50Fe2O4']\"\n",
      " \"['LaFeO3']\" \"['Ni', 'NiO']\" \"['MgFe2O4']\" \"['CoFe2O4']\" \"['BiFeO3']\"\n",
      " \"['CoFe2O4', 'BiFeO3']\" \"['Co', 'CoO']\" \"['FeRh']\" \"['MnO2']\"\n",
      " \"['Ag', 'Fe3O4']\" \"['Fe', 'Fe2O3']\" \"['FeO', 'Fe3O4']\" \"['NiO']\"\n",
      " \"['Fe3O4']\" \"['Fe3O4', 'NiO']\" \"['NiO', 'Fe3O4']\"\n",
      " \"['Bi2Fe4O9', 'BiFeO3']\" \"['BiFeO3', 'Bi2Fe4O9']\" \"['TiO2', 'Fe2O3']\"\n",
      " \"['Co0.4Fe2.6O4']\" \"['Co0.7Fe2.3O4']\" \"['Fe0.7Co0.3']\" \"['Fe0.5Co0.5']\"\n",
      " \"['Fe0.3Co0.7']\" \"['Fe', 'Fe3O4']\" \"['La2FeMnO6']\" \"['FeVO4', 'Fe3O4']\"\n",
      " \"['Au', 'Fe3O4']\" \"['Bi0.9Gd0.1Fe0.9Ti0.1O3']\" \"['Nd0.78Sr0.22CoO3']\"\n",
      " \"['Fe3O4', 'CoO']\" \"['CoFe2O4', 'CoO']\" \"['Cu0.98', 'Fe0.02O']\"\n",
      " \"['Cu0.96', 'Fe0.04O']\" \"['Fe2O3']\" \"['La0.85Sr0.15FeO3']\"\n",
      " \"['Co', 'Co3O4']\" \"['Mn3O4']\" \"['La0.67Sr0.33MnO3']\" \"['MnO', 'Mn3O4']\"\n",
      " \"['Fe3O4', 'Fe2O3']\" \"['Co3O4']\" \"['Ni0.99Fe0.01O']\" \"['Ni0.98Fe0.02O']\"\n",
      " \"['Ni0.96Fe0.04O']\" \"['Ni0.97Fe0.03O']\" \"['Ag0.5Cr2.5O4']\" \"['AgCrO2']\"\n",
      " \"['CoO', 'NiFe2O4']\" \"['MnFe2O4']\" \"['MnFe2O4', 'Fe3O4']\"\n",
      " \"['Bi0.9La0.1FeO3']\" \"['NdFeO3']\" \"['CoFe2O4', 'Fe3O4']\" \"['DyCrTiO5']\"\n",
      " \"['GdCrTiO5']\" \"['NiO', 'CoMn2O4']\" \"['BaFe12O19', 'Fe3O4']\"\n",
      " \"['NiFe2O4', 'CoO']\" \"['CoCr2O4']\" \"['FeNi']\" \"['Mn', 'Mn3O4']\"\n",
      " \"['Fe3O4', 'CoFe2O4']\" \"['Fe3O4', 'MnO']\" \"['Fe', 'Fe3C']\"\n",
      " \"['CoFe2O4', 'NiO']\" \"['Fe3O4', 'MgO']\" \"['Fe3O4', 'MgO', 'CoFe2O4']\"\n",
      " \"['Co', 'Fe2O3']\" \"['CoFe2O4', 'NiFe2O4']\" \"['NiFe2O4']\"\n",
      " \"['NiFe2O4', 'CoFe2O4']\" \"['MnFe2O4', 'Fe2O3']\" \"['Fe5C2', 'Fe3O4']\"\n",
      " \"['Fe5C2']\" \"['FeNi3']\" \"['FeNi3', 'Mo']\" \"['Fe2.2C']\" \"['Fe2.2C', 'Mo']\"\n",
      " \"['La2Fe2O6', 'CoFe2O4']\" \"['CoO', 'Co']\" \"['FeF2', 'Fe']\" \"['CoP']\"\n",
      " \"['LaFeO3', 'NiO']\"]\n"
     ]
    }
   ],
   "source": [
    "print(df['chemical_formula'].unique())"
   ]
  },
  {
   "cell_type": "markdown",
   "metadata": {},
   "source": [
    "# Значение целевой переменной и вертикального сдвига\n",
    "Есть небольшая проблема. Часть данных отрицательная поскольку минус показывет направление, я хочу сделать направления отдельными колонками. Где 1 - число было отрицательным, 0 - положительным"
   ]
  },
  {
   "cell_type": "code",
   "execution_count": null,
   "metadata": {},
   "outputs": [],
   "source": []
  },
  {
   "cell_type": "markdown",
   "metadata": {},
   "source": [
    "# Last"
   ]
  },
  {
   "cell_type": "code",
   "execution_count": 42,
   "metadata": {},
   "outputs": [
    {
     "name": "stdout",
     "output_type": "stream",
     "text": [
      "            volume          area  Unnamed: 0              c1          c2   c3  \\\n",
      "0      1697.396888    688.133874           0          Zn1 O1  Fe2 Co1 O4  NaN   \n",
      "1      1436.753827    615.751640           1          Co1 O1  Fe2 Co1 O4  NaN   \n",
      "2     20579.508893   3631.678040           2  Mn1 Zn1 Fe4 O8         NaN  NaN   \n",
      "3      5575.275053   1520.529560           3  Mn1 Zn1 Fe4 O8         NaN  NaN   \n",
      "4      7238.223360   1809.555840           4  Mn1 Zn1 Fe4 O8         NaN  NaN   \n",
      "..             ...           ...         ...             ...         ...  ...   \n",
      "528  268082.346667  20106.176000         528      La1 Fe1 O3      Ni1 O1  NaN   \n",
      "529  268082.346667  20106.176000         529      La1 Fe1 O3      Ni1 O1  NaN   \n",
      "530  179594.228333  15393.791000         530      La1 Fe1 O3      Ni1 O1  NaN   \n",
      "531  179594.228333  15393.791000         531      La1 Fe1 O3      Ni1 O1  NaN   \n",
      "532  179594.228333  15393.791000         532      La1 Fe1 O3      Ni1 O1  NaN   \n",
      "\n",
      "          chemical_formula    crystal_structure     z   id  ...     y  \\\n",
      "0       ['ZnO', 'CoFe2O4']    hexagonal, cubic    7.4    1  ...   7.4   \n",
      "1       ['CoO', 'CoFe2O4']         cubcic, cube   7.0    2  ...   7.0   \n",
      "2    ['Mn0.50Zn0.50Fe2O4']                cubic  17.0    3  ...  17.0   \n",
      "3    ['Mn0.50Zn0.50Fe2O4']                cubic  11.0    4  ...  11.0   \n",
      "4    ['Mn0.50Zn0.50Fe2O4']                cubic  12.0    5  ...  12.0   \n",
      "..                     ...                  ...   ...  ...  ...   ...   \n",
      "528      ['LaFeO3', 'NiO']  orthorhombic, cubic  40.0  529  ...  40.0   \n",
      "529      ['LaFeO3', 'NiO']  orthorhombic, cubic  40.0  530  ...  40.0   \n",
      "530      ['LaFeO3', 'NiO']  orthorhombic, cubic  35.0  531  ...  35.0   \n",
      "531      ['LaFeO3', 'NiO']  orthorhombic, cubic  35.0  532  ...  35.0   \n",
      "532      ['LaFeO3', 'NiO']  orthorhombic, cubic  35.0  533  ...  35.0   \n",
      "\n",
      "    mr (emu/g)  sat_em_g  shape  space_group_core  temperature_k  \\\n",
      "0     13.76705   52.1524    1.0             186.0            5.0   \n",
      "1     43.26420   83.1400    1.0             225.0            5.0   \n",
      "2      0.00780    2.2900    1.0             227.0          300.0   \n",
      "3      0.02180    2.4300    1.0             227.0          300.0   \n",
      "4      0.34980   16.1500    1.0             227.0          300.0   \n",
      "..         ...       ...    ...               ...            ...   \n",
      "528    0.15550    1.6250    1.0              62.0            5.0   \n",
      "529    0.15500    1.6500    1.0              62.0            5.0   \n",
      "530    0.16600    1.6570    1.0              62.0            5.0   \n",
      "531    0.16550    1.6765    1.0              62.0            5.0   \n",
      "532    0.17000    1.2700    1.0              62.0            5.0   \n",
      "\n",
      "     ver_shift_emu_g     x                                         mass_ratio  \\\n",
      "0             0.0000   7.4  [0.20313874751542227, 0.355473349245203, 0.187...   \n",
      "1             0.0000   7.0  [0.3612074917593743, 0.3805691487063179, 0.258...   \n",
      "2             0.0000  17.0  [0.11674879913946458, 0.13585577295807472, 0.4...   \n",
      "3             0.0000  11.0  [0.11674879913946458, 0.13585577295807472, 0.4...   \n",
      "4             0.0000  12.0  [0.11674879913946458, 0.13585577295807472, 0.4...   \n",
      "..               ...   ...                                                ...   \n",
      "528           0.1125  40.0  [0.43852752646137455, 0.17658666577813456, 0.1...   \n",
      "529           0.1240  40.0  [0.43852752646137455, 0.17658666577813456, 0.1...   \n",
      "530           0.1520  35.0  [0.43852752646137455, 0.17658666577813456, 0.1...   \n",
      "531           0.1500  35.0  [0.43852752646137455, 0.17658666577813456, 0.1...   \n",
      "532           0.1700  35.0  [0.43852752646137455, 0.17658666577813456, 0.1...   \n",
      "\n",
      "     sphericity  \n",
      "0           1.0  \n",
      "1           1.0  \n",
      "2           1.0  \n",
      "3           1.0  \n",
      "4           1.0  \n",
      "..          ...  \n",
      "528         1.0  \n",
      "529         1.0  \n",
      "530         1.0  \n",
      "531         1.0  \n",
      "532         1.0  \n",
      "\n",
      "[533 rows x 26 columns]\n"
     ]
    }
   ],
   "source": [
    "print(df.drop(columns=['Unnamed: 0', 'structure_', 'structure']))"
   ]
  },
  {
   "cell_type": "code",
   "execution_count": 43,
   "metadata": {},
   "outputs": [
    {
     "name": "stdout",
     "output_type": "stream",
     "text": [
      "<class 'pandas.core.frame.DataFrame'>\n",
      "RangeIndex: 533 entries, 0 to 532\n",
      "Data columns (total 28 columns):\n",
      " #   Column             Non-Null Count  Dtype  \n",
      "---  ------             --------------  -----  \n",
      " 0   volume             533 non-null    float64\n",
      " 1   area               533 non-null    float64\n",
      " 2   Unnamed: 0         533 non-null    int64  \n",
      " 3   c1                 533 non-null    object \n",
      " 4   c2                 322 non-null    object \n",
      " 5   c3                 9 non-null      object \n",
      " 6   chemical_formula   533 non-null    object \n",
      " 7   crystal_structure  533 non-null    object \n",
      " 8   z                  509 non-null    float64\n",
      " 9   id                 533 non-null    int64  \n",
      " 10  space_group_shell  533 non-null    int64  \n",
      " 11  structure          533 non-null    object \n",
      " 12  structure_         533 non-null    object \n",
      " 13  formula_combined   533 non-null    object \n",
      " 14  coer_oe            533 non-null    float64\n",
      " 15  exc_bias_oe        533 non-null    float64\n",
      " 16  fc_field_t         533 non-null    float64\n",
      " 17  h_range_max_koe    533 non-null    float64\n",
      " 18  y                  533 non-null    float64\n",
      " 19  mr (emu/g)         533 non-null    float64\n",
      " 20  sat_em_g           533 non-null    float64\n",
      " 21  shape              533 non-null    float64\n",
      " 22  space_group_core   533 non-null    float64\n",
      " 23  temperature_k      533 non-null    float64\n",
      " 24  ver_shift_emu_g    533 non-null    float64\n",
      " 25  x                  533 non-null    float64\n",
      " 26  mass_ratio         533 non-null    object \n",
      " 27  sphericity         533 non-null    float64\n",
      "dtypes: float64(16), int64(3), object(9)\n",
      "memory usage: 116.7+ KB\n",
      "None\n"
     ]
    }
   ],
   "source": [
    "print(df.info())"
   ]
  },
  {
   "cell_type": "code",
   "execution_count": 44,
   "metadata": {},
   "outputs": [],
   "source": [
    "df.to_csv(r'C:\\Users\\Ксения\\Project\\Magnet_Exchange_bias\\data\\Bias_data_2.csv')"
   ]
  }
 ],
 "metadata": {
  "kernelspec": {
   "display_name": "exc_env",
   "language": "python",
   "name": "python3"
  },
  "language_info": {
   "codemirror_mode": {
    "name": "ipython",
    "version": 3
   },
   "file_extension": ".py",
   "mimetype": "text/x-python",
   "name": "python",
   "nbconvert_exporter": "python",
   "pygments_lexer": "ipython3",
   "version": "3.11.4"
  }
 },
 "nbformat": 4,
 "nbformat_minor": 2
}
