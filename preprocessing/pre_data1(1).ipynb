{
 "cells": [
  {
   "cell_type": "code",
   "execution_count": 2,
   "metadata": {},
   "outputs": [],
   "source": [
    "# All library connection\n",
    "import pandas as pd\n",
    "import numpy as np\n",
    "import re #регулярки\n",
    "from math import gcd, isclose\n",
    "import sympy as sp # Библиотека символьных вычеслений, мат.задачи\n",
    "import matplotlib\n",
    "import matplotlib.pyplot as plt\n",
    "import seaborn as sns"
   ]
  },
  {
   "cell_type": "code",
   "execution_count": 3,
   "metadata": {},
   "outputs": [],
   "source": [
    "from sklearn.cluster import KMeans\n",
    "from sklearn.preprocessing import StandardScaler\n",
    "from sklearn.impute import KNNImputer"
   ]
  },
  {
   "cell_type": "code",
   "execution_count": 4,
   "metadata": {},
   "outputs": [],
   "source": [
    "# pymatgen def to obtain structures\n",
    "from pymatgen.core.structure import Composition"
   ]
  },
  {
   "cell_type": "code",
   "execution_count": 5,
   "metadata": {},
   "outputs": [],
   "source": [
    "from collections import defaultdict"
   ]
  },
  {
   "cell_type": "code",
   "execution_count": 22,
   "metadata": {},
   "outputs": [],
   "source": [
    "#loading data\n",
    "df = pd.read_csv(r'C:\\Users\\Ксения\\Project\\Magnet_Exchange_bias\\part2.csv')"
   ]
  },
  {
   "cell_type": "code",
   "execution_count": 7,
   "metadata": {},
   "outputs": [
    {
     "name": "stdout",
     "output_type": "stream",
     "text": [
      "<class 'pandas.core.frame.DataFrame'>\n",
      "RangeIndex: 568 entries, 0 to 567\n",
      "Data columns (total 41 columns):\n",
      " #   Column                                         Non-Null Count  Dtype  \n",
      "---  ------                                         --------------  -----  \n",
      " 0   Unnamed: 0                                     568 non-null    int64  \n",
      " 1   id                                             568 non-null    int64  \n",
      " 2   c1                                             568 non-null    object \n",
      " 3   c2                                             0 non-null      float64\n",
      " 4   c3                                             0 non-null      float64\n",
      " 5   formula_combined                               0 non-null      float64\n",
      " 6   chemical_formula                               0 non-null      float64\n",
      " 7   x                                              568 non-null    float64\n",
      " 8   y                                              568 non-null    float64\n",
      " 9   z                                              568 non-null    float64\n",
      " 10  sphericity                                     568 non-null    float64\n",
      " 11  shape                                          0 non-null      float64\n",
      " 12  area/volume                                    568 non-null    float64\n",
      " 13  max/min                                        568 non-null    float64\n",
      " 14  space_group_core                               568 non-null    float64\n",
      " 15  space_group_shell                              568 non-null    int64  \n",
      " 16  crystal_structure                              0 non-null      float64\n",
      " 17  coer_oe                                        568 non-null    float64\n",
      " 18  sat_em_g                                       568 non-null    float64\n",
      " 19  mr (emu/g)                                     568 non-null    float64\n",
      " 20  exc_bias_oe                                    0 non-null      float64\n",
      " 21  ver_shift_emu_g                                0 non-null      float64\n",
      " 22  temperature_k                                  0 non-null      float64\n",
      " 23  fc_field_t                                     0 non-null      float64\n",
      " 24  h_range_max_koe                                0 non-null      float64\n",
      " 25  mass_ratio                                     0 non-null      float64\n",
      " 26  exc_dir                                        0 non-null      float64\n",
      " 27  ver_s_dir                                      0 non-null      float64\n",
      " 28  common_spin                                    568 non-null    float64\n",
      " 29  Effective anisotropy constant (J/m3)           568 non-null    float64\n",
      " 30  magnetic anisotropy constant (J/m3)            568 non-null    float64\n",
      " 31  magnetocrystalline anisotropy constant (J/m3)  568 non-null    int64  \n",
      " 32  Anisotropy constant                            568 non-null    float64\n",
      " 33  Crystalline                                    0 non-null      float64\n",
      " 34  MAE                                            568 non-null    float64\n",
      " 35  Curie temperature (K)                          568 non-null    float64\n",
      " 36  exchange constant (J/m) *10^-12                568 non-null    float64\n",
      " 37  Electronegativity core                         568 non-null    float64\n",
      " 38  Demagnetization factors (Nd)                   568 non-null    float64\n",
      " 39  interdomain coupling (alpha)                   568 non-null    float64\n",
      " 40  mass_magnetic_susceptibility(emu/Oe*g)         568 non-null    float64\n",
      "dtypes: float64(36), int64(4), object(1)\n",
      "memory usage: 182.1+ KB\n",
      "None\n"
     ]
    }
   ],
   "source": [
    "print(df.info())"
   ]
  },
  {
   "cell_type": "markdown",
   "metadata": {},
   "source": [
    "***Difference***\n",
    "- composition - core+shell with Ni1O1 like formula\n",
    "-  chemical formula - Ni50NiO50\n",
    "-  Structure - alhpa, gamma"
   ]
  },
  {
   "cell_type": "markdown",
   "metadata": {},
   "source": [
    "## Поработаем со столбцами"
   ]
  },
  {
   "cell_type": "code",
   "execution_count": 23,
   "metadata": {},
   "outputs": [
    {
     "ename": "KeyError",
     "evalue": "\"['Exp type', 'Scale bar (nm)', 'microphotography pic', 'Spectrum', 'JCPDS card (core)', 'JCPDS card (shell)', 'X-ray tube (nm)', 'Instrument', 'Crystalline size', 'Material fraction', 'curie temperature (K)', 'H-range min (kOe)', 'Instrument.1', 'M-H curve', 'applied field(kOe)', 'Article id', 'Method', 'H-range min (kOe)', 'Tb', 'Keff (effective anisotropy constant) (erg/cm3)', 'Keff (Jm^-3)', 'Total magnetization ', 'Atomic mass ratio', 'Number of magnetic ions per unit cell', 'Name', 'synonyms', 'get_exchange_group_info', 'cooling fields (mT)', 'Hc of measurement (kOe) ', 'number_of_unique_magnetic_sites', 'number_of_magnetic_sites', 'Cas rn (core_1)', 'Cas rn (core_2)'] not found in axis\"",
     "output_type": "error",
     "traceback": [
      "\u001b[1;31m---------------------------------------------------------------------------\u001b[0m",
      "\u001b[1;31mKeyError\u001b[0m                                  Traceback (most recent call last)",
      "Cell \u001b[1;32mIn[23], line 5\u001b[0m\n\u001b[0;32m      1\u001b[0m \u001b[38;5;66;03m# Удалим все колонки, значения которых точно не подлежат востановлению\u001b[39;00m\n\u001b[0;32m      2\u001b[0m del_col \u001b[38;5;241m=\u001b[39m [\u001b[38;5;124m'\u001b[39m\u001b[38;5;124mExp type\u001b[39m\u001b[38;5;124m'\u001b[39m, \u001b[38;5;124m'\u001b[39m\u001b[38;5;124mScale bar (nm)\u001b[39m\u001b[38;5;124m'\u001b[39m, \u001b[38;5;124m'\u001b[39m\u001b[38;5;124mmicrophotography pic\u001b[39m\u001b[38;5;124m'\u001b[39m,\u001b[38;5;124m'\u001b[39m\u001b[38;5;124mSpectrum\u001b[39m\u001b[38;5;124m'\u001b[39m, \u001b[38;5;124m'\u001b[39m\u001b[38;5;124mJCPDS card (core)\u001b[39m\u001b[38;5;124m'\u001b[39m, \u001b[38;5;124m'\u001b[39m\u001b[38;5;124mJCPDS card (shell)\u001b[39m\u001b[38;5;124m'\u001b[39m, \u001b[38;5;124m'\u001b[39m\u001b[38;5;124mX-ray tube (nm)\u001b[39m\u001b[38;5;124m'\u001b[39m, \u001b[38;5;124m'\u001b[39m\u001b[38;5;124mInstrument\u001b[39m\u001b[38;5;124m'\u001b[39m, \u001b[38;5;124m'\u001b[39m\u001b[38;5;124mCrystalline size\u001b[39m\u001b[38;5;124m'\u001b[39m, \u001b[38;5;124m'\u001b[39m\u001b[38;5;124mMaterial fraction\u001b[39m\u001b[38;5;124m'\u001b[39m, \u001b[38;5;124m'\u001b[39m\u001b[38;5;124mcurie temperature (K)\u001b[39m\u001b[38;5;124m'\u001b[39m, \u001b[38;5;124m'\u001b[39m\u001b[38;5;124mH-range min (kOe)\u001b[39m\u001b[38;5;124m'\u001b[39m, \u001b[38;5;124m'\u001b[39m\u001b[38;5;124mInstrument.1\u001b[39m\u001b[38;5;124m'\u001b[39m, \u001b[38;5;124m'\u001b[39m\u001b[38;5;124mM-H curve\u001b[39m\u001b[38;5;124m'\u001b[39m, \u001b[38;5;124m'\u001b[39m\u001b[38;5;124mapplied field(kOe)\u001b[39m\u001b[38;5;124m'\u001b[39m, \u001b[38;5;124m'\u001b[39m\u001b[38;5;124mArticle id\u001b[39m\u001b[38;5;124m'\u001b[39m, \u001b[38;5;124m'\u001b[39m\u001b[38;5;124mMethod\u001b[39m\u001b[38;5;124m'\u001b[39m, \u001b[38;5;124m'\u001b[39m\u001b[38;5;124mH-range min (kOe)\u001b[39m\u001b[38;5;124m'\u001b[39m,\u001b[38;5;124m'\u001b[39m\u001b[38;5;124mTb\u001b[39m\u001b[38;5;124m'\u001b[39m, \u001b[38;5;124m'\u001b[39m\u001b[38;5;124mKeff (effective anisotropy constant) (erg/cm3)\u001b[39m\u001b[38;5;124m'\u001b[39m,\n\u001b[0;32m      3\u001b[0m             \u001b[38;5;124m'\u001b[39m\u001b[38;5;124mKeff (Jm^-3)\u001b[39m\u001b[38;5;124m'\u001b[39m, \u001b[38;5;124m'\u001b[39m\u001b[38;5;124mTotal magnetization \u001b[39m\u001b[38;5;124m'\u001b[39m, \u001b[38;5;124m'\u001b[39m\u001b[38;5;124mAtomic mass ratio\u001b[39m\u001b[38;5;124m'\u001b[39m, \u001b[38;5;124m'\u001b[39m\u001b[38;5;124mNumber of magnetic ions per unit cell\u001b[39m\u001b[38;5;124m'\u001b[39m, \u001b[38;5;124m'\u001b[39m\u001b[38;5;124mName\u001b[39m\u001b[38;5;124m'\u001b[39m, \u001b[38;5;124m'\u001b[39m\u001b[38;5;124msynonyms\u001b[39m\u001b[38;5;124m'\u001b[39m,\n\u001b[0;32m      4\u001b[0m             \u001b[38;5;124m'\u001b[39m\u001b[38;5;124mget_exchange_group_info\u001b[39m\u001b[38;5;124m'\u001b[39m, \u001b[38;5;124m'\u001b[39m\u001b[38;5;124mcooling fields (mT)\u001b[39m\u001b[38;5;124m'\u001b[39m, \u001b[38;5;124m'\u001b[39m\u001b[38;5;124mHc of measurement (kOe) \u001b[39m\u001b[38;5;124m'\u001b[39m, \u001b[38;5;124m'\u001b[39m\u001b[38;5;124mnumber_of_unique_magnetic_sites\u001b[39m\u001b[38;5;124m'\u001b[39m, \u001b[38;5;124m'\u001b[39m\u001b[38;5;124mnumber_of_magnetic_sites\u001b[39m\u001b[38;5;124m'\u001b[39m, \u001b[38;5;124m'\u001b[39m\u001b[38;5;124mCas rn (core_1)\u001b[39m\u001b[38;5;124m'\u001b[39m, \u001b[38;5;124m'\u001b[39m\u001b[38;5;124mCas rn (core_2)\u001b[39m\u001b[38;5;124m'\u001b[39m ]\n\u001b[1;32m----> 5\u001b[0m df \u001b[38;5;241m=\u001b[39m \u001b[43mdf\u001b[49m\u001b[38;5;241;43m.\u001b[39;49m\u001b[43mdrop\u001b[49m\u001b[43m(\u001b[49m\u001b[43mcolumns\u001b[49m\u001b[38;5;241;43m=\u001b[39;49m\u001b[43mdel_col\u001b[49m\u001b[43m)\u001b[49m\n\u001b[0;32m      6\u001b[0m \u001b[38;5;28mprint\u001b[39m(df\u001b[38;5;241m.\u001b[39minfo())\n",
      "File \u001b[1;32mc:\\Users\\Ксения\\AppData\\Local\\Programs\\Python\\Python311\\Lib\\site-packages\\pandas\\util\\_decorators.py:331\u001b[0m, in \u001b[0;36mdeprecate_nonkeyword_arguments.<locals>.decorate.<locals>.wrapper\u001b[1;34m(*args, **kwargs)\u001b[0m\n\u001b[0;32m    325\u001b[0m \u001b[38;5;28;01mif\u001b[39;00m \u001b[38;5;28mlen\u001b[39m(args) \u001b[38;5;241m>\u001b[39m num_allow_args:\n\u001b[0;32m    326\u001b[0m     warnings\u001b[38;5;241m.\u001b[39mwarn(\n\u001b[0;32m    327\u001b[0m         msg\u001b[38;5;241m.\u001b[39mformat(arguments\u001b[38;5;241m=\u001b[39m_format_argument_list(allow_args)),\n\u001b[0;32m    328\u001b[0m         \u001b[38;5;167;01mFutureWarning\u001b[39;00m,\n\u001b[0;32m    329\u001b[0m         stacklevel\u001b[38;5;241m=\u001b[39mfind_stack_level(),\n\u001b[0;32m    330\u001b[0m     )\n\u001b[1;32m--> 331\u001b[0m \u001b[38;5;28;01mreturn\u001b[39;00m \u001b[43mfunc\u001b[49m\u001b[43m(\u001b[49m\u001b[38;5;241;43m*\u001b[39;49m\u001b[43margs\u001b[49m\u001b[43m,\u001b[49m\u001b[43m \u001b[49m\u001b[38;5;241;43m*\u001b[39;49m\u001b[38;5;241;43m*\u001b[39;49m\u001b[43mkwargs\u001b[49m\u001b[43m)\u001b[49m\n",
      "File \u001b[1;32mc:\\Users\\Ксения\\AppData\\Local\\Programs\\Python\\Python311\\Lib\\site-packages\\pandas\\core\\frame.py:5399\u001b[0m, in \u001b[0;36mDataFrame.drop\u001b[1;34m(self, labels, axis, index, columns, level, inplace, errors)\u001b[0m\n\u001b[0;32m   5251\u001b[0m \u001b[38;5;129m@deprecate_nonkeyword_arguments\u001b[39m(version\u001b[38;5;241m=\u001b[39m\u001b[38;5;28;01mNone\u001b[39;00m, allowed_args\u001b[38;5;241m=\u001b[39m[\u001b[38;5;124m\"\u001b[39m\u001b[38;5;124mself\u001b[39m\u001b[38;5;124m\"\u001b[39m, \u001b[38;5;124m\"\u001b[39m\u001b[38;5;124mlabels\u001b[39m\u001b[38;5;124m\"\u001b[39m])\n\u001b[0;32m   5252\u001b[0m \u001b[38;5;28;01mdef\u001b[39;00m \u001b[38;5;21mdrop\u001b[39m(  \u001b[38;5;66;03m# type: ignore[override]\u001b[39;00m\n\u001b[0;32m   5253\u001b[0m     \u001b[38;5;28mself\u001b[39m,\n\u001b[1;32m   (...)\u001b[0m\n\u001b[0;32m   5260\u001b[0m     errors: IgnoreRaise \u001b[38;5;241m=\u001b[39m \u001b[38;5;124m\"\u001b[39m\u001b[38;5;124mraise\u001b[39m\u001b[38;5;124m\"\u001b[39m,\n\u001b[0;32m   5261\u001b[0m ) \u001b[38;5;241m-\u001b[39m\u001b[38;5;241m>\u001b[39m DataFrame \u001b[38;5;241m|\u001b[39m \u001b[38;5;28;01mNone\u001b[39;00m:\n\u001b[0;32m   5262\u001b[0m \u001b[38;5;250m    \u001b[39m\u001b[38;5;124;03m\"\"\"\u001b[39;00m\n\u001b[0;32m   5263\u001b[0m \u001b[38;5;124;03m    Drop specified labels from rows or columns.\u001b[39;00m\n\u001b[0;32m   5264\u001b[0m \n\u001b[1;32m   (...)\u001b[0m\n\u001b[0;32m   5397\u001b[0m \u001b[38;5;124;03m            weight  1.0     0.8\u001b[39;00m\n\u001b[0;32m   5398\u001b[0m \u001b[38;5;124;03m    \"\"\"\u001b[39;00m\n\u001b[1;32m-> 5399\u001b[0m     \u001b[38;5;28;01mreturn\u001b[39;00m \u001b[38;5;28;43msuper\u001b[39;49m\u001b[43m(\u001b[49m\u001b[43m)\u001b[49m\u001b[38;5;241;43m.\u001b[39;49m\u001b[43mdrop\u001b[49m\u001b[43m(\u001b[49m\n\u001b[0;32m   5400\u001b[0m \u001b[43m        \u001b[49m\u001b[43mlabels\u001b[49m\u001b[38;5;241;43m=\u001b[39;49m\u001b[43mlabels\u001b[49m\u001b[43m,\u001b[49m\n\u001b[0;32m   5401\u001b[0m \u001b[43m        \u001b[49m\u001b[43maxis\u001b[49m\u001b[38;5;241;43m=\u001b[39;49m\u001b[43maxis\u001b[49m\u001b[43m,\u001b[49m\n\u001b[0;32m   5402\u001b[0m \u001b[43m        \u001b[49m\u001b[43mindex\u001b[49m\u001b[38;5;241;43m=\u001b[39;49m\u001b[43mindex\u001b[49m\u001b[43m,\u001b[49m\n\u001b[0;32m   5403\u001b[0m \u001b[43m        \u001b[49m\u001b[43mcolumns\u001b[49m\u001b[38;5;241;43m=\u001b[39;49m\u001b[43mcolumns\u001b[49m\u001b[43m,\u001b[49m\n\u001b[0;32m   5404\u001b[0m \u001b[43m        \u001b[49m\u001b[43mlevel\u001b[49m\u001b[38;5;241;43m=\u001b[39;49m\u001b[43mlevel\u001b[49m\u001b[43m,\u001b[49m\n\u001b[0;32m   5405\u001b[0m \u001b[43m        \u001b[49m\u001b[43minplace\u001b[49m\u001b[38;5;241;43m=\u001b[39;49m\u001b[43minplace\u001b[49m\u001b[43m,\u001b[49m\n\u001b[0;32m   5406\u001b[0m \u001b[43m        \u001b[49m\u001b[43merrors\u001b[49m\u001b[38;5;241;43m=\u001b[39;49m\u001b[43merrors\u001b[49m\u001b[43m,\u001b[49m\n\u001b[0;32m   5407\u001b[0m \u001b[43m    \u001b[49m\u001b[43m)\u001b[49m\n",
      "File \u001b[1;32mc:\\Users\\Ксения\\AppData\\Local\\Programs\\Python\\Python311\\Lib\\site-packages\\pandas\\util\\_decorators.py:331\u001b[0m, in \u001b[0;36mdeprecate_nonkeyword_arguments.<locals>.decorate.<locals>.wrapper\u001b[1;34m(*args, **kwargs)\u001b[0m\n\u001b[0;32m    325\u001b[0m \u001b[38;5;28;01mif\u001b[39;00m \u001b[38;5;28mlen\u001b[39m(args) \u001b[38;5;241m>\u001b[39m num_allow_args:\n\u001b[0;32m    326\u001b[0m     warnings\u001b[38;5;241m.\u001b[39mwarn(\n\u001b[0;32m    327\u001b[0m         msg\u001b[38;5;241m.\u001b[39mformat(arguments\u001b[38;5;241m=\u001b[39m_format_argument_list(allow_args)),\n\u001b[0;32m    328\u001b[0m         \u001b[38;5;167;01mFutureWarning\u001b[39;00m,\n\u001b[0;32m    329\u001b[0m         stacklevel\u001b[38;5;241m=\u001b[39mfind_stack_level(),\n\u001b[0;32m    330\u001b[0m     )\n\u001b[1;32m--> 331\u001b[0m \u001b[38;5;28;01mreturn\u001b[39;00m \u001b[43mfunc\u001b[49m\u001b[43m(\u001b[49m\u001b[38;5;241;43m*\u001b[39;49m\u001b[43margs\u001b[49m\u001b[43m,\u001b[49m\u001b[43m \u001b[49m\u001b[38;5;241;43m*\u001b[39;49m\u001b[38;5;241;43m*\u001b[39;49m\u001b[43mkwargs\u001b[49m\u001b[43m)\u001b[49m\n",
      "File \u001b[1;32mc:\\Users\\Ксения\\AppData\\Local\\Programs\\Python\\Python311\\Lib\\site-packages\\pandas\\core\\generic.py:4505\u001b[0m, in \u001b[0;36mNDFrame.drop\u001b[1;34m(self, labels, axis, index, columns, level, inplace, errors)\u001b[0m\n\u001b[0;32m   4503\u001b[0m \u001b[38;5;28;01mfor\u001b[39;00m axis, labels \u001b[38;5;129;01min\u001b[39;00m axes\u001b[38;5;241m.\u001b[39mitems():\n\u001b[0;32m   4504\u001b[0m     \u001b[38;5;28;01mif\u001b[39;00m labels \u001b[38;5;129;01mis\u001b[39;00m \u001b[38;5;129;01mnot\u001b[39;00m \u001b[38;5;28;01mNone\u001b[39;00m:\n\u001b[1;32m-> 4505\u001b[0m         obj \u001b[38;5;241m=\u001b[39m \u001b[43mobj\u001b[49m\u001b[38;5;241;43m.\u001b[39;49m\u001b[43m_drop_axis\u001b[49m\u001b[43m(\u001b[49m\u001b[43mlabels\u001b[49m\u001b[43m,\u001b[49m\u001b[43m \u001b[49m\u001b[43maxis\u001b[49m\u001b[43m,\u001b[49m\u001b[43m \u001b[49m\u001b[43mlevel\u001b[49m\u001b[38;5;241;43m=\u001b[39;49m\u001b[43mlevel\u001b[49m\u001b[43m,\u001b[49m\u001b[43m \u001b[49m\u001b[43merrors\u001b[49m\u001b[38;5;241;43m=\u001b[39;49m\u001b[43merrors\u001b[49m\u001b[43m)\u001b[49m\n\u001b[0;32m   4507\u001b[0m \u001b[38;5;28;01mif\u001b[39;00m inplace:\n\u001b[0;32m   4508\u001b[0m     \u001b[38;5;28mself\u001b[39m\u001b[38;5;241m.\u001b[39m_update_inplace(obj)\n",
      "File \u001b[1;32mc:\\Users\\Ксения\\AppData\\Local\\Programs\\Python\\Python311\\Lib\\site-packages\\pandas\\core\\generic.py:4546\u001b[0m, in \u001b[0;36mNDFrame._drop_axis\u001b[1;34m(self, labels, axis, level, errors, only_slice)\u001b[0m\n\u001b[0;32m   4544\u001b[0m         new_axis \u001b[38;5;241m=\u001b[39m axis\u001b[38;5;241m.\u001b[39mdrop(labels, level\u001b[38;5;241m=\u001b[39mlevel, errors\u001b[38;5;241m=\u001b[39merrors)\n\u001b[0;32m   4545\u001b[0m     \u001b[38;5;28;01melse\u001b[39;00m:\n\u001b[1;32m-> 4546\u001b[0m         new_axis \u001b[38;5;241m=\u001b[39m \u001b[43maxis\u001b[49m\u001b[38;5;241;43m.\u001b[39;49m\u001b[43mdrop\u001b[49m\u001b[43m(\u001b[49m\u001b[43mlabels\u001b[49m\u001b[43m,\u001b[49m\u001b[43m \u001b[49m\u001b[43merrors\u001b[49m\u001b[38;5;241;43m=\u001b[39;49m\u001b[43merrors\u001b[49m\u001b[43m)\u001b[49m\n\u001b[0;32m   4547\u001b[0m     indexer \u001b[38;5;241m=\u001b[39m axis\u001b[38;5;241m.\u001b[39mget_indexer(new_axis)\n\u001b[0;32m   4549\u001b[0m \u001b[38;5;66;03m# Case for non-unique axis\u001b[39;00m\n\u001b[0;32m   4550\u001b[0m \u001b[38;5;28;01melse\u001b[39;00m:\n",
      "File \u001b[1;32mc:\\Users\\Ксения\\AppData\\Local\\Programs\\Python\\Python311\\Lib\\site-packages\\pandas\\core\\indexes\\base.py:6934\u001b[0m, in \u001b[0;36mIndex.drop\u001b[1;34m(self, labels, errors)\u001b[0m\n\u001b[0;32m   6932\u001b[0m \u001b[38;5;28;01mif\u001b[39;00m mask\u001b[38;5;241m.\u001b[39many():\n\u001b[0;32m   6933\u001b[0m     \u001b[38;5;28;01mif\u001b[39;00m errors \u001b[38;5;241m!=\u001b[39m \u001b[38;5;124m\"\u001b[39m\u001b[38;5;124mignore\u001b[39m\u001b[38;5;124m\"\u001b[39m:\n\u001b[1;32m-> 6934\u001b[0m         \u001b[38;5;28;01mraise\u001b[39;00m \u001b[38;5;167;01mKeyError\u001b[39;00m(\u001b[38;5;124mf\u001b[39m\u001b[38;5;124m\"\u001b[39m\u001b[38;5;132;01m{\u001b[39;00m\u001b[38;5;28mlist\u001b[39m(labels[mask])\u001b[38;5;132;01m}\u001b[39;00m\u001b[38;5;124m not found in axis\u001b[39m\u001b[38;5;124m\"\u001b[39m)\n\u001b[0;32m   6935\u001b[0m     indexer \u001b[38;5;241m=\u001b[39m indexer[\u001b[38;5;241m~\u001b[39mmask]\n\u001b[0;32m   6936\u001b[0m \u001b[38;5;28;01mreturn\u001b[39;00m \u001b[38;5;28mself\u001b[39m\u001b[38;5;241m.\u001b[39mdelete(indexer)\n",
      "\u001b[1;31mKeyError\u001b[0m: \"['Exp type', 'Scale bar (nm)', 'microphotography pic', 'Spectrum', 'JCPDS card (core)', 'JCPDS card (shell)', 'X-ray tube (nm)', 'Instrument', 'Crystalline size', 'Material fraction', 'curie temperature (K)', 'H-range min (kOe)', 'Instrument.1', 'M-H curve', 'applied field(kOe)', 'Article id', 'Method', 'H-range min (kOe)', 'Tb', 'Keff (effective anisotropy constant) (erg/cm3)', 'Keff (Jm^-3)', 'Total magnetization ', 'Atomic mass ratio', 'Number of magnetic ions per unit cell', 'Name', 'synonyms', 'get_exchange_group_info', 'cooling fields (mT)', 'Hc of measurement (kOe) ', 'number_of_unique_magnetic_sites', 'number_of_magnetic_sites', 'Cas rn (core_1)', 'Cas rn (core_2)'] not found in axis\""
     ]
    }
   ],
   "source": [
    "# Удалим все колонки, значения которых точно не подлежат востановлению\n",
    "del_col = ['Exp type', 'Scale bar (nm)', 'microphotography pic','Spectrum', 'JCPDS card (core)', 'JCPDS card (shell)', 'X-ray tube (nm)', 'Instrument', 'Crystalline size', 'Material fraction', 'curie temperature (K)', 'H-range min (kOe)', 'Instrument.1', 'M-H curve', 'applied field(kOe)', 'Article id', 'Method', 'H-range min (kOe)','Tb', 'Keff (effective anisotropy constant) (erg/cm3)',\n",
    "            'Keff (Jm^-3)', 'Total magnetization ', 'Atomic mass ratio', 'Number of magnetic ions per unit cell', 'Name', 'synonyms',\n",
    "            'get_exchange_group_info', 'cooling fields (mT)', 'Hc of measurement (kOe) ', 'number_of_unique_magnetic_sites', 'number_of_magnetic_sites', 'Cas rn (core_1)', 'Cas rn (core_2)' ]\n",
    "df = df.drop(columns=del_col)\n",
    "print(df.info())"
   ]
  },
  {
   "cell_type": "code",
   "execution_count": 8,
   "metadata": {},
   "outputs": [
    {
     "name": "stdout",
     "output_type": "stream",
     "text": [
      "Unique cores: ['Zn1O1' 'Cu1O1' 'Mn0.50Zn0.50Fe2O4' 'La1Fe1O3' 'Ni1' 'Mg1Fe2O4'\n",
      " 'Co1Fe2O4' 'Bi1Fe1O3' 'Co1' 'Fe1Rh1' 'Mn1O2' 'Ag1' 'Fe1' 'Fe1O1' 'Ni1O1'\n",
      " 'Fe3O4' 'Bi2Fe4O9' 'Ti1O2' 'Co0.4Fe2.6O4' 'Co0.7Fe2.3O4' 'Fe0.7Co0.3'\n",
      " 'Fe0.5Co0.5' 'Fe0.3Co0.7' 'La2Fe1Mn1O6' 'Fe1V1O4' 'Au1'\n",
      " 'Bi0.9Gd0.1Fe0.9Ti0.1O3' 'Nd0.78Sr0.22CoO3' 'Fe2O3' 'La0.85Sr0.15FeO3'\n",
      " 'Mn3O4' 'La0.67Sr0.33MnO3' 'Mn1O1' 'Co3O4' 'Ni0.99Fe0.01O1'\n",
      " 'Ni0.98Fe0.02O1' 'Ni0.96Fe0.04O1' 'Ni0.97Fe0.03O1' 'Ag0.5Cr2.5O4'\n",
      " 'Ag1Cr1O2' 'Co1O1' 'Mn1Fe2O4' 'Bi0.9La0.1FeO3' 'Nd0.90Ho0.10FeO3'\n",
      " 'Dy1Cr1Ti1O5' 'Gd1Cr1Ti1O5' 'Ba1Fe12O19' 'Ni1Fe2O4' 'Co1Cr2O4' 'Fe1Ni1'\n",
      " 'Mn1' 'Fe1F2' 'Fe5C2' 'Fe1Ni3' 'Fe2.2C1' 'La2Fe2O6' 'Co1P1']\n",
      "Amount of unique cores composition: 57\n",
      "Unique shells: ['Co1Fe2O4' '0' 'Ni1O1' 'Bi1Fe1O3' 'Co1O1' 'Fe3O4' 'Fe2O3' 'Bi2Fe4O9'\n",
      " 'Сu1O1' 'Si1O2' 'Co3O4' 'Mn3O4' 'Ni1Fe2O4' 'Co1Mn2O4' 'Fe1' 'Mn1O1'\n",
      " 'Fe3C1' 'Mg1O1' 'Mg1O1, Co1Fe2O4' 'Mo1' 'Co1']\n",
      "Amount of unique shells composition: 21\n"
     ]
    }
   ],
   "source": [
    "# Теперь можно удалить эти колонки, так как они имеют такие же значения как и crystal_structure(core/shell) и chemical formula\n",
    "print(f'Unique cores: {df[\"core_1\"].unique()}', f'Amount of unique cores composition: {len(df[\"core_1\"].unique())}', sep='\\n')\n",
    "print(f'Unique shells: {df[\"core_2(shell)\"].unique()}', f'Amount of unique shells composition: {len(df[\"core_2(shell)\"].unique())}', sep='\\n')"
   ]
  },
  {
   "cell_type": "code",
   "execution_count": 9,
   "metadata": {},
   "outputs": [],
   "source": [
    "df = df.drop(columns=['core_1', 'core_2(shell)']) #удалим их"
   ]
  },
  {
   "cell_type": "code",
   "execution_count": 24,
   "metadata": {},
   "outputs": [
    {
     "name": "stdout",
     "output_type": "stream",
     "text": [
      "<class 'pandas.core.frame.DataFrame'>\n",
      "RangeIndex: 568 entries, 0 to 567\n",
      "Data columns (total 41 columns):\n",
      " #   Column                                         Non-Null Count  Dtype  \n",
      "---  ------                                         --------------  -----  \n",
      " 0   unnamed: 0                                     568 non-null    int64  \n",
      " 1   id                                             568 non-null    int64  \n",
      " 2   c1                                             568 non-null    object \n",
      " 3   c2                                             0 non-null      float64\n",
      " 4   c3                                             0 non-null      float64\n",
      " 5   formula_combined                               0 non-null      float64\n",
      " 6   chemical_formula                               0 non-null      float64\n",
      " 7   x                                              568 non-null    float64\n",
      " 8   y                                              568 non-null    float64\n",
      " 9   z                                              568 non-null    float64\n",
      " 10  sphericity                                     568 non-null    float64\n",
      " 11  shape                                          0 non-null      float64\n",
      " 12  area/volume                                    568 non-null    float64\n",
      " 13  max/min                                        568 non-null    float64\n",
      " 14  space_group_core                               568 non-null    float64\n",
      " 15  space_group_shell                              568 non-null    int64  \n",
      " 16  crystal_structure                              0 non-null      float64\n",
      " 17  coer_oe                                        568 non-null    float64\n",
      " 18  sat_em_g                                       568 non-null    float64\n",
      " 19  mr (emu/g)                                     568 non-null    float64\n",
      " 20  exc_bias_oe                                    0 non-null      float64\n",
      " 21  ver_shift_emu_g                                0 non-null      float64\n",
      " 22  temperature_k                                  0 non-null      float64\n",
      " 23  fc_field_t                                     0 non-null      float64\n",
      " 24  h_range_max_koe                                0 non-null      float64\n",
      " 25  mass_ratio                                     0 non-null      float64\n",
      " 26  exc_dir                                        0 non-null      float64\n",
      " 27  ver_s_dir                                      0 non-null      float64\n",
      " 28  common_spin                                    568 non-null    float64\n",
      " 29  effective anisotropy constant (j/m3)           568 non-null    float64\n",
      " 30  magnetic anisotropy constant (j/m3)            568 non-null    float64\n",
      " 31  magnetocrystalline anisotropy constant (j/m3)  568 non-null    int64  \n",
      " 32  anisotropy constant                            568 non-null    float64\n",
      " 33  crystalline                                    0 non-null      float64\n",
      " 34  mae                                            568 non-null    float64\n",
      " 35  curie temperature (k)                          568 non-null    float64\n",
      " 36  exchange constant (j/m) *10^-12                568 non-null    float64\n",
      " 37  electronegativity core                         568 non-null    float64\n",
      " 38  demagnetization factors (nd)                   568 non-null    float64\n",
      " 39  interdomain coupling (alpha)                   568 non-null    float64\n",
      " 40  mass_magnetic_susceptibility(emu/oe*g)         568 non-null    float64\n",
      "dtypes: float64(36), int64(4), object(1)\n",
      "memory usage: 182.1+ KB\n",
      "None\n"
     ]
    }
   ],
   "source": [
    "#переименуем название колонк для удобства и преобразуем их в нижний регистр\n",
    "df.columns = df.columns.str.lower()\n",
    "\n",
    "new_column_names = {\n",
    "    'id': 'id', 'crystal_structure(core/shell)': 'crystal_structure',\n",
    "    'space group(core)': 'space_group_core', 'space group(shell)': 'space_group_shell',\n",
    "    'chemical formula': 'chemical_formula', 'structure': 'structure',\n",
    "    'length (d)': 'length_d_nm', 'width': 'width_nm',\n",
    "    'depth': 'depth_nm', 'shape': 'shape', 'temperature (k)': 'temperature_k',\n",
    "    'h-range max(koe)': 'h_range_max_koe', 'ms (emu/g)': 'sat_em_g',\n",
    "    'hc (oe)': 'coer_oe', 'mrem (emu/g)': 'rem_emu_g', 'exchange bias shift hb or heb(oe)': 'exc_bias_oe',\n",
    "    'vertical loop shift m vsl (emu/g)': 'ver_shift_emu_g', 'fc field(t)': 'fc_field_t'\n",
    "}\n",
    "\n",
    "# Переименование столбцов\n",
    "df = df.rename(columns=new_column_names)\n",
    "print(df.info())"
   ]
  },
  {
   "cell_type": "markdown",
   "metadata": {},
   "source": [
    "## Поработаем с химическими формулами"
   ]
  },
  {
   "cell_type": "code",
   "execution_count": 68,
   "metadata": {},
   "outputs": [
    {
     "ename": "AttributeError",
     "evalue": "'float' object has no attribute 'isalnum'",
     "output_type": "error",
     "traceback": [
      "\u001b[1;31m---------------------------------------------------------------------------\u001b[0m",
      "\u001b[1;31mAttributeError\u001b[0m                            Traceback (most recent call last)",
      "Cell \u001b[1;32mIn[68], line 4\u001b[0m\n\u001b[0;32m      1\u001b[0m chemical_formulas \u001b[38;5;241m=\u001b[39m []\n\u001b[0;32m      3\u001b[0m \u001b[38;5;28;01mfor\u001b[39;00m formula \u001b[38;5;129;01min\u001b[39;00m df[\u001b[38;5;124m'\u001b[39m\u001b[38;5;124mchemical_formula\u001b[39m\u001b[38;5;124m'\u001b[39m]: \u001b[38;5;66;03m# Итерация по каждой формуле в столбце 'chemical formula'\u001b[39;00m\n\u001b[1;32m----> 4\u001b[0m     \u001b[38;5;28;01mif\u001b[39;00m \u001b[38;5;129;01mnot\u001b[39;00m \u001b[43mformula\u001b[49m\u001b[38;5;241;43m.\u001b[39;49m\u001b[43misalnum\u001b[49m(): \u001b[38;5;66;03m# Проверка, содержит ли формула только буквенно-цифровые символы\u001b[39;00m\n\u001b[0;32m      5\u001b[0m         line \u001b[38;5;241m=\u001b[39m re\u001b[38;5;241m.\u001b[39msplit(\u001b[38;5;124m\"\u001b[39m\u001b[38;5;124m-|,|/|@|–\u001b[39m\u001b[38;5;124m\"\u001b[39m, formula) \u001b[38;5;66;03m# Разделение формулы по символам '-', '@', '/', and ','\u001b[39;00m\n\u001b[0;32m      6\u001b[0m         components \u001b[38;5;241m=\u001b[39m [] \u001b[38;5;66;03m# Создание пустого списка для хранения компонентов формулы\u001b[39;00m\n",
      "\u001b[1;31mAttributeError\u001b[0m: 'float' object has no attribute 'isalnum'"
     ]
    }
   ],
   "source": [
    "chemical_formulas = []\n",
    "\n",
    "for formula in df['chemical_formula']: # Итерация по каждой формуле в столбце 'chemical formula'\n",
    "    if not formula.isalnum(): # Проверка, содержит ли формула только буквенно-цифровые символы\n",
    "        line = re.split(\"-|,|/|@|–\", formula) # Разделение формулы по символам '-', '@', '/', and ','\n",
    "        components = [] # Создание пустого списка для хранения компонентов формулы\n",
    "        for i in line:  # Итерация по каждому компоненту в разделенной формуле\n",
    "            if i.strip(): # Добавление компонента в список, если он не пустой\n",
    "                components.append(i.strip())\n",
    "        chemical_formulas.append(components) # Добавление списка компонентов в список химических формул\n",
    "    else:\n",
    "        chemical_formulas.append([formula])  # Если формула состоит только из буквенно-цифровых символов, добавляем ее как есть\n",
    "\n",
    "df['chemical_formula'] = chemical_formulas # Замена столбца новыми значениями"
   ]
  },
  {
   "cell_type": "code",
   "execution_count": 12,
   "metadata": {},
   "outputs": [
    {
     "name": "stdout",
     "output_type": "stream",
     "text": [
      "<class 'pandas.core.frame.DataFrame'>\n",
      "RangeIndex: 533 entries, 0 to 532\n",
      "Data columns (total 22 columns):\n",
      " #   Column             Non-Null Count  Dtype  \n",
      "---  ------             --------------  -----  \n",
      " 0   c1                 533 non-null    object \n",
      " 1   c2                 322 non-null    object \n",
      " 2   c3                 9 non-null      object \n",
      " 3   chemical_formula   533 non-null    object \n",
      " 4   coer_oe            510 non-null    float64\n",
      " 5   crystal_structure  533 non-null    object \n",
      " 6   depth_nm           509 non-null    float64\n",
      " 7   exc_bias_oe        500 non-null    float64\n",
      " 8   fc_field_t         508 non-null    float64\n",
      " 9   h_range_max_koe    526 non-null    float64\n",
      " 10  id                 533 non-null    int64  \n",
      " 11  length_d_nm        521 non-null    float64\n",
      " 12  mr (emu/g)         430 non-null    float64\n",
      " 13  sat_em_g           420 non-null    float64\n",
      " 14  shape              493 non-null    object \n",
      " 15  space_group_core   532 non-null    object \n",
      " 16  space_group_shell  533 non-null    object \n",
      " 17  structure          533 non-null    object \n",
      " 18  structure_         533 non-null    object \n",
      " 19  temperature_k      528 non-null    float64\n",
      " 20  ver_shift_emu_g    441 non-null    float64\n",
      " 21  width_nm           521 non-null    float64\n",
      "dtypes: float64(11), int64(1), object(10)\n",
      "memory usage: 91.7+ KB\n",
      "None\n"
     ]
    }
   ],
   "source": [
    "# Функция для разбивки списка в каждой ячейке на отдельные элементы и вставки их в новые столбцы\n",
    "def split_elements(row):\n",
    "    # Получаем список элементов из ячейки\n",
    "    elements = row['chemical_formula']\n",
    "    # Размещаем элементы в соответствующих столбцах\n",
    "    for i, element in enumerate(elements):\n",
    "        if i < 3:\n",
    "            row[f'c{i+1}'] = element\n",
    "    return row\n",
    "\n",
    "# Применяем функцию к каждой строке датафрейма\n",
    "df = df.apply(split_elements, axis=1)\n",
    "\n",
    "print(df.info())"
   ]
  },
  {
   "cell_type": "code",
   "execution_count": 25,
   "metadata": {},
   "outputs": [
    {
     "name": "stdout",
     "output_type": "stream",
     "text": [
      "0                AuFe2O3\n",
      "1      Co0.03Fe0.97Fe2O4\n",
      "2      Co0.05Fe0.95Fe2O4\n",
      "3        Co0.1Fe0.9Fe2O4\n",
      "4        Co0.1Fe0.9Fe2O4\n",
      "             ...        \n",
      "563              ZnFe2O4\n",
      "564              ZnFe2O4\n",
      "565              ZnFe2O4\n",
      "566              ZnFe2O4\n",
      "567              ZnFe2O4\n",
      "Name: c1, Length: 568, dtype: object 0     NaN\n",
      "1     NaN\n",
      "2     NaN\n",
      "3     NaN\n",
      "4     NaN\n",
      "       ..\n",
      "563   NaN\n",
      "564   NaN\n",
      "565   NaN\n",
      "566   NaN\n",
      "567   NaN\n",
      "Name: c2, Length: 568, dtype: float64 0     NaN\n",
      "1     NaN\n",
      "2     NaN\n",
      "3     NaN\n",
      "4     NaN\n",
      "       ..\n",
      "563   NaN\n",
      "564   NaN\n",
      "565   NaN\n",
      "566   NaN\n",
      "567   NaN\n",
      "Name: c3, Length: 568, dtype: float64\n"
     ]
    }
   ],
   "source": [
    "# Проверим как разделились значения списка\n",
    "print(df['c1'], df['c2'], df['c3'], end='\\n') # В с3 должно было быть всего 9 значений"
   ]
  },
  {
   "cell_type": "code",
   "execution_count": 12,
   "metadata": {},
   "outputs": [
    {
     "name": "stdout",
     "output_type": "stream",
     "text": [
      "<class 'pandas.core.series.Series'>\n",
      "RangeIndex: 568 entries, 0 to 567\n",
      "Series name: c1\n",
      "Non-Null Count  Dtype \n",
      "--------------  ----- \n",
      "568 non-null    object\n",
      "dtypes: object(1)\n",
      "memory usage: 4.6+ KB\n",
      "None\n"
     ]
    }
   ],
   "source": [
    "print(df['c1'].info())"
   ]
  },
  {
   "cell_type": "code",
   "execution_count": 26,
   "metadata": {},
   "outputs": [
    {
     "name": "stdout",
     "output_type": "stream",
     "text": [
      "['AuFe2O3' 'Co0.03Fe0.97Fe2O4' 'Co0.05Fe0.95Fe2O4' 'Co0.1Fe0.9Fe2O4'\n",
      " 'Co0.24Mn0.15Fe0.61Fe2O4' 'Co0.3Fe0.7Fe2O4' 'Co0.5Fe0.5Fe2O4'\n",
      " 'Co0.7Fe0.3Fe2O4' 'CoFe2O4' 'CuFe2O4' 'Cu2Fe2O4' 'Fe0.5Mn0.5Fe2O4'\n",
      " 'Fe3O4' 'Fe2.2C1Fe5C2' 'Fe2O3' 'Fe2O3Fe4(Fe(CN)6)3' 'Fe2O3Fe4(Fe(CN)6)4'\n",
      " 'Fe3O4CeO2' 'Fe3O4MnO2' 'Fe3O4Si' 'FeV2O4' 'Mg0.1Mn0.9Fe2O4'\n",
      " 'Mg0.3Mn0.7Fe2O4' 'Mg0.4Mn0.6Fe2O4' 'Mg0.5Mn0.5Fe2O4' 'MgFe2O4'\n",
      " 'Mn0.5Zn0.5Fe2O4' 'MnFe2O4' 'Ni0.5Zn0.5Fe2O4' 'Ni0.65Zn0.35Fe0.05Fe2O4'\n",
      " 'Ni0.65Zn0.35Fe0.05Fe2O5' 'Ni0.65Zn0.35Fe0.05Fe2O6'\n",
      " 'Ni0.65Zn0.35Fe0.05Fe2O7' 'NiFe2O4' 'NiCo2O4Au0.44' 'NiTe' 'PdFe2O3'\n",
      " 'Tb0.22Fe0.78Fe2O4' 'Tb0.5Fe0.5Fe2O4' 'Tb0.75Fe0.25Fe2O4'\n",
      " 'Zn0.1Mn0.9Fe2O4' 'Zn0.2Mn0.8Fe2O4' 'Zn0.3Co0.7Fe2O4' 'Zn0.3Mn0.7Fe2O4'\n",
      " 'Zn0.4Mn0.6Fe2O4' 'Zn0.5Mn0.5Fe2O4' 'Zn0.6Mn0.4Fe2O4' 'Zn0.7Mn0.3Fe2O4'\n",
      " 'Zn0.8Mn0.2Fe2O4' 'Zn0.9Mn0.1Fe2O4' 'ZnFe2O4'] [nan] [nan]\n"
     ]
    },
    {
     "data": {
      "text/plain": [
       "\"\\nnon_steh = ['Mn0.50Zn0.50Fe2O4',  'Co0.4Fe2.6O4', 'Co0.7Fe2.3O4', 'Fe0.7Co0.3', 'Fe0.5Co0.5',\\n 'Fe0.3Co0.7', 'Bi0.9Gd0.1Fe0.9Ti0.1O3', 'Nd0.78Sr0.22CoO3' 'Cu0.98' 'Cu0.96', 'La0.85Sr0.15FeO3', \\n 'La0.67Sr0.33MnO3', 'Ni0.99Fe0.01O', 'Ni0.98Fe0.02O', 'Ni0.96Fe0.04O', 'Ni0.97Fe0.03O', 'Ag0.5Cr2.5O4',\\n 'Bi0.9La0.1FeO3', 'Fe2.2C', 'Fe0.02O', 'Fe0.04O']\\n\""
      ]
     },
     "execution_count": 26,
     "metadata": {},
     "output_type": "execute_result"
    }
   ],
   "source": [
    "#Сделаем костыль для нестеохео соединений \n",
    "print(df['c1'].unique(), df['c2'].unique(), df['c3'].unique(), end='\\n')\n",
    "non_steh = ['Co0.03Fe0.97Fe2O4', 'Co0.05Fe0.95Fe2O4', 'Co0.1Fe0.9Fe2O4',\n",
    " 'Co0.24Mn0.15Fe0.61Fe2O4', 'Co0.3Fe0.7Fe2O4', 'Co0.5Fe0.5Fe2O4',\n",
    " 'Co0.7Fe0.3Fe2O4', 'Fe0.5Mn0.5Fe2O4',\n",
    " 'Fe2.2C1Fe5C2', 'Mg0.1Mn0.9Fe2O4',\n",
    " 'Mg0.3Mn0.7Fe2O4', 'Mg0.4Mn0.6Fe2O4', 'Mg0.5Mn0.5Fe2O4',\n",
    " 'Mn0.5Zn0.5Fe2O4', 'Ni0.5Zn0.5Fe2O4', 'Ni0.65Zn0.35Fe0.05Fe2O4',\n",
    " 'Ni0.65Zn0.35Fe0.05Fe2O5', 'Ni0.65Zn0.35Fe0.05Fe2O6',\n",
    " 'Ni0.65Zn0.35Fe0.05Fe2O7', 'NiCo2O4Au0.44',\n",
    " 'Tb0.22Fe0.78Fe2O4', 'Tb0.5Fe0.5Fe2O4', 'Tb0.75Fe0.25Fe2O4',\n",
    " 'Zn0.1Mn0.9Fe2O4', 'Zn0.2Mn0.8Fe2O4', 'Zn0.3Co0.7Fe2O4', 'Zn0.3Mn0.7Fe2O4',\n",
    " 'Zn0.4Mn0.6Fe2O4', 'Zn0.5Mn0.5Fe2O4', 'Zn0.6Mn0.4Fe2O4', 'Zn0.7Mn0.3Fe2O4',\n",
    " 'Zn0.8Mn0.2Fe2O4', 'Zn0.9Mn0.1Fe2O4']\n",
    "\n",
    "'''\n",
    "non_steh = ['Mn0.50Zn0.50Fe2O4',  'Co0.4Fe2.6O4', 'Co0.7Fe2.3O4', 'Fe0.7Co0.3', 'Fe0.5Co0.5',\n",
    " 'Fe0.3Co0.7', 'Bi0.9Gd0.1Fe0.9Ti0.1O3', 'Nd0.78Sr0.22CoO3' 'Cu0.98' 'Cu0.96', 'La0.85Sr0.15FeO3', \n",
    " 'La0.67Sr0.33MnO3', 'Ni0.99Fe0.01O', 'Ni0.98Fe0.02O', 'Ni0.96Fe0.04O', 'Ni0.97Fe0.03O', 'Ag0.5Cr2.5O4',\n",
    " 'Bi0.9La0.1FeO3', 'Fe2.2C', 'Fe0.02O', 'Fe0.04O']\n",
    "'''"
   ]
  },
  {
   "cell_type": "code",
   "execution_count": 28,
   "metadata": {},
   "outputs": [
    {
     "name": "stdout",
     "output_type": "stream",
     "text": [
      "Original: Co0.03 Fe2.97 O4, Normalized: Fe297Co3O400, Factor: 0.00999999999996265\n",
      "Original: Co0.05 Fe2.95 O4, Normalized: Fe59CoO80, Factor: 0.04999999999999978\n",
      "Original: Co0.1 Fe2.9 O4, Normalized: Fe29CoO40, Factor: 0.09999999999999976\n",
      "Original: Co0.24 Mn0.15 Fe2.61 O4, Normalized: Mn15Fe261(Co3O50)8, Factor: 0.009999999999992293\n",
      "Original: Co0.3 Fe2.7 O4, Normalized: Fe27Co3O40, Factor: 0.0999999999999997\n",
      "Original: Co0.5 Fe2.5 O4, Normalized: Fe5CoO8, Factor: 0.5\n",
      "Original: Co0.7 Fe2.3 O4, Normalized: Fe23Co7O40, Factor: 0.09999999999999987\n",
      "Original: Fe2.5 Mn0.5 O4, Normalized: MnFe5O8, Factor: 0.5\n",
      "Original: Fe7.2 C3, Normalized: Fe12C5, Factor: 0.5999999999999996\n",
      "Original: Mg0.1 Mn0.9 Fe2 O4, Normalized: MgMn9(FeO2)20, Factor: 0.09999999999999998\n",
      "Original: Mg0.3 Mn0.7 Fe2 O4, Normalized: Mg3Mn7(FeO2)20, Factor: 0.09999999999999998\n",
      "Original: Mg0.4 Mn0.6 Fe2 O4, Normalized: Mg2Mn3(FeO2)10, Factor: 0.19999999999999996\n",
      "Original: Mg0.5 Mn0.5 Fe2 O4, Normalized: MgMn(FeO2)4, Factor: 0.5\n",
      "Original: Mn0.5 Zn0.5 Fe2 O4, Normalized: MnZn(FeO2)4, Factor: 0.5\n",
      "Original: Ni0.5 Zn0.5 Fe2 O4, Normalized: ZnFe4NiO8, Factor: 0.5\n",
      "Original: Ni0.65 Zn0.35 Fe2.05 O4, Normalized: Zn7Fe41Ni13O80, Factor: 0.04999999999999993\n",
      "Original: Ni0.65 Zn0.35 Fe2.05 O5, Normalized: Zn7Fe41Ni13O100, Factor: 0.04999999999999993\n",
      "Original: Ni0.65 Zn0.35 Fe2.05 O6, Normalized: Zn7Fe41Ni13O120, Factor: 0.04999999999999993\n",
      "Original: Ni0.65 Zn0.35 Fe2.05 O7, Normalized: Zn7Fe41Ni13O140, Factor: 0.04999999999999993\n",
      "Original: Ni1 Co2 O4 Au0.44, Normalized: Co50Ni25Au11O100, Factor: 0.03999999999999998\n",
      "Original: Tb0.22 Fe2.78 O4, Normalized: Tb11Fe139O200, Factor: 0.019999999999999296\n",
      "Original: Tb0.5 Fe2.5 O4, Normalized: TbFe5O8, Factor: 0.5\n",
      "Original: Tb0.75 Fe2.25 O4, Normalized: Tb3Fe9O16, Factor: 0.25\n",
      "Original: Zn0.1 Mn0.9 Fe2 O4, Normalized: Mn9Zn(FeO2)20, Factor: 0.09999999999999998\n",
      "Original: Zn0.2 Mn0.8 Fe2 O4, Normalized: Mn4Zn(FeO2)10, Factor: 0.1999999999999999\n",
      "Original: Zn0.3 Co0.7 Fe2 O4, Normalized: Zn3Fe20Co7O40, Factor: 0.09999999999999998\n",
      "Original: Zn0.3 Mn0.7 Fe2 O4, Normalized: Mn7Zn3(FeO2)20, Factor: 0.09999999999999998\n",
      "Original: Zn0.4 Mn0.6 Fe2 O4, Normalized: Mn3Zn2(FeO2)10, Factor: 0.19999999999999996\n",
      "Original: Zn0.5 Mn0.5 Fe2 O4, Normalized: MnZn(FeO2)4, Factor: 0.5\n",
      "Original: Zn0.6 Mn0.4 Fe2 O4, Normalized: Mn2Zn3(FeO2)10, Factor: 0.19999999999999996\n",
      "Original: Zn0.7 Mn0.3 Fe2 O4, Normalized: Mn3Zn7(FeO2)20, Factor: 0.09999999999999998\n",
      "Original: Zn0.8 Mn0.2 Fe2 O4, Normalized: MnZn4(FeO2)10, Factor: 0.1999999999999999\n",
      "Original: Zn0.9 Mn0.1 Fe2 O4, Normalized: MnZn9(FeO2)20, Factor: 0.09999999999999998\n"
     ]
    }
   ],
   "source": [
    "# Создаем список для сохранения результатов\n",
    "normalized_formulas = []\n",
    "\n",
    "# Применяем функцию к каждому элементу списка non_steh\n",
    "for formula in non_steh:\n",
    "    comp_before = Composition(formula)  # Создаем объект Composition до применения функции\n",
    "    norm_formula, factor = comp_before.get_integer_formula_and_factor()\n",
    "    comp_after = norm_formula  # Создаем объект Composition после применения функции\n",
    "    normalized_formulas.append((comp_before, comp_after, factor))\n",
    "\n",
    "# Выводим результаты до/после\n",
    "for comp_before, comp_after, f in normalized_formulas:\n",
    "    print(f\"Original: {comp_before}, Normalized: {comp_after}, Factor: {f}\")"
   ]
  },
  {
   "cell_type": "code",
   "execution_count": 29,
   "metadata": {},
   "outputs": [],
   "source": [
    "# Костыль для таких соединений\n",
    "non_stoich_compounds_dict = {\n",
    "    'Co0.03Fe0.97Fe2O4': 'Fe297Co3O400', 'Co0.05Fe0.95Fe2O4': 'Fe59CoO80', 'Co0.1Fe0.9Fe2O4': 'Fe29CoO40',\n",
    "    'Co0.24Mn0.15Fe0.61Fe2O4': 'Mn15Fe261(Co3O50)8', 'Co0.3Fe0.7Fe2O4': 'Fe27Co3O40', 'Co0.5Fe0.5Fe2O4': 'Fe5CoO8',\n",
    "    'Co0.7Fe0.3Fe2O4': 'Fe23Co7O40', 'Fe0.5Mn0.5Fe2O4': 'MnFe5O8',\n",
    "    'Fe2.2C1Fe5C2': 'Fe12C5', 'Mg0.1Mn0.9Fe2O4': 'MgMn9(FeO2)20',\n",
    "    'Mg0.3Mn0.7Fe2O4': 'Mg3Mn7(FeO2)20', 'Mg0.4Mn0.6Fe2O4': 'Mg2Mn3(FeO2)10', 'Mg0.5Mn0.5Fe2O4': 'MgMn(FeO2)4',\n",
    "    'Mn0.5Zn0.5Fe2O4': 'MnZn(FeO2)4', 'Ni0.5Zn0.5Fe2O4': 'ZnFe4NiO8', 'Ni0.65Zn0.35Fe0.05Fe2O4': 'Zn7Fe41Ni13O80',\n",
    "    'Ni0.65Zn0.35Fe0.05Fe2O5': 'Zn7Fe41Ni13O100', 'Ni0.65Zn0.35Fe0.05Fe2O6': 'Zn7Fe41Ni13O120',\n",
    "    'Ni0.65Zn0.35Fe0.05Fe2O7': 'Zn7Fe41Ni13O140', 'NiCo2O4Au0.44': 'Co50Ni25Au11O100',\n",
    "    'Tb0.22Fe0.78Fe2O4': 'Tb11Fe139O200', 'Tb0.5Fe0.5Fe2O4': 'TbFe5O8', 'Tb0.75Fe0.25Fe2O4': 'Tb3Fe9O16',\n",
    "    'Zn0.1Mn0.9Fe2O4': 'Mn9Zn(FeO2)20', 'Zn0.2Mn0.8Fe2O4': 'Mn4Zn(FeO2)10', 'Zn0.3Co0.7Fe2O4': 'Zn3Fe20Co7O40', 'Zn0.3Mn0.7Fe2O4': 'Mn7Zn3(FeO2)20',\n",
    "    'Zn0.4Mn0.6Fe2O4': 'Mn3Zn2(FeO2)10', 'Zn0.5Mn0.5Fe2O4': 'MnZn(FeO2)4', 'Zn0.6Mn0.4Fe2O4': 'Mn2Zn3(FeO2)10', 'Zn0.7Mn0.3Fe2O4': 'Mn3Zn7(FeO2)20',\n",
    "    'Zn0.8Mn0.2Fe2O4': 'MnZn4(FeO2)10', 'Zn0.9Mn0.1Fe2O4': 'MnZn9(FeO2)20'\n",
    "}"
   ]
  },
  {
   "cell_type": "code",
   "execution_count": 34,
   "metadata": {},
   "outputs": [],
   "source": [
    "def replace_non_stoichiometric(column, non_stoich_compounds_dict):\n",
    "    '''Функция заменяет значения ключей на значения для этих ключей'''\n",
    "    for i, value in enumerate(column):\n",
    "        if value != 0 and value in non_stoich_compounds_dict:\n",
    "            column.at[i] = non_stoich_compounds_dict[value]\n",
    "    return column"
   ]
  },
  {
   "cell_type": "code",
   "execution_count": 35,
   "metadata": {},
   "outputs": [],
   "source": [
    "# Применение функции к каждому столбцу\n",
    "new_df_c1 = replace_non_stoichiometric(df['c1'], non_stoich_compounds_dict)\n",
    "new_df_c2 = replace_non_stoichiometric(df['c2'], non_stoich_compounds_dict)\n",
    "new_df_c3 = replace_non_stoichiometric(df['c3'], non_stoich_compounds_dict)\n",
    "\n",
    "# Вывод уникальных значений после применения функции\n",
    "unique_values_c1 = new_df_c1.unique()\n",
    "unique_values_c2 = new_df_c2.unique()\n",
    "unique_values_c3 = new_df_c3.unique()"
   ]
  },
  {
   "cell_type": "code",
   "execution_count": 36,
   "metadata": {},
   "outputs": [
    {
     "name": "stdout",
     "output_type": "stream",
     "text": [
      "Уникальные значения в столбце c1 после применения функции:['AuFe2O3' 'Fe297Co3O400' 'Fe59CoO80' 'Fe29CoO40' 'Mn15Fe261(Co3O50)8'\n",
      " 'Fe27Co3O40' 'Fe5CoO8' 'Fe23Co7O40' 'CoFe2O4' 'CuFe2O4' 'Cu2Fe2O4'\n",
      " 'MnFe5O8' 'Fe3O4' 'Fe12C5' 'Fe2O3' 'Fe2O3Fe4(Fe(CN)6)3'\n",
      " 'Fe2O3Fe4(Fe(CN)6)4' 'Fe3O4CeO2' 'Fe3O4MnO2' 'Fe3O4Si' 'FeV2O4'\n",
      " 'MgMn9(FeO2)20' 'Mg3Mn7(FeO2)20' 'Mg2Mn3(FeO2)10' 'MgMn(FeO2)4' 'MgFe2O4'\n",
      " 'MnZn(FeO2)4' 'MnFe2O4' 'ZnFe4NiO8' 'Zn7Fe41Ni13O80' 'Zn7Fe41Ni13O100'\n",
      " 'Zn7Fe41Ni13O120' 'Zn7Fe41Ni13O140' 'NiFe2O4' 'Co50Ni25Au11O100' 'NiTe'\n",
      " 'PdFe2O3' 'Tb11Fe139O200' 'TbFe5O8' 'Tb3Fe9O16' 'Mn9Zn(FeO2)20'\n",
      " 'Mn4Zn(FeO2)10' 'Zn3Fe20Co7O40' 'Mn7Zn3(FeO2)20' 'Mn3Zn2(FeO2)10'\n",
      " 'Mn2Zn3(FeO2)10' 'Mn3Zn7(FeO2)20' 'MnZn4(FeO2)10' 'MnZn9(FeO2)20'\n",
      " 'ZnFe2O4']\n",
      " Уникальные значения в столбце c2 после применения функции:[nan]\n",
      "Уникальныe значения в столбце c3 после применения функции:[nan]\n"
     ]
    }
   ],
   "source": [
    "print(f\"Уникальные значения в столбце c1 после применения функции:{unique_values_c1}\\n Уникальные значения в столбце c2 после применения функции:{unique_values_c2}\\nУникальныe значения в столбце c3 после применения функции:{unique_values_c3}\", end='\\n')"
   ]
  },
  {
   "cell_type": "code",
   "execution_count": 99,
   "metadata": {},
   "outputs": [
    {
     "name": "stdout",
     "output_type": "stream",
     "text": [
      "Original: Au1 Fe2 O3, Normalized: Fe2 Au1 O3\n",
      "Original: Co0.03 Fe2.97 O4, Normalized: Fe297 Co3 O400\n",
      "Original: Co0.05 Fe2.95 O4, Normalized: Fe59 Co1 O80\n",
      "Original: Co0.1 Fe2.9 O4, Normalized: Fe29 Co1 O40\n",
      "Original: Co0.24 Mn0.15 Fe2.61 O4, Normalized: Mn15 Fe261 Co24 O400\n",
      "Original: Co0.3 Fe2.7 O4, Normalized: Fe27 Co3 O40\n",
      "Original: Co0.5 Fe2.5 O4, Normalized: Fe5 Co1 O8\n",
      "Original: Co0.7 Fe2.3 O4, Normalized: Fe23 Co7 O40\n",
      "Original: Co1 Fe2 O4, Normalized: Fe2 Co1 O4\n",
      "Original: Cu1 Fe2 O4, Normalized: Fe2 Cu1 O4\n",
      "Original: Cu2 Fe2 O4, Normalized: Fe1 Cu1 O2\n",
      "Original: Fe2.5 Mn0.5 O4, Normalized: Mn1 Fe5 O8\n",
      "Original: Fe3 O4, Normalized: Fe3 O4\n",
      "Original: Fe7.2 C3, Normalized: Fe12 C5\n",
      "Original: Fe2 O3, Normalized: Fe2 O3\n",
      "Original: Fe9 O3 C18 N18, Normalized: Fe3 C6 N6 O1\n",
      "Original: Fe10 O3 C24 N24, Normalized: Fe10 C24 N24 O3\n",
      "Original: Fe3 O6 Ce1, Normalized: Ce1 Fe3 O6\n",
      "Original: Fe3 O6 Mn1, Normalized: Mn1 Fe3 O6\n",
      "Original: Fe3 O4 Si1, Normalized: Fe3 Si1 O4\n",
      "Original: Fe1 V2 O4, Normalized: V2 Fe1 O4\n",
      "Original: Mg0.1 Mn0.9 Fe2 O4, Normalized: Mg1 Mn9 Fe20 O40\n",
      "Original: Mg0.3 Mn0.7 Fe2 O4, Normalized: Mg3 Mn7 Fe20 O40\n",
      "Original: Mg0.4 Mn0.6 Fe2 O4, Normalized: Mg2 Mn3 Fe10 O20\n",
      "Original: Mg0.5 Mn0.5 Fe2 O4, Normalized: Mg1 Mn1 Fe4 O8\n",
      "Original: Mg1 Fe2 O4, Normalized: Mg1 Fe2 O4\n",
      "Original: Mn0.5 Zn0.5 Fe2 O4, Normalized: Mn1 Zn1 Fe4 O8\n",
      "Original: Mn1 Fe2 O4, Normalized: Mn1 Fe2 O4\n",
      "Original: Ni0.5 Zn0.5 Fe2 O4, Normalized: Zn1 Fe4 Ni1 O8\n",
      "Original: Ni0.65 Zn0.35 Fe2.05 O4, Normalized: Zn7 Fe41 Ni13 O80\n",
      "Original: Ni0.65 Zn0.35 Fe2.05 O5, Normalized: Zn7 Fe41 Ni13 O100\n",
      "Original: Ni0.65 Zn0.35 Fe2.05 O6, Normalized: Zn7 Fe41 Ni13 O120\n",
      "Original: Ni0.65 Zn0.35 Fe2.05 O7, Normalized: Zn7 Fe41 Ni13 O140\n",
      "Original: Ni1 Fe2 O4, Normalized: Fe2 Ni1 O4\n",
      "Original: Ni1 Co2 O4 Au0.44, Normalized: Co50 Ni25 Au11 O100\n",
      "Original: Ni1 Te1, Normalized: Ni1 Te1\n",
      "Original: Pd1 Fe2 O3, Normalized: Fe2 Pd1 O3\n",
      "Original: Tb0.22 Fe2.78 O4, Normalized: Tb11 Fe139 O200\n",
      "Original: Tb0.5 Fe2.5 O4, Normalized: Tb1 Fe5 O8\n",
      "Original: Tb0.75 Fe2.25 O4, Normalized: Tb3 Fe9 O16\n",
      "Original: Zn0.1 Mn0.9 Fe2 O4, Normalized: Mn9 Zn1 Fe20 O40\n",
      "Original: Zn0.2 Mn0.8 Fe2 O4, Normalized: Mn4 Zn1 Fe10 O20\n",
      "Original: Zn0.3 Co0.7 Fe2 O4, Normalized: Zn3 Fe20 Co7 O40\n",
      "Original: Zn0.3 Mn0.7 Fe2 O4, Normalized: Mn7 Zn3 Fe20 O40\n",
      "Original: Zn0.4 Mn0.6 Fe2 O4, Normalized: Mn3 Zn2 Fe10 O20\n",
      "Original: Zn0.6 Mn0.4 Fe2 O4, Normalized: Mn2 Zn3 Fe10 O20\n",
      "Original: Zn0.7 Mn0.3 Fe2 O4, Normalized: Mn3 Zn7 Fe20 O40\n",
      "Original: Zn0.8 Mn0.2 Fe2 O4, Normalized: Mn1 Zn4 Fe10 O20\n",
      "Original: Zn0.9 Mn0.1 Fe2 O4, Normalized: Mn1 Zn9 Fe20 O40\n",
      "Original: Zn1 Fe2 O4, Normalized: Zn1 Fe2 O4\n"
     ]
    }
   ],
   "source": [
    "from pymatgen.core.composition import Composition\n",
    "import pandas as pd\n",
    "\n",
    "def get_normalized_formulas(formulas):\n",
    "    normalized_formulas = {}\n",
    "    for formula in formulas:\n",
    "        comp_before = Composition(formula)\n",
    "        norm_formula, factor = comp_before.get_integer_formula_and_factor()\n",
    "        comp_after = Composition(norm_formula)\n",
    "        normalized_formulas[comp_before] = comp_after\n",
    "    return normalized_formulas\n",
    "\n",
    "# Пример использования\n",
    "unique_values_c1 = ['AuFe2O3', 'Co0.03Fe0.97Fe2O4', 'Co0.05Fe0.95Fe2O4', 'Co0.1Fe0.9Fe2O4',\n",
    " 'Co0.24Mn0.15Fe0.61Fe2O4', 'Co0.3Fe0.7Fe2O4', 'Co0.5Fe0.5Fe2O4',\n",
    " 'Co0.7Fe0.3Fe2O4', 'CoFe2O4', 'CuFe2O4', 'Cu2Fe2O4', 'Fe0.5Mn0.5Fe2O4',\n",
    " 'Fe3O4', 'Fe2.2C1Fe5C2', 'Fe2O3', 'Fe2O3Fe4(Fe(CN)6)3', 'Fe2O3Fe4(Fe(CN)6)4',\n",
    " 'Fe3O4CeO2', 'Fe3O4MnO2', 'Fe3O4Si', 'FeV2O4', 'Mg0.1Mn0.9Fe2O4',\n",
    " 'Mg0.3Mn0.7Fe2O4', 'Mg0.4Mn0.6Fe2O4', 'Mg0.5Mn0.5Fe2O4', 'MgFe2O4',\n",
    " 'Mn0.5Zn0.5Fe2O4', 'MnFe2O4', 'Ni0.5Zn0.5Fe2O4', 'Ni0.65Zn0.35Fe0.05Fe2O4',\n",
    " 'Ni0.65Zn0.35Fe0.05Fe2O5', 'Ni0.65Zn0.35Fe0.05Fe2O6',\n",
    " 'Ni0.65Zn0.35Fe0.05Fe2O7', 'NiFe2O4', 'NiCo2O4Au0.44', 'NiTe', 'PdFe2O3',\n",
    " 'Tb0.22Fe0.78Fe2O4', 'Tb0.5Fe0.5Fe2O4', 'Tb0.75Fe0.25Fe2O4',\n",
    " 'Zn0.1Mn0.9Fe2O4', 'Zn0.2Mn0.8Fe2O4', 'Zn0.3Co0.7Fe2O4', 'Zn0.3Mn0.7Fe2O4',\n",
    " 'Zn0.4Mn0.6Fe2O4', 'Zn0.5Mn0.5Fe2O4', 'Zn0.6Mn0.4Fe2O4', 'Zn0.7Mn0.3Fe2O4',\n",
    " 'Zn0.8Mn0.2Fe2O4', 'Zn0.9Mn0.1Fe2O4', 'ZnFe2O4']\n",
    "\n",
    "# Замена значений\n",
    "normalized_values = get_normalized_formulas(unique_values_c1)\n",
    "\n",
    "# Вывод результатов\n",
    "for comp_before, comp_after in normalized_values.items():\n",
    "    print(f\"Original: {comp_before}, Normalized: {comp_after}\")"
   ]
  },
  {
   "cell_type": "code",
   "execution_count": 30,
   "metadata": {},
   "outputs": [],
   "source": [
    "copy_formula = df['c1']\n",
    "df['orig_formula'] = copy_formula "
   ]
  },
  {
   "cell_type": "code",
   "execution_count": 31,
   "metadata": {},
   "outputs": [],
   "source": [
    "df['orig_formula'] = copy_formula "
   ]
  },
  {
   "cell_type": "code",
   "execution_count": 37,
   "metadata": {},
   "outputs": [
    {
     "data": {
      "text/plain": [
       "0           AuFe2O3\n",
       "1      Fe297Co3O400\n",
       "2         Fe59CoO80\n",
       "3         Fe29CoO40\n",
       "4         Fe29CoO40\n",
       "           ...     \n",
       "563         ZnFe2O4\n",
       "564         ZnFe2O4\n",
       "565         ZnFe2O4\n",
       "566         ZnFe2O4\n",
       "567         ZnFe2O4\n",
       "Name: c1, Length: 568, dtype: object"
      ]
     },
     "execution_count": 37,
     "metadata": {},
     "output_type": "execute_result"
    }
   ],
   "source": [
    "df['c1']"
   ]
  },
  {
   "cell_type": "markdown",
   "metadata": {},
   "source": [
    "### Время для использования Composition\n",
    "\n",
    "Однако в наших колонках есть пропуски и 0, поэттому надо создать функцию, которая будет игнорировать такие строки"
   ]
  },
  {
   "cell_type": "code",
   "execution_count": 78,
   "metadata": {},
   "outputs": [],
   "source": [
    "def process_column(df, column_name):\n",
    "    \"\"\"\n",
    "    Функция проверяет каждую ячейку в столбце DataFrame на равенство 0 или NaN.\n",
    "    Если значение не равно 0 или NaN, оно заменяется на результат применения класса Composition из библиотеки pymatgen.\n",
    "\n",
    "    Args:\n",
    "        df (pandas.DataFrame): Исходный DataFrame.\n",
    "        column_name (str): Имя столбца, который нужно обработать.\n",
    "\n",
    "    Returns:\n",
    "        pandas.DataFrame: DataFrame c обработанным столбцом.\n",
    "    \"\"\"\n",
    "    new_column = []\n",
    "    for value in df[column_name]:\n",
    "        if pd.notna(value) and value != 0:\n",
    "            # Если значение не NaN и не равно 0, применяем класс Composition\n",
    "            comp = Composition(str(value))\n",
    "            new_value = comp.formula\n",
    "        else:\n",
    "            new_value = value\n",
    "        new_column.append(new_value)\n",
    "\n",
    "    df[column_name] = new_column\n",
    "    return df"
   ]
  },
  {
   "cell_type": "markdown",
   "metadata": {},
   "source": [
    "Теперь у меня есть работающая функция composition для столбцов с nan и 0"
   ]
  },
  {
   "cell_type": "code",
   "execution_count": 79,
   "metadata": {},
   "outputs": [
    {
     "name": "stdout",
     "output_type": "stream",
     "text": [
      "[nan]\n",
      "[nan]\n"
     ]
    }
   ],
   "source": [
    "# Применим на наши колонки c1, c2, c3\n",
    "processed_df = process_column(df, column_name='c1')\n",
    "processed_df = process_column(df, column_name='c2')\n",
    "processed_df = process_column(df, column_name='c3')\n",
    "print(df['c3'].unique())\n",
    "print(df['c2'].unique())"
   ]
  },
  {
   "cell_type": "code",
   "execution_count": 80,
   "metadata": {},
   "outputs": [
    {
     "name": "stdout",
     "output_type": "stream",
     "text": [
      "['Fe2 Au1 O3' 'Fe2.97 Co0.03 O4' 'Fe2.95 Co0.05 O4' 'Fe2.9 Co0.1 O4'\n",
      " 'Mn0.15 Fe2.61 Co0.24 O4' 'Fe2.7 Co0.3 O4' 'Fe2.5 Co0.5 O4'\n",
      " 'Fe2.3 Co0.7 O4' 'Fe2 Co1 O4' 'Fe2 Cu1 O4' 'Fe2 Cu2 O4' 'Mn0.5 Fe2.5 O4'\n",
      " 'Fe3 O4' 'Fe7.2 C3' 'Fe2 O3' 'Fe9 C18 N18 O3' 'Fe10 C24 N24 O3'\n",
      " 'Ce1 Fe3 O6' 'Mn1 Fe3 O6' 'Fe3 Si1 O4' 'V2 Fe1 O4' 'Mg0.1 Mn0.9 Fe2 O4'\n",
      " 'Mg0.3 Mn0.7 Fe2 O4' 'Mg0.4 Mn0.6 Fe2 O4' 'Mg0.5 Mn0.5 Fe2 O4'\n",
      " 'Mg1 Fe2 O4' 'Mn0.5 Zn0.5 Fe2 O4' 'Mn1 Fe2 O4' 'Zn0.5 Fe2 Ni0.5 O4'\n",
      " 'Zn0.35 Fe2.05 Ni0.65 O4' 'Zn0.35 Fe2.05 Ni0.65 O5'\n",
      " 'Zn0.35 Fe2.05 Ni0.65 O6' 'Zn0.35 Fe2.05 Ni0.65 O7' 'Fe2 Ni1 O4'\n",
      " 'Co2 Ni1 Au0.44 O4' 'Ni1 Te1' 'Fe2 Pd1 O3' 'Tb0.22 Fe2.78 O4'\n",
      " 'Tb0.5 Fe2.5 O4' 'Tb0.75 Fe2.25 O4' 'Mn0.9 Zn0.1 Fe2 O4'\n",
      " 'Mn0.8 Zn0.2 Fe2 O4' 'Zn0.3 Fe2 Co0.7 O4' 'Mn0.7 Zn0.3 Fe2 O4'\n",
      " 'Mn0.6 Zn0.4 Fe2 O4' 'Mn0.4 Zn0.6 Fe2 O4' 'Mn0.3 Zn0.7 Fe2 O4'\n",
      " 'Mn0.2 Zn0.8 Fe2 O4' 'Mn0.1 Zn0.9 Fe2 O4' 'Zn1 Fe2 O4']\n"
     ]
    }
   ],
   "source": [
    "print(df['c1'].unique())"
   ]
  },
  {
   "cell_type": "markdown",
   "metadata": {},
   "source": [
    "Создадим отдельный столбец, где будем содержать полностью материал созданный из трёх колонок c1, c2, c3"
   ]
  },
  {
   "cell_type": "code",
   "execution_count": 81,
   "metadata": {},
   "outputs": [],
   "source": [
    "# Функция для сложения формул из нескольких столбцов\n",
    "def combine_compositions(row):\n",
    "    compositions = []\n",
    "    for column in ['c1', 'c2', 'c3']:\n",
    "        value = row[column]\n",
    "        if pd.notnull(value):  # Проверяем, не пустое ли значение\n",
    "            compositions.append(value)\n",
    "    return ' '.join(compositions)\n",
    "\n",
    "# Создаем новый столбец с объединенными формулами\n",
    "df['formula_combined'] = df.apply(combine_compositions, axis=1)"
   ]
  },
  {
   "cell_type": "code",
   "execution_count": 82,
   "metadata": {},
   "outputs": [
    {
     "name": "stdout",
     "output_type": "stream",
     "text": [
      "0            Fe2 Au1 O3\n",
      "1      Fe2.97 Co0.03 O4\n",
      "2      Fe2.95 Co0.05 O4\n",
      "3        Fe2.9 Co0.1 O4\n",
      "4        Fe2.9 Co0.1 O4\n",
      "             ...       \n",
      "563          Zn1 Fe2 O4\n",
      "564          Zn1 Fe2 O4\n",
      "565          Zn1 Fe2 O4\n",
      "566          Zn1 Fe2 O4\n",
      "567          Zn1 Fe2 O4\n",
      "Name: formula_combined, Length: 568, dtype: object\n"
     ]
    }
   ],
   "source": [
    "print(df['formula_combined']) # Получилось немного криво, но не критично я думаю можно исправить, у меня встрчеаются повторяющиеся соедиения и индексы их не скаладываются"
   ]
  },
  {
   "cell_type": "markdown",
   "metadata": {},
   "source": [
    "## Теперь поработаем с space_group_core и space_group_shell"
   ]
  },
  {
   "cell_type": "code",
   "execution_count": 26,
   "metadata": {},
   "outputs": [],
   "source": [
    "# Преобразование значений в нижний регистр на всякий случай\n",
    "df['space_group_core'] = df['space_group_core'].str.lower()\n",
    "df['space_group_shell'] = df['space_group_shell'].str.lower()"
   ]
  },
  {
   "cell_type": "code",
   "execution_count": 27,
   "metadata": {},
   "outputs": [
    {
     "name": "stdout",
     "output_type": "stream",
     "text": [
      "Уникальные значение ядер: ['p63mc' 'fm-3m' 'fd-3m' 'pnma' 'r3c' 'p63/mmc' 'pm-3m' 'i4/m' 'im-3m'\n",
      " 'pbam' 'p42/mnm' 'p1' nan 'i41/amd' 'p-3m1' 'r3m' 'p4332' 'p4/mmm'\n",
      " 'i-43m' 'cmcm' 'p4132' 'c2/c' 'p6322' 'pnnm']\n",
      "Уникальные значения оболочек: ['fd-3m' '0' 'fm-3m' 'r3c' 'p4332' 'pbam' 'p4132' 'pnma' 'i41/amd'\n",
      " 'p41212' 'im-3m' 'p63/mmc' 'p42/mnm']\n"
     ]
    }
   ],
   "source": [
    "#посмотрим какие структуры у нас есть\n",
    "print(f\"Уникальные значение ядер: {df['space_group_core'].unique()}\")\n",
    "print(f\"Уникальные значения оболочек: {df['space_group_shell'].unique()}\")"
   ]
  },
  {
   "cell_type": "markdown",
   "metadata": {},
   "source": [
    "[ 'fm-3m' 'fd-3m' 'pbnm' - заменить на pnma 'r3c''pm-3m' 'im-3m' 'i-43m'\n",
    "  'p-3m1'"
   ]
  },
  {
   "cell_type": "code",
   "execution_count": 28,
   "metadata": {},
   "outputs": [],
   "source": [
    "# Надо заменить на значения с чертой/ - если значение равно 221-230 или 215-220 или 200-206 или 187-190 или 162-167"
   ]
  },
  {
   "cell_type": "markdown",
   "metadata": {},
   "source": [
    "Осторожней с 62 - так она может пиcаться ещё как 'Pnma' и 'pbnm'"
   ]
  },
  {
   "cell_type": "code",
   "execution_count": 29,
   "metadata": {},
   "outputs": [],
   "source": [
    "# Создадим словарь, чтобы перевести простаранственные группы в числовые обозначения пространнственных групп\n",
    "dict_space_group = {\n",
    "    1: \"P1\", 2: \"P-1\", 3: \"P121\", 4: \"P1211\", 5: \"C121\", 6: \"P1m1\", 7: \"P1c1\", 8: \"C1m1\",\n",
    "    9: \"C1c1\", 10: \"P12/m1\", 11: \"P121/m1\", 12: \"C12/m1\", 13: \"P12/c1\", 14: \"P121/c1\",\n",
    "    15: \"C2/c\", 16: \"P222\", 17: \"P2221\", 18: \"P21212\", 19: \"P212121\", 20: \"C2221\",\n",
    "    21: \"C222\", 22: \"F222\", 23: \"I222\", 24: \"I212121\", 25: \"Pmm2\", 26: \"Pmc21\", 27: \"Pcc2\",\n",
    "    28: \"Pma2\", 29: \"Pca21\", 30: \"Pnc2\", 31: \"Pmn21\", 32: \"Pba2\", 33: \"Pna21\", 34: \"Pnn2\",\n",
    "    35: \"Cmm2\", 36: \"Cmc21\", 37: \"Ccc2\", 38: \"Amm2\", 39: \"Abm2\", 40: \"Ama2\", 41: \"Aba2\",\n",
    "    42: \"Fmm2\", 43: \"Fdd2\", 44: \"Imm2\", 45: \"Iba2\", 46: \"Ima2\", 47: \"Pmmm\", 48: \"Pnnn\",\n",
    "    49: \"Pccm\", 50: \"Pban\", 51: \"Pmma\", 52: \"Pnna\", 53: \"Pmna\", 54: \"Pcca\", 55: \"Pbam\",\n",
    "    56: \"Pccn\", 57: \"Pbcm\", 58: \"Pnnm\", 59: \"Pmmn\", 60: \"Pbcn\", 61: \"Pbca\", 62: \"Pnma\",\n",
    "    63: \"Cmcm\", 64: \"Cmca\", 65: \"Cmmm\", 66: \"Cccm\", 67: \"Cmma\", 68: \"Ccca\", 69: \"Fmmm\",\n",
    "    70: \"Fddd\", 71: \"Immm\", 72: \"Ibam\", 73: \"Ibca\", 74: \"Imma\", 75: \"P4\", 76: \"P41\",\n",
    "    77: \"P42\", 78: \"P43\", 79: \"I4\", 80: \"I41\", 81: \"P-4\", 82: \"I-4\", 83: \"P4/m\", 84: \"P42/m\",\n",
    "    85: \"P4/n\", 86: \"P42/n\", 87: \"I4/m\", 88: \"I41/a\", 89: \"P422\", 90: \"P4212\", 91: \"P4122\",\n",
    "    92: \"P41212\", 93: \"P4222\", 94: \"P42212\", 95: \"P4322\", 96: \"P43212\", 97: \"I422\",\n",
    "    98: \"I4122\", 99: \"P4mm\", 100: \"P4bm\", 101: \"P42cm\", 102: \"P42nm\", 103: \"P4cc\",\n",
    "    104: \"P4nc\", 105: \"P42mc\", 106: \"P42bc\", 107: \"I4mm\", 108: \"I4cm\", 109: \"I41md\",\n",
    "    110: \"I41cd\", 111: \"P-42m\", 112: \"P-42c\", 113: \"P-421m\", 114: \"P-421c\", 115: \"P-4m2\",\n",
    "    116: \"P-4c2\", 117: \"P-4b2\", 118: \"P-4n2\", 119: \"I-4m2\", 120: \"I-4c2\", 121: \"I-42m\",\n",
    "    122: \"I-42d\", 123: \"P4/mmm\", 124: \"P4/mcc\", 125: \"P4/nbm\", 126: \"P4/nnc\", 127: \"P4/mbm\",\n",
    "    128: \"P4/mnc\", 129: \"P4/nmm\", 130: \"P4/ncc\", 131: \"P42/mmc\", 132: \"P42/mcm\",\n",
    "    133: \"P42/nbc\", 134: \"P42/nnm\", 135: \"P42/mbc\", 136: \"P42/mnm\", 137: \"P42/nmc\",\n",
    "    138: \"P42/ncm\", 139: \"I4/mmm\", 140: \"I4/mcm\", 141: \"I41/amd\", 142: \"I41/acd\",\n",
    "    143: \"P3\", 144: \"P31\", 145: \"P32\", 146: \"R3\", 147: \"P-3\", 148: \"R-3\", 149: \"P312\",\n",
    "    150: \"P321\", 151: \"P3112\", 152: \"P3121\", 153: \"P3212\", 154: \"P3221\", 155: \"R32\",\n",
    "    156: \"P3m1\", 157: \"P31m\", 158: \"P3c1\", 159: \"P31c\", 160: \"R3m\", 161: \"R3c\", 162: \"P-31m\",\n",
    "    163: \"P-31c\", 164: \"P-3m1\", 165: \"P-3c1\", 166: \"R-3m\", 167: \"R-3c\", 168: \"P6\", 169: \"P61\",\n",
    "    170: \"P65\", 171: \"P62\", 172: \"P64\", 173: \"P63\", 174: \"P-6\", 175: \"P6/m\", 176: \"P63/m\",\n",
    "    177: \"P622\", 178: \"P6122\", 179: \"P6522\", 180: \"P6222\", 181: \"P6422\", 182: \"P6322\",\n",
    "    183: \"P6mm\", 184: \"P6cc\", 185: \"P63cm\", 186: \"P63mc\", 187: \"P-6m2\", 188: \"P-6c2\",\n",
    "    189: \"P-62m\", 190: \"P-62c\", 191: \"P6/mmm\", 192: \"P6/mcc\", 193: \"P63/mcm\", 194: \"P63/mmc\",\n",
    "    195: \"P23\", 196: \"F23\", 197: \"I23\", 198: \"P213\", 199: \"I213\", 200: \"Pm-3\", 201: \"Pn-3\",\n",
    "    202: \"Fm-3\", 203: \"Fd-3\", 204: \"Im-3\", 205: \"Pa-3\", 206: \"Ia-3\", 207: \"P432\", 208: \"P4232\",\n",
    "    209: \"F432\", 210: \"F4132\", 211: \"I432\", 212: \"P4332\", 213: \"P4132\", 214: \"I4132\",\n",
    "    215: \"P-43m\", 216: \"F-43m\", 217: \"I-43m\", 218: \"P-43n\", 219: \"F-43c\", 220: \"I-43d\",\n",
    "    221: \"Pm-3m\", 222: \"Pn-3n\", 223: \"Pm-3n\", 224: \"Pn-3m\", 225: \"Fm-3m\", 226: \"Fm-3c\",\n",
    "    227: \"Fd-3m\", 228: \"Fd-3c\", 229: \"Im-3m\", 230: \"Ia-3d\"\n",
    "}"
   ]
  },
  {
   "cell_type": "code",
   "execution_count": 30,
   "metadata": {},
   "outputs": [],
   "source": [
    "# Создание словаря со значениями в нижнем регистре для сравнени по нему\n",
    "dict_space_group_lower = {key: value.lower() for key, value in dict_space_group.items()}"
   ]
  },
  {
   "cell_type": "code",
   "execution_count": 31,
   "metadata": {},
   "outputs": [],
   "source": [
    "# Чтобы проще было проверять и менять значения\n",
    "dict_space_group_swapped = {v: k for k, v in dict_space_group_lower.items()}"
   ]
  },
  {
   "cell_type": "code",
   "execution_count": 32,
   "metadata": {},
   "outputs": [
    {
     "name": "stdout",
     "output_type": "stream",
     "text": [
      "{'p1': 1, 'p-1': 2, 'p121': 3, 'p1211': 4, 'c121': 5, 'p1m1': 6, 'p1c1': 7, 'c1m1': 8, 'c1c1': 9, 'p12/m1': 10, 'p121/m1': 11, 'c12/m1': 12, 'p12/c1': 13, 'p121/c1': 14, 'c2/c': 15, 'p222': 16, 'p2221': 17, 'p21212': 18, 'p212121': 19, 'c2221': 20, 'c222': 21, 'f222': 22, 'i222': 23, 'i212121': 24, 'pmm2': 25, 'pmc21': 26, 'pcc2': 27, 'pma2': 28, 'pca21': 29, 'pnc2': 30, 'pmn21': 31, 'pba2': 32, 'pna21': 33, 'pnn2': 34, 'cmm2': 35, 'cmc21': 36, 'ccc2': 37, 'amm2': 38, 'abm2': 39, 'ama2': 40, 'aba2': 41, 'fmm2': 42, 'fdd2': 43, 'imm2': 44, 'iba2': 45, 'ima2': 46, 'pmmm': 47, 'pnnn': 48, 'pccm': 49, 'pban': 50, 'pmma': 51, 'pnna': 52, 'pmna': 53, 'pcca': 54, 'pbam': 55, 'pccn': 56, 'pbcm': 57, 'pnnm': 58, 'pmmn': 59, 'pbcn': 60, 'pbca': 61, 'pnma': 62, 'cmcm': 63, 'cmca': 64, 'cmmm': 65, 'cccm': 66, 'cmma': 67, 'ccca': 68, 'fmmm': 69, 'fddd': 70, 'immm': 71, 'ibam': 72, 'ibca': 73, 'imma': 74, 'p4': 75, 'p41': 76, 'p42': 77, 'p43': 78, 'i4': 79, 'i41': 80, 'p-4': 81, 'i-4': 82, 'p4/m': 83, 'p42/m': 84, 'p4/n': 85, 'p42/n': 86, 'i4/m': 87, 'i41/a': 88, 'p422': 89, 'p4212': 90, 'p4122': 91, 'p41212': 92, 'p4222': 93, 'p42212': 94, 'p4322': 95, 'p43212': 96, 'i422': 97, 'i4122': 98, 'p4mm': 99, 'p4bm': 100, 'p42cm': 101, 'p42nm': 102, 'p4cc': 103, 'p4nc': 104, 'p42mc': 105, 'p42bc': 106, 'i4mm': 107, 'i4cm': 108, 'i41md': 109, 'i41cd': 110, 'p-42m': 111, 'p-42c': 112, 'p-421m': 113, 'p-421c': 114, 'p-4m2': 115, 'p-4c2': 116, 'p-4b2': 117, 'p-4n2': 118, 'i-4m2': 119, 'i-4c2': 120, 'i-42m': 121, 'i-42d': 122, 'p4/mmm': 123, 'p4/mcc': 124, 'p4/nbm': 125, 'p4/nnc': 126, 'p4/mbm': 127, 'p4/mnc': 128, 'p4/nmm': 129, 'p4/ncc': 130, 'p42/mmc': 131, 'p42/mcm': 132, 'p42/nbc': 133, 'p42/nnm': 134, 'p42/mbc': 135, 'p42/mnm': 136, 'p42/nmc': 137, 'p42/ncm': 138, 'i4/mmm': 139, 'i4/mcm': 140, 'i41/amd': 141, 'i41/acd': 142, 'p3': 143, 'p31': 144, 'p32': 145, 'r3': 146, 'p-3': 147, 'r-3': 148, 'p312': 149, 'p321': 150, 'p3112': 151, 'p3121': 152, 'p3212': 153, 'p3221': 154, 'r32': 155, 'p3m1': 156, 'p31m': 157, 'p3c1': 158, 'p31c': 159, 'r3m': 160, 'r3c': 161, 'p-31m': 162, 'p-31c': 163, 'p-3m1': 164, 'p-3c1': 165, 'r-3m': 166, 'r-3c': 167, 'p6': 168, 'p61': 169, 'p65': 170, 'p62': 171, 'p64': 172, 'p63': 173, 'p-6': 174, 'p6/m': 175, 'p63/m': 176, 'p622': 177, 'p6122': 178, 'p6522': 179, 'p6222': 180, 'p6422': 181, 'p6322': 182, 'p6mm': 183, 'p6cc': 184, 'p63cm': 185, 'p63mc': 186, 'p-6m2': 187, 'p-6c2': 188, 'p-62m': 189, 'p-62c': 190, 'p6/mmm': 191, 'p6/mcc': 192, 'p63/mcm': 193, 'p63/mmc': 194, 'p23': 195, 'f23': 196, 'i23': 197, 'p213': 198, 'i213': 199, 'pm-3': 200, 'pn-3': 201, 'fm-3': 202, 'fd-3': 203, 'im-3': 204, 'pa-3': 205, 'ia-3': 206, 'p432': 207, 'p4232': 208, 'f432': 209, 'f4132': 210, 'i432': 211, 'p4332': 212, 'p4132': 213, 'i4132': 214, 'p-43m': 215, 'f-43m': 216, 'i-43m': 217, 'p-43n': 218, 'f-43c': 219, 'i-43d': 220, 'pm-3m': 221, 'pn-3n': 222, 'pm-3n': 223, 'pn-3m': 224, 'fm-3m': 225, 'fm-3c': 226, 'fd-3m': 227, 'fd-3c': 228, 'im-3m': 229, 'ia-3d': 230}\n"
     ]
    }
   ],
   "source": [
    "print(dict_space_group_swapped)"
   ]
  },
  {
   "cell_type": "code",
   "execution_count": 33,
   "metadata": {},
   "outputs": [],
   "source": [
    "def replace_space_group_values(df, dict_space_group_swapped):\n",
    "    for column in ['space_group_core', 'space_group_shell']:\n",
    "        for i, value in enumerate(df[column]):\n",
    "            if pd.notnull(value) and value != 0:\n",
    "                # Проверяем наличие значения в словаре и заменяем его, если оно есть\n",
    "                if value in dict_space_group_swapped:\n",
    "                    df.at[i, column] = dict_space_group_swapped[value]\n",
    "    return df\n",
    "\n",
    "# Применяем функцию к датафрейму\n",
    "new_df = replace_space_group_values(df, dict_space_group_swapped)"
   ]
  },
  {
   "cell_type": "code",
   "execution_count": 34,
   "metadata": {},
   "outputs": [
    {
     "name": "stdout",
     "output_type": "stream",
     "text": [
      "Для ядра: [186 225 227 62 161 194 221 87 229 55 136 1 nan 141 164 160 212 123 217 63\n",
      " 213 15 182 58]\n",
      "Для оболочки: [227 '0' 225 161 212 55 213 62 141 92 229 194 136]\n"
     ]
    }
   ],
   "source": [
    "# Теперь все наши значения закодированы - не все есть моменты, которые стоит исправить - может там русские буквы\n",
    "print(f\"Для ядра: {df['space_group_core'].unique()}\", f\"Для оболочки: {df['space_group_shell'].unique()}\", sep='\\n')"
   ]
  },
  {
   "cell_type": "code",
   "execution_count": 35,
   "metadata": {},
   "outputs": [],
   "source": [
    "# Для проверки первого столбца\n",
    "dict_crystal_structure = {\n",
    "    \"triclinic\":[1, 2], \n",
    "    \"monoclinic\":[3, 4, 5, 6, 7, 8, 9, 10, 11, 12, 13, 14, 15],\n",
    "    \"orthorhombic\":[16, 17, 18, 19, 20, 21, 22, 23, 24, 25, 26, 27, 28, 29, 30, 31, 32, 33, 34, 35, 36, 37, 38, 39, 40, 41, 42, 43, 44, 45, 46, 47, 48, 49, 50, 51, 52, 53, 54, 55, 56, 57, 58, 59, 60, 61, 62, 63, 64, 65, 66, 67, 68, 69, 70, 71, 72, 73, 74], \n",
    "    \"tetragonal\":[75, 76, 77, 78, 79, 80, 81, 82, 83, 84, 85, 86, 87, 88, 89, 90, 91, 92, 93, 94, 95, 96, 97, 98, 99, 100, 101, 102, 103, 104, 105, 106, 107, 108, 109, 110, 111, 112, 113, 114, 115, 116, 117, 118, 119, 120, 121, 122, 123, 124, 125, 126, 127, 128, 129, 130, 131, 132, 133, 134, 135, 136, 137, 138, 139, 140, 141, 142], \n",
    "    \"trigonal\":[143, 144, 145, 146, 147, 148, 149, 150, 151, 152, 153, 154, 155, 156, 157, 158, 159, 160, 161, 162, 163, 164, 165, 166, 167], \n",
    "    \"hexagonal\":[168, 169, 170, 171, 172, 173, 174, 175, 176, 177, 178, 179, 180, 181, 182, 183, 184, 185, 186, 187, 188, 189, 190, 191, 192, 193, 194],\n",
    "    \"cubic\":[195, 196, 197, 198, 199, 200, 201, 202, 203, 204, 205, 206, 207, 208, 209, 210, 211, 212, 213, 214, 215, 216, 217, 218, 219, 220, 221, 222, 223, 224, 225, 226, 227, 228, 229, 230]\n",
    "}               "
   ]
  },
  {
   "cell_type": "markdown",
   "metadata": {},
   "source": [
    "# Геометрические признаки "
   ]
  },
  {
   "cell_type": "markdown",
   "metadata": {},
   "source": [
    "Посмотрим на парметры формы и на x/y/z(nm) параметры частиц.\n",
    "1. Закодируем названия форм, но сначала удалим одни и те же формы, но написанные по разному\n",
    "2. Найдём площадь и объем наших частиц\n",
    "3. Посмотрим на сферичность\n",
    "4. Посмотрим на разброс классов"
   ]
  },
  {
   "cell_type": "code",
   "execution_count": 36,
   "metadata": {},
   "outputs": [
    {
     "name": "stdout",
     "output_type": "stream",
     "text": [
      "<class 'pandas.core.frame.DataFrame'>\n",
      "RangeIndex: 533 entries, 0 to 532\n",
      "Data columns (total 23 columns):\n",
      " #   Column             Non-Null Count  Dtype  \n",
      "---  ------             --------------  -----  \n",
      " 0   c1                 533 non-null    object \n",
      " 1   c2                 322 non-null    object \n",
      " 2   c3                 9 non-null      object \n",
      " 3   chemical_formula   533 non-null    object \n",
      " 4   coer_oe            510 non-null    float64\n",
      " 5   crystal_structure  533 non-null    object \n",
      " 6   depth_nm           509 non-null    float64\n",
      " 7   exc_bias_oe        500 non-null    float64\n",
      " 8   fc_field_t         508 non-null    float64\n",
      " 9   h_range_max_koe    526 non-null    float64\n",
      " 10  id                 533 non-null    int64  \n",
      " 11  length_d_nm        521 non-null    float64\n",
      " 12  mr (emu/g)         430 non-null    float64\n",
      " 13  sat_em_g           420 non-null    float64\n",
      " 14  shape              493 non-null    object \n",
      " 15  space_group_core   532 non-null    object \n",
      " 16  space_group_shell  533 non-null    object \n",
      " 17  structure          533 non-null    object \n",
      " 18  structure_         533 non-null    object \n",
      " 19  temperature_k      528 non-null    float64\n",
      " 20  ver_shift_emu_g    441 non-null    float64\n",
      " 21  width_nm           521 non-null    float64\n",
      " 22  formula_combined   533 non-null    object \n",
      "dtypes: float64(11), int64(1), object(11)\n",
      "memory usage: 95.9+ KB\n",
      "None\n"
     ]
    }
   ],
   "source": [
    "print(df.info()) "
   ]
  },
  {
   "cell_type": "code",
   "execution_count": 37,
   "metadata": {},
   "outputs": [
    {
     "name": "stdout",
     "output_type": "stream",
     "text": [
      "['sphere' 'polyhedron' 'tetrahedral' 'octahedral' nan 'wire' 'flower'\n",
      " 'egg' 'rod' 'quasi-spherical' 'cube' 'octopod' 'octahedral ' 'cubic'\n",
      " 'triangle' 'hexahedron' 'quasi-sphere' 'polyhedral' 'pseudo-spherical'\n",
      " 'pseudospherically' 'hexagonal' 'octahedron']\n"
     ]
    }
   ],
   "source": [
    "print(df['shape'].unique()) # Как можно заметить многие формы являются одним и тем же, сгруппируем"
   ]
  },
  {
   "cell_type": "code",
   "execution_count": 38,
   "metadata": {},
   "outputs": [],
   "source": [
    "# Составим словарь для форм\n",
    "dict_shape = { 1: ['sphere', 'quasi-spherical', 'quasi-sphere', 'pseudo-spherical', 'pseudospherically', 'egg', 'flower', 'polyhedron', 'polyhedral'], \n",
    "               2: ['octahedral', 'octahedron', 'octahedral '], \n",
    "               3: ['cubic', 'cube', 'hexahedron'], \n",
    "               4: ['hexagonal'], # hexagonal написано в статье, поэтому считаем как плоскую фигуру\n",
    "               5: ['tetrahedral', 'triangle', 'tetrahedron'], \n",
    "               6: ['wire', 'rod', 'whisker'], \n",
    "               7: ['octopod', 'octopode']\n",
    "}"
   ]
  },
  {
   "cell_type": "code",
   "execution_count": 39,
   "metadata": {},
   "outputs": [],
   "source": [
    "# Перевеём значения формы в цифры\n",
    "for key, values in dict_shape.items():\n",
    "    df['shape'] = df['shape'].replace(values, key)"
   ]
  },
  {
   "cell_type": "code",
   "execution_count": 40,
   "metadata": {},
   "outputs": [
    {
     "name": "stdout",
     "output_type": "stream",
     "text": [
      "[ 1.  5.  2. nan  6.  3.  7.  4.]\n"
     ]
    }
   ],
   "source": [
    "print(df['shape'].unique())"
   ]
  },
  {
   "cell_type": "markdown",
   "metadata": {},
   "source": [
    "# Поработаем с пропусками"
   ]
  },
  {
   "cell_type": "code",
   "execution_count": 83,
   "metadata": {},
   "outputs": [
    {
     "name": "stdout",
     "output_type": "stream",
     "text": [
      "<class 'pandas.core.frame.DataFrame'>\n",
      "RangeIndex: 568 entries, 0 to 567\n",
      "Data columns (total 41 columns):\n",
      " #   Column                                         Non-Null Count  Dtype  \n",
      "---  ------                                         --------------  -----  \n",
      " 0   unnamed: 0                                     568 non-null    int64  \n",
      " 1   id                                             568 non-null    int64  \n",
      " 2   c1                                             568 non-null    object \n",
      " 3   c2                                             0 non-null      float64\n",
      " 4   c3                                             0 non-null      float64\n",
      " 5   formula_combined                               568 non-null    object \n",
      " 6   chemical_formula                               0 non-null      float64\n",
      " 7   x                                              568 non-null    float64\n",
      " 8   y                                              568 non-null    float64\n",
      " 9   z                                              568 non-null    float64\n",
      " 10  sphericity                                     568 non-null    float64\n",
      " 11  shape                                          0 non-null      float64\n",
      " 12  area/volume                                    568 non-null    float64\n",
      " 13  max/min                                        568 non-null    float64\n",
      " 14  space_group_core                               568 non-null    float64\n",
      " 15  space_group_shell                              568 non-null    int64  \n",
      " 16  crystal_structure                              0 non-null      float64\n",
      " 17  coer_oe                                        568 non-null    float64\n",
      " 18  sat_em_g                                       568 non-null    float64\n",
      " 19  mr (emu/g)                                     568 non-null    float64\n",
      " 20  exc_bias_oe                                    0 non-null      float64\n",
      " 21  ver_shift_emu_g                                0 non-null      float64\n",
      " 22  temperature_k                                  0 non-null      float64\n",
      " 23  fc_field_t                                     0 non-null      float64\n",
      " 24  h_range_max_koe                                0 non-null      float64\n",
      " 25  mass_ratio                                     0 non-null      float64\n",
      " 26  exc_dir                                        0 non-null      float64\n",
      " 27  ver_s_dir                                      0 non-null      float64\n",
      " 28  common_spin                                    568 non-null    float64\n",
      " 29  effective anisotropy constant (j/m3)           568 non-null    float64\n",
      " 30  magnetic anisotropy constant (j/m3)            568 non-null    float64\n",
      " 31  magnetocrystalline anisotropy constant (j/m3)  568 non-null    int64  \n",
      " 32  anisotropy constant                            568 non-null    float64\n",
      " 33  crystalline                                    0 non-null      float64\n",
      " 34  mae                                            568 non-null    float64\n",
      " 35  curie temperature (k)                          568 non-null    float64\n",
      " 36  exchange constant (j/m) *10^-12                568 non-null    float64\n",
      " 37  electronegativity core                         568 non-null    float64\n",
      " 38  demagnetization factors (nd)                   568 non-null    float64\n",
      " 39  interdomain coupling (alpha)                   568 non-null    float64\n",
      " 40  mass_magnetic_susceptibility(emu/oe*g)         568 non-null    float64\n",
      "dtypes: float64(35), int64(4), object(2)\n",
      "memory usage: 182.1+ KB\n",
      "None\n"
     ]
    }
   ],
   "source": [
    "print(df.info())"
   ]
  },
  {
   "cell_type": "code",
   "execution_count": 42,
   "metadata": {},
   "outputs": [
    {
     "name": "stdout",
     "output_type": "stream",
     "text": [
      "<class 'pandas.core.frame.DataFrame'>\n",
      "RangeIndex: 533 entries, 0 to 532\n",
      "Data columns (total 13 columns):\n",
      " #   Column            Non-Null Count  Dtype  \n",
      "---  ------            --------------  -----  \n",
      " 0   coer_oe           510 non-null    float64\n",
      " 1   exc_bias_oe       500 non-null    float64\n",
      " 2   fc_field_t        508 non-null    float64\n",
      " 3   h_range_max_koe   526 non-null    float64\n",
      " 4   id                533 non-null    int64  \n",
      " 5   length_d_nm       521 non-null    float64\n",
      " 6   mr (emu/g)        430 non-null    float64\n",
      " 7   sat_em_g          420 non-null    float64\n",
      " 8   shape             493 non-null    float64\n",
      " 9   space_group_core  532 non-null    object \n",
      " 10  temperature_k     528 non-null    float64\n",
      " 11  ver_shift_emu_g   441 non-null    float64\n",
      " 12  width_nm          521 non-null    float64\n",
      "dtypes: float64(11), int64(1), object(1)\n",
      "memory usage: 54.3+ KB\n",
      "None\n"
     ]
    }
   ],
   "source": [
    "# Создадим копию датасета\n",
    "df_copy = df.copy()\n",
    "df_copy  = df_copy.drop(columns=['c1', 'c2', 'c3', 'chemical_formula', 'crystal_structure', 'depth_nm', 'space_group_shell', 'structure', 'structure_', 'formula_combined'])\n",
    "print(df_copy.info())"
   ]
  },
  {
   "cell_type": "code",
   "execution_count": 43,
   "metadata": {},
   "outputs": [],
   "source": [
    "# Преобразование типа данных в числовой\n",
    "df_copy['shape'] = df_copy['shape'].astype('float64')\n",
    "df_copy['space_group_core'] = df_copy['space_group_core'].astype('float64')\n",
    "\n",
    "# Заполнение пропущенных значений в категориальных признаках модой\n",
    "df_copy['shape'] = df_copy['shape'].fillna(df_copy['shape'].mode()[0])\n",
    "df_copy['space_group_core'] = df_copy['space_group_core'].fillna(df_copy['space_group_core'].mode()[0])\n",
    "\n",
    "# Преобразование типа данных в категориальный\n",
    "df_copy['shape'] = df_copy['shape'].astype('category')\n",
    "df_copy['space_group_core'] = df_copy['space_group_core'].astype('category')"
   ]
  },
  {
   "cell_type": "code",
   "execution_count": 44,
   "metadata": {},
   "outputs": [
    {
     "name": "stderr",
     "output_type": "stream",
     "text": [
      "C:\\Users\\Ксения\\AppData\\Roaming\\Python\\Python311\\site-packages\\IPython\\lib\\pretty.py:779: FutureWarning: Index.ravel returning ndarray is deprecated; in a future version this will return a view on self.\n",
      "  output = repr(obj)\n"
     ]
    },
    {
     "data": {
      "text/plain": [
       "[1.0, 5.0, 2.0, 6.0, 3.0, 7.0, 4.0]\n",
       "Categories (7, float64): [1.0, 2.0, 3.0, 4.0, 5.0, 6.0, 7.0]"
      ]
     },
     "execution_count": 44,
     "metadata": {},
     "output_type": "execute_result"
    }
   ],
   "source": [
    "df_copy['shape'].unique()"
   ]
  },
  {
   "cell_type": "code",
   "execution_count": 45,
   "metadata": {},
   "outputs": [
    {
     "name": "stdout",
     "output_type": "stream",
     "text": [
      "<class 'pandas.core.frame.DataFrame'>\n",
      "RangeIndex: 533 entries, 0 to 532\n",
      "Data columns (total 13 columns):\n",
      " #   Column            Non-Null Count  Dtype   \n",
      "---  ------            --------------  -----   \n",
      " 0   coer_oe           510 non-null    float64 \n",
      " 1   exc_bias_oe       500 non-null    float64 \n",
      " 2   fc_field_t        508 non-null    float64 \n",
      " 3   h_range_max_koe   526 non-null    float64 \n",
      " 4   id                533 non-null    int64   \n",
      " 5   length_d_nm       521 non-null    float64 \n",
      " 6   mr (emu/g)        430 non-null    float64 \n",
      " 7   sat_em_g          420 non-null    float64 \n",
      " 8   shape             533 non-null    category\n",
      " 9   space_group_core  533 non-null    category\n",
      " 10  temperature_k     528 non-null    float64 \n",
      " 11  ver_shift_emu_g   441 non-null    float64 \n",
      " 12  width_nm          521 non-null    float64 \n",
      "dtypes: category(2), float64(10), int64(1)\n",
      "memory usage: 48.0 KB\n"
     ]
    }
   ],
   "source": [
    "df_copy.info()"
   ]
  },
  {
   "cell_type": "code",
   "execution_count": 46,
   "metadata": {},
   "outputs": [
    {
     "data": {
      "text/plain": [
       "array([        nan, 2.29000e+00, 2.43000e+00, 1.61500e+01, 1.87500e+01,\n",
       "       8.14800e+01, 1.32350e+00, 1.35290e+00, 1.38230e+00, 1.44117e+00,\n",
       "       6.50000e-01, 6.60000e-01, 2.66000e+01, 2.64000e+01, 1.52000e+01,\n",
       "       1.47000e+01, 1.60000e+01, 1.65000e+01, 1.27500e+01, 1.86100e+01,\n",
       "       2.45200e+01, 2.94200e+01, 7.50000e+01, 1.20000e-01, 7.45950e+01,\n",
       "       7.91670e+01, 8.32590e+01, 8.59000e+01, 8.70000e+01, 8.75000e+01,\n",
       "       8.73490e+01, 8.78300e+01, 6.90000e+00, 6.00000e+01, 3.84570e+02,\n",
       "       3.26600e+02, 3.50000e+01, 4.10000e+01, 5.30000e+01, 3.77000e+01,\n",
       "       3.70000e+01, 3.29000e+01, 3.36000e+01, 5.48000e+01, 1.80000e-01,\n",
       "       7.02640e+01, 3.13300e+01, 4.00300e+01, 3.30000e+01, 4.48900e+01,\n",
       "       5.20000e+01, 5.13850e+01, 5.21800e+01, 5.03000e+01, 5.02750e+01,\n",
       "       4.89100e+01, 5.10000e+01, 4.88500e+01, 5.06000e+01, 5.25000e+01,\n",
       "       4.61100e+01, 4.57800e+01, 5.70000e+01, 5.50000e+01, 4.50000e+01,\n",
       "       1.25900e+00, 8.45500e-01, 6.46000e-01, 1.24000e+00, 8.40000e-01,\n",
       "       6.72000e-01, 6.30000e+01, 5.99500e+01, 5.54000e+01, 9.73000e+01,\n",
       "       9.74500e+01, 9.09500e+01, 1.83000e+01, 1.30000e+01, 1.08500e+01,\n",
       "       2.47500e+01, 2.54500e+01, 1.92100e+01, 2.00000e+01, 5.43600e+01,\n",
       "       3.17290e+01, 4.41400e+01, 3.10000e+01, 8.40000e+01, 1.51225e+01,\n",
       "       1.52465e+01, 3.89000e+01, 9.89000e-01, 5.22700e+00, 2.08620e+01,\n",
       "       7.53800e+00, 5.94200e+00, 2.08700e+01, 2.50000e-03, 3.50000e-03,\n",
       "       4.50000e-03, 4.70000e-03, 2.60000e+00, 2.94000e+01, 2.16260e+01,\n",
       "       2.04000e+01, 1.34400e+01, 1.01000e+01, 8.60000e+00, 8.69000e+01,\n",
       "       5.53000e+01, 5.57000e+01, 2.50000e-02, 1.72000e-01, 1.15000e-01,\n",
       "       3.44000e-01, 5.80000e+00, 3.05000e+00, 1.57450e+00, 1.58500e+00,\n",
       "       1.18350e+00, 3.00000e+01, 1.22000e+02, 1.16000e+02, 1.05000e+02,\n",
       "       9.04200e+01, 5.69000e+01, 3.20000e+01, 9.55000e+00, 4.60000e+00,\n",
       "       3.00000e+00, 5.90000e+01, 4.03600e+01, 3.80000e+01, 3.88000e+01,\n",
       "       4.50000e+00, 1.34600e+01, 1.71700e+01, 3.53800e+01, 5.63120e+01,\n",
       "       6.53200e+01, 6.45400e+01, 9.60000e+01, 7.72700e+01, 3.50000e+00,\n",
       "       2.27180e-01, 5.32000e+00, 1.36800e+00, 4.00000e-01, 1.00600e+02,\n",
       "       7.61000e+01, 7.46000e+01, 3.12090e-01, 5.65320e-01, 7.84910e-01,\n",
       "       1.89780e-01, 3.19560e-01, 1.51460e-01, 7.76000e+01, 7.60000e+01,\n",
       "       8.88000e+01, 8.32000e+01, 8.07000e+01, 8.10000e+01, 8.38000e+01,\n",
       "       2.46000e+01, 1.04000e+01, 8.30000e+00, 5.08600e+01, 6.60000e+01,\n",
       "       5.88000e+00, 5.68000e+00, 5.74000e+00, 5.67000e+00, 4.53000e+00,\n",
       "       4.05000e+00, 3.82000e+00, 2.94000e+00, 2.53000e+00, 1.46900e+00,\n",
       "       3.23400e+00, 3.09000e+00, 4.61000e+00, 8.01000e+00, 1.22100e+01,\n",
       "       2.84100e+01, 4.03100e+01, 3.78150e+01, 3.69700e+01, 3.61300e+01,\n",
       "       5.04000e+01, 5.37800e+01, 3.90700e+01, 7.04000e+01, 6.99000e+01,\n",
       "       1.34000e+01, 1.29000e+01, 1.76000e+01, 2.16000e+01, 3.15000e+01,\n",
       "       1.61000e+01, 1.49000e+01, 3.54700e-01, 3.75000e-01, 3.69800e-01,\n",
       "       4.08000e-01, 2.42000e+00, 7.79600e+01, 7.44000e+01, 7.39700e+01,\n",
       "       7.54800e+01, 7.48300e+01, 6.99700e+01, 4.51000e+01, 4.34000e+01,\n",
       "       4.00000e+01, 2.57400e+01, 6.61600e+01, 3.06800e+01, 2.75500e+01,\n",
       "       3.01100e+01, 3.30600e+01, 3.54000e+01, 3.78000e+01, 5.97800e+01,\n",
       "       1.12416e+02, 3.71700e+01, 3.33850e+01, 2.97350e+01, 2.72600e+01,\n",
       "       2.41280e+01, 2.15000e+01, 1.01250e+02, 8.00000e+01, 3.29500e+00,\n",
       "       1.27800e+00, 2.26000e+00, 1.72000e+00, 6.58200e+01, 6.67200e+01,\n",
       "       5.12200e+01, 5.44200e+01, 5.89100e+01, 4.59200e+01, 7.33200e+01,\n",
       "       7.46200e+01, 5.79200e+01, 5.99200e+01, 6.54200e+01, 5.16200e+01,\n",
       "       4.12100e+01, 2.82800e+01, 2.08700e-01, 4.95000e+01, 3.37500e+01,\n",
       "       4.80000e+01, 1.90000e+01, 4.70000e+01, 1.63000e+01, 1.87000e+01,\n",
       "       6.20000e+00, 5.79000e+00, 5.75000e+00, 6.00000e+00, 5.97900e+00,\n",
       "       5.90000e+00, 6.15100e+00, 7.60000e+00, 8.00000e+00, 8.30000e+01,\n",
       "       3.36700e+00, 3.58500e+00, 2.15900e+00, 6.16000e+01, 6.32400e+01,\n",
       "       5.52000e+01, 7.28400e+01, 5.62500e+00, 7.00000e+00, 3.75000e+00,\n",
       "       4.75000e+00, 6.50000e+00, 7.37000e+00, 1.74000e+01, 2.03000e+01,\n",
       "       1.54000e+01, 1.79000e+01, 2.21000e+01, 1.98000e+01, 8.90000e+00,\n",
       "       1.30000e+00, 2.40000e+00, 1.85000e+01, 2.74000e+01, 3.22000e+01,\n",
       "       4.27000e+01, 3.81000e+01, 1.77000e+01, 3.45000e+01, 4.72000e+01,\n",
       "       3.84000e+01, 3.01700e+01, 3.05000e+01, 3.02500e+01, 3.03390e+01,\n",
       "       2.93200e+01, 2.79670e+01, 2.61870e+01, 3.08500e+01, 3.15380e+01,\n",
       "       3.04270e+01, 3.03400e+01, 3.03000e+01, 2.91440e+01, 2.76060e+01,\n",
       "       6.70000e+01, 4.60000e+01, 9.85000e+01, 8.33000e+01, 7.53000e+01,\n",
       "       8.63000e+01, 6.70000e+00, 7.20000e+00, 7.50000e+00, 4.30000e+00,\n",
       "       4.70000e+00, 5.00000e+00, 8.08800e+01, 1.09000e+02, 1.22800e+02,\n",
       "       7.33000e+01, 1.08000e+02, 9.40000e+01, 1.83000e+02, 1.62000e+02,\n",
       "       9.70000e+01, 1.22700e+02, 1.16780e+02, 1.10790e+02, 1.12490e+02,\n",
       "       1.18450e+02, 1.35010e+01, 1.11050e+01, 2.03650e+01, 6.34150e+01,\n",
       "       2.11400e+01, 1.69000e+01, 1.59380e+01, 1.50000e+01, 1.49600e+01,\n",
       "       7.02500e-01, 7.04000e-01, 7.08000e-01, 7.10000e-01, 4.50000e-01,\n",
       "       6.20000e-01, 5.50000e-01, 6.00000e-01, 3.37000e+01, 3.64000e+01,\n",
       "       3.68000e+01, 4.36000e+01, 4.68000e+01, 7.45000e+00, 7.25000e+00,\n",
       "       2.20000e+00, 8.38000e-01, 1.51450e+00, 1.62500e+00, 1.65000e+00,\n",
       "       1.65700e+00, 1.67650e+00, 1.27000e+00])"
      ]
     },
     "execution_count": 46,
     "metadata": {},
     "output_type": "execute_result"
    }
   ],
   "source": [
    "# Преобразуем тип столбцов из object в float64\n",
    "df_copy['coer_oe'] = df_copy['coer_oe'].astype('float64')\n",
    "df_copy['sat_em_g'] = df_copy['sat_em_g'].astype('float64')\n",
    "\n",
    "df_copy['sat_em_g'].unique()"
   ]
  },
  {
   "cell_type": "code",
   "execution_count": 47,
   "metadata": {},
   "outputs": [],
   "source": [
    "id = df_copy['id']"
   ]
  },
  {
   "cell_type": "code",
   "execution_count": 48,
   "metadata": {},
   "outputs": [
    {
     "name": "stdout",
     "output_type": "stream",
     "text": [
      "Процент пропущенных значений после заполнения: \n",
      "id                  0.0\n",
      "coer_oe             0.0\n",
      "exc_bias_oe         0.0\n",
      "fc_field_t          0.0\n",
      "h_range_max_koe     0.0\n",
      "length_d_nm         0.0\n",
      "mr (emu/g)          0.0\n",
      "sat_em_g            0.0\n",
      "shape               0.0\n",
      "space_group_core    0.0\n",
      "temperature_k       0.0\n",
      "ver_shift_emu_g     0.0\n",
      "width_nm            0.0\n",
      "dtype: float64\n"
     ]
    }
   ],
   "source": [
    "# Заполним значения с помощью KNN\n",
    "# Удалим ненужные столбцы из датасета для применения kNN\n",
    "df_for_kNN = df_copy.drop(columns=['id'])  # Уберите любые другие столбцы, которые вам не нужны для анализа\n",
    "\n",
    "# Нормализация данных\n",
    "scaler = StandardScaler()\n",
    "normalized_data = scaler.fit_transform(df_for_kNN)\n",
    "\n",
    "# Заполним пропущенные значения в датасете с помощью kNN\n",
    "imputer = KNNImputer(n_neighbors=5)\n",
    "imputed_data = imputer.fit_transform(normalized_data)\n",
    "df_imputed = pd.DataFrame(imputed_data, columns=df_for_kNN.columns)\n",
    "\n",
    "# Объединим заполненные данные с исходным датасетом\n",
    "df_filled = pd.concat([df_copy[['id']], df_imputed], axis=1)\n",
    "\n",
    "# Выведем информацию о пропущенных значениях после заполнения\n",
    "print(f'Процент пропущенных значений после заполнения: \\n{df_filled.isna().sum() * 100 / len(df_filled)}')"
   ]
  },
  {
   "cell_type": "code",
   "execution_count": 49,
   "metadata": {},
   "outputs": [
    {
     "name": "stdout",
     "output_type": "stream",
     "text": [
      "0      0.372228\n",
      "1      1.109612\n",
      "2     -0.814302\n",
      "3     -0.810971\n",
      "4     -0.484488\n",
      "         ...   \n",
      "528   -0.830127\n",
      "529   -0.829532\n",
      "530   -0.829365\n",
      "531   -0.828901\n",
      "532   -0.838574\n",
      "Name: sat_em_g, Length: 533, dtype: float64\n"
     ]
    }
   ],
   "source": [
    "print(df_filled['sat_em_g'])"
   ]
  },
  {
   "cell_type": "code",
   "execution_count": 58,
   "metadata": {},
   "outputs": [
    {
     "data": {
      "text/html": [
       "<div>\n",
       "<style scoped>\n",
       "    .dataframe tbody tr th:only-of-type {\n",
       "        vertical-align: middle;\n",
       "    }\n",
       "\n",
       "    .dataframe tbody tr th {\n",
       "        vertical-align: top;\n",
       "    }\n",
       "\n",
       "    .dataframe thead th {\n",
       "        text-align: right;\n",
       "    }\n",
       "</style>\n",
       "<table border=\"1\" class=\"dataframe\">\n",
       "  <thead>\n",
       "    <tr style=\"text-align: right;\">\n",
       "      <th></th>\n",
       "      <th>id</th>\n",
       "      <th>coer_oe</th>\n",
       "      <th>exc_bias_oe</th>\n",
       "      <th>fc_field_t</th>\n",
       "      <th>h_range_max_koe</th>\n",
       "      <th>length_d_nm</th>\n",
       "      <th>mr (emu/g)</th>\n",
       "      <th>sat_em_g</th>\n",
       "      <th>shape</th>\n",
       "      <th>space_group_core</th>\n",
       "      <th>temperature_k</th>\n",
       "      <th>ver_shift_emu_g</th>\n",
       "      <th>width_nm</th>\n",
       "    </tr>\n",
       "  </thead>\n",
       "  <tbody>\n",
       "    <tr>\n",
       "      <th>0</th>\n",
       "      <td>1</td>\n",
       "      <td>6.366860</td>\n",
       "      <td>-0.267574</td>\n",
       "      <td>0.589575</td>\n",
       "      <td>0.421082</td>\n",
       "      <td>-0.348494</td>\n",
       "      <td>-0.037091</td>\n",
       "      <td>0.372228</td>\n",
       "      <td>-0.417455</td>\n",
       "      <td>-0.078575</td>\n",
       "      <td>-0.663409</td>\n",
       "      <td>-0.127716</td>\n",
       "      <td>-0.344538</td>\n",
       "    </tr>\n",
       "    <tr>\n",
       "      <th>1</th>\n",
       "      <td>2</td>\n",
       "      <td>1.316404</td>\n",
       "      <td>0.114389</td>\n",
       "      <td>0.589575</td>\n",
       "      <td>0.421082</td>\n",
       "      <td>-0.350974</td>\n",
       "      <td>0.359060</td>\n",
       "      <td>1.109612</td>\n",
       "      <td>-0.417455</td>\n",
       "      <td>0.564722</td>\n",
       "      <td>-0.663409</td>\n",
       "      <td>-0.127716</td>\n",
       "      <td>-0.347955</td>\n",
       "    </tr>\n",
       "    <tr>\n",
       "      <th>2</th>\n",
       "      <td>3</td>\n",
       "      <td>-0.647012</td>\n",
       "      <td>0.355004</td>\n",
       "      <td>-0.672235</td>\n",
       "      <td>-1.090300</td>\n",
       "      <td>-0.288975</td>\n",
       "      <td>-0.221880</td>\n",
       "      <td>-0.814302</td>\n",
       "      <td>-0.417455</td>\n",
       "      <td>0.597712</td>\n",
       "      <td>1.828333</td>\n",
       "      <td>-0.127716</td>\n",
       "      <td>-0.262533</td>\n",
       "    </tr>\n",
       "    <tr>\n",
       "      <th>3</th>\n",
       "      <td>4</td>\n",
       "      <td>-0.630497</td>\n",
       "      <td>0.384909</td>\n",
       "      <td>-0.672235</td>\n",
       "      <td>-1.090300</td>\n",
       "      <td>-0.326174</td>\n",
       "      <td>-0.221692</td>\n",
       "      <td>-0.810971</td>\n",
       "      <td>-0.417455</td>\n",
       "      <td>0.597712</td>\n",
       "      <td>1.828333</td>\n",
       "      <td>-0.127716</td>\n",
       "      <td>-0.313786</td>\n",
       "    </tr>\n",
       "    <tr>\n",
       "      <th>4</th>\n",
       "      <td>5</td>\n",
       "      <td>-0.643156</td>\n",
       "      <td>0.332686</td>\n",
       "      <td>-0.672235</td>\n",
       "      <td>-1.090300</td>\n",
       "      <td>-0.319974</td>\n",
       "      <td>-0.217287</td>\n",
       "      <td>-0.484488</td>\n",
       "      <td>-0.417455</td>\n",
       "      <td>0.597712</td>\n",
       "      <td>1.828333</td>\n",
       "      <td>-0.127716</td>\n",
       "      <td>-0.305244</td>\n",
       "    </tr>\n",
       "    <tr>\n",
       "      <th>...</th>\n",
       "      <td>...</td>\n",
       "      <td>...</td>\n",
       "      <td>...</td>\n",
       "      <td>...</td>\n",
       "      <td>...</td>\n",
       "      <td>...</td>\n",
       "      <td>...</td>\n",
       "      <td>...</td>\n",
       "      <td>...</td>\n",
       "      <td>...</td>\n",
       "      <td>...</td>\n",
       "      <td>...</td>\n",
       "      <td>...</td>\n",
       "    </tr>\n",
       "    <tr>\n",
       "      <th>528</th>\n",
       "      <td>529</td>\n",
       "      <td>-0.364156</td>\n",
       "      <td>-0.115338</td>\n",
       "      <td>-0.167511</td>\n",
       "      <td>0.798928</td>\n",
       "      <td>-0.146379</td>\n",
       "      <td>-0.219896</td>\n",
       "      <td>-0.830127</td>\n",
       "      <td>-0.417455</td>\n",
       "      <td>-2.123929</td>\n",
       "      <td>-0.663409</td>\n",
       "      <td>-0.117288</td>\n",
       "      <td>-0.066063</td>\n",
       "    </tr>\n",
       "    <tr>\n",
       "      <th>529</th>\n",
       "      <td>530</td>\n",
       "      <td>-0.335096</td>\n",
       "      <td>-0.213909</td>\n",
       "      <td>0.084851</td>\n",
       "      <td>0.798928</td>\n",
       "      <td>-0.146379</td>\n",
       "      <td>-0.219903</td>\n",
       "      <td>-0.829532</td>\n",
       "      <td>-0.417455</td>\n",
       "      <td>-2.123929</td>\n",
       "      <td>-0.663409</td>\n",
       "      <td>-0.116222</td>\n",
       "      <td>-0.066063</td>\n",
       "    </tr>\n",
       "    <tr>\n",
       "      <th>530</th>\n",
       "      <td>531</td>\n",
       "      <td>-0.319313</td>\n",
       "      <td>-0.274150</td>\n",
       "      <td>0.337213</td>\n",
       "      <td>0.798928</td>\n",
       "      <td>-0.177378</td>\n",
       "      <td>-0.219755</td>\n",
       "      <td>-0.829365</td>\n",
       "      <td>-0.417455</td>\n",
       "      <td>-2.123929</td>\n",
       "      <td>-0.663409</td>\n",
       "      <td>-0.113627</td>\n",
       "      <td>-0.108774</td>\n",
       "    </tr>\n",
       "    <tr>\n",
       "      <th>531</th>\n",
       "      <td>532</td>\n",
       "      <td>-0.286460</td>\n",
       "      <td>-0.436247</td>\n",
       "      <td>0.589575</td>\n",
       "      <td>0.798928</td>\n",
       "      <td>-0.177378</td>\n",
       "      <td>-0.219762</td>\n",
       "      <td>-0.828901</td>\n",
       "      <td>-0.417455</td>\n",
       "      <td>-2.123929</td>\n",
       "      <td>-0.663409</td>\n",
       "      <td>-0.113812</td>\n",
       "      <td>-0.108774</td>\n",
       "    </tr>\n",
       "    <tr>\n",
       "      <th>532</th>\n",
       "      <td>533</td>\n",
       "      <td>-0.154186</td>\n",
       "      <td>-0.711834</td>\n",
       "      <td>0.841938</td>\n",
       "      <td>0.798928</td>\n",
       "      <td>-0.177378</td>\n",
       "      <td>-0.219701</td>\n",
       "      <td>-0.838574</td>\n",
       "      <td>-0.417455</td>\n",
       "      <td>-2.123929</td>\n",
       "      <td>-0.663409</td>\n",
       "      <td>-0.111958</td>\n",
       "      <td>-0.108774</td>\n",
       "    </tr>\n",
       "  </tbody>\n",
       "</table>\n",
       "<p>533 rows × 13 columns</p>\n",
       "</div>"
      ],
      "text/plain": [
       "      id   coer_oe  exc_bias_oe  fc_field_t  h_range_max_koe  length_d_nm  \\\n",
       "0      1  6.366860    -0.267574    0.589575         0.421082    -0.348494   \n",
       "1      2  1.316404     0.114389    0.589575         0.421082    -0.350974   \n",
       "2      3 -0.647012     0.355004   -0.672235        -1.090300    -0.288975   \n",
       "3      4 -0.630497     0.384909   -0.672235        -1.090300    -0.326174   \n",
       "4      5 -0.643156     0.332686   -0.672235        -1.090300    -0.319974   \n",
       "..   ...       ...          ...         ...              ...          ...   \n",
       "528  529 -0.364156    -0.115338   -0.167511         0.798928    -0.146379   \n",
       "529  530 -0.335096    -0.213909    0.084851         0.798928    -0.146379   \n",
       "530  531 -0.319313    -0.274150    0.337213         0.798928    -0.177378   \n",
       "531  532 -0.286460    -0.436247    0.589575         0.798928    -0.177378   \n",
       "532  533 -0.154186    -0.711834    0.841938         0.798928    -0.177378   \n",
       "\n",
       "     mr (emu/g)  sat_em_g     shape  space_group_core  temperature_k  \\\n",
       "0     -0.037091  0.372228 -0.417455         -0.078575      -0.663409   \n",
       "1      0.359060  1.109612 -0.417455          0.564722      -0.663409   \n",
       "2     -0.221880 -0.814302 -0.417455          0.597712       1.828333   \n",
       "3     -0.221692 -0.810971 -0.417455          0.597712       1.828333   \n",
       "4     -0.217287 -0.484488 -0.417455          0.597712       1.828333   \n",
       "..          ...       ...       ...               ...            ...   \n",
       "528   -0.219896 -0.830127 -0.417455         -2.123929      -0.663409   \n",
       "529   -0.219903 -0.829532 -0.417455         -2.123929      -0.663409   \n",
       "530   -0.219755 -0.829365 -0.417455         -2.123929      -0.663409   \n",
       "531   -0.219762 -0.828901 -0.417455         -2.123929      -0.663409   \n",
       "532   -0.219701 -0.838574 -0.417455         -2.123929      -0.663409   \n",
       "\n",
       "     ver_shift_emu_g  width_nm  \n",
       "0          -0.127716 -0.344538  \n",
       "1          -0.127716 -0.347955  \n",
       "2          -0.127716 -0.262533  \n",
       "3          -0.127716 -0.313786  \n",
       "4          -0.127716 -0.305244  \n",
       "..               ...       ...  \n",
       "528        -0.117288 -0.066063  \n",
       "529        -0.116222 -0.066063  \n",
       "530        -0.113627 -0.108774  \n",
       "531        -0.113812 -0.108774  \n",
       "532        -0.111958 -0.108774  \n",
       "\n",
       "[533 rows x 13 columns]"
      ]
     },
     "execution_count": 58,
     "metadata": {},
     "output_type": "execute_result"
    }
   ],
   "source": [
    "df_filled"
   ]
  },
  {
   "cell_type": "code",
   "execution_count": 51,
   "metadata": {},
   "outputs": [
    {
     "name": "stdout",
     "output_type": "stream",
     "text": [
      "<class 'pandas.core.frame.DataFrame'>\n",
      "RangeIndex: 533 entries, 0 to 532\n",
      "Data columns (total 13 columns):\n",
      " #   Column            Non-Null Count  Dtype  \n",
      "---  ------            --------------  -----  \n",
      " 0   id                533 non-null    int64  \n",
      " 1   coer_oe           533 non-null    float64\n",
      " 2   exc_bias_oe       533 non-null    float64\n",
      " 3   fc_field_t        533 non-null    float64\n",
      " 4   h_range_max_koe   533 non-null    float64\n",
      " 5   length_d_nm       533 non-null    float64\n",
      " 6   mr (emu/g)        533 non-null    float64\n",
      " 7   sat_em_g          533 non-null    float64\n",
      " 8   shape             533 non-null    float64\n",
      " 9   space_group_core  533 non-null    float64\n",
      " 10  temperature_k     533 non-null    float64\n",
      " 11  ver_shift_emu_g   533 non-null    float64\n",
      " 12  width_nm          533 non-null    float64\n",
      "dtypes: float64(12), int64(1)\n",
      "memory usage: 54.3 KB\n"
     ]
    }
   ],
   "source": [
    "df_filled.info()"
   ]
  },
  {
   "cell_type": "code",
   "execution_count": 52,
   "metadata": {},
   "outputs": [
    {
     "name": "stdout",
     "output_type": "stream",
     "text": [
      "[5.2152400e+01 8.3140000e+01 2.2900000e+00 2.4300000e+00 1.6150000e+01\n",
      " 1.8750000e+01 8.1480000e+01 1.3235000e+00 1.3529000e+00 1.3823000e+00\n",
      " 1.4411700e+00 6.5000000e-01 6.6000000e-01 2.6600000e+01 2.6400000e+01\n",
      " 1.5200000e+01 1.4700000e+01 1.6000000e+01 1.6500000e+01 1.2750000e+01\n",
      " 1.8610000e+01 2.4520000e+01 2.9420000e+01 7.5000000e+01 1.2000000e-01\n",
      " 7.4595000e+01 7.9167000e+01 8.3259000e+01 8.5900000e+01 8.7000000e+01\n",
      " 8.7500000e+01 8.7349000e+01 8.7830000e+01 1.8372000e+01 3.1360000e+01\n",
      " 5.5691200e+01 2.0040000e+01 3.1040000e+01 6.9000000e+00 6.0000000e+01\n",
      " 3.8457000e+02 3.2660000e+02 3.5000000e+01 4.1000000e+01 5.3000000e+01\n",
      " 3.7700000e+01 3.7000000e+01 3.2900000e+01 3.3600000e+01 5.4800000e+01\n",
      " 1.8000000e-01 7.0264000e+01 3.1330000e+01 4.0030000e+01 3.3000000e+01\n",
      " 4.4890000e+01 1.3127000e+00 4.3278000e+01 3.0996300e+01 5.2000000e+01\n",
      " 5.1385000e+01 5.2180000e+01 6.0513000e+01 5.0300000e+01 5.0275000e+01\n",
      " 4.8910000e+01 5.1000000e+01 4.8850000e+01 5.0600000e+01 5.2500000e+01\n",
      " 4.6110000e+01 4.5780000e+01 5.7000000e+01 5.5000000e+01 4.5000000e+01\n",
      " 1.2590000e+00 8.4550000e-01 6.4600000e-01 1.2400000e+00 8.4000000e-01\n",
      " 6.7200000e-01 6.3000000e+01 5.9950000e+01 5.5400000e+01 9.7300000e+01\n",
      " 9.7450000e+01 9.0950000e+01 1.8300000e+01 1.3000000e+01 1.0850000e+01\n",
      " 2.4750000e+01 2.5450000e+01 1.9210000e+01 2.0000000e+01 5.4360000e+01\n",
      " 3.1729000e+01 4.4140000e+01 3.1000000e+01 8.4000000e+01 1.5122500e+01\n",
      " 1.5246500e+01 5.3711800e+01 3.2528800e+01 3.8900000e+01 9.8900000e-01\n",
      " 5.2270000e+00 4.8348000e+01 2.0862000e+01 7.5380000e+00 5.9420000e+00\n",
      " 2.0870000e+01 1.1450636e+01 6.4749200e+01 2.5000000e-03 3.5000000e-03\n",
      " 1.0471600e+02 4.9988000e+01 4.5000000e-03 4.7000000e-03 1.0698600e+01\n",
      " 8.3227000e+00 2.4520200e+01 2.9517600e+01 2.6000000e+00 2.9400000e+01\n",
      " 2.1626000e+01 2.0400000e+01 1.3440000e+01 1.0100000e+01 8.6000000e+00\n",
      " 6.6040000e+01 5.8440000e+01 8.6900000e+01 5.5300000e+01 5.5700000e+01\n",
      " 2.5000000e-02 1.7200000e-01 1.1500000e-01 3.4400000e-01 2.5307800e+01\n",
      " 2.2518000e+00 2.4798000e+00 5.9641740e+01 7.0369740e+01 5.1242000e+01\n",
      " 5.8000000e+00 3.0500000e+00 1.5745000e+00 1.5850000e+00 1.1835000e+00\n",
      " 3.0000000e+01 1.2200000e+02 1.1600000e+02 1.0500000e+02 9.0420000e+01\n",
      " 5.6900000e+01 3.2000000e+01 9.5500000e+00 4.6000000e+00 3.0000000e+00\n",
      " 4.6005960e+01 4.4944900e+01 2.7732700e+01 3.3639300e+01 5.9000000e+01\n",
      " 6.5782400e+01 3.5671200e+01 4.0360000e+01 3.8000000e+01 3.8800000e+01\n",
      " 4.5000000e+00 1.3460000e+01 1.7170000e+01 3.5380000e+01 5.6312000e+01\n",
      " 4.2025400e+01 5.8838000e+01 6.3986000e+01 3.2540000e+01 2.1980000e+01\n",
      " 5.8236000e+01 1.2678000e+02 6.5320000e+01 6.4540000e+01 9.6000000e+01\n",
      " 7.7270000e+01 3.5000000e+00 2.2718000e-01 5.3200000e+00 1.8044000e+00\n",
      " 1.3680000e+00 4.0000000e-01 1.0060000e+02 7.6100000e+01 7.4600000e+01\n",
      " 3.1209000e-01 5.6532000e-01 7.8491000e-01 1.8978000e-01 3.1956000e-01\n",
      " 1.5146000e-01 7.7600000e+01 7.6000000e+01 8.8800000e+01 8.3200000e+01\n",
      " 8.0700000e+01 8.1000000e+01 8.3800000e+01 1.7800000e+01 5.0042400e+01\n",
      " 4.3640000e+01 2.4600000e+01 1.0400000e+01 8.3000000e+00 5.0860000e+01\n",
      " 6.6000000e+01 5.8800000e+00 5.6800000e+00 5.7400000e+00 5.6700000e+00\n",
      " 4.5300000e+00 4.0500000e+00 3.8200000e+00 2.9400000e+00 2.5300000e+00\n",
      " 1.4690000e+00 3.2340000e+00 3.0900000e+00 4.6100000e+00 8.0100000e+00\n",
      " 1.2210000e+01 2.8410000e+01 4.0310000e+01 3.7815000e+01 3.6970000e+01\n",
      " 3.6130000e+01 5.0400000e+01 5.3780000e+01 3.9070000e+01 7.0400000e+01\n",
      " 6.9900000e+01 1.3400000e+01 1.2900000e+01 1.7600000e+01 2.1600000e+01\n",
      " 3.1500000e+01 1.6100000e+01 1.4900000e+01 3.5470000e-01 3.7500000e-01\n",
      " 3.6980000e-01 4.0800000e-01 2.4200000e+00 6.8000000e+01 4.8050000e+01\n",
      " 7.7960000e+01 7.4400000e+01 7.3970000e+01 7.5480000e+01 7.4830000e+01\n",
      " 6.9970000e+01 4.5100000e+01 4.3400000e+01 4.0000000e+01 2.5740000e+01\n",
      " 5.5724000e+01 6.6160000e+01 4.2869634e+01 3.7204934e+01 3.0680000e+01\n",
      " 2.7550000e+01 3.0110000e+01 3.3060000e+01 3.5400000e+01 3.7800000e+01\n",
      " 5.9780000e+01 1.1241600e+02 3.7170000e+01 3.3385000e+01 2.9735000e+01\n",
      " 2.7260000e+01 2.4128000e+01 2.1500000e+01 3.1688000e+01 5.6513200e+01\n",
      " 3.9227800e+01 1.0125000e+02 8.0000000e+01 3.2950000e+00 1.2780000e+00\n",
      " 2.2600000e+00 1.7200000e+00 6.5820000e+01 6.6720000e+01 5.1220000e+01\n",
      " 5.4420000e+01 5.8910000e+01 4.5920000e+01 7.3320000e+01 7.4620000e+01\n",
      " 5.7920000e+01 5.9920000e+01 6.5420000e+01 5.1620000e+01 4.1210000e+01\n",
      " 2.8280000e+01 8.7201740e+01 2.0870000e-01 4.9500000e+01 3.3750000e+01\n",
      " 4.8000000e+01 1.9000000e+01 4.7000000e+01 1.6300000e+01 1.8700000e+01\n",
      " 9.3950000e+00 6.2000000e+00 5.7900000e+00 5.7500000e+00 6.0000000e+00\n",
      " 5.9790000e+00 5.9000000e+00 6.1510000e+00 7.6000000e+00 8.0000000e+00\n",
      " 8.3000000e+01 3.3670000e+00 3.5850000e+00 2.1590000e+00 6.1600000e+01\n",
      " 6.3240000e+01 5.5200000e+01 7.2840000e+01 5.6250000e+00 7.0000000e+00\n",
      " 3.7500000e+00 4.7500000e+00 6.5000000e+00 7.3700000e+00 1.7400000e+01\n",
      " 2.0300000e+01 1.5400000e+01 1.7900000e+01 2.2100000e+01 1.9800000e+01\n",
      " 8.9000000e+00 1.3000000e+00 2.4000000e+00 1.8500000e+01 2.7400000e+01\n",
      " 3.2200000e+01 4.2700000e+01 3.8100000e+01 1.7700000e+01 3.4500000e+01\n",
      " 4.7200000e+01 3.8400000e+01 3.0170000e+01 3.0500000e+01 3.0250000e+01\n",
      " 3.0339000e+01 2.9320000e+01 2.7967000e+01 2.6187000e+01 3.0850000e+01\n",
      " 3.1538000e+01 3.0427000e+01 3.0340000e+01 3.0300000e+01 2.9144000e+01\n",
      " 2.7606000e+01 5.3060000e+01 5.0740000e+01 4.5305900e+01 4.3435500e+01\n",
      " 6.7000000e+01 4.6000000e+01 9.8500000e+01 8.3300000e+01 7.5300000e+01\n",
      " 8.6300000e+01 6.7000000e+00 7.2000000e+00 7.5000000e+00 4.3000000e+00\n",
      " 4.7000000e+00 5.0000000e+00 8.0880000e+01 1.0900000e+02 1.2280000e+02\n",
      " 7.3300000e+01 1.0800000e+02 9.4000000e+01 1.8300000e+02 1.6200000e+02\n",
      " 9.7000000e+01 1.2270000e+02 1.1678000e+02 1.1079000e+02 1.1249000e+02\n",
      " 1.1845000e+02 1.3501000e+01 1.1105000e+01 2.0365000e+01 6.3415000e+01\n",
      " 2.1140000e+01 1.6900000e+01 1.5938000e+01 1.5000000e+01 1.4960000e+01\n",
      " 4.6391200e+01 4.6867200e+01 5.7462400e+01 2.9973600e+01 4.2387800e+01\n",
      " 3.2949400e+01 7.0250000e-01 6.8490000e-01 7.0400000e-01 7.0800000e-01\n",
      " 7.1000000e-01 4.5000000e-01 6.2000000e-01 5.5000000e-01 6.0000000e-01\n",
      " 7.8096000e+01 6.9880000e+01 3.3700000e+01 3.6400000e+01 3.6800000e+01\n",
      " 4.3600000e+01 4.6800000e+01 7.4500000e+00 6.0563000e+00 1.8716300e+01\n",
      " 6.0563000e+00 7.2500000e+00 2.2000000e+00 8.3800000e-01 1.4667340e+00\n",
      " 4.5772700e+01 1.5145000e+00 1.6250000e+00 1.6500000e+00 1.6570000e+00\n",
      " 1.6765000e+00 1.2700000e+00]\n"
     ]
    }
   ],
   "source": [
    "# Преобразование обратно в наши значения\n",
    "org_copy = scaler.inverse_transform(df_filled.iloc[:, 1:]) # Без столбца id\n",
    "df_recopy = pd.DataFrame(org_copy, columns=df_filled.columns[1:]) # Данные в исходном виде\n",
    "\n",
    "df_recopy['id'] = id\n",
    "print(df_recopy['sat_em_g'].unique())"
   ]
  },
  {
   "cell_type": "code",
   "execution_count": 60,
   "metadata": {},
   "outputs": [
    {
     "data": {
      "text/html": [
       "<div>\n",
       "<style scoped>\n",
       "    .dataframe tbody tr th:only-of-type {\n",
       "        vertical-align: middle;\n",
       "    }\n",
       "\n",
       "    .dataframe tbody tr th {\n",
       "        vertical-align: top;\n",
       "    }\n",
       "\n",
       "    .dataframe thead th {\n",
       "        text-align: right;\n",
       "    }\n",
       "</style>\n",
       "<table border=\"1\" class=\"dataframe\">\n",
       "  <thead>\n",
       "    <tr style=\"text-align: right;\">\n",
       "      <th></th>\n",
       "      <th>coer_oe</th>\n",
       "      <th>exc_bias_oe</th>\n",
       "      <th>fc_field_t</th>\n",
       "      <th>h_range_max_koe</th>\n",
       "      <th>length_d_nm</th>\n",
       "      <th>mr (emu/g)</th>\n",
       "      <th>sat_em_g</th>\n",
       "      <th>shape</th>\n",
       "      <th>space_group_core</th>\n",
       "      <th>temperature_k</th>\n",
       "      <th>ver_shift_emu_g</th>\n",
       "      <th>width_nm</th>\n",
       "      <th>id</th>\n",
       "    </tr>\n",
       "  </thead>\n",
       "  <tbody>\n",
       "    <tr>\n",
       "      <th>0</th>\n",
       "      <td>27800.00</td>\n",
       "      <td>-1132.000</td>\n",
       "      <td>5.0</td>\n",
       "      <td>50.0</td>\n",
       "      <td>7.4</td>\n",
       "      <td>13.76705</td>\n",
       "      <td>52.1524</td>\n",
       "      <td>1.0</td>\n",
       "      <td>186.0</td>\n",
       "      <td>5.0</td>\n",
       "      <td>0.0000</td>\n",
       "      <td>7.4</td>\n",
       "      <td>1</td>\n",
       "    </tr>\n",
       "    <tr>\n",
       "      <th>1</th>\n",
       "      <td>7800.00</td>\n",
       "      <td>-406.000</td>\n",
       "      <td>5.0</td>\n",
       "      <td>50.0</td>\n",
       "      <td>7.0</td>\n",
       "      <td>43.26420</td>\n",
       "      <td>83.1400</td>\n",
       "      <td>1.0</td>\n",
       "      <td>225.0</td>\n",
       "      <td>5.0</td>\n",
       "      <td>0.0000</td>\n",
       "      <td>7.0</td>\n",
       "      <td>2</td>\n",
       "    </tr>\n",
       "    <tr>\n",
       "      <th>2</th>\n",
       "      <td>24.80</td>\n",
       "      <td>51.340</td>\n",
       "      <td>0.0</td>\n",
       "      <td>10.0</td>\n",
       "      <td>17.0</td>\n",
       "      <td>0.00780</td>\n",
       "      <td>2.2900</td>\n",
       "      <td>1.0</td>\n",
       "      <td>227.0</td>\n",
       "      <td>300.0</td>\n",
       "      <td>0.0000</td>\n",
       "      <td>17.0</td>\n",
       "      <td>3</td>\n",
       "    </tr>\n",
       "    <tr>\n",
       "      <th>3</th>\n",
       "      <td>90.20</td>\n",
       "      <td>108.180</td>\n",
       "      <td>0.0</td>\n",
       "      <td>10.0</td>\n",
       "      <td>11.0</td>\n",
       "      <td>0.02180</td>\n",
       "      <td>2.4300</td>\n",
       "      <td>1.0</td>\n",
       "      <td>227.0</td>\n",
       "      <td>300.0</td>\n",
       "      <td>0.0000</td>\n",
       "      <td>11.0</td>\n",
       "      <td>4</td>\n",
       "    </tr>\n",
       "    <tr>\n",
       "      <th>4</th>\n",
       "      <td>40.07</td>\n",
       "      <td>8.920</td>\n",
       "      <td>0.0</td>\n",
       "      <td>10.0</td>\n",
       "      <td>12.0</td>\n",
       "      <td>0.34980</td>\n",
       "      <td>16.1500</td>\n",
       "      <td>1.0</td>\n",
       "      <td>227.0</td>\n",
       "      <td>300.0</td>\n",
       "      <td>0.0000</td>\n",
       "      <td>12.0</td>\n",
       "      <td>5</td>\n",
       "    </tr>\n",
       "    <tr>\n",
       "      <th>...</th>\n",
       "      <td>...</td>\n",
       "      <td>...</td>\n",
       "      <td>...</td>\n",
       "      <td>...</td>\n",
       "      <td>...</td>\n",
       "      <td>...</td>\n",
       "      <td>...</td>\n",
       "      <td>...</td>\n",
       "      <td>...</td>\n",
       "      <td>...</td>\n",
       "      <td>...</td>\n",
       "      <td>...</td>\n",
       "      <td>...</td>\n",
       "    </tr>\n",
       "    <tr>\n",
       "      <th>528</th>\n",
       "      <td>1144.92</td>\n",
       "      <td>-842.644</td>\n",
       "      <td>2.0</td>\n",
       "      <td>60.0</td>\n",
       "      <td>40.0</td>\n",
       "      <td>0.15550</td>\n",
       "      <td>1.6250</td>\n",
       "      <td>1.0</td>\n",
       "      <td>62.0</td>\n",
       "      <td>5.0</td>\n",
       "      <td>0.1125</td>\n",
       "      <td>40.0</td>\n",
       "      <td>529</td>\n",
       "    </tr>\n",
       "    <tr>\n",
       "      <th>529</th>\n",
       "      <td>1260.00</td>\n",
       "      <td>-1030.000</td>\n",
       "      <td>3.0</td>\n",
       "      <td>60.0</td>\n",
       "      <td>40.0</td>\n",
       "      <td>0.15500</td>\n",
       "      <td>1.6500</td>\n",
       "      <td>1.0</td>\n",
       "      <td>62.0</td>\n",
       "      <td>5.0</td>\n",
       "      <td>0.1240</td>\n",
       "      <td>40.0</td>\n",
       "      <td>530</td>\n",
       "    </tr>\n",
       "    <tr>\n",
       "      <th>530</th>\n",
       "      <td>1322.50</td>\n",
       "      <td>-1144.500</td>\n",
       "      <td>4.0</td>\n",
       "      <td>60.0</td>\n",
       "      <td>35.0</td>\n",
       "      <td>0.16600</td>\n",
       "      <td>1.6570</td>\n",
       "      <td>1.0</td>\n",
       "      <td>62.0</td>\n",
       "      <td>5.0</td>\n",
       "      <td>0.1520</td>\n",
       "      <td>35.0</td>\n",
       "      <td>531</td>\n",
       "    </tr>\n",
       "    <tr>\n",
       "      <th>531</th>\n",
       "      <td>1452.60</td>\n",
       "      <td>-1452.600</td>\n",
       "      <td>5.0</td>\n",
       "      <td>60.0</td>\n",
       "      <td>35.0</td>\n",
       "      <td>0.16550</td>\n",
       "      <td>1.6765</td>\n",
       "      <td>1.0</td>\n",
       "      <td>62.0</td>\n",
       "      <td>5.0</td>\n",
       "      <td>0.1500</td>\n",
       "      <td>35.0</td>\n",
       "      <td>532</td>\n",
       "    </tr>\n",
       "    <tr>\n",
       "      <th>532</th>\n",
       "      <td>1976.41</td>\n",
       "      <td>-1976.410</td>\n",
       "      <td>6.0</td>\n",
       "      <td>60.0</td>\n",
       "      <td>35.0</td>\n",
       "      <td>0.17000</td>\n",
       "      <td>1.2700</td>\n",
       "      <td>1.0</td>\n",
       "      <td>62.0</td>\n",
       "      <td>5.0</td>\n",
       "      <td>0.1700</td>\n",
       "      <td>35.0</td>\n",
       "      <td>533</td>\n",
       "    </tr>\n",
       "  </tbody>\n",
       "</table>\n",
       "<p>533 rows × 13 columns</p>\n",
       "</div>"
      ],
      "text/plain": [
       "      coer_oe  exc_bias_oe  fc_field_t  h_range_max_koe  length_d_nm  \\\n",
       "0    27800.00    -1132.000         5.0             50.0          7.4   \n",
       "1     7800.00     -406.000         5.0             50.0          7.0   \n",
       "2       24.80       51.340         0.0             10.0         17.0   \n",
       "3       90.20      108.180         0.0             10.0         11.0   \n",
       "4       40.07        8.920         0.0             10.0         12.0   \n",
       "..        ...          ...         ...              ...          ...   \n",
       "528   1144.92     -842.644         2.0             60.0         40.0   \n",
       "529   1260.00    -1030.000         3.0             60.0         40.0   \n",
       "530   1322.50    -1144.500         4.0             60.0         35.0   \n",
       "531   1452.60    -1452.600         5.0             60.0         35.0   \n",
       "532   1976.41    -1976.410         6.0             60.0         35.0   \n",
       "\n",
       "     mr (emu/g)  sat_em_g  shape  space_group_core  temperature_k  \\\n",
       "0      13.76705   52.1524    1.0             186.0            5.0   \n",
       "1      43.26420   83.1400    1.0             225.0            5.0   \n",
       "2       0.00780    2.2900    1.0             227.0          300.0   \n",
       "3       0.02180    2.4300    1.0             227.0          300.0   \n",
       "4       0.34980   16.1500    1.0             227.0          300.0   \n",
       "..          ...       ...    ...               ...            ...   \n",
       "528     0.15550    1.6250    1.0              62.0            5.0   \n",
       "529     0.15500    1.6500    1.0              62.0            5.0   \n",
       "530     0.16600    1.6570    1.0              62.0            5.0   \n",
       "531     0.16550    1.6765    1.0              62.0            5.0   \n",
       "532     0.17000    1.2700    1.0              62.0            5.0   \n",
       "\n",
       "     ver_shift_emu_g  width_nm   id  \n",
       "0             0.0000       7.4    1  \n",
       "1             0.0000       7.0    2  \n",
       "2             0.0000      17.0    3  \n",
       "3             0.0000      11.0    4  \n",
       "4             0.0000      12.0    5  \n",
       "..               ...       ...  ...  \n",
       "528           0.1125      40.0  529  \n",
       "529           0.1240      40.0  530  \n",
       "530           0.1520      35.0  531  \n",
       "531           0.1500      35.0  532  \n",
       "532           0.1700      35.0  533  \n",
       "\n",
       "[533 rows x 13 columns]"
      ]
     },
     "execution_count": 60,
     "metadata": {},
     "output_type": "execute_result"
    }
   ],
   "source": [
    "df_recopy"
   ]
  },
  {
   "cell_type": "code",
   "execution_count": 53,
   "metadata": {},
   "outputs": [
    {
     "name": "stdout",
     "output_type": "stream",
     "text": [
      "<class 'pandas.core.frame.DataFrame'>\n",
      "RangeIndex: 533 entries, 0 to 532\n",
      "Data columns (total 13 columns):\n",
      " #   Column            Non-Null Count  Dtype  \n",
      "---  ------            --------------  -----  \n",
      " 0   coer_oe           533 non-null    float64\n",
      " 1   exc_bias_oe       533 non-null    float64\n",
      " 2   fc_field_t        533 non-null    float64\n",
      " 3   h_range_max_koe   533 non-null    float64\n",
      " 4   length_d_nm       533 non-null    float64\n",
      " 5   mr (emu/g)        533 non-null    float64\n",
      " 6   sat_em_g          533 non-null    float64\n",
      " 7   shape             533 non-null    float64\n",
      " 8   space_group_core  533 non-null    float64\n",
      " 9   temperature_k     533 non-null    float64\n",
      " 10  ver_shift_emu_g   533 non-null    float64\n",
      " 11  width_nm          533 non-null    float64\n",
      " 12  id                533 non-null    int64  \n",
      "dtypes: float64(12), int64(1)\n",
      "memory usage: 54.3 KB\n",
      "None\n",
      "[186. 225. 227.  62. 161. 194. 221.  87. 229.  55. 136.   1. 141. 164.\n",
      " 160. 212. 123. 217.  63. 213.  15. 182.  58.]\n"
     ]
    }
   ],
   "source": [
    "print(df_recopy.info())\n",
    "print(df_recopy['space_group_core'].unique())"
   ]
  },
  {
   "cell_type": "code",
   "execution_count": 54,
   "metadata": {},
   "outputs": [
    {
     "name": "stdout",
     "output_type": "stream",
     "text": [
      "<class 'pandas.core.frame.DataFrame'>\n",
      "Int64Index: 533 entries, 0 to 532\n",
      "Data columns (total 35 columns):\n",
      " #   Column                     Non-Null Count  Dtype  \n",
      "---  ------                     --------------  -----  \n",
      " 0   c1                         533 non-null    object \n",
      " 1   c2                         322 non-null    object \n",
      " 2   c3                         9 non-null      object \n",
      " 3   chemical_formula           533 non-null    object \n",
      " 4   coer_oe_original           510 non-null    float64\n",
      " 5   crystal_structure          533 non-null    object \n",
      " 6   depth_nm                   509 non-null    float64\n",
      " 7   exc_bias_oe_original       500 non-null    float64\n",
      " 8   fc_field_t_original        508 non-null    float64\n",
      " 9   h_range_max_koe_original   526 non-null    float64\n",
      " 10  id                         533 non-null    int64  \n",
      " 11  length_d_nm_original       521 non-null    float64\n",
      " 12  mr (emu/g)_original        430 non-null    float64\n",
      " 13  sat_em_g_original          420 non-null    float64\n",
      " 14  shape_original             493 non-null    float64\n",
      " 15  space_group_core_original  532 non-null    object \n",
      " 16  space_group_shell          533 non-null    object \n",
      " 17  structure                  533 non-null    object \n",
      " 18  structure_                 533 non-null    object \n",
      " 19  temperature_k_original     528 non-null    float64\n",
      " 20  ver_shift_emu_g_original   441 non-null    float64\n",
      " 21  width_nm_original          521 non-null    float64\n",
      " 22  formula_combined           533 non-null    object \n",
      " 23  coer_oe_copy               533 non-null    float64\n",
      " 24  exc_bias_oe_copy           533 non-null    float64\n",
      " 25  fc_field_t_copy            533 non-null    float64\n",
      " 26  h_range_max_koe_copy       533 non-null    float64\n",
      " 27  length_d_nm_copy           533 non-null    float64\n",
      " 28  mr (emu/g)_copy            533 non-null    float64\n",
      " 29  sat_em_g_copy              533 non-null    float64\n",
      " 30  shape_copy                 533 non-null    float64\n",
      " 31  space_group_core_copy      533 non-null    float64\n",
      " 32  temperature_k_copy         533 non-null    float64\n",
      " 33  ver_shift_emu_g_copy       533 non-null    float64\n",
      " 34  width_nm_copy              533 non-null    float64\n",
      "dtypes: float64(24), int64(1), object(10)\n",
      "memory usage: 149.9+ KB\n",
      "None\n"
     ]
    }
   ],
   "source": [
    "# Теперь мне надо склеить данные до и после заполнеия пропусков\n",
    "merg_df = pd.merge(df, df_recopy, on='id', suffixes=('_original', '_copy')) # Теперь в датасете есть повторяющиеся колонки, удалим оригинальные с пропусками и сотавим только чистые\n",
    "\n",
    "print(merg_df.info())"
   ]
  },
  {
   "cell_type": "code",
   "execution_count": 55,
   "metadata": {},
   "outputs": [
    {
     "name": "stdout",
     "output_type": "stream",
     "text": [
      "<class 'pandas.core.frame.DataFrame'>\n",
      "Int64Index: 533 entries, 0 to 532\n",
      "Data columns (total 23 columns):\n",
      " #   Column                 Non-Null Count  Dtype  \n",
      "---  ------                 --------------  -----  \n",
      " 0   c1                     533 non-null    object \n",
      " 1   c2                     322 non-null    object \n",
      " 2   c3                     9 non-null      object \n",
      " 3   chemical_formula       533 non-null    object \n",
      " 4   crystal_structure      533 non-null    object \n",
      " 5   depth_nm               509 non-null    float64\n",
      " 6   id                     533 non-null    int64  \n",
      " 7   space_group_shell      533 non-null    object \n",
      " 8   structure              533 non-null    object \n",
      " 9   structure_             533 non-null    object \n",
      " 10  formula_combined       533 non-null    object \n",
      " 11  coer_oe_copy           533 non-null    float64\n",
      " 12  exc_bias_oe_copy       533 non-null    float64\n",
      " 13  fc_field_t_copy        533 non-null    float64\n",
      " 14  h_range_max_koe_copy   533 non-null    float64\n",
      " 15  length_d_nm_copy       533 non-null    float64\n",
      " 16  mr (emu/g)_copy        533 non-null    float64\n",
      " 17  sat_em_g_copy          533 non-null    float64\n",
      " 18  shape_copy             533 non-null    float64\n",
      " 19  space_group_core_copy  533 non-null    float64\n",
      " 20  temperature_k_copy     533 non-null    float64\n",
      " 21  ver_shift_emu_g_copy   533 non-null    float64\n",
      " 22  width_nm_copy          533 non-null    float64\n",
      "dtypes: float64(13), int64(1), object(9)\n",
      "memory usage: 99.9+ KB\n",
      "None\n"
     ]
    }
   ],
   "source": [
    "# Список колнок, что мы удалим\n",
    "del_col_list = [col for col in merg_df.columns if col.endswith('_original')]\n",
    "# Удалим такие колонки \n",
    "merg_df = merg_df.drop(columns=del_col_list)\n",
    "\n",
    "print(merg_df.info())"
   ]
  },
  {
   "cell_type": "code",
   "execution_count": 56,
   "metadata": {},
   "outputs": [
    {
     "name": "stdout",
     "output_type": "stream",
     "text": [
      "<class 'pandas.core.frame.DataFrame'>\n",
      "Int64Index: 533 entries, 0 to 532\n",
      "Data columns (total 23 columns):\n",
      " #   Column             Non-Null Count  Dtype  \n",
      "---  ------             --------------  -----  \n",
      " 0   c1                 533 non-null    object \n",
      " 1   c2                 322 non-null    object \n",
      " 2   c3                 9 non-null      object \n",
      " 3   chemical_formula   533 non-null    object \n",
      " 4   crystal_structure  533 non-null    object \n",
      " 5   depth_nm           509 non-null    float64\n",
      " 6   id                 533 non-null    int64  \n",
      " 7   space_group_shell  533 non-null    object \n",
      " 8   structure          533 non-null    object \n",
      " 9   structure_         533 non-null    object \n",
      " 10  formula_combined   533 non-null    object \n",
      " 11  coer_oe            533 non-null    float64\n",
      " 12  exc_bias_oe        533 non-null    float64\n",
      " 13  fc_field_t         533 non-null    float64\n",
      " 14  h_range_max_koe    533 non-null    float64\n",
      " 15  length_d_nm        533 non-null    float64\n",
      " 16  mr (emu/g)         533 non-null    float64\n",
      " 17  sat_em_g           533 non-null    float64\n",
      " 18  shape              533 non-null    float64\n",
      " 19  space_group_core   533 non-null    float64\n",
      " 20  temperature_k      533 non-null    float64\n",
      " 21  ver_shift_emu_g    533 non-null    float64\n",
      " 22  width_nm           533 non-null    float64\n",
      "dtypes: float64(13), int64(1), object(9)\n",
      "memory usage: 99.9+ KB\n",
      "None\n"
     ]
    }
   ],
   "source": [
    "# Удалим _copy из названий \n",
    "merg_df.columns = merg_df.columns.str.replace('_copy', '')\n",
    "\n",
    "df = merg_df  \n",
    "print(df.info())"
   ]
  },
  {
   "cell_type": "code",
   "execution_count": 38,
   "metadata": {},
   "outputs": [
    {
     "name": "stdout",
     "output_type": "stream",
     "text": [
      "[Composition('Au1 Fe2 O3') Composition('Fe297 Co3 O400')\n",
      " Composition('Fe59 Co1 O80') Composition('Fe29 Co1 O40')\n",
      " Composition('Mn15 Fe261 Co24 O400') Composition('Fe27 Co3 O40')\n",
      " Composition('Fe5 Co1 O8') Composition('Fe23 Co7 O40')\n",
      " Composition('Co1 Fe2 O4') Composition('Cu1 Fe2 O4')\n",
      " Composition('Cu2 Fe2 O4') Composition('Mn1 Fe5 O8') Composition('Fe3 O4')\n",
      " Composition('Fe12 C5') Composition('Fe2 O3')\n",
      " Composition('Fe9 O3 C18 N18') Composition('Fe10 O3 C24 N24')\n",
      " Composition('Fe3 O6 Ce1') Composition('Fe3 O6 Mn1')\n",
      " Composition('Fe3 O4 Si1') Composition('Fe1 V2 O4')\n",
      " Composition('Mg1 Mn9 Fe20 O40') Composition('Mg3 Mn7 Fe20 O40')\n",
      " Composition('Mg2 Mn3 Fe10 O20') Composition('Mg1 Mn1 Fe4 O8')\n",
      " Composition('Mg1 Fe2 O4') Composition('Mn1 Zn1 Fe4 O8')\n",
      " Composition('Mn1 Fe2 O4') Composition('Zn1 Fe4 Ni1 O8')\n",
      " Composition('Zn7 Fe41 Ni13 O80') Composition('Zn7 Fe41 Ni13 O100')\n",
      " Composition('Zn7 Fe41 Ni13 O120') Composition('Zn7 Fe41 Ni13 O140')\n",
      " Composition('Ni1 Fe2 O4') Composition('Co50 Ni25 Au11 O100')\n",
      " Composition('Ni1 Te1') Composition('Pd1 Fe2 O3')\n",
      " Composition('Tb11 Fe139 O200') Composition('Tb1 Fe5 O8')\n",
      " Composition('Tb3 Fe9 O16') Composition('Mn9 Zn1 Fe20 O40')\n",
      " Composition('Mn4 Zn1 Fe10 O20') Composition('Zn3 Fe20 Co7 O40')\n",
      " Composition('Mn7 Zn3 Fe20 O40') Composition('Mn3 Zn2 Fe10 O20')\n",
      " Composition('Mn2 Zn3 Fe10 O20') Composition('Mn3 Zn7 Fe20 O40')\n",
      " Composition('Mn1 Zn4 Fe10 O20') Composition('Mn1 Zn9 Fe20 O40')\n",
      " Composition('Zn1 Fe2 O4')]\n"
     ]
    }
   ],
   "source": [
    "# Определение функции для преобразования строки в объект Composition\n",
    "def apply_composition(value):\n",
    "    return Composition(value)\n",
    "\n",
    "# Применение функции ко всем значениям столбца\n",
    "df['formula_combined'] = df['c1'].apply(apply_composition)\n",
    "print(df['formula_combined'].unique())"
   ]
  },
  {
   "cell_type": "code",
   "execution_count": 39,
   "metadata": {},
   "outputs": [],
   "source": [
    "# Выгрузим данные отдельный датасет \n",
    "df.to_csv(r'C:\\Users\\Ксения\\Project\\Magnet_Exchange_bias\\data\\part2_3.csv')"
   ]
  }
 ],
 "metadata": {
  "kernelspec": {
   "display_name": "exc_env",
   "language": "python",
   "name": "python3"
  },
  "language_info": {
   "codemirror_mode": {
    "name": "ipython",
    "version": 3
   },
   "file_extension": ".py",
   "mimetype": "text/x-python",
   "name": "python",
   "nbconvert_exporter": "python",
   "pygments_lexer": "ipython3",
   "version": "3.11.4"
  }
 },
 "nbformat": 4,
 "nbformat_minor": 2
}
