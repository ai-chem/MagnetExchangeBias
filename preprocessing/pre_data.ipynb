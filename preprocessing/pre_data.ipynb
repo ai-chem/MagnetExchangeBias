{
 "cells": [
  {
   "cell_type": "code",
   "execution_count": 144,
   "metadata": {},
   "outputs": [],
   "source": [
    "#all library connection\n",
    "import pandas as pd\n",
    "import numpy as np\n",
    "import re #регулярки\n",
    "from math import gcd, isclose\n",
    "import sympy as sp #библиотека символьных вычеслений, мат.задачи\n",
    "import matplotlib\n",
    "import matplotlib.pyplot as plt\n",
    "import seaborn as sns"
   ]
  },
  {
   "cell_type": "code",
   "execution_count": 117,
   "metadata": {},
   "outputs": [],
   "source": [
    "#pymatgen def to obtain structures\n",
    "from pymatgen.core.structure import Composition"
   ]
  },
  {
   "cell_type": "code",
   "execution_count": 118,
   "metadata": {},
   "outputs": [],
   "source": [
    "#loading data\n",
    "df = pd.read_csv(r'C:\\Users\\Ксения\\Project\\Magnet_Exchange_bias\\data\\Bias_data.csv')"
   ]
  },
  {
   "cell_type": "code",
   "execution_count": 119,
   "metadata": {},
   "outputs": [
    {
     "name": "stdout",
     "output_type": "stream",
     "text": [
      "<class 'pandas.core.frame.DataFrame'>\n",
      "RangeIndex: 533 entries, 0 to 532\n",
      "Data columns (total 52 columns):\n",
      " #   Column                                          Non-Null Count  Dtype  \n",
      "---  ------                                          --------------  -----  \n",
      " 0   id                                              533 non-null    int64  \n",
      " 1   crystal_structure(core/shell)                   532 non-null    object \n",
      " 2   Space group(core)                               532 non-null    object \n",
      " 3   Space group(shell)                              533 non-null    object \n",
      " 4   chemical formula                                533 non-null    object \n",
      " 5   Structure                                       533 non-null    object \n",
      " 6   length (D)                                      521 non-null    float64\n",
      " 7   width                                           521 non-null    float64\n",
      " 8   depth                                           509 non-null    float64\n",
      " 9   shape                                           482 non-null    object \n",
      " 10  core_1                                          533 non-null    object \n",
      " 11  core_2(shell)                                   533 non-null    object \n",
      " 12  Name                                            236 non-null    object \n",
      " 13  synonyms                                        122 non-null    object \n",
      " 14  Cas rn (core_1)                                 433 non-null    object \n",
      " 15  Cas rn (core_2)                                 489 non-null    object \n",
      " 16  Exp type                                        307 non-null    object \n",
      " 17  Scale bar (nm)                                  293 non-null    float64\n",
      " 18  microphotography pic                            216 non-null    float64\n",
      " 19  Spectrum                                        168 non-null    float64\n",
      " 20  JCPDS card (core)                               79 non-null     object \n",
      " 21  JCPDS card (shell)                              60 non-null     object \n",
      " 22  X-ray tube (nm)                                 139 non-null    float64\n",
      " 23  Instrument                                      201 non-null    object \n",
      " 24  Crystalline size                                186 non-null    float64\n",
      " 25  Material fraction                               196 non-null    object \n",
      " 26  curie temperature (K)                           78 non-null     float64\n",
      " 27  temperature (K)                                 528 non-null    float64\n",
      " 28  H-range min (kOe)                               526 non-null    float64\n",
      " 29  H-range max(kOe)                                526 non-null    float64\n",
      " 30  Ms (emu/g)                                      420 non-null    object \n",
      " 31  Hc (Oe)                                         510 non-null    object \n",
      " 32  Mr (emu/g)                                      430 non-null    float64\n",
      " 33  Instrument.1                                    344 non-null    object \n",
      " 34  exchange bias shift Hb or Heb(Oe)               500 non-null    float64\n",
      " 35  vertical loop shift M vsl (emu/g)               441 non-null    float64\n",
      " 36  M-H curve                                       289 non-null    float64\n",
      " 37  cooling fields (mT)                             508 non-null    float64\n",
      " 38  FC field(T)                                     508 non-null    float64\n",
      " 39  Hc of measurement (kOe)                         507 non-null    float64\n",
      " 40  applied field(kOe)                              184 non-null    float64\n",
      " 41  Article id                                      533 non-null    object \n",
      " 42  Method                                          488 non-null    object \n",
      " 43  Tb                                              86 non-null     float64\n",
      " 44  Keff (effective anisotropy constant) (erg/cm3)  13 non-null     float64\n",
      " 45  Keff (Jm^-3)                                    26 non-null     float64\n",
      " 46  Total magnetization                             0 non-null      float64\n",
      " 47  Atomic mass ratio                               0 non-null      float64\n",
      " 48  Number of magnetic ions per unit cell           0 non-null      float64\n",
      " 49  get_exchange_group_info                         0 non-null      float64\n",
      " 50  number_of_unique_magnetic_sites                 0 non-null      float64\n",
      " 51  number_of_magnetic_sites                        0 non-null      float64\n",
      "dtypes: float64(29), int64(1), object(22)\n",
      "memory usage: 216.7+ KB\n",
      "None\n"
     ]
    }
   ],
   "source": [
    "print(df.info())"
   ]
  },
  {
   "cell_type": "code",
   "execution_count": 120,
   "metadata": {},
   "outputs": [
    {
     "name": "stdout",
     "output_type": "stream",
     "text": [
      "<class 'pandas.core.frame.DataFrame'>\n",
      "RangeIndex: 533 entries, 0 to 532\n",
      "Data columns (total 20 columns):\n",
      " #   Column                             Non-Null Count  Dtype  \n",
      "---  ------                             --------------  -----  \n",
      " 0   id                                 533 non-null    int64  \n",
      " 1   crystal_structure(core/shell)      532 non-null    object \n",
      " 2   Space group(core)                  532 non-null    object \n",
      " 3   Space group(shell)                 533 non-null    object \n",
      " 4   chemical formula                   533 non-null    object \n",
      " 5   Structure                          533 non-null    object \n",
      " 6   length (D)                         521 non-null    float64\n",
      " 7   width                              521 non-null    float64\n",
      " 8   depth                              509 non-null    float64\n",
      " 9   shape                              482 non-null    object \n",
      " 10  core_1                             533 non-null    object \n",
      " 11  core_2(shell)                      533 non-null    object \n",
      " 12  temperature (K)                    528 non-null    float64\n",
      " 13  H-range max(kOe)                   526 non-null    float64\n",
      " 14  Ms (emu/g)                         420 non-null    object \n",
      " 15  Hc (Oe)                            510 non-null    object \n",
      " 16  Mr (emu/g)                         430 non-null    float64\n",
      " 17  exchange bias shift Hb or Heb(Oe)  500 non-null    float64\n",
      " 18  vertical loop shift M vsl (emu/g)  441 non-null    float64\n",
      " 19  FC field(T)                        508 non-null    float64\n",
      "dtypes: float64(9), int64(1), object(10)\n",
      "memory usage: 83.4+ KB\n",
      "None\n"
     ]
    }
   ],
   "source": [
    "#удалим все колонки, значения которых точно не подлежат востановлению\n",
    "del_col = ['Exp type', 'Scale bar (nm)', 'microphotography pic','Spectrum', 'JCPDS card (core)', 'JCPDS card (shell)', 'X-ray tube (nm)', 'Instrument', 'Crystalline size', 'Material fraction', 'curie temperature (K)', 'H-range min (kOe)', 'Instrument.1', 'M-H curve', 'applied field(kOe)', 'Article id', 'Method', 'H-range min (kOe)','Tb', 'Keff (effective anisotropy constant) (erg/cm3)',\n",
    "            'Keff (Jm^-3)', 'Total magnetization ', 'Atomic mass ratio', 'Number of magnetic ions per unit cell', 'Name', 'synonyms',\n",
    "            'get_exchange_group_info', 'cooling fields (mT)', 'Hc of measurement (kOe) ', 'number_of_unique_magnetic_sites', 'number_of_magnetic_sites', 'Cas rn (core_1)', 'Cas rn (core_2)' ]\n",
    "df = df.drop(columns=del_col)\n",
    "print(df.info())"
   ]
  },
  {
   "cell_type": "code",
   "execution_count": 121,
   "metadata": {},
   "outputs": [
    {
     "name": "stdout",
     "output_type": "stream",
     "text": [
      "Unique cores: ['Zn1O1' 'Cu1O1' 'Mn0.50Zn0.50Fe2O4' 'La1Fe1O3' 'Ni1' 'Mg1Fe2O4'\n",
      " 'Co1Fe2O4' 'Bi1Fe1O3' 'Co1' 'Fe1Rh1' 'Mn1O2' 'Ag1' 'Fe1' 'Fe1O1' 'Ni1O1'\n",
      " 'Fe3O4' 'Bi2Fe4O9' 'Ti1O2' 'Co0.4Fe2.6O4' 'Co0.7Fe2.3O4' 'Fe0.7Co0.3'\n",
      " 'Fe0.5Co0.5' 'Fe0.3Co0.7' 'La2Fe1Mn1O6' 'Fe1V1O4' 'Au1'\n",
      " 'Bi0.9Gd0.1Fe0.9Ti0.1O3' 'Nd0.78Sr0.22CoO3' 'Fe2O3' 'La0.85Sr0.15FeO3'\n",
      " 'Mn3O4' 'La0.67Sr0.33MnO3' 'Mn1O1' 'Co3O4' 'Ni0.99Fe0.01O1'\n",
      " 'Ni0.98Fe0.02O1' 'Ni0.96Fe0.04O1' 'Ni0.97Fe0.03O1' 'Ag0.5Cr2.5O4'\n",
      " 'Ag1Cr1O2' 'Co1O1' 'Mn1Fe2O4' 'Bi0.9La0.1FeO3' 'Nd0.90Ho0.10FeO3'\n",
      " 'Dy1Cr1Ti1O5' 'Gd1Cr1Ti1O5' 'Ba1Fe12O19' 'Ni1Fe2O4' 'Co1Cr2O4' 'Fe1Ni1'\n",
      " 'Mn1' 'Fe1F2' 'Fe5C2' 'Fe1Ni3' 'Fe2.2C1' 'La2Fe2O6' 'Co1P1']\n",
      "Amount of unique cores composition: 57\n",
      "Unique shells: ['Co1Fe2O4' '0' 'Ni1O1' 'Bi1Fe1O3' 'Co1O1' 'Fe3O4' 'Fe2O3' 'Bi2Fe4O9'\n",
      " 'Сu1O1' 'Si1O2' 'Co3O4' 'Mn3O4' 'Ni1Fe2O4' 'Co1Mn2O4' 'Fe1' 'Mn1O1'\n",
      " 'Fe3C1' 'Mg1O1' 'Mg1O1, Co1Fe2O4' 'Mo1' 'Co1']\n",
      "Amount of unique shells composition: 21\n"
     ]
    }
   ],
   "source": [
    "#теперь можно удалить эти колонки, так как они имеют такие же значения как и crystal_structure(core/shell) и chemical formula\n",
    "print(f'Unique cores: {df[\"core_1\"].unique()}', f'Amount of unique cores composition: {len(df[\"core_1\"].unique())}', sep='\\n')\n",
    "print(f'Unique shells: {df[\"core_2(shell)\"].unique()}', f'Amount of unique shells composition: {len(df[\"core_2(shell)\"].unique())}', sep='\\n')"
   ]
  },
  {
   "cell_type": "code",
   "execution_count": 122,
   "metadata": {},
   "outputs": [],
   "source": [
    "df = df.drop(columns=['core_1', 'core_2(shell)']) #удалим их"
   ]
  },
  {
   "cell_type": "code",
   "execution_count": 123,
   "metadata": {},
   "outputs": [
    {
     "name": "stdout",
     "output_type": "stream",
     "text": [
      "<class 'pandas.core.frame.DataFrame'>\n",
      "RangeIndex: 533 entries, 0 to 532\n",
      "Data columns (total 18 columns):\n",
      " #   Column             Non-Null Count  Dtype  \n",
      "---  ------             --------------  -----  \n",
      " 0   id                 533 non-null    int64  \n",
      " 1   crystal_structure  532 non-null    object \n",
      " 2   space_group_core   532 non-null    object \n",
      " 3   space_group_shell  533 non-null    object \n",
      " 4   chemical_formula   533 non-null    object \n",
      " 5   structure          533 non-null    object \n",
      " 6   length_d_nm        521 non-null    float64\n",
      " 7   width_nm           521 non-null    float64\n",
      " 8   depth_nm           509 non-null    float64\n",
      " 9   shape              482 non-null    object \n",
      " 10  temperature_k      528 non-null    float64\n",
      " 11  h_range_max_koe    526 non-null    float64\n",
      " 12  sat_em_g           420 non-null    object \n",
      " 13  coer_oe            510 non-null    object \n",
      " 14  mr (emu/g)         430 non-null    float64\n",
      " 15  exc_bias_oe        500 non-null    float64\n",
      " 16  ver_shift_emu_g    441 non-null    float64\n",
      " 17  fc_field_t         508 non-null    float64\n",
      "dtypes: float64(9), int64(1), object(8)\n",
      "memory usage: 75.1+ KB\n",
      "None\n"
     ]
    }
   ],
   "source": [
    "#переименуем название колонк для удобства и преобразуем их в нижний регистр\n",
    "df.columns = df.columns.str.lower()\n",
    "\n",
    "new_column_names = {\n",
    "    'id': 'id', 'crystal_structure(core/shell)': 'crystal_structure',\n",
    "    'space group(core)': 'space_group_core', 'space group(shell)': 'space_group_shell',\n",
    "    'chemical formula': 'chemical_formula', 'structure': 'structure',\n",
    "    'length (d)': 'length_d_nm', 'width': 'width_nm',\n",
    "    'depth': 'depth_nm', 'shape': 'shape', 'temperature (k)': 'temperature_k',\n",
    "    'h-range max(koe)': 'h_range_max_koe', 'ms (emu/g)': 'sat_em_g',\n",
    "    'hc (oe)': 'coer_oe', 'mrem (emu/g)': 'rem_emu_g', 'exchange bias shift hb or heb(oe)': 'exc_bias_oe',\n",
    "    'vertical loop shift m vsl (emu/g)': 'ver_shift_emu_g', 'fc field(t)': 'fc_field_t'\n",
    "}\n",
    "\n",
    "# Переименование столбцов\n",
    "df = df.rename(columns=new_column_names)\n",
    "print(df.info())"
   ]
  },
  {
   "cell_type": "markdown",
   "metadata": {},
   "source": [
    "#Difference\n",
    "#composition - core+shell with Ni1O1 like formula\n",
    "#chemical formula - Ni50NiO50\n",
    "#Structure - alhpa, gamma"
   ]
  },
  {
   "cell_type": "code",
   "execution_count": 124,
   "metadata": {},
   "outputs": [],
   "source": [
    "chemical_formulas = []\n",
    "\n",
    "for formula in df['chemical_formula']: # Итерация по каждой формуле в столбце 'chemical formula'\n",
    "    if not formula.isalnum(): # Проверка, содержит ли формула только буквенно-цифровые символы\n",
    "        line = re.split(\"-|,|/|@|–\", formula) # Разделение формулы по символам '-', '@', '/', and ','\n",
    "        components = [] # Создание пустого списка для хранения компонентов формулы\n",
    "        for i in line:  # Итерация по каждому компоненту в разделенной формуле\n",
    "            if i.strip(): # Добавление компонента в список, если он не пустой\n",
    "                components.append(i.strip())\n",
    "        chemical_formulas.append(components) # Добавление списка компонентов в список химических формул\n",
    "    else:\n",
    "        chemical_formulas.append([formula])  # Если формула состоит только из буквенно-цифровых символов, добавляем ее как есть\n",
    "\n",
    "df['chemical_formula'] = chemical_formulas # Замена столбца новыми значениями"
   ]
  },
  {
   "cell_type": "code",
   "execution_count": 125,
   "metadata": {},
   "outputs": [
    {
     "name": "stdout",
     "output_type": "stream",
     "text": [
      "<class 'pandas.core.frame.DataFrame'>\n",
      "RangeIndex: 533 entries, 0 to 532\n",
      "Data columns (total 21 columns):\n",
      " #   Column             Non-Null Count  Dtype  \n",
      "---  ------             --------------  -----  \n",
      " 0   c1                 533 non-null    object \n",
      " 1   c2                 322 non-null    object \n",
      " 2   c3                 9 non-null      object \n",
      " 3   chemical_formula   533 non-null    object \n",
      " 4   coer_oe            510 non-null    object \n",
      " 5   crystal_structure  532 non-null    object \n",
      " 6   depth_nm           509 non-null    float64\n",
      " 7   exc_bias_oe        500 non-null    float64\n",
      " 8   fc_field_t         508 non-null    float64\n",
      " 9   h_range_max_koe    526 non-null    float64\n",
      " 10  id                 533 non-null    int64  \n",
      " 11  length_d_nm        521 non-null    float64\n",
      " 12  mr (emu/g)         430 non-null    float64\n",
      " 13  sat_em_g           420 non-null    object \n",
      " 14  shape              482 non-null    object \n",
      " 15  space_group_core   532 non-null    object \n",
      " 16  space_group_shell  533 non-null    object \n",
      " 17  structure          533 non-null    object \n",
      " 18  temperature_k      528 non-null    float64\n",
      " 19  ver_shift_emu_g    441 non-null    float64\n",
      " 20  width_nm           521 non-null    float64\n",
      "dtypes: float64(9), int64(1), object(11)\n",
      "memory usage: 87.6+ KB\n",
      "None\n"
     ]
    }
   ],
   "source": [
    "# Функция для разбивки списка в каждой ячейке на отдельные элементы и вставки их в новые столбцы\n",
    "def split_elements(row):\n",
    "    # Получаем список элементов из ячейки\n",
    "    elements = row['chemical_formula']\n",
    "    # Размещаем элементы в соответствующих столбцах\n",
    "    for i, element in enumerate(elements):\n",
    "        if i < 3:\n",
    "            row[f'c{i+1}'] = element\n",
    "    return row\n",
    "\n",
    "# Применяем функцию к каждой строке датафрейма\n",
    "df = df.apply(split_elements, axis=1)\n",
    "\n",
    "print(df.info())"
   ]
  },
  {
   "cell_type": "code",
   "execution_count": 126,
   "metadata": {},
   "outputs": [
    {
     "name": "stdout",
     "output_type": "stream",
     "text": [
      "0                    ZnO\n",
      "1                    CoO\n",
      "2      Mn0.50Zn0.50Fe2O4\n",
      "3      Mn0.50Zn0.50Fe2O4\n",
      "4      Mn0.50Zn0.50Fe2O4\n",
      "             ...        \n",
      "528               LaFeO3\n",
      "529               LaFeO3\n",
      "530               LaFeO3\n",
      "531               LaFeO3\n",
      "532               LaFeO3\n",
      "Name: c1, Length: 533, dtype: object 0      CoFe2O4\n",
      "1      CoFe2O4\n",
      "2          NaN\n",
      "3          NaN\n",
      "4          NaN\n",
      "        ...   \n",
      "528        NiO\n",
      "529        NiO\n",
      "530        NiO\n",
      "531        NiO\n",
      "532        NiO\n",
      "Name: c2, Length: 533, dtype: object 0      NaN\n",
      "1      NaN\n",
      "2      NaN\n",
      "3      NaN\n",
      "4      NaN\n",
      "      ... \n",
      "528    NaN\n",
      "529    NaN\n",
      "530    NaN\n",
      "531    NaN\n",
      "532    NaN\n",
      "Name: c3, Length: 533, dtype: object\n"
     ]
    }
   ],
   "source": [
    "#проверим как разделились значения списка\n",
    "print(df['c1'], df['c2'], df['c3'], end='\\n')"
   ]
  },
  {
   "cell_type": "code",
   "execution_count": 127,
   "metadata": {},
   "outputs": [
    {
     "name": "stdout",
     "output_type": "stream",
     "text": [
      "<class 'pandas.core.series.Series'>\n",
      "RangeIndex: 533 entries, 0 to 532\n",
      "Series name: c2\n",
      "Non-Null Count  Dtype \n",
      "--------------  ----- \n",
      "322 non-null    object\n",
      "dtypes: object(1)\n",
      "memory usage: 4.3+ KB\n",
      "None\n"
     ]
    }
   ],
   "source": [
    "print(df['c2'].info())"
   ]
  },
  {
   "cell_type": "code",
   "execution_count": 128,
   "metadata": {},
   "outputs": [
    {
     "name": "stdout",
     "output_type": "stream",
     "text": [
      "['ZnO' 'CoO' 'Mn0.50Zn0.50Fe2O4' 'LaFeO3' 'Ni' 'MgFe2O4' 'CoFe2O4'\n",
      " 'BiFeO3' 'Co' 'FeRh' 'MnO2' 'Ag' 'Fe' 'FeO' 'NiO' 'Fe3O4' 'Bi2Fe4O9'\n",
      " 'TiO2' 'Co0.4Fe2.6O4' 'Co0.7Fe2.3O4' 'Fe0.7Co0.3' 'Fe0.5Co0.5'\n",
      " 'Fe0.3Co0.7' 'La2FeMnO6' 'FeVO4' 'Au' 'Bi0.9Gd0.1Fe0.9Ti0.1O3'\n",
      " 'Nd0.78Sr0.22CoO3' 'Cu0.98' 'Cu0.96' 'Fe2O3' 'La0.85Sr0.15FeO3' 'Mn3O4'\n",
      " 'La0.67Sr0.33MnO3' 'MnO' 'Co3O4' 'Ni0.99Fe0.01O' 'Ni0.98Fe0.02O'\n",
      " 'Ni0.96Fe0.04O' 'Ni0.97Fe0.03O' 'Ag0.5Cr2.5O4' 'AgCrO2' 'MnFe2O4'\n",
      " 'Bi0.9La0.1FeO3' 'NdFeO3' 'DyCrTiO5' 'GdCrTiO5' 'BaFe12O19' 'NiFe2O4'\n",
      " 'CoCr2O4' 'FeNi' 'Mn' 'Fe5C2' 'FeNi3' 'Fe2.2C' 'La2Fe2O6' 'FeF2' 'CoP'] ['CoFe2O4' nan 'NiO' 'BiFeO3' 'CoO' 'Fe3O4' 'Fe2O3' 'Bi2Fe4O9' 'Fe0.02O'\n",
      " 'Fe0.04O' 'Co3O4' 'Mn3O4' 'NiFe2O4' 'CoMn2O4' 'MnO' 'Fe3C' 'MgO' 'Mo'\n",
      " 'Co' 'Fe'] [nan 'CoFe2O4']\n"
     ]
    }
   ],
   "source": [
    "#Сделаем костыль для нестеохео соединений \n",
    "print(df['c1'].unique(), df['c2'].unique(), df['c3'].unique(), end='\\n')\n",
    "non_steh = ['Mn0.50Zn0.50Fe2O4',  'Co0.4Fe2.6O4', 'Co0.7Fe2.3O4', 'Fe0.7Co0.3', 'Fe0.5Co0.5',\n",
    " 'Fe0.3Co0.7', 'Bi0.9Gd0.1Fe0.9Ti0.1O3', 'Nd0.78Sr0.22CoO3' 'Cu0.98' 'Cu0.96', 'La0.85Sr0.15FeO3', \n",
    " 'La0.67Sr0.33MnO3', 'Ni0.99Fe0.01O', 'Ni0.98Fe0.02O', 'Ni0.96Fe0.04O', 'Ni0.97Fe0.03O', 'Ag0.5Cr2.5O4',\n",
    " 'Bi0.9La0.1FeO3', 'Fe2.2C', 'Fe0.02O', 'Fe0.04O']"
   ]
  },
  {
   "cell_type": "code",
   "execution_count": 181,
   "metadata": {},
   "outputs": [],
   "source": [
    "# Костыль для таких соединений\n",
    "non_stoich_compounds_dict = {\n",
    "    'Mn0.50Zn0.50Fe2O4': 'MnZnFe4O8', 'Co0.4Fe2.6O4': 'Co2Fe13O20',\n",
    "    'Co0.7Fe2.3O4': 'Co7Fe23O40', 'Fe0.7Co0.3': 'Fe7Co3', 'Fe0.5Co0.5': 'FeCo',\n",
    "    'Fe0.3Co0.7': 'Fe3Co7', 'Bi0.9Gd0.1Fe0.9Ti0.1O3': 'Bi9GdFe9TiO30',\n",
    "    'Nd0.78Sr0.22CoO3': 'Nd39Sr11Co50O150', 'Cu0.98': 'Cu98', 'Cu0.96': 'Cu96',\n",
    "    'La0.85Sr0.15FeO3': 'La17Sr3Fe20O60', 'La0.67Sr0.33MnO3': 'La67Sr33Mn100O300',\n",
    "    'Ni0.99Fe0.01O': 'Ni99FeO100', 'Ni0.98Fe0.02O': 'Ni49FeO50', 'Ni0.96Fe0.04O': 'Ni24FeO25',\n",
    "    'Ni0.97Fe0.03O': 'Ni97Fe3O100', 'Ag0.5Cr2.5O4': 'AgCr5O8', 'Bi0.9La0.1FeO3': 'Bi9LaFe10O30',\n",
    "    'Fe2.2C': 'Fe11C5', 'Fe0.02O': 'FeO50', 'Fe0.04O': 'FeO25'\n",
    "}"
   ]
  },
  {
   "cell_type": "code",
   "execution_count": null,
   "metadata": {},
   "outputs": [],
   "source": [
    "def replace_non_stoichiometric(column, non_stoich_compounds_dict):\n",
    "    '''Функция заменяет значения ключей на значения для этих ключей'''\n",
    "    for i, value in enumerate(column):\n",
    "        if value != 0 and value in non_stoich_compounds_dict:\n",
    "            column.at[i] = non_stoich_compounds_dict[value]\n",
    "    return column"
   ]
  },
  {
   "cell_type": "code",
   "execution_count": 184,
   "metadata": {},
   "outputs": [
    {
     "name": "stdout",
     "output_type": "stream",
     "text": [
      "Уникальные значения в столбце c1 после применения функции: ['ZnO' 'CoO' 'MnZnFe4O8' 'LaFeO3' 'Ni' 'MgFe2O4' 'CoFe2O4' 'BiFeO3' 'Co'\n",
      " 'FeRh' 'MnO2' 'Ag' 'Fe' 'FeO' 'NiO' 'Fe3O4' 'Bi2Fe4O9' 'TiO2'\n",
      " 'Co2Fe13O20' 'Co7Fe23O40' 'Fe7Co3' 'FeCo' 'Fe3Co7' 'La2FeMnO6' 'FeVO4'\n",
      " 'Au' 'Bi9GdFe9TiO30' 'Nd39Sr11Co50O150' 'Cu98' 'Cu96' 'Fe2O3'\n",
      " 'La17Sr3Fe20O60' 'Mn3O4' 'La67Sr33Mn100O300' 'MnO' 'Co3O4' 'Ni99FeO100'\n",
      " 'Ni49FeO50' 'Ni24FeO25' 'Ni97Fe3O100' 'AgCr5O8' 'AgCrO2' 'MnFe2O4'\n",
      " 'Bi9LaFe10O30' 'NdFeO3' 'DyCrTiO5' 'GdCrTiO5' 'BaFe12O19' 'NiFe2O4'\n",
      " 'CoCr2O4' 'FeNi' 'Mn' 'Fe5C2' 'FeNi3' 'Fe11C5' 'La2Fe2O6' 'FeF2' 'CoP']\n",
      "Уникальные значения в столбце c2 после применения функции: ['CoFe2O4' nan 'NiO' 'BiFeO3' 'CoO' 'Fe3O4' 'Fe2O3' 'Bi2Fe4O9' 'FeO50'\n",
      " 'FeO25' 'Co3O4' 'Mn3O4' 'NiFe2O4' 'CoMn2O4' 'MnO' 'Fe3C' 'MgO' 'Mo' 'Co'\n",
      " 'Fe']\n",
      "Уникальные значения в столбце c3 после применения функции: [nan 'CoFe2O4']\n"
     ]
    }
   ],
   "source": [
    "# Применение функции к каждому столбцу\n",
    "new_df_c1 = replace_non_stoichiometric(df['c1'], non_stoich_compounds_dict)\n",
    "new_df_c2 = replace_non_stoichiometric(df['c2'], non_stoich_compounds_dict)\n",
    "new_df_c3 = replace_non_stoichiometric(df['c3'], non_stoich_compounds_dict)\n",
    "\n",
    "# Вывод уникальных значений после применения функции\n",
    "unique_values_c1 = new_df_c1.unique()\n",
    "unique_values_c2 = new_df_c2.unique()\n",
    "unique_values_c3 = new_df_c3.unique()\n",
    "\n",
    "print(\"Уникальные значения в столбце c1 после применения функции:\", unique_values_c1)\n",
    "print(\"Уникальные значения в столбце c2 после применения функции:\", unique_values_c2)\n",
    "print(\"Уникальные значения в столбце c3 после применения функции:\", unique_values_c3)"
   ]
  },
  {
   "cell_type": "markdown",
   "metadata": {},
   "source": [
    "## Теперь поработаем с space_group_core и space_group_shell"
   ]
  },
  {
   "cell_type": "code",
   "execution_count": 129,
   "metadata": {},
   "outputs": [
    {
     "name": "stdout",
     "output_type": "stream",
     "text": [
      "core unique values: ['p63mc' 'fm3m' 'fd3m' 'pbnm' 'r3c' 'p63/mmc' 'pm3m' 'i4/m' 'im3m' 'pbam'\n",
      " 'p42/mnm' 'pnma' 'p1' nan 'r3с' 'i41/amd' 'P63/mmc' 'p3m1' 'r3m' 'p4332'\n",
      " 'p63mmc' 'p4/mmm' 'i43m' 'cmcm' 'p4132' 'c2/c' 'p6322']\n",
      "core unique values: ['fd3m' '0' 'fm3m' 'r3c' 'p4332' 'cc' 'pbam' 'p4132' 'pnma' 'i41/amd'\n",
      " 'p41212' 'im3m' 'p63/mmc' 'p42/mnm']\n"
     ]
    }
   ],
   "source": [
    "#посмотрим какие структуры у нас есть\n",
    "print(f\"Core unique values: {df['space_group_core'].unique()}\")\n",
    "print(f\"Core unique values: {df['space_group_shell'].unique()}\")"
   ]
  },
  {
   "cell_type": "code",
   "execution_count": 187,
   "metadata": {},
   "outputs": [],
   "source": [
    "#создадим словарь, чтобы перевести простаранственные группы в числовые обозначения пространнственных групп\n",
    "dict_space_group = {\n",
    "    1: \"P1\", 2: \"P1\", 3: \"P121\", 4: \"P1211\", 5: \"C121\", 6: \"P1m1\", 7: \"P1c1\", 8: \"C1m1\",\n",
    "    9: \"C1c1\", 10: \"P12/m1\", 11: \"P121/m1\", 12: \"C12/m1\", 13: \"P12/c1\", 14: \"P121/c1\",\n",
    "    15: \"C12/c1\", 16: \"P222\", 17: \"P2221\", 18: \"P21212\", 19: \"P212121\", 20: \"C2221\",\n",
    "    21: \"C222\", 22: \"F222\", 23: \"I222\", 24: \"I212121\", 25: \"Pmm2\", 26: \"Pmc21\", 27: \"Pcc2\",\n",
    "    28: \"Pma2\", 29: \"Pca21\", 30: \"Pnc2\", 31: \"Pmn21\", 32: \"Pba2\", 33: \"Pna21\", 34: \"Pnn2\",\n",
    "    35: \"Cmm2\", 36: \"Cmc21\", 37: \"Ccc2\", 38: \"Amm2\", 39: \"Abm2\", 40: \"Ama2\", 41: \"Aba2\",\n",
    "    42: \"Fmm2\", 43: \"Fdd2\", 44: \"Imm2\", 45: \"Iba2\", 46: \"Ima2\", 47: \"Pmmm\", 48: \"Pnnn\",\n",
    "    49: \"Pccm\", 50: \"Pban\", 51: \"Pmma\", 52: \"Pnna\", 53: \"Pmna\", 54: \"Pcca\", 55: \"Pbam\",\n",
    "    56: \"Pccn\", 57: \"Pbcm\", 58: \"Pnnm\", 59: \"Pmmn\", 60: \"Pbcn\", 61: \"Pbca\", 62: \"Pnma\",\n",
    "    63: \"Cmcm\", 64: \"Cmca\", 65: \"Cmmm\", 66: \"Cccm\", 67: \"Cmma\", 68: \"Ccca\", 69: \"Fmmm\",\n",
    "    70: \"Fddd\", 71: \"Immm\", 72: \"Ibam\", 73: \"Ibca\", 74: \"Imma\", 75: \"P4\", 76: \"P41\",\n",
    "    77: \"P42\", 78: \"P43\", 79: \"I4\", 80: \"I41\", 81: \"P4\", 82: \"I4\", 83: \"P4/m\", 84: \"P42/m\",\n",
    "    85: \"P4/n\", 86: \"P42/n\", 87: \"I4/m\", 88: \"I41/a\", 89: \"P422\", 90: \"P4212\", 91: \"P4122\",\n",
    "    92: \"P41212\", 93: \"P4222\", 94: \"P42212\", 95: \"P4322\", 96: \"P43212\", 97: \"I422\",\n",
    "    98: \"I4122\", 99: \"P4mm\", 100: \"P4bm\", 101: \"P42cm\", 102: \"P42nm\", 103: \"P4cc\",\n",
    "    104: \"P4nc\", 105: \"P42mc\", 106: \"P42bc\", 107: \"I4mm\", 108: \"I4cm\", 109: \"I41md\",\n",
    "    110: \"I41cd\", 111: \"P42m\", 112: \"P42c\", 113: \"P421m\", 114: \"P421c\", 115: \"P4m2\",\n",
    "    116: \"P4c2\", 117: \"P4b2\", 118: \"P4n2\", 119: \"I4m2\", 120: \"I4c2\", 121: \"I42m\",\n",
    "    122: \"I42d\", 123: \"P4/mmm\", 124: \"P4/mcc\", 125: \"P4/nbm\", 126: \"P4/nnc\", 127: \"P4/mbm\",\n",
    "    128: \"P4/mnc\", 129: \"P4/nmm\", 130: \"P4/ncc\", 131: \"P42/mmc\", 132: \"P42/mcm\",\n",
    "    133: \"P42/nbc\", 134: \"P42/nnm\", 135: \"P42/mbc\", 136: \"P42/mnm\", 137: \"P42/nmc\",\n",
    "    138: \"P42/ncm\", 139: \"I4/mmm\", 140: \"I4/mcm\", 141: \"I41/amd\", 142: \"I41/acd\",\n",
    "    143: \"P3\", 144: \"P31\", 145: \"P32\", 146: \"R3\", 147: \"P3\", 148: \"R3\", 149: \"P312\",\n",
    "    150: \"P321\", 151: \"P3112\", 152: \"P3121\", 153: \"P3212\", 154: \"P3221\", 155: \"R32\",\n",
    "    156: \"P3m1\", 157: \"P31m\", 158: \"P3c1\", 159: \"P31c\", 160: \"R3m\", 161: \"R3c\", 162: \"P31m\",\n",
    "    163: \"P31c\", 164: \"P3m1\", 165: \"P3c1\", 166: \"R3m\", 167: \"R3c\", 168: \"P6\", 169: \"P61\",\n",
    "    170: \"P65\", 171: \"P62\", 172: \"P64\", 173: \"P63\", 174: \"P6\", 175: \"P6/m\", 176: \"P63/m\",\n",
    "    177: \"P622\", 178: \"P6122\", 179: \"P6522\", 180: \"P6222\", 181: \"P6422\", 182: \"P6322\",\n",
    "    183: \"P6mm\", 184: \"P6cc\", 185: \"P63cm\", 186: \"P63mc\", 187: \"P6m2\", 188: \"P6c2\",\n",
    "    189: \"P62m\", 190: \"P62c\", 191: \"P6/mmm\", 192: \"P6/mcc\", 193: \"P63/mcm\", 194: \"P63/mmc\",\n",
    "    195: \"P23\", 196: \"F23\", 197: \"I23\", 198: \"P213\", 199: \"I213\", 200: \"Pm3\", 201: \"Pn3\",\n",
    "    202: \"Fm3\", 203: \"Fd3\", 204: \"Im3\", 205: \"Pa3\", 206: \"Ia3\", 207: \"P432\", 208: \"P4232\",\n",
    "    209: \"F432\", 210: \"F4132\", 211: \"I432\", 212: \"P4332\", 213: \"P4132\", 214: \"I4132\",\n",
    "    215: \"P43m\", 216: \"F43m\", 217: \"I43m\", 218: \"P43n\", 219: \"F43c\", 220: \"I43d\",\n",
    "    221: \"Pm3m\", 222: \"Pn3n\", 223: \"Pm3n\", 224: \"Pn3m\", 225: \"Fm3m\", 226: \"Fm3c\",\n",
    "    227: \"Fd3m\", 228: \"Fd3c\", 229: \"Im3m\", 230: \"Ia3d\"\n",
    "}\n"
   ]
  },
  {
   "cell_type": "code",
   "execution_count": null,
   "metadata": {},
   "outputs": [],
   "source": [
    "# Создание словаря со значениями в нижнем регистре для сравнени по нему\n",
    "dict_space_group_lower = {key: value.lower() for key, value in dict_space_group.items()}"
   ]
  },
  {
   "cell_type": "code",
   "execution_count": null,
   "metadata": {},
   "outputs": [],
   "source": []
  },
  {
   "cell_type": "code",
   "execution_count": 140,
   "metadata": {},
   "outputs": [
    {
     "ename": "AttributeError",
     "evalue": "'float' object has no attribute 'lower'",
     "output_type": "error",
     "traceback": [
      "\u001b[1;31m---------------------------------------------------------------------------\u001b[0m",
      "\u001b[1;31mAttributeError\u001b[0m                            Traceback (most recent call last)",
      "Cell \u001b[1;32mIn[140], line 4\u001b[0m\n\u001b[0;32m      2\u001b[0m \u001b[38;5;28;01mfor\u001b[39;00m index, row \u001b[38;5;129;01min\u001b[39;00m df\u001b[38;5;241m.\u001b[39miterrows():\n\u001b[0;32m      3\u001b[0m     space_group_core \u001b[38;5;241m=\u001b[39m row[\u001b[38;5;124m'\u001b[39m\u001b[38;5;124mspace_group_core\u001b[39m\u001b[38;5;124m'\u001b[39m]\n\u001b[1;32m----> 4\u001b[0m     \u001b[38;5;28;01mif\u001b[39;00m \u001b[43mspace_group_core\u001b[49m\u001b[38;5;241;43m.\u001b[39;49m\u001b[43mlower\u001b[49m() \u001b[38;5;129;01min\u001b[39;00m dict_space_group:\n\u001b[0;32m      5\u001b[0m         df\u001b[38;5;241m.\u001b[39mat[index, \u001b[38;5;124m'\u001b[39m\u001b[38;5;124mspace_group_core\u001b[39m\u001b[38;5;124m'\u001b[39m] \u001b[38;5;241m=\u001b[39m dict_space_group[space_group_core\u001b[38;5;241m.\u001b[39mlower()] \u001b[38;5;241m+\u001b[39m \u001b[38;5;124m\"\u001b[39m\u001b[38;5;124m: \u001b[39m\u001b[38;5;130;01m\\\"\u001b[39;00m\u001b[38;5;124m\"\u001b[39m \u001b[38;5;241m+\u001b[39m dict_space_group[space_group_core\u001b[38;5;241m.\u001b[39mlower()] \u001b[38;5;241m+\u001b[39m \u001b[38;5;124m\"\u001b[39m\u001b[38;5;130;01m\\\"\u001b[39;00m\u001b[38;5;124m\"\u001b[39m\n\u001b[0;32m      6\u001b[0m     \u001b[38;5;28;01melse\u001b[39;00m:\n",
      "\u001b[1;31mAttributeError\u001b[0m: 'float' object has no attribute 'lower'"
     ]
    }
   ],
   "source": [
    "# Проход по каждой ячейке в колонке 'Space group(core)' и применение процедуры\n",
    "for index, row in df.iterrows():\n",
    "    space_group_core = row['space_group_core']\n",
    "    if space_group_core.lower() in dict_space_group:\n",
    "        df.at[index, 'space_group_core'] = dict_space_group[space_group_core.lower()] + \": \\\"\" + dict_space_group[space_group_core.lower()] + \"\\\"\"\n",
    "    else:\n",
    "        df.at[index, 'space_group_core'] = \"Unknown\"\n",
    "\n",
    "print(df)"
   ]
  },
  {
   "cell_type": "code",
   "execution_count": null,
   "metadata": {},
   "outputs": [],
   "source": [
    "dict_crystal_structure = {\n",
    "    \"triclinic\":[1, 2], \n",
    "    \"monoclinic\":[3, 4, 5, 6, 7, 8, 9, 10, 11, 12, 13, 14, 15],\n",
    "    \"orthorhombic\":[16, 17, 18, 19, 20, 21, 22, 23, 24, 25, 26, 27, 28, 29, 30, 31, 32, 33, 34, 35, 36, 37, 38, 39, 40, 41, 42, 43, 44, 45, 46, 47, 48, 49, 50, 51, 52, 53, 54, 55, 56, 57, 58, 59, 60, 61, 62, 63, 64, 65, 66, 67, 68, 69, 70, 71, 72, 73, 74], \n",
    "    \"tetragonal\":[75, 76, 77, 78, 79, 80, 81, 82, 83, 84, 85, 86, 87, 88, 89, 90, 91, 92, 93, 94, 95, 96, 97, 98, 99, 100, 101, 102, 103, 104, 105, 106, 107, 108, 109, 110, 111, 112, 113, 114, 115, 116, 117, 118, 119, 120, 121, 122, 123, 124, 125, 126, 127, 128, 129, 130, 131, 132, 133, 134, 135, 136, 137, 138, 139, 140, 141, 142], \n",
    "    \"trigonal\":[143, 144, 145, 146, 147, 148, 149, 150, 151, 152, 153, 154, 155, 156, 157, 158, 159, 160, 161, 162, 163, 164, 165, 166, 167], \n",
    "    \"hexagonal\":[168, 169, 170, 171, 172, 173, 174, 175, 176, 177, 178, 179, 180, 181, 182, 183, 184, 185, 186, 187, 188, 189, 190, 191, 192, 193, 194],\n",
    "    \"cubic\":[195, 196, 197, 198, 199, 200, 201, 202, 203, 204, 205, 206, 207, 208, 209, 210, 211, 212, 213, 214, 215, 216, 217, 218, 219, 220, 221, 222, 223, 224, 225, 226, 227, 228, 229, 230]\n",
    "}               "
   ]
  },
  {
   "cell_type": "code",
   "execution_count": null,
   "metadata": {},
   "outputs": [],
   "source": []
  }
 ],
 "metadata": {
  "kernelspec": {
   "display_name": "exc_env",
   "language": "python",
   "name": "python3"
  },
  "language_info": {
   "codemirror_mode": {
    "name": "ipython",
    "version": 3
   },
   "file_extension": ".py",
   "mimetype": "text/x-python",
   "name": "python",
   "nbconvert_exporter": "python",
   "pygments_lexer": "ipython3",
   "version": "3.11.4"
  }
 },
 "nbformat": 4,
 "nbformat_minor": 2
}
