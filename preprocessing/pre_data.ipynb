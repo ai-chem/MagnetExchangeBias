{
 "cells": [
  {
   "cell_type": "code",
   "execution_count": 410,
   "metadata": {},
   "outputs": [],
   "source": [
    "#all library connection\n",
    "import pandas as pd\n",
    "import numpy as np\n",
    "import re #регулярки\n",
    "from math import gcd, isclose\n",
    "import sympy as sp #библиотека символьных вычеслений, мат.задачи\n",
    "import matplotlib\n",
    "import matplotlib.pyplot as plt\n",
    "import seaborn as sns"
   ]
  },
  {
   "cell_type": "code",
   "execution_count": 411,
   "metadata": {},
   "outputs": [],
   "source": [
    "# pymatgen def to obtain structures\n",
    "from pymatgen.core.structure import Composition"
   ]
  },
  {
   "cell_type": "code",
   "execution_count": 412,
   "metadata": {},
   "outputs": [],
   "source": [
    "from collections import defaultdict"
   ]
  },
  {
   "cell_type": "code",
   "execution_count": 413,
   "metadata": {},
   "outputs": [],
   "source": [
    "#loading data\n",
    "df = pd.read_csv(r'C:\\Users\\Ксения\\Project\\Magnet_Exchange_bias\\data\\Bias_data.csv')"
   ]
  },
  {
   "cell_type": "code",
   "execution_count": 414,
   "metadata": {},
   "outputs": [
    {
     "name": "stdout",
     "output_type": "stream",
     "text": [
      "<class 'pandas.core.frame.DataFrame'>\n",
      "RangeIndex: 533 entries, 0 to 532\n",
      "Data columns (total 53 columns):\n",
      " #   Column                                          Non-Null Count  Dtype  \n",
      "---  ------                                          --------------  -----  \n",
      " 0   id                                              533 non-null    int64  \n",
      " 1   crystal_structure(core/shell)                   533 non-null    object \n",
      " 2   Space group(core)                               532 non-null    object \n",
      " 3   Space group(shell)                              533 non-null    object \n",
      " 4   chemical formula                                533 non-null    object \n",
      " 5   Structure                                       533 non-null    object \n",
      " 6   Structure_                                      533 non-null    object \n",
      " 7   length (D)                                      521 non-null    float64\n",
      " 8   width                                           521 non-null    float64\n",
      " 9   depth                                           509 non-null    float64\n",
      " 10  shape                                           482 non-null    object \n",
      " 11  core_1                                          533 non-null    object \n",
      " 12  core_2(shell)                                   533 non-null    object \n",
      " 13  Name                                            229 non-null    object \n",
      " 14  synonyms                                        115 non-null    object \n",
      " 15  Cas rn (core_1)                                 479 non-null    object \n",
      " 16  Cas rn (core_2)                                 527 non-null    object \n",
      " 17  Exp type                                        307 non-null    object \n",
      " 18  Scale bar (nm)                                  293 non-null    float64\n",
      " 19  microphotography pic                            216 non-null    float64\n",
      " 20  Spectrum                                        168 non-null    float64\n",
      " 21  JCPDS card (core)                               79 non-null     object \n",
      " 22  JCPDS card (shell)                              60 non-null     object \n",
      " 23  X-ray tube (nm)                                 139 non-null    float64\n",
      " 24  Instrument                                      201 non-null    object \n",
      " 25  Crystalline size                                186 non-null    float64\n",
      " 26  Material fraction                               196 non-null    object \n",
      " 27  curie temperature (K)                           78 non-null     float64\n",
      " 28  temperature (K)                                 528 non-null    float64\n",
      " 29  H-range min (kOe)                               526 non-null    float64\n",
      " 30  H-range max(kOe)                                526 non-null    float64\n",
      " 31  Ms (emu/g)                                      420 non-null    object \n",
      " 32  Hc (Oe)                                         510 non-null    object \n",
      " 33  Mr (emu/g)                                      430 non-null    float64\n",
      " 34  Instrument.1                                    344 non-null    object \n",
      " 35  exchange bias shift Hb or Heb(Oe)               500 non-null    float64\n",
      " 36  vertical loop shift M vsl (emu/g)               441 non-null    float64\n",
      " 37  M-H curve                                       289 non-null    float64\n",
      " 38  cooling fields (mT)                             508 non-null    float64\n",
      " 39  FC field(T)                                     508 non-null    float64\n",
      " 40  Hc of measurement (kOe)                         507 non-null    float64\n",
      " 41  applied field(kOe)                              184 non-null    float64\n",
      " 42  Article id                                      533 non-null    object \n",
      " 43  Method                                          488 non-null    object \n",
      " 44  Tb                                              86 non-null     float64\n",
      " 45  Keff (effective anisotropy constant) (erg/cm3)  13 non-null     float64\n",
      " 46  Keff (Jm^-3)                                    26 non-null     float64\n",
      " 47  Total magnetization                             0 non-null      float64\n",
      " 48  Atomic mass ratio                               0 non-null      float64\n",
      " 49  Number of magnetic ions per unit cell           0 non-null      float64\n",
      " 50  get_exchange_group_info                         0 non-null      float64\n",
      " 51  number_of_unique_magnetic_sites                 0 non-null      float64\n",
      " 52  number_of_magnetic_sites                        0 non-null      float64\n",
      "dtypes: float64(29), int64(1), object(23)\n",
      "memory usage: 220.8+ KB\n",
      "None\n"
     ]
    }
   ],
   "source": [
    "print(df.info())"
   ]
  },
  {
   "cell_type": "markdown",
   "metadata": {},
   "source": [
    "***Difference***\n",
    "- composition - core+shell with Ni1O1 like formula\n",
    "-  chemical formula - Ni50NiO50\n",
    "-  Structure - alhpa, gamma"
   ]
  },
  {
   "cell_type": "markdown",
   "metadata": {},
   "source": [
    "## Поработаем со столбцами"
   ]
  },
  {
   "cell_type": "code",
   "execution_count": 415,
   "metadata": {},
   "outputs": [
    {
     "name": "stdout",
     "output_type": "stream",
     "text": [
      "<class 'pandas.core.frame.DataFrame'>\n",
      "RangeIndex: 533 entries, 0 to 532\n",
      "Data columns (total 21 columns):\n",
      " #   Column                             Non-Null Count  Dtype  \n",
      "---  ------                             --------------  -----  \n",
      " 0   id                                 533 non-null    int64  \n",
      " 1   crystal_structure(core/shell)      533 non-null    object \n",
      " 2   Space group(core)                  532 non-null    object \n",
      " 3   Space group(shell)                 533 non-null    object \n",
      " 4   chemical formula                   533 non-null    object \n",
      " 5   Structure                          533 non-null    object \n",
      " 6   Structure_                         533 non-null    object \n",
      " 7   length (D)                         521 non-null    float64\n",
      " 8   width                              521 non-null    float64\n",
      " 9   depth                              509 non-null    float64\n",
      " 10  shape                              482 non-null    object \n",
      " 11  core_1                             533 non-null    object \n",
      " 12  core_2(shell)                      533 non-null    object \n",
      " 13  temperature (K)                    528 non-null    float64\n",
      " 14  H-range max(kOe)                   526 non-null    float64\n",
      " 15  Ms (emu/g)                         420 non-null    object \n",
      " 16  Hc (Oe)                            510 non-null    object \n",
      " 17  Mr (emu/g)                         430 non-null    float64\n",
      " 18  exchange bias shift Hb or Heb(Oe)  500 non-null    float64\n",
      " 19  vertical loop shift M vsl (emu/g)  441 non-null    float64\n",
      " 20  FC field(T)                        508 non-null    float64\n",
      "dtypes: float64(9), int64(1), object(11)\n",
      "memory usage: 87.6+ KB\n",
      "None\n"
     ]
    }
   ],
   "source": [
    "# Удалим все колонки, значения которых точно не подлежат востановлению\n",
    "del_col = ['Exp type', 'Scale bar (nm)', 'microphotography pic','Spectrum', 'JCPDS card (core)', 'JCPDS card (shell)', 'X-ray tube (nm)', 'Instrument', 'Crystalline size', 'Material fraction', 'curie temperature (K)', 'H-range min (kOe)', 'Instrument.1', 'M-H curve', 'applied field(kOe)', 'Article id', 'Method', 'H-range min (kOe)','Tb', 'Keff (effective anisotropy constant) (erg/cm3)',\n",
    "            'Keff (Jm^-3)', 'Total magnetization ', 'Atomic mass ratio', 'Number of magnetic ions per unit cell', 'Name', 'synonyms',\n",
    "            'get_exchange_group_info', 'cooling fields (mT)', 'Hc of measurement (kOe) ', 'number_of_unique_magnetic_sites', 'number_of_magnetic_sites', 'Cas rn (core_1)', 'Cas rn (core_2)' ]\n",
    "df = df.drop(columns=del_col)\n",
    "print(df.info())"
   ]
  },
  {
   "cell_type": "code",
   "execution_count": 416,
   "metadata": {},
   "outputs": [
    {
     "name": "stdout",
     "output_type": "stream",
     "text": [
      "Unique cores: ['Zn1O1' 'Cu1O1' 'Mn0.50Zn0.50Fe2O4' 'La1Fe1O3' 'Ni1' 'Mg1Fe2O4'\n",
      " 'Co1Fe2O4' 'Bi1Fe1O3' 'Co1' 'Fe1Rh1' 'Mn1O2' 'Ag1' 'Fe1' 'Fe1O1' 'Ni1O1'\n",
      " 'Fe3O4' 'Bi2Fe4O9' 'Ti1O2' 'Co0.4Fe2.6O4' 'Co0.7Fe2.3O4' 'Fe0.7Co0.3'\n",
      " 'Fe0.5Co0.5' 'Fe0.3Co0.7' 'La2Fe1Mn1O6' 'Fe1V1O4' 'Au1'\n",
      " 'Bi0.9Gd0.1Fe0.9Ti0.1O3' 'Nd0.78Sr0.22CoO3' 'Fe2O3' 'La0.85Sr0.15FeO3'\n",
      " 'Mn3O4' 'La0.67Sr0.33MnO3' 'Mn1O1' 'Co3O4' 'Ni0.99Fe0.01O1'\n",
      " 'Ni0.98Fe0.02O1' 'Ni0.96Fe0.04O1' 'Ni0.97Fe0.03O1' 'Ag0.5Cr2.5O4'\n",
      " 'Ag1Cr1O2' 'Co1O1' 'Mn1Fe2O4' 'Bi0.9La0.1FeO3' 'Nd0.90Ho0.10FeO3'\n",
      " 'Dy1Cr1Ti1O5' 'Gd1Cr1Ti1O5' 'Ba1Fe12O19' 'Ni1Fe2O4' 'Co1Cr2O4' 'Fe1Ni1'\n",
      " 'Mn1' 'Fe1F2' 'Fe5C2' 'Fe1Ni3' 'Fe2.2C1' 'La2Fe2O6' 'Co1P1']\n",
      "Amount of unique cores composition: 57\n",
      "Unique shells: ['Co1Fe2O4' '0' 'Ni1O1' 'Bi1Fe1O3' 'Co1O1' 'Fe3O4' 'Fe2O3' 'Bi2Fe4O9'\n",
      " 'Сu1O1' 'Si1O2' 'Co3O4' 'Mn3O4' 'Ni1Fe2O4' 'Co1Mn2O4' 'Fe1' 'Mn1O1'\n",
      " 'Fe3C1' 'Mg1O1' 'Mg1O1, Co1Fe2O4' 'Mo1' 'Co1']\n",
      "Amount of unique shells composition: 21\n"
     ]
    }
   ],
   "source": [
    "# Теперь можно удалить эти колонки, так как они имеют такие же значения как и crystal_structure(core/shell) и chemical formula\n",
    "print(f'Unique cores: {df[\"core_1\"].unique()}', f'Amount of unique cores composition: {len(df[\"core_1\"].unique())}', sep='\\n')\n",
    "print(f'Unique shells: {df[\"core_2(shell)\"].unique()}', f'Amount of unique shells composition: {len(df[\"core_2(shell)\"].unique())}', sep='\\n')"
   ]
  },
  {
   "cell_type": "code",
   "execution_count": 417,
   "metadata": {},
   "outputs": [],
   "source": [
    "df = df.drop(columns=['core_1', 'core_2(shell)']) #удалим их"
   ]
  },
  {
   "cell_type": "code",
   "execution_count": 418,
   "metadata": {},
   "outputs": [
    {
     "name": "stdout",
     "output_type": "stream",
     "text": [
      "<class 'pandas.core.frame.DataFrame'>\n",
      "RangeIndex: 533 entries, 0 to 532\n",
      "Data columns (total 19 columns):\n",
      " #   Column             Non-Null Count  Dtype  \n",
      "---  ------             --------------  -----  \n",
      " 0   id                 533 non-null    int64  \n",
      " 1   crystal_structure  533 non-null    object \n",
      " 2   space_group_core   532 non-null    object \n",
      " 3   space_group_shell  533 non-null    object \n",
      " 4   chemical_formula   533 non-null    object \n",
      " 5   structure          533 non-null    object \n",
      " 6   structure_         533 non-null    object \n",
      " 7   length_d_nm        521 non-null    float64\n",
      " 8   width_nm           521 non-null    float64\n",
      " 9   depth_nm           509 non-null    float64\n",
      " 10  shape              482 non-null    object \n",
      " 11  temperature_k      528 non-null    float64\n",
      " 12  h_range_max_koe    526 non-null    float64\n",
      " 13  sat_em_g           420 non-null    object \n",
      " 14  coer_oe            510 non-null    object \n",
      " 15  mr (emu/g)         430 non-null    float64\n",
      " 16  exc_bias_oe        500 non-null    float64\n",
      " 17  ver_shift_emu_g    441 non-null    float64\n",
      " 18  fc_field_t         508 non-null    float64\n",
      "dtypes: float64(9), int64(1), object(9)\n",
      "memory usage: 79.2+ KB\n",
      "None\n"
     ]
    }
   ],
   "source": [
    "#переименуем название колонк для удобства и преобразуем их в нижний регистр\n",
    "df.columns = df.columns.str.lower()\n",
    "\n",
    "new_column_names = {\n",
    "    'id': 'id', 'crystal_structure(core/shell)': 'crystal_structure',\n",
    "    'space group(core)': 'space_group_core', 'space group(shell)': 'space_group_shell',\n",
    "    'chemical formula': 'chemical_formula', 'structure': 'structure',\n",
    "    'length (d)': 'length_d_nm', 'width': 'width_nm',\n",
    "    'depth': 'depth_nm', 'shape': 'shape', 'temperature (k)': 'temperature_k',\n",
    "    'h-range max(koe)': 'h_range_max_koe', 'ms (emu/g)': 'sat_em_g',\n",
    "    'hc (oe)': 'coer_oe', 'mrem (emu/g)': 'rem_emu_g', 'exchange bias shift hb or heb(oe)': 'exc_bias_oe',\n",
    "    'vertical loop shift m vsl (emu/g)': 'ver_shift_emu_g', 'fc field(t)': 'fc_field_t'\n",
    "}\n",
    "\n",
    "# Переименование столбцов\n",
    "df = df.rename(columns=new_column_names)\n",
    "print(df.info())"
   ]
  },
  {
   "cell_type": "markdown",
   "metadata": {},
   "source": [
    "## Поработаем с химическими формулами"
   ]
  },
  {
   "cell_type": "code",
   "execution_count": 419,
   "metadata": {},
   "outputs": [],
   "source": [
    "chemical_formulas = []\n",
    "\n",
    "for formula in df['chemical_formula']: # Итерация по каждой формуле в столбце 'chemical formula'\n",
    "    if not formula.isalnum(): # Проверка, содержит ли формула только буквенно-цифровые символы\n",
    "        line = re.split(\"-|,|/|@|–\", formula) # Разделение формулы по символам '-', '@', '/', and ','\n",
    "        components = [] # Создание пустого списка для хранения компонентов формулы\n",
    "        for i in line:  # Итерация по каждому компоненту в разделенной формуле\n",
    "            if i.strip(): # Добавление компонента в список, если он не пустой\n",
    "                components.append(i.strip())\n",
    "        chemical_formulas.append(components) # Добавление списка компонентов в список химических формул\n",
    "    else:\n",
    "        chemical_formulas.append([formula])  # Если формула состоит только из буквенно-цифровых символов, добавляем ее как есть\n",
    "\n",
    "df['chemical_formula'] = chemical_formulas # Замена столбца новыми значениями"
   ]
  },
  {
   "cell_type": "code",
   "execution_count": 420,
   "metadata": {},
   "outputs": [
    {
     "name": "stdout",
     "output_type": "stream",
     "text": [
      "<class 'pandas.core.frame.DataFrame'>\n",
      "RangeIndex: 533 entries, 0 to 532\n",
      "Data columns (total 22 columns):\n",
      " #   Column             Non-Null Count  Dtype  \n",
      "---  ------             --------------  -----  \n",
      " 0   c1                 533 non-null    object \n",
      " 1   c2                 322 non-null    object \n",
      " 2   c3                 9 non-null      object \n",
      " 3   chemical_formula   533 non-null    object \n",
      " 4   coer_oe            510 non-null    object \n",
      " 5   crystal_structure  533 non-null    object \n",
      " 6   depth_nm           509 non-null    float64\n",
      " 7   exc_bias_oe        500 non-null    float64\n",
      " 8   fc_field_t         508 non-null    float64\n",
      " 9   h_range_max_koe    526 non-null    float64\n",
      " 10  id                 533 non-null    int64  \n",
      " 11  length_d_nm        521 non-null    float64\n",
      " 12  mr (emu/g)         430 non-null    float64\n",
      " 13  sat_em_g           420 non-null    object \n",
      " 14  shape              482 non-null    object \n",
      " 15  space_group_core   532 non-null    object \n",
      " 16  space_group_shell  533 non-null    object \n",
      " 17  structure          533 non-null    object \n",
      " 18  structure_         533 non-null    object \n",
      " 19  temperature_k      528 non-null    float64\n",
      " 20  ver_shift_emu_g    441 non-null    float64\n",
      " 21  width_nm           521 non-null    float64\n",
      "dtypes: float64(9), int64(1), object(12)\n",
      "memory usage: 91.7+ KB\n",
      "None\n"
     ]
    }
   ],
   "source": [
    "# Функция для разбивки списка в каждой ячейке на отдельные элементы и вставки их в новые столбцы\n",
    "def split_elements(row):\n",
    "    # Получаем список элементов из ячейки\n",
    "    elements = row['chemical_formula']\n",
    "    # Размещаем элементы в соответствующих столбцах\n",
    "    for i, element in enumerate(elements):\n",
    "        if i < 3:\n",
    "            row[f'c{i+1}'] = element\n",
    "    return row\n",
    "\n",
    "# Применяем функцию к каждой строке датафрейма\n",
    "df = df.apply(split_elements, axis=1)\n",
    "\n",
    "print(df.info())"
   ]
  },
  {
   "cell_type": "code",
   "execution_count": 421,
   "metadata": {},
   "outputs": [
    {
     "name": "stdout",
     "output_type": "stream",
     "text": [
      "0                    ZnO\n",
      "1                    CoO\n",
      "2      Mn0.50Zn0.50Fe2O4\n",
      "3      Mn0.50Zn0.50Fe2O4\n",
      "4      Mn0.50Zn0.50Fe2O4\n",
      "             ...        \n",
      "528               LaFeO3\n",
      "529               LaFeO3\n",
      "530               LaFeO3\n",
      "531               LaFeO3\n",
      "532               LaFeO3\n",
      "Name: c1, Length: 533, dtype: object 0      CoFe2O4\n",
      "1      CoFe2O4\n",
      "2          NaN\n",
      "3          NaN\n",
      "4          NaN\n",
      "        ...   \n",
      "528        NiO\n",
      "529        NiO\n",
      "530        NiO\n",
      "531        NiO\n",
      "532        NiO\n",
      "Name: c2, Length: 533, dtype: object 0      NaN\n",
      "1      NaN\n",
      "2      NaN\n",
      "3      NaN\n",
      "4      NaN\n",
      "      ... \n",
      "528    NaN\n",
      "529    NaN\n",
      "530    NaN\n",
      "531    NaN\n",
      "532    NaN\n",
      "Name: c3, Length: 533, dtype: object\n"
     ]
    }
   ],
   "source": [
    "# Проверим как разделились значения списка\n",
    "print(df['c1'], df['c2'], df['c3'], end='\\n') # В с3 должно было быть всего 9 значений"
   ]
  },
  {
   "cell_type": "code",
   "execution_count": 422,
   "metadata": {},
   "outputs": [
    {
     "name": "stdout",
     "output_type": "stream",
     "text": [
      "<class 'pandas.core.series.Series'>\n",
      "RangeIndex: 533 entries, 0 to 532\n",
      "Series name: c2\n",
      "Non-Null Count  Dtype \n",
      "--------------  ----- \n",
      "322 non-null    object\n",
      "dtypes: object(1)\n",
      "memory usage: 4.3+ KB\n",
      "None\n"
     ]
    }
   ],
   "source": [
    "print(df['c2'].info())"
   ]
  },
  {
   "cell_type": "code",
   "execution_count": 423,
   "metadata": {},
   "outputs": [
    {
     "name": "stdout",
     "output_type": "stream",
     "text": [
      "['ZnO' 'CoO' 'Mn0.50Zn0.50Fe2O4' 'LaFeO3' 'Ni' 'MgFe2O4' 'CoFe2O4'\n",
      " 'BiFeO3' 'Co' 'FeRh' 'MnO2' 'Ag' 'Fe' 'FeO' 'NiO' 'Fe3O4' 'Bi2Fe4O9'\n",
      " 'TiO2' 'Co0.4Fe2.6O4' 'Co0.7Fe2.3O4' 'Fe0.7Co0.3' 'Fe0.5Co0.5'\n",
      " 'Fe0.3Co0.7' 'La2FeMnO6' 'FeVO4' 'Au' 'Bi0.9Gd0.1Fe0.9Ti0.1O3'\n",
      " 'Nd0.78Sr0.22CoO3' 'Cu0.98' 'Cu0.96' 'Fe2O3' 'La0.85Sr0.15FeO3' 'Mn3O4'\n",
      " 'La0.67Sr0.33MnO3' 'MnO' 'Co3O4' 'Ni0.99Fe0.01O' 'Ni0.98Fe0.02O'\n",
      " 'Ni0.96Fe0.04O' 'Ni0.97Fe0.03O' 'Ag0.5Cr2.5O4' 'AgCrO2' 'MnFe2O4'\n",
      " 'Bi0.9La0.1FeO3' 'NdFeO3' 'DyCrTiO5' 'GdCrTiO5' 'BaFe12O19' 'NiFe2O4'\n",
      " 'CoCr2O4' 'FeNi' 'Mn' 'Fe5C2' 'FeNi3' 'Fe2.2C' 'La2Fe2O6' 'FeF2' 'CoP'] ['CoFe2O4' nan 'NiO' 'BiFeO3' 'CoO' 'Fe3O4' 'Fe2O3' 'Bi2Fe4O9' 'Fe0.02O'\n",
      " 'Fe0.04O' 'Co3O4' 'Mn3O4' 'NiFe2O4' 'CoMn2O4' 'MnO' 'Fe3C' 'MgO' 'Mo'\n",
      " 'Co' 'Fe'] [nan 'CoFe2O4']\n"
     ]
    }
   ],
   "source": [
    "#Сделаем костыль для нестеохео соединений \n",
    "print(df['c1'].unique(), df['c2'].unique(), df['c3'].unique(), end='\\n')\n",
    "non_steh = ['Mn0.50Zn0.50Fe2O4',  'Co0.4Fe2.6O4', 'Co0.7Fe2.3O4', 'Fe0.7Co0.3', 'Fe0.5Co0.5',\n",
    " 'Fe0.3Co0.7', 'Bi0.9Gd0.1Fe0.9Ti0.1O3', 'Nd0.78Sr0.22CoO3' 'Cu0.98' 'Cu0.96', 'La0.85Sr0.15FeO3', \n",
    " 'La0.67Sr0.33MnO3', 'Ni0.99Fe0.01O', 'Ni0.98Fe0.02O', 'Ni0.96Fe0.04O', 'Ni0.97Fe0.03O', 'Ag0.5Cr2.5O4',\n",
    " 'Bi0.9La0.1FeO3', 'Fe2.2C', 'Fe0.02O', 'Fe0.04O']"
   ]
  },
  {
   "cell_type": "code",
   "execution_count": 424,
   "metadata": {},
   "outputs": [],
   "source": [
    "# Костыль для таких соединений\n",
    "non_stoich_compounds_dict = {\n",
    "    'Mn0.50Zn0.50Fe2O4': 'MnZnFe4O8', 'Co0.4Fe2.6O4': 'Co2Fe13O20',\n",
    "    'Co0.7Fe2.3O4': 'Co7Fe23O40', 'Fe0.7Co0.3': 'Fe7Co3', 'Fe0.5Co0.5': 'FeCo',\n",
    "    'Fe0.3Co0.7': 'Fe3Co7', 'Bi0.9Gd0.1Fe0.9Ti0.1O3': 'Bi9GdFe9TiO30',\n",
    "    'Nd0.78Sr0.22CoO3': 'Nd39Sr11Co50O150', 'Cu0.98': 'Cu98', 'Cu0.96': 'Cu96',\n",
    "    'La0.85Sr0.15FeO3': 'La17Sr3Fe20O60', 'La0.67Sr0.33MnO3': 'La67Sr33Mn100O300',\n",
    "    'Ni0.99Fe0.01O': 'Ni99FeO100', 'Ni0.98Fe0.02O': 'Ni49FeO50', 'Ni0.96Fe0.04O': 'Ni24FeO25',\n",
    "    'Ni0.97Fe0.03O': 'Ni97Fe3O100', 'Ag0.5Cr2.5O4': 'AgCr5O8', 'Bi0.9La0.1FeO3': 'Bi9LaFe10O30',\n",
    "    'Fe2.2C': 'Fe11C5', 'Fe0.02O': 'FeO50', 'Fe0.04O': 'FeO25'\n",
    "}"
   ]
  },
  {
   "cell_type": "code",
   "execution_count": 425,
   "metadata": {},
   "outputs": [],
   "source": [
    "def replace_non_stoichiometric(column, non_stoich_compounds_dict):\n",
    "    '''Функция заменяет значения ключей на значения для этих ключей'''\n",
    "    for i, value in enumerate(column):\n",
    "        if value != 0 and value in non_stoich_compounds_dict:\n",
    "            column.at[i] = non_stoich_compounds_dict[value]\n",
    "    return column"
   ]
  },
  {
   "cell_type": "code",
   "execution_count": 426,
   "metadata": {},
   "outputs": [],
   "source": [
    "# Применение функции к каждому столбцу\n",
    "new_df_c1 = replace_non_stoichiometric(df['c1'], non_stoich_compounds_dict)\n",
    "new_df_c2 = replace_non_stoichiometric(df['c2'], non_stoich_compounds_dict)\n",
    "new_df_c3 = replace_non_stoichiometric(df['c3'], non_stoich_compounds_dict)\n",
    "\n",
    "# Вывод уникальных значений после применения функции\n",
    "unique_values_c1 = new_df_c1.unique()\n",
    "unique_values_c2 = new_df_c2.unique()\n",
    "unique_values_c3 = new_df_c3.unique()"
   ]
  },
  {
   "cell_type": "code",
   "execution_count": 427,
   "metadata": {},
   "outputs": [
    {
     "name": "stdout",
     "output_type": "stream",
     "text": [
      "Уникальные значения в столбце c1 после применения функции:['ZnO' 'CoO' 'MnZnFe4O8' 'LaFeO3' 'Ni' 'MgFe2O4' 'CoFe2O4' 'BiFeO3' 'Co'\n",
      " 'FeRh' 'MnO2' 'Ag' 'Fe' 'FeO' 'NiO' 'Fe3O4' 'Bi2Fe4O9' 'TiO2'\n",
      " 'Co2Fe13O20' 'Co7Fe23O40' 'Fe7Co3' 'FeCo' 'Fe3Co7' 'La2FeMnO6' 'FeVO4'\n",
      " 'Au' 'Bi9GdFe9TiO30' 'Nd39Sr11Co50O150' 'Cu98' 'Cu96' 'Fe2O3'\n",
      " 'La17Sr3Fe20O60' 'Mn3O4' 'La67Sr33Mn100O300' 'MnO' 'Co3O4' 'Ni99FeO100'\n",
      " 'Ni49FeO50' 'Ni24FeO25' 'Ni97Fe3O100' 'AgCr5O8' 'AgCrO2' 'MnFe2O4'\n",
      " 'Bi9LaFe10O30' 'NdFeO3' 'DyCrTiO5' 'GdCrTiO5' 'BaFe12O19' 'NiFe2O4'\n",
      " 'CoCr2O4' 'FeNi' 'Mn' 'Fe5C2' 'FeNi3' 'Fe11C5' 'La2Fe2O6' 'FeF2' 'CoP']\n",
      "Уникальные значения в столбце c2 после применения функции:['CoFe2O4' nan 'NiO' 'BiFeO3' 'CoO' 'Fe3O4' 'Fe2O3' 'Bi2Fe4O9' 'FeO50'\n",
      " 'FeO25' 'Co3O4' 'Mn3O4' 'NiFe2O4' 'CoMn2O4' 'MnO' 'Fe3C' 'MgO' 'Mo' 'Co'\n",
      " 'Fe']\n",
      "Уникальные значения в столбце c3 после применения функции:[nan 'CoFe2O4']\n"
     ]
    }
   ],
   "source": [
    "print(f\"Уникальные значения в столбце c1 после применения функции:{unique_values_c1}\\nУникальные значения в столбце c2 после применения функции:{unique_values_c2}\\nУникальные значения в столбце c3 после применения функции:{unique_values_c3}\", end='\\n')"
   ]
  },
  {
   "cell_type": "markdown",
   "metadata": {},
   "source": [
    "### Время для использования Composition\n",
    "\n",
    "Однако в наших колонках есть пропуски и 0, поэттому надо создать функцию, которая будет игнорировать такие строки"
   ]
  },
  {
   "cell_type": "code",
   "execution_count": 428,
   "metadata": {},
   "outputs": [],
   "source": [
    "def process_column(df, column_name):\n",
    "    \"\"\"\n",
    "    Функция проверяет каждую ячейку в столбце DataFrame на равенство 0 или NaN.\n",
    "    Если значение не равно 0 или NaN, оно заменяется на результат применения класса Composition из библиотеки pymatgen.\n",
    "\n",
    "    Args:\n",
    "        df (pandas.DataFrame): Исходный DataFrame.\n",
    "        column_name (str): Имя столбца, который нужно обработать.\n",
    "\n",
    "    Returns:\n",
    "        pandas.DataFrame: DataFrame c обработанным столбцом.\n",
    "    \"\"\"\n",
    "    new_column = []\n",
    "    for value in df[column_name]:\n",
    "        if pd.notna(value) and value != 0:\n",
    "            # Если значение не NaN и не равно 0, применяем класс Composition\n",
    "            comp = Composition(str(value))\n",
    "            new_value = comp.formula\n",
    "        else:\n",
    "            new_value = value\n",
    "        new_column.append(new_value)\n",
    "\n",
    "    df[column_name] = new_column\n",
    "    return df"
   ]
  },
  {
   "cell_type": "markdown",
   "metadata": {},
   "source": [
    "Теперь у меня есть работающая функция composition для столбцов с nan и 0"
   ]
  },
  {
   "cell_type": "code",
   "execution_count": 429,
   "metadata": {},
   "outputs": [
    {
     "name": "stdout",
     "output_type": "stream",
     "text": [
      "[nan 'Fe2 Co1 O4']\n",
      "['Fe2 Co1 O4' nan 'Ni1 O1' 'Fe1 Bi1 O3' 'Co1 O1' 'Fe3 O4' 'Fe2 O3'\n",
      " 'Fe4 Bi2 O9' 'Fe1 O50' 'Fe1 O25' 'Co3 O4' 'Mn3 O4' 'Fe2 Ni1 O4'\n",
      " 'Mn2 Co1 O4' 'Mn1 O1' 'Fe3 C1' 'Mg1 O1' 'Mo1' 'Co1' 'Fe1']\n"
     ]
    }
   ],
   "source": [
    "# Применим на наши колонки c1, c2, c3\n",
    "processed_df = process_column(df, column_name='c1')\n",
    "processed_df = process_column(df, column_name='c2')\n",
    "processed_df = process_column(df, column_name='c3')\n",
    "print(df['c3'].unique())\n",
    "print(df['c2'].unique())"
   ]
  },
  {
   "cell_type": "markdown",
   "metadata": {},
   "source": [
    "Создадим отдельный столбец, где будем содержать полностью материал созданный из трёх колонок c1, c2, c3"
   ]
  },
  {
   "cell_type": "code",
   "execution_count": 430,
   "metadata": {},
   "outputs": [],
   "source": [
    "# Функция для сложения формул из нескольких столбцов\n",
    "def combine_compositions(row):\n",
    "    compositions = []\n",
    "    for column in ['c1', 'c2', 'c3']:\n",
    "        value = row[column]\n",
    "        if pd.notnull(value):  # Проверяем, не пустое ли значение\n",
    "            compositions.append(value)\n",
    "    return ' '.join(compositions)\n",
    "\n",
    "# Создаем новый столбец с объединенными формулами\n",
    "df['formula_combined'] = df.apply(combine_compositions, axis=1)"
   ]
  },
  {
   "cell_type": "code",
   "execution_count": 431,
   "metadata": {},
   "outputs": [
    {
     "name": "stdout",
     "output_type": "stream",
     "text": [
      "0      Zn1 O1 Fe2 Co1 O4\n",
      "1      Co1 O1 Fe2 Co1 O4\n",
      "2         Mn1 Zn1 Fe4 O8\n",
      "3         Mn1 Zn1 Fe4 O8\n",
      "4         Mn1 Zn1 Fe4 O8\n",
      "             ...        \n",
      "528    La1 Fe1 O3 Ni1 O1\n",
      "529    La1 Fe1 O3 Ni1 O1\n",
      "530    La1 Fe1 O3 Ni1 O1\n",
      "531    La1 Fe1 O3 Ni1 O1\n",
      "532    La1 Fe1 O3 Ni1 O1\n",
      "Name: formula_combined, Length: 533, dtype: object\n"
     ]
    }
   ],
   "source": [
    "print(df['formula_combined']) # Получилось немного криво, но не критично я думаю"
   ]
  },
  {
   "cell_type": "markdown",
   "metadata": {},
   "source": [
    "## Теперь поработаем с space_group_core и space_group_shell"
   ]
  },
  {
   "cell_type": "code",
   "execution_count": 432,
   "metadata": {},
   "outputs": [],
   "source": [
    "# Преобразование значений в нижний регистр на всякий случай\n",
    "df['space_group_core'] = df['space_group_core'].str.lower()\n",
    "df['space_group_shell'] = df['space_group_shell'].str.lower()"
   ]
  },
  {
   "cell_type": "code",
   "execution_count": 433,
   "metadata": {},
   "outputs": [
    {
     "name": "stdout",
     "output_type": "stream",
     "text": [
      "Уникальные значение ядер: ['p63mc' 'fm-3m' 'fd-3m' 'pnma' 'r3c' 'p63/mmc' 'pm-3m' 'i4/m' 'im-3m'\n",
      " 'pbam' 'p42/mnm' 'p1' nan 'i41/amd' 'p-3m1' 'r3m' 'p4332' 'p4/mmm'\n",
      " 'i-43m' 'cmcm' 'p4132' 'c2/c' 'p6322' 'pnnm']\n",
      "Уникальные значения оболочек: ['fd-3m' '0' 'fm-3m' 'r3c' 'p4332' 'pbam' 'p4132' 'pnma' 'i41/amd'\n",
      " 'p41212' 'im-3m' 'p63/mmc' 'p42/mnm']\n"
     ]
    }
   ],
   "source": [
    "#посмотрим какие структуры у нас есть\n",
    "print(f\"Уникальные значение ядер: {df['space_group_core'].unique()}\")\n",
    "print(f\"Уникальные значения оболочек: {df['space_group_shell'].unique()}\")"
   ]
  },
  {
   "cell_type": "markdown",
   "metadata": {},
   "source": [
    "[ 'fm-3m' 'fd-3m' 'pbnm' - заменить на pnma 'r3c''pm-3m' 'im-3m' 'i-43m'\n",
    "  'p-3m1'"
   ]
  },
  {
   "cell_type": "code",
   "execution_count": 434,
   "metadata": {},
   "outputs": [],
   "source": [
    "# Надо заменить на значения с чертой/ - если значение равно 221-230 или 215-220 или 200-206 или 187-190 или 162-167"
   ]
  },
  {
   "cell_type": "markdown",
   "metadata": {},
   "source": [
    "Осторожней с 62 - так она может пиcаться ещё как 'Pnma' и 'pbnm'"
   ]
  },
  {
   "cell_type": "code",
   "execution_count": 435,
   "metadata": {},
   "outputs": [],
   "source": [
    "#создадим словарь, чтобы перевести простаранственные группы в числовые обозначения пространнственных групп\n",
    "dict_space_group = {\n",
    "    1: \"P1\", 2: \"P-1\", 3: \"P121\", 4: \"P1211\", 5: \"C121\", 6: \"P1m1\", 7: \"P1c1\", 8: \"C1m1\",\n",
    "    9: \"C1c1\", 10: \"P12/m1\", 11: \"P121/m1\", 12: \"C12/m1\", 13: \"P12/c1\", 14: \"P121/c1\",\n",
    "    15: \"C2/c\", 16: \"P222\", 17: \"P2221\", 18: \"P21212\", 19: \"P212121\", 20: \"C2221\",\n",
    "    21: \"C222\", 22: \"F222\", 23: \"I222\", 24: \"I212121\", 25: \"Pmm2\", 26: \"Pmc21\", 27: \"Pcc2\",\n",
    "    28: \"Pma2\", 29: \"Pca21\", 30: \"Pnc2\", 31: \"Pmn21\", 32: \"Pba2\", 33: \"Pna21\", 34: \"Pnn2\",\n",
    "    35: \"Cmm2\", 36: \"Cmc21\", 37: \"Ccc2\", 38: \"Amm2\", 39: \"Abm2\", 40: \"Ama2\", 41: \"Aba2\",\n",
    "    42: \"Fmm2\", 43: \"Fdd2\", 44: \"Imm2\", 45: \"Iba2\", 46: \"Ima2\", 47: \"Pmmm\", 48: \"Pnnn\",\n",
    "    49: \"Pccm\", 50: \"Pban\", 51: \"Pmma\", 52: \"Pnna\", 53: \"Pmna\", 54: \"Pcca\", 55: \"Pbam\",\n",
    "    56: \"Pccn\", 57: \"Pbcm\", 58: \"Pnnm\", 59: \"Pmmn\", 60: \"Pbcn\", 61: \"Pbca\", 62: \"Pnma\",\n",
    "    63: \"Cmcm\", 64: \"Cmca\", 65: \"Cmmm\", 66: \"Cccm\", 67: \"Cmma\", 68: \"Ccca\", 69: \"Fmmm\",\n",
    "    70: \"Fddd\", 71: \"Immm\", 72: \"Ibam\", 73: \"Ibca\", 74: \"Imma\", 75: \"P4\", 76: \"P41\",\n",
    "    77: \"P42\", 78: \"P43\", 79: \"I4\", 80: \"I41\", 81: \"P-4\", 82: \"I-4\", 83: \"P4/m\", 84: \"P42/m\",\n",
    "    85: \"P4/n\", 86: \"P42/n\", 87: \"I4/m\", 88: \"I41/a\", 89: \"P422\", 90: \"P4212\", 91: \"P4122\",\n",
    "    92: \"P41212\", 93: \"P4222\", 94: \"P42212\", 95: \"P4322\", 96: \"P43212\", 97: \"I422\",\n",
    "    98: \"I4122\", 99: \"P4mm\", 100: \"P4bm\", 101: \"P42cm\", 102: \"P42nm\", 103: \"P4cc\",\n",
    "    104: \"P4nc\", 105: \"P42mc\", 106: \"P42bc\", 107: \"I4mm\", 108: \"I4cm\", 109: \"I41md\",\n",
    "    110: \"I41cd\", 111: \"P-42m\", 112: \"P-42c\", 113: \"P-421m\", 114: \"P-421c\", 115: \"P-4m2\",\n",
    "    116: \"P-4c2\", 117: \"P-4b2\", 118: \"P-4n2\", 119: \"I-4m2\", 120: \"I-4c2\", 121: \"I-42m\",\n",
    "    122: \"I-42d\", 123: \"P4/mmm\", 124: \"P4/mcc\", 125: \"P4/nbm\", 126: \"P4/nnc\", 127: \"P4/mbm\",\n",
    "    128: \"P4/mnc\", 129: \"P4/nmm\", 130: \"P4/ncc\", 131: \"P42/mmc\", 132: \"P42/mcm\",\n",
    "    133: \"P42/nbc\", 134: \"P42/nnm\", 135: \"P42/mbc\", 136: \"P42/mnm\", 137: \"P42/nmc\",\n",
    "    138: \"P42/ncm\", 139: \"I4/mmm\", 140: \"I4/mcm\", 141: \"I41/amd\", 142: \"I41/acd\",\n",
    "    143: \"P3\", 144: \"P31\", 145: \"P32\", 146: \"R3\", 147: \"P-3\", 148: \"R-3\", 149: \"P312\",\n",
    "    150: \"P321\", 151: \"P3112\", 152: \"P3121\", 153: \"P3212\", 154: \"P3221\", 155: \"R32\",\n",
    "    156: \"P3m1\", 157: \"P31m\", 158: \"P3c1\", 159: \"P31c\", 160: \"R3m\", 161: \"R3c\", 162: \"P-31m\",\n",
    "    163: \"P-31c\", 164: \"P-3m1\", 165: \"P-3c1\", 166: \"R-3m\", 167: \"R-3c\", 168: \"P6\", 169: \"P61\",\n",
    "    170: \"P65\", 171: \"P62\", 172: \"P64\", 173: \"P63\", 174: \"P-6\", 175: \"P6/m\", 176: \"P63/m\",\n",
    "    177: \"P622\", 178: \"P6122\", 179: \"P6522\", 180: \"P6222\", 181: \"P6422\", 182: \"P6322\",\n",
    "    183: \"P6mm\", 184: \"P6cc\", 185: \"P63cm\", 186: \"P63mc\", 187: \"P-6m2\", 188: \"P-6c2\",\n",
    "    189: \"P-62m\", 190: \"P-62c\", 191: \"P6/mmm\", 192: \"P6/mcc\", 193: \"P63/mcm\", 194: \"P63/mmc\",\n",
    "    195: \"P23\", 196: \"F23\", 197: \"I23\", 198: \"P213\", 199: \"I213\", 200: \"Pm-3\", 201: \"Pn-3\",\n",
    "    202: \"Fm-3\", 203: \"Fd-3\", 204: \"Im-3\", 205: \"Pa-3\", 206: \"Ia-3\", 207: \"P432\", 208: \"P4232\",\n",
    "    209: \"F432\", 210: \"F4132\", 211: \"I432\", 212: \"P4332\", 213: \"P4132\", 214: \"I4132\",\n",
    "    215: \"P-43m\", 216: \"F-43m\", 217: \"I-43m\", 218: \"P-43n\", 219: \"F-43c\", 220: \"I-43d\",\n",
    "    221: \"Pm-3m\", 222: \"Pn-3n\", 223: \"Pm-3n\", 224: \"Pn-3m\", 225: \"Fm-3m\", 226: \"Fm-3c\",\n",
    "    227: \"Fd-3m\", 228: \"Fd-3c\", 229: \"Im-3m\", 230: \"Ia-3d\"\n",
    "}\n"
   ]
  },
  {
   "cell_type": "code",
   "execution_count": 436,
   "metadata": {},
   "outputs": [],
   "source": [
    "# Создание словаря со значениями в нижнем регистре для сравнени по нему\n",
    "dict_space_group_lower = {key: value.lower() for key, value in dict_space_group.items()}"
   ]
  },
  {
   "cell_type": "code",
   "execution_count": 437,
   "metadata": {},
   "outputs": [],
   "source": [
    "# Чтобы проще было проверять и менять значения\n",
    "dict_space_group_swapped = {v: k for k, v in dict_space_group_lower.items()}"
   ]
  },
  {
   "cell_type": "code",
   "execution_count": 438,
   "metadata": {},
   "outputs": [
    {
     "name": "stdout",
     "output_type": "stream",
     "text": [
      "{'p1': 1, 'p-1': 2, 'p121': 3, 'p1211': 4, 'c121': 5, 'p1m1': 6, 'p1c1': 7, 'c1m1': 8, 'c1c1': 9, 'p12/m1': 10, 'p121/m1': 11, 'c12/m1': 12, 'p12/c1': 13, 'p121/c1': 14, 'c2/c': 15, 'p222': 16, 'p2221': 17, 'p21212': 18, 'p212121': 19, 'c2221': 20, 'c222': 21, 'f222': 22, 'i222': 23, 'i212121': 24, 'pmm2': 25, 'pmc21': 26, 'pcc2': 27, 'pma2': 28, 'pca21': 29, 'pnc2': 30, 'pmn21': 31, 'pba2': 32, 'pna21': 33, 'pnn2': 34, 'cmm2': 35, 'cmc21': 36, 'ccc2': 37, 'amm2': 38, 'abm2': 39, 'ama2': 40, 'aba2': 41, 'fmm2': 42, 'fdd2': 43, 'imm2': 44, 'iba2': 45, 'ima2': 46, 'pmmm': 47, 'pnnn': 48, 'pccm': 49, 'pban': 50, 'pmma': 51, 'pnna': 52, 'pmna': 53, 'pcca': 54, 'pbam': 55, 'pccn': 56, 'pbcm': 57, 'pnnm': 58, 'pmmn': 59, 'pbcn': 60, 'pbca': 61, 'pnma': 62, 'cmcm': 63, 'cmca': 64, 'cmmm': 65, 'cccm': 66, 'cmma': 67, 'ccca': 68, 'fmmm': 69, 'fddd': 70, 'immm': 71, 'ibam': 72, 'ibca': 73, 'imma': 74, 'p4': 75, 'p41': 76, 'p42': 77, 'p43': 78, 'i4': 79, 'i41': 80, 'p-4': 81, 'i-4': 82, 'p4/m': 83, 'p42/m': 84, 'p4/n': 85, 'p42/n': 86, 'i4/m': 87, 'i41/a': 88, 'p422': 89, 'p4212': 90, 'p4122': 91, 'p41212': 92, 'p4222': 93, 'p42212': 94, 'p4322': 95, 'p43212': 96, 'i422': 97, 'i4122': 98, 'p4mm': 99, 'p4bm': 100, 'p42cm': 101, 'p42nm': 102, 'p4cc': 103, 'p4nc': 104, 'p42mc': 105, 'p42bc': 106, 'i4mm': 107, 'i4cm': 108, 'i41md': 109, 'i41cd': 110, 'p-42m': 111, 'p-42c': 112, 'p-421m': 113, 'p-421c': 114, 'p-4m2': 115, 'p-4c2': 116, 'p-4b2': 117, 'p-4n2': 118, 'i-4m2': 119, 'i-4c2': 120, 'i-42m': 121, 'i-42d': 122, 'p4/mmm': 123, 'p4/mcc': 124, 'p4/nbm': 125, 'p4/nnc': 126, 'p4/mbm': 127, 'p4/mnc': 128, 'p4/nmm': 129, 'p4/ncc': 130, 'p42/mmc': 131, 'p42/mcm': 132, 'p42/nbc': 133, 'p42/nnm': 134, 'p42/mbc': 135, 'p42/mnm': 136, 'p42/nmc': 137, 'p42/ncm': 138, 'i4/mmm': 139, 'i4/mcm': 140, 'i41/amd': 141, 'i41/acd': 142, 'p3': 143, 'p31': 144, 'p32': 145, 'r3': 146, 'p-3': 147, 'r-3': 148, 'p312': 149, 'p321': 150, 'p3112': 151, 'p3121': 152, 'p3212': 153, 'p3221': 154, 'r32': 155, 'p3m1': 156, 'p31m': 157, 'p3c1': 158, 'p31c': 159, 'r3m': 160, 'r3c': 161, 'p-31m': 162, 'p-31c': 163, 'p-3m1': 164, 'p-3c1': 165, 'r-3m': 166, 'r-3c': 167, 'p6': 168, 'p61': 169, 'p65': 170, 'p62': 171, 'p64': 172, 'p63': 173, 'p-6': 174, 'p6/m': 175, 'p63/m': 176, 'p622': 177, 'p6122': 178, 'p6522': 179, 'p6222': 180, 'p6422': 181, 'p6322': 182, 'p6mm': 183, 'p6cc': 184, 'p63cm': 185, 'p63mc': 186, 'p-6m2': 187, 'p-6c2': 188, 'p-62m': 189, 'p-62c': 190, 'p6/mmm': 191, 'p6/mcc': 192, 'p63/mcm': 193, 'p63/mmc': 194, 'p23': 195, 'f23': 196, 'i23': 197, 'p213': 198, 'i213': 199, 'pm-3': 200, 'pn-3': 201, 'fm-3': 202, 'fd-3': 203, 'im-3': 204, 'pa-3': 205, 'ia-3': 206, 'p432': 207, 'p4232': 208, 'f432': 209, 'f4132': 210, 'i432': 211, 'p4332': 212, 'p4132': 213, 'i4132': 214, 'p-43m': 215, 'f-43m': 216, 'i-43m': 217, 'p-43n': 218, 'f-43c': 219, 'i-43d': 220, 'pm-3m': 221, 'pn-3n': 222, 'pm-3n': 223, 'pn-3m': 224, 'fm-3m': 225, 'fm-3c': 226, 'fd-3m': 227, 'fd-3c': 228, 'im-3m': 229, 'ia-3d': 230}\n"
     ]
    }
   ],
   "source": [
    "print(dict_space_group_swapped)"
   ]
  },
  {
   "cell_type": "code",
   "execution_count": 439,
   "metadata": {},
   "outputs": [],
   "source": [
    "def replace_space_group_values(df, dict_space_group_swapped):\n",
    "    for column in ['space_group_core', 'space_group_shell']:\n",
    "        for i, value in enumerate(df[column]):\n",
    "            if pd.notnull(value) and value != 0:\n",
    "                # Проверяем наличие значения в словаре и заменяем его, если оно есть\n",
    "                if value in dict_space_group_swapped:\n",
    "                    df.at[i, column] = dict_space_group_swapped[value]\n",
    "    return df\n",
    "\n",
    "# Применяем функцию к датафрейму\n",
    "new_df = replace_space_group_values(df, dict_space_group_swapped)"
   ]
  },
  {
   "cell_type": "code",
   "execution_count": 440,
   "metadata": {},
   "outputs": [
    {
     "name": "stdout",
     "output_type": "stream",
     "text": [
      "Для ядра: [186 225 227 62 161 194 221 87 229 55 136 1 nan 141 164 160 212 123 217 63\n",
      " 213 15 182 58]\n",
      "Для оболочки: [227 '0' 225 161 212 55 213 62 141 92 229 194 136]\n"
     ]
    }
   ],
   "source": [
    "# Теперь все наши значения закодированы - не все есть моменты, которые стоит исправить - может там русские буквы\n",
    "print(f\"Для ядра: {df['space_group_core'].unique()}\", f\"Для оболочки: {df['space_group_shell'].unique()}\", sep='\\n')"
   ]
  },
  {
   "cell_type": "code",
   "execution_count": 441,
   "metadata": {},
   "outputs": [],
   "source": [
    "# Для проверки первого столбца\n",
    "dict_crystal_structure = {\n",
    "    \"triclinic\":[1, 2], \n",
    "    \"monoclinic\":[3, 4, 5, 6, 7, 8, 9, 10, 11, 12, 13, 14, 15],\n",
    "    \"orthorhombic\":[16, 17, 18, 19, 20, 21, 22, 23, 24, 25, 26, 27, 28, 29, 30, 31, 32, 33, 34, 35, 36, 37, 38, 39, 40, 41, 42, 43, 44, 45, 46, 47, 48, 49, 50, 51, 52, 53, 54, 55, 56, 57, 58, 59, 60, 61, 62, 63, 64, 65, 66, 67, 68, 69, 70, 71, 72, 73, 74], \n",
    "    \"tetragonal\":[75, 76, 77, 78, 79, 80, 81, 82, 83, 84, 85, 86, 87, 88, 89, 90, 91, 92, 93, 94, 95, 96, 97, 98, 99, 100, 101, 102, 103, 104, 105, 106, 107, 108, 109, 110, 111, 112, 113, 114, 115, 116, 117, 118, 119, 120, 121, 122, 123, 124, 125, 126, 127, 128, 129, 130, 131, 132, 133, 134, 135, 136, 137, 138, 139, 140, 141, 142], \n",
    "    \"trigonal\":[143, 144, 145, 146, 147, 148, 149, 150, 151, 152, 153, 154, 155, 156, 157, 158, 159, 160, 161, 162, 163, 164, 165, 166, 167], \n",
    "    \"hexagonal\":[168, 169, 170, 171, 172, 173, 174, 175, 176, 177, 178, 179, 180, 181, 182, 183, 184, 185, 186, 187, 188, 189, 190, 191, 192, 193, 194],\n",
    "    \"cubic\":[195, 196, 197, 198, 199, 200, 201, 202, 203, 204, 205, 206, 207, 208, 209, 210, 211, 212, 213, 214, 215, 216, 217, 218, 219, 220, 221, 222, 223, 224, 225, 226, 227, 228, 229, 230]\n",
    "}               "
   ]
  },
  {
   "cell_type": "markdown",
   "metadata": {},
   "source": [
    "# Геометрические признаки "
   ]
  },
  {
   "cell_type": "markdown",
   "metadata": {},
   "source": [
    "Посмотрим на парметры формы и на x/y/z(nm) параметры частиц.\n",
    "1. Закодируем названия форм, но сначала удалим одни и те же формы, но написанные по разному\n",
    "2. Найдём площадь и объем наших частиц\n",
    "3. Посмотрим на сферичность\n",
    "4. Посмотрим на разброс классов"
   ]
  },
  {
   "cell_type": "code",
   "execution_count": 442,
   "metadata": {},
   "outputs": [
    {
     "name": "stdout",
     "output_type": "stream",
     "text": [
      "<class 'pandas.core.frame.DataFrame'>\n",
      "RangeIndex: 533 entries, 0 to 532\n",
      "Data columns (total 23 columns):\n",
      " #   Column             Non-Null Count  Dtype  \n",
      "---  ------             --------------  -----  \n",
      " 0   c1                 533 non-null    object \n",
      " 1   c2                 322 non-null    object \n",
      " 2   c3                 9 non-null      object \n",
      " 3   chemical_formula   533 non-null    object \n",
      " 4   coer_oe            510 non-null    object \n",
      " 5   crystal_structure  533 non-null    object \n",
      " 6   depth_nm           509 non-null    float64\n",
      " 7   exc_bias_oe        500 non-null    float64\n",
      " 8   fc_field_t         508 non-null    float64\n",
      " 9   h_range_max_koe    526 non-null    float64\n",
      " 10  id                 533 non-null    int64  \n",
      " 11  length_d_nm        521 non-null    float64\n",
      " 12  mr (emu/g)         430 non-null    float64\n",
      " 13  sat_em_g           420 non-null    object \n",
      " 14  shape              482 non-null    object \n",
      " 15  space_group_core   532 non-null    object \n",
      " 16  space_group_shell  533 non-null    object \n",
      " 17  structure          533 non-null    object \n",
      " 18  structure_         533 non-null    object \n",
      " 19  temperature_k      528 non-null    float64\n",
      " 20  ver_shift_emu_g    441 non-null    float64\n",
      " 21  width_nm           521 non-null    float64\n",
      " 22  formula_combined   533 non-null    object \n",
      "dtypes: float64(9), int64(1), object(13)\n",
      "memory usage: 95.9+ KB\n",
      "None\n"
     ]
    }
   ],
   "source": [
    "print(df.info()) "
   ]
  },
  {
   "cell_type": "code",
   "execution_count": 443,
   "metadata": {},
   "outputs": [
    {
     "name": "stdout",
     "output_type": "stream",
     "text": [
      "['sphere' 'polyhedron' 'tetrahedral' 'octahedral' nan 'wire' 'flower'\n",
      " 'egg' 'rod' 'quasi-spherical' 'cube' 'octopod' 'octahedral ' 'cubic'\n",
      " 'triangle' 'hexahedron' 'quasi-sphere' 'polyhedral' 'pseudo-spherical'\n",
      " 'pseudospherically' 'hexagonal' 'octahedron']\n"
     ]
    }
   ],
   "source": [
    "print(df['shape'].unique()) # Как можно заметить многие формы являются одним и тем же, сгруппируем"
   ]
  },
  {
   "cell_type": "code",
   "execution_count": 444,
   "metadata": {},
   "outputs": [],
   "source": [
    "# Составим словарь для форм\n",
    "dict_shape = { 1: ['sphere', 'quasi-spherical', 'quasi-sphere', 'pseudo-spherical', 'pseudospherically'], \n",
    "               2: ['octahedral', 'octahedron', 'octahedral '], \n",
    "               3: ['polyhedron', 'polyhedral'], \n",
    "               4: ['cubic', 'cube']\n",
    "               5: ['hexahedron', 'hexagonal']\n",
    "               6: ['tetrahedral', 'triangle']\n",
    "               7: ['wire', 'rod']\n",
    "}"
   ]
  },
  {
   "cell_type": "markdown",
   "metadata": {},
   "source": [
    "НУЖНО ПОНЯТЬ К ЧЕМУ ОТНОСИТь egg и flower"
   ]
  },
  {
   "cell_type": "code",
   "execution_count": null,
   "metadata": {},
   "outputs": [],
   "source": [
    "# Перевеём значения формы в цифры"
   ]
  },
  {
   "cell_type": "markdown",
   "metadata": {},
   "source": [
    "# Поработаем с пропусками"
   ]
  },
  {
   "cell_type": "code",
   "execution_count": 445,
   "metadata": {},
   "outputs": [
    {
     "name": "stdout",
     "output_type": "stream",
     "text": [
      "<class 'pandas.core.frame.DataFrame'>\n",
      "RangeIndex: 533 entries, 0 to 532\n",
      "Data columns (total 23 columns):\n",
      " #   Column             Non-Null Count  Dtype  \n",
      "---  ------             --------------  -----  \n",
      " 0   c1                 533 non-null    object \n",
      " 1   c2                 322 non-null    object \n",
      " 2   c3                 9 non-null      object \n",
      " 3   chemical_formula   533 non-null    object \n",
      " 4   coer_oe            510 non-null    object \n",
      " 5   crystal_structure  533 non-null    object \n",
      " 6   depth_nm           509 non-null    float64\n",
      " 7   exc_bias_oe        500 non-null    float64\n",
      " 8   fc_field_t         508 non-null    float64\n",
      " 9   h_range_max_koe    526 non-null    float64\n",
      " 10  id                 533 non-null    int64  \n",
      " 11  length_d_nm        521 non-null    float64\n",
      " 12  mr (emu/g)         430 non-null    float64\n",
      " 13  sat_em_g           420 non-null    object \n",
      " 14  shape              482 non-null    object \n",
      " 15  space_group_core   532 non-null    object \n",
      " 16  space_group_shell  533 non-null    object \n",
      " 17  structure          533 non-null    object \n",
      " 18  structure_         533 non-null    object \n",
      " 19  temperature_k      528 non-null    float64\n",
      " 20  ver_shift_emu_g    441 non-null    float64\n",
      " 21  width_nm           521 non-null    float64\n",
      " 22  formula_combined   533 non-null    object \n",
      "dtypes: float64(9), int64(1), object(13)\n",
      "memory usage: 95.9+ KB\n",
      "None\n"
     ]
    }
   ],
   "source": [
    "print(df.info())"
   ]
  },
  {
   "cell_type": "markdown",
   "metadata": {},
   "source": [
    "## Поработаем с геометрическими признаками"
   ]
  }
 ],
 "metadata": {
  "kernelspec": {
   "display_name": "exc_env",
   "language": "python",
   "name": "python3"
  },
  "language_info": {
   "codemirror_mode": {
    "name": "ipython",
    "version": 3
   },
   "file_extension": ".py",
   "mimetype": "text/x-python",
   "name": "python",
   "nbconvert_exporter": "python",
   "pygments_lexer": "ipython3",
   "version": "3.11.4"
  }
 },
 "nbformat": 4,
 "nbformat_minor": 2
}
