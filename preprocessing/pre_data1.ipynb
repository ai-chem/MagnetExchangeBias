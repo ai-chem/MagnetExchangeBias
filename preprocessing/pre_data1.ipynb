{
 "cells": [
  {
   "cell_type": "code",
   "execution_count": 66,
   "metadata": {},
   "outputs": [],
   "source": [
    "# All library connection\n",
    "import pandas as pd\n",
    "import numpy as np\n",
    "import re #регулярки\n",
    "from math import gcd, isclose\n",
    "import sympy as sp # Библиотека символьных вычеслений, мат.задачи\n",
    "import matplotlib\n",
    "import matplotlib.pyplot as plt\n",
    "import seaborn as sns"
   ]
  },
  {
   "cell_type": "code",
   "execution_count": 67,
   "metadata": {},
   "outputs": [],
   "source": [
    "from sklearn.cluster import KMeans\n",
    "from sklearn.preprocessing import StandardScaler\n",
    "from sklearn.impute import KNNImputer"
   ]
  },
  {
   "cell_type": "code",
   "execution_count": 68,
   "metadata": {},
   "outputs": [],
   "source": [
    "# pymatgen def to obtain structures\n",
    "from pymatgen.core.structure import Composition"
   ]
  },
  {
   "cell_type": "code",
   "execution_count": 69,
   "metadata": {},
   "outputs": [],
   "source": [
    "from collections import defaultdict"
   ]
  },
  {
   "cell_type": "code",
   "execution_count": 70,
   "metadata": {},
   "outputs": [],
   "source": [
    "#loading data\n",
    "df = pd.read_csv(r'C:\\Users\\Ксения\\Project\\Magnet_Exchange_bias\\data\\Bias_data.csv')"
   ]
  },
  {
   "cell_type": "code",
   "execution_count": 71,
   "metadata": {},
   "outputs": [
    {
     "name": "stdout",
     "output_type": "stream",
     "text": [
      "<class 'pandas.core.frame.DataFrame'>\n",
      "RangeIndex: 533 entries, 0 to 532\n",
      "Data columns (total 53 columns):\n",
      " #   Column                                          Non-Null Count  Dtype  \n",
      "---  ------                                          --------------  -----  \n",
      " 0   id                                              533 non-null    int64  \n",
      " 1   crystal_structure(core/shell)                   533 non-null    object \n",
      " 2   Space group(core)                               532 non-null    object \n",
      " 3   Space group(shell)                              533 non-null    object \n",
      " 4   chemical formula                                533 non-null    object \n",
      " 5   Structure                                       533 non-null    object \n",
      " 6   Structure_                                      533 non-null    object \n",
      " 7   length (D)                                      521 non-null    float64\n",
      " 8   width                                           521 non-null    float64\n",
      " 9   depth                                           509 non-null    float64\n",
      " 10  shape                                           493 non-null    object \n",
      " 11  core_1                                          533 non-null    object \n",
      " 12  core_2(shell)                                   533 non-null    object \n",
      " 13  Name                                            229 non-null    object \n",
      " 14  synonyms                                        115 non-null    object \n",
      " 15  Cas rn (core_1)                                 479 non-null    object \n",
      " 16  Cas rn (core_2)                                 527 non-null    object \n",
      " 17  Exp type                                        307 non-null    object \n",
      " 18  Scale bar (nm)                                  293 non-null    float64\n",
      " 19  microphotography pic                            216 non-null    float64\n",
      " 20  Spectrum                                        168 non-null    float64\n",
      " 21  JCPDS card (core)                               79 non-null     object \n",
      " 22  JCPDS card (shell)                              60 non-null     object \n",
      " 23  X-ray tube (nm)                                 139 non-null    float64\n",
      " 24  Instrument                                      201 non-null    object \n",
      " 25  Crystalline size                                186 non-null    float64\n",
      " 26  Material fraction                               196 non-null    object \n",
      " 27  curie temperature (K)                           78 non-null     float64\n",
      " 28  temperature (K)                                 528 non-null    float64\n",
      " 29  H-range min (kOe)                               526 non-null    float64\n",
      " 30  H-range max(kOe)                                526 non-null    float64\n",
      " 31  Ms (emu/g)                                      420 non-null    float64\n",
      " 32  Hc (Oe)                                         510 non-null    float64\n",
      " 33  Mr (emu/g)                                      430 non-null    float64\n",
      " 34  Instrument.1                                    344 non-null    object \n",
      " 35  exchange bias shift Hb or Heb(Oe)               500 non-null    float64\n",
      " 36  vertical loop shift M vsl (emu/g)               441 non-null    float64\n",
      " 37  M-H curve                                       289 non-null    float64\n",
      " 38  cooling fields (mT)                             508 non-null    float64\n",
      " 39  FC field(T)                                     508 non-null    float64\n",
      " 40  Hc of measurement (kOe)                         507 non-null    float64\n",
      " 41  applied field(kOe)                              184 non-null    float64\n",
      " 42  Article id                                      533 non-null    object \n",
      " 43  Method                                          488 non-null    object \n",
      " 44  Tb                                              86 non-null     float64\n",
      " 45  Keff (effective anisotropy constant) (erg/cm3)  13 non-null     float64\n",
      " 46  Keff (Jm^-3)                                    26 non-null     float64\n",
      " 47  Total magnetization                             0 non-null      float64\n",
      " 48  Atomic mass ratio                               0 non-null      float64\n",
      " 49  Number of magnetic ions per unit cell           0 non-null      float64\n",
      " 50  get_exchange_group_info                         0 non-null      float64\n",
      " 51  number_of_unique_magnetic_sites                 0 non-null      float64\n",
      " 52  number_of_magnetic_sites                        0 non-null      float64\n",
      "dtypes: float64(31), int64(1), object(21)\n",
      "memory usage: 220.8+ KB\n",
      "None\n"
     ]
    }
   ],
   "source": [
    "print(df.info())"
   ]
  },
  {
   "cell_type": "markdown",
   "metadata": {},
   "source": [
    "***Difference***\n",
    "- composition - core+shell with Ni1O1 like formula\n",
    "-  chemical formula - Ni50NiO50\n",
    "-  Structure - alhpa, gamma"
   ]
  },
  {
   "cell_type": "markdown",
   "metadata": {},
   "source": [
    "## Поработаем со столбцами"
   ]
  },
  {
   "cell_type": "code",
   "execution_count": 72,
   "metadata": {},
   "outputs": [
    {
     "name": "stdout",
     "output_type": "stream",
     "text": [
      "<class 'pandas.core.frame.DataFrame'>\n",
      "RangeIndex: 533 entries, 0 to 532\n",
      "Data columns (total 21 columns):\n",
      " #   Column                             Non-Null Count  Dtype  \n",
      "---  ------                             --------------  -----  \n",
      " 0   id                                 533 non-null    int64  \n",
      " 1   crystal_structure(core/shell)      533 non-null    object \n",
      " 2   Space group(core)                  532 non-null    object \n",
      " 3   Space group(shell)                 533 non-null    object \n",
      " 4   chemical formula                   533 non-null    object \n",
      " 5   Structure                          533 non-null    object \n",
      " 6   Structure_                         533 non-null    object \n",
      " 7   length (D)                         521 non-null    float64\n",
      " 8   width                              521 non-null    float64\n",
      " 9   depth                              509 non-null    float64\n",
      " 10  shape                              493 non-null    object \n",
      " 11  core_1                             533 non-null    object \n",
      " 12  core_2(shell)                      533 non-null    object \n",
      " 13  temperature (K)                    528 non-null    float64\n",
      " 14  H-range max(kOe)                   526 non-null    float64\n",
      " 15  Ms (emu/g)                         420 non-null    float64\n",
      " 16  Hc (Oe)                            510 non-null    float64\n",
      " 17  Mr (emu/g)                         430 non-null    float64\n",
      " 18  exchange bias shift Hb or Heb(Oe)  500 non-null    float64\n",
      " 19  vertical loop shift M vsl (emu/g)  441 non-null    float64\n",
      " 20  FC field(T)                        508 non-null    float64\n",
      "dtypes: float64(11), int64(1), object(9)\n",
      "memory usage: 87.6+ KB\n",
      "None\n"
     ]
    }
   ],
   "source": [
    "# Удалим все колонки, значения которых точно не подлежат востановлению\n",
    "del_col = ['Exp type', 'Scale bar (nm)', 'microphotography pic','Spectrum', 'JCPDS card (core)', 'JCPDS card (shell)', 'X-ray tube (nm)', 'Instrument', 'Crystalline size', 'Material fraction', 'curie temperature (K)', 'H-range min (kOe)', 'Instrument.1', 'M-H curve', 'applied field(kOe)', 'Article id', 'Method', 'H-range min (kOe)','Tb', 'Keff (effective anisotropy constant) (erg/cm3)',\n",
    "            'Keff (Jm^-3)', 'Total magnetization ', 'Atomic mass ratio', 'Number of magnetic ions per unit cell', 'Name', 'synonyms',\n",
    "            'get_exchange_group_info', 'cooling fields (mT)', 'Hc of measurement (kOe) ', 'number_of_unique_magnetic_sites', 'number_of_magnetic_sites', 'Cas rn (core_1)', 'Cas rn (core_2)' ]\n",
    "df = df.drop(columns=del_col)\n",
    "print(df.info())"
   ]
  },
  {
   "cell_type": "code",
   "execution_count": 73,
   "metadata": {},
   "outputs": [
    {
     "name": "stdout",
     "output_type": "stream",
     "text": [
      "Unique cores: ['Zn1O1' 'Cu1O1' 'Mn0.50Zn0.50Fe2O4' 'La1Fe1O3' 'Ni1' 'Mg1Fe2O4'\n",
      " 'Co1Fe2O4' 'Bi1Fe1O3' 'Co1' 'Fe1Rh1' 'Mn1O2' 'Ag1' 'Fe1' 'Fe1O1' 'Ni1O1'\n",
      " 'Fe3O4' 'Bi2Fe4O9' 'Ti1O2' 'Co0.4Fe2.6O4' 'Co0.7Fe2.3O4' 'Fe0.7Co0.3'\n",
      " 'Fe0.5Co0.5' 'Fe0.3Co0.7' 'La2Fe1Mn1O6' 'Fe1V1O4' 'Au1'\n",
      " 'Bi0.9Gd0.1Fe0.9Ti0.1O3' 'Nd0.78Sr0.22CoO3' 'Fe2O3' 'La0.85Sr0.15FeO3'\n",
      " 'Mn3O4' 'La0.67Sr0.33MnO3' 'Mn1O1' 'Co3O4' 'Ni0.99Fe0.01O1'\n",
      " 'Ni0.98Fe0.02O1' 'Ni0.96Fe0.04O1' 'Ni0.97Fe0.03O1' 'Ag0.5Cr2.5O4'\n",
      " 'Ag1Cr1O2' 'Co1O1' 'Mn1Fe2O4' 'Bi0.9La0.1FeO3' 'Nd0.90Ho0.10FeO3'\n",
      " 'Dy1Cr1Ti1O5' 'Gd1Cr1Ti1O5' 'Ba1Fe12O19' 'Ni1Fe2O4' 'Co1Cr2O4' 'Fe1Ni1'\n",
      " 'Mn1' 'Fe1F2' 'Fe5C2' 'Fe1Ni3' 'Fe2.2C1' 'La2Fe2O6' 'Co1P1']\n",
      "Amount of unique cores composition: 57\n",
      "Unique shells: ['Co1Fe2O4' '0' 'Ni1O1' 'Bi1Fe1O3' 'Co1O1' 'Fe3O4' 'Fe2O3' 'Bi2Fe4O9'\n",
      " 'Сu1O1' 'Si1O2' 'Co3O4' 'Mn3O4' 'Ni1Fe2O4' 'Co1Mn2O4' 'Fe1' 'Mn1O1'\n",
      " 'Fe3C1' 'Mg1O1' 'Mg1O1, Co1Fe2O4' 'Mo1' 'Co1']\n",
      "Amount of unique shells composition: 21\n"
     ]
    }
   ],
   "source": [
    "# Теперь можно удалить эти колонки, так как они имеют такие же значения как и crystal_structure(core/shell) и chemical formula\n",
    "print(f'Unique cores: {df[\"core_1\"].unique()}', f'Amount of unique cores composition: {len(df[\"core_1\"].unique())}', sep='\\n')\n",
    "print(f'Unique shells: {df[\"core_2(shell)\"].unique()}', f'Amount of unique shells composition: {len(df[\"core_2(shell)\"].unique())}', sep='\\n')"
   ]
  },
  {
   "cell_type": "code",
   "execution_count": 74,
   "metadata": {},
   "outputs": [],
   "source": [
    "df = df.drop(columns=['core_1', 'core_2(shell)']) #удалим их"
   ]
  },
  {
   "cell_type": "code",
   "execution_count": 75,
   "metadata": {},
   "outputs": [
    {
     "name": "stdout",
     "output_type": "stream",
     "text": [
      "<class 'pandas.core.frame.DataFrame'>\n",
      "RangeIndex: 533 entries, 0 to 532\n",
      "Data columns (total 19 columns):\n",
      " #   Column             Non-Null Count  Dtype  \n",
      "---  ------             --------------  -----  \n",
      " 0   id                 533 non-null    int64  \n",
      " 1   crystal_structure  533 non-null    object \n",
      " 2   space_group_core   532 non-null    object \n",
      " 3   space_group_shell  533 non-null    object \n",
      " 4   chemical_formula   533 non-null    object \n",
      " 5   structure          533 non-null    object \n",
      " 6   structure_         533 non-null    object \n",
      " 7   length_d_nm        521 non-null    float64\n",
      " 8   width_nm           521 non-null    float64\n",
      " 9   depth_nm           509 non-null    float64\n",
      " 10  shape              493 non-null    object \n",
      " 11  temperature_k      528 non-null    float64\n",
      " 12  h_range_max_koe    526 non-null    float64\n",
      " 13  sat_em_g           420 non-null    float64\n",
      " 14  coer_oe            510 non-null    float64\n",
      " 15  mr (emu/g)         430 non-null    float64\n",
      " 16  exc_bias_oe        500 non-null    float64\n",
      " 17  ver_shift_emu_g    441 non-null    float64\n",
      " 18  fc_field_t         508 non-null    float64\n",
      "dtypes: float64(11), int64(1), object(7)\n",
      "memory usage: 79.2+ KB\n",
      "None\n"
     ]
    }
   ],
   "source": [
    "#переименуем название колонк для удобства и преобразуем их в нижний регистр\n",
    "df.columns = df.columns.str.lower()\n",
    "\n",
    "new_column_names = {\n",
    "    'id': 'id', 'crystal_structure(core/shell)': 'crystal_structure',\n",
    "    'space group(core)': 'space_group_core', 'space group(shell)': 'space_group_shell',\n",
    "    'chemical formula': 'chemical_formula', 'structure': 'structure',\n",
    "    'length (d)': 'length_d_nm', 'width': 'width_nm',\n",
    "    'depth': 'depth_nm', 'shape': 'shape', 'temperature (k)': 'temperature_k',\n",
    "    'h-range max(koe)': 'h_range_max_koe', 'ms (emu/g)': 'sat_em_g',\n",
    "    'hc (oe)': 'coer_oe', 'mrem (emu/g)': 'rem_emu_g', 'exchange bias shift hb or heb(oe)': 'exc_bias_oe',\n",
    "    'vertical loop shift m vsl (emu/g)': 'ver_shift_emu_g', 'fc field(t)': 'fc_field_t'\n",
    "}\n",
    "\n",
    "# Переименование столбцов\n",
    "df = df.rename(columns=new_column_names)\n",
    "print(df.info())"
   ]
  },
  {
   "cell_type": "markdown",
   "metadata": {},
   "source": [
    "## Поработаем с химическими формулами"
   ]
  },
  {
   "cell_type": "code",
   "execution_count": 76,
   "metadata": {},
   "outputs": [],
   "source": [
    "chemical_formulas = []\n",
    "\n",
    "for formula in df['chemical_formula']: # Итерация по каждой формуле в столбце 'chemical formula'\n",
    "    if not formula.isalnum(): # Проверка, содержит ли формула только буквенно-цифровые символы\n",
    "        line = re.split(\"-|,|/|@|–\", formula) # Разделение формулы по символам '-', '@', '/', and ','\n",
    "        components = [] # Создание пустого списка для хранения компонентов формулы\n",
    "        for i in line:  # Итерация по каждому компоненту в разделенной формуле\n",
    "            if i.strip(): # Добавление компонента в список, если он не пустой\n",
    "                components.append(i.strip())\n",
    "        chemical_formulas.append(components) # Добавление списка компонентов в список химических формул\n",
    "    else:\n",
    "        chemical_formulas.append([formula])  # Если формула состоит только из буквенно-цифровых символов, добавляем ее как есть\n",
    "\n",
    "df['chemical_formula'] = chemical_formulas # Замена столбца новыми значениями"
   ]
  },
  {
   "cell_type": "code",
   "execution_count": 77,
   "metadata": {},
   "outputs": [
    {
     "name": "stdout",
     "output_type": "stream",
     "text": [
      "<class 'pandas.core.frame.DataFrame'>\n",
      "RangeIndex: 533 entries, 0 to 532\n",
      "Data columns (total 22 columns):\n",
      " #   Column             Non-Null Count  Dtype  \n",
      "---  ------             --------------  -----  \n",
      " 0   c1                 533 non-null    object \n",
      " 1   c2                 322 non-null    object \n",
      " 2   c3                 9 non-null      object \n",
      " 3   chemical_formula   533 non-null    object \n",
      " 4   coer_oe            510 non-null    float64\n",
      " 5   crystal_structure  533 non-null    object \n",
      " 6   depth_nm           509 non-null    float64\n",
      " 7   exc_bias_oe        500 non-null    float64\n",
      " 8   fc_field_t         508 non-null    float64\n",
      " 9   h_range_max_koe    526 non-null    float64\n",
      " 10  id                 533 non-null    int64  \n",
      " 11  length_d_nm        521 non-null    float64\n",
      " 12  mr (emu/g)         430 non-null    float64\n",
      " 13  sat_em_g           420 non-null    float64\n",
      " 14  shape              493 non-null    object \n",
      " 15  space_group_core   532 non-null    object \n",
      " 16  space_group_shell  533 non-null    object \n",
      " 17  structure          533 non-null    object \n",
      " 18  structure_         533 non-null    object \n",
      " 19  temperature_k      528 non-null    float64\n",
      " 20  ver_shift_emu_g    441 non-null    float64\n",
      " 21  width_nm           521 non-null    float64\n",
      "dtypes: float64(11), int64(1), object(10)\n",
      "memory usage: 91.7+ KB\n",
      "None\n"
     ]
    }
   ],
   "source": [
    "# Функция для разбивки списка в каждой ячейке на отдельные элементы и вставки их в новые столбцы\n",
    "def split_elements(row):\n",
    "    # Получаем список элементов из ячейки\n",
    "    elements = row['chemical_formula']\n",
    "    # Размещаем элементы в соответствующих столбцах\n",
    "    for i, element in enumerate(elements):\n",
    "        if i < 3:\n",
    "            row[f'c{i+1}'] = element\n",
    "    return row\n",
    "\n",
    "# Применяем функцию к каждой строке датафрейма\n",
    "df = df.apply(split_elements, axis=1)\n",
    "\n",
    "print(df.info())"
   ]
  },
  {
   "cell_type": "code",
   "execution_count": 78,
   "metadata": {},
   "outputs": [
    {
     "name": "stdout",
     "output_type": "stream",
     "text": [
      "0                    ZnO\n",
      "1                    CoO\n",
      "2      Mn0.50Zn0.50Fe2O4\n",
      "3      Mn0.50Zn0.50Fe2O4\n",
      "4      Mn0.50Zn0.50Fe2O4\n",
      "             ...        \n",
      "528               LaFeO3\n",
      "529               LaFeO3\n",
      "530               LaFeO3\n",
      "531               LaFeO3\n",
      "532               LaFeO3\n",
      "Name: c1, Length: 533, dtype: object 0      CoFe2O4\n",
      "1      CoFe2O4\n",
      "2          NaN\n",
      "3          NaN\n",
      "4          NaN\n",
      "        ...   \n",
      "528        NiO\n",
      "529        NiO\n",
      "530        NiO\n",
      "531        NiO\n",
      "532        NiO\n",
      "Name: c2, Length: 533, dtype: object 0      NaN\n",
      "1      NaN\n",
      "2      NaN\n",
      "3      NaN\n",
      "4      NaN\n",
      "      ... \n",
      "528    NaN\n",
      "529    NaN\n",
      "530    NaN\n",
      "531    NaN\n",
      "532    NaN\n",
      "Name: c3, Length: 533, dtype: object\n"
     ]
    }
   ],
   "source": [
    "# Проверим как разделились значения списка\n",
    "print(df['c1'], df['c2'], df['c3'], end='\\n') # В с3 должно было быть всего 9 значений"
   ]
  },
  {
   "cell_type": "code",
   "execution_count": 79,
   "metadata": {},
   "outputs": [],
   "source": [
    "copy_formula = df['c1']\n",
    "copy_formula2 = df['c2']\n",
    "df['orig_c1'] = copy_formula \n",
    "df['orig_c2'] = copy_formula2 "
   ]
  },
  {
   "cell_type": "code",
   "execution_count": 80,
   "metadata": {},
   "outputs": [
    {
     "name": "stdout",
     "output_type": "stream",
     "text": [
      "<class 'pandas.core.series.Series'>\n",
      "RangeIndex: 533 entries, 0 to 532\n",
      "Series name: c2\n",
      "Non-Null Count  Dtype \n",
      "--------------  ----- \n",
      "322 non-null    object\n",
      "dtypes: object(1)\n",
      "memory usage: 4.3+ KB\n",
      "None\n"
     ]
    }
   ],
   "source": [
    "print(df['c2'].info())"
   ]
  },
  {
   "cell_type": "code",
   "execution_count": 81,
   "metadata": {},
   "outputs": [
    {
     "name": "stdout",
     "output_type": "stream",
     "text": [
      "['ZnO' 'CoO' 'Mn0.50Zn0.50Fe2O4' 'LaFeO3' 'Ni' 'MgFe2O4' 'CoFe2O4'\n",
      " 'BiFeO3' 'Co' 'FeRh' 'MnO2' 'Ag' 'Fe' 'FeO' 'NiO' 'Fe3O4' 'Bi2Fe4O9'\n",
      " 'TiO2' 'Co0.4Fe2.6O4' 'Co0.7Fe2.3O4' 'Fe0.7Co0.3' 'Fe0.5Co0.5'\n",
      " 'Fe0.3Co0.7' 'La2FeMnO6' 'FeVO4' 'Au' 'Bi0.9Gd0.1Fe0.9Ti0.1O3'\n",
      " 'Nd0.78Sr0.22CoO3' 'Cu0.98' 'Cu0.96' 'Fe2O3' 'La0.85Sr0.15FeO3' 'Mn3O4'\n",
      " 'La0.67Sr0.33MnO3' 'MnO' 'Co3O4' 'Ni0.99Fe0.01O' 'Ni0.98Fe0.02O'\n",
      " 'Ni0.96Fe0.04O' 'Ni0.97Fe0.03O' 'Ag0.5Cr2.5O4' 'AgCrO2' 'MnFe2O4'\n",
      " 'Bi0.9La0.1FeO3' 'NdFeO3' 'DyCrTiO5' 'GdCrTiO5' 'BaFe12O19' 'NiFe2O4'\n",
      " 'CoCr2O4' 'FeNi' 'Mn' 'Fe5C2' 'FeNi3' 'Fe2.2C' 'La2Fe2O6' 'FeF2' 'CoP'] ['CoFe2O4' nan 'NiO' 'BiFeO3' 'CoO' 'Fe3O4' 'Fe2O3' 'Bi2Fe4O9' 'Fe0.02O'\n",
      " 'Fe0.04O' 'Co3O4' 'Mn3O4' 'NiFe2O4' 'CoMn2O4' 'MnO' 'Fe3C' 'MgO' 'Mo'\n",
      " 'Co' 'Fe'] [nan 'CoFe2O4']\n"
     ]
    }
   ],
   "source": [
    "#Сделаем костыль для нестеохео соединений \n",
    "print(df['c1'].unique(), df['c2'].unique(), df['c3'].unique(), end='\\n')\n",
    "non_steh = ['Mn0.50Zn0.50Fe2O4',  'Co0.4Fe2.6O4', 'Co0.7Fe2.3O4', 'Fe0.7Co0.3', 'Fe0.5Co0.5',\n",
    " 'Fe0.3Co0.7', 'Bi0.9Gd0.1Fe0.9Ti0.1O3', 'Nd0.78Sr0.22CoO3' 'Cu0.98' 'Cu0.96', 'La0.85Sr0.15FeO3', \n",
    " 'La0.67Sr0.33MnO3', 'Ni0.99Fe0.01O', 'Ni0.98Fe0.02O', 'Ni0.96Fe0.04O', 'Ni0.97Fe0.03O', 'Ag0.5Cr2.5O4',\n",
    " 'Bi0.9La0.1FeO3', 'Fe2.2C', 'Fe0.02O', 'Fe0.04O']"
   ]
  },
  {
   "cell_type": "code",
   "execution_count": 82,
   "metadata": {},
   "outputs": [
    {
     "name": "stdout",
     "output_type": "stream",
     "text": [
      "Original: Mn0.5 Zn0.5 Fe2 O4, Normalized: Mn1 Zn1 Fe4 O8, Factor: 0.5\n",
      "Original: Co0.4 Fe2.6 O4, Normalized: Fe13 Co2 O20, Factor: 0.19999999999999996\n",
      "Original: Co0.7 Fe2.3 O4, Normalized: Fe23 Co7 O40, Factor: 0.09999999999999987\n",
      "Original: Fe0.7 Co0.3, Normalized: Fe7 Co3, Factor: 0.09999999999999998\n",
      "Original: Fe0.5 Co0.5, Normalized: Fe1 Co1, Factor: 0.5\n",
      "Original: Fe0.3 Co0.7, Normalized: Fe3 Co7, Factor: 0.09999999999999998\n",
      "Original: Bi0.9 Gd0.1 Fe0.9 Ti0.1 O3, Normalized: Gd1 Ti1 Fe9 Bi9 O30, Factor: 0.09999999999999998\n",
      "Original: Nd0.78 Sr0.22 Co1 O3 Cu1.94, Normalized: Sr11 Nd39 Co50 Cu97 O150, Factor: 0.019999999999999796\n",
      "Original: La0.85 Sr0.15 Fe1 O3, Normalized: Sr3 La17 Fe20 O60, Factor: 0.04999999999999999\n",
      "Original: La0.67 Sr0.33 Mn1 O3, Normalized: Sr33 La67 Mn100 O300, Factor: 0.009999999999999731\n",
      "Original: Ni0.99 Fe0.01 O1, Normalized: Fe1 Ni99 O100, Factor: 0.00999999999999997\n",
      "Original: Ni0.98 Fe0.02 O1, Normalized: Fe1 Ni49 O50, Factor: 0.019999999999999962\n",
      "Original: Ni0.96 Fe0.04 O1, Normalized: Fe1 Ni24 O25, Factor: 0.039999999999999945\n",
      "Original: Ni0.97 Fe0.03 O1, Normalized: Fe3 Ni97 O100, Factor: 0.009999999999999981\n",
      "Original: Ag0.5 Cr2.5 O4, Normalized: Cr5 Ag1 O8, Factor: 0.5\n",
      "Original: Bi0.9 La0.1 Fe1 O3, Normalized: La1 Fe10 Bi9 O30, Factor: 0.09999999999999998\n",
      "Original: Fe2.2 C1, Normalized: Fe11 C5, Factor: 0.1999999999999993\n",
      "Original: Fe0.02 O1, Normalized: Fe1 O50, Factor: 0.01999999999999998\n",
      "Original: Fe0.04 O1, Normalized: Fe1 O25, Factor: 0.03999999999999998\n"
     ]
    }
   ],
   "source": [
    "# Создаем список для сохранения результатов\n",
    "normalized_formulas = []\n",
    "\n",
    "# Применяем функцию к каждому элементу списка non_steh\n",
    "for formula in non_steh:\n",
    "    comp_before = Composition(formula)  # Создаем объект Composition до применения функции\n",
    "    norm_formula, factor = comp_before.get_integer_formula_and_factor()\n",
    "    comp_after = Composition(norm_formula)  # Создаем объект Composition после применения функции\n",
    "    normalized_formulas.append((comp_before, comp_after, factor))\n",
    "\n",
    "# Выводим результаты до/после\n",
    "for comp_before, comp_after, f in normalized_formulas:\n",
    "    print(f\"Original: {comp_before}, Normalized: {comp_after}, Factor: {f}\")"
   ]
  },
  {
   "cell_type": "code",
   "execution_count": 83,
   "metadata": {},
   "outputs": [],
   "source": [
    "# Костыль для таких соединений\n",
    "non_stoich_compounds_dict = {\n",
    "    'Mn0.50Zn0.50Fe2O4': 'MnZnFe4O8', 'Co0.4Fe2.6O4': 'Co2Fe13O20',\n",
    "    'Co0.7Fe2.3O4': 'Co7Fe23O40', 'Fe0.7Co0.3': 'Fe7Co3', 'Fe0.5Co0.5': 'FeCo',\n",
    "    'Fe0.3Co0.7': 'Fe3Co7', 'Bi0.9Gd0.1Fe0.9Ti0.1O3': 'Bi9GdFe9TiO30',\n",
    "    'Nd0.78Sr0.22CoO3': 'Sr11Nd39Co50Cu97O150', 'Cu0.98': 'Cu98', 'Cu0.96': 'Cu96',\n",
    "    'La0.85Sr0.15FeO3': 'La17Sr3Fe20O60', 'La0.67Sr0.33MnO3': 'La67Sr33Mn100O300',\n",
    "    'Ni0.99Fe0.01O': 'Ni99FeO100', 'Ni0.98Fe0.02O': 'Ni49FeO50', 'Ni0.96Fe0.04O': 'Ni24FeO25',\n",
    "    'Ni0.97Fe0.03O': 'Ni97Fe3O100', 'Ag0.5Cr2.5O4': 'AgCr5O8', 'Bi0.9La0.1FeO3': 'Bi9LaFe10O30',\n",
    "    'Fe2.2C': 'Fe11C5', 'Fe0.02O': 'FeO50', 'Fe0.04O': 'FeO25'\n",
    "}"
   ]
  },
  {
   "cell_type": "code",
   "execution_count": 84,
   "metadata": {},
   "outputs": [],
   "source": [
    "def replace_non_stoichiometric(column, non_stoich_compounds_dict):\n",
    "    '''Функция заменяет значения ключей на значения для этих ключей'''\n",
    "    for i, value in enumerate(column):\n",
    "        if value != 0 and value in non_stoich_compounds_dict:\n",
    "            column.at[i] = non_stoich_compounds_dict[value]\n",
    "    return column"
   ]
  },
  {
   "cell_type": "code",
   "execution_count": 85,
   "metadata": {},
   "outputs": [],
   "source": [
    "# Применение функции к каждому столбцу\n",
    "new_df_c1 = replace_non_stoichiometric(df['c1'], non_stoich_compounds_dict)\n",
    "new_df_c2 = replace_non_stoichiometric(df['c2'], non_stoich_compounds_dict)\n",
    "new_df_c3 = replace_non_stoichiometric(df['c3'], non_stoich_compounds_dict)\n",
    "\n",
    "# Вывод уникальных значений после применения функции\n",
    "unique_values_c1 = new_df_c1.unique()\n",
    "unique_values_c2 = new_df_c2.unique()\n",
    "unique_values_c3 = new_df_c3.unique()"
   ]
  },
  {
   "cell_type": "code",
   "execution_count": 86,
   "metadata": {},
   "outputs": [
    {
     "name": "stdout",
     "output_type": "stream",
     "text": [
      "Уникальные значения в столбце c1 после применения функции:['ZnO' 'CoO' 'MnZnFe4O8' 'LaFeO3' 'Ni' 'MgFe2O4' 'CoFe2O4' 'BiFeO3' 'Co'\n",
      " 'FeRh' 'MnO2' 'Ag' 'Fe' 'FeO' 'NiO' 'Fe3O4' 'Bi2Fe4O9' 'TiO2'\n",
      " 'Co2Fe13O20' 'Co7Fe23O40' 'Fe7Co3' 'FeCo' 'Fe3Co7' 'La2FeMnO6' 'FeVO4'\n",
      " 'Au' 'Bi9GdFe9TiO30' 'Sr11Nd39Co50Cu97O150' 'Cu98' 'Cu96' 'Fe2O3'\n",
      " 'La17Sr3Fe20O60' 'Mn3O4' 'La67Sr33Mn100O300' 'MnO' 'Co3O4' 'Ni99FeO100'\n",
      " 'Ni49FeO50' 'Ni24FeO25' 'Ni97Fe3O100' 'AgCr5O8' 'AgCrO2' 'MnFe2O4'\n",
      " 'Bi9LaFe10O30' 'NdFeO3' 'DyCrTiO5' 'GdCrTiO5' 'BaFe12O19' 'NiFe2O4'\n",
      " 'CoCr2O4' 'FeNi' 'Mn' 'Fe5C2' 'FeNi3' 'Fe11C5' 'La2Fe2O6' 'FeF2' 'CoP']\n",
      " Уникальные значения в столбце c2 после применения функции:['CoFe2O4' nan 'NiO' 'BiFeO3' 'CoO' 'Fe3O4' 'Fe2O3' 'Bi2Fe4O9' 'FeO50'\n",
      " 'FeO25' 'Co3O4' 'Mn3O4' 'NiFe2O4' 'CoMn2O4' 'MnO' 'Fe3C' 'MgO' 'Mo' 'Co'\n",
      " 'Fe']\n",
      "Уникальныe значения в столбце c3 после применения функции:[nan 'CoFe2O4']\n"
     ]
    }
   ],
   "source": [
    "print(f\"Уникальные значения в столбце c1 после применения функции:{unique_values_c1}\\n Уникальные значения в столбце c2 после применения функции:{unique_values_c2}\\nУникальныe значения в столбце c3 после применения функции:{unique_values_c3}\", end='\\n')"
   ]
  },
  {
   "cell_type": "markdown",
   "metadata": {},
   "source": [
    "### Время для использования Composition\n",
    "\n",
    "Однако в наших колонках есть пропуски и 0, поэттому надо создать функцию, которая будет игнорировать такие строки"
   ]
  },
  {
   "cell_type": "code",
   "execution_count": 87,
   "metadata": {},
   "outputs": [],
   "source": [
    "def process_column(df, column_name):\n",
    "    \"\"\"\n",
    "    Функция проверяет каждую ячейку в столбце DataFrame на равенство 0 или NaN.\n",
    "    Если значение не равно 0 или NaN, оно заменяется на результат применения класса Composition из библиотеки pymatgen.\n",
    "\n",
    "    Args:\n",
    "        df (pandas.DataFrame): Исходный DataFrame.\n",
    "        column_name (str): Имя столбца, который нужно обработать.\n",
    "\n",
    "    Returns:\n",
    "        pandas.DataFrame: DataFrame c обработанным столбцом.\n",
    "    \"\"\"\n",
    "    new_column = []\n",
    "    for value in df[column_name]:\n",
    "        if pd.notna(value) and value != 0:\n",
    "            # Если значение не NaN и не равно 0, применяем класс Composition\n",
    "            comp = Composition(str(value))\n",
    "            new_value = comp.formula\n",
    "        else:\n",
    "            new_value = value\n",
    "        new_column.append(new_value)\n",
    "\n",
    "    df[column_name] = new_column\n",
    "    return df"
   ]
  },
  {
   "cell_type": "markdown",
   "metadata": {},
   "source": [
    "Теперь у меня есть работающая функция composition для столбцов с nan и 0"
   ]
  },
  {
   "cell_type": "code",
   "execution_count": 88,
   "metadata": {},
   "outputs": [
    {
     "name": "stdout",
     "output_type": "stream",
     "text": [
      "[nan 'Fe2 Co1 O4']\n",
      "['Fe2 Co1 O4' nan 'Ni1 O1' 'Fe1 Bi1 O3' 'Co1 O1' 'Fe3 O4' 'Fe2 O3'\n",
      " 'Fe4 Bi2 O9' 'Fe1 O50' 'Fe1 O25' 'Co3 O4' 'Mn3 O4' 'Fe2 Ni1 O4'\n",
      " 'Mn2 Co1 O4' 'Mn1 O1' 'Fe3 C1' 'Mg1 O1' 'Mo1' 'Co1' 'Fe1']\n"
     ]
    }
   ],
   "source": [
    "# Применим на наши колонки c1, c2, c3\n",
    "processed_df = process_column(df, column_name='c1')\n",
    "processed_df = process_column(df, column_name='c2')\n",
    "processed_df = process_column(df, column_name='c3')\n",
    "print(df['c3'].unique())\n",
    "print(df['c2'].unique())"
   ]
  },
  {
   "cell_type": "code",
   "execution_count": 89,
   "metadata": {},
   "outputs": [
    {
     "name": "stdout",
     "output_type": "stream",
     "text": [
      "['Zn1 O1' 'Co1 O1' 'Mn1 Zn1 Fe4 O8' 'La1 Fe1 O3' 'Ni1' 'Mg1 Fe2 O4'\n",
      " 'Fe2 Co1 O4' 'Fe1 Bi1 O3' 'Co1' 'Fe1 Rh1' 'Mn1 O2' 'Ag1' 'Fe1' 'Fe1 O1'\n",
      " 'Ni1 O1' 'Fe3 O4' 'Fe4 Bi2 O9' 'Ti1 O2' 'Fe13 Co2 O20' 'Fe23 Co7 O40'\n",
      " 'Fe7 Co3' 'Fe1 Co1' 'Fe3 Co7' 'La2 Mn1 Fe1 O6' 'V1 Fe1 O4' 'Au1'\n",
      " 'Gd1 Ti1 Fe9 Bi9 O30' 'Sr11 Nd39 Co50 Cu97 O150' 'Cu98' 'Cu96' 'Fe2 O3'\n",
      " 'Sr3 La17 Fe20 O60' 'Mn3 O4' 'Sr33 La67 Mn100 O300' 'Mn1 O1' 'Co3 O4'\n",
      " 'Fe1 Ni99 O100' 'Fe1 Ni49 O50' 'Fe1 Ni24 O25' 'Fe3 Ni97 O100'\n",
      " 'Cr5 Ag1 O8' 'Cr1 Ag1 O2' 'Mn1 Fe2 O4' 'La1 Fe10 Bi9 O30' 'Nd1 Fe1 O3'\n",
      " 'Dy1 Ti1 Cr1 O5' 'Gd1 Ti1 Cr1 O5' 'Ba1 Fe12 O19' 'Fe2 Ni1 O4'\n",
      " 'Cr2 Co1 O4' 'Fe1 Ni1' 'Mn1' 'Fe5 C2' 'Fe1 Ni3' 'Fe11 C5' 'La2 Fe2 O6'\n",
      " 'Fe1 F2' 'Co1 P1']\n"
     ]
    }
   ],
   "source": [
    "print(df['c1'].unique())"
   ]
  },
  {
   "cell_type": "markdown",
   "metadata": {},
   "source": [
    "Создадим отдельный столбец, где будем содержать полностью материал созданный из трёх колонок c1, c2, c3"
   ]
  },
  {
   "cell_type": "code",
   "execution_count": 90,
   "metadata": {},
   "outputs": [],
   "source": [
    "# Функция для сложения формул из нескольких столбцов\n",
    "def combine_compositions(row):\n",
    "    compositions = []\n",
    "    for column in ['c1', 'c2', 'c3']:\n",
    "        value = row[column]\n",
    "        if pd.notnull(value):  # Проверяем, не пустое ли значение\n",
    "            compositions.append(value)\n",
    "    return ' '.join(compositions)\n",
    "\n",
    "# Создаем новый столбец с объединенными формулами\n",
    "df['formula_combined'] = df.apply(combine_compositions, axis=1)"
   ]
  },
  {
   "cell_type": "code",
   "execution_count": 91,
   "metadata": {},
   "outputs": [
    {
     "name": "stdout",
     "output_type": "stream",
     "text": [
      "0      Zn1 O1 Fe2 Co1 O4\n",
      "1      Co1 O1 Fe2 Co1 O4\n",
      "2         Mn1 Zn1 Fe4 O8\n",
      "3         Mn1 Zn1 Fe4 O8\n",
      "4         Mn1 Zn1 Fe4 O8\n",
      "             ...        \n",
      "528    La1 Fe1 O3 Ni1 O1\n",
      "529    La1 Fe1 O3 Ni1 O1\n",
      "530    La1 Fe1 O3 Ni1 O1\n",
      "531    La1 Fe1 O3 Ni1 O1\n",
      "532    La1 Fe1 O3 Ni1 O1\n",
      "Name: formula_combined, Length: 533, dtype: object\n"
     ]
    }
   ],
   "source": [
    "print(df['formula_combined']) # Получилось немного криво, но не критично я думаю можно исправить, у меня встрчеаются повторяющиеся соедиения и индексы их не скаладываются"
   ]
  },
  {
   "cell_type": "code",
   "execution_count": 92,
   "metadata": {},
   "outputs": [],
   "source": [
    "# Выгрузим данные отдельный датасет \n",
    "df.to_csv(r'C:\\Users\\Ксения\\Project\\Magnet_Exchange_bias\\data\\part_11.csv')"
   ]
  },
  {
   "cell_type": "markdown",
   "metadata": {},
   "source": [
    "## Теперь поработаем с space_group_core и space_group_shell"
   ]
  },
  {
   "cell_type": "code",
   "execution_count": 42,
   "metadata": {},
   "outputs": [],
   "source": [
    "# Преобразование значений в нижний регистр на всякий случай\n",
    "df['space_group_core'] = df['space_group_core'].str.lower()\n",
    "df['space_group_shell'] = df['space_group_shell'].str.lower()"
   ]
  },
  {
   "cell_type": "code",
   "execution_count": 43,
   "metadata": {},
   "outputs": [
    {
     "name": "stdout",
     "output_type": "stream",
     "text": [
      "Уникальные значение ядер: ['p63mc' 'fm-3m' 'fd-3m' 'pnma' 'r3c' 'p63/mmc' 'pm-3m' 'i4/m' 'im-3m'\n",
      " 'pbam' 'p42/mnm' 'p1' nan 'i41/amd' 'p-3m1' 'r3m' 'p4332' 'p4/mmm'\n",
      " 'i-43m' 'cmcm' 'p4132' 'c2/c' 'p6322' 'pnnm']\n",
      "Уникальные значения оболочек: ['fd-3m' '0' 'fm-3m' 'r3c' 'p4332' 'pbam' 'p4132' 'pnma' 'i41/amd'\n",
      " 'p41212' 'im-3m' 'p63/mmc' 'p42/mnm']\n"
     ]
    }
   ],
   "source": [
    "#посмотрим какие структуры у нас есть\n",
    "print(f\"Уникальные значение ядер: {df['space_group_core'].unique()}\")\n",
    "print(f\"Уникальные значения оболочек: {df['space_group_shell'].unique()}\")"
   ]
  },
  {
   "cell_type": "markdown",
   "metadata": {},
   "source": [
    "[ 'fm-3m' 'fd-3m' 'pbnm' - заменить на pnma 'r3c''pm-3m' 'im-3m' 'i-43m'\n",
    "  'p-3m1'"
   ]
  },
  {
   "cell_type": "code",
   "execution_count": 44,
   "metadata": {},
   "outputs": [],
   "source": [
    "# Надо заменить на значения с чертой/ - если значение равно 221-230 или 215-220 или 200-206 или 187-190 или 162-167"
   ]
  },
  {
   "cell_type": "markdown",
   "metadata": {},
   "source": [
    "Осторожней с 62 - так она может пиcаться ещё как 'Pnma' и 'pbnm'"
   ]
  },
  {
   "cell_type": "code",
   "execution_count": 45,
   "metadata": {},
   "outputs": [],
   "source": [
    "# Создадим словарь, чтобы перевести простаранственные группы в числовые обозначения пространнственных групп\n",
    "dict_space_group = {\n",
    "    1: \"P1\", 2: \"P-1\", 3: \"P121\", 4: \"P1211\", 5: \"C121\", 6: \"P1m1\", 7: \"P1c1\", 8: \"C1m1\",\n",
    "    9: \"C1c1\", 10: \"P12/m1\", 11: \"P121/m1\", 12: \"C12/m1\", 13: \"P12/c1\", 14: \"P121/c1\",\n",
    "    15: \"C2/c\", 16: \"P222\", 17: \"P2221\", 18: \"P21212\", 19: \"P212121\", 20: \"C2221\",\n",
    "    21: \"C222\", 22: \"F222\", 23: \"I222\", 24: \"I212121\", 25: \"Pmm2\", 26: \"Pmc21\", 27: \"Pcc2\",\n",
    "    28: \"Pma2\", 29: \"Pca21\", 30: \"Pnc2\", 31: \"Pmn21\", 32: \"Pba2\", 33: \"Pna21\", 34: \"Pnn2\",\n",
    "    35: \"Cmm2\", 36: \"Cmc21\", 37: \"Ccc2\", 38: \"Amm2\", 39: \"Abm2\", 40: \"Ama2\", 41: \"Aba2\",\n",
    "    42: \"Fmm2\", 43: \"Fdd2\", 44: \"Imm2\", 45: \"Iba2\", 46: \"Ima2\", 47: \"Pmmm\", 48: \"Pnnn\",\n",
    "    49: \"Pccm\", 50: \"Pban\", 51: \"Pmma\", 52: \"Pnna\", 53: \"Pmna\", 54: \"Pcca\", 55: \"Pbam\",\n",
    "    56: \"Pccn\", 57: \"Pbcm\", 58: \"Pnnm\", 59: \"Pmmn\", 60: \"Pbcn\", 61: \"Pbca\", 62: \"Pnma\",\n",
    "    63: \"Cmcm\", 64: \"Cmca\", 65: \"Cmmm\", 66: \"Cccm\", 67: \"Cmma\", 68: \"Ccca\", 69: \"Fmmm\",\n",
    "    70: \"Fddd\", 71: \"Immm\", 72: \"Ibam\", 73: \"Ibca\", 74: \"Imma\", 75: \"P4\", 76: \"P41\",\n",
    "    77: \"P42\", 78: \"P43\", 79: \"I4\", 80: \"I41\", 81: \"P-4\", 82: \"I-4\", 83: \"P4/m\", 84: \"P42/m\",\n",
    "    85: \"P4/n\", 86: \"P42/n\", 87: \"I4/m\", 88: \"I41/a\", 89: \"P422\", 90: \"P4212\", 91: \"P4122\",\n",
    "    92: \"P41212\", 93: \"P4222\", 94: \"P42212\", 95: \"P4322\", 96: \"P43212\", 97: \"I422\",\n",
    "    98: \"I4122\", 99: \"P4mm\", 100: \"P4bm\", 101: \"P42cm\", 102: \"P42nm\", 103: \"P4cc\",\n",
    "    104: \"P4nc\", 105: \"P42mc\", 106: \"P42bc\", 107: \"I4mm\", 108: \"I4cm\", 109: \"I41md\",\n",
    "    110: \"I41cd\", 111: \"P-42m\", 112: \"P-42c\", 113: \"P-421m\", 114: \"P-421c\", 115: \"P-4m2\",\n",
    "    116: \"P-4c2\", 117: \"P-4b2\", 118: \"P-4n2\", 119: \"I-4m2\", 120: \"I-4c2\", 121: \"I-42m\",\n",
    "    122: \"I-42d\", 123: \"P4/mmm\", 124: \"P4/mcc\", 125: \"P4/nbm\", 126: \"P4/nnc\", 127: \"P4/mbm\",\n",
    "    128: \"P4/mnc\", 129: \"P4/nmm\", 130: \"P4/ncc\", 131: \"P42/mmc\", 132: \"P42/mcm\",\n",
    "    133: \"P42/nbc\", 134: \"P42/nnm\", 135: \"P42/mbc\", 136: \"P42/mnm\", 137: \"P42/nmc\",\n",
    "    138: \"P42/ncm\", 139: \"I4/mmm\", 140: \"I4/mcm\", 141: \"I41/amd\", 142: \"I41/acd\",\n",
    "    143: \"P3\", 144: \"P31\", 145: \"P32\", 146: \"R3\", 147: \"P-3\", 148: \"R-3\", 149: \"P312\",\n",
    "    150: \"P321\", 151: \"P3112\", 152: \"P3121\", 153: \"P3212\", 154: \"P3221\", 155: \"R32\",\n",
    "    156: \"P3m1\", 157: \"P31m\", 158: \"P3c1\", 159: \"P31c\", 160: \"R3m\", 161: \"R3c\", 162: \"P-31m\",\n",
    "    163: \"P-31c\", 164: \"P-3m1\", 165: \"P-3c1\", 166: \"R-3m\", 167: \"R-3c\", 168: \"P6\", 169: \"P61\",\n",
    "    170: \"P65\", 171: \"P62\", 172: \"P64\", 173: \"P63\", 174: \"P-6\", 175: \"P6/m\", 176: \"P63/m\",\n",
    "    177: \"P622\", 178: \"P6122\", 179: \"P6522\", 180: \"P6222\", 181: \"P6422\", 182: \"P6322\",\n",
    "    183: \"P6mm\", 184: \"P6cc\", 185: \"P63cm\", 186: \"P63mc\", 187: \"P-6m2\", 188: \"P-6c2\",\n",
    "    189: \"P-62m\", 190: \"P-62c\", 191: \"P6/mmm\", 192: \"P6/mcc\", 193: \"P63/mcm\", 194: \"P63/mmc\",\n",
    "    195: \"P23\", 196: \"F23\", 197: \"I23\", 198: \"P213\", 199: \"I213\", 200: \"Pm-3\", 201: \"Pn-3\",\n",
    "    202: \"Fm-3\", 203: \"Fd-3\", 204: \"Im-3\", 205: \"Pa-3\", 206: \"Ia-3\", 207: \"P432\", 208: \"P4232\",\n",
    "    209: \"F432\", 210: \"F4132\", 211: \"I432\", 212: \"P4332\", 213: \"P4132\", 214: \"I4132\",\n",
    "    215: \"P-43m\", 216: \"F-43m\", 217: \"I-43m\", 218: \"P-43n\", 219: \"F-43c\", 220: \"I-43d\",\n",
    "    221: \"Pm-3m\", 222: \"Pn-3n\", 223: \"Pm-3n\", 224: \"Pn-3m\", 225: \"Fm-3m\", 226: \"Fm-3c\",\n",
    "    227: \"Fd-3m\", 228: \"Fd-3c\", 229: \"Im-3m\", 230: \"Ia-3d\"\n",
    "}"
   ]
  },
  {
   "cell_type": "code",
   "execution_count": 46,
   "metadata": {},
   "outputs": [],
   "source": [
    "# Создание словаря со значениями в нижнем регистре для сравнени по нему\n",
    "dict_space_group_lower = {key: value.lower() for key, value in dict_space_group.items()}"
   ]
  },
  {
   "cell_type": "code",
   "execution_count": 47,
   "metadata": {},
   "outputs": [],
   "source": [
    "# Чтобы проще было проверять и менять значения\n",
    "dict_space_group_swapped = {v: k for k, v in dict_space_group_lower.items()}"
   ]
  },
  {
   "cell_type": "code",
   "execution_count": 48,
   "metadata": {},
   "outputs": [
    {
     "name": "stdout",
     "output_type": "stream",
     "text": [
      "{'p1': 1, 'p-1': 2, 'p121': 3, 'p1211': 4, 'c121': 5, 'p1m1': 6, 'p1c1': 7, 'c1m1': 8, 'c1c1': 9, 'p12/m1': 10, 'p121/m1': 11, 'c12/m1': 12, 'p12/c1': 13, 'p121/c1': 14, 'c2/c': 15, 'p222': 16, 'p2221': 17, 'p21212': 18, 'p212121': 19, 'c2221': 20, 'c222': 21, 'f222': 22, 'i222': 23, 'i212121': 24, 'pmm2': 25, 'pmc21': 26, 'pcc2': 27, 'pma2': 28, 'pca21': 29, 'pnc2': 30, 'pmn21': 31, 'pba2': 32, 'pna21': 33, 'pnn2': 34, 'cmm2': 35, 'cmc21': 36, 'ccc2': 37, 'amm2': 38, 'abm2': 39, 'ama2': 40, 'aba2': 41, 'fmm2': 42, 'fdd2': 43, 'imm2': 44, 'iba2': 45, 'ima2': 46, 'pmmm': 47, 'pnnn': 48, 'pccm': 49, 'pban': 50, 'pmma': 51, 'pnna': 52, 'pmna': 53, 'pcca': 54, 'pbam': 55, 'pccn': 56, 'pbcm': 57, 'pnnm': 58, 'pmmn': 59, 'pbcn': 60, 'pbca': 61, 'pnma': 62, 'cmcm': 63, 'cmca': 64, 'cmmm': 65, 'cccm': 66, 'cmma': 67, 'ccca': 68, 'fmmm': 69, 'fddd': 70, 'immm': 71, 'ibam': 72, 'ibca': 73, 'imma': 74, 'p4': 75, 'p41': 76, 'p42': 77, 'p43': 78, 'i4': 79, 'i41': 80, 'p-4': 81, 'i-4': 82, 'p4/m': 83, 'p42/m': 84, 'p4/n': 85, 'p42/n': 86, 'i4/m': 87, 'i41/a': 88, 'p422': 89, 'p4212': 90, 'p4122': 91, 'p41212': 92, 'p4222': 93, 'p42212': 94, 'p4322': 95, 'p43212': 96, 'i422': 97, 'i4122': 98, 'p4mm': 99, 'p4bm': 100, 'p42cm': 101, 'p42nm': 102, 'p4cc': 103, 'p4nc': 104, 'p42mc': 105, 'p42bc': 106, 'i4mm': 107, 'i4cm': 108, 'i41md': 109, 'i41cd': 110, 'p-42m': 111, 'p-42c': 112, 'p-421m': 113, 'p-421c': 114, 'p-4m2': 115, 'p-4c2': 116, 'p-4b2': 117, 'p-4n2': 118, 'i-4m2': 119, 'i-4c2': 120, 'i-42m': 121, 'i-42d': 122, 'p4/mmm': 123, 'p4/mcc': 124, 'p4/nbm': 125, 'p4/nnc': 126, 'p4/mbm': 127, 'p4/mnc': 128, 'p4/nmm': 129, 'p4/ncc': 130, 'p42/mmc': 131, 'p42/mcm': 132, 'p42/nbc': 133, 'p42/nnm': 134, 'p42/mbc': 135, 'p42/mnm': 136, 'p42/nmc': 137, 'p42/ncm': 138, 'i4/mmm': 139, 'i4/mcm': 140, 'i41/amd': 141, 'i41/acd': 142, 'p3': 143, 'p31': 144, 'p32': 145, 'r3': 146, 'p-3': 147, 'r-3': 148, 'p312': 149, 'p321': 150, 'p3112': 151, 'p3121': 152, 'p3212': 153, 'p3221': 154, 'r32': 155, 'p3m1': 156, 'p31m': 157, 'p3c1': 158, 'p31c': 159, 'r3m': 160, 'r3c': 161, 'p-31m': 162, 'p-31c': 163, 'p-3m1': 164, 'p-3c1': 165, 'r-3m': 166, 'r-3c': 167, 'p6': 168, 'p61': 169, 'p65': 170, 'p62': 171, 'p64': 172, 'p63': 173, 'p-6': 174, 'p6/m': 175, 'p63/m': 176, 'p622': 177, 'p6122': 178, 'p6522': 179, 'p6222': 180, 'p6422': 181, 'p6322': 182, 'p6mm': 183, 'p6cc': 184, 'p63cm': 185, 'p63mc': 186, 'p-6m2': 187, 'p-6c2': 188, 'p-62m': 189, 'p-62c': 190, 'p6/mmm': 191, 'p6/mcc': 192, 'p63/mcm': 193, 'p63/mmc': 194, 'p23': 195, 'f23': 196, 'i23': 197, 'p213': 198, 'i213': 199, 'pm-3': 200, 'pn-3': 201, 'fm-3': 202, 'fd-3': 203, 'im-3': 204, 'pa-3': 205, 'ia-3': 206, 'p432': 207, 'p4232': 208, 'f432': 209, 'f4132': 210, 'i432': 211, 'p4332': 212, 'p4132': 213, 'i4132': 214, 'p-43m': 215, 'f-43m': 216, 'i-43m': 217, 'p-43n': 218, 'f-43c': 219, 'i-43d': 220, 'pm-3m': 221, 'pn-3n': 222, 'pm-3n': 223, 'pn-3m': 224, 'fm-3m': 225, 'fm-3c': 226, 'fd-3m': 227, 'fd-3c': 228, 'im-3m': 229, 'ia-3d': 230}\n"
     ]
    }
   ],
   "source": [
    "print(dict_space_group_swapped)"
   ]
  },
  {
   "cell_type": "code",
   "execution_count": 49,
   "metadata": {},
   "outputs": [],
   "source": [
    "def replace_space_group_values(df, dict_space_group_swapped):\n",
    "    for column in ['space_group_core', 'space_group_shell']:\n",
    "        for i, value in enumerate(df[column]):\n",
    "            if pd.notnull(value) and value != 0:\n",
    "                # Проверяем наличие значения в словаре и заменяем его, если оно есть\n",
    "                if value in dict_space_group_swapped:\n",
    "                    df.at[i, column] = dict_space_group_swapped[value]\n",
    "    return df\n",
    "\n",
    "# Применяем функцию к датафрейму\n",
    "new_df = replace_space_group_values(df, dict_space_group_swapped)"
   ]
  },
  {
   "cell_type": "code",
   "execution_count": 50,
   "metadata": {},
   "outputs": [
    {
     "name": "stdout",
     "output_type": "stream",
     "text": [
      "Для ядра: [186 225 227 62 161 194 221 87 229 55 136 1 nan 141 164 160 212 123 217 63\n",
      " 213 15 182 58]\n",
      "Для оболочки: [227 '0' 225 161 212 55 213 62 141 92 229 194 136]\n"
     ]
    }
   ],
   "source": [
    "# Теперь все наши значения закодированы - не все есть моменты, которые стоит исправить - может там русские буквы\n",
    "print(f\"Для ядра: {df['space_group_core'].unique()}\", f\"Для оболочки: {df['space_group_shell'].unique()}\", sep='\\n')"
   ]
  },
  {
   "cell_type": "code",
   "execution_count": 51,
   "metadata": {},
   "outputs": [],
   "source": [
    "# Для проверки первого столбца\n",
    "dict_crystal_structure = {\n",
    "    \"triclinic\":[1, 2], \n",
    "    \"monoclinic\":[3, 4, 5, 6, 7, 8, 9, 10, 11, 12, 13, 14, 15],\n",
    "    \"orthorhombic\":[16, 17, 18, 19, 20, 21, 22, 23, 24, 25, 26, 27, 28, 29, 30, 31, 32, 33, 34, 35, 36, 37, 38, 39, 40, 41, 42, 43, 44, 45, 46, 47, 48, 49, 50, 51, 52, 53, 54, 55, 56, 57, 58, 59, 60, 61, 62, 63, 64, 65, 66, 67, 68, 69, 70, 71, 72, 73, 74], \n",
    "    \"tetragonal\":[75, 76, 77, 78, 79, 80, 81, 82, 83, 84, 85, 86, 87, 88, 89, 90, 91, 92, 93, 94, 95, 96, 97, 98, 99, 100, 101, 102, 103, 104, 105, 106, 107, 108, 109, 110, 111, 112, 113, 114, 115, 116, 117, 118, 119, 120, 121, 122, 123, 124, 125, 126, 127, 128, 129, 130, 131, 132, 133, 134, 135, 136, 137, 138, 139, 140, 141, 142], \n",
    "    \"trigonal\":[143, 144, 145, 146, 147, 148, 149, 150, 151, 152, 153, 154, 155, 156, 157, 158, 159, 160, 161, 162, 163, 164, 165, 166, 167], \n",
    "    \"hexagonal\":[168, 169, 170, 171, 172, 173, 174, 175, 176, 177, 178, 179, 180, 181, 182, 183, 184, 185, 186, 187, 188, 189, 190, 191, 192, 193, 194],\n",
    "    \"cubic\":[195, 196, 197, 198, 199, 200, 201, 202, 203, 204, 205, 206, 207, 208, 209, 210, 211, 212, 213, 214, 215, 216, 217, 218, 219, 220, 221, 222, 223, 224, 225, 226, 227, 228, 229, 230]\n",
    "}               "
   ]
  },
  {
   "cell_type": "markdown",
   "metadata": {},
   "source": [
    "# Геометрические признаки "
   ]
  },
  {
   "cell_type": "markdown",
   "metadata": {},
   "source": [
    "Посмотрим на парметры формы и на x/y/z(nm) параметры частиц.\n",
    "1. Закодируем названия форм, но сначала удалим одни и те же формы, но написанные по разному\n",
    "2. Найдём площадь и объем наших частиц\n",
    "3. Посмотрим на сферичность\n",
    "4. Посмотрим на разброс классов"
   ]
  },
  {
   "cell_type": "code",
   "execution_count": 52,
   "metadata": {},
   "outputs": [
    {
     "name": "stdout",
     "output_type": "stream",
     "text": [
      "<class 'pandas.core.frame.DataFrame'>\n",
      "RangeIndex: 533 entries, 0 to 532\n",
      "Data columns (total 24 columns):\n",
      " #   Column             Non-Null Count  Dtype  \n",
      "---  ------             --------------  -----  \n",
      " 0   c1                 533 non-null    object \n",
      " 1   c2                 322 non-null    object \n",
      " 2   c3                 9 non-null      object \n",
      " 3   chemical_formula   533 non-null    object \n",
      " 4   coer_oe            510 non-null    float64\n",
      " 5   crystal_structure  533 non-null    object \n",
      " 6   depth_nm           509 non-null    float64\n",
      " 7   exc_bias_oe        500 non-null    float64\n",
      " 8   fc_field_t         508 non-null    float64\n",
      " 9   h_range_max_koe    526 non-null    float64\n",
      " 10  id                 533 non-null    int64  \n",
      " 11  length_d_nm        521 non-null    float64\n",
      " 12  mr (emu/g)         430 non-null    float64\n",
      " 13  sat_em_g           420 non-null    float64\n",
      " 14  shape              493 non-null    object \n",
      " 15  space_group_core   532 non-null    object \n",
      " 16  space_group_shell  533 non-null    object \n",
      " 17  structure          533 non-null    object \n",
      " 18  structure_         533 non-null    object \n",
      " 19  temperature_k      528 non-null    float64\n",
      " 20  ver_shift_emu_g    441 non-null    float64\n",
      " 21  width_nm           521 non-null    float64\n",
      " 22  orig_formula       533 non-null    object \n",
      " 23  formula_combined   533 non-null    object \n",
      "dtypes: float64(11), int64(1), object(12)\n",
      "memory usage: 100.1+ KB\n",
      "None\n"
     ]
    }
   ],
   "source": [
    "print(df.info()) "
   ]
  },
  {
   "cell_type": "code",
   "execution_count": 53,
   "metadata": {},
   "outputs": [
    {
     "name": "stdout",
     "output_type": "stream",
     "text": [
      "['sphere' 'polyhedron' 'tetrahedral' 'octahedral' nan 'wire' 'flower'\n",
      " 'egg' 'rod' 'quasi-spherical' 'cube' 'octopod' 'octahedral ' 'cubic'\n",
      " 'triangle' 'hexahedron' 'quasi-sphere' 'polyhedral' 'pseudo-spherical'\n",
      " 'pseudospherically' 'hexagonal' 'octahedron']\n"
     ]
    }
   ],
   "source": [
    "print(df['shape'].unique()) # Как можно заметить многие формы являются одним и тем же, сгруппируем"
   ]
  },
  {
   "cell_type": "code",
   "execution_count": 54,
   "metadata": {},
   "outputs": [],
   "source": [
    "# Составим словарь для форм\n",
    "dict_shape = { 1: ['sphere', 'quasi-spherical', 'quasi-sphere', 'pseudo-spherical', 'pseudospherically', 'egg', 'flower', 'polyhedron', 'polyhedral'], \n",
    "               2: ['octahedral', 'octahedron', 'octahedral '], \n",
    "               3: ['cubic', 'cube', 'hexahedron'], \n",
    "               4: ['hexagonal'], # hexagonal написано в статье, поэтому считаем как плоскую фигуру\n",
    "               5: ['tetrahedral', 'triangle', 'tetrahedron'], \n",
    "               6: ['wire', 'rod', 'whisker'], \n",
    "               7: ['octopod', 'octopode']\n",
    "}"
   ]
  },
  {
   "cell_type": "code",
   "execution_count": 55,
   "metadata": {},
   "outputs": [],
   "source": [
    "# Перевеём значения формы в цифры\n",
    "for key, values in dict_shape.items():\n",
    "    df['shape'] = df['shape'].replace(values, key)"
   ]
  },
  {
   "cell_type": "code",
   "execution_count": 56,
   "metadata": {},
   "outputs": [
    {
     "name": "stdout",
     "output_type": "stream",
     "text": [
      "[ 1.  5.  2. nan  6.  3.  7.  4.]\n"
     ]
    }
   ],
   "source": [
    "print(df['shape'].unique())"
   ]
  },
  {
   "cell_type": "markdown",
   "metadata": {},
   "source": [
    "# Поработаем с пропусками"
   ]
  },
  {
   "cell_type": "code",
   "execution_count": 57,
   "metadata": {},
   "outputs": [
    {
     "name": "stdout",
     "output_type": "stream",
     "text": [
      "<class 'pandas.core.frame.DataFrame'>\n",
      "RangeIndex: 533 entries, 0 to 532\n",
      "Data columns (total 24 columns):\n",
      " #   Column             Non-Null Count  Dtype  \n",
      "---  ------             --------------  -----  \n",
      " 0   c1                 533 non-null    object \n",
      " 1   c2                 322 non-null    object \n",
      " 2   c3                 9 non-null      object \n",
      " 3   chemical_formula   533 non-null    object \n",
      " 4   coer_oe            510 non-null    float64\n",
      " 5   crystal_structure  533 non-null    object \n",
      " 6   depth_nm           509 non-null    float64\n",
      " 7   exc_bias_oe        500 non-null    float64\n",
      " 8   fc_field_t         508 non-null    float64\n",
      " 9   h_range_max_koe    526 non-null    float64\n",
      " 10  id                 533 non-null    int64  \n",
      " 11  length_d_nm        521 non-null    float64\n",
      " 12  mr (emu/g)         430 non-null    float64\n",
      " 13  sat_em_g           420 non-null    float64\n",
      " 14  shape              493 non-null    float64\n",
      " 15  space_group_core   532 non-null    object \n",
      " 16  space_group_shell  533 non-null    object \n",
      " 17  structure          533 non-null    object \n",
      " 18  structure_         533 non-null    object \n",
      " 19  temperature_k      528 non-null    float64\n",
      " 20  ver_shift_emu_g    441 non-null    float64\n",
      " 21  width_nm           521 non-null    float64\n",
      " 22  orig_formula       533 non-null    object \n",
      " 23  formula_combined   533 non-null    object \n",
      "dtypes: float64(12), int64(1), object(11)\n",
      "memory usage: 100.1+ KB\n",
      "None\n"
     ]
    }
   ],
   "source": [
    "print(df.info())"
   ]
  },
  {
   "cell_type": "code",
   "execution_count": 58,
   "metadata": {},
   "outputs": [
    {
     "name": "stdout",
     "output_type": "stream",
     "text": [
      "<class 'pandas.core.frame.DataFrame'>\n",
      "RangeIndex: 533 entries, 0 to 532\n",
      "Data columns (total 14 columns):\n",
      " #   Column            Non-Null Count  Dtype  \n",
      "---  ------            --------------  -----  \n",
      " 0   coer_oe           510 non-null    float64\n",
      " 1   exc_bias_oe       500 non-null    float64\n",
      " 2   fc_field_t        508 non-null    float64\n",
      " 3   h_range_max_koe   526 non-null    float64\n",
      " 4   id                533 non-null    int64  \n",
      " 5   length_d_nm       521 non-null    float64\n",
      " 6   mr (emu/g)        430 non-null    float64\n",
      " 7   sat_em_g          420 non-null    float64\n",
      " 8   shape             493 non-null    float64\n",
      " 9   space_group_core  532 non-null    object \n",
      " 10  temperature_k     528 non-null    float64\n",
      " 11  ver_shift_emu_g   441 non-null    float64\n",
      " 12  width_nm          521 non-null    float64\n",
      " 13  orig_formula      533 non-null    object \n",
      "dtypes: float64(11), int64(1), object(2)\n",
      "memory usage: 58.4+ KB\n",
      "None\n"
     ]
    }
   ],
   "source": [
    "# Создадим копию датасета\n",
    "df_copy = df.copy()\n",
    "df_copy  = df_copy.drop(columns=['c1', 'c2', 'c3', 'chemical_formula', 'crystal_structure', 'depth_nm', 'space_group_shell', 'structure', 'structure_', 'formula_combined'])\n",
    "print(df_copy.info())"
   ]
  },
  {
   "cell_type": "code",
   "execution_count": 59,
   "metadata": {},
   "outputs": [],
   "source": [
    "# Преобразование типа данных в числовой\n",
    "df_copy['shape'] = df_copy['shape'].astype('float64')\n",
    "df_copy['space_group_core'] = df_copy['space_group_core'].astype('float64')\n",
    "\n",
    "# Заполнение пропущенных значений в категориальных признаках модой\n",
    "df_copy['shape'] = df_copy['shape'].fillna(df_copy['shape'].mode()[0])\n",
    "df_copy['space_group_core'] = df_copy['space_group_core'].fillna(df_copy['space_group_core'].mode()[0])\n",
    "\n",
    "# Преобразование типа данных в категориальный\n",
    "df_copy['shape'] = df_copy['shape'].astype('category')\n",
    "df_copy['space_group_core'] = df_copy['space_group_core'].astype('category')"
   ]
  },
  {
   "cell_type": "code",
   "execution_count": 60,
   "metadata": {},
   "outputs": [
    {
     "name": "stderr",
     "output_type": "stream",
     "text": [
      "C:\\Users\\Ксения\\AppData\\Roaming\\Python\\Python311\\site-packages\\IPython\\lib\\pretty.py:779: FutureWarning: Index.ravel returning ndarray is deprecated; in a future version this will return a view on self.\n",
      "  output = repr(obj)\n"
     ]
    },
    {
     "data": {
      "text/plain": [
       "[1.0, 5.0, 2.0, 6.0, 3.0, 7.0, 4.0]\n",
       "Categories (7, float64): [1.0, 2.0, 3.0, 4.0, 5.0, 6.0, 7.0]"
      ]
     },
     "execution_count": 60,
     "metadata": {},
     "output_type": "execute_result"
    }
   ],
   "source": [
    "df_copy['shape'].unique()"
   ]
  },
  {
   "cell_type": "code",
   "execution_count": 61,
   "metadata": {},
   "outputs": [
    {
     "name": "stdout",
     "output_type": "stream",
     "text": [
      "<class 'pandas.core.frame.DataFrame'>\n",
      "RangeIndex: 533 entries, 0 to 532\n",
      "Data columns (total 14 columns):\n",
      " #   Column            Non-Null Count  Dtype   \n",
      "---  ------            --------------  -----   \n",
      " 0   coer_oe           510 non-null    float64 \n",
      " 1   exc_bias_oe       500 non-null    float64 \n",
      " 2   fc_field_t        508 non-null    float64 \n",
      " 3   h_range_max_koe   526 non-null    float64 \n",
      " 4   id                533 non-null    int64   \n",
      " 5   length_d_nm       521 non-null    float64 \n",
      " 6   mr (emu/g)        430 non-null    float64 \n",
      " 7   sat_em_g          420 non-null    float64 \n",
      " 8   shape             533 non-null    category\n",
      " 9   space_group_core  533 non-null    category\n",
      " 10  temperature_k     528 non-null    float64 \n",
      " 11  ver_shift_emu_g   441 non-null    float64 \n",
      " 12  width_nm          521 non-null    float64 \n",
      " 13  orig_formula      533 non-null    object  \n",
      "dtypes: category(2), float64(10), int64(1), object(1)\n",
      "memory usage: 52.2+ KB\n"
     ]
    }
   ],
   "source": [
    "df_copy.info()"
   ]
  },
  {
   "cell_type": "code",
   "execution_count": 62,
   "metadata": {},
   "outputs": [
    {
     "data": {
      "text/plain": [
       "array([        nan, 2.29000e+00, 2.43000e+00, 1.61500e+01, 1.87500e+01,\n",
       "       8.14800e+01, 1.32350e+00, 1.35290e+00, 1.38230e+00, 1.44117e+00,\n",
       "       6.50000e-01, 6.60000e-01, 2.66000e+01, 2.64000e+01, 1.52000e+01,\n",
       "       1.47000e+01, 1.60000e+01, 1.65000e+01, 1.27500e+01, 1.86100e+01,\n",
       "       2.45200e+01, 2.94200e+01, 7.50000e+01, 1.20000e-01, 7.45950e+01,\n",
       "       7.91670e+01, 8.32590e+01, 8.59000e+01, 8.70000e+01, 8.75000e+01,\n",
       "       8.73490e+01, 8.78300e+01, 6.90000e+00, 6.00000e+01, 3.84570e+02,\n",
       "       3.26600e+02, 3.50000e+01, 4.10000e+01, 5.30000e+01, 3.77000e+01,\n",
       "       3.70000e+01, 3.29000e+01, 3.36000e+01, 5.48000e+01, 1.80000e-01,\n",
       "       7.02640e+01, 3.13300e+01, 4.00300e+01, 3.30000e+01, 4.48900e+01,\n",
       "       5.20000e+01, 5.13850e+01, 5.21800e+01, 5.03000e+01, 5.02750e+01,\n",
       "       4.89100e+01, 5.10000e+01, 4.88500e+01, 5.06000e+01, 5.25000e+01,\n",
       "       4.61100e+01, 4.57800e+01, 5.70000e+01, 5.50000e+01, 4.50000e+01,\n",
       "       1.25900e+00, 8.45500e-01, 6.46000e-01, 1.24000e+00, 8.40000e-01,\n",
       "       6.72000e-01, 6.30000e+01, 5.99500e+01, 5.54000e+01, 9.73000e+01,\n",
       "       9.74500e+01, 9.09500e+01, 1.83000e+01, 1.30000e+01, 1.08500e+01,\n",
       "       2.47500e+01, 2.54500e+01, 1.92100e+01, 2.00000e+01, 5.43600e+01,\n",
       "       3.17290e+01, 4.41400e+01, 3.10000e+01, 8.40000e+01, 1.51225e+01,\n",
       "       1.52465e+01, 3.89000e+01, 9.89000e-01, 5.22700e+00, 2.08620e+01,\n",
       "       7.53800e+00, 5.94200e+00, 2.08700e+01, 2.50000e-03, 3.50000e-03,\n",
       "       4.50000e-03, 4.70000e-03, 2.60000e+00, 2.94000e+01, 2.16260e+01,\n",
       "       2.04000e+01, 1.34400e+01, 1.01000e+01, 8.60000e+00, 8.69000e+01,\n",
       "       5.53000e+01, 5.57000e+01, 2.50000e-02, 1.72000e-01, 1.15000e-01,\n",
       "       3.44000e-01, 5.80000e+00, 3.05000e+00, 1.57450e+00, 1.58500e+00,\n",
       "       1.18350e+00, 3.00000e+01, 1.22000e+02, 1.16000e+02, 1.05000e+02,\n",
       "       9.04200e+01, 5.69000e+01, 3.20000e+01, 9.55000e+00, 4.60000e+00,\n",
       "       3.00000e+00, 5.90000e+01, 4.03600e+01, 3.80000e+01, 3.88000e+01,\n",
       "       4.50000e+00, 1.34600e+01, 1.71700e+01, 3.53800e+01, 5.63120e+01,\n",
       "       6.53200e+01, 6.45400e+01, 9.60000e+01, 7.72700e+01, 3.50000e+00,\n",
       "       2.27180e-01, 5.32000e+00, 1.36800e+00, 4.00000e-01, 1.00600e+02,\n",
       "       7.61000e+01, 7.46000e+01, 3.12090e-01, 5.65320e-01, 7.84910e-01,\n",
       "       1.89780e-01, 3.19560e-01, 1.51460e-01, 7.76000e+01, 7.60000e+01,\n",
       "       8.88000e+01, 8.32000e+01, 8.07000e+01, 8.10000e+01, 8.38000e+01,\n",
       "       2.46000e+01, 1.04000e+01, 8.30000e+00, 5.08600e+01, 6.60000e+01,\n",
       "       5.88000e+00, 5.68000e+00, 5.74000e+00, 5.67000e+00, 4.53000e+00,\n",
       "       4.05000e+00, 3.82000e+00, 2.94000e+00, 2.53000e+00, 1.46900e+00,\n",
       "       3.23400e+00, 3.09000e+00, 4.61000e+00, 8.01000e+00, 1.22100e+01,\n",
       "       2.84100e+01, 4.03100e+01, 3.78150e+01, 3.69700e+01, 3.61300e+01,\n",
       "       5.04000e+01, 5.37800e+01, 3.90700e+01, 7.04000e+01, 6.99000e+01,\n",
       "       1.34000e+01, 1.29000e+01, 1.76000e+01, 2.16000e+01, 3.15000e+01,\n",
       "       1.61000e+01, 1.49000e+01, 3.54700e-01, 3.75000e-01, 3.69800e-01,\n",
       "       4.08000e-01, 2.42000e+00, 7.79600e+01, 7.44000e+01, 7.39700e+01,\n",
       "       7.54800e+01, 7.48300e+01, 6.99700e+01, 4.51000e+01, 4.34000e+01,\n",
       "       4.00000e+01, 2.57400e+01, 6.61600e+01, 3.06800e+01, 2.75500e+01,\n",
       "       3.01100e+01, 3.30600e+01, 3.54000e+01, 3.78000e+01, 5.97800e+01,\n",
       "       1.12416e+02, 3.71700e+01, 3.33850e+01, 2.97350e+01, 2.72600e+01,\n",
       "       2.41280e+01, 2.15000e+01, 1.01250e+02, 8.00000e+01, 3.29500e+00,\n",
       "       1.27800e+00, 2.26000e+00, 1.72000e+00, 6.58200e+01, 6.67200e+01,\n",
       "       5.12200e+01, 5.44200e+01, 5.89100e+01, 4.59200e+01, 7.33200e+01,\n",
       "       7.46200e+01, 5.79200e+01, 5.99200e+01, 6.54200e+01, 5.16200e+01,\n",
       "       4.12100e+01, 2.82800e+01, 2.08700e-01, 4.95000e+01, 3.37500e+01,\n",
       "       4.80000e+01, 1.90000e+01, 4.70000e+01, 1.63000e+01, 1.87000e+01,\n",
       "       6.20000e+00, 5.79000e+00, 5.75000e+00, 6.00000e+00, 5.97900e+00,\n",
       "       5.90000e+00, 6.15100e+00, 7.60000e+00, 8.00000e+00, 8.30000e+01,\n",
       "       3.36700e+00, 3.58500e+00, 2.15900e+00, 6.16000e+01, 6.32400e+01,\n",
       "       5.52000e+01, 7.28400e+01, 5.62500e+00, 7.00000e+00, 3.75000e+00,\n",
       "       4.75000e+00, 6.50000e+00, 7.37000e+00, 1.74000e+01, 2.03000e+01,\n",
       "       1.54000e+01, 1.79000e+01, 2.21000e+01, 1.98000e+01, 8.90000e+00,\n",
       "       1.30000e+00, 2.40000e+00, 1.85000e+01, 2.74000e+01, 3.22000e+01,\n",
       "       4.27000e+01, 3.81000e+01, 1.77000e+01, 3.45000e+01, 4.72000e+01,\n",
       "       3.84000e+01, 3.01700e+01, 3.05000e+01, 3.02500e+01, 3.03390e+01,\n",
       "       2.93200e+01, 2.79670e+01, 2.61870e+01, 3.08500e+01, 3.15380e+01,\n",
       "       3.04270e+01, 3.03400e+01, 3.03000e+01, 2.91440e+01, 2.76060e+01,\n",
       "       6.70000e+01, 4.60000e+01, 9.85000e+01, 8.33000e+01, 7.53000e+01,\n",
       "       8.63000e+01, 6.70000e+00, 7.20000e+00, 7.50000e+00, 4.30000e+00,\n",
       "       4.70000e+00, 5.00000e+00, 8.08800e+01, 1.09000e+02, 1.22800e+02,\n",
       "       7.33000e+01, 1.08000e+02, 9.40000e+01, 1.83000e+02, 1.62000e+02,\n",
       "       9.70000e+01, 1.22700e+02, 1.16780e+02, 1.10790e+02, 1.12490e+02,\n",
       "       1.18450e+02, 1.35010e+01, 1.11050e+01, 2.03650e+01, 6.34150e+01,\n",
       "       2.11400e+01, 1.69000e+01, 1.59380e+01, 1.50000e+01, 1.49600e+01,\n",
       "       7.02500e-01, 7.04000e-01, 7.08000e-01, 7.10000e-01, 4.50000e-01,\n",
       "       6.20000e-01, 5.50000e-01, 6.00000e-01, 3.37000e+01, 3.64000e+01,\n",
       "       3.68000e+01, 4.36000e+01, 4.68000e+01, 7.45000e+00, 7.25000e+00,\n",
       "       2.20000e+00, 8.38000e-01, 1.51450e+00, 1.62500e+00, 1.65000e+00,\n",
       "       1.65700e+00, 1.67650e+00, 1.27000e+00])"
      ]
     },
     "execution_count": 62,
     "metadata": {},
     "output_type": "execute_result"
    }
   ],
   "source": [
    "# Преобразуем тип столбцов из object в float64\n",
    "df_copy['coer_oe'] = df_copy['coer_oe'].astype('float64')\n",
    "df_copy['sat_em_g'] = df_copy['sat_em_g'].astype('float64')\n",
    "\n",
    "df_copy['sat_em_g'].unique()"
   ]
  },
  {
   "cell_type": "code",
   "execution_count": 63,
   "metadata": {},
   "outputs": [],
   "source": [
    "id = df_copy['id']"
   ]
  },
  {
   "cell_type": "code",
   "execution_count": 64,
   "metadata": {},
   "outputs": [
    {
     "ename": "ValueError",
     "evalue": "could not convert string to float: 'ZnO'",
     "output_type": "error",
     "traceback": [
      "\u001b[1;31m---------------------------------------------------------------------------\u001b[0m",
      "\u001b[1;31mValueError\u001b[0m                                Traceback (most recent call last)",
      "Cell \u001b[1;32mIn[64], line 7\u001b[0m\n\u001b[0;32m      5\u001b[0m \u001b[38;5;66;03m# Нормализация данных\u001b[39;00m\n\u001b[0;32m      6\u001b[0m scaler \u001b[38;5;241m=\u001b[39m StandardScaler()\n\u001b[1;32m----> 7\u001b[0m normalized_data \u001b[38;5;241m=\u001b[39m \u001b[43mscaler\u001b[49m\u001b[38;5;241;43m.\u001b[39;49m\u001b[43mfit_transform\u001b[49m\u001b[43m(\u001b[49m\u001b[43mdf_for_kNN\u001b[49m\u001b[43m)\u001b[49m\n\u001b[0;32m      9\u001b[0m \u001b[38;5;66;03m# Заполним пропущенные значения в датасете с помощью kNN\u001b[39;00m\n\u001b[0;32m     10\u001b[0m imputer \u001b[38;5;241m=\u001b[39m KNNImputer(n_neighbors\u001b[38;5;241m=\u001b[39m\u001b[38;5;241m5\u001b[39m)\n",
      "File \u001b[1;32mc:\\Users\\Ксения\\AppData\\Local\\Programs\\Python\\Python311\\Lib\\site-packages\\sklearn\\utils\\_set_output.py:295\u001b[0m, in \u001b[0;36m_wrap_method_output.<locals>.wrapped\u001b[1;34m(self, X, *args, **kwargs)\u001b[0m\n\u001b[0;32m    293\u001b[0m \u001b[38;5;129m@wraps\u001b[39m(f)\n\u001b[0;32m    294\u001b[0m \u001b[38;5;28;01mdef\u001b[39;00m \u001b[38;5;21mwrapped\u001b[39m(\u001b[38;5;28mself\u001b[39m, X, \u001b[38;5;241m*\u001b[39margs, \u001b[38;5;241m*\u001b[39m\u001b[38;5;241m*\u001b[39mkwargs):\n\u001b[1;32m--> 295\u001b[0m     data_to_wrap \u001b[38;5;241m=\u001b[39m \u001b[43mf\u001b[49m\u001b[43m(\u001b[49m\u001b[38;5;28;43mself\u001b[39;49m\u001b[43m,\u001b[49m\u001b[43m \u001b[49m\u001b[43mX\u001b[49m\u001b[43m,\u001b[49m\u001b[43m \u001b[49m\u001b[38;5;241;43m*\u001b[39;49m\u001b[43margs\u001b[49m\u001b[43m,\u001b[49m\u001b[43m \u001b[49m\u001b[38;5;241;43m*\u001b[39;49m\u001b[38;5;241;43m*\u001b[39;49m\u001b[43mkwargs\u001b[49m\u001b[43m)\u001b[49m\n\u001b[0;32m    296\u001b[0m     \u001b[38;5;28;01mif\u001b[39;00m \u001b[38;5;28misinstance\u001b[39m(data_to_wrap, \u001b[38;5;28mtuple\u001b[39m):\n\u001b[0;32m    297\u001b[0m         \u001b[38;5;66;03m# only wrap the first output for cross decomposition\u001b[39;00m\n\u001b[0;32m    298\u001b[0m         return_tuple \u001b[38;5;241m=\u001b[39m (\n\u001b[0;32m    299\u001b[0m             _wrap_data_with_container(method, data_to_wrap[\u001b[38;5;241m0\u001b[39m], X, \u001b[38;5;28mself\u001b[39m),\n\u001b[0;32m    300\u001b[0m             \u001b[38;5;241m*\u001b[39mdata_to_wrap[\u001b[38;5;241m1\u001b[39m:],\n\u001b[0;32m    301\u001b[0m         )\n",
      "File \u001b[1;32mc:\\Users\\Ксения\\AppData\\Local\\Programs\\Python\\Python311\\Lib\\site-packages\\sklearn\\base.py:1098\u001b[0m, in \u001b[0;36mTransformerMixin.fit_transform\u001b[1;34m(self, X, y, **fit_params)\u001b[0m\n\u001b[0;32m   1083\u001b[0m         warnings\u001b[38;5;241m.\u001b[39mwarn(\n\u001b[0;32m   1084\u001b[0m             (\n\u001b[0;32m   1085\u001b[0m                 \u001b[38;5;124mf\u001b[39m\u001b[38;5;124m\"\u001b[39m\u001b[38;5;124mThis object (\u001b[39m\u001b[38;5;132;01m{\u001b[39;00m\u001b[38;5;28mself\u001b[39m\u001b[38;5;241m.\u001b[39m\u001b[38;5;18m__class__\u001b[39m\u001b[38;5;241m.\u001b[39m\u001b[38;5;18m__name__\u001b[39m\u001b[38;5;132;01m}\u001b[39;00m\u001b[38;5;124m) has a `transform`\u001b[39m\u001b[38;5;124m\"\u001b[39m\n\u001b[1;32m   (...)\u001b[0m\n\u001b[0;32m   1093\u001b[0m             \u001b[38;5;167;01mUserWarning\u001b[39;00m,\n\u001b[0;32m   1094\u001b[0m         )\n\u001b[0;32m   1096\u001b[0m \u001b[38;5;28;01mif\u001b[39;00m y \u001b[38;5;129;01mis\u001b[39;00m \u001b[38;5;28;01mNone\u001b[39;00m:\n\u001b[0;32m   1097\u001b[0m     \u001b[38;5;66;03m# fit method of arity 1 (unsupervised transformation)\u001b[39;00m\n\u001b[1;32m-> 1098\u001b[0m     \u001b[38;5;28;01mreturn\u001b[39;00m \u001b[38;5;28;43mself\u001b[39;49m\u001b[38;5;241;43m.\u001b[39;49m\u001b[43mfit\u001b[49m\u001b[43m(\u001b[49m\u001b[43mX\u001b[49m\u001b[43m,\u001b[49m\u001b[43m \u001b[49m\u001b[38;5;241;43m*\u001b[39;49m\u001b[38;5;241;43m*\u001b[39;49m\u001b[43mfit_params\u001b[49m\u001b[43m)\u001b[49m\u001b[38;5;241m.\u001b[39mtransform(X)\n\u001b[0;32m   1099\u001b[0m \u001b[38;5;28;01melse\u001b[39;00m:\n\u001b[0;32m   1100\u001b[0m     \u001b[38;5;66;03m# fit method of arity 2 (supervised transformation)\u001b[39;00m\n\u001b[0;32m   1101\u001b[0m     \u001b[38;5;28;01mreturn\u001b[39;00m \u001b[38;5;28mself\u001b[39m\u001b[38;5;241m.\u001b[39mfit(X, y, \u001b[38;5;241m*\u001b[39m\u001b[38;5;241m*\u001b[39mfit_params)\u001b[38;5;241m.\u001b[39mtransform(X)\n",
      "File \u001b[1;32mc:\\Users\\Ксения\\AppData\\Local\\Programs\\Python\\Python311\\Lib\\site-packages\\sklearn\\preprocessing\\_data.py:876\u001b[0m, in \u001b[0;36mStandardScaler.fit\u001b[1;34m(self, X, y, sample_weight)\u001b[0m\n\u001b[0;32m    874\u001b[0m \u001b[38;5;66;03m# Reset internal state before fitting\u001b[39;00m\n\u001b[0;32m    875\u001b[0m \u001b[38;5;28mself\u001b[39m\u001b[38;5;241m.\u001b[39m_reset()\n\u001b[1;32m--> 876\u001b[0m \u001b[38;5;28;01mreturn\u001b[39;00m \u001b[38;5;28;43mself\u001b[39;49m\u001b[38;5;241;43m.\u001b[39;49m\u001b[43mpartial_fit\u001b[49m\u001b[43m(\u001b[49m\u001b[43mX\u001b[49m\u001b[43m,\u001b[49m\u001b[43m \u001b[49m\u001b[43my\u001b[49m\u001b[43m,\u001b[49m\u001b[43m \u001b[49m\u001b[43msample_weight\u001b[49m\u001b[43m)\u001b[49m\n",
      "File \u001b[1;32mc:\\Users\\Ксения\\AppData\\Local\\Programs\\Python\\Python311\\Lib\\site-packages\\sklearn\\base.py:1474\u001b[0m, in \u001b[0;36m_fit_context.<locals>.decorator.<locals>.wrapper\u001b[1;34m(estimator, *args, **kwargs)\u001b[0m\n\u001b[0;32m   1467\u001b[0m     estimator\u001b[38;5;241m.\u001b[39m_validate_params()\n\u001b[0;32m   1469\u001b[0m \u001b[38;5;28;01mwith\u001b[39;00m config_context(\n\u001b[0;32m   1470\u001b[0m     skip_parameter_validation\u001b[38;5;241m=\u001b[39m(\n\u001b[0;32m   1471\u001b[0m         prefer_skip_nested_validation \u001b[38;5;129;01mor\u001b[39;00m global_skip_validation\n\u001b[0;32m   1472\u001b[0m     )\n\u001b[0;32m   1473\u001b[0m ):\n\u001b[1;32m-> 1474\u001b[0m     \u001b[38;5;28;01mreturn\u001b[39;00m \u001b[43mfit_method\u001b[49m\u001b[43m(\u001b[49m\u001b[43mestimator\u001b[49m\u001b[43m,\u001b[49m\u001b[43m \u001b[49m\u001b[38;5;241;43m*\u001b[39;49m\u001b[43margs\u001b[49m\u001b[43m,\u001b[49m\u001b[43m \u001b[49m\u001b[38;5;241;43m*\u001b[39;49m\u001b[38;5;241;43m*\u001b[39;49m\u001b[43mkwargs\u001b[49m\u001b[43m)\u001b[49m\n",
      "File \u001b[1;32mc:\\Users\\Ксения\\AppData\\Local\\Programs\\Python\\Python311\\Lib\\site-packages\\sklearn\\preprocessing\\_data.py:912\u001b[0m, in \u001b[0;36mStandardScaler.partial_fit\u001b[1;34m(self, X, y, sample_weight)\u001b[0m\n\u001b[0;32m    880\u001b[0m \u001b[38;5;250m\u001b[39m\u001b[38;5;124;03m\"\"\"Online computation of mean and std on X for later scaling.\u001b[39;00m\n\u001b[0;32m    881\u001b[0m \n\u001b[0;32m    882\u001b[0m \u001b[38;5;124;03mAll of X is processed as a single batch. This is intended for cases\u001b[39;00m\n\u001b[1;32m   (...)\u001b[0m\n\u001b[0;32m    909\u001b[0m \u001b[38;5;124;03m    Fitted scaler.\u001b[39;00m\n\u001b[0;32m    910\u001b[0m \u001b[38;5;124;03m\"\"\"\u001b[39;00m\n\u001b[0;32m    911\u001b[0m first_call \u001b[38;5;241m=\u001b[39m \u001b[38;5;129;01mnot\u001b[39;00m \u001b[38;5;28mhasattr\u001b[39m(\u001b[38;5;28mself\u001b[39m, \u001b[38;5;124m\"\u001b[39m\u001b[38;5;124mn_samples_seen_\u001b[39m\u001b[38;5;124m\"\u001b[39m)\n\u001b[1;32m--> 912\u001b[0m X \u001b[38;5;241m=\u001b[39m \u001b[38;5;28;43mself\u001b[39;49m\u001b[38;5;241;43m.\u001b[39;49m\u001b[43m_validate_data\u001b[49m\u001b[43m(\u001b[49m\n\u001b[0;32m    913\u001b[0m \u001b[43m    \u001b[49m\u001b[43mX\u001b[49m\u001b[43m,\u001b[49m\n\u001b[0;32m    914\u001b[0m \u001b[43m    \u001b[49m\u001b[43maccept_sparse\u001b[49m\u001b[38;5;241;43m=\u001b[39;49m\u001b[43m(\u001b[49m\u001b[38;5;124;43m\"\u001b[39;49m\u001b[38;5;124;43mcsr\u001b[39;49m\u001b[38;5;124;43m\"\u001b[39;49m\u001b[43m,\u001b[49m\u001b[43m \u001b[49m\u001b[38;5;124;43m\"\u001b[39;49m\u001b[38;5;124;43mcsc\u001b[39;49m\u001b[38;5;124;43m\"\u001b[39;49m\u001b[43m)\u001b[49m\u001b[43m,\u001b[49m\n\u001b[0;32m    915\u001b[0m \u001b[43m    \u001b[49m\u001b[43mdtype\u001b[49m\u001b[38;5;241;43m=\u001b[39;49m\u001b[43mFLOAT_DTYPES\u001b[49m\u001b[43m,\u001b[49m\n\u001b[0;32m    916\u001b[0m \u001b[43m    \u001b[49m\u001b[43mforce_all_finite\u001b[49m\u001b[38;5;241;43m=\u001b[39;49m\u001b[38;5;124;43m\"\u001b[39;49m\u001b[38;5;124;43mallow-nan\u001b[39;49m\u001b[38;5;124;43m\"\u001b[39;49m\u001b[43m,\u001b[49m\n\u001b[0;32m    917\u001b[0m \u001b[43m    \u001b[49m\u001b[43mreset\u001b[49m\u001b[38;5;241;43m=\u001b[39;49m\u001b[43mfirst_call\u001b[49m\u001b[43m,\u001b[49m\n\u001b[0;32m    918\u001b[0m \u001b[43m\u001b[49m\u001b[43m)\u001b[49m\n\u001b[0;32m    919\u001b[0m n_features \u001b[38;5;241m=\u001b[39m X\u001b[38;5;241m.\u001b[39mshape[\u001b[38;5;241m1\u001b[39m]\n\u001b[0;32m    921\u001b[0m \u001b[38;5;28;01mif\u001b[39;00m sample_weight \u001b[38;5;129;01mis\u001b[39;00m \u001b[38;5;129;01mnot\u001b[39;00m \u001b[38;5;28;01mNone\u001b[39;00m:\n",
      "File \u001b[1;32mc:\\Users\\Ксения\\AppData\\Local\\Programs\\Python\\Python311\\Lib\\site-packages\\sklearn\\base.py:633\u001b[0m, in \u001b[0;36mBaseEstimator._validate_data\u001b[1;34m(self, X, y, reset, validate_separately, cast_to_ndarray, **check_params)\u001b[0m\n\u001b[0;32m    631\u001b[0m         out \u001b[38;5;241m=\u001b[39m X, y\n\u001b[0;32m    632\u001b[0m \u001b[38;5;28;01melif\u001b[39;00m \u001b[38;5;129;01mnot\u001b[39;00m no_val_X \u001b[38;5;129;01mand\u001b[39;00m no_val_y:\n\u001b[1;32m--> 633\u001b[0m     out \u001b[38;5;241m=\u001b[39m \u001b[43mcheck_array\u001b[49m\u001b[43m(\u001b[49m\u001b[43mX\u001b[49m\u001b[43m,\u001b[49m\u001b[43m \u001b[49m\u001b[43minput_name\u001b[49m\u001b[38;5;241;43m=\u001b[39;49m\u001b[38;5;124;43m\"\u001b[39;49m\u001b[38;5;124;43mX\u001b[39;49m\u001b[38;5;124;43m\"\u001b[39;49m\u001b[43m,\u001b[49m\u001b[43m \u001b[49m\u001b[38;5;241;43m*\u001b[39;49m\u001b[38;5;241;43m*\u001b[39;49m\u001b[43mcheck_params\u001b[49m\u001b[43m)\u001b[49m\n\u001b[0;32m    634\u001b[0m \u001b[38;5;28;01melif\u001b[39;00m no_val_X \u001b[38;5;129;01mand\u001b[39;00m \u001b[38;5;129;01mnot\u001b[39;00m no_val_y:\n\u001b[0;32m    635\u001b[0m     out \u001b[38;5;241m=\u001b[39m _check_y(y, \u001b[38;5;241m*\u001b[39m\u001b[38;5;241m*\u001b[39mcheck_params)\n",
      "File \u001b[1;32mc:\\Users\\Ксения\\AppData\\Local\\Programs\\Python\\Python311\\Lib\\site-packages\\sklearn\\utils\\validation.py:997\u001b[0m, in \u001b[0;36mcheck_array\u001b[1;34m(array, accept_sparse, accept_large_sparse, dtype, order, copy, force_all_finite, ensure_2d, allow_nd, ensure_min_samples, ensure_min_features, estimator, input_name)\u001b[0m\n\u001b[0;32m    995\u001b[0m         array \u001b[38;5;241m=\u001b[39m xp\u001b[38;5;241m.\u001b[39mastype(array, dtype, copy\u001b[38;5;241m=\u001b[39m\u001b[38;5;28;01mFalse\u001b[39;00m)\n\u001b[0;32m    996\u001b[0m     \u001b[38;5;28;01melse\u001b[39;00m:\n\u001b[1;32m--> 997\u001b[0m         array \u001b[38;5;241m=\u001b[39m \u001b[43m_asarray_with_order\u001b[49m\u001b[43m(\u001b[49m\u001b[43marray\u001b[49m\u001b[43m,\u001b[49m\u001b[43m \u001b[49m\u001b[43morder\u001b[49m\u001b[38;5;241;43m=\u001b[39;49m\u001b[43morder\u001b[49m\u001b[43m,\u001b[49m\u001b[43m \u001b[49m\u001b[43mdtype\u001b[49m\u001b[38;5;241;43m=\u001b[39;49m\u001b[43mdtype\u001b[49m\u001b[43m,\u001b[49m\u001b[43m \u001b[49m\u001b[43mxp\u001b[49m\u001b[38;5;241;43m=\u001b[39;49m\u001b[43mxp\u001b[49m\u001b[43m)\u001b[49m\n\u001b[0;32m    998\u001b[0m \u001b[38;5;28;01mexcept\u001b[39;00m ComplexWarning \u001b[38;5;28;01mas\u001b[39;00m complex_warning:\n\u001b[0;32m    999\u001b[0m     \u001b[38;5;28;01mraise\u001b[39;00m \u001b[38;5;167;01mValueError\u001b[39;00m(\n\u001b[0;32m   1000\u001b[0m         \u001b[38;5;124m\"\u001b[39m\u001b[38;5;124mComplex data not supported\u001b[39m\u001b[38;5;130;01m\\n\u001b[39;00m\u001b[38;5;132;01m{}\u001b[39;00m\u001b[38;5;130;01m\\n\u001b[39;00m\u001b[38;5;124m\"\u001b[39m\u001b[38;5;241m.\u001b[39mformat(array)\n\u001b[0;32m   1001\u001b[0m     ) \u001b[38;5;28;01mfrom\u001b[39;00m \u001b[38;5;21;01mcomplex_warning\u001b[39;00m\n",
      "File \u001b[1;32mc:\\Users\\Ксения\\AppData\\Local\\Programs\\Python\\Python311\\Lib\\site-packages\\sklearn\\utils\\_array_api.py:521\u001b[0m, in \u001b[0;36m_asarray_with_order\u001b[1;34m(array, dtype, order, copy, xp)\u001b[0m\n\u001b[0;32m    519\u001b[0m     array \u001b[38;5;241m=\u001b[39m numpy\u001b[38;5;241m.\u001b[39marray(array, order\u001b[38;5;241m=\u001b[39morder, dtype\u001b[38;5;241m=\u001b[39mdtype)\n\u001b[0;32m    520\u001b[0m \u001b[38;5;28;01melse\u001b[39;00m:\n\u001b[1;32m--> 521\u001b[0m     array \u001b[38;5;241m=\u001b[39m \u001b[43mnumpy\u001b[49m\u001b[38;5;241;43m.\u001b[39;49m\u001b[43masarray\u001b[49m\u001b[43m(\u001b[49m\u001b[43marray\u001b[49m\u001b[43m,\u001b[49m\u001b[43m \u001b[49m\u001b[43morder\u001b[49m\u001b[38;5;241;43m=\u001b[39;49m\u001b[43morder\u001b[49m\u001b[43m,\u001b[49m\u001b[43m \u001b[49m\u001b[43mdtype\u001b[49m\u001b[38;5;241;43m=\u001b[39;49m\u001b[43mdtype\u001b[49m\u001b[43m)\u001b[49m\n\u001b[0;32m    523\u001b[0m \u001b[38;5;66;03m# At this point array is a NumPy ndarray. We convert it to an array\u001b[39;00m\n\u001b[0;32m    524\u001b[0m \u001b[38;5;66;03m# container that is consistent with the input's namespace.\u001b[39;00m\n\u001b[0;32m    525\u001b[0m \u001b[38;5;28;01mreturn\u001b[39;00m xp\u001b[38;5;241m.\u001b[39masarray(array)\n",
      "File \u001b[1;32mc:\\Users\\Ксения\\AppData\\Local\\Programs\\Python\\Python311\\Lib\\site-packages\\pandas\\core\\generic.py:2070\u001b[0m, in \u001b[0;36mNDFrame.__array__\u001b[1;34m(self, dtype)\u001b[0m\n\u001b[0;32m   2069\u001b[0m \u001b[38;5;28;01mdef\u001b[39;00m \u001b[38;5;21m__array__\u001b[39m(\u001b[38;5;28mself\u001b[39m, dtype: npt\u001b[38;5;241m.\u001b[39mDTypeLike \u001b[38;5;241m|\u001b[39m \u001b[38;5;28;01mNone\u001b[39;00m \u001b[38;5;241m=\u001b[39m \u001b[38;5;28;01mNone\u001b[39;00m) \u001b[38;5;241m-\u001b[39m\u001b[38;5;241m>\u001b[39m np\u001b[38;5;241m.\u001b[39mndarray:\n\u001b[1;32m-> 2070\u001b[0m     \u001b[38;5;28;01mreturn\u001b[39;00m \u001b[43mnp\u001b[49m\u001b[38;5;241;43m.\u001b[39;49m\u001b[43masarray\u001b[49m\u001b[43m(\u001b[49m\u001b[38;5;28;43mself\u001b[39;49m\u001b[38;5;241;43m.\u001b[39;49m\u001b[43m_values\u001b[49m\u001b[43m,\u001b[49m\u001b[43m \u001b[49m\u001b[43mdtype\u001b[49m\u001b[38;5;241;43m=\u001b[39;49m\u001b[43mdtype\u001b[49m\u001b[43m)\u001b[49m\n",
      "\u001b[1;31mValueError\u001b[0m: could not convert string to float: 'ZnO'"
     ]
    }
   ],
   "source": [
    "# Заполним значения с помощью KNN\n",
    "# Удалим ненужные столбцы из датасета для применения kNN\n",
    "df_for_kNN = df_copy.drop(columns=['id'])  # Уберите любые другие столбцы, которые вам не нужны для анализа\n",
    "\n",
    "# Нормализация данных\n",
    "scaler = StandardScaler()\n",
    "normalized_data = scaler.fit_transform(df_for_kNN)\n",
    "\n",
    "# Заполним пропущенные значения в датасете с помощью kNN\n",
    "imputer = KNNImputer(n_neighbors=5)\n",
    "imputed_data = imputer.fit_transform(normalized_data)\n",
    "df_imputed = pd.DataFrame(imputed_data, columns=df_for_kNN.columns)\n",
    "\n",
    "# Объединим заполненные данные с исходным датасетом\n",
    "df_filled = pd.concat([df_copy[['id']], df_imputed], axis=1)\n",
    "\n",
    "# Выведем информацию о пропущенных значениях после заполнения\n",
    "print(f'Процент пропущенных значений после заполнения: \\n{df_filled.isna().sum() * 100 / len(df_filled)}')"
   ]
  },
  {
   "cell_type": "code",
   "execution_count": null,
   "metadata": {},
   "outputs": [
    {
     "name": "stdout",
     "output_type": "stream",
     "text": [
      "0      0.372228\n",
      "1      1.109612\n",
      "2     -0.814302\n",
      "3     -0.810971\n",
      "4     -0.484488\n",
      "         ...   \n",
      "528   -0.830127\n",
      "529   -0.829532\n",
      "530   -0.829365\n",
      "531   -0.828901\n",
      "532   -0.838574\n",
      "Name: sat_em_g, Length: 533, dtype: float64\n"
     ]
    }
   ],
   "source": [
    "print(df_filled['sat_em_g'])"
   ]
  },
  {
   "cell_type": "code",
   "execution_count": null,
   "metadata": {},
   "outputs": [
    {
     "name": "stdout",
     "output_type": "stream",
     "text": [
      "<class 'pandas.core.frame.DataFrame'>\n",
      "RangeIndex: 533 entries, 0 to 532\n",
      "Data columns (total 13 columns):\n",
      " #   Column            Non-Null Count  Dtype  \n",
      "---  ------            --------------  -----  \n",
      " 0   id                533 non-null    int64  \n",
      " 1   coer_oe           533 non-null    float64\n",
      " 2   exc_bias_oe       533 non-null    float64\n",
      " 3   fc_field_t        533 non-null    float64\n",
      " 4   h_range_max_koe   533 non-null    float64\n",
      " 5   length_d_nm       533 non-null    float64\n",
      " 6   mr (emu/g)        533 non-null    float64\n",
      " 7   sat_em_g          533 non-null    float64\n",
      " 8   shape             533 non-null    float64\n",
      " 9   space_group_core  533 non-null    float64\n",
      " 10  temperature_k     533 non-null    float64\n",
      " 11  ver_shift_emu_g   533 non-null    float64\n",
      " 12  width_nm          533 non-null    float64\n",
      "dtypes: float64(12), int64(1)\n",
      "memory usage: 54.3 KB\n"
     ]
    }
   ],
   "source": [
    "df_filled.info()"
   ]
  },
  {
   "cell_type": "code",
   "execution_count": null,
   "metadata": {},
   "outputs": [
    {
     "name": "stdout",
     "output_type": "stream",
     "text": [
      "[5.2152400e+01 8.3140000e+01 2.2900000e+00 2.4300000e+00 1.6150000e+01\n",
      " 1.8750000e+01 8.1480000e+01 1.3235000e+00 1.3529000e+00 1.3823000e+00\n",
      " 1.4411700e+00 6.5000000e-01 6.6000000e-01 2.6600000e+01 2.6400000e+01\n",
      " 1.5200000e+01 1.4700000e+01 1.6000000e+01 1.6500000e+01 1.2750000e+01\n",
      " 1.8610000e+01 2.4520000e+01 2.9420000e+01 7.5000000e+01 1.2000000e-01\n",
      " 7.4595000e+01 7.9167000e+01 8.3259000e+01 8.5900000e+01 8.7000000e+01\n",
      " 8.7500000e+01 8.7349000e+01 8.7830000e+01 1.8372000e+01 3.1360000e+01\n",
      " 5.5691200e+01 2.0040000e+01 3.1040000e+01 6.9000000e+00 6.0000000e+01\n",
      " 3.8457000e+02 3.2660000e+02 3.5000000e+01 4.1000000e+01 5.3000000e+01\n",
      " 3.7700000e+01 3.7000000e+01 3.2900000e+01 3.3600000e+01 5.4800000e+01\n",
      " 1.8000000e-01 7.0264000e+01 3.1330000e+01 4.0030000e+01 3.3000000e+01\n",
      " 4.4890000e+01 1.3127000e+00 4.3278000e+01 3.0996300e+01 5.2000000e+01\n",
      " 5.1385000e+01 5.2180000e+01 6.0513000e+01 5.0300000e+01 5.0275000e+01\n",
      " 4.8910000e+01 5.1000000e+01 4.8850000e+01 5.0600000e+01 5.2500000e+01\n",
      " 4.6110000e+01 4.5780000e+01 5.7000000e+01 5.5000000e+01 4.5000000e+01\n",
      " 1.2590000e+00 8.4550000e-01 6.4600000e-01 1.2400000e+00 8.4000000e-01\n",
      " 6.7200000e-01 6.3000000e+01 5.9950000e+01 5.5400000e+01 9.7300000e+01\n",
      " 9.7450000e+01 9.0950000e+01 1.8300000e+01 1.3000000e+01 1.0850000e+01\n",
      " 2.4750000e+01 2.5450000e+01 1.9210000e+01 2.0000000e+01 5.4360000e+01\n",
      " 3.1729000e+01 4.4140000e+01 3.1000000e+01 8.4000000e+01 1.5122500e+01\n",
      " 1.5246500e+01 5.3711800e+01 3.2528800e+01 3.8900000e+01 9.8900000e-01\n",
      " 5.2270000e+00 4.8348000e+01 2.0862000e+01 7.5380000e+00 5.9420000e+00\n",
      " 2.0870000e+01 1.1450636e+01 6.4749200e+01 2.5000000e-03 3.5000000e-03\n",
      " 1.0471600e+02 4.9988000e+01 4.5000000e-03 4.7000000e-03 1.0698600e+01\n",
      " 8.3227000e+00 2.4520200e+01 2.9517600e+01 2.6000000e+00 2.9400000e+01\n",
      " 2.1626000e+01 2.0400000e+01 1.3440000e+01 1.0100000e+01 8.6000000e+00\n",
      " 6.6040000e+01 5.8440000e+01 8.6900000e+01 5.5300000e+01 5.5700000e+01\n",
      " 2.5000000e-02 1.7200000e-01 1.1500000e-01 3.4400000e-01 2.5307800e+01\n",
      " 2.2518000e+00 2.4798000e+00 5.9641740e+01 7.0369740e+01 5.1242000e+01\n",
      " 5.8000000e+00 3.0500000e+00 1.5745000e+00 1.5850000e+00 1.1835000e+00\n",
      " 3.0000000e+01 1.2200000e+02 1.1600000e+02 1.0500000e+02 9.0420000e+01\n",
      " 5.6900000e+01 3.2000000e+01 9.5500000e+00 4.6000000e+00 3.0000000e+00\n",
      " 4.6005960e+01 4.4944900e+01 2.7732700e+01 3.3639300e+01 5.9000000e+01\n",
      " 6.5782400e+01 3.5671200e+01 4.0360000e+01 3.8000000e+01 3.8800000e+01\n",
      " 4.5000000e+00 1.3460000e+01 1.7170000e+01 3.5380000e+01 5.6312000e+01\n",
      " 4.2025400e+01 5.8838000e+01 6.3986000e+01 3.2540000e+01 2.1980000e+01\n",
      " 5.8236000e+01 1.2678000e+02 6.5320000e+01 6.4540000e+01 9.6000000e+01\n",
      " 7.7270000e+01 3.5000000e+00 2.2718000e-01 5.3200000e+00 1.8044000e+00\n",
      " 1.3680000e+00 4.0000000e-01 1.0060000e+02 7.6100000e+01 7.4600000e+01\n",
      " 3.1209000e-01 5.6532000e-01 7.8491000e-01 1.8978000e-01 3.1956000e-01\n",
      " 1.5146000e-01 7.7600000e+01 7.6000000e+01 8.8800000e+01 8.3200000e+01\n",
      " 8.0700000e+01 8.1000000e+01 8.3800000e+01 1.7800000e+01 5.0042400e+01\n",
      " 4.3640000e+01 2.4600000e+01 1.0400000e+01 8.3000000e+00 5.0860000e+01\n",
      " 6.6000000e+01 5.8800000e+00 5.6800000e+00 5.7400000e+00 5.6700000e+00\n",
      " 4.5300000e+00 4.0500000e+00 3.8200000e+00 2.9400000e+00 2.5300000e+00\n",
      " 1.4690000e+00 3.2340000e+00 3.0900000e+00 4.6100000e+00 8.0100000e+00\n",
      " 1.2210000e+01 2.8410000e+01 4.0310000e+01 3.7815000e+01 3.6970000e+01\n",
      " 3.6130000e+01 5.0400000e+01 5.3780000e+01 3.9070000e+01 7.0400000e+01\n",
      " 6.9900000e+01 1.3400000e+01 1.2900000e+01 1.7600000e+01 2.1600000e+01\n",
      " 3.1500000e+01 1.6100000e+01 1.4900000e+01 3.5470000e-01 3.7500000e-01\n",
      " 3.6980000e-01 4.0800000e-01 2.4200000e+00 6.8000000e+01 4.8050000e+01\n",
      " 7.7960000e+01 7.4400000e+01 7.3970000e+01 7.5480000e+01 7.4830000e+01\n",
      " 6.9970000e+01 4.5100000e+01 4.3400000e+01 4.0000000e+01 2.5740000e+01\n",
      " 5.5724000e+01 6.6160000e+01 4.2869634e+01 3.7204934e+01 3.0680000e+01\n",
      " 2.7550000e+01 3.0110000e+01 3.3060000e+01 3.5400000e+01 3.7800000e+01\n",
      " 5.9780000e+01 1.1241600e+02 3.7170000e+01 3.3385000e+01 2.9735000e+01\n",
      " 2.7260000e+01 2.4128000e+01 2.1500000e+01 3.1688000e+01 5.6513200e+01\n",
      " 3.9227800e+01 1.0125000e+02 8.0000000e+01 3.2950000e+00 1.2780000e+00\n",
      " 2.2600000e+00 1.7200000e+00 6.5820000e+01 6.6720000e+01 5.1220000e+01\n",
      " 5.4420000e+01 5.8910000e+01 4.5920000e+01 7.3320000e+01 7.4620000e+01\n",
      " 5.7920000e+01 5.9920000e+01 6.5420000e+01 5.1620000e+01 4.1210000e+01\n",
      " 2.8280000e+01 8.7201740e+01 2.0870000e-01 4.9500000e+01 3.3750000e+01\n",
      " 4.8000000e+01 1.9000000e+01 4.7000000e+01 1.6300000e+01 1.8700000e+01\n",
      " 9.3950000e+00 6.2000000e+00 5.7900000e+00 5.7500000e+00 6.0000000e+00\n",
      " 5.9790000e+00 5.9000000e+00 6.1510000e+00 7.6000000e+00 8.0000000e+00\n",
      " 8.3000000e+01 3.3670000e+00 3.5850000e+00 2.1590000e+00 6.1600000e+01\n",
      " 6.3240000e+01 5.5200000e+01 7.2840000e+01 5.6250000e+00 7.0000000e+00\n",
      " 3.7500000e+00 4.7500000e+00 6.5000000e+00 7.3700000e+00 1.7400000e+01\n",
      " 2.0300000e+01 1.5400000e+01 1.7900000e+01 2.2100000e+01 1.9800000e+01\n",
      " 8.9000000e+00 1.3000000e+00 2.4000000e+00 1.8500000e+01 2.7400000e+01\n",
      " 3.2200000e+01 4.2700000e+01 3.8100000e+01 1.7700000e+01 3.4500000e+01\n",
      " 4.7200000e+01 3.8400000e+01 3.0170000e+01 3.0500000e+01 3.0250000e+01\n",
      " 3.0339000e+01 2.9320000e+01 2.7967000e+01 2.6187000e+01 3.0850000e+01\n",
      " 3.1538000e+01 3.0427000e+01 3.0340000e+01 3.0300000e+01 2.9144000e+01\n",
      " 2.7606000e+01 5.3060000e+01 5.0740000e+01 4.5305900e+01 4.3435500e+01\n",
      " 6.7000000e+01 4.6000000e+01 9.8500000e+01 8.3300000e+01 7.5300000e+01\n",
      " 8.6300000e+01 6.7000000e+00 7.2000000e+00 7.5000000e+00 4.3000000e+00\n",
      " 4.7000000e+00 5.0000000e+00 8.0880000e+01 1.0900000e+02 1.2280000e+02\n",
      " 7.3300000e+01 1.0800000e+02 9.4000000e+01 1.8300000e+02 1.6200000e+02\n",
      " 9.7000000e+01 1.2270000e+02 1.1678000e+02 1.1079000e+02 1.1249000e+02\n",
      " 1.1845000e+02 1.3501000e+01 1.1105000e+01 2.0365000e+01 6.3415000e+01\n",
      " 2.1140000e+01 1.6900000e+01 1.5938000e+01 1.5000000e+01 1.4960000e+01\n",
      " 4.6391200e+01 4.6867200e+01 5.7462400e+01 2.9973600e+01 4.2387800e+01\n",
      " 3.2949400e+01 7.0250000e-01 6.8490000e-01 7.0400000e-01 7.0800000e-01\n",
      " 7.1000000e-01 4.5000000e-01 6.2000000e-01 5.5000000e-01 6.0000000e-01\n",
      " 7.8096000e+01 6.9880000e+01 3.3700000e+01 3.6400000e+01 3.6800000e+01\n",
      " 4.3600000e+01 4.6800000e+01 7.4500000e+00 6.0563000e+00 1.8716300e+01\n",
      " 6.0563000e+00 7.2500000e+00 2.2000000e+00 8.3800000e-01 1.4667340e+00\n",
      " 4.5772700e+01 1.5145000e+00 1.6250000e+00 1.6500000e+00 1.6570000e+00\n",
      " 1.6765000e+00 1.2700000e+00]\n"
     ]
    }
   ],
   "source": [
    "# Преобразование обратно в наши значения\n",
    "org_copy = scaler.inverse_transform(df_filled.iloc[:, 1:]) # Без столбца id\n",
    "df_recopy = pd.DataFrame(org_copy, columns=df_filled.columns[1:]) # Данные в исходном виде\n",
    "\n",
    "df_recopy['id'] = id\n",
    "print(df_recopy['sat_em_g'].unique())"
   ]
  },
  {
   "cell_type": "code",
   "execution_count": null,
   "metadata": {},
   "outputs": [
    {
     "name": "stdout",
     "output_type": "stream",
     "text": [
      "<class 'pandas.core.frame.DataFrame'>\n",
      "RangeIndex: 533 entries, 0 to 532\n",
      "Data columns (total 13 columns):\n",
      " #   Column            Non-Null Count  Dtype  \n",
      "---  ------            --------------  -----  \n",
      " 0   coer_oe           533 non-null    float64\n",
      " 1   exc_bias_oe       533 non-null    float64\n",
      " 2   fc_field_t        533 non-null    float64\n",
      " 3   h_range_max_koe   533 non-null    float64\n",
      " 4   length_d_nm       533 non-null    float64\n",
      " 5   mr (emu/g)        533 non-null    float64\n",
      " 6   sat_em_g          533 non-null    float64\n",
      " 7   shape             533 non-null    float64\n",
      " 8   space_group_core  533 non-null    float64\n",
      " 9   temperature_k     533 non-null    float64\n",
      " 10  ver_shift_emu_g   533 non-null    float64\n",
      " 11  width_nm          533 non-null    float64\n",
      " 12  id                533 non-null    int64  \n",
      "dtypes: float64(12), int64(1)\n",
      "memory usage: 54.3 KB\n",
      "None\n",
      "[186. 225. 227.  62. 161. 194. 221.  87. 229.  55. 136.   1. 141. 164.\n",
      " 160. 212. 123. 217.  63. 213.  15. 182.  58.]\n"
     ]
    }
   ],
   "source": [
    "print(df_recopy.info())\n",
    "print(df_recopy['space_group_core'].unique())"
   ]
  },
  {
   "cell_type": "code",
   "execution_count": null,
   "metadata": {},
   "outputs": [
    {
     "name": "stdout",
     "output_type": "stream",
     "text": [
      "<class 'pandas.core.frame.DataFrame'>\n",
      "RangeIndex: 533 entries, 0 to 532\n",
      "Data columns (total 35 columns):\n",
      " #   Column                     Non-Null Count  Dtype  \n",
      "---  ------                     --------------  -----  \n",
      " 0   c1                         533 non-null    object \n",
      " 1   c2                         322 non-null    object \n",
      " 2   c3                         9 non-null      object \n",
      " 3   chemical_formula           533 non-null    object \n",
      " 4   coer_oe_original           510 non-null    float64\n",
      " 5   crystal_structure          533 non-null    object \n",
      " 6   depth_nm                   509 non-null    float64\n",
      " 7   exc_bias_oe_original       500 non-null    float64\n",
      " 8   fc_field_t_original        508 non-null    float64\n",
      " 9   h_range_max_koe_original   526 non-null    float64\n",
      " 10  id                         533 non-null    int64  \n",
      " 11  length_d_nm_original       521 non-null    float64\n",
      " 12  mr (emu/g)_original        430 non-null    float64\n",
      " 13  sat_em_g_original          420 non-null    float64\n",
      " 14  shape_original             493 non-null    float64\n",
      " 15  space_group_core_original  532 non-null    object \n",
      " 16  space_group_shell          533 non-null    object \n",
      " 17  structure                  533 non-null    object \n",
      " 18  structure_                 533 non-null    object \n",
      " 19  temperature_k_original     528 non-null    float64\n",
      " 20  ver_shift_emu_g_original   441 non-null    float64\n",
      " 21  width_nm_original          521 non-null    float64\n",
      " 22  formula_combined           533 non-null    object \n",
      " 23  coer_oe_copy               533 non-null    float64\n",
      " 24  exc_bias_oe_copy           533 non-null    float64\n",
      " 25  fc_field_t_copy            533 non-null    float64\n",
      " 26  h_range_max_koe_copy       533 non-null    float64\n",
      " 27  length_d_nm_copy           533 non-null    float64\n",
      " 28  mr (emu/g)_copy            533 non-null    float64\n",
      " 29  sat_em_g_copy              533 non-null    float64\n",
      " 30  shape_copy                 533 non-null    float64\n",
      " 31  space_group_core_copy      533 non-null    float64\n",
      " 32  temperature_k_copy         533 non-null    float64\n",
      " 33  ver_shift_emu_g_copy       533 non-null    float64\n",
      " 34  width_nm_copy              533 non-null    float64\n",
      "dtypes: float64(24), int64(1), object(10)\n",
      "memory usage: 145.9+ KB\n",
      "None\n"
     ]
    }
   ],
   "source": [
    "# Теперь мне надо склеить данные до и после заполнеия пропусков\n",
    "merg_df = pd.merge(df, df_recopy, on='id', suffixes=('_original', '_copy')) # Теперь в датасете есть повторяющиеся колонки, удалим оригинальные с пропусками и сотавим только чистые\n",
    "\n",
    "print(merg_df.info())"
   ]
  },
  {
   "cell_type": "code",
   "execution_count": null,
   "metadata": {},
   "outputs": [
    {
     "name": "stdout",
     "output_type": "stream",
     "text": [
      "<class 'pandas.core.frame.DataFrame'>\n",
      "RangeIndex: 533 entries, 0 to 532\n",
      "Data columns (total 23 columns):\n",
      " #   Column                 Non-Null Count  Dtype  \n",
      "---  ------                 --------------  -----  \n",
      " 0   c1                     533 non-null    object \n",
      " 1   c2                     322 non-null    object \n",
      " 2   c3                     9 non-null      object \n",
      " 3   chemical_formula       533 non-null    object \n",
      " 4   crystal_structure      533 non-null    object \n",
      " 5   depth_nm               509 non-null    float64\n",
      " 6   id                     533 non-null    int64  \n",
      " 7   space_group_shell      533 non-null    object \n",
      " 8   structure              533 non-null    object \n",
      " 9   structure_             533 non-null    object \n",
      " 10  formula_combined       533 non-null    object \n",
      " 11  coer_oe_copy           533 non-null    float64\n",
      " 12  exc_bias_oe_copy       533 non-null    float64\n",
      " 13  fc_field_t_copy        533 non-null    float64\n",
      " 14  h_range_max_koe_copy   533 non-null    float64\n",
      " 15  length_d_nm_copy       533 non-null    float64\n",
      " 16  mr (emu/g)_copy        533 non-null    float64\n",
      " 17  sat_em_g_copy          533 non-null    float64\n",
      " 18  shape_copy             533 non-null    float64\n",
      " 19  space_group_core_copy  533 non-null    float64\n",
      " 20  temperature_k_copy     533 non-null    float64\n",
      " 21  ver_shift_emu_g_copy   533 non-null    float64\n",
      " 22  width_nm_copy          533 non-null    float64\n",
      "dtypes: float64(13), int64(1), object(9)\n",
      "memory usage: 95.9+ KB\n",
      "None\n"
     ]
    }
   ],
   "source": [
    "# Список колнок, что мы удалим\n",
    "del_col_list = [col for col in merg_df.columns if col.endswith('_original')]\n",
    "# Удалим такие колонки \n",
    "merg_df = merg_df.drop(columns=del_col_list)\n",
    "\n",
    "print(merg_df.info())"
   ]
  },
  {
   "cell_type": "code",
   "execution_count": null,
   "metadata": {},
   "outputs": [
    {
     "name": "stdout",
     "output_type": "stream",
     "text": [
      "<class 'pandas.core.frame.DataFrame'>\n",
      "RangeIndex: 533 entries, 0 to 532\n",
      "Data columns (total 23 columns):\n",
      " #   Column             Non-Null Count  Dtype  \n",
      "---  ------             --------------  -----  \n",
      " 0   c1                 533 non-null    object \n",
      " 1   c2                 322 non-null    object \n",
      " 2   c3                 9 non-null      object \n",
      " 3   chemical_formula   533 non-null    object \n",
      " 4   crystal_structure  533 non-null    object \n",
      " 5   depth_nm           509 non-null    float64\n",
      " 6   id                 533 non-null    int64  \n",
      " 7   space_group_shell  533 non-null    object \n",
      " 8   structure          533 non-null    object \n",
      " 9   structure_         533 non-null    object \n",
      " 10  formula_combined   533 non-null    object \n",
      " 11  coer_oe            533 non-null    float64\n",
      " 12  exc_bias_oe        533 non-null    float64\n",
      " 13  fc_field_t         533 non-null    float64\n",
      " 14  h_range_max_koe    533 non-null    float64\n",
      " 15  length_d_nm        533 non-null    float64\n",
      " 16  mr (emu/g)         533 non-null    float64\n",
      " 17  sat_em_g           533 non-null    float64\n",
      " 18  shape              533 non-null    float64\n",
      " 19  space_group_core   533 non-null    float64\n",
      " 20  temperature_k      533 non-null    float64\n",
      " 21  ver_shift_emu_g    533 non-null    float64\n",
      " 22  width_nm           533 non-null    float64\n",
      "dtypes: float64(13), int64(1), object(9)\n",
      "memory usage: 95.9+ KB\n",
      "None\n"
     ]
    }
   ],
   "source": [
    "# Удалим _copy из названий \n",
    "merg_df.columns = merg_df.columns.str.replace('_copy', '')\n",
    "\n",
    "df = merg_df  \n",
    "print(df.info())"
   ]
  },
  {
   "cell_type": "code",
   "execution_count": null,
   "metadata": {},
   "outputs": [],
   "source": [
    "# Выгрузим данные отдельный датасет \n",
    "df.to_csv(r'C:\\Users\\Ксения\\Project\\Magnet_Exchange_bias\\data\\Bias_data_1.csv')"
   ]
  }
 ],
 "metadata": {
  "kernelspec": {
   "display_name": "exc_env",
   "language": "python",
   "name": "python3"
  },
  "language_info": {
   "codemirror_mode": {
    "name": "ipython",
    "version": 3
   },
   "file_extension": ".py",
   "mimetype": "text/x-python",
   "name": "python",
   "nbconvert_exporter": "python",
   "pygments_lexer": "ipython3",
   "version": "3.11.4"
  }
 },
 "nbformat": 4,
 "nbformat_minor": 2
}
