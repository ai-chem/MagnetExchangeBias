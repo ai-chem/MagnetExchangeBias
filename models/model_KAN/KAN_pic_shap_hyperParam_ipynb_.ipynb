{
  "cells": [
    {
      "cell_type": "markdown",
      "id": "db41b66b",
      "metadata": {
        "id": "db41b66b"
      },
      "source": [
        "# Import Libraries"
      ]
    },
    {
      "cell_type": "code",
      "execution_count": null,
      "id": "4CWRkuDOSiL2",
      "metadata": {
        "colab": {
          "base_uri": "https://localhost:8080/"
        },
        "id": "4CWRkuDOSiL2",
        "outputId": "1b37b273-49dc-4f26-fa82-c17e7934762a"
      },
      "outputs": [
        {
          "name": "stdout",
          "output_type": "stream",
          "text": [
            "Collecting optuna\n",
            "  Downloading optuna-4.0.0-py3-none-any.whl.metadata (16 kB)\n",
            "Collecting alembic>=1.5.0 (from optuna)\n",
            "  Downloading alembic-1.13.3-py3-none-any.whl.metadata (7.4 kB)\n",
            "Collecting colorlog (from optuna)\n",
            "  Downloading colorlog-6.8.2-py3-none-any.whl.metadata (10 kB)\n",
            "Requirement already satisfied: numpy in /usr/local/lib/python3.10/dist-packages (from optuna) (1.26.4)\n",
            "Requirement already satisfied: packaging>=20.0 in /usr/local/lib/python3.10/dist-packages (from optuna) (24.1)\n",
            "Requirement already satisfied: sqlalchemy>=1.3.0 in /usr/local/lib/python3.10/dist-packages (from optuna) (2.0.35)\n",
            "Requirement already satisfied: tqdm in /usr/local/lib/python3.10/dist-packages (from optuna) (4.66.5)\n",
            "Requirement already satisfied: PyYAML in /usr/local/lib/python3.10/dist-packages (from optuna) (6.0.2)\n",
            "Collecting Mako (from alembic>=1.5.0->optuna)\n",
            "  Downloading Mako-1.3.5-py3-none-any.whl.metadata (2.9 kB)\n",
            "Requirement already satisfied: typing-extensions>=4 in /usr/local/lib/python3.10/dist-packages (from alembic>=1.5.0->optuna) (4.12.2)\n",
            "Requirement already satisfied: greenlet!=0.4.17 in /usr/local/lib/python3.10/dist-packages (from sqlalchemy>=1.3.0->optuna) (3.1.0)\n",
            "Requirement already satisfied: MarkupSafe>=0.9.2 in /usr/local/lib/python3.10/dist-packages (from Mako->alembic>=1.5.0->optuna) (2.1.5)\n",
            "Downloading optuna-4.0.0-py3-none-any.whl (362 kB)\n",
            "\u001b[2K   \u001b[90m━━━━━━━━━━━━━━━━━━━━━━━━━━━━━━━━━━━━━━━━\u001b[0m \u001b[32m362.8/362.8 kB\u001b[0m \u001b[31m5.2 MB/s\u001b[0m eta \u001b[36m0:00:00\u001b[0m\n",
            "\u001b[?25hDownloading alembic-1.13.3-py3-none-any.whl (233 kB)\n",
            "\u001b[2K   \u001b[90m━━━━━━━━━━━━━━━━━━━━━━━━━━━━━━━━━━━━━━━━\u001b[0m \u001b[32m233.2/233.2 kB\u001b[0m \u001b[31m7.7 MB/s\u001b[0m eta \u001b[36m0:00:00\u001b[0m\n",
            "\u001b[?25hDownloading colorlog-6.8.2-py3-none-any.whl (11 kB)\n",
            "Downloading Mako-1.3.5-py3-none-any.whl (78 kB)\n",
            "\u001b[2K   \u001b[90m━━━━━━━━━━━━━━━━━━━━━━━━━━━━━━━━━━━━━━━━\u001b[0m \u001b[32m78.6/78.6 kB\u001b[0m \u001b[31m2.8 MB/s\u001b[0m eta \u001b[36m0:00:00\u001b[0m\n",
            "\u001b[?25hInstalling collected packages: Mako, colorlog, alembic, optuna\n",
            "Successfully installed Mako-1.3.5 alembic-1.13.3 colorlog-6.8.2 optuna-4.0.0\n"
          ]
        }
      ],
      "source": [
        "!pip install optuna"
      ]
    },
    {
      "cell_type": "code",
      "execution_count": null,
      "id": "5b850bc0",
      "metadata": {
        "colab": {
          "base_uri": "https://localhost:8080/"
        },
        "id": "5b850bc0",
        "outputId": "9ee11d63-b275-4e0e-b7f9-62ba9738a183"
      },
      "outputs": [
        {
          "name": "stdout",
          "output_type": "stream",
          "text": [
            "  Running command git clone --filter=blob:none --quiet https://github.com/KindXiaoming/pykan.git /tmp/pip-req-build-f0i0q7xo\n"
          ]
        }
      ],
      "source": [
        "!pip install git+https://github.com/KindXiaoming/pykan.git > None # None чтобы не видеть огромного вывода, что библиотека загружается"
      ]
    },
    {
      "cell_type": "code",
      "execution_count": null,
      "id": "e26a91cb",
      "metadata": {
        "id": "e26a91cb"
      },
      "outputs": [],
      "source": [
        "import torch\n",
        "from kan import KAN\n",
        "\n",
        "import random\n",
        "import numpy as np\n",
        "import sympy as sp\n",
        "import pandas as pd\n",
        "import matplotlib.pyplot as plt\n",
        "\n",
        "from sklearn import metrics\n",
        "from sklearn.preprocessing import MinMaxScaler\n",
        "from sklearn.model_selection import train_test_split\n",
        "from sklearn.metrics import r2_score, mean_absolute_error, mean_squared_error"
      ]
    },
    {
      "cell_type": "markdown",
      "id": "C6kgiy08afWl",
      "metadata": {
        "id": "C6kgiy08afWl"
      },
      "source": [
        "**Эту ячейку запускать обязательно всегда перед началом работы, иначе значения гиперпараметров и самих метрик будут скакать даже при одинаковых цифрах**"
      ]
    },
    {
      "cell_type": "code",
      "execution_count": null,
      "id": "iQySdpgLJURg",
      "metadata": {
        "id": "iQySdpgLJURg"
      },
      "outputs": [],
      "source": [
        "# Фиксация случайных начальных условий\n",
        "def seed_everything(seed=1984):\n",
        "    random.seed(seed)\n",
        "    np.random.seed(seed)\n",
        "    torch.manual_seed(seed)\n",
        "    if torch.cuda.is_available():\n",
        "        torch.cuda.manual_seed(seed)\n",
        "        torch.cuda.manual_seed_all(seed)\n",
        "\n",
        "seed_everything(1984)"
      ]
    },
    {
      "cell_type": "markdown",
      "id": "48ff0923",
      "metadata": {
        "id": "48ff0923"
      },
      "source": [
        "# Data Preparation"
      ]
    },
    {
      "cell_type": "code",
      "execution_count": null,
      "id": "2a247851",
      "metadata": {
        "id": "2a247851"
      },
      "outputs": [],
      "source": [
        "df = pd.read_csv(\"/content/bias_param_0507_OUT.csv\")"
      ]
    },
    {
      "cell_type": "code",
      "execution_count": null,
      "id": "c770704f",
      "metadata": {
        "colab": {
          "base_uri": "https://localhost:8080/"
        },
        "id": "c770704f",
        "outputId": "7b020087-64fc-4dad-f6fc-64c7f706077e"
      },
      "outputs": [
        {
          "name": "stdout",
          "output_type": "stream",
          "text": [
            "<class 'pandas.core.frame.DataFrame'>\n",
            "RangeIndex: 979 entries, 0 to 978\n",
            "Data columns (total 38 columns):\n",
            " #   Column                                      Non-Null Count  Dtype  \n",
            "---  ------                                      --------------  -----  \n",
            " 0   area/volume                                 979 non-null    float64\n",
            " 1   h_range_max_koe                             979 non-null    float64\n",
            " 2   Tc                                          979 non-null    float64\n",
            " 3   temperature_k                               979 non-null    float64\n",
            " 4   sat_em_g                                    979 non-null    float64\n",
            " 5   coer_oe                                     979 non-null    float64\n",
            " 6   mr (emu/g)                                  979 non-null    float64\n",
            " 7   exc_bias_oe                                 979 non-null    float64\n",
            " 8   exc_dir                                     979 non-null    float64\n",
            " 9   ver_shift_emu_g                             979 non-null    float64\n",
            " 10  ver_s_dir                                   979 non-null    float64\n",
            " 11  fc_field_t                                  979 non-null    float64\n",
            " 12  sphericity                                  979 non-null    float64\n",
            " 13  max/min                                     979 non-null    float64\n",
            " 14  core_b                                      979 non-null    float64\n",
            " 15  core_alpha                                  979 non-null    float64\n",
            " 16  core_beta                                   979 non-null    float64\n",
            " 17  core_gamma                                  979 non-null    float64\n",
            " 18  shell_b                                     979 non-null    float64\n",
            " 19  shell_alpha                                 979 non-null    float64\n",
            " 20  shell_beta                                  979 non-null    float64\n",
            " 21  shell_gamma                                 979 non-null    float64\n",
            " 22  num_of_magn_ions                            979 non-null    float64\n",
            " 23  Tn-Tb/Tn                                    979 non-null    float64\n",
            " 24  Aex                                         979 non-null    float64\n",
            " 25  core_c/a                                    979 non-null    float64\n",
            " 26  core_pauling_electronegativity              979 non-null    float64\n",
            " 27  shell_pauling_electronegativity             979 non-null    float64\n",
            " 28  core_sum_vec                                979 non-null    float64\n",
            " 29  core_sum_work_function                      979 non-null    float64\n",
            " 30  shell_sum_vec                               979 non-null    float64\n",
            " 31  shell_sum_work_function                     979 non-null    float64\n",
            " 32  core_pauling_electronegativity_difference   979 non-null    float64\n",
            " 33  core_vec_difference                         979 non-null    float64\n",
            " 34  core_work_function_difference               979 non-null    float64\n",
            " 35  shell_pauling_electronegativity_difference  979 non-null    float64\n",
            " 36  shell_vec_difference                        979 non-null    float64\n",
            " 37  shell_work_function_difference              979 non-null    float64\n",
            "dtypes: float64(38)\n",
            "memory usage: 290.8 KB\n"
          ]
        }
      ],
      "source": [
        "df = df.drop(columns=['Unnamed: 0', 'Unnamed: 0.1']) # удалим столбцы с индексами\n",
        "df.info() # должеы быть столбцы от 0 до 37"
      ]
    },
    {
      "cell_type": "code",
      "execution_count": null,
      "id": "ktxklfXJ1EB0",
      "metadata": {
        "colab": {
          "base_uri": "https://localhost:8080/",
          "height": 367
        },
        "id": "ktxklfXJ1EB0",
        "outputId": "e89da286-7566-4e2a-aa06-c179cd3d7ac4"
      },
      "outputs": [
        {
          "data": {
            "application/vnd.google.colaboratory.intrinsic+json": {
              "type": "dataframe"
            },
            "text/html": [
              "\n",
              "  <div id=\"df-5bde9961-8b1e-422b-8cb4-fa541258266e\" class=\"colab-df-container\">\n",
              "    <div>\n",
              "<style scoped>\n",
              "    .dataframe tbody tr th:only-of-type {\n",
              "        vertical-align: middle;\n",
              "    }\n",
              "\n",
              "    .dataframe tbody tr th {\n",
              "        vertical-align: top;\n",
              "    }\n",
              "\n",
              "    .dataframe thead th {\n",
              "        text-align: right;\n",
              "    }\n",
              "</style>\n",
              "<table border=\"1\" class=\"dataframe\">\n",
              "  <thead>\n",
              "    <tr style=\"text-align: right;\">\n",
              "      <th></th>\n",
              "      <th>area/volume</th>\n",
              "      <th>h_range_max_koe</th>\n",
              "      <th>Tc</th>\n",
              "      <th>temperature_k</th>\n",
              "      <th>sat_em_g</th>\n",
              "      <th>coer_oe</th>\n",
              "      <th>mr (emu/g)</th>\n",
              "      <th>exc_bias_oe</th>\n",
              "      <th>exc_dir</th>\n",
              "      <th>ver_shift_emu_g</th>\n",
              "      <th>...</th>\n",
              "      <th>core_sum_vec</th>\n",
              "      <th>core_sum_work_function</th>\n",
              "      <th>shell_sum_vec</th>\n",
              "      <th>shell_sum_work_function</th>\n",
              "      <th>core_pauling_electronegativity_difference</th>\n",
              "      <th>core_vec_difference</th>\n",
              "      <th>core_work_function_difference</th>\n",
              "      <th>shell_pauling_electronegativity_difference</th>\n",
              "      <th>shell_vec_difference</th>\n",
              "      <th>shell_work_function_difference</th>\n",
              "    </tr>\n",
              "  </thead>\n",
              "  <tbody>\n",
              "    <tr>\n",
              "      <th>count</th>\n",
              "      <td>979.000000</td>\n",
              "      <td>979.000000</td>\n",
              "      <td>979.000000</td>\n",
              "      <td>979.000000</td>\n",
              "      <td>979.000000</td>\n",
              "      <td>979.000000</td>\n",
              "      <td>979.000000</td>\n",
              "      <td>979.000000</td>\n",
              "      <td>979.000000</td>\n",
              "      <td>979.000000</td>\n",
              "      <td>...</td>\n",
              "      <td>979.000000</td>\n",
              "      <td>979.000000</td>\n",
              "      <td>979.000000</td>\n",
              "      <td>979.000000</td>\n",
              "      <td>979.000000</td>\n",
              "      <td>979.000000</td>\n",
              "      <td>979.000000</td>\n",
              "      <td>979.000000</td>\n",
              "      <td>9.790000e+02</td>\n",
              "      <td>979.000000</td>\n",
              "    </tr>\n",
              "    <tr>\n",
              "      <th>mean</th>\n",
              "      <td>0.218317</td>\n",
              "      <td>36.457692</td>\n",
              "      <td>788.942901</td>\n",
              "      <td>72.999387</td>\n",
              "      <td>415.698464</td>\n",
              "      <td>2279.340897</td>\n",
              "      <td>13.128177</td>\n",
              "      <td>318.628186</td>\n",
              "      <td>0.141502</td>\n",
              "      <td>1.259763</td>\n",
              "      <td>...</td>\n",
              "      <td>698.794157</td>\n",
              "      <td>270.812372</td>\n",
              "      <td>539.941647</td>\n",
              "      <td>176.314782</td>\n",
              "      <td>2.290421</td>\n",
              "      <td>1.526309</td>\n",
              "      <td>8.942621</td>\n",
              "      <td>2.255265</td>\n",
              "      <td>1.511955e+00</td>\n",
              "      <td>8.086343</td>\n",
              "    </tr>\n",
              "    <tr>\n",
              "      <th>std</th>\n",
              "      <td>0.253926</td>\n",
              "      <td>23.634419</td>\n",
              "      <td>349.454907</td>\n",
              "      <td>110.867074</td>\n",
              "      <td>4974.751928</td>\n",
              "      <td>4053.992359</td>\n",
              "      <td>18.173922</td>\n",
              "      <td>405.794171</td>\n",
              "      <td>0.343329</td>\n",
              "      <td>4.774476</td>\n",
              "      <td>...</td>\n",
              "      <td>173.442290</td>\n",
              "      <td>147.822071</td>\n",
              "      <td>307.302545</td>\n",
              "      <td>124.118630</td>\n",
              "      <td>1.602428</td>\n",
              "      <td>1.355539</td>\n",
              "      <td>6.540183</td>\n",
              "      <td>1.502012</td>\n",
              "      <td>1.309873e+00</td>\n",
              "      <td>5.453118</td>\n",
              "    </tr>\n",
              "    <tr>\n",
              "      <th>min</th>\n",
              "      <td>0.003000</td>\n",
              "      <td>0.100000</td>\n",
              "      <td>30.000000</td>\n",
              "      <td>1.800000</td>\n",
              "      <td>0.000087</td>\n",
              "      <td>0.600000</td>\n",
              "      <td>0.000027</td>\n",
              "      <td>0.007500</td>\n",
              "      <td>0.000000</td>\n",
              "      <td>0.000000</td>\n",
              "      <td>...</td>\n",
              "      <td>0.000000</td>\n",
              "      <td>0.000000</td>\n",
              "      <td>0.000000</td>\n",
              "      <td>0.000000</td>\n",
              "      <td>0.000000</td>\n",
              "      <td>0.000000</td>\n",
              "      <td>0.000000</td>\n",
              "      <td>0.000000</td>\n",
              "      <td>-2.220446e-16</td>\n",
              "      <td>0.000000</td>\n",
              "    </tr>\n",
              "    <tr>\n",
              "      <th>25%</th>\n",
              "      <td>0.079302</td>\n",
              "      <td>20.000000</td>\n",
              "      <td>643.000000</td>\n",
              "      <td>5.000000</td>\n",
              "      <td>7.245000</td>\n",
              "      <td>316.500000</td>\n",
              "      <td>0.560000</td>\n",
              "      <td>31.500000</td>\n",
              "      <td>0.000000</td>\n",
              "      <td>0.000000</td>\n",
              "      <td>...</td>\n",
              "      <td>621.428600</td>\n",
              "      <td>180.000000</td>\n",
              "      <td>400.000000</td>\n",
              "      <td>89.500000</td>\n",
              "      <td>0.052172</td>\n",
              "      <td>0.000000</td>\n",
              "      <td>0.117858</td>\n",
              "      <td>0.079156</td>\n",
              "      <td>-2.220446e-16</td>\n",
              "      <td>0.000000</td>\n",
              "    </tr>\n",
              "    <tr>\n",
              "      <th>50%</th>\n",
              "      <td>0.150000</td>\n",
              "      <td>30.000000</td>\n",
              "      <td>809.800000</td>\n",
              "      <td>10.000000</td>\n",
              "      <td>26.353000</td>\n",
              "      <td>844.300000</td>\n",
              "      <td>6.200000</td>\n",
              "      <td>127.295000</td>\n",
              "      <td>0.000000</td>\n",
              "      <td>0.067000</td>\n",
              "      <td>...</td>\n",
              "      <td>700.000000</td>\n",
              "      <td>216.428600</td>\n",
              "      <td>683.166700</td>\n",
              "      <td>201.428600</td>\n",
              "      <td>2.860376</td>\n",
              "      <td>1.495174</td>\n",
              "      <td>10.000000</td>\n",
              "      <td>2.859813</td>\n",
              "      <td>1.443376e+00</td>\n",
              "      <td>10.000000</td>\n",
              "    </tr>\n",
              "    <tr>\n",
              "      <th>75%</th>\n",
              "      <td>0.253787</td>\n",
              "      <td>50.000000</td>\n",
              "      <td>860.000000</td>\n",
              "      <td>100.000000</td>\n",
              "      <td>50.550000</td>\n",
              "      <td>2188.424500</td>\n",
              "      <td>20.225000</td>\n",
              "      <td>473.310000</td>\n",
              "      <td>0.000000</td>\n",
              "      <td>0.929785</td>\n",
              "      <td>...</td>\n",
              "      <td>800.000000</td>\n",
              "      <td>470.000000</td>\n",
              "      <td>750.000000</td>\n",
              "      <td>250.000000</td>\n",
              "      <td>3.128237</td>\n",
              "      <td>2.500000</td>\n",
              "      <td>12.247450</td>\n",
              "      <td>2.932331</td>\n",
              "      <td>2.037707e+00</td>\n",
              "      <td>11.547010</td>\n",
              "    </tr>\n",
              "    <tr>\n",
              "      <th>max</th>\n",
              "      <td>2.000000</td>\n",
              "      <td>100.000000</td>\n",
              "      <td>1661.000000</td>\n",
              "      <td>608.000000</td>\n",
              "      <td>106600.000000</td>\n",
              "      <td>59144.000000</td>\n",
              "      <td>247.960000</td>\n",
              "      <td>1670.900000</td>\n",
              "      <td>1.000000</td>\n",
              "      <td>111.360000</td>\n",
              "      <td>...</td>\n",
              "      <td>1000.000000</td>\n",
              "      <td>515.000000</td>\n",
              "      <td>1000.000000</td>\n",
              "      <td>515.000000</td>\n",
              "      <td>11.547010</td>\n",
              "      <td>11.547010</td>\n",
              "      <td>29.495760</td>\n",
              "      <td>7.071068</td>\n",
              "      <td>7.071068e+00</td>\n",
              "      <td>26.291040</td>\n",
              "    </tr>\n",
              "  </tbody>\n",
              "</table>\n",
              "<p>8 rows × 38 columns</p>\n",
              "</div>\n",
              "    <div class=\"colab-df-buttons\">\n",
              "\n",
              "  <div class=\"colab-df-container\">\n",
              "    <button class=\"colab-df-convert\" onclick=\"convertToInteractive('df-5bde9961-8b1e-422b-8cb4-fa541258266e')\"\n",
              "            title=\"Convert this dataframe to an interactive table.\"\n",
              "            style=\"display:none;\">\n",
              "\n",
              "  <svg xmlns=\"http://www.w3.org/2000/svg\" height=\"24px\" viewBox=\"0 -960 960 960\">\n",
              "    <path d=\"M120-120v-720h720v720H120Zm60-500h600v-160H180v160Zm220 220h160v-160H400v160Zm0 220h160v-160H400v160ZM180-400h160v-160H180v160Zm440 0h160v-160H620v160ZM180-180h160v-160H180v160Zm440 0h160v-160H620v160Z\"/>\n",
              "  </svg>\n",
              "    </button>\n",
              "\n",
              "  <style>\n",
              "    .colab-df-container {\n",
              "      display:flex;\n",
              "      gap: 12px;\n",
              "    }\n",
              "\n",
              "    .colab-df-convert {\n",
              "      background-color: #E8F0FE;\n",
              "      border: none;\n",
              "      border-radius: 50%;\n",
              "      cursor: pointer;\n",
              "      display: none;\n",
              "      fill: #1967D2;\n",
              "      height: 32px;\n",
              "      padding: 0 0 0 0;\n",
              "      width: 32px;\n",
              "    }\n",
              "\n",
              "    .colab-df-convert:hover {\n",
              "      background-color: #E2EBFA;\n",
              "      box-shadow: 0px 1px 2px rgba(60, 64, 67, 0.3), 0px 1px 3px 1px rgba(60, 64, 67, 0.15);\n",
              "      fill: #174EA6;\n",
              "    }\n",
              "\n",
              "    .colab-df-buttons div {\n",
              "      margin-bottom: 4px;\n",
              "    }\n",
              "\n",
              "    [theme=dark] .colab-df-convert {\n",
              "      background-color: #3B4455;\n",
              "      fill: #D2E3FC;\n",
              "    }\n",
              "\n",
              "    [theme=dark] .colab-df-convert:hover {\n",
              "      background-color: #434B5C;\n",
              "      box-shadow: 0px 1px 3px 1px rgba(0, 0, 0, 0.15);\n",
              "      filter: drop-shadow(0px 1px 2px rgba(0, 0, 0, 0.3));\n",
              "      fill: #FFFFFF;\n",
              "    }\n",
              "  </style>\n",
              "\n",
              "    <script>\n",
              "      const buttonEl =\n",
              "        document.querySelector('#df-5bde9961-8b1e-422b-8cb4-fa541258266e button.colab-df-convert');\n",
              "      buttonEl.style.display =\n",
              "        google.colab.kernel.accessAllowed ? 'block' : 'none';\n",
              "\n",
              "      async function convertToInteractive(key) {\n",
              "        const element = document.querySelector('#df-5bde9961-8b1e-422b-8cb4-fa541258266e');\n",
              "        const dataTable =\n",
              "          await google.colab.kernel.invokeFunction('convertToInteractive',\n",
              "                                                    [key], {});\n",
              "        if (!dataTable) return;\n",
              "\n",
              "        const docLinkHtml = 'Like what you see? Visit the ' +\n",
              "          '<a target=\"_blank\" href=https://colab.research.google.com/notebooks/data_table.ipynb>data table notebook</a>'\n",
              "          + ' to learn more about interactive tables.';\n",
              "        element.innerHTML = '';\n",
              "        dataTable['output_type'] = 'display_data';\n",
              "        await google.colab.output.renderOutput(dataTable, element);\n",
              "        const docLink = document.createElement('div');\n",
              "        docLink.innerHTML = docLinkHtml;\n",
              "        element.appendChild(docLink);\n",
              "      }\n",
              "    </script>\n",
              "  </div>\n",
              "\n",
              "\n",
              "<div id=\"df-0b650465-f6a0-4978-866e-f5adfa12a88b\">\n",
              "  <button class=\"colab-df-quickchart\" onclick=\"quickchart('df-0b650465-f6a0-4978-866e-f5adfa12a88b')\"\n",
              "            title=\"Suggest charts\"\n",
              "            style=\"display:none;\">\n",
              "\n",
              "<svg xmlns=\"http://www.w3.org/2000/svg\" height=\"24px\"viewBox=\"0 0 24 24\"\n",
              "     width=\"24px\">\n",
              "    <g>\n",
              "        <path d=\"M19 3H5c-1.1 0-2 .9-2 2v14c0 1.1.9 2 2 2h14c1.1 0 2-.9 2-2V5c0-1.1-.9-2-2-2zM9 17H7v-7h2v7zm4 0h-2V7h2v10zm4 0h-2v-4h2v4z\"/>\n",
              "    </g>\n",
              "</svg>\n",
              "  </button>\n",
              "\n",
              "<style>\n",
              "  .colab-df-quickchart {\n",
              "      --bg-color: #E8F0FE;\n",
              "      --fill-color: #1967D2;\n",
              "      --hover-bg-color: #E2EBFA;\n",
              "      --hover-fill-color: #174EA6;\n",
              "      --disabled-fill-color: #AAA;\n",
              "      --disabled-bg-color: #DDD;\n",
              "  }\n",
              "\n",
              "  [theme=dark] .colab-df-quickchart {\n",
              "      --bg-color: #3B4455;\n",
              "      --fill-color: #D2E3FC;\n",
              "      --hover-bg-color: #434B5C;\n",
              "      --hover-fill-color: #FFFFFF;\n",
              "      --disabled-bg-color: #3B4455;\n",
              "      --disabled-fill-color: #666;\n",
              "  }\n",
              "\n",
              "  .colab-df-quickchart {\n",
              "    background-color: var(--bg-color);\n",
              "    border: none;\n",
              "    border-radius: 50%;\n",
              "    cursor: pointer;\n",
              "    display: none;\n",
              "    fill: var(--fill-color);\n",
              "    height: 32px;\n",
              "    padding: 0;\n",
              "    width: 32px;\n",
              "  }\n",
              "\n",
              "  .colab-df-quickchart:hover {\n",
              "    background-color: var(--hover-bg-color);\n",
              "    box-shadow: 0 1px 2px rgba(60, 64, 67, 0.3), 0 1px 3px 1px rgba(60, 64, 67, 0.15);\n",
              "    fill: var(--button-hover-fill-color);\n",
              "  }\n",
              "\n",
              "  .colab-df-quickchart-complete:disabled,\n",
              "  .colab-df-quickchart-complete:disabled:hover {\n",
              "    background-color: var(--disabled-bg-color);\n",
              "    fill: var(--disabled-fill-color);\n",
              "    box-shadow: none;\n",
              "  }\n",
              "\n",
              "  .colab-df-spinner {\n",
              "    border: 2px solid var(--fill-color);\n",
              "    border-color: transparent;\n",
              "    border-bottom-color: var(--fill-color);\n",
              "    animation:\n",
              "      spin 1s steps(1) infinite;\n",
              "  }\n",
              "\n",
              "  @keyframes spin {\n",
              "    0% {\n",
              "      border-color: transparent;\n",
              "      border-bottom-color: var(--fill-color);\n",
              "      border-left-color: var(--fill-color);\n",
              "    }\n",
              "    20% {\n",
              "      border-color: transparent;\n",
              "      border-left-color: var(--fill-color);\n",
              "      border-top-color: var(--fill-color);\n",
              "    }\n",
              "    30% {\n",
              "      border-color: transparent;\n",
              "      border-left-color: var(--fill-color);\n",
              "      border-top-color: var(--fill-color);\n",
              "      border-right-color: var(--fill-color);\n",
              "    }\n",
              "    40% {\n",
              "      border-color: transparent;\n",
              "      border-right-color: var(--fill-color);\n",
              "      border-top-color: var(--fill-color);\n",
              "    }\n",
              "    60% {\n",
              "      border-color: transparent;\n",
              "      border-right-color: var(--fill-color);\n",
              "    }\n",
              "    80% {\n",
              "      border-color: transparent;\n",
              "      border-right-color: var(--fill-color);\n",
              "      border-bottom-color: var(--fill-color);\n",
              "    }\n",
              "    90% {\n",
              "      border-color: transparent;\n",
              "      border-bottom-color: var(--fill-color);\n",
              "    }\n",
              "  }\n",
              "</style>\n",
              "\n",
              "  <script>\n",
              "    async function quickchart(key) {\n",
              "      const quickchartButtonEl =\n",
              "        document.querySelector('#' + key + ' button');\n",
              "      quickchartButtonEl.disabled = true;  // To prevent multiple clicks.\n",
              "      quickchartButtonEl.classList.add('colab-df-spinner');\n",
              "      try {\n",
              "        const charts = await google.colab.kernel.invokeFunction(\n",
              "            'suggestCharts', [key], {});\n",
              "      } catch (error) {\n",
              "        console.error('Error during call to suggestCharts:', error);\n",
              "      }\n",
              "      quickchartButtonEl.classList.remove('colab-df-spinner');\n",
              "      quickchartButtonEl.classList.add('colab-df-quickchart-complete');\n",
              "    }\n",
              "    (() => {\n",
              "      let quickchartButtonEl =\n",
              "        document.querySelector('#df-0b650465-f6a0-4978-866e-f5adfa12a88b button');\n",
              "      quickchartButtonEl.style.display =\n",
              "        google.colab.kernel.accessAllowed ? 'block' : 'none';\n",
              "    })();\n",
              "  </script>\n",
              "</div>\n",
              "    </div>\n",
              "  </div>\n"
            ],
            "text/plain": [
              "       area/volume  h_range_max_koe           Tc  temperature_k  \\\n",
              "count   979.000000       979.000000   979.000000     979.000000   \n",
              "mean      0.218317        36.457692   788.942901      72.999387   \n",
              "std       0.253926        23.634419   349.454907     110.867074   \n",
              "min       0.003000         0.100000    30.000000       1.800000   \n",
              "25%       0.079302        20.000000   643.000000       5.000000   \n",
              "50%       0.150000        30.000000   809.800000      10.000000   \n",
              "75%       0.253787        50.000000   860.000000     100.000000   \n",
              "max       2.000000       100.000000  1661.000000     608.000000   \n",
              "\n",
              "            sat_em_g       coer_oe  mr (emu/g)  exc_bias_oe     exc_dir  \\\n",
              "count     979.000000    979.000000  979.000000   979.000000  979.000000   \n",
              "mean      415.698464   2279.340897   13.128177   318.628186    0.141502   \n",
              "std      4974.751928   4053.992359   18.173922   405.794171    0.343329   \n",
              "min         0.000087      0.600000    0.000027     0.007500    0.000000   \n",
              "25%         7.245000    316.500000    0.560000    31.500000    0.000000   \n",
              "50%        26.353000    844.300000    6.200000   127.295000    0.000000   \n",
              "75%        50.550000   2188.424500   20.225000   473.310000    0.000000   \n",
              "max    106600.000000  59144.000000  247.960000  1670.900000    1.000000   \n",
              "\n",
              "       ver_shift_emu_g  ...  core_sum_vec  core_sum_work_function  \\\n",
              "count       979.000000  ...    979.000000              979.000000   \n",
              "mean          1.259763  ...    698.794157              270.812372   \n",
              "std           4.774476  ...    173.442290              147.822071   \n",
              "min           0.000000  ...      0.000000                0.000000   \n",
              "25%           0.000000  ...    621.428600              180.000000   \n",
              "50%           0.067000  ...    700.000000              216.428600   \n",
              "75%           0.929785  ...    800.000000              470.000000   \n",
              "max         111.360000  ...   1000.000000              515.000000   \n",
              "\n",
              "       shell_sum_vec  shell_sum_work_function  \\\n",
              "count     979.000000               979.000000   \n",
              "mean      539.941647               176.314782   \n",
              "std       307.302545               124.118630   \n",
              "min         0.000000                 0.000000   \n",
              "25%       400.000000                89.500000   \n",
              "50%       683.166700               201.428600   \n",
              "75%       750.000000               250.000000   \n",
              "max      1000.000000               515.000000   \n",
              "\n",
              "       core_pauling_electronegativity_difference  core_vec_difference  \\\n",
              "count                                 979.000000           979.000000   \n",
              "mean                                    2.290421             1.526309   \n",
              "std                                     1.602428             1.355539   \n",
              "min                                     0.000000             0.000000   \n",
              "25%                                     0.052172             0.000000   \n",
              "50%                                     2.860376             1.495174   \n",
              "75%                                     3.128237             2.500000   \n",
              "max                                    11.547010            11.547010   \n",
              "\n",
              "       core_work_function_difference  \\\n",
              "count                     979.000000   \n",
              "mean                        8.942621   \n",
              "std                         6.540183   \n",
              "min                         0.000000   \n",
              "25%                         0.117858   \n",
              "50%                        10.000000   \n",
              "75%                        12.247450   \n",
              "max                        29.495760   \n",
              "\n",
              "       shell_pauling_electronegativity_difference  shell_vec_difference  \\\n",
              "count                                  979.000000          9.790000e+02   \n",
              "mean                                     2.255265          1.511955e+00   \n",
              "std                                      1.502012          1.309873e+00   \n",
              "min                                      0.000000         -2.220446e-16   \n",
              "25%                                      0.079156         -2.220446e-16   \n",
              "50%                                      2.859813          1.443376e+00   \n",
              "75%                                      2.932331          2.037707e+00   \n",
              "max                                      7.071068          7.071068e+00   \n",
              "\n",
              "       shell_work_function_difference  \n",
              "count                      979.000000  \n",
              "mean                         8.086343  \n",
              "std                          5.453118  \n",
              "min                          0.000000  \n",
              "25%                          0.000000  \n",
              "50%                         10.000000  \n",
              "75%                         11.547010  \n",
              "max                         26.291040  \n",
              "\n",
              "[8 rows x 38 columns]"
            ]
          },
          "execution_count": 7,
          "metadata": {},
          "output_type": "execute_result"
        }
      ],
      "source": [
        "# Проверим данные\n",
        "df.describe()"
      ]
    },
    {
      "cell_type": "code",
      "execution_count": null,
      "id": "607bf9ce",
      "metadata": {
        "id": "607bf9ce"
      },
      "outputs": [],
      "source": [
        "target_column_name = \"exc_bias_oe\" # Обменный сдвиг коэрцитивной силы относительно намагниченности\n",
        "\n",
        "X = df[list(df.columns.drop([target_column_name]))]\n",
        "y = df[target_column_name]"
      ]
    },
    {
      "cell_type": "code",
      "execution_count": null,
      "id": "1nY9lsFGB3Sd",
      "metadata": {
        "id": "1nY9lsFGB3Sd"
      },
      "outputs": [],
      "source": [
        "from scipy.ndimage import gaussian_filter1d\n",
        "\n",
        "# Применение к целевой переменной\n",
        "y_smooth = gaussian_filter1d(y, sigma=2)  # Настройте sigma для изменения\n",
        "\n",
        "# Логарифмирование целевой переменной\n",
        "y_log = np.log10(y_smooth)"
      ]
    },
    {
      "cell_type": "code",
      "execution_count": null,
      "id": "4e2522df",
      "metadata": {
        "id": "4e2522df"
      },
      "outputs": [],
      "source": [
        "# Разделение данных на обучающую и тестовую выборки\n",
        "X_train, X_test, y_train, y_test = train_test_split(X, y_log, test_size=0.2, random_state=1984)\n",
        "\n",
        "# Замена нулевых значений в целевом массиве на очень маленькое значение перед логарифмированием\n",
        "#y_train[y_train == 0] = 1e-5 # Эксперимент\n",
        "#y_test[y_test == 0] = 1e-5\n",
        "\n",
        "# Нормализация дескрипторов\n",
        "scaler = MinMaxScaler()\n",
        "X_train = scaler.fit_transform(X_train)\n",
        "X_test = scaler.transform(X_test)\n",
        "\n",
        "# Логарифмирование целевого значения\n",
        "#y_train = np.log10(y_train)\n",
        "#y_test = np.log10(y_test)\n",
        "\n",
        "# Преобразование данных в тензоры PyTorch\n",
        "train_input = torch.tensor(X_train, dtype=torch.float32)\n",
        "train_label = torch.tensor(y_train[:, None], dtype=torch.float32) #().to_numpy\n",
        "test_input = torch.tensor(X_test, dtype=torch.float32)\n",
        "test_label = torch.tensor(y_test[:, None], dtype=torch.float32) #().to_numpy"
      ]
    },
    {
      "cell_type": "code",
      "execution_count": null,
      "id": "L6AhqIHTLDI5",
      "metadata": {
        "colab": {
          "base_uri": "https://localhost:8080/"
        },
        "id": "L6AhqIHTLDI5",
        "outputId": "c7bd65ab-3d9c-4d05-9f41-bbd2396e36d3"
      },
      "outputs": [
        {
          "name": "stdout",
          "output_type": "stream",
          "text": [
            "Диапазон значений целевых до логарифмирования:  (0.0074999999999931, 1670.9)\n",
            "Диапазон значений целевых после логарифмирования:  (-2.1249387366086996, 3.2229504590210114)\n"
          ]
        }
      ],
      "source": [
        "print(\"Диапазон значений целевых до логарифмирования: \", (np.min(y), np.max(y)))\n",
        "print(\"Диапазон значений целевых после логарифмирования: \", (np.min(np.log10(y)), np.max(np.log10(y))))"
      ]
    },
    {
      "cell_type": "code",
      "execution_count": null,
      "id": "Yid5ps00CE16",
      "metadata": {
        "colab": {
          "base_uri": "https://localhost:8080/"
        },
        "id": "Yid5ps00CE16",
        "outputId": "65f30768-4aeb-4c91-adbf-d6d2ffcda05a"
      },
      "outputs": [
        {
          "name": "stdout",
          "output_type": "stream",
          "text": [
            "Train input shape: torch.Size([783, 37])\n",
            "Train label shape: torch.Size([783, 1])\n",
            "Test input shape: torch.Size([196, 37])\n",
            "Test label shape: torch.Size([196, 1])\n"
          ]
        }
      ],
      "source": [
        "# Вывод форм данных для проверки, чтобы проверить размеры\n",
        "print(\"Train input shape:\", train_input.shape)\n",
        "print(\"Train label shape:\", train_label.shape)\n",
        "print(\"Test input shape:\", test_input.shape)\n",
        "print(\"Test label shape:\", test_label.shape)"
      ]
    },
    {
      "cell_type": "code",
      "execution_count": null,
      "id": "af6a90f0",
      "metadata": {
        "id": "af6a90f0"
      },
      "outputs": [],
      "source": [
        "dataset = {\n",
        "    'train_input': train_input,\n",
        "    'train_label': train_label,\n",
        "    'test_input': test_input,\n",
        "    'test_label': test_label\n",
        "}"
      ]
    },
    {
      "cell_type": "markdown",
      "id": "wlJgkWJ54q5k",
      "metadata": {
        "id": "wlJgkWJ54q5k"
      },
      "source": [
        "# Метрики Train, Test"
      ]
    },
    {
      "cell_type": "code",
      "execution_count": null,
      "id": "c-6KUHv1YSK9",
      "metadata": {
        "colab": {
          "base_uri": "https://localhost:8080/",
          "height": 1000
        },
        "id": "c-6KUHv1YSK9",
        "outputId": "2832f036-209f-442a-b2d4-4ae3fd1c3596"
      },
      "outputs": [
        {
          "name": "stdout",
          "output_type": "stream",
          "text": [
            "checkpoint directory created: ./model\n",
            "saving model version 0.0\n",
            "Step 0: Train R² = -18.610034942626953, Train RMSE = 2.3155314922332764, Test R² = -23.21022605895996, Test RMSE = 2.338453531265259\n",
            "Step 10: Train R² = -12.607980728149414, Train RMSE = 1.92889404296875, Test R² = -15.83316421508789, Test RMSE = 1.9498993158340454\n",
            "Step 20: Train R² = -7.235508918762207, Train RMSE = 1.500571608543396, Test R² = -9.041568756103516, Test RMSE = 1.506017804145813\n",
            "Step 30: Train R² = -3.628796100616455, Train RMSE = 1.1249818801879883, Test R² = -4.716497898101807, Test RMSE = 1.1363035440444946\n",
            "Step 40: Train R² = -1.0474762916564941, Train RMSE = 0.7482056021690369, Test R² = -1.4524157047271729, Test RMSE = 0.7442628741264343\n",
            "Step 50: Train R² = 0.007786393165588379, Train RMSE = 0.520851731300354, Test R² = -0.05990016460418701, Test RMSE = 0.489284873008728\n",
            "Step 60: Train R² = 0.12785398960113525, Train RMSE = 0.48832178115844727, Test R² = 0.04205465316772461, Test RMSE = 0.465157151222229\n",
            "Step 70: Train R² = 0.3039700984954834, Train RMSE = 0.43623998761177063, Test R² = 0.19826608896255493, Test RMSE = 0.42554399371147156\n",
            "Step 80: Train R² = 0.45973658561706543, Train RMSE = 0.3843388557434082, Test R² = 0.31111621856689453, Test RMSE = 0.39445939660072327\n",
            "Step 90: Train R² = 0.5498751401901245, Train RMSE = 0.3508148789405823, Test R² = 0.35478031635284424, Test RMSE = 0.3817535936832428\n",
            "Step 100: Train R² = 0.627805769443512, Train RMSE = 0.3190041482448578, Test R² = 0.37507009506225586, Test RMSE = 0.37570327520370483\n",
            "Step 110: Train R² = 0.6802158951759338, Train RMSE = 0.2956922650337219, Test R² = 0.4127333164215088, Test RMSE = 0.364205926656723\n",
            "Step 120: Train R² = 0.7207587957382202, Train RMSE = 0.2763129770755768, Test R² = 0.45395493507385254, Test RMSE = 0.3511911630630493\n",
            "Step 130: Train R² = 0.752644419670105, Train RMSE = 0.26005929708480835, Test R² = 0.4889577627182007, Test RMSE = 0.33974865078926086\n",
            "Step 140: Train R² = 0.7797260880470276, Train RMSE = 0.24541045725345612, Test R² = 0.5187086462974548, Test RMSE = 0.3297109305858612\n",
            "Step 150: Train R² = 0.8061432242393494, Train RMSE = 0.23022474348545074, Test R² = 0.5390013456344604, Test RMSE = 0.32268527150154114\n",
            "Step 160: Train R² = 0.8311138153076172, Train RMSE = 0.21488623321056366, Test R² = 0.5565664768218994, Test RMSE = 0.31647807359695435\n",
            "Step 170: Train R² = 0.8540782332420349, Train RMSE = 0.19974298775196075, Test R² = 0.5686450600624084, Test RMSE = 0.31213805079460144\n",
            "Step 180: Train R² = 0.8720556497573853, Train RMSE = 0.18703466653823853, Test R² = 0.5752493143081665, Test RMSE = 0.309739351272583\n",
            "Step 190: Train R² = 0.8861216306686401, Train RMSE = 0.17645426094532013, Test R² = 0.5821129083633423, Test RMSE = 0.30722659826278687\n",
            "Step 200: Train R² = 0.897368311882019, Train RMSE = 0.16751442849636078, Test R² = 0.5935795307159424, Test RMSE = 0.3029821813106537\n",
            "Step 210: Train R² = 0.9067398905754089, Train RMSE = 0.15968330204486847, Test R² = 0.6064631938934326, Test RMSE = 0.298141211271286\n",
            "Step 220: Train R² = 0.9153098464012146, Train RMSE = 0.15216964483261108, Test R² = 0.6181194186210632, Test RMSE = 0.2936926782131195\n",
            "Step 230: Train R² = 0.9233024716377258, Train RMSE = 0.14481119811534882, Test R² = 0.6300897598266602, Test RMSE = 0.2890529930591583\n",
            "Step 240: Train R² = 0.9296659231185913, Train RMSE = 0.13867376744747162, Test R² = 0.6403579115867615, Test RMSE = 0.2850129306316376\n",
            "Step 250: Train R² = 0.929862380027771, Train RMSE = 0.1384800225496292, Test R² = 0.6561921834945679, Test RMSE = 0.278668075799942\n",
            "Step 260: Train R² = 0.9373752474784851, Train RMSE = 0.13085325062274933, Test R² = 0.6656074523925781, Test RMSE = 0.2748258709907532\n",
            "Step 270: Train R² = 0.9430229663848877, Train RMSE = 0.1248134970664978, Test R² = 0.6654723286628723, Test RMSE = 0.27488139271736145\n",
            "Step 280: Train R² = 0.9430438280105591, Train RMSE = 0.12479062378406525, Test R² = 0.6652615070343018, Test RMSE = 0.2749679982662201\n",
            "Step 290: Train R² = 0.9480331540107727, Train RMSE = 0.11919955164194107, Test R² = 0.672247052192688, Test RMSE = 0.27208375930786133\n",
            "Step 300: Train R² = 0.9525205492973328, Train RMSE = 0.1139368787407875, Test R² = 0.6763914823532104, Test RMSE = 0.27035805583000183\n",
            "Step 310: Train R² = 0.9525696039199829, Train RMSE = 0.113878034055233, Test R² = 0.6753488779067993, Test RMSE = 0.27079322934150696\n",
            "Step 320: Train R² = 0.9548277258872986, Train RMSE = 0.11113414913415909, Test R² = 0.6792373657226562, Test RMSE = 0.26916661858558655\n",
            "Step 330: Train R² = 0.9567130208015442, Train RMSE = 0.10879027098417282, Test R² = 0.6792508363723755, Test RMSE = 0.2691609561443329\n",
            "Step 340: Train R² = 0.9607425332069397, Train RMSE = 0.10360308736562729, Test R² = 0.6845567226409912, Test RMSE = 0.2669254541397095\n",
            "Step 350: Train R² = 0.9625791311264038, Train RMSE = 0.10115060210227966, Test R² = 0.6857151985168457, Test RMSE = 0.26643484830856323\n",
            "Step 360: Train R² = 0.9598168730735779, Train RMSE = 0.10481738299131393, Test R² = 0.6796020269393921, Test RMSE = 0.26901358366012573\n",
            "Step 370: Train R² = 0.96346116065979, Train RMSE = 0.09995140135288239, Test R² = 0.6829262971878052, Test RMSE = 0.26761436462402344\n",
            "Final R² on test set: 0.6857054233551025\n",
            "Final RMSE on test set: 0.2664389908313751\n"
          ]
        },
        {
          "data": {
            "image/png": "[encoded data removed]",
            "text/plain": [
              "<Figure size 1200x600 with 1 Axes>"
            ]
          },
          "metadata": {},
          "output_type": "display_data"
        },
        {
          "data": {
            "image/png": "[encoded data removed]",
            "text/plain": [
              "<Figure size 1200x600 with 1 Axes>"
            ]
          },
          "metadata": {},
          "output_type": "display_data"
        }
      ],
      "source": [
        "import torch\n",
        "import numpy as np\n",
        "from sklearn.metrics import r2_score, mean_squared_error\n",
        "import random\n",
        "\n",
        "# Фиксация случайных чисел\n",
        "def set_seed(seed=1984):\n",
        "    random.seed(seed)\n",
        "    np.random.seed(seed)\n",
        "    torch.manual_seed(seed)\n",
        "    if torch.cuda.is_available():\n",
        "        torch.cuda.manual_seed(seed)\n",
        "        torch.cuda.manual_seed_all(seed)\n",
        "    torch.backends.cudnn.deterministic = True\n",
        "    torch.backends.cudnn.benchmark = False\n",
        "\n",
        "set_seed(1984)\n",
        "\n",
        "# Найденные параметры\n",
        "best_grid = 22\n",
        "best_k = 15\n",
        "best_width = [36, 19, 10, 1]  # Добавляем [36] в начало и [1] в конец\n",
        "\n",
        "# Инициализация модели с лучшими параметрами\n",
        "best_model = KAN(width=best_width, grid=best_grid, k=best_k)\n",
        "\n",
        "# Использование оптимизатора Adam\n",
        "optimizer = torch.optim.Adam(best_model.parameters(), lr=0.00115)\n",
        "\n",
        "# Шаг 2: Обучение модели с ранней остановкой и сохранением метрик\n",
        "def train_with_early_stopping(model, train_input, train_label, test_input, test_label, optimizer, steps, target_r2=0.7):\n",
        "    best_r2 = -np.inf  # Изначально лучший R² = -inf\n",
        "    train_r2_history = []\n",
        "    train_rmse_history = []\n",
        "    test_r2_history = []\n",
        "    test_rmse_history = []\n",
        "\n",
        "    for step in range(steps):\n",
        "        optimizer.zero_grad()\n",
        "        output = model(train_input)\n",
        "        loss = torch.nn.MSELoss()(output, train_label)\n",
        "        loss.backward()\n",
        "        optimizer.step()\n",
        "\n",
        "        # Проверка метрик на тренировочной и тестовой выборках каждые 10 шагов\n",
        "        if step % 10 == 0:\n",
        "            with torch.no_grad():\n",
        "                # Предсказания на тренировочной выборке\n",
        "                train_output = model(train_input)\n",
        "                train_preds = train_output.detach().numpy()\n",
        "                train_r2 = r2_score(train_label.numpy(), train_preds)\n",
        "                train_rmse = np.sqrt(mean_squared_error(train_label.numpy(), train_preds))\n",
        "\n",
        "                # Предсказания на тестовой выборке\n",
        "                test_output = model(test_input)\n",
        "                test_preds = test_output.detach().numpy()\n",
        "                test_r2 = r2_score(test_label.numpy(), test_preds)\n",
        "                test_rmse = np.sqrt(mean_squared_error(test_label.numpy(), test_preds))\n",
        "\n",
        "                # Сохранение метрик\n",
        "                train_r2_history.append(train_r2)\n",
        "                train_rmse_history.append(train_rmse)\n",
        "                test_r2_history.append(test_r2)\n",
        "                test_rmse_history.append(test_rmse)\n",
        "\n",
        "                print(f\"Step {step}: Train R² = {train_r2}, Train RMSE = {train_rmse}, Test R² = {test_r2}, Test RMSE = {test_rmse}\")\n",
        "\n",
        "                # Проверка на наилучший результат по R² на тестовой выборке\n",
        "                if test_r2 > best_r2:\n",
        "                    best_r2 = test_r2\n",
        "\n",
        "                # Ранняя остановка, если достигнут желаемый R²\n",
        "                if best_r2 >= target_r2:\n",
        "                    print(f\"Reached desired R² of {target_r2} at step {step}. Stopping early.\")\n",
        "                    break\n",
        "\n",
        "    return model, train_r2_history, train_rmse_history, test_r2_history, test_rmse_history\n",
        "\n",
        "# Шаг 3: Обучение модели с ранней остановкой на 500 шагах\n",
        "trained_model, train_r2_history, train_rmse_history, test_r2_history, test_rmse_history = train_with_early_stopping(\n",
        "    best_model, train_input, train_label, test_input, test_label, optimizer, steps=380\n",
        ")\n",
        "\n",
        "# Шаг 4: Финальная оценка на тестовых данных\n",
        "with torch.no_grad():\n",
        "    test_preds = trained_model(test_input).detach().numpy()\n",
        "    final_test_r2 = r2_score(test_label.numpy(), test_preds)\n",
        "    final_test_rmse = np.sqrt(mean_squared_error(test_label.numpy(), test_preds))\n",
        "\n",
        "print(f\"Final R² on test set: {final_test_r2}\")\n",
        "print(f\"Final RMSE on test set: {final_test_rmse}\")\n",
        "\n",
        "# Шаг 5: Визуализация метрик по шагам\n",
        "plt.figure(figsize=(12, 6))\n",
        "plt.plot(train_r2_history, label='Train R²')\n",
        "plt.plot(test_r2_history, label='Test R²')\n",
        "plt.title('Train and Test R² over Iterations')\n",
        "plt.xlabel('Iteration (x10)')\n",
        "plt.ylabel('R²')\n",
        "plt.legend()\n",
        "plt.grid(False)\n",
        "plt.show()\n",
        "\n",
        "plt.figure(figsize=(12, 6))\n",
        "plt.plot(train_rmse_history, label='Train RMSE')\n",
        "plt.plot(test_rmse_history, label='Test RMSE')\n",
        "plt.title('Train and Test RMSE over Iterations')\n",
        "plt.xlabel('Iteration (x10)')\n",
        "plt.ylabel('RMSE')\n",
        "plt.legend()\n",
        "plt.grid(False)\n",
        "plt.show()"
      ]
    },
    {
      "cell_type": "markdown",
      "id": "0HCQkdDJEyCi",
      "metadata": {
        "id": "0HCQkdDJEyCi"
      },
      "source": [
        "# Scatter plot: KAN predicted vs actual"
      ]
    },
    {
      "cell_type": "code",
      "execution_count": null,
      "id": "z-ikP5yxEE2s",
      "metadata": {
        "colab": {
          "base_uri": "https://localhost:8080/",
          "height": 643
        },
        "id": "z-ikP5yxEE2s",
        "outputId": "6c746324-efbb-4323-cb65-5d334e9b5d38"
      },
      "outputs": [
        {
          "name": "stderr",
          "output_type": "stream",
          "text": [
            "<ipython-input-19-33ea540d4a08>:34: UserWarning: linestyle is redundantly defined by the 'linestyle' keyword argument and the fmt string \"b--\" (-> linestyle='--'). The keyword argument will take precedence.\n",
            "  plt.plot(ideal_line, ideal_line + final_test_rmse, 'b--', label=f'RMSE bound', linestyle=':')\n",
            "<ipython-input-19-33ea540d4a08>:35: UserWarning: linestyle is redundantly defined by the 'linestyle' keyword argument and the fmt string \"b--\" (-> linestyle='--'). The keyword argument will take precedence.\n",
            "  plt.plot(ideal_line, ideal_line - final_test_rmse, 'b--', linestyle=':')\n"
          ]
        },
        {
          "data": {
            "image/png": "[encoded data removed]",
            "text/plain": [
              "<Figure size 1000x600 with 1 Axes>"
            ]
          },
          "metadata": {},
          "output_type": "display_data"
        }
      ],
      "source": [
        "import matplotlib.pyplot as plt\n",
        "import numpy as np\n",
        "from sklearn.metrics import mean_squared_error\n",
        "\n",
        "# Получение предсказаний на тренировочной выборке\n",
        "with torch.no_grad():\n",
        "    train_preds = trained_model(train_input).detach().numpy()\n",
        "    test_preds = trained_model(test_input).detach().numpy()\n",
        "\n",
        "# Финальные метрики\n",
        "final_train_r2 = r2_score(train_label.numpy(), train_preds)\n",
        "final_train_rmse = np.sqrt(mean_squared_error(train_label.numpy(), train_preds))\n",
        "final_test_r2 = r2_score(test_label.numpy(), test_preds)\n",
        "final_test_rmse = np.sqrt(mean_squared_error(test_label.numpy(), test_preds))\n",
        "\n",
        "# Визуализация предсказанных и реальных значений для Train и Test с линиями RMSE\n",
        "plt.figure(figsize=(10, 6))\n",
        "\n",
        "# Минимальные и максимальные значения для графика\n",
        "min_val = min(min(test_label.numpy()), min(train_label.numpy()))\n",
        "max_val = max(max(test_label.numpy()), max(train_label.numpy()))\n",
        "\n",
        "# Scatter Plot: Train Data (синие точки)\n",
        "plt.scatter(train_label.numpy(), train_preds, alpha=0.7, color='blue', label='Train predictions')\n",
        "\n",
        "# Scatter Plot: Test Data (светло-синие точки)\n",
        "plt.scatter(test_label.numpy(), test_preds, alpha=0.7, color='cyan', label='Test predictions')\n",
        "\n",
        "# Идеальная линия предсказания (красная пунктирная линия)\n",
        "ideal_line = np.linspace(min_val, max_val, 100)\n",
        "plt.plot(ideal_line, ideal_line, 'r--', label='Perfect Prediction')\n",
        "\n",
        "# Линии RMSE для тестовой выборки\n",
        "plt.plot(ideal_line, ideal_line + final_test_rmse, 'b--', label=f'RMSE bound', linestyle=':')\n",
        "plt.plot(ideal_line, ideal_line - final_test_rmse, 'b--', linestyle=':')\n",
        "\n",
        "# Финальные метрики для теста и тренировки\n",
        "metrics_text = (\n",
        "    f'Train R² = {final_train_r2:.3f}\\n'\n",
        "    f'Train RMSE = {final_train_rmse:.3f}\\n'\n",
        "    f'Test R² = {final_test_r2:.3f}\\n'\n",
        "    f'Test RMSE = {final_test_rmse:.3f}\\n'\n",
        ")\n",
        "\n",
        "# Добавление текста с метриками\n",
        "plt.text(0.95, 0.05, metrics_text, transform=plt.gca().transAxes,\n",
        "         fontsize=12, verticalalignment='bottom', horizontalalignment='right',\n",
        "         bbox=dict(facecolor='white', alpha=0.8, boxstyle='round,pad=0.5', edgecolor='black'))\n",
        "\n",
        "# Оформление графика\n",
        "plt.title('Scatter plot: KAN predicted vs actual')\n",
        "plt.xlabel('Actual log10 values')\n",
        "plt.ylabel('Predicted log10 values')\n",
        "plt.legend(loc='upper left')\n",
        "\n",
        "# Показать график\n",
        "plt.tight_layout()\n",
        "plt.show()"
      ]
    },
    {
      "cell_type": "markdown",
      "id": "GviP9kfNnBpk",
      "metadata": {
        "id": "GviP9kfNnBpk"
      },
      "source": [
        "# Метрики для кроссвалидации и валидации"
      ]
    },
    {
      "cell_type": "code",
      "execution_count": null,
      "id": "L4f0uaFhhVOT",
      "metadata": {
        "colab": {
          "base_uri": "https://localhost:8080/"
        },
        "id": "L4f0uaFhhVOT",
        "outputId": "da62b399-b08f-470b-c3fe-fb2249d1c4da"
      },
      "outputs": [
        {
          "name": "stdout",
          "output_type": "stream",
          "text": [
            "checkpoint directory created: ./model\n",
            "saving model version 0.0\n",
            "Final validation R² = 0.9783521890640259, Final validation RMSE = 0.07644045352935791\n",
            "Final R² on validation set: 0.22205644845962524\n",
            "Final RMSE on validation set: 0.4984898865222931\n"
          ]
        }
      ],
      "source": [
        "import torch\n",
        "import numpy as np\n",
        "from sklearn.metrics import r2_score, mean_squared_error\n",
        "from sklearn.model_selection import train_test_split, KFold\n",
        "import random\n",
        "\n",
        "# Фиксация случайных чисел\n",
        "def set_seed(seed=1984):\n",
        "    random.seed(seed)\n",
        "    np.random.seed(seed)\n",
        "    torch.manual_seed(seed)\n",
        "    if torch.cuda.is_available():\n",
        "        torch.cuda.manual_seed(seed)\n",
        "        torch.cuda.manual_seed_all(seed)\n",
        "    torch.backends.cudnn.deterministic = True\n",
        "    torch.backends.cudnn.benchmark = False\n",
        "\n",
        "set_seed(1984)\n",
        "\n",
        "# Разделение train_input на тренировочную и валидационную выборку (12.5% для валидации)\n",
        "train_input, val_input, train_label, val_label = train_test_split(train_input, train_label, test_size=0.125, random_state=1984)\n",
        "\n",
        "# Кросс-валидация на 5 фолдах\n",
        "kf = KFold(n_splits=5, shuffle=True, random_state=1984)\n",
        "\n",
        "# Найденные параметры\n",
        "best_grid = 22\n",
        "best_k = 15\n",
        "best_width = [36, 19, 10, 1]\n",
        "\n",
        "# Функция для обучения модели\n",
        "def train_with_cross_validation(model, train_input, train_label, val_input, val_label, optimizer, steps):\n",
        "    # Инициализация метрик\n",
        "    best_r2 = -np.inf\n",
        "    final_val_r2 = None\n",
        "    final_val_rmse = None\n",
        "\n",
        "    for train_index, val_index in kf.split(train_input):\n",
        "        fold_train_input = train_input[train_index]\n",
        "        fold_train_label = train_label[train_index]\n",
        "        fold_val_input = train_input[val_index]\n",
        "        fold_val_label = train_label[val_index]\n",
        "\n",
        "        for step in range(steps):\n",
        "            optimizer.zero_grad()\n",
        "            output = model(fold_train_input)\n",
        "            loss = torch.nn.MSELoss()(output, fold_train_label)\n",
        "            loss.backward()\n",
        "            optimizer.step()\n",
        "\n",
        "        # После завершения всех шагов на фолде, вычисляем метрики для валидации\n",
        "        with torch.no_grad():\n",
        "            val_output = model(fold_val_input)\n",
        "            val_preds = val_output.detach().numpy()\n",
        "            final_val_r2 = r2_score(fold_val_label.numpy(), val_preds)\n",
        "            final_val_rmse = np.sqrt(mean_squared_error(fold_val_label.numpy(), val_preds))\n",
        "\n",
        "            # Проверка на лучший результат по R²\n",
        "            if final_val_r2 > best_r2:\n",
        "                best_r2 = final_val_r2\n",
        "\n",
        "    print(f\"Final validation R² = {final_val_r2}, Final validation RMSE = {final_val_rmse}\")\n",
        "    return model\n",
        "\n",
        "# Инициализация модели с лучшими параметрами\n",
        "best_model = KAN(width=best_width, grid=best_grid, k=best_k)\n",
        "\n",
        "# Оптимизатор\n",
        "optimizer = torch.optim.Adam(best_model.parameters(), lr=0.00115)\n",
        "\n",
        "# Обучение модели с кросс-валидацией\n",
        "trained_model = train_with_cross_validation(\n",
        "    best_model, train_input, train_label, val_input, val_label, optimizer, steps=380)\n",
        "\n",
        "# Финальная оценка на валидационных данных\n",
        "with torch.no_grad():\n",
        "    val_preds = trained_model(val_input).detach().numpy()\n",
        "    final_val_r2 = r2_score(val_label.numpy(), val_preds)\n",
        "    final_val_rmse = np.sqrt(mean_squared_error(val_label.numpy(), val_preds))\n",
        "\n",
        "print(f\"Final R² on validation set: {final_val_r2}\")\n",
        "print(f\"Final RMSE on validation set: {final_val_rmse}\")"
      ]
    },
    {
      "cell_type": "markdown",
      "id": "3n0Sl1b0q8JD",
      "metadata": {
        "id": "3n0Sl1b0q8JD"
      },
      "source": [
        "# Поиск конфигураций"
      ]
    },
    {
      "cell_type": "code",
      "execution_count": null,
      "id": "iwXABNKp6NZI",
      "metadata": {
        "colab": {
          "background_save": true,
          "base_uri": "https://localhost:8080/"
        },
        "id": "iwXABNKp6NZI",
        "outputId": "0ee1e475-76e3-4328-8e12-a2cc5106a6ab"
      },
      "outputs": [
        {
          "name": "stderr",
          "output_type": "stream",
          "text": [
            "[I 2024-09-08 10:05:18,986] A new study created in memory with name: no-name-9c64ac76-7406-4263-9820-c00b1e5955d5\n"
          ]
        },
        {
          "name": "stdout",
          "output_type": "stream",
          "text": [
            "checkpoint directory created: ./model\n",
            "saving model version 0.0\n",
            "Early stopping at step 330 due to lack of improvement in R².\n"
          ]
        },
        {
          "name": "stderr",
          "output_type": "stream",
          "text": [
            "[I 2024-09-08 10:16:12,767] Trial 0 pruned. \n"
          ]
        },
        {
          "name": "stdout",
          "output_type": "stream",
          "text": [
            "Error in trial with grid=27, k=22, width=[[36, 0], [28, 0], [1, 0]]. Error: \n",
            "checkpoint directory created: ./model\n",
            "saving model version 0.0\n",
            "Early stopping at step 350 due to lack of improvement in R².\n"
          ]
        },
        {
          "name": "stderr",
          "output_type": "stream",
          "text": [
            "[I 2024-09-08 10:23:30,777] Trial 1 pruned. \n"
          ]
        },
        {
          "name": "stdout",
          "output_type": "stream",
          "text": [
            "Error in trial with grid=24, k=11, width=[[36, 0], [35, 0], [1, 0]]. Error: \n",
            "checkpoint directory created: ./model\n",
            "saving model version 0.0\n"
          ]
        },
        {
          "name": "stderr",
          "output_type": "stream",
          "text": [
            "[I 2024-09-08 10:35:52,797] Trial 2 pruned. \n"
          ]
        },
        {
          "name": "stdout",
          "output_type": "stream",
          "text": [
            "Error in trial with grid=2, k=27, width=[[36, 0], [26, 0], [1, 0]]. Error: \n",
            "checkpoint directory created: ./model\n",
            "saving model version 0.0\n"
          ]
        },
        {
          "name": "stderr",
          "output_type": "stream",
          "text": [
            "[I 2024-09-08 10:39:05,688] Trial 3 pruned. \n"
          ]
        },
        {
          "name": "stdout",
          "output_type": "stream",
          "text": [
            "Error in trial with grid=3, k=9, width=[[36, 0], [14, 0], [1, 0]]. Error: \n",
            "checkpoint directory created: ./model\n",
            "saving model version 0.0\n"
          ]
        },
        {
          "name": "stderr",
          "output_type": "stream",
          "text": [
            "[I 2024-09-08 10:42:37,595] Trial 4 pruned. \n"
          ]
        },
        {
          "name": "stdout",
          "output_type": "stream",
          "text": [
            "Early stopping at step 320 due to lack of improvement in R².\n",
            "Error in trial with grid=22, k=4, width=[[36, 0], [24, 0], [1, 0]]. Error: \n",
            "checkpoint directory created: ./model\n",
            "saving model version 0.0\n"
          ]
        },
        {
          "name": "stderr",
          "output_type": "stream",
          "text": [
            "[I 2024-09-08 10:53:51,864] Trial 5 pruned. \n"
          ]
        },
        {
          "name": "stdout",
          "output_type": "stream",
          "text": [
            "Error in trial with grid=18, k=30, width=[[36, 0], [12, 0], [1, 0]]. Error: \n",
            "checkpoint directory created: ./model\n",
            "saving model version 0.0\n"
          ]
        },
        {
          "name": "stderr",
          "output_type": "stream",
          "text": [
            "[I 2024-09-08 10:57:59,154] Trial 6 pruned. \n"
          ]
        },
        {
          "name": "stdout",
          "output_type": "stream",
          "text": [
            "Error in trial with grid=2, k=13, width=[[36, 0], [14, 0], [1, 0]]. Error: \n",
            "checkpoint directory created: ./model\n",
            "saving model version 0.0\n"
          ]
        },
        {
          "name": "stderr",
          "output_type": "stream",
          "text": [
            "[I 2024-09-08 10:58:46,763] Trial 7 pruned. \n"
          ]
        },
        {
          "name": "stdout",
          "output_type": "stream",
          "text": [
            "Error in trial with grid=22, k=4, width=[[36, 0], [2, 0], [1, 0]]. Error: \n",
            "checkpoint directory created: ./model\n",
            "saving model version 0.0\n"
          ]
        },
        {
          "name": "stderr",
          "output_type": "stream",
          "text": [
            "[I 2024-09-08 11:03:24,688] Trial 8 pruned. \n"
          ]
        },
        {
          "name": "stdout",
          "output_type": "stream",
          "text": [
            "Early stopping at step 340 due to lack of improvement in R².\n",
            "Error in trial with grid=29, k=3, width=[[36, 0], [26, 0], [1, 0]]. Error: \n",
            "checkpoint directory created: ./model\n",
            "saving model version 0.0\n"
          ]
        },
        {
          "name": "stderr",
          "output_type": "stream",
          "text": [
            "[I 2024-09-08 11:19:31,412] Trial 9 pruned. \n"
          ]
        },
        {
          "name": "stdout",
          "output_type": "stream",
          "text": [
            "Error in trial with grid=14, k=32, width=[[36, 0], [18, 0], [1, 0]]. Error: \n",
            "checkpoint directory created: ./model\n",
            "saving model version 0.0\n",
            "Early stopping at step 480 due to lack of improvement in R².\n"
          ]
        },
        {
          "name": "stderr",
          "output_type": "stream",
          "text": [
            "[I 2024-09-08 11:32:34,974] Trial 10 pruned. \n"
          ]
        },
        {
          "name": "stdout",
          "output_type": "stream",
          "text": [
            "Error in trial with grid=23, k=22, width=[[36, 0], [28, 0], [1, 0]]. Error: \n",
            "checkpoint directory created: ./model\n",
            "saving model version 0.0\n",
            "Early stopping at step 370 due to lack of improvement in R².\n"
          ]
        },
        {
          "name": "stderr",
          "output_type": "stream",
          "text": [
            "[I 2024-09-08 11:38:47,794] Trial 11 pruned. \n"
          ]
        },
        {
          "name": "stdout",
          "output_type": "stream",
          "text": [
            "Error in trial with grid=27, k=11, width=[[36, 0], [28, 0], [1, 0]]. Error: \n",
            "checkpoint directory created: ./model\n",
            "saving model version 0.0\n",
            "Early stopping at step 350 due to lack of improvement in R².\n"
          ]
        },
        {
          "name": "stderr",
          "output_type": "stream",
          "text": [
            "[I 2024-09-08 11:46:01,764] Trial 12 pruned. \n"
          ]
        },
        {
          "name": "stdout",
          "output_type": "stream",
          "text": [
            "Error in trial with grid=24, k=11, width=[[36, 0], [35, 0], [1, 0]]. Error: \n",
            "checkpoint directory created: ./model\n",
            "saving model version 0.0\n",
            "Early stopping at step 440 due to lack of improvement in R².\n"
          ]
        },
        {
          "name": "stderr",
          "output_type": "stream",
          "text": [
            "[I 2024-09-08 12:05:57,607] Trial 13 pruned. \n"
          ]
        },
        {
          "name": "stdout",
          "output_type": "stream",
          "text": [
            "Error in trial with grid=27, k=26, width=[[36, 0], [35, 0], [1, 0]]. Error: \n",
            "checkpoint directory created: ./model\n",
            "saving model version 0.0\n",
            "Early stopping at step 340 due to lack of improvement in R².\n"
          ]
        },
        {
          "name": "stderr",
          "output_type": "stream",
          "text": [
            "[I 2024-09-08 12:18:09,904] Trial 14 pruned. \n"
          ]
        },
        {
          "name": "stdout",
          "output_type": "stream",
          "text": [
            "Error in trial with grid=24, k=22, width=[[36, 0], [33, 0], [1, 0]]. Error: \n",
            "checkpoint directory created: ./model\n",
            "saving model version 0.0\n"
          ]
        },
        {
          "name": "stderr",
          "output_type": "stream",
          "text": [
            "[I 2024-09-08 12:26:56,299] Trial 15 pruned. \n"
          ]
        },
        {
          "name": "stdout",
          "output_type": "stream",
          "text": [
            "Error in trial with grid=21, k=31, width=[[36, 0], [9, 0], [1, 0]]. Error: \n",
            "checkpoint directory created: ./model\n",
            "saving model version 0.0\n"
          ]
        },
        {
          "name": "stderr",
          "output_type": "stream",
          "text": [
            "[I 2024-09-08 12:38:53,183] Trial 16 pruned. \n"
          ]
        },
        {
          "name": "stdout",
          "output_type": "stream",
          "text": [
            "Error in trial with grid=9, k=17, width=[[36, 0], [34, 0], [1, 0]]. Error: \n",
            "checkpoint directory created: ./model\n",
            "saving model version 0.0\n"
          ]
        },
        {
          "name": "stderr",
          "output_type": "stream",
          "text": [
            "[I 2024-09-08 12:47:31,044] Trial 17 pruned. \n"
          ]
        },
        {
          "name": "stdout",
          "output_type": "stream",
          "text": [
            "Error in trial with grid=12, k=28, width=[[36, 0], [13, 0], [1, 0]]. Error: \n",
            "checkpoint directory created: ./model\n",
            "saving model version 0.0\n"
          ]
        },
        {
          "name": "stderr",
          "output_type": "stream",
          "text": [
            "[I 2024-09-08 12:51:03,950] Trial 18 pruned. \n"
          ]
        },
        {
          "name": "stdout",
          "output_type": "stream",
          "text": [
            "Error in trial with grid=19, k=19, width=[[36, 0], [6, 0], [1, 0]]. Error: \n",
            "checkpoint directory created: ./model\n",
            "saving model version 0.0\n"
          ]
        },
        {
          "name": "stderr",
          "output_type": "stream",
          "text": [
            "[I 2024-09-08 12:53:24,069] Trial 19 pruned. \n"
          ]
        },
        {
          "name": "stdout",
          "output_type": "stream",
          "text": [
            "Error in trial with grid=10, k=24, width=[[36, 0], [1, 0], [1, 0]]. Error: \n",
            "checkpoint directory created: ./model\n",
            "saving model version 0.0\n"
          ]
        },
        {
          "name": "stderr",
          "output_type": "stream",
          "text": [
            "[I 2024-09-08 12:56:00,360] Trial 20 pruned. \n"
          ]
        },
        {
          "name": "stdout",
          "output_type": "stream",
          "text": [
            "Error in trial with grid=6, k=8, width=[[36, 0], [11, 0], [1, 0]]. Error: \n",
            "checkpoint directory created: ./model\n",
            "saving model version 0.0\n"
          ]
        },
        {
          "name": "stderr",
          "output_type": "stream",
          "text": [
            "[I 2024-09-08 12:59:55,066] Trial 21 pruned. \n"
          ]
        },
        {
          "name": "stdout",
          "output_type": "stream",
          "text": [
            "Error in trial with grid=8, k=27, width=[[36, 0], [4, 0], [1, 0]]. Error: \n",
            "checkpoint directory created: ./model\n",
            "saving model version 0.0\n",
            "Early stopping at step 340 due to lack of improvement in R².\n"
          ]
        },
        {
          "name": "stderr",
          "output_type": "stream",
          "text": [
            "[I 2024-09-08 13:12:33,799] Trial 22 pruned. \n"
          ]
        },
        {
          "name": "stdout",
          "output_type": "stream",
          "text": [
            "Error in trial with grid=35, k=27, width=[[36, 0], [26, 0], [1, 0]]. Error: \n",
            "checkpoint directory created: ./model\n",
            "saving model version 0.0\n"
          ]
        },
        {
          "name": "stderr",
          "output_type": "stream",
          "text": [
            "[I 2024-09-08 13:19:24,845] Trial 23 pruned. \n"
          ]
        },
        {
          "name": "stdout",
          "output_type": "stream",
          "text": [
            "Early stopping at step 430 due to lack of improvement in R².\n",
            "Error in trial with grid=28, k=16, width=[[36, 0], [20, 0], [1, 0]]. Error: \n",
            "checkpoint directory created: ./model\n",
            "saving model version 0.0\n",
            "Early stopping at step 390 due to lack of improvement in R².\n"
          ]
        },
        {
          "name": "stderr",
          "output_type": "stream",
          "text": [
            "[I 2024-09-08 13:31:22,290] Trial 24 pruned. \n"
          ]
        },
        {
          "name": "stdout",
          "output_type": "stream",
          "text": [
            "Error in trial with grid=2, k=35, width=[[36, 0], [22, 0], [1, 0]]. Error: \n",
            "checkpoint directory created: ./model\n",
            "saving model version 0.0\n"
          ]
        },
        {
          "name": "stderr",
          "output_type": "stream",
          "text": [
            "[I 2024-09-08 13:37:03,553] Trial 25 pruned. \n"
          ]
        },
        {
          "name": "stdout",
          "output_type": "stream",
          "text": [
            "Error in trial with grid=15, k=5, width=[[36, 0], [27, 0], [1, 0]]. Error: \n",
            "checkpoint directory created: ./model\n",
            "saving model version 0.0\n"
          ]
        },
        {
          "name": "stderr",
          "output_type": "stream",
          "text": [
            "[I 2024-09-08 13:51:16,854] Trial 26 pruned. \n"
          ]
        },
        {
          "name": "stdout",
          "output_type": "stream",
          "text": [
            "Error in trial with grid=13, k=29, width=[[36, 0], [23, 0], [1, 0]]. Error: \n",
            "checkpoint directory created: ./model\n",
            "saving model version 0.0\n"
          ]
        },
        {
          "name": "stderr",
          "output_type": "stream",
          "text": [
            "[I 2024-09-08 13:59:01,957] Trial 27 pruned. \n"
          ]
        },
        {
          "name": "stdout",
          "output_type": "stream",
          "text": [
            "Error in trial with grid=11, k=15, width=[[36, 0], [25, 0], [1, 0]]. Error: \n",
            "checkpoint directory created: ./model\n",
            "saving model version 0.0\n",
            "Early stopping at step 300 due to lack of improvement in R².\n"
          ]
        },
        {
          "name": "stderr",
          "output_type": "stream",
          "text": [
            "[I 2024-09-08 14:10:31,467] Trial 28 pruned. \n"
          ]
        },
        {
          "name": "stdout",
          "output_type": "stream",
          "text": [
            "Error in trial with grid=32, k=33, width=[[36, 0], [19, 0], [1, 0]]. Error: \n",
            "checkpoint directory created: ./model\n",
            "saving model version 0.0\n"
          ]
        },
        {
          "name": "stderr",
          "output_type": "stream",
          "text": [
            "[I 2024-09-08 14:15:35,779] Trial 29 pruned. \n"
          ]
        },
        {
          "name": "stdout",
          "output_type": "stream",
          "text": [
            "Early stopping at step 490 due to lack of improvement in R².\n",
            "Error in trial with grid=26, k=18, width=[[36, 0], [10, 0], [1, 0]]. Error: \n",
            "checkpoint directory created: ./model\n",
            "saving model version 0.0\n"
          ]
        },
        {
          "name": "stderr",
          "output_type": "stream",
          "text": [
            "[I 2024-09-08 14:19:35,315] Trial 30 pruned. \n"
          ]
        },
        {
          "name": "stdout",
          "output_type": "stream",
          "text": [
            "Error in trial with grid=4, k=23, width=[[36, 0], [7, 0], [1, 0]]. Error: \n",
            "checkpoint directory created: ./model\n",
            "saving model version 0.0\n"
          ]
        },
        {
          "name": "stderr",
          "output_type": "stream",
          "text": [
            "[I 2024-09-08 14:25:51,605] Trial 31 pruned. \n"
          ]
        },
        {
          "name": "stdout",
          "output_type": "stream",
          "text": [
            "Error in trial with grid=3, k=7, width=[[36, 0], [29, 0], [1, 0]]. Error: \n",
            "checkpoint directory created: ./model\n",
            "saving model version 0.0\n"
          ]
        },
        {
          "name": "stderr",
          "output_type": "stream",
          "text": [
            "[I 2024-09-08 14:30:13,946] Trial 32 pruned. \n"
          ]
        },
        {
          "name": "stdout",
          "output_type": "stream",
          "text": [
            "Error in trial with grid=5, k=9, width=[[36, 0], [17, 0], [1, 0]]. Error: \n",
            "checkpoint directory created: ./model\n",
            "saving model version 0.0\n",
            "Early stopping at step 480 due to lack of improvement in R².\n",
            "Error in trial with grid=34, k=6, width=[[36, 0], [14, 0], [1, 0]]. Error: \n"
          ]
        },
        {
          "name": "stderr",
          "output_type": "stream",
          "text": [
            "[I 2024-09-08 14:34:15,755] Trial 33 pruned. \n"
          ]
        },
        {
          "name": "stdout",
          "output_type": "stream",
          "text": [
            "checkpoint directory created: ./model\n",
            "saving model version 0.0\n"
          ]
        },
        {
          "name": "stderr",
          "output_type": "stream",
          "text": [
            "[I 2024-09-08 14:37:59,706] Trial 34 pruned. \n"
          ]
        },
        {
          "name": "stdout",
          "output_type": "stream",
          "text": [
            "Early stopping at step 430 due to lack of improvement in R².\n",
            "Error in trial with grid=7, k=2, width=[[36, 0], [21, 0], [1, 0]]. Error: \n",
            "checkpoint directory created: ./model\n",
            "saving model version 0.0\n",
            "Early stopping at step 440 due to lack of improvement in R².\n"
          ]
        },
        {
          "name": "stderr",
          "output_type": "stream",
          "text": [
            "[I 2024-09-08 14:48:33,699] Trial 35 pruned. \n"
          ]
        },
        {
          "name": "stdout",
          "output_type": "stream",
          "text": [
            "Error in trial with grid=20, k=12, width=[[36, 0], [36, 0], [1, 0]]. Error: \n",
            "checkpoint directory created: ./model\n",
            "saving model version 0.0\n",
            "Early stopping at step 370 due to lack of improvement in R².\n"
          ]
        },
        {
          "name": "stderr",
          "output_type": "stream",
          "text": [
            "[I 2024-09-08 14:57:50,170] Trial 36 pruned. \n"
          ]
        },
        {
          "name": "stdout",
          "output_type": "stream",
          "text": [
            "Error in trial with grid=30, k=25, width=[[36, 0], [15, 0], [1, 0]]. Error: \n",
            "checkpoint directory created: ./model\n",
            "saving model version 0.0\n"
          ]
        },
        {
          "name": "stderr",
          "output_type": "stream",
          "text": [
            "[I 2024-09-08 15:34:24,532] Trial 37 pruned. \n"
          ]
        },
        {
          "name": "stdout",
          "output_type": "stream",
          "text": [
            "Error in trial with grid=33, k=34, width=[[36, 0], [30, 0], [1, 0]]. Error: \n",
            "checkpoint directory created: ./model\n",
            "saving model version 0.0\n"
          ]
        },
        {
          "name": "stderr",
          "output_type": "stream",
          "text": [
            "[I 2024-09-08 15:36:53,027] Trial 38 pruned. \n"
          ]
        },
        {
          "name": "stdout",
          "output_type": "stream",
          "text": [
            "Error in trial with grid=25, k=14, width=[[36, 0], [3, 0], [1, 0]]. Error: \n",
            "checkpoint directory created: ./model\n",
            "saving model version 0.0\n"
          ]
        },
        {
          "name": "stderr",
          "output_type": "stream",
          "text": [
            "[I 2024-09-08 15:41:01,357] Trial 39 pruned. \n"
          ]
        },
        {
          "name": "stdout",
          "output_type": "stream",
          "text": [
            "Error in trial with grid=16, k=21, width=[[36, 0], [5, 0], [1, 0]]. Error: \n",
            "checkpoint directory created: ./model\n",
            "saving model version 0.0\n"
          ]
        },
        {
          "name": "stderr",
          "output_type": "stream",
          "text": [
            "[I 2024-09-08 15:43:30,439] Trial 40 pruned. \n"
          ]
        },
        {
          "name": "stdout",
          "output_type": "stream",
          "text": [
            "Error in trial with grid=17, k=9, width=[[36, 0], [8, 0], [1, 0]]. Error: \n",
            "checkpoint directory created: ./model\n",
            "saving model version 0.0\n",
            "Reached desired R² of 0.65 at step 190. Stopping early.\n"
          ]
        },
        {
          "name": "stderr",
          "output_type": "stream",
          "text": [
            "[I 2024-09-08 15:46:18,577] Trial 41 finished with value: 0.6546183689824097 and parameters: {'grid': 22, 'k': 4, 'width': '[31]'}. Best is trial 41 with value: 0.6546183689824097.\n"
          ]
        },
        {
          "name": "stdout",
          "output_type": "stream",
          "text": [
            "checkpoint directory created: ./model\n",
            "saving model version 0.0\n",
            "Early stopping at step 350 due to lack of improvement in R².\n"
          ]
        },
        {
          "name": "stderr",
          "output_type": "stream",
          "text": [
            "[I 2024-09-08 15:53:22,667] Trial 42 pruned. \n"
          ]
        },
        {
          "name": "stdout",
          "output_type": "stream",
          "text": [
            "Error in trial with grid=22, k=10, width=[[36, 0], [32, 0], [1, 0]]. Error: \n",
            "checkpoint directory created: ./model\n",
            "saving model version 0.0\n",
            "Early stopping at step 270 due to lack of improvement in R².\n"
          ]
        },
        {
          "name": "stderr",
          "output_type": "stream",
          "text": [
            "[I 2024-09-08 15:57:29,938] Trial 43 pruned. \n"
          ]
        },
        {
          "name": "stdout",
          "output_type": "stream",
          "text": [
            "Error in trial with grid=31, k=4, width=[[36, 0], [31, 0], [1, 0]]. Error: \n",
            "checkpoint directory created: ./model\n",
            "saving model version 0.0\n"
          ]
        },
        {
          "name": "stderr",
          "output_type": "stream",
          "text": [
            "[I 2024-09-08 16:18:21,726] Trial 44 pruned. \n"
          ]
        },
        {
          "name": "stdout",
          "output_type": "stream",
          "text": [
            "Error in trial with grid=3, k=30, width=[[36, 0], [31, 0], [1, 0]]. Error: \n",
            "checkpoint directory created: ./model\n",
            "saving model version 0.0\n"
          ]
        },
        {
          "name": "stderr",
          "output_type": "stream",
          "text": [
            "[I 2024-09-08 16:22:03,570] Trial 45 pruned. \n"
          ]
        },
        {
          "name": "stdout",
          "output_type": "stream",
          "text": [
            "Early stopping at step 350 due to lack of improvement in R².\n",
            "Error in trial with grid=27, k=11, width=[[36, 0], [16, 0], [1, 0]]. Error: \n",
            "checkpoint directory created: ./model\n",
            "saving model version 0.0\n",
            "Early stopping at step 440 due to lack of improvement in R².\n"
          ]
        },
        {
          "name": "stderr",
          "output_type": "stream",
          "text": [
            "[I 2024-09-08 16:30:41,541] Trial 46 pruned. \n"
          ]
        },
        {
          "name": "stdout",
          "output_type": "stream",
          "text": [
            "Error in trial with grid=2, k=20, width=[[36, 0], [28, 0], [1, 0]]. Error: \n",
            "checkpoint directory created: ./model\n",
            "saving model version 0.0\n"
          ]
        },
        {
          "name": "stderr",
          "output_type": "stream",
          "text": [
            "[I 2024-09-08 16:33:07,062] Trial 47 pruned. \n"
          ]
        },
        {
          "name": "stdout",
          "output_type": "stream",
          "text": [
            "Early stopping at step 450 due to lack of improvement in R².\n",
            "Error in trial with grid=24, k=4, width=[[36, 0], [12, 0], [1, 0]]. Error: \n",
            "checkpoint directory created: ./model\n",
            "saving model version 0.0\n"
          ]
        },
        {
          "name": "stderr",
          "output_type": "stream",
          "text": [
            "[I 2024-09-08 16:39:56,261] Trial 48 pruned. \n"
          ]
        },
        {
          "name": "stdout",
          "output_type": "stream",
          "text": [
            "Early stopping at step 480 due to lack of improvement in R².\n",
            "Error in trial with grid=18, k=22, width=[[36, 0], [14, 0], [1, 0]]. Error: \n",
            "checkpoint directory created: ./model\n",
            "saving model version 0.0\n",
            "Early stopping at step 390 due to lack of improvement in R².\n"
          ]
        },
        {
          "name": "stderr",
          "output_type": "stream",
          "text": [
            "[I 2024-09-08 16:54:12,623] Trial 49 pruned. \n"
          ]
        },
        {
          "name": "stdout",
          "output_type": "stream",
          "text": [
            "Error in trial with grid=22, k=32, width=[[36, 0], [24, 0], [1, 0]]. Error: \n",
            "checkpoint directory created: ./model\n",
            "saving model version 0.0\n",
            "Early stopping at step 280 due to lack of improvement in R².\n"
          ]
        },
        {
          "name": "stderr",
          "output_type": "stream",
          "text": [
            "[I 2024-09-08 16:58:13,130] Trial 50 pruned. \n"
          ]
        },
        {
          "name": "stdout",
          "output_type": "stream",
          "text": [
            "Error in trial with grid=23, k=3, width=[[36, 0], [35, 0], [1, 0]]. Error: \n",
            "checkpoint directory created: ./model\n",
            "saving model version 0.0\n"
          ]
        },
        {
          "name": "stderr",
          "output_type": "stream",
          "text": [
            "[I 2024-09-08 17:01:33,754] Trial 51 pruned. \n"
          ]
        },
        {
          "name": "stdout",
          "output_type": "stream",
          "text": [
            "Early stopping at step 320 due to lack of improvement in R².\n",
            "Error in trial with grid=29, k=4, width=[[36, 0], [24, 0], [1, 0]]. Error: \n",
            "checkpoint directory created: ./model\n",
            "saving model version 0.0\n"
          ]
        },
        {
          "name": "stderr",
          "output_type": "stream",
          "text": [
            "[I 2024-09-08 17:09:07,266] Trial 52 pruned. \n"
          ]
        },
        {
          "name": "stdout",
          "output_type": "stream",
          "text": [
            "Error in trial with grid=14, k=13, width=[[36, 0], [26, 0], [1, 0]]. Error: \n",
            "checkpoint directory created: ./model\n",
            "saving model version 0.0\n"
          ]
        },
        {
          "name": "stderr",
          "output_type": "stream",
          "text": [
            "[I 2024-09-08 17:12:59,398] Trial 53 pruned. \n"
          ]
        },
        {
          "name": "stdout",
          "output_type": "stream",
          "text": [
            "Error in trial with grid=22, k=27, width=[[36, 0], [2, 0], [1, 0]]. Error: \n",
            "checkpoint directory created: ./model\n",
            "saving model version 0.0\n",
            "Early stopping at step 320 due to lack of improvement in R².\n"
          ]
        },
        {
          "name": "stderr",
          "output_type": "stream",
          "text": [
            "[I 2024-09-08 17:19:34,611] Trial 54 pruned. \n"
          ]
        },
        {
          "name": "stdout",
          "output_type": "stream",
          "text": [
            "Error in trial with grid=27, k=11, width=[[36, 0], [33, 0], [1, 0]]. Error: \n",
            "checkpoint directory created: ./model\n",
            "saving model version 0.0\n",
            "Early stopping at step 380 due to lack of improvement in R².\n"
          ]
        },
        {
          "name": "stderr",
          "output_type": "stream",
          "text": [
            "[I 2024-09-08 17:35:19,008] Trial 55 pruned. \n"
          ]
        },
        {
          "name": "stdout",
          "output_type": "stream",
          "text": [
            "Error in trial with grid=22, k=26, width=[[36, 0], [35, 0], [1, 0]]. Error: \n",
            "checkpoint directory created: ./model\n",
            "saving model version 0.0\n"
          ]
        },
        {
          "name": "stderr",
          "output_type": "stream",
          "text": [
            "[I 2024-09-08 17:44:00,484] Trial 56 pruned. \n"
          ]
        },
        {
          "name": "stdout",
          "output_type": "stream",
          "text": [
            "Error in trial with grid=21, k=31, width=[[36, 0], [9, 0], [1, 0]]. Error: \n",
            "checkpoint directory created: ./model\n",
            "saving model version 0.0\n"
          ]
        },
        {
          "name": "stderr",
          "output_type": "stream",
          "text": [
            "[I 2024-09-08 17:53:11,761] Trial 57 pruned. \n"
          ]
        },
        {
          "name": "stdout",
          "output_type": "stream",
          "text": [
            "Error in trial with grid=24, k=22, width=[[36, 0], [18, 0], [1, 0]]. Error: \n",
            "checkpoint directory created: ./model\n",
            "saving model version 0.0\n",
            "Early stopping at step 490 due to lack of improvement in R².\n"
          ]
        },
        {
          "name": "stderr",
          "output_type": "stream",
          "text": [
            "[I 2024-09-08 18:01:26,199] Trial 58 pruned. \n"
          ]
        },
        {
          "name": "stdout",
          "output_type": "stream",
          "text": [
            "Error in trial with grid=2, k=17, width=[[36, 0], [28, 0], [1, 0]]. Error: \n",
            "checkpoint directory created: ./model\n",
            "saving model version 0.0\n"
          ]
        },
        {
          "name": "stderr",
          "output_type": "stream",
          "text": [
            "[I 2024-09-08 18:06:33,611] Trial 59 pruned. \n"
          ]
        },
        {
          "name": "stdout",
          "output_type": "stream",
          "text": [
            "Error in trial with grid=9, k=28, width=[[36, 0], [6, 0], [1, 0]]. Error: \n",
            "checkpoint directory created: ./model\n",
            "saving model version 0.0\n"
          ]
        },
        {
          "name": "stderr",
          "output_type": "stream",
          "text": [
            "[I 2024-09-08 18:23:22,007] Trial 60 pruned. \n"
          ]
        },
        {
          "name": "stdout",
          "output_type": "stream",
          "text": [
            "Error in trial with grid=10, k=24, width=[[36, 0], [34, 0], [1, 0]]. Error: \n",
            "checkpoint directory created: ./model\n",
            "saving model version 0.0\n"
          ]
        },
        {
          "name": "stderr",
          "output_type": "stream",
          "text": [
            "[I 2024-09-08 18:32:33,897] Trial 61 pruned. \n"
          ]
        },
        {
          "name": "stdout",
          "output_type": "stream",
          "text": [
            "Error in trial with grid=12, k=30, width=[[36, 0], [12, 0], [1, 0]]. Error: \n",
            "checkpoint directory created: ./model\n",
            "saving model version 0.0\n"
          ]
        },
        {
          "name": "stderr",
          "output_type": "stream",
          "text": [
            "[I 2024-09-08 18:38:18,534] Trial 62 pruned. \n"
          ]
        },
        {
          "name": "stdout",
          "output_type": "stream",
          "text": [
            "Error in trial with grid=18, k=19, width=[[36, 0], [13, 0], [1, 0]]. Error: \n",
            "checkpoint directory created: ./model\n",
            "saving model version 0.0\n"
          ]
        },
        {
          "name": "stderr",
          "output_type": "stream",
          "text": [
            "[I 2024-09-08 18:41:09,751] Trial 63 pruned. \n"
          ]
        },
        {
          "name": "stdout",
          "output_type": "stream",
          "text": [
            "Early stopping at step 480 due to lack of improvement in R².\n",
            "Error in trial with grid=19, k=4, width=[[36, 0], [14, 0], [1, 0]]. Error: \n",
            "checkpoint directory created: ./model\n",
            "saving model version 0.0\n"
          ]
        },
        {
          "name": "stderr",
          "output_type": "stream",
          "text": [
            "[I 2024-09-08 18:41:42,599] Trial 64 pruned. \n"
          ]
        },
        {
          "name": "stdout",
          "output_type": "stream",
          "text": [
            "Error in trial with grid=3, k=8, width=[[36, 0], [1, 0], [1, 0]]. Error: \n",
            "checkpoint directory created: ./model\n",
            "saving model version 0.0\n"
          ]
        },
        {
          "name": "stderr",
          "output_type": "stream",
          "text": [
            "[I 2024-09-08 18:49:43,158] Trial 65 pruned. \n"
          ]
        },
        {
          "name": "stdout",
          "output_type": "stream",
          "text": [
            "Error in trial with grid=8, k=16, width=[[36, 0], [26, 0], [1, 0]]. Error: \n",
            "checkpoint directory created: ./model\n",
            "saving model version 0.0\n"
          ]
        },
        {
          "name": "stderr",
          "output_type": "stream",
          "text": [
            "[I 2024-09-08 18:52:24,360] Trial 66 pruned. \n"
          ]
        },
        {
          "name": "stdout",
          "output_type": "stream",
          "text": [
            "Error in trial with grid=6, k=9, width=[[36, 0], [11, 0], [1, 0]]. Error: \n",
            "checkpoint directory created: ./model\n",
            "saving model version 0.0\n"
          ]
        },
        {
          "name": "stderr",
          "output_type": "stream",
          "text": [
            "[I 2024-09-08 19:12:01,151] Trial 67 pruned. \n"
          ]
        },
        {
          "name": "stdout",
          "output_type": "stream",
          "text": [
            "Error in trial with grid=28, k=35, width=[[36, 0], [20, 0], [1, 0]]. Error: \n",
            "checkpoint directory created: ./model\n",
            "saving model version 0.0\n"
          ]
        },
        {
          "name": "stderr",
          "output_type": "stream",
          "text": [
            "[I 2024-09-08 19:16:43,367] Trial 68 pruned. \n"
          ]
        },
        {
          "name": "stdout",
          "output_type": "stream",
          "text": [
            "Error in trial with grid=13, k=29, width=[[36, 0], [4, 0], [1, 0]]. Error: \n",
            "checkpoint directory created: ./model\n",
            "saving model version 0.0\n"
          ]
        },
        {
          "name": "stderr",
          "output_type": "stream",
          "text": [
            "[I 2024-09-08 19:20:10,999] Trial 69 pruned. \n"
          ]
        },
        {
          "name": "stdout",
          "output_type": "stream",
          "text": [
            "Early stopping at step 340 due to lack of improvement in R².\n",
            "Error in trial with grid=35, k=5, width=[[36, 0], [22, 0], [1, 0]]. Error: \n",
            "checkpoint directory created: ./model\n",
            "saving model version 0.0\n"
          ]
        },
        {
          "name": "stderr",
          "output_type": "stream",
          "text": [
            "[I 2024-09-08 19:36:05,086] Trial 70 pruned. \n"
          ]
        },
        {
          "name": "stdout",
          "output_type": "stream",
          "text": [
            "Error in trial with grid=18, k=27, width=[[36, 0], [27, 0], [1, 0]]. Error: \n",
            "checkpoint directory created: ./model\n",
            "saving model version 0.0\n"
          ]
        },
        {
          "name": "stderr",
          "output_type": "stream",
          "text": [
            "[I 2024-09-08 19:39:47,651] Trial 71 pruned. \n"
          ]
        },
        {
          "name": "stdout",
          "output_type": "stream",
          "text": [
            "Error in trial with grid=2, k=13, width=[[36, 0], [14, 0], [1, 0]]. Error: \n",
            "checkpoint directory created: ./model\n",
            "saving model version 0.0\n"
          ]
        },
        {
          "name": "stderr",
          "output_type": "stream",
          "text": [
            "[I 2024-09-08 19:47:49,778] Trial 72 pruned. \n"
          ]
        },
        {
          "name": "stdout",
          "output_type": "stream",
          "text": [
            "Error in trial with grid=15, k=15, width=[[36, 0], [25, 0], [1, 0]]. Error: \n",
            "checkpoint directory created: ./model\n",
            "saving model version 0.0\n"
          ]
        },
        {
          "name": "stderr",
          "output_type": "stream",
          "text": [
            "[I 2024-09-08 19:53:31,802] Trial 73 pruned. \n"
          ]
        },
        {
          "name": "stdout",
          "output_type": "stream",
          "text": [
            "Early stopping at step 310 due to lack of improvement in R².\n",
            "Error in trial with grid=34, k=18, width=[[36, 0], [19, 0], [1, 0]]. Error: \n",
            "checkpoint directory created: ./model\n",
            "saving model version 0.0\n",
            "Early stopping at step 280 due to lack of improvement in R².\n"
          ]
        },
        {
          "name": "stderr",
          "output_type": "stream",
          "text": [
            "[I 2024-09-08 20:08:57,350] Trial 74 pruned. \n"
          ]
        },
        {
          "name": "stdout",
          "output_type": "stream",
          "text": [
            "Error in trial with grid=32, k=33, width=[[36, 0], [31, 0], [1, 0]]. Error: \n",
            "checkpoint directory created: ./model\n",
            "saving model version 0.0\n"
          ]
        },
        {
          "name": "stderr",
          "output_type": "stream",
          "text": [
            "[I 2024-09-08 20:16:54,491] Trial 75 pruned. \n"
          ]
        },
        {
          "name": "stdout",
          "output_type": "stream",
          "text": [
            "Error in trial with grid=11, k=30, width=[[36, 0], [10, 0], [1, 0]]. Error: \n",
            "checkpoint directory created: ./model\n",
            "saving model version 0.0\n"
          ]
        },
        {
          "name": "stderr",
          "output_type": "stream",
          "text": [
            "[I 2024-09-08 20:22:48,125] Trial 76 pruned. \n"
          ]
        },
        {
          "name": "stdout",
          "output_type": "stream",
          "text": [
            "Error in trial with grid=4, k=6, width=[[36, 0], [29, 0], [1, 0]]. Error: \n",
            "checkpoint directory created: ./model\n",
            "saving model version 0.0\n"
          ]
        },
        {
          "name": "stderr",
          "output_type": "stream",
          "text": [
            "[I 2024-09-08 20:32:27,229] Trial 77 pruned. \n"
          ]
        },
        {
          "name": "stdout",
          "output_type": "stream",
          "text": [
            "Error in trial with grid=5, k=23, width=[[36, 0], [24, 0], [1, 0]]. Error: \n",
            "checkpoint directory created: ./model\n",
            "saving model version 0.0\n"
          ]
        },
        {
          "name": "stderr",
          "output_type": "stream",
          "text": [
            "[I 2024-09-08 20:36:17,837] Trial 78 pruned. \n"
          ]
        },
        {
          "name": "stdout",
          "output_type": "stream",
          "text": [
            "Error in trial with grid=7, k=11, width=[[36, 0], [15, 0], [1, 0]]. Error: \n",
            "checkpoint directory created: ./model\n",
            "saving model version 0.0\n"
          ]
        },
        {
          "name": "stderr",
          "output_type": "stream",
          "text": [
            "[I 2024-09-08 20:38:48,933] Trial 79 pruned. \n"
          ]
        },
        {
          "name": "stdout",
          "output_type": "stream",
          "text": [
            "Error in trial with grid=2, k=7, width=[[36, 0], [12, 0], [1, 0]]. Error: \n",
            "checkpoint directory created: ./model\n",
            "saving model version 0.0\n"
          ]
        },
        {
          "name": "stderr",
          "output_type": "stream",
          "text": [
            "[I 2024-09-08 20:41:30,468] Trial 80 pruned. \n"
          ]
        },
        {
          "name": "stdout",
          "output_type": "stream",
          "text": [
            "Early stopping at step 300 due to lack of improvement in R².\n",
            "Error in trial with grid=26, k=2, width=[[36, 0], [23, 0], [1, 0]]. Error: \n",
            "checkpoint directory created: ./model\n",
            "saving model version 0.0\n"
          ]
        },
        {
          "name": "stderr",
          "output_type": "stream",
          "text": [
            "[I 2024-09-08 20:42:13,729] Trial 81 pruned. \n"
          ]
        },
        {
          "name": "stdout",
          "output_type": "stream",
          "text": [
            "Error in trial with grid=22, k=4, width=[[36, 0], [2, 0], [1, 0]]. Error: \n",
            "checkpoint directory created: ./model\n",
            "saving model version 0.0\n"
          ]
        },
        {
          "name": "stderr",
          "output_type": "stream",
          "text": [
            "[I 2024-09-08 20:46:22,314] Trial 82 pruned. \n"
          ]
        },
        {
          "name": "stdout",
          "output_type": "stream",
          "text": [
            "Early stopping at step 370 due to lack of improvement in R².\n",
            "Error in trial with grid=30, k=12, width=[[36, 0], [17, 0], [1, 0]]. Error: \n",
            "checkpoint directory created: ./model\n",
            "saving model version 0.0\n"
          ]
        },
        {
          "name": "stderr",
          "output_type": "stream",
          "text": [
            "[I 2024-09-08 20:47:50,308] Trial 83 pruned. \n"
          ]
        },
        {
          "name": "stdout",
          "output_type": "stream",
          "text": [
            "Early stopping at step 450 due to lack of improvement in R².\n",
            "Error in trial with grid=20, k=4, width=[[36, 0], [7, 0], [1, 0]]. Error: \n",
            "checkpoint directory created: ./model\n",
            "saving model version 0.0\n",
            "Early stopping at step 360 due to lack of improvement in R².\n"
          ]
        },
        {
          "name": "stderr",
          "output_type": "stream",
          "text": [
            "[I 2024-09-08 21:02:15,452] Trial 84 pruned. \n"
          ]
        },
        {
          "name": "stdout",
          "output_type": "stream",
          "text": [
            "Error in trial with grid=22, k=25, width=[[36, 0], [36, 0], [1, 0]]. Error: \n",
            "checkpoint directory created: ./model\n",
            "saving model version 0.0\n",
            "Early stopping at step 310 due to lack of improvement in R².\n"
          ]
        },
        {
          "name": "stderr",
          "output_type": "stream",
          "text": [
            "[I 2024-09-08 21:21:58,464] Trial 85 pruned. \n"
          ]
        },
        {
          "name": "stdout",
          "output_type": "stream",
          "text": [
            "Error in trial with grid=27, k=34, width=[[36, 0], [30, 0], [1, 0]]. Error: \n",
            "checkpoint directory created: ./model\n",
            "saving model version 0.0\n",
            "Early stopping at step 380 due to lack of improvement in R².\n"
          ]
        },
        {
          "name": "stderr",
          "output_type": "stream",
          "text": [
            "[I 2024-09-08 21:30:57,928] Trial 86 pruned. \n"
          ]
        },
        {
          "name": "stdout",
          "output_type": "stream",
          "text": [
            "Error in trial with grid=25, k=14, width=[[36, 0], [35, 0], [1, 0]]. Error: \n",
            "checkpoint directory created: ./model\n",
            "saving model version 0.0\n"
          ]
        },
        {
          "name": "stderr",
          "output_type": "stream",
          "text": [
            "[I 2024-09-08 21:36:37,551] Trial 87 pruned. \n"
          ]
        },
        {
          "name": "stdout",
          "output_type": "stream",
          "text": [
            "Early stopping at step 380 due to lack of improvement in R².\n",
            "Error in trial with grid=33, k=13, width=[[36, 0], [21, 0], [1, 0]]. Error: \n",
            "checkpoint directory created: ./model\n",
            "saving model version 0.0\n",
            "Early stopping at step 400 due to lack of improvement in R².\n"
          ]
        },
        {
          "name": "stderr",
          "output_type": "stream",
          "text": [
            "[I 2024-09-08 21:47:36,146] Trial 88 pruned. \n"
          ]
        },
        {
          "name": "stdout",
          "output_type": "stream",
          "text": [
            "Error in trial with grid=24, k=22, width=[[36, 0], [28, 0], [1, 0]]. Error: \n",
            "checkpoint directory created: ./model\n",
            "saving model version 0.0\n"
          ]
        },
        {
          "name": "stderr",
          "output_type": "stream",
          "text": [
            "[I 2024-09-08 21:51:41,673] Trial 89 pruned. \n"
          ]
        },
        {
          "name": "stdout",
          "output_type": "stream",
          "text": [
            "Error in trial with grid=31, k=21, width=[[36, 0], [5, 0], [1, 0]]. Error: \n",
            "checkpoint directory created: ./model\n",
            "saving model version 0.0\n"
          ]
        },
        {
          "name": "stderr",
          "output_type": "stream",
          "text": [
            "[I 2024-09-08 21:53:45,692] Trial 90 pruned. \n"
          ]
        },
        {
          "name": "stdout",
          "output_type": "stream",
          "text": [
            "Error in trial with grid=3, k=10, width=[[36, 0], [8, 0], [1, 0]]. Error: \n",
            "checkpoint directory created: ./model\n",
            "saving model version 0.0\n"
          ]
        },
        {
          "name": "stderr",
          "output_type": "stream",
          "text": [
            "[I 2024-09-08 21:57:25,874] Trial 91 pruned. \n"
          ]
        },
        {
          "name": "stdout",
          "output_type": "stream",
          "text": [
            "Early stopping at step 340 due to lack of improvement in R².\n",
            "Error in trial with grid=29, k=3, width=[[36, 0], [26, 0], [1, 0]]. Error: \n",
            "checkpoint directory created: ./model\n",
            "saving model version 0.0\n"
          ]
        },
        {
          "name": "stderr",
          "output_type": "stream",
          "text": [
            "[I 2024-09-08 22:00:49,160] Trial 92 pruned. \n"
          ]
        },
        {
          "name": "stdout",
          "output_type": "stream",
          "text": [
            "Early stopping at step 330 due to lack of improvement in R².\n",
            "Error in trial with grid=17, k=3, width=[[36, 0], [26, 0], [1, 0]]. Error: \n",
            "checkpoint directory created: ./model\n",
            "saving model version 0.0\n"
          ]
        },
        {
          "name": "stderr",
          "output_type": "stream",
          "text": [
            "[I 2024-09-08 22:01:56,776] Trial 93 pruned. \n"
          ]
        },
        {
          "name": "stdout",
          "output_type": "stream",
          "text": [
            "Error in trial with grid=22, k=9, width=[[36, 0], [2, 0], [1, 0]]. Error: \n",
            "checkpoint directory created: ./model\n",
            "saving model version 0.0\n"
          ]
        },
        {
          "name": "stderr",
          "output_type": "stream",
          "text": [
            "[I 2024-09-08 22:08:07,319] Trial 94 pruned. \n"
          ]
        },
        {
          "name": "stdout",
          "output_type": "stream",
          "text": [
            "Error in trial with grid=2, k=4, width=[[36, 0], [32, 0], [1, 0]]. Error: \n",
            "checkpoint directory created: ./model\n",
            "saving model version 0.0\n"
          ]
        },
        {
          "name": "stderr",
          "output_type": "stream",
          "text": [
            "[I 2024-09-08 22:12:51,474] Trial 95 pruned. \n"
          ]
        },
        {
          "name": "stdout",
          "output_type": "stream",
          "text": [
            "Error in trial with grid=29, k=27, width=[[36, 0], [3, 0], [1, 0]]. Error: \n",
            "checkpoint directory created: ./model\n",
            "saving model version 0.0\n"
          ]
        },
        {
          "name": "stderr",
          "output_type": "stream",
          "text": [
            "[I 2024-09-08 22:19:04,873] Trial 96 pruned. \n"
          ]
        },
        {
          "name": "stdout",
          "output_type": "stream",
          "text": [
            "Error in trial with grid=16, k=20, width=[[36, 0], [14, 0], [1, 0]]. Error: \n",
            "checkpoint directory created: ./model\n",
            "saving model version 0.0\n",
            "Early stopping at step 490 due to lack of improvement in R².\n"
          ]
        },
        {
          "name": "stderr",
          "output_type": "stream",
          "text": [
            "[I 2024-09-08 22:28:56,785] Trial 97 pruned. \n"
          ]
        },
        {
          "name": "stdout",
          "output_type": "stream",
          "text": [
            "Error in trial with grid=23, k=26, width=[[36, 0], [16, 0], [1, 0]]. Error: \n",
            "checkpoint directory created: ./model\n",
            "saving model version 0.0\n"
          ]
        },
        {
          "name": "stderr",
          "output_type": "stream",
          "text": [
            "[I 2024-09-08 22:44:05,464] Trial 98 pruned. \n"
          ]
        },
        {
          "name": "stdout",
          "output_type": "stream",
          "text": [
            "Error in trial with grid=14, k=30, width=[[36, 0], [24, 0], [1, 0]]. Error: \n",
            "checkpoint directory created: ./model\n",
            "saving model version 0.0\n",
            "Early stopping at step 320 due to lack of improvement in R².\n"
          ]
        },
        {
          "name": "stderr",
          "output_type": "stream",
          "text": [
            "[I 2024-09-08 22:50:23,035] Trial 99 pruned. \n"
          ]
        },
        {
          "name": "stdout",
          "output_type": "stream",
          "text": [
            "Error in trial with grid=27, k=11, width=[[36, 0], [33, 0], [1, 0]]. Error: \n",
            "checkpoint directory created: ./model\n",
            "saving model version 0.0\n",
            "Reached desired R² of 0.5 at step 110. Stopping early.\n",
            "Best parameters found by Optuna:\n",
            "{'grid': 22, 'k': 4, 'width': '[31]'}\n",
            "Best R² on test set: 0.5133224073166813\n",
            "Best RMSE on test set: 0.3315507173538208\n"
          ]
        }
      ],
      "source": [
        "import itertools\n",
        "import numpy as np\n",
        "from sklearn.metrics import r2_score, mean_squared_error\n",
        "import torch\n",
        "import optuna\n",
        "\n",
        "# Генерация всех возможных комбинаций ширины сети\n",
        "def generate_width_configs(max_number=20, min_length=1, max_length=1):\n",
        "    width_configs = []\n",
        "    numbers = list(range(1, max_number + 1))\n",
        "    for r in range(min_length, max_length + 1):  # Включаем max_length\n",
        "        for combo in itertools.permutations(numbers, r):\n",
        "            if all(x > 0 for x in combo):\n",
        "                width_configs.append(list(combo))\n",
        "    return width_configs\n",
        "\n",
        "# Обучение модели с усовершенствованной ранней остановкой\n",
        "def train_with_early_stopping(model, train_data, test_data, optimizer, steps, loss_fn, min_r2=0.65, patience=10):\n",
        "    best_r2 = -np.inf  # Лучший R²\n",
        "    patience_counter = 0  # Счетчик терпения\n",
        "\n",
        "    for step in range(steps):\n",
        "        optimizer.zero_grad()\n",
        "        output = model(train_data['train_input'])\n",
        "        loss = loss_fn(output, train_data['train_label'])\n",
        "        loss.backward()\n",
        "        optimizer.step()\n",
        "\n",
        "        # Проверяем каждые 10 шагов\n",
        "        if step % 10 == 0:\n",
        "            with torch.no_grad():\n",
        "                test_output = model(test_data['test_input'])\n",
        "                test_preds = test_output.detach().numpy()\n",
        "                r2 = r2_score(test_data['test_label'].numpy(), test_preds)\n",
        "\n",
        "                # Ранняя остановка на основе улучшения R²\n",
        "                if r2 > best_r2:\n",
        "                    best_r2 = r2\n",
        "                    patience_counter = 0  # Сбрасываем счетчик терпения\n",
        "                else:\n",
        "                    patience_counter += 1\n",
        "\n",
        "                if patience_counter >= patience:\n",
        "                    print(f\"Early stopping at step {step} due to lack of improvement in R².\")\n",
        "                    break\n",
        "\n",
        "                # Останавливаем обучение, если достигнут желаемый R²\n",
        "                if best_r2 >= min_r2:\n",
        "                    print(f\"Reached desired R² of {min_r2} at step {step}. Stopping early.\")\n",
        "                    break\n",
        "\n",
        "    return model\n",
        "\n",
        "def objective(trial):\n",
        "    # Выбор гиперпараметров\n",
        "    grid_val = trial.suggest_categorical('grid', grid_values)\n",
        "    k_val = trial.suggest_categorical('k', k_values)\n",
        "\n",
        "    # Преобразование списка конфигураций ширины в строку для совместимости с Optuna\n",
        "    width_config_str = trial.suggest_categorical('width', width_configs)\n",
        "    width_config = eval(width_config_str)  # Преобразование строки обратно в список\n",
        "    width = [36] + width_config + [1]\n",
        "\n",
        "    try:\n",
        "        # Инициализация модели\n",
        "        model = KAN(width=width, grid=grid_val, k=k_val)\n",
        "\n",
        "        # Использование оптимизатора Adam\n",
        "        optimizer = torch.optim.Adam(model.parameters(), lr=0.001)\n",
        "\n",
        "        # Обучение с ранней остановкой на основе R² и терпения\n",
        "        model = train_with_early_stopping(model,\n",
        "                                          {'train_input': train_input, 'train_label': train_label},\n",
        "                                          {'test_input': test_input, 'test_label': test_label},\n",
        "                                          optimizer, steps=500, loss_fn=torch.nn.MSELoss())\n",
        "\n",
        "        # Предсказание на тесте\n",
        "        test_preds = model(test_input).detach().numpy()\n",
        "\n",
        "        # Оценка метрики R²\n",
        "        r2 = r2_score(test_label.numpy(), test_preds)\n",
        "\n",
        "        # Проверка целевого значения\n",
        "        if r2 < 0.65:\n",
        "            raise optuna.exceptions.TrialPruned()  # Прерываем, если R² меньше порога\n",
        "\n",
        "        return r2\n",
        "\n",
        "    except Exception as e:\n",
        "        print(f\"Error in trial with grid={grid_val}, k={k_val}, width={width}. Error: {e}\")\n",
        "        raise optuna.exceptions.TrialPruned()\n",
        "\n",
        "# Определение гиперпараметров для поиска\n",
        "grid_values = list(range(2, 36))\n",
        "k_values = list(range(2, 36))\n",
        "width_configs = [str(config) for config in generate_width_configs(max_number=36, max_length=1)]\n",
        "\n",
        "# Оптимизация с помощью Optuna\n",
        "study = optuna.create_study(direction='maximize')  # Изменяем направление оптимизации на максимизацию R²\n",
        "study.optimize(objective, n_trials=100)\n",
        "\n",
        "# Получаем лучшие параметры\n",
        "best_trial = study.best_trial\n",
        "best_params = best_trial.params\n",
        "\n",
        "# Повторное обучение с лучшими параметрами\n",
        "best_model = KAN(width=[36] + eval(best_params['width']) + [1], grid=best_params['grid'], k=best_params['k'])\n",
        "best_optimizer = torch.optim.Adam(best_model.parameters(), lr=0.001)\n",
        "best_model = train_with_early_stopping(best_model,\n",
        "                                       {'train_input': train_input, 'train_label': train_label},\n",
        "                                       {'test_input': test_input, 'test_label': test_label},\n",
        "                                       optimizer=best_optimizer,\n",
        "                                       steps=500, loss_fn=torch.nn.MSELoss(),\n",
        "                                       min_r2=0.5, patience=10)\n",
        "\n",
        "# Оценка модели на тестовых данных\n",
        "test_preds = best_model(test_input).detach().numpy()\n",
        "best_r2 = r2_score(test_label.numpy(), test_preds)\n",
        "best_rmse = np.sqrt(mean_squared_error(test_label.numpy(), test_preds))\n",
        "\n",
        "# Вывод лучших параметров и метрик\n",
        "print(\"Best parameters found by Optuna:\")\n",
        "print(best_params)\n",
        "print(f\"Best R² on test set: {best_r2}\")\n",
        "print(f\"Best RMSE on test set: {best_rmse}\")"
      ]
    },
    {
      "cell_type": "markdown",
      "id": "gTjIRTEsEves",
      "metadata": {
        "id": "gTjIRTEsEves"
      },
      "source": [
        "Найдено ранее - неполохо:\n",
        "\n",
        "\n",
        "*  Configuration below threshold: **R² = 0.6288957700769227,** RMSE = 0.28951913118362427, Grid = 2, k = 3, Width = [[36, 0], [4, 0], [11, 0], [1, 0]]\n",
        "* Configuration below threshold: R² = 0.5615338691288727, Grid = 2, k = 3, Width = [[36, 0], [2, 0], [9, 0], [1, 0]]\n",
        "*  Configuration below threshold: R² = 0.46105551926175214, Grid = 2, k = 3, Width = [[36, 0], [2, 0], [11, 0], [1, 0]]"
      ]
    },
    {
      "cell_type": "markdown",
      "id": "QCORUF3VZqeJ",
      "metadata": {
        "id": "QCORUF3VZqeJ"
      },
      "source": [
        "## Проверка Step 380: R² = 0.6833"
      ]
    },
    {
      "cell_type": "code",
      "execution_count": null,
      "id": "sqqk0qIHOUfd",
      "metadata": {
        "colab": {
          "base_uri": "https://localhost:8080/"
        },
        "id": "sqqk0qIHOUfd",
        "outputId": "05010a8c-406b-48e8-97c3-76db54c7c3cb"
      },
      "outputs": [
        {
          "name": "stdout",
          "output_type": "stream",
          "text": [
            "checkpoint directory created: ./model\n",
            "saving model version 0.0\n",
            "Step 0: R² = -23.210226912810864\n",
            "Step 10: R² = -15.833164916983662\n",
            "Step 20: R² = -9.041570546880177\n",
            "Step 30: R² = -4.716498619726252\n",
            "Step 40: R² = -1.4524157808769487\n",
            "Step 50: R² = -0.05990010466913498\n",
            "Step 60: R² = 0.042054602444629885\n",
            "Step 70: R² = 0.19826603430017786\n",
            "Step 80: R² = 0.311116164648471\n",
            "Step 90: R² = 0.3547802848307442\n",
            "Step 100: R² = 0.3750700872661382\n",
            "Step 110: R² = 0.4127332658802819\n",
            "Step 120: R² = 0.4539549080187453\n",
            "Step 130: R² = 0.48895770659958304\n",
            "Step 140: R² = 0.5187086125099012\n",
            "Step 150: R² = 0.5390013076389519\n",
            "Step 160: R² = 0.5565663674689236\n",
            "Step 170: R² = 0.5686450203034034\n",
            "Step 180: R² = 0.5752492923712769\n",
            "Step 190: R² = 0.5821128356092842\n",
            "Step 200: R² = 0.5935795089531506\n",
            "Step 210: R² = 0.6064631455392333\n",
            "Step 220: R² = 0.6181193847105554\n",
            "Step 230: R² = 0.6300897852009149\n",
            "Step 240: R² = 0.6403578878824482\n",
            "Step 250: R² = 0.6561921578889753\n",
            "Step 260: R² = 0.6656074774617288\n",
            "Step 270: R² = 0.665472291538343\n",
            "Step 280: R² = 0.6652615058250643\n",
            "Step 290: R² = 0.6722470125391344\n",
            "Step 300: R² = 0.6763914158917681\n",
            "Step 310: R² = 0.6753488384389295\n",
            "Step 320: R² = 0.6792373303335404\n",
            "Step 330: R² = 0.6792508189607325\n",
            "Step 340: R² = 0.6845566856692082\n",
            "Step 350: R² = 0.685715167705093\n",
            "Step 360: R² = 0.679602039408089\n",
            "Step 370: R² = 0.6829263085813935\n",
            "Step 380: R² = 0.6833049609620372\n",
            "Step 390: R² = 0.682468012188247\n",
            "Step 400: R² = 0.6814115731409571\n",
            "Step 410: R² = 0.6828623460610731\n",
            "Step 420: R² = 0.6799986424940633\n",
            "Step 430: R² = 0.6800608531804295\n",
            "Step 440: R² = 0.6823824723314638\n",
            "Step 450: R² = 0.6778873538745938\n",
            "Step 460: R² = 0.6776818394069093\n",
            "Step 470: R² = 0.6805240063225726\n",
            "Step 480: R² = 0.6779559844377665\n",
            "Step 490: R² = 0.6703484288085619\n",
            "Final R² on test set: 0.6782374252574479\n",
            "Final RMSE on test set: 0.26958584785461426\n"
          ]
        }
      ],
      "source": [
        "import torch\n",
        "import numpy as np\n",
        "from sklearn.metrics import r2_score, mean_squared_error\n",
        "import random\n",
        "\n",
        "# Фиксация случайных чисел\n",
        "def set_seed(seed=1984):\n",
        "    random.seed(seed)\n",
        "    np.random.seed(seed)\n",
        "    torch.manual_seed(seed)\n",
        "    if torch.cuda.is_available():\n",
        "        torch.cuda.manual_seed(seed)\n",
        "        torch.cuda.manual_seed_all(seed)\n",
        "    torch.backends.cudnn.deterministic = True\n",
        "    torch.backends.cudnn.benchmark = False\n",
        "\n",
        "set_seed(1984)\n",
        "\n",
        "# Предполагается, что KAN, train_input, train_label, test_input, test_label уже определены\n",
        "\n",
        "# Найденные параметры\n",
        "best_grid = 22\n",
        "best_k = 15\n",
        "best_width = [36, 19, 10, 1]  # Добавляем [36] в начало и [1] в конец\n",
        "\n",
        "# Инициализация модели с лучшими параметрами\n",
        "best_model = KAN(width=best_width, grid=best_grid, k=best_k)\n",
        "\n",
        "# Использование оптимизатора Adam (такой как в процессе поиска Optuna)\n",
        "optimizer = torch.optim.Adam(best_model.parameters(), lr=0.00115)\n",
        "\n",
        "# Функция для обучения модели с ранней остановкой\n",
        "def train_with_early_stopping(model, train_input, train_label, test_input, test_label, optimizer, steps, target_r2=0.7):\n",
        "    best_r2 = -np.inf  # Изначально лучший R² = -inf\n",
        "\n",
        "    for step in range(steps):\n",
        "        optimizer.zero_grad()\n",
        "        output = model(train_input)\n",
        "        loss = torch.nn.MSELoss()(output, train_label)\n",
        "        loss.backward()\n",
        "        optimizer.step()\n",
        "\n",
        "        # Проверяем R² на тесте каждые 10 шагов\n",
        "        if step % 10 == 0:\n",
        "            with torch.no_grad():\n",
        "                test_output = model(test_input)\n",
        "                test_preds = test_output.detach().numpy()\n",
        "                r2 = r2_score(test_label.numpy(), test_preds)\n",
        "                print(f\"Step {step}: R² = {r2}\")\n",
        "\n",
        "                if r2 > best_r2:\n",
        "                    best_r2 = r2\n",
        "\n",
        "                # Ранняя остановка, если достигнут желаемый R²\n",
        "                if best_r2 >= target_r2:\n",
        "                    print(f\"Reached desired R² of {target_r2} at step {step}. Stopping early.\")\n",
        "                    break\n",
        "\n",
        "    return model\n",
        "\n",
        "# Обучение модели (270 шагов с ранней остановкой)\n",
        "trained_model = train_with_early_stopping(best_model, train_input, train_label, test_input, test_label, optimizer, steps=500)\n",
        "\n",
        "# Оценка на тестовых данных\n",
        "with torch.no_grad():\n",
        "    test_preds = trained_model(test_input).detach().numpy()\n",
        "    best_r2 = r2_score(test_label.numpy(), test_preds)\n",
        "    best_rmse = np.sqrt(mean_squared_error(test_label.numpy(), test_preds))\n",
        "\n",
        "print(f\"Final R² on test set: {best_r2}\")\n",
        "print(f\"Final RMSE on test set: {best_rmse}\")"
      ]
    },
    {
      "cell_type": "markdown",
      "id": "IgN1qR6TjcOw",
      "metadata": {
        "id": "IgN1qR6TjcOw"
      },
      "source": [
        "# SHAP"
      ]
    },
    {
      "cell_type": "code",
      "execution_count": null,
      "id": "yi6W1-Iyzmgf",
      "metadata": {
        "colab": {
          "base_uri": "https://localhost:8080/"
        },
        "id": "yi6W1-Iyzmgf",
        "outputId": "d0a3bb59-c2cb-47b6-ce9f-06fcc8cb1352"
      },
      "outputs": [
        {
          "name": "stdout",
          "output_type": "stream",
          "text": [
            "Collecting shap\n",
            "  Downloading shap-0.46.0-cp310-cp310-manylinux_2_12_x86_64.manylinux2010_x86_64.manylinux_2_17_x86_64.manylinux2014_x86_64.whl.metadata (24 kB)\n",
            "Requirement already satisfied: numpy in /usr/local/lib/python3.10/dist-packages (from shap) (1.26.4)\n",
            "Requirement already satisfied: scipy in /usr/local/lib/python3.10/dist-packages (from shap) (1.13.1)\n",
            "Requirement already satisfied: scikit-learn in /usr/local/lib/python3.10/dist-packages (from shap) (1.3.2)\n",
            "Requirement already satisfied: pandas in /usr/local/lib/python3.10/dist-packages (from shap) (2.1.4)\n",
            "Requirement already satisfied: tqdm>=4.27.0 in /usr/local/lib/python3.10/dist-packages (from shap) (4.66.5)\n",
            "Requirement already satisfied: packaging>20.9 in /usr/local/lib/python3.10/dist-packages (from shap) (24.1)\n",
            "Collecting slicer==0.0.8 (from shap)\n",
            "  Downloading slicer-0.0.8-py3-none-any.whl.metadata (4.0 kB)\n",
            "Requirement already satisfied: numba in /usr/local/lib/python3.10/dist-packages (from shap) (0.60.0)\n",
            "Requirement already satisfied: cloudpickle in /usr/local/lib/python3.10/dist-packages (from shap) (2.2.1)\n",
            "Requirement already satisfied: llvmlite<0.44,>=0.43.0dev0 in /usr/local/lib/python3.10/dist-packages (from numba->shap) (0.43.0)\n",
            "Requirement already satisfied: python-dateutil>=2.8.2 in /usr/local/lib/python3.10/dist-packages (from pandas->shap) (2.8.2)\n",
            "Requirement already satisfied: pytz>=2020.1 in /usr/local/lib/python3.10/dist-packages (from pandas->shap) (2024.1)\n",
            "Requirement already satisfied: tzdata>=2022.1 in /usr/local/lib/python3.10/dist-packages (from pandas->shap) (2024.1)\n",
            "Requirement already satisfied: joblib>=1.1.1 in /usr/local/lib/python3.10/dist-packages (from scikit-learn->shap) (1.4.2)\n",
            "Requirement already satisfied: threadpoolctl>=2.0.0 in /usr/local/lib/python3.10/dist-packages (from scikit-learn->shap) (3.5.0)\n",
            "Requirement already satisfied: six>=1.5 in /usr/local/lib/python3.10/dist-packages (from python-dateutil>=2.8.2->pandas->shap) (1.16.0)\n",
            "Downloading shap-0.46.0-cp310-cp310-manylinux_2_12_x86_64.manylinux2010_x86_64.manylinux_2_17_x86_64.manylinux2014_x86_64.whl (540 kB)\n",
            "\u001b[?25l   \u001b[90m━━━━━━━━━━━━━━━━━━━━━━━━━━━━━━━━━━━━━━━━\u001b[0m \u001b[32m0.0/540.1 kB\u001b[0m \u001b[31m?\u001b[0m eta \u001b[36m-:--:--\u001b[0m\r\u001b[2K   \u001b[90m━━━━━━━━━━━━━━━━━━━━━━━━━━━━━━━━━━━━━━━━\u001b[0m \u001b[32m540.1/540.1 kB\u001b[0m \u001b[31m34.6 MB/s\u001b[0m eta \u001b[36m0:00:00\u001b[0m\n",
            "\u001b[?25hDownloading slicer-0.0.8-py3-none-any.whl (15 kB)\n",
            "Installing collected packages: slicer, shap\n",
            "Successfully installed shap-0.46.0 slicer-0.0.8\n"
          ]
        }
      ],
      "source": [
        "!pip install shap"
      ]
    },
    {
      "cell_type": "code",
      "execution_count": null,
      "id": "AAtKMS-KoE-W",
      "metadata": {
        "colab": {
          "base_uri": "https://localhost:8080/",
          "height": 974
        },
        "id": "AAtKMS-KoE-W",
        "outputId": "7925d4cf-26ed-46d3-9aca-c598ca2e1638"
      },
      "outputs": [
        {
          "name": "stdout",
          "output_type": "stream",
          "text": [
            "Shape of SHAP values: (196, 36, 1)\n",
            "Shape of test data: (196, 36)\n"
          ]
        },
        {
          "data": {
            "image/png": "[encoded data removed]",
            "text/plain": [
              "<Figure size 800x950 with 2 Axes>"
            ]
          },
          "metadata": {},
          "output_type": "display_data"
        }
      ],
      "source": [
        "import shap\n",
        "import torch\n",
        "import numpy as np\n",
        "import matplotlib.pyplot as plt\n",
        "\n",
        "# Переход в режим оценки модели\n",
        "best_model.eval()\n",
        "\n",
        "# Преобразование входных данных в формат numpy\n",
        "X_train_np = train_input.detach().cpu().numpy()\n",
        "X_test_np = test_input.detach().cpu().numpy()\n",
        "\n",
        "# Преобразование данных обратно в тензоры для SHAP\n",
        "train_tensor = torch.tensor(X_train_np, dtype=torch.float)\n",
        "test_tensor = torch.tensor(X_test_np, dtype=torch.float)\n",
        "\n",
        "# Создаем SHAP объяснитель\n",
        "explainer = shap.GradientExplainer(best_model, train_tensor)\n",
        "\n",
        "# Вычисляем SHAP значения для тестовых данных\n",
        "shap_values = explainer.shap_values(test_tensor)\n",
        "\n",
        "# Преобразуем SHAP значения в numpy array\n",
        "if isinstance(shap_values, list):\n",
        "    shap_values_np = np.array(shap_values[0])  # Используем первый элемент для регрессии\n",
        "else:\n",
        "    shap_values_np = np.array(shap_values)\n",
        "\n",
        "# Проверка размерностей\n",
        "print(\"Shape of SHAP values:\", shap_values_np.shape)\n",
        "print(\"Shape of test data:\", X_test_np.shape)\n",
        "\n",
        "# Если SHAP значения многомерные (samples, features, outputs), усредняем по выходам\n",
        "if shap_values_np.ndim == 3:\n",
        "    shap_values_np = shap_values_np.mean(axis=2)\n",
        "\n",
        "# Определение правильного количества признаков\n",
        "num_features = X_train_np.shape[1]\n",
        "feature_names = [f'Feature {i}' for i in range(num_features)]\n",
        "\n",
        "# Словарь для переименования признаков\n",
        "rename_dict = {\n",
        "    'Feature 0': 'Area to volume ratio',\n",
        "    'Feature 1': 'Maximum field range',\n",
        "    'Feature 2': 'Curie temperature',\n",
        "    'Feature 3': 'Experimental temperature',\n",
        "    'Feature 4': 'Saturation magnetization',\n",
        "    'Feature 5': 'Coercivity',\n",
        "    'Feature 6': 'Remanent magnetization',\n",
        "    'Feature 7': 'Exchange bias shift',\n",
        "    'Feature 8': 'Exchange shift direction',\n",
        "    'Feature 9': 'Vertical shift',\n",
        "    'Feature 10': 'Vertical shift direction',\n",
        "    'Feature 11': 'Magnetic field strength',\n",
        "    'Feature 12': 'Sphericity',\n",
        "    'Feature 13': 'Geometric anisotropy',\n",
        "    'Feature 14': 'Core b lattice parameter',\n",
        "    'Feature 15': 'Core alpha angle',\n",
        "    'Feature 16': 'Core beta angle',\n",
        "    'Feature 17': 'Core gamma angle',\n",
        "    'Feature 18': 'Shell b lattice parameter',\n",
        "    'Feature 19': 'Shell alpha angle',\n",
        "    'Feature 20': 'Shell beta angle',\n",
        "    'Feature 21': 'Shell gamma angle',\n",
        "    'Feature 22': 'Magnetic ion ratio',\n",
        "    'Feature 23': 'Temperature difference',\n",
        "    'Feature 24': 'Exchange stiffness coefficient',\n",
        "    'Feature 25': 'Core lattice ratio с to a',\n",
        "    'Feature 26': 'Pauling electronegativity of core',\n",
        "    'Feature 27': 'Pauling electronegativity of shell',\n",
        "    'Feature 28': 'Valence electron concentration of core',\n",
        "    'Feature 29': 'Work function of core',\n",
        "    'Feature 30': 'Valence electron concentration of shell',\n",
        "    'Feature 31': 'Work function of shell',\n",
        "    'Feature 32': 'Pauling electronegativity difference of core',\n",
        "    'Feature 33': 'Valence electron concentration difference of core',\n",
        "    'Feature 34': 'Work function difference of core',\n",
        "    'Feature 35': 'Pauling electronegativity difference of shell',\n",
        "    'Feature 36': 'Valence electron concentration difference of shell',\n",
        "    'Feature 37': 'Work function difference of shell'\n",
        "}\n",
        "\n",
        "# Переход в режим оценки модели\n",
        "best_model.eval()\n",
        "\n",
        "# Преобразование входных данных в формат numpy\n",
        "X_train_np = train_input.detach().cpu().numpy()\n",
        "X_test_np = test_input.detach().cpu().numpy()\n",
        "\n",
        "# Удаление признака 'Exchange bias shift' (Feature 7)\n",
        "exclude_feature = 'Feature 7'\n",
        "exclude_index = [i for i, feature in enumerate(feature_names) if feature == exclude_feature]\n",
        "\n",
        "if exclude_index:\n",
        "    X_train_np = np.delete(X_train_np, exclude_index, axis=1)  # Удаление из данных\n",
        "    X_test_np = np.delete(X_test_np, exclude_index, axis=1)    # Удаление из тестовых данных\n",
        "\n",
        "# Преобразование данных обратно в тензоры для SHAP\n",
        "train_tensor = torch.tensor(X_train_np, dtype=torch.float)\n",
        "test_tensor = torch.tensor(X_test_np, dtype=torch.float)\n",
        "\n",
        "# Создаем SHAP объяснитель\n",
        "explainer = shap.GradientExplainer(best_model, train_tensor)\n",
        "\n",
        "# Вычисляем SHAP значения для тестовых данных\n",
        "shap_values = explainer.shap_values(test_tensor)\n",
        "\n",
        "# Преобразуем SHAP значения в numpy array\n",
        "if isinstance(shap_values, list):\n",
        "    shap_values_np = np.array(shap_values[0])  # Используем первый элемент для регрессии\n",
        "else:\n",
        "    shap_values_np = np.array(shap_values)\n",
        "\n",
        "# Проверка размерностей\n",
        "print(\"Shape of SHAP values:\", shap_values_np.shape)\n",
        "print(\"Shape of test data:\", X_test_np.shape)\n",
        "\n",
        "# Если SHAP значения многомерные (samples, features, outputs), усредняем по выходам\n",
        "if shap_values_np.ndim == 3:\n",
        "    shap_values_np = shap_values_np.mean(axis=2)\n",
        "\n",
        "# Обновление списка признаков без исключенного признака\n",
        "feature_names_renamed = [rename_dict.get(f, f) for i, f in enumerate(feature_names) if i not in exclude_index]\n",
        "\n",
        "# Проверка корректности длины имен признаков\n",
        "if len(feature_names_renamed) != X_test_np.shape[1]:\n",
        "    raise ValueError(\"The number of renamed features does not match the number of features in the data.\")\n",
        "\n",
        "# Создание фигуры и оси перед построением графика SHAP\n",
        "plt.figure(figsize=(10, 6))\n",
        "\n",
        "# Построение SHAP summary plot с переименованными признаками без 'Exchange bias shift'\n",
        "shap.summary_plot(shap_values_np, X_test_np, feature_names=feature_names_renamed, show=False)\n",
        "\n",
        "# Добавление заголовка через matplotlib\n",
        "plt.title(\"SHAP Summary for KAN\")\n",
        "plt.tight_layout()  # Для предотвращения обрезки графика\n",
        "plt.show()"
      ]
    }
  ],
  "metadata": {
    "accelerator": "TPU",
    "colab": {
      "collapsed_sections": [
        "DpTSPooEbdcE",
        "zOpF8Q1dncqU"
      ],
      "gpuType": "V28",
      "machine_shape": "hm",
      "provenance": []
    },
    "kaggle": {
      "accelerator": "none",
      "dataSources": [
        {
          "datasetId": 14872,
          "sourceId": 228180,
          "sourceType": "datasetVersion"
        }
      ],
      "dockerImageVersionId": 30698,
      "isGpuEnabled": false,
      "isInternetEnabled": true,
      "language": "python",
      "sourceType": "notebook"
    },
    "kernelspec": {
      "display_name": "Python 3",
      "name": "python3"
    },
    "language_info": {
      "codemirror_mode": {
        "name": "ipython",
        "version": 3
      },
      "file_extension": ".py",
      "mimetype": "text/x-python",
      "name": "python",
      "nbconvert_exporter": "python",
      "pygments_lexer": "ipython3",
      "version": "3.10.13"
    },
    "papermill": {
      "default_parameters": {},
      "duration": 82.066781,
      "end_time": "2024-05-15T16:37:05.659495",
      "environment_variables": {},
      "exception": null,
      "input_path": "__notebook__.ipynb",
      "output_path": "__notebook__.ipynb",
      "parameters": {},
      "start_time": "2024-05-15T16:35:43.592714",
      "version": "2.5.0"
    }
  },
  "nbformat": 4,
  "nbformat_minor": 5
}
