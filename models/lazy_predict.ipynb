{
  "cells": [
    {
      "cell_type": "code",
      "execution_count": 3,
      "metadata": {
        "colab": {
          "base_uri": "https://localhost:8080/"
        },
        "id": "0bnS2v2RBgzm",
        "outputId": "b63a43d1-4fa6-4200-9a69-a62a6f76a162"
      },
      "outputs": [
        {
          "name": "stdout",
          "output_type": "stream",
          "text": [
            "Requirement already satisfied: lazypredict in c:\\users\\ксения\\appdata\\local\\programs\\python\\python311\\lib\\site-packages (0.2.12)\n",
            "Requirement already satisfied: click in c:\\users\\ксения\\appdata\\local\\programs\\python\\python311\\lib\\site-packages (from lazypredict) (8.1.7)\n",
            "Requirement already satisfied: scikit-learn in c:\\users\\ксения\\appdata\\local\\programs\\python\\python311\\lib\\site-packages (from lazypredict) (1.4.2)\n",
            "Requirement already satisfied: pandas in c:\\users\\ксения\\appdata\\local\\programs\\python\\python311\\lib\\site-packages (from lazypredict) (1.5.3)\n",
            "Requirement already satisfied: tqdm in c:\\users\\ксения\\appdata\\local\\programs\\python\\python311\\lib\\site-packages (from lazypredict) (4.66.2)\n",
            "Requirement already satisfied: joblib in c:\\users\\ксения\\appdata\\local\\programs\\python\\python311\\lib\\site-packages (from lazypredict) (1.3.2)\n",
            "Requirement already satisfied: lightgbm in c:\\users\\ксения\\appdata\\local\\programs\\python\\python311\\lib\\site-packages (from lazypredict) (4.3.0)\n",
            "Requirement already satisfied: xgboost in c:\\users\\ксения\\appdata\\local\\programs\\python\\python311\\lib\\site-packages (from lazypredict) (2.0.3)\n",
            "Requirement already satisfied: colorama in c:\\users\\ксения\\appdata\\roaming\\python\\python311\\site-packages (from click->lazypredict) (0.4.6)\n",
            "Requirement already satisfied: numpy in c:\\users\\ксения\\appdata\\local\\programs\\python\\python311\\lib\\site-packages (from lightgbm->lazypredict) (1.26.4)\n",
            "Requirement already satisfied: scipy in c:\\users\\ксения\\appdata\\local\\programs\\python\\python311\\lib\\site-packages (from lightgbm->lazypredict) (1.12.0)\n",
            "Requirement already satisfied: python-dateutil>=2.8.1 in c:\\users\\ксения\\appdata\\roaming\\python\\python311\\site-packages (from pandas->lazypredict) (2.9.0.post0)\n",
            "Requirement already satisfied: pytz>=2020.1 in c:\\users\\ксения\\appdata\\local\\programs\\python\\python311\\lib\\site-packages (from pandas->lazypredict) (2023.3)\n",
            "Requirement already satisfied: threadpoolctl>=2.0.0 in c:\\users\\ксения\\appdata\\local\\programs\\python\\python311\\lib\\site-packages (from scikit-learn->lazypredict) (3.3.0)\n",
            "Requirement already satisfied: six>=1.5 in c:\\users\\ксения\\appdata\\local\\programs\\python\\python311\\lib\\site-packages (from python-dateutil>=2.8.1->pandas->lazypredict) (1.16.0)\n"
          ]
        }
      ],
      "source": [
        "!pip install lazypredict"
      ]
    },
    {
      "cell_type": "code",
      "execution_count": 4,
      "metadata": {
        "colab": {
          "base_uri": "https://localhost:8080/"
        },
        "id": "UzjPZqf9BAqh",
        "outputId": "49daf750-4e4e-42c6-e74e-9aa4aa903132"
      },
      "outputs": [
        {
          "ename": "TypeError",
          "evalue": "OneHotEncoder.__init__() got an unexpected keyword argument 'sparse'",
          "output_type": "error",
          "traceback": [
            "\u001b[1;31m---------------------------------------------------------------------------\u001b[0m",
            "\u001b[1;31mTypeError\u001b[0m                                 Traceback (most recent call last)",
            "Cell \u001b[1;32mIn[4], line 3\u001b[0m\n\u001b[0;32m      1\u001b[0m \u001b[38;5;28;01mimport\u001b[39;00m \u001b[38;5;21;01mpandas\u001b[39;00m \u001b[38;5;28;01mas\u001b[39;00m \u001b[38;5;21;01mpd\u001b[39;00m\n\u001b[0;32m      2\u001b[0m \u001b[38;5;28;01mfrom\u001b[39;00m \u001b[38;5;21;01msklearn\u001b[39;00m\u001b[38;5;21;01m.\u001b[39;00m\u001b[38;5;21;01mmodel_selection\u001b[39;00m \u001b[38;5;28;01mimport\u001b[39;00m train_test_split\n\u001b[1;32m----> 3\u001b[0m \u001b[38;5;28;01mfrom\u001b[39;00m \u001b[38;5;21;01mlazypredict\u001b[39;00m\u001b[38;5;21;01m.\u001b[39;00m\u001b[38;5;21;01mSupervised\u001b[39;00m \u001b[38;5;28;01mimport\u001b[39;00m LazyRegressor\n\u001b[0;32m      5\u001b[0m \u001b[38;5;66;03m# Загрузка данных\u001b[39;00m\n\u001b[0;32m      6\u001b[0m df \u001b[38;5;241m=\u001b[39m pd\u001b[38;5;241m.\u001b[39mread_csv(\u001b[38;5;124mr\u001b[39m\u001b[38;5;124m'\u001b[39m\u001b[38;5;124mC:\u001b[39m\u001b[38;5;124m\\\u001b[39m\u001b[38;5;124mUsers\u001b[39m\u001b[38;5;124m\\\u001b[39m\u001b[38;5;124mКсения\u001b[39m\u001b[38;5;124m\\\u001b[39m\u001b[38;5;124mProject\u001b[39m\u001b[38;5;124m\\\u001b[39m\u001b[38;5;124mMagnet_Exchange_bias\u001b[39m\u001b[38;5;124m\\\u001b[39m\u001b[38;5;124mdata\u001b[39m\u001b[38;5;124m\\\u001b[39m\u001b[38;5;124mBias_data_3.csv\u001b[39m\u001b[38;5;124m'\u001b[39m)\n",
            "File \u001b[1;32mc:\\Users\\Ксения\\AppData\\Local\\Programs\\Python\\Python311\\Lib\\site-packages\\lazypredict\\Supervised.py:98\u001b[0m\n\u001b[0;32m     89\u001b[0m \u001b[38;5;66;03m# CLASSIFIERS.append(('CatBoostClassifier',catboost.CatBoostClassifier))\u001b[39;00m\n\u001b[0;32m     91\u001b[0m numeric_transformer \u001b[38;5;241m=\u001b[39m Pipeline(\n\u001b[0;32m     92\u001b[0m     steps\u001b[38;5;241m=\u001b[39m[(\u001b[38;5;124m\"\u001b[39m\u001b[38;5;124mimputer\u001b[39m\u001b[38;5;124m\"\u001b[39m, SimpleImputer(strategy\u001b[38;5;241m=\u001b[39m\u001b[38;5;124m\"\u001b[39m\u001b[38;5;124mmean\u001b[39m\u001b[38;5;124m\"\u001b[39m)), (\u001b[38;5;124m\"\u001b[39m\u001b[38;5;124mscaler\u001b[39m\u001b[38;5;124m\"\u001b[39m, StandardScaler())]\n\u001b[0;32m     93\u001b[0m )\n\u001b[0;32m     95\u001b[0m categorical_transformer_low \u001b[38;5;241m=\u001b[39m Pipeline(\n\u001b[0;32m     96\u001b[0m     steps\u001b[38;5;241m=\u001b[39m[\n\u001b[0;32m     97\u001b[0m         (\u001b[38;5;124m\"\u001b[39m\u001b[38;5;124mimputer\u001b[39m\u001b[38;5;124m\"\u001b[39m, SimpleImputer(strategy\u001b[38;5;241m=\u001b[39m\u001b[38;5;124m\"\u001b[39m\u001b[38;5;124mconstant\u001b[39m\u001b[38;5;124m\"\u001b[39m, fill_value\u001b[38;5;241m=\u001b[39m\u001b[38;5;124m\"\u001b[39m\u001b[38;5;124mmissing\u001b[39m\u001b[38;5;124m\"\u001b[39m)),\n\u001b[1;32m---> 98\u001b[0m         (\u001b[38;5;124m\"\u001b[39m\u001b[38;5;124mencoding\u001b[39m\u001b[38;5;124m\"\u001b[39m, \u001b[43mOneHotEncoder\u001b[49m\u001b[43m(\u001b[49m\u001b[43mhandle_unknown\u001b[49m\u001b[38;5;241;43m=\u001b[39;49m\u001b[38;5;124;43m\"\u001b[39;49m\u001b[38;5;124;43mignore\u001b[39;49m\u001b[38;5;124;43m\"\u001b[39;49m\u001b[43m,\u001b[49m\u001b[43m \u001b[49m\u001b[43msparse\u001b[49m\u001b[38;5;241;43m=\u001b[39;49m\u001b[38;5;28;43;01mFalse\u001b[39;49;00m\u001b[43m)\u001b[49m),\n\u001b[0;32m     99\u001b[0m     ]\n\u001b[0;32m    100\u001b[0m )\n\u001b[0;32m    102\u001b[0m categorical_transformer_high \u001b[38;5;241m=\u001b[39m Pipeline(\n\u001b[0;32m    103\u001b[0m     steps\u001b[38;5;241m=\u001b[39m[\n\u001b[0;32m    104\u001b[0m         (\u001b[38;5;124m\"\u001b[39m\u001b[38;5;124mimputer\u001b[39m\u001b[38;5;124m\"\u001b[39m, SimpleImputer(strategy\u001b[38;5;241m=\u001b[39m\u001b[38;5;124m\"\u001b[39m\u001b[38;5;124mconstant\u001b[39m\u001b[38;5;124m\"\u001b[39m, fill_value\u001b[38;5;241m=\u001b[39m\u001b[38;5;124m\"\u001b[39m\u001b[38;5;124mmissing\u001b[39m\u001b[38;5;124m\"\u001b[39m)),\n\u001b[1;32m   (...)\u001b[0m\n\u001b[0;32m    107\u001b[0m     ]\n\u001b[0;32m    108\u001b[0m )\n\u001b[0;32m    111\u001b[0m \u001b[38;5;66;03m# Helper function\u001b[39;00m\n",
            "\u001b[1;31mTypeError\u001b[0m: OneHotEncoder.__init__() got an unexpected keyword argument 'sparse'"
          ]
        }
      ],
      "source": [
        "import pandas as pd\n",
        "from sklearn.model_selection import train_test_split\n",
        "from lazypredict.Supervised import LazyRegressor\n",
        "\n",
        "# Загрузка данных\n",
        "df = pd.read_csv('Bias_data_3.csv')\n",
        "\n",
        "# Разделение на признаки и целевую переменную\n",
        "X = df.drop(columns=['exc_bias_oe'])  # Признаки\n",
        "y = df['exc_bias_oe']  # Целевая переменная\n",
        "\n",
        "# Разделение данных на обучающий и тестовый наборы\n",
        "X_train, X_test, y_train, y_test = train_test_split(X, y, test_size=0.2, random_state=42)\n",
        "\n",
        "# Создание LazyRegressor\n",
        "reg = LazyRegressor(predictions=True)\n",
        "\n",
        "# Обучение и тестирование моделей\n",
        "models, predictions = reg.fit(X_train, X_test, y_train, y_test)\n",
        "\n",
        "# Вывод всех метрик для каждой модели\n",
        "print(models)"
      ]
    }
  ],
  "metadata": {
    "colab": {
      "provenance": []
    },
    "kernelspec": {
      "display_name": "Python 3",
      "name": "python3"
    },
    "language_info": {
      "codemirror_mode": {
        "name": "ipython",
        "version": 3
      },
      "file_extension": ".py",
      "mimetype": "text/x-python",
      "name": "python",
      "nbconvert_exporter": "python",
      "pygments_lexer": "ipython3",
      "version": "3.11.4"
    }
  },
  "nbformat": 4,
  "nbformat_minor": 0
}
