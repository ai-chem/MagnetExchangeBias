{
 "cells": [
  {
   "cell_type": "code",
   "execution_count": null,
   "metadata": {},
   "outputs": [],
   "source": [
    "import pandas as pd\n",
    "import numpy as np \n",
    "import matplotlib.pyplot as plt\n",
    "import seaborn as sns"
   ]
  },
  {
   "cell_type": "code",
   "execution_count": null,
   "metadata": {},
   "outputs": [],
   "source": [
    "from lazypredict.Supervised import LazyRegressor "
   ]
  },
  {
   "cell_type": "code",
   "execution_count": null,
   "metadata": {},
   "outputs": [],
   "source": [
    "df = pd.read_csv(r'C:\\Users\\Ксения\\Project\\Magnet_Exchange_bias\\data\\Bias_data_3.csv')"
   ]
  },
  {
   "cell_type": "code",
   "execution_count": null,
   "metadata": {},
   "outputs": [],
   "source": [
    "X = df.drop('exc_bias_oe', axis=1)  #Без целевой переменной\n",
    "y = df['exc_bias_oe']  #Целевая переменная"
   ]
  },
  {
   "cell_type": "code",
   "execution_count": null,
   "metadata": {},
   "outputs": [],
   "source": [
    "offset = int(X.shape[0] * 0.9) "
   ]
  },
  {
   "cell_type": "code",
   "execution_count": null,
   "metadata": {},
   "outputs": [],
   "source": [
    "# splitting dataset into training and testing part \n",
    "X_train, y_train = X[:offset], y[:offset] \n",
    "X_test, y_test = X[offset:], y[offset:] "
   ]
  },
  {
   "cell_type": "code",
   "execution_count": null,
   "metadata": {},
   "outputs": [],
   "source": [
    "# fitting data in LazyRegressor because \n",
    "# here we are solving Regression use case. \n",
    "reg = LazyRegressor(verbose=0, \n",
    "                    ignore_warnings=False, \n",
    "                    custom_metric=None) \n",
    "  \n",
    "# fitting data in LazyClassifier \n",
    "models, predictions = reg.fit(X_train, X_test, \n",
    "                              y_train, y_test) \n",
    "# lets check which model did better \n",
    "# on Breast Cancer Dataset \n",
    "print(models)"
   ]
  }
 ],
 "metadata": {
  "language_info": {
   "name": "python"
  }
 },
 "nbformat": 4,
 "nbformat_minor": 2
}
